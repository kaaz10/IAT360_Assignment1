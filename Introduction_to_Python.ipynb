{
  "cells": [
    {
      "cell_type": "markdown",
      "metadata": {
        "id": "view-in-github",
        "colab_type": "text"
      },
      "source": [
        "<a href=\"https://colab.research.google.com/github/kaaz10/IAT360_Assignment1/blob/assignmentBranch/Introduction_to_Python.ipynb\" target=\"_parent\"><img src=\"https://colab.research.google.com/assets/colab-badge.svg\" alt=\"Open In Colab\"/></a>"
      ]
    },
    {
      "cell_type": "markdown",
      "metadata": {
        "id": "3RLWbzicyOkq"
      },
      "source": [
        "# PYTHON INTRODUCTION"
      ]
    },
    {
      "cell_type": "markdown",
      "metadata": {
        "id": "KW4zlFXUyOku"
      },
      "source": [
        "#                                                      Table Of Content\n",
        "1.introdution\n",
        "\n",
        "     1.1 What is Python\n",
        "     \n",
        "2.Data types\n",
        "\n",
        "     2.1 variables\n",
        "     2.2 Numbers\n",
        "     2.3 Strings\n",
        "     2.4 Lists\n",
        "     2.5 Dictionaries\n",
        "     2.6 Tuples\n",
        "     2.7 Sets\n",
        "   \n",
        "3.Comparison operators\n",
        "\n",
        "4.If-Else statement\n",
        "\n",
        "5.For Loop and While loop\n",
        "\n",
        "6.Functions\n",
        "\n",
        "7.Lambda functions\n",
        "\n",
        "     7.1 Map()\n",
        "     7.2 Filter()\n",
        "   \n",
        "8.File I/O\n",
        "\n",
        "9.Pandas liberary introduction\n",
        "\n",
        "10.Series\n",
        "\n",
        "     10.1 From ndarray\n",
        "     10.2 From dict\n",
        "     10.3 From scalar value\n",
        "     10.4 Series is ndarray-like\n",
        "     10.5 Series is dict-like\n",
        "     10.6 Vectorized operations and label alignment with series\n",
        "   \n",
        "11.Data frames\n",
        "\n",
        "     11.1 From dict of series or dicts\n",
        "     11.2 from dict of ndarrays/lists\n",
        "     11.3 from a list of dicts\n",
        "     11.4 from a list of tuples\n",
        "     11.5 Alternate constructors\n",
        "     11.6 Column selection, addition, deletion\n",
        "     11.7 Indexing/ selection\n",
        "     11.8 Data alignment\n",
        "     11.9 transposing"
      ]
    },
    {
      "cell_type": "markdown",
      "metadata": {
        "id": "_s8vd6dxyOkw"
      },
      "source": [
        "# 1. Introduction\n"
      ]
    },
    {
      "cell_type": "markdown",
      "metadata": {
        "id": "v2VMxdlcyOkw"
      },
      "source": [
        "## 1.1 What is python"
      ]
    },
    {
      "cell_type": "markdown",
      "metadata": {
        "id": "8Exauf5MyOkx"
      },
      "source": [
        "Guido Van Rossum developed the Python language in the late 1980s. In contrast to other popular languages such as C, C++, Java, and C#, Python strives to provide a simple but powerful syntax.It is open source general purpose language with great interactive environment.It provides all the three types of programming features Object Oriented, Procedural and Functional.It is used by many of the most highly productive professional programmers.Moreover, Python can also become a common language for production of web based analytics product. A few of the places that use Python extensively are Google, the New York Stock Exchange, Industrial Light,Magic etc.\n",
        "#### Important features of Python:\n",
        " -  Built-in high level data types: strings, lists, dictionaries, etc.\n",
        " -  The usual control structures: if, if-else, if-elif-else, while, plus a powerful collection iterator (for).\n",
        " -  Multiple levels of organizational structure: functions, classes, modules, and  packages. These assist in organizing code. An excellent and large example is the Python standard library.\n",
        " - Compile on the fly to byte code -- Source code is compiled to byte code without a separate compile step. Source code modules can also be \"pre-compiled\" to byte code files.\n",
        " - Object-oriented -- Python provides a consistent way to use objects: everything is an object. And, in Python it is easy to implement new object types (called classes in object-oriented programming).\n",
        " - Extensions in C and C++ -- Extension modules and extension types can be written by hand. There are also tools that help with this, for example, SWIG, sip, Pyrex"
      ]
    },
    {
      "cell_type": "markdown",
      "metadata": {
        "id": "NaPiQDs3yOky"
      },
      "source": [
        "# 2. Data types"
      ]
    },
    {
      "cell_type": "markdown",
      "metadata": {
        "id": "5-uDSw6jyOky"
      },
      "source": [
        "There are various data types in Python. Some of the important types are listed below."
      ]
    },
    {
      "cell_type": "markdown",
      "metadata": {
        "id": "2sUB9HS2yOky"
      },
      "source": [
        "## 2.1 Variables"
      ]
    },
    {
      "cell_type": "markdown",
      "metadata": {
        "id": "8F8pyh4XyOkz"
      },
      "source": [
        " - Python variables do not need explicit declaration to reserve memory space.\n",
        " - The declaration happens automatically when you assign a value to a variable.\n",
        " - The equal sign = is used to assign values to variables.\n",
        "  \n",
        "  Some examples are given as follows:"
      ]
    },
    {
      "cell_type": "code",
      "execution_count": null,
      "metadata": {
        "id": "E8eBm4tQyOkz",
        "outputId": "645bc7cf-2777-44b5-8d84-c08f8af62e6d",
        "colab": {
          "base_uri": "https://localhost:8080/"
        }
      },
      "outputs": [
        {
          "output_type": "stream",
          "name": "stdout",
          "text": [
            "71449.29000000001\n",
            "120\n",
            "32076.0\n",
            "Karanjit Singh, IAT 360\n",
            "Exploring Artificial Intelligence\n",
            "60.25\n",
            "27.829045643153524\n"
          ]
        }
      ],
      "source": [
        "#Changed the variables to something different\n",
        "#Also changed the calculations in print section\n",
        "\n",
        "area = 267.30  #float type variable\n",
        "Distance = 120 #integer type variabe\n",
        "name = 'Karanjit Singh, IAT 360' #string type variable\n",
        "x = \"Exploring Artificial Intelligence\"\n",
        "y = 12.05\n",
        "z = 167.67 #added an z variable\n",
        "\n",
        "#print all values\n",
        "print(area*area) #changed area to area*area here\n",
        "print(Distance)\n",
        "print(Distance*area) #added this to multiply distance and area\n",
        "print(name)\n",
        "print(x)\n",
        "print(y+y+y+y+y) #changed this to add multiple instances of y\n",
        "print ((z+z)/y) #added an arthematic function"
      ]
    },
    {
      "cell_type": "markdown",
      "metadata": {
        "id": "zpsVx_N_yOk2"
      },
      "source": [
        "## 2.2 Numbers"
      ]
    },
    {
      "cell_type": "markdown",
      "metadata": {
        "id": "dZuFsFyVyOk2"
      },
      "source": [
        " - This data type store numeric values\n",
        " - Numbers are immutable data types (Immutable data types means values cannot be changed after it is created)\n",
        "\n",
        "  Some examples are given as follows:"
      ]
    },
    {
      "cell_type": "code",
      "execution_count": null,
      "metadata": {
        "id": "wWSaGwfzyOk2",
        "outputId": "fb3dbb66-5d74-44cc-c523-976d4299a7f7",
        "colab": {
          "base_uri": "https://localhost:8080/"
        }
      },
      "outputs": [
        {
          "output_type": "execute_result",
          "data": {
            "text/plain": [
              "5"
            ]
          },
          "metadata": {},
          "execution_count": 1
        }
      ],
      "source": [
        "5 #integer"
      ]
    },
    {
      "cell_type": "code",
      "execution_count": null,
      "metadata": {
        "id": "f_JTKqeFyOk2",
        "outputId": "5397f535-54b3-4cc8-80a3-1113fb981025"
      },
      "outputs": [
        {
          "data": {
            "text/plain": [
              "20"
            ]
          },
          "execution_count": 7,
          "metadata": {},
          "output_type": "execute_result"
        }
      ],
      "source": [
        "10+10 #integer"
      ]
    },
    {
      "cell_type": "code",
      "execution_count": null,
      "metadata": {
        "id": "8bx_9PUsyOk2",
        "outputId": "6e773513-f214-40f0-9b4a-c002727a9bdf"
      },
      "outputs": [
        {
          "data": {
            "text/plain": [
              "11.0"
            ]
          },
          "execution_count": 8,
          "metadata": {},
          "output_type": "execute_result"
        }
      ],
      "source": [
        "5.5+5.5 #float"
      ]
    },
    {
      "cell_type": "code",
      "execution_count": null,
      "metadata": {
        "id": "A2LEGhsVyOk3",
        "outputId": "cb7a4716-96e3-4278-cf21-cc2ed92a06eb"
      },
      "outputs": [
        {
          "data": {
            "text/plain": [
              "25"
            ]
          },
          "execution_count": 1,
          "metadata": {},
          "output_type": "execute_result"
        }
      ],
      "source": [
        "5**2 #exponent"
      ]
    },
    {
      "cell_type": "markdown",
      "metadata": {
        "id": "6v9gnHCcyOk3"
      },
      "source": [
        "## 2.3 Strings"
      ]
    },
    {
      "cell_type": "markdown",
      "metadata": {
        "id": "vGl89d8HyOk3"
      },
      "source": [
        " - Strings in Python are identified as a contiguous set of characters represented in the quotation marks.\n",
        " - Python allows either pair of single or double quotes.\n",
        " - Strings are immutable.\n",
        " - Python doesn't support Char data type.It will beas string of length one in python."
      ]
    },
    {
      "cell_type": "code",
      "execution_count": null,
      "metadata": {
        "id": "8wLxfAHfyOk3",
        "outputId": "c34a66bf-2891-4fe9-e3b8-0794b927b750",
        "colab": {
          "base_uri": "https://localhost:8080/"
        }
      },
      "outputs": [
        {
          "output_type": "stream",
          "name": "stdout",
          "text": [
            "Karanjit Singh IAT 360: Exploring Artificial Intelligence\n"
          ]
        }
      ],
      "source": [
        "#Added the strings here\n",
        "\n",
        "Course=\"IAT 360: Exploring Artificial Intelligence\"\n",
        "name='Karanjit Singh'\n",
        "print(name, Course)"
      ]
    },
    {
      "cell_type": "markdown",
      "metadata": {
        "id": "eqef1cE5yOk5"
      },
      "source": [
        "### Access values in strings"
      ]
    },
    {
      "cell_type": "markdown",
      "metadata": {
        "id": "32M-NFv5yOk5"
      },
      "source": [
        " - we can access a specific character or range of characters from strings.\n",
        " - Subsets of strings can be taken using the slice operator [] and [:] with indexes starting from 0.\n",
        "\n",
        " Some examples are listed below:"
      ]
    },
    {
      "cell_type": "code",
      "execution_count": null,
      "metadata": {
        "scrolled": true,
        "id": "Dj9IGB6FyOk5",
        "outputId": "121a0552-1478-42a0-a99c-91146158c359",
        "colab": {
          "base_uri": "https://localhost:8080/"
        }
      },
      "outputs": [
        {
          "output_type": "stream",
          "name": "stdout",
          "text": [
            "stringVariable[0]:  \n",
            "stringVariable[1:5]: is is my \n"
          ]
        }
      ],
      "source": [
        "#Changed the arrays here for assignment\n",
        "\n",
        "stringVariable = 'Hello this is my Assignment 1'\n",
        "print(\"stringVariable[0]:\", stringVariable[10])\n",
        "print(\"stringVariable[1:5]:\", stringVariable[8:17])"
      ]
    },
    {
      "cell_type": "markdown",
      "metadata": {
        "id": "kY4lddAsyOk8"
      },
      "source": [
        "### Updating string"
      ]
    },
    {
      "cell_type": "markdown",
      "metadata": {
        "id": "MiuqdFMdyOk8"
      },
      "source": [
        " - Value of string can be changed or updated by assigning a new value to it.\n",
        " - New value must have same data type as previous value.\n",
        " - For this purpose '+' operator is used as follows:"
      ]
    },
    {
      "cell_type": "code",
      "execution_count": null,
      "metadata": {
        "id": "iH-oj2WnyOk8",
        "outputId": "32820d7f-a8c7-4537-edaf-2eead4d41d33",
        "colab": {
          "base_uri": "https://localhost:8080/"
        }
      },
      "outputs": [
        {
          "output_type": "stream",
          "name": "stdout",
          "text": [
            "updated string: Hello this is Karan\n"
          ]
        }
      ],
      "source": [
        "#Made changes here\n",
        "\n",
        "stringVariable =\"Hello this is Name \"\n",
        "stringVariable = stringVariable[:14]+\"Karan\"\n",
        "\n",
        "print(\"updated string:\",stringVariable)"
      ]
    },
    {
      "cell_type": "markdown",
      "metadata": {
        "id": "aCwtHYHJyOlK"
      },
      "source": [
        "### Delete string"
      ]
    },
    {
      "cell_type": "markdown",
      "metadata": {
        "id": "qsK---xLyOlK"
      },
      "source": [
        " - we can delete the value of string by just deleteing its object.\n",
        " - 'del' keyword is used for this purpose\n",
        "\n",
        "  It would be cleared by using following example:"
      ]
    },
    {
      "cell_type": "code",
      "execution_count": null,
      "metadata": {
        "id": "c-nfHs95yOlL",
        "colab": {
          "base_uri": "https://localhost:8080/",
          "height": 201
        },
        "outputId": "73d784f3-187c-4dfb-ea6d-fb8ba9eb80e3"
      },
      "outputs": [
        {
          "output_type": "stream",
          "name": "stdout",
          "text": [
            "Hello World \n"
          ]
        },
        {
          "output_type": "error",
          "ename": "NameError",
          "evalue": "name 'stringVariable' is not defined",
          "traceback": [
            "\u001b[0;31m---------------------------------------------------------------------------\u001b[0m",
            "\u001b[0;31mNameError\u001b[0m                                 Traceback (most recent call last)",
            "\u001b[0;32m<ipython-input-1-56f0239f5e96>\u001b[0m in \u001b[0;36m<cell line: 4>\u001b[0;34m()\u001b[0m\n\u001b[1;32m      2\u001b[0m \u001b[0mprint\u001b[0m\u001b[0;34m(\u001b[0m\u001b[0mstringVariable\u001b[0m\u001b[0;34m)\u001b[0m\u001b[0;34m\u001b[0m\u001b[0;34m\u001b[0m\u001b[0m\n\u001b[1;32m      3\u001b[0m \u001b[0;32mdel\u001b[0m \u001b[0mstringVariable\u001b[0m\u001b[0;34m\u001b[0m\u001b[0;34m\u001b[0m\u001b[0m\n\u001b[0;32m----> 4\u001b[0;31m \u001b[0mprint\u001b[0m\u001b[0;34m(\u001b[0m\u001b[0mstringVariable\u001b[0m\u001b[0;34m)\u001b[0m\u001b[0;34m\u001b[0m\u001b[0;34m\u001b[0m\u001b[0m\n\u001b[0m",
            "\u001b[0;31mNameError\u001b[0m: name 'stringVariable' is not defined"
          ]
        }
      ],
      "source": [
        "stringVariable =\"Hello World \"\n",
        "print(stringVariable)\n",
        "del stringVariable\n",
        "print(stringVariable)"
      ]
    },
    {
      "cell_type": "markdown",
      "metadata": {
        "id": "--zQSMqnyOlM"
      },
      "source": [
        "### String special operators"
      ]
    },
    {
      "cell_type": "markdown",
      "metadata": {
        "id": "JTw5LIEDyOlM"
      },
      "source": [
        " - some special operators are used in Python to perform different opertions.\n",
        "   These are given below:"
      ]
    },
    {
      "cell_type": "markdown",
      "metadata": {
        "id": "ZDWY9NWayOlM"
      },
      "source": [
        "#### String Concatenation"
      ]
    },
    {
      "cell_type": "markdown",
      "metadata": {
        "id": "HmXTQtg_yOlM"
      },
      "source": [
        " - To concatenate the strings we used '+' operator.\n",
        "\n",
        "    Following are the examples of concatenation:"
      ]
    },
    {
      "cell_type": "code",
      "execution_count": null,
      "metadata": {
        "id": "WAXp8WX0yOlM",
        "outputId": "89075f1c-a471-48df-fa79-f080a6810649",
        "colab": {
          "base_uri": "https://localhost:8080/"
        }
      },
      "outputs": [
        {
          "output_type": "stream",
          "name": "stdout",
          "text": [
            "artificialIntelligence\n"
          ]
        }
      ],
      "source": [
        "#More changes made in strings\n",
        "\n",
        "stringvalue1=\"artificial\"\n",
        "stringvalue2=\"Intelligence\"\n",
        "print(stringvalue1+stringvalue2)"
      ]
    },
    {
      "cell_type": "markdown",
      "metadata": {
        "id": "AE6msJFZyOlN"
      },
      "source": [
        "#### Repitition"
      ]
    },
    {
      "cell_type": "markdown",
      "metadata": {
        "id": "rjLNa7_zyOlN"
      },
      "source": [
        " - '*' symbol is used for repitition.\n"
      ]
    },
    {
      "cell_type": "code",
      "execution_count": null,
      "metadata": {
        "id": "t_TsnG11yOlN",
        "outputId": "9d892afc-d9f6-40d0-f2cf-59410debec9a"
      },
      "outputs": [
        {
          "name": "stdout",
          "output_type": "stream",
          "text": [
            "AssignmentAssignment\n"
          ]
        }
      ],
      "source": [
        "stringvalue=\"Assignment\"\n",
        "print(stringvalue*2)"
      ]
    },
    {
      "cell_type": "markdown",
      "metadata": {
        "id": "ed-Q8jjgyOlO"
      },
      "source": [
        "#### Use of [] symbol"
      ]
    },
    {
      "cell_type": "markdown",
      "metadata": {
        "id": "EEBLbGELyOlO"
      },
      "source": [
        " - '[]'symbol give the character of string at given index."
      ]
    },
    {
      "cell_type": "code",
      "execution_count": null,
      "metadata": {
        "id": "QBhDsT2DyOlO"
      },
      "outputs": [],
      "source": [
        "Stringvalue=\"Machine Learning\"\n",
        "print(Stringvalue[1])"
      ]
    },
    {
      "cell_type": "markdown",
      "metadata": {
        "id": "bRaaJ78ryOlP"
      },
      "source": [
        "#### Use of [:] symbol"
      ]
    },
    {
      "cell_type": "markdown",
      "metadata": {
        "id": "6RSaZEKWyOlP"
      },
      "source": [
        " - [:] is used to get substring from string."
      ]
    },
    {
      "cell_type": "code",
      "execution_count": null,
      "metadata": {
        "id": "PizhfzMPyOlP",
        "colab": {
          "base_uri": "https://localhost:8080/"
        },
        "outputId": "180e3a2a-5d7a-43dd-bc07-d459d6687852"
      },
      "outputs": [
        {
          "output_type": "stream",
          "name": "stdout",
          "text": [
            "el\n"
          ]
        }
      ],
      "source": [
        "stringvalue=\"Hello\"\n",
        "print(stringvalue [1:3])"
      ]
    },
    {
      "cell_type": "markdown",
      "metadata": {
        "id": "ZCie1YcEyOlP"
      },
      "source": [
        "#### use of 'in'"
      ]
    },
    {
      "cell_type": "markdown",
      "metadata": {
        "id": "SRMzod_jyOlP"
      },
      "source": [
        " - 'in' is used to check the existance of character in string.\n",
        " - It returns TRUE if given character exist in string,otherwise FALSE."
      ]
    },
    {
      "cell_type": "code",
      "execution_count": null,
      "metadata": {
        "id": "KZNyAeykyOlP",
        "outputId": "8a4d4738-565d-4050-f0d5-5d9f2a31febc",
        "colab": {
          "base_uri": "https://localhost:8080/"
        }
      },
      "outputs": [
        {
          "output_type": "stream",
          "name": "stdout",
          "text": [
            "True\n"
          ]
        }
      ],
      "source": [
        "Stringvalue=\"Hello\"\n",
        "print('H' in Stringvalue)"
      ]
    },
    {
      "cell_type": "markdown",
      "metadata": {
        "id": "HVyoI3btyOlQ"
      },
      "source": [
        "#### Use of \"not in\""
      ]
    },
    {
      "cell_type": "markdown",
      "metadata": {
        "id": "ie9L4KLsyOlQ"
      },
      "source": [
        " - 'not in' returns true if given character is not in string,otherwise false."
      ]
    },
    {
      "cell_type": "code",
      "execution_count": null,
      "metadata": {
        "id": "dWQS-Q2VyOlQ",
        "outputId": "2a20eb29-78aa-43c4-f54e-ab559b41ce4e",
        "colab": {
          "base_uri": "https://localhost:8080/"
        }
      },
      "outputs": [
        {
          "output_type": "stream",
          "name": "stdout",
          "text": [
            "True\n"
          ]
        }
      ],
      "source": [
        "Stringvalue=\"Hello\"\n",
        "print('G' not in Stringvalue)"
      ]
    },
    {
      "cell_type": "markdown",
      "metadata": {
        "id": "kFeZvcbuyOlR"
      },
      "source": [
        "### String formatting operator"
      ]
    },
    {
      "cell_type": "markdown",
      "metadata": {
        "id": "9qUmlcGGyOlR"
      },
      "source": [
        " - Python uses C-style string formatting to create new, formatted strings.\n",
        " - The \"%\" operator is used to format in print statement.\n",
        "\n",
        "See following examples:"
      ]
    },
    {
      "cell_type": "code",
      "execution_count": null,
      "metadata": {
        "id": "zJWusS3QyOlR",
        "outputId": "b22b4016-e2ea-4fd1-b4ca-f053548fb5bc",
        "colab": {
          "base_uri": "https://localhost:8080/"
        }
      },
      "outputs": [
        {
          "output_type": "stream",
          "name": "stdout",
          "text": [
            "My name is Sara and weight is 21 kg!\n"
          ]
        }
      ],
      "source": [
        "print(\"My name is %s and weight is %d kg!\" % (\"Sara\", 21))\n"
      ]
    },
    {
      "cell_type": "markdown",
      "metadata": {
        "id": "cUZC1emnyOlS"
      },
      "source": [
        "## 2.4 Lists"
      ]
    },
    {
      "cell_type": "markdown",
      "metadata": {
        "id": "td4qbX-wyOlS"
      },
      "source": [
        " - Multiple types of data can be stored in a list.\n",
        " - A list contains items separated by commas and enclosed within square brackets [].\n",
        " - Individual elements of a list can be changed\n",
        " - list indices start with 0 just like arrays.\n",
        "\n"
      ]
    },
    {
      "cell_type": "code",
      "execution_count": null,
      "metadata": {
        "id": "1aorf0TnyOlS",
        "outputId": "a744913c-332d-4ae2-f0a1-855d1c9f9cf0",
        "colab": {
          "base_uri": "https://localhost:8080/"
        }
      },
      "outputs": [
        {
          "output_type": "stream",
          "name": "stdout",
          "text": [
            "['Karanjit Singh', 2001]\n",
            "['Artificial Intelligence', 360]\n"
          ]
        }
      ],
      "source": [
        "#Changes names and year here\n",
        "#added list 2\n",
        "\n",
        "list1 = [ 'Karanjit Singh', 2001 ]\n",
        "list2 = ['Artificial Intelligence', 360 ]\n",
        "\n",
        "print(list1) # Prints complete list\n",
        "print(list2)\n"
      ]
    },
    {
      "cell_type": "markdown",
      "metadata": {
        "id": "qg3VSu0-yOlT"
      },
      "source": [
        "### Accessing values in list"
      ]
    },
    {
      "cell_type": "markdown",
      "metadata": {
        "id": "ba1xEH-EyOlU"
      },
      "source": [
        " - Square brackets are used to access the values of a list\n",
        " - We can access specific values or range of values from a list"
      ]
    },
    {
      "cell_type": "code",
      "execution_count": null,
      "metadata": {
        "id": "ZqFEZAgMyOlU",
        "outputId": "d18179f9-97a7-42fc-c54b-5e825414171e",
        "colab": {
          "base_uri": "https://localhost:8080/"
        }
      },
      "outputs": [
        {
          "output_type": "stream",
          "name": "stdout",
          "text": [
            "list1[0]:  Physics\n",
            "list2[1:5]:  [2, 3, 4, 5]\n",
            "list3[3]:  360\n",
            "list4[4:6]:  [5, 6]\n"
          ]
        }
      ],
      "source": [
        "list1 = [ 'Physics' , 'Chemistry' , 1857, 3290]\n",
        "list2 = [1,2,3,4,5,6,7]\n",
        "\n",
        "print(\"list1[0]: \", list1[0])\n",
        "print(\"list2[1:5]: \", list2[1:5])\n",
        "\n",
        "#added list 3 and list 4\n",
        "list3 = [ 'IAT' , 'SIAT' , 2024, 360]\n",
        "list4 = [1,2,3,4,5,6,7]\n",
        "\n",
        "print(\"list3[3]: \", list3[3])\n",
        "print(\"list4[4:6]: \", list4[4:6])"
      ]
    },
    {
      "cell_type": "markdown",
      "metadata": {
        "id": "Lof40-tKyOlU"
      },
      "source": [
        "### Updating list"
      ]
    },
    {
      "cell_type": "markdown",
      "metadata": {
        "id": "tWr_3OKlyOlU"
      },
      "source": [
        " - Value of string can be changed or updated by assigning a new value to it.\n",
        " - we can update single or multiple elements of a list by giving slice on left hand of the assignment operator.\n",
        " - we can also update list by using append() function."
      ]
    },
    {
      "cell_type": "code",
      "execution_count": null,
      "metadata": {
        "id": "Mhd3MxO7yOlU",
        "colab": {
          "base_uri": "https://localhost:8080/"
        },
        "outputId": "91d86da8-c52f-4b8f-fec5-948fa48f8011"
      },
      "outputs": [
        {
          "output_type": "stream",
          "name": "stdout",
          "text": [
            "['dell', 'samsung', 'Apple']\n",
            "['dell', 'samsung', 'Apple', 'acer']\n"
          ]
        }
      ],
      "source": [
        "list1=[\"dell\",\"Hp\",\"Apple\"]\n",
        "list1[1]=\"samsung\"\n",
        "print(list1)\n",
        "\n",
        "list1.append('acer')\n",
        "print(list1)"
      ]
    },
    {
      "cell_type": "markdown",
      "metadata": {
        "id": "QnQXtbcvyOlV"
      },
      "source": [
        "### Delete List Element"
      ]
    },
    {
      "cell_type": "markdown",
      "metadata": {
        "id": "ljz5hJNsyOlV"
      },
      "source": [
        "- we can delete the element of list by using del keyword or remove()function.\n",
        "- 'del' keyword is used when you know the position or index of element to be deleted.\n",
        "- remove() function can be used when you don't know the postion of element to be removed.\n",
        "\n",
        "  It would be cleared by using following example:"
      ]
    },
    {
      "cell_type": "code",
      "execution_count": null,
      "metadata": {
        "id": "Ird_FwvGyOlV",
        "outputId": "6c9dbdb8-8033-4f07-cc1c-5a7cc3c6f572",
        "colab": {
          "base_uri": "https://localhost:8080/"
        }
      },
      "outputs": [
        {
          "output_type": "stream",
          "name": "stdout",
          "text": [
            "['dell', 'Hp', 'Apple']\n",
            "After deleting the value \n",
            "['dell', 'Apple']\n"
          ]
        }
      ],
      "source": [
        "list1=[\"dell\",\"Hp\",\"Apple\"]\n",
        "print(list1) # Prints complete list\n",
        "del list1[1]\n",
        "print(\"After deleting the value \")\n",
        "print(list1)"
      ]
    },
    {
      "cell_type": "code",
      "execution_count": null,
      "metadata": {
        "id": "r1XKQfqByOlW",
        "colab": {
          "base_uri": "https://localhost:8080/"
        },
        "outputId": "7bb08bea-2063-464f-b62b-f52119c06b2e"
      },
      "outputs": [
        {
          "output_type": "stream",
          "name": "stdout",
          "text": [
            "['dell', 'Hp', 'Apple']\n",
            "After deleting the value \n",
            "['dell', 'Apple']\n"
          ]
        }
      ],
      "source": [
        "list1=[\"dell\",\"Hp\",\"Apple\"]\n",
        "print(list1) # Prints complete list\n",
        "\n",
        "list1.remove('Hp')\n",
        "print(\"After deleting the value \")\n",
        "print(list1)"
      ]
    },
    {
      "cell_type": "markdown",
      "metadata": {
        "id": "ieu1AEWuyOlW"
      },
      "source": [
        "## 2.5 Dictionaries"
      ]
    },
    {
      "cell_type": "markdown",
      "metadata": {
        "id": "ZIgIiR-LyOlW"
      },
      "source": [
        " - Dictionary is an unordered set of key: value pairs, with the requirement that the keys are unique (within one dictionary).\n",
        " - Each key is seperated by colon(:) from its value.\n",
        " - Each item is seperated with comma(,).\n",
        " - A pair of braces creates an empty dictionary: {}.\n",
        " - Python's dictionaries are kind of hash-table type.\n",
        " - A dictionary key can be almost any Python type, but are usually numbers or strings. Values, on the other hand, can be any       arbitrary Python object.\n",
        " - Dictionaries are enclosed by curly braces ({ }) and values can be assigned and accessed using square braces ([])\n",
        " - Dictionaries have no concept of order among elements. It is incorrect to say that the elements are \"out of order\"; they are simply unordered"
      ]
    },
    {
      "cell_type": "markdown",
      "metadata": {
        "id": "GiRscnkeyOlX"
      },
      "source": [
        "## Accessing value in dictionary"
      ]
    },
    {
      "cell_type": "markdown",
      "metadata": {
        "id": "QjNY2bGNyOlY"
      },
      "source": [
        "- Square brackets [] along with the key are used to access its value.\n",
        "\n"
      ]
    },
    {
      "cell_type": "code",
      "execution_count": null,
      "metadata": {
        "id": "Ltum738yyOlY",
        "colab": {
          "base_uri": "https://localhost:8080/"
        },
        "outputId": "3f9c0c51-0670-467f-ab57-414d7ffdce9e"
      },
      "outputs": [
        {
          "output_type": "stream",
          "name": "stdout",
          "text": [
            "Sara\n",
            "SIAT\n"
          ]
        }
      ],
      "source": [
        "dict1 = {'Name':\"Sara\" , \"Department\" : \"SIAT\", \"Batch\":2023}\n",
        "print(dict1['Name'])\n",
        "\n",
        "#made a new dictionary\n",
        "#printed department\n",
        "dict2 = {'Name':\"Karan\" , \"Department\" : \"SIAT\", \"Batch\":2024}\n",
        "print(dict2['Department'])"
      ]
    },
    {
      "cell_type": "markdown",
      "metadata": {
        "id": "1bRngBK_yOlZ"
      },
      "source": [
        "### Updating Dictionary"
      ]
    },
    {
      "cell_type": "markdown",
      "metadata": {
        "id": "2TUfYqiOyOlZ"
      },
      "source": [
        "- we can update values in dictionary\n",
        "- we can also add new values in dictionary\n",
        "\n",
        "Some examples are given below:"
      ]
    },
    {
      "cell_type": "code",
      "execution_count": null,
      "metadata": {
        "id": "U621T8fWyOlZ",
        "outputId": "935e941c-b049-440c-c3cd-8988466c99c2",
        "colab": {
          "base_uri": "https://localhost:8080/"
        }
      },
      "outputs": [
        {
          "output_type": "stream",
          "name": "stdout",
          "text": [
            "{'Name': 'Sara', 'Department': 'SIAT', 'Batch': 2023}\n",
            "{'Name': 'Sara', 'Department': 'SIAT', 'Batch': 'S23'}\n",
            "{'Name': 'Karan', 'Department': 'SIAT', 'Batch': 2024}\n",
            "{'Name': 'Karanjit Singh', 'Department': 'SIAT', 'Batch': 2024}\n"
          ]
        }
      ],
      "source": [
        "dict1 = {'Name':\"Sara\" , \"Department\" : \"SIAT\", \"Batch\":2023}\n",
        "print(dict1)\n",
        "dict1['Batch']=\"S23\"\n",
        "print(dict1)\n",
        "\n",
        "#made a new dictionary\n",
        "#made changes to name to change to full name\n",
        "dict2 = {'Name':\"Karan\" , \"Department\" : \"SIAT\", \"Batch\":2024}\n",
        "print(dict2)\n",
        "dict2['Name']=\"Karanjit Singh\"\n",
        "print(dict2)"
      ]
    },
    {
      "cell_type": "markdown",
      "metadata": {
        "id": "4KbjWOYtyOla"
      },
      "source": [
        "### Delete Dictionary element"
      ]
    },
    {
      "cell_type": "markdown",
      "metadata": {
        "id": "iABNAFIQyOla"
      },
      "source": [
        "- we can delete elements of dictionary as well as complete content of dictionary.\n",
        "- To delete single element del keyword is used.\n",
        "- clear() function  is used to remove complete dictionary.\n",
        "\n",
        " Some examples are as follows:"
      ]
    },
    {
      "cell_type": "code",
      "execution_count": null,
      "metadata": {
        "id": "vtfiXDeOyOla",
        "colab": {
          "base_uri": "https://localhost:8080/"
        },
        "outputId": "e3c12ac3-bf29-49dc-a332-1400c0f27105"
      },
      "outputs": [
        {
          "output_type": "stream",
          "name": "stdout",
          "text": [
            "{'Name': 'Sara', 'Department': 'SIAT', 'Batch': 2023}\n",
            "{'Name': 'Sara', 'Department': 'SIAT'}\n"
          ]
        }
      ],
      "source": [
        "dict1 = {'Name':\"Sara\" , \"Department\" : \"SIAT\", \"Batch\":2023}\n",
        "print(dict1)\n",
        "\n",
        "del dict1['Batch']\n",
        "print(dict1)"
      ]
    },
    {
      "cell_type": "markdown",
      "source": [],
      "metadata": {
        "id": "3ZBE6BcyL-ru"
      }
    },
    {
      "cell_type": "code",
      "execution_count": null,
      "metadata": {
        "id": "1GP2uAamyOla",
        "outputId": "e2e74e00-f842-420d-9488-3682384b5ae2",
        "colab": {
          "base_uri": "https://localhost:8080/"
        }
      },
      "outputs": [
        {
          "output_type": "stream",
          "name": "stdout",
          "text": [
            "{}\n"
          ]
        }
      ],
      "source": [
        "dict1 = {'Name':\"Sara\" , \"Department\" : \"SIAT\", \"Batch\":2023}\n",
        "dict1.clear()\n",
        "print(dict1)\n"
      ]
    },
    {
      "cell_type": "markdown",
      "metadata": {
        "id": "y9Uo3ISAyOlb"
      },
      "source": [
        "## 2.6 Tuples"
      ]
    },
    {
      "cell_type": "markdown",
      "metadata": {
        "id": "4iDmCoWQyOlb"
      },
      "source": [
        " - A tuple is another sequence data type that is similar to the list.\n",
        " - A tuple consists of a number of values separated by commas. Unlike lists, however, tuples are enclosed within parenthesis.\n",
        " - The main difference between lists and tuples are − Lists are enclosed in brackets ( [ ] ) and their elements and size can be  changed, while tuples are enclosed in parentheses ( ( ) ) and cannot be updated. Tuples can be thought of as read-only lists.   \n",
        " - It can also have multiple data type values.\n",
        "\n",
        "  For example:"
      ]
    },
    {
      "cell_type": "markdown",
      "metadata": {
        "id": "zFrOCg-EyOld"
      },
      "source": [
        "### Accessing values in Tuples"
      ]
    },
    {
      "cell_type": "markdown",
      "metadata": {
        "id": "TznWXoYqyOle"
      },
      "source": [
        "- Square brackets [] along with the index are used to access its value.\n"
      ]
    },
    {
      "cell_type": "code",
      "execution_count": null,
      "metadata": {
        "id": "Wz7DRYL0yOle",
        "colab": {
          "base_uri": "https://localhost:8080/"
        },
        "outputId": "14154051-1af1-47f1-8289-f2a5a1dda467"
      },
      "outputs": [
        {
          "output_type": "stream",
          "name": "stdout",
          "text": [
            "('simon', 'sara', '20', 'saira40')\n",
            "('sara', '20')\n"
          ]
        }
      ],
      "source": [
        "tuple1 = ( 'simon','sara' , '20', 'saira40')\n",
        "\n",
        "print(tuple1)\n",
        "print(tuple1[1:3])"
      ]
    },
    {
      "cell_type": "markdown",
      "metadata": {
        "id": "KG5EF_CpyOle"
      },
      "source": [
        "### Updating Tuples"
      ]
    },
    {
      "cell_type": "markdown",
      "metadata": {
        "id": "lBQXz4rTyOle"
      },
      "source": [
        "- Tuples are immutable means we cannot change the value of tuple.\n",
        "- It is read only.\n",
        "- we are able to take portions of tuples to make a new tuple."
      ]
    },
    {
      "cell_type": "code",
      "execution_count": null,
      "metadata": {
        "id": "D0VuCX12yOle",
        "colab": {
          "base_uri": "https://localhost:8080/"
        },
        "outputId": "57127708-79ce-4c3e-9de0-f3f35dc68869"
      },
      "outputs": [
        {
          "output_type": "stream",
          "name": "stdout",
          "text": [
            "('sun', 'mon', 'tue', 'wed', 'thur', 'fri', 'sat')\n",
            "(1, 2, 3, 4, 5, 6, 7)\n",
            "('sun', 'mon', 'tue', 'wed', 'thur', 'fri', 'sat', 1, 2, 3, 4, 5, 6, 7)\n"
          ]
        }
      ],
      "source": [
        "tuple1=('sun','mon','tue','wed','thur','fri' , 'sat')\n",
        "tuple2=(1,2,3,4,5,6,7)\n",
        "print(tuple1)\n",
        "print(tuple2)\n",
        "tuple3=(tuple1+tuple2)\n",
        "print(tuple3)"
      ]
    },
    {
      "cell_type": "markdown",
      "metadata": {
        "id": "G_5HMEUsyOlf"
      },
      "source": [
        "### Delete tuple elements"
      ]
    },
    {
      "cell_type": "markdown",
      "metadata": {
        "id": "2OuPrsgmyOlf"
      },
      "source": [
        "- we cannot delete single elements of tuple because they cannot be updated.\n",
        "- To delete entire elements del keyword is used.\n",
        "\n",
        " Some examples are as follows:"
      ]
    },
    {
      "cell_type": "code",
      "execution_count": null,
      "metadata": {
        "id": "m3HmoQn0yOlf",
        "colab": {
          "base_uri": "https://localhost:8080/",
          "height": 245
        },
        "outputId": "47620752-3b4a-4782-b05f-219be31aa4da"
      },
      "outputs": [
        {
          "output_type": "stream",
          "name": "stdout",
          "text": [
            "('sun', 'mon', 'tue', 'wed', 'thur', 'fri', 'sat')\n",
            "(1, 2, 3, 4, 5, 6, 7)\n"
          ]
        },
        {
          "output_type": "error",
          "ename": "NameError",
          "evalue": "ignored",
          "traceback": [
            "\u001b[0;31m---------------------------------------------------------------------------\u001b[0m",
            "\u001b[0;31mNameError\u001b[0m                                 Traceback (most recent call last)",
            "\u001b[0;32m<ipython-input-31-2db52bfc7eae>\u001b[0m in \u001b[0;36m<cell line: 6>\u001b[0;34m()\u001b[0m\n\u001b[1;32m      4\u001b[0m \u001b[0mprint\u001b[0m\u001b[0;34m(\u001b[0m\u001b[0mtuple2\u001b[0m\u001b[0;34m)\u001b[0m\u001b[0;34m\u001b[0m\u001b[0;34m\u001b[0m\u001b[0m\n\u001b[1;32m      5\u001b[0m \u001b[0;32mdel\u001b[0m\u001b[0;34m(\u001b[0m\u001b[0mtuple1\u001b[0m\u001b[0;34m)\u001b[0m\u001b[0;34m\u001b[0m\u001b[0;34m\u001b[0m\u001b[0m\n\u001b[0;32m----> 6\u001b[0;31m \u001b[0mprint\u001b[0m\u001b[0;34m(\u001b[0m\u001b[0mtuple1\u001b[0m\u001b[0;34m)\u001b[0m\u001b[0;34m\u001b[0m\u001b[0;34m\u001b[0m\u001b[0m\n\u001b[0m",
            "\u001b[0;31mNameError\u001b[0m: name 'tuple1' is not defined"
          ]
        }
      ],
      "source": [
        "tuple1=('sun','mon','tue','wed','thur','fri' , 'sat')\n",
        "tuple2=(1,2,3,4,5,6,7)\n",
        "print(tuple1)\n",
        "print(tuple2)\n",
        "del(tuple1)\n",
        "print(tuple1)"
      ]
    },
    {
      "cell_type": "markdown",
      "metadata": {
        "id": "UtlBviifyOlf"
      },
      "source": [
        "# 2.7 Sets"
      ]
    },
    {
      "cell_type": "markdown",
      "metadata": {
        "id": "CGfmVIIQyOlf"
      },
      "source": [
        " - A set is an unordered collection in which each value occurs at most once.\n",
        " - You can use curly braces to give an expression whose value is a set.\n",
        " - Python prints sets using curly braces.\n",
        " - Every value in a set is immutable but the set itself is immutable we can add o remove items from it.\n",
        " - Sets can be used to perform mathematical operations like union,intersection,etc\n",
        " - Empty set will be written as {}.\n",
        " - We can also make a set from a list using set() function.\n",
        " - Data type can be found using type() function.\n",
        " - add() is used to add single value, update() is used for adding multiple values.\n",
        " - update() function can take tuple,string,list or other set as argument.\n",
        " - discard() and remove() are used to delete specific item from list.\n",
        " - discard() will not raise an error if item doesn't exist.\n",
        " - remove() will raise an error if item doesn't exist in set.\n",
        " - The cardinality of a set S is the number of elements in the set.\n",
        " - In Python, the cardinality of a set is obtained using the function len(·)."
      ]
    },
    {
      "cell_type": "code",
      "execution_count": null,
      "metadata": {
        "id": "tSGADHvTyOlf",
        "outputId": "17f2f913-cb43-4ea5-fe05-6955df9f2f3a",
        "colab": {
          "base_uri": "https://localhost:8080/",
          "height": 256
        }
      },
      "outputs": [
        {
          "output_type": "stream",
          "name": "stdout",
          "text": [
            "<class 'list'>\n",
            "<class 'set'>\n",
            "{1, 2, 3}\n",
            "{1, 2, 3, 'D', 4, 5, 'Hello'}\n"
          ]
        },
        {
          "output_type": "error",
          "ename": "KeyError",
          "evalue": "'G'",
          "traceback": [
            "\u001b[0;31m---------------------------------------------------------------------------\u001b[0m",
            "\u001b[0;31mKeyError\u001b[0m                                  Traceback (most recent call last)",
            "\u001b[0;32m<ipython-input-15-d317cecf6d5f>\u001b[0m in \u001b[0;36m<cell line: 26>\u001b[0;34m()\u001b[0m\n\u001b[1;32m     24\u001b[0m \u001b[0;34m\u001b[0m\u001b[0m\n\u001b[1;32m     25\u001b[0m \u001b[0mmy_set\u001b[0m\u001b[0;34m.\u001b[0m\u001b[0mdiscard\u001b[0m\u001b[0;34m(\u001b[0m\u001b[0;34m'G'\u001b[0m\u001b[0;34m)\u001b[0m \u001b[0;31m#it will not raise an error\u001b[0m\u001b[0;34m\u001b[0m\u001b[0;34m\u001b[0m\u001b[0m\n\u001b[0;32m---> 26\u001b[0;31m \u001b[0mmy_set\u001b[0m\u001b[0;34m.\u001b[0m\u001b[0mremove\u001b[0m\u001b[0;34m(\u001b[0m\u001b[0;34m'G'\u001b[0m\u001b[0;34m)\u001b[0m \u001b[0;31m#it will raise an error\u001b[0m\u001b[0;34m\u001b[0m\u001b[0;34m\u001b[0m\u001b[0m\n\u001b[0m",
            "\u001b[0;31mKeyError\u001b[0m: 'G'"
          ]
        }
      ],
      "source": [
        "#list\n",
        "list1=[1,2,3,4,5]\n",
        "\n",
        "print(type(list1))\n",
        "\n",
        "my_set=set(list1)\n",
        "\n",
        "print(type(my_set))\n",
        "\n",
        "#set of integers\n",
        "my_set={1,2,3}\n",
        "print(my_set)\n",
        "\n",
        "#set of mixed data types\n",
        "my_set={1, \"Hello\"}\n",
        "\n",
        "#adding a single value\n",
        "my_set.add(\"D\")\n",
        "\n",
        "#adding multiple values\n",
        "my_set.update(list1)\n",
        "print(my_set)\n",
        "\n",
        "\n",
        "my_set.discard('G') #it will not raise an error\n",
        "my_set.remove('G') #it will raise an error\n"
      ]
    },
    {
      "cell_type": "markdown",
      "source": [],
      "metadata": {
        "id": "gIZDQgBWPGnn"
      }
    },
    {
      "cell_type": "markdown",
      "metadata": {
        "id": "lJROmF7CyOlh"
      },
      "source": [
        "# 3.Comparison Operators"
      ]
    },
    {
      "cell_type": "markdown",
      "metadata": {
        "id": "l5lnkl1ZyOlh"
      },
      "source": [
        " - Comparison operators are used to compare values and return TRUE/FALSE according to the situation.\n",
        " - Python defines the following comparison operators:"
      ]
    },
    {
      "cell_type": "markdown",
      "metadata": {
        "id": "MA2F-JQ0yOli"
      },
      "source": [
        "### Less than operator  (<)"
      ]
    },
    {
      "cell_type": "code",
      "execution_count": null,
      "metadata": {
        "id": "i1P_4GR6yOli",
        "colab": {
          "base_uri": "https://localhost:8080/"
        },
        "outputId": "a83c3cef-0f31-4300-defa-9f01f723aecc"
      },
      "outputs": [
        {
          "output_type": "execute_result",
          "data": {
            "text/plain": [
              "False"
            ]
          },
          "metadata": {},
          "execution_count": 16
        }
      ],
      "source": [
        "10<17"
      ]
    },
    {
      "cell_type": "markdown",
      "metadata": {
        "id": "FYt5MhnvyOli"
      },
      "source": [
        "### Less than equal to operator (<=)"
      ]
    },
    {
      "cell_type": "code",
      "execution_count": null,
      "metadata": {
        "id": "WwttsZ6xyOli",
        "colab": {
          "base_uri": "https://localhost:8080/"
        },
        "outputId": "bdc7136a-ed04-4d5e-d148-dafe5de95c6f"
      },
      "outputs": [
        {
          "output_type": "execute_result",
          "data": {
            "text/plain": [
              "False"
            ]
          },
          "metadata": {},
          "execution_count": 17
        }
      ],
      "source": [
        "15<=10"
      ]
    },
    {
      "cell_type": "markdown",
      "metadata": {
        "id": "YnjQrPuJyOli"
      },
      "source": [
        "### Equal to operatoe (==)"
      ]
    },
    {
      "cell_type": "code",
      "execution_count": null,
      "metadata": {
        "id": "Zls3VKhNyOlj",
        "colab": {
          "base_uri": "https://localhost:8080/"
        },
        "outputId": "a05fc300-a6e4-4bd6-f45d-9ed3d8c8574b"
      },
      "outputs": [
        {
          "output_type": "execute_result",
          "data": {
            "text/plain": [
              "True"
            ]
          },
          "metadata": {},
          "execution_count": 18
        }
      ],
      "source": [
        "16==16"
      ]
    },
    {
      "cell_type": "code",
      "execution_count": null,
      "metadata": {
        "id": "mbzpqO44yOlj",
        "colab": {
          "base_uri": "https://localhost:8080/"
        },
        "outputId": "5a6832d5-2a2a-4ed8-b6df-cc7c4a526077"
      },
      "outputs": [
        {
          "output_type": "execute_result",
          "data": {
            "text/plain": [
              "False"
            ]
          },
          "metadata": {},
          "execution_count": 19
        }
      ],
      "source": [
        "\"Sara\"==\"sara\""
      ]
    },
    {
      "cell_type": "code",
      "execution_count": null,
      "metadata": {
        "id": "eQpj0Gz3yOlj",
        "colab": {
          "base_uri": "https://localhost:8080/"
        },
        "outputId": "8499035c-dd0e-4a03-c08e-c43241da8b5d"
      },
      "outputs": [
        {
          "output_type": "execute_result",
          "data": {
            "text/plain": [
              "True"
            ]
          },
          "metadata": {},
          "execution_count": 20
        }
      ],
      "source": [
        "\"ALI\"==\"ALI\""
      ]
    },
    {
      "cell_type": "markdown",
      "metadata": {
        "id": "ujIEI1kvyOlk"
      },
      "source": [
        "### Not equal to operator (!=)"
      ]
    },
    {
      "cell_type": "code",
      "execution_count": null,
      "metadata": {
        "id": "4WqW1oKJyOlk",
        "outputId": "a4bccd6f-02dd-443f-9d69-34cc22a526aa",
        "colab": {
          "base_uri": "https://localhost:8080/"
        }
      },
      "outputs": [
        {
          "output_type": "execute_result",
          "data": {
            "text/plain": [
              "True"
            ]
          },
          "metadata": {},
          "execution_count": 21
        }
      ],
      "source": [
        "3!=5"
      ]
    },
    {
      "cell_type": "markdown",
      "metadata": {
        "id": "eXrhRobeyOlk"
      },
      "source": [
        "### OR Operator"
      ]
    },
    {
      "cell_type": "code",
      "execution_count": null,
      "metadata": {
        "id": "rMaG0t_4yOll",
        "colab": {
          "base_uri": "https://localhost:8080/"
        },
        "outputId": "faf7a5db-264b-4986-c322-33049afde8b4"
      },
      "outputs": [
        {
          "output_type": "execute_result",
          "data": {
            "text/plain": [
              "True"
            ]
          },
          "metadata": {},
          "execution_count": 22
        }
      ],
      "source": [
        "(10==10)or(10<17)"
      ]
    },
    {
      "cell_type": "markdown",
      "metadata": {
        "id": "iwG7TeMXyOll"
      },
      "source": [
        "### And operator"
      ]
    },
    {
      "cell_type": "code",
      "execution_count": null,
      "metadata": {
        "id": "8YryjblByOll",
        "colab": {
          "base_uri": "https://localhost:8080/"
        },
        "outputId": "d79ad5f4-5cab-4dcc-cb47-e59fc6b73559"
      },
      "outputs": [
        {
          "output_type": "execute_result",
          "data": {
            "text/plain": [
              "True"
            ]
          },
          "metadata": {},
          "execution_count": 23
        }
      ],
      "source": [
        "(10==10) and (10<17)"
      ]
    },
    {
      "cell_type": "markdown",
      "metadata": {
        "id": "8a_cI4Z8yOll"
      },
      "source": [
        "# 4.If else statement"
      ]
    },
    {
      "cell_type": "markdown",
      "metadata": {
        "id": "R9qEq9jhyOll"
      },
      "source": [
        " - The if–else is used to make choices in Python code.\n",
        " - This is a compound statement.\n",
        " - The syntax is:\n",
        " - if c o n d i t i o n\n",
        "          action −1\n",
        "  else :\n",
        "          action −2\n",
        " - The indentation is required"
      ]
    },
    {
      "cell_type": "code",
      "execution_count": null,
      "metadata": {
        "scrolled": true,
        "id": "WBSEtB9ayOll",
        "outputId": "56fc7954-5709-4453-b0ed-0b62c076af53",
        "colab": {
          "base_uri": "https://localhost:8080/"
        }
      },
      "outputs": [
        {
          "output_type": "stream",
          "name": "stdout",
          "text": [
            "Lecture is on Friday\n"
          ]
        }
      ],
      "source": [
        "#Added y and comparison operators here to make a few changes to the If else statement\n",
        "\n",
        "x = 3\n",
        "y = -10\n",
        "\n",
        "if x > 0 and y < 0:\n",
        "    print(\"Lecture is on Friday\")\n",
        "\n",
        "else :\n",
        "    print(\"Lab is on Friday\")\n",
        "\n"
      ]
    },
    {
      "cell_type": "code",
      "source": [
        "if 25 % 5:\n",
        "  print(\"Even\")\n",
        "else:\n",
        "  print(\"Odd\")\n"
      ],
      "metadata": {
        "colab": {
          "base_uri": "https://localhost:8080/"
        },
        "id": "vNZbNRhIQKYn",
        "outputId": "aaf3ba57-0d2c-4140-dad0-c5eb0ddc29e1"
      },
      "execution_count": null,
      "outputs": [
        {
          "output_type": "stream",
          "name": "stdout",
          "text": [
            "Odd\n"
          ]
        }
      ]
    },
    {
      "cell_type": "markdown",
      "metadata": {
        "id": "tX-ELcXpyOlm"
      },
      "source": [
        "# 5.For and while loop"
      ]
    },
    {
      "cell_type": "markdown",
      "metadata": {
        "id": "vHrWxmv9yOlm"
      },
      "source": [
        "- Python has for and while loop for iteration,used when we want to perfrom a specific task repeatedly."
      ]
    },
    {
      "cell_type": "markdown",
      "metadata": {
        "id": "7Cclh2veyOlm"
      },
      "source": [
        "### For loop"
      ]
    },
    {
      "cell_type": "markdown",
      "metadata": {
        "id": "T91L9EFHyOlm"
      },
      "source": [
        "- The for statement is used to iterate over the elements of a sequence.\n",
        "- It's traditionally used when you have a piece of code which you want to repeat n number of time.\n",
        "- The syntax of a for loop is:\n",
        "\n",
        "    for item in list :\n",
        "      a c t i o n\n",
        "- As usual, the action consists of one or more statements, all at the same indentation level. These statements are also known as the body of the loop. The item is a variable name, and list is a list.\n",
        "- Execution of the for loop works by setting the variable successively to each item in the list, and then executing the body each time.\n",
        "\n",
        "  Here is a simple example:"
      ]
    },
    {
      "cell_type": "code",
      "execution_count": null,
      "metadata": {
        "id": "Kpsb7A2YyOlm",
        "outputId": "66f6a5df-a847-43e1-cb4a-1b6f3224b818",
        "colab": {
          "base_uri": "https://localhost:8080/"
        }
      },
      "outputs": [
        {
          "output_type": "stream",
          "name": "stdout",
          "text": [
            "2\n",
            "4\n",
            "6\n",
            "0\n",
            "10\n",
            "20\n",
            "30\n",
            "40\n",
            "50\n"
          ]
        }
      ],
      "source": [
        "for i in [2 , 4 , 6 , 0]:\n",
        "    print(i)\n",
        "\n",
        "#added another loop here\n",
        "for j in [10,20,30,40,50]:\n",
        "  print(j)"
      ]
    },
    {
      "cell_type": "code",
      "execution_count": null,
      "metadata": {
        "id": "Q4ZzlHcjyOlr",
        "outputId": "25ca4945-851a-49ff-9331-4041ab5a6cdf",
        "colab": {
          "base_uri": "https://localhost:8080/"
        }
      },
      "outputs": [
        {
          "output_type": "stream",
          "name": "stdout",
          "text": [
            "1\n",
            "2\n",
            "3\n",
            "4\n",
            "5\n",
            "10\n",
            "11\n",
            "12\n",
            "13\n",
            "14\n",
            "15\n",
            "16\n",
            "17\n",
            "18\n",
            "19\n"
          ]
        }
      ],
      "source": [
        "for counter in range(1, 6):\n",
        "    print(counter)\n",
        "\n",
        "#added another counter here\n",
        "for counter2 in range(10, 20):\n",
        "    print(counter2)"
      ]
    },
    {
      "cell_type": "code",
      "execution_count": null,
      "metadata": {
        "id": "DdTgxLwbyOls",
        "outputId": "fc3e00c5-87ae-44c1-9d59-7ed6b4eda093",
        "colab": {
          "base_uri": "https://localhost:8080/"
        }
      },
      "outputs": [
        {
          "output_type": "stream",
          "name": "stdout",
          "text": [
            "s\n",
            "a\n",
            "r\n",
            "a\n",
            "r\n",
            "o\n",
            "g\n",
            "e\n",
            "r\n"
          ]
        }
      ],
      "source": [
        "word = \"sara\"\n",
        "for letter in word:\n",
        "    print(letter)\n",
        "\n",
        "#added another name here\n",
        "name = \"roger\"\n",
        "for words in name:\n",
        "    print(words)"
      ]
    },
    {
      "cell_type": "markdown",
      "metadata": {
        "id": "xRVaJ8yhyOlt"
      },
      "source": [
        "### While loop"
      ]
    },
    {
      "cell_type": "code",
      "source": [
        "a=0\n",
        "while a < 10:\n",
        "  a=a+1\n",
        "  print(a)\n",
        "\n",
        "#added another while loop and changed the function a bit\n",
        "b = 11\n",
        "while b < 20:\n",
        "  b = b+2\n",
        "  print(b)\n"
      ],
      "metadata": {
        "colab": {
          "base_uri": "https://localhost:8080/"
        },
        "id": "WfmtJZKWQsmx",
        "outputId": "91d0241b-58cd-45e6-d478-894095eb319b"
      },
      "execution_count": null,
      "outputs": [
        {
          "output_type": "stream",
          "name": "stdout",
          "text": [
            "1\n",
            "2\n",
            "3\n",
            "4\n",
            "5\n",
            "6\n",
            "7\n",
            "8\n",
            "9\n",
            "10\n",
            "13\n",
            "15\n",
            "17\n",
            "19\n",
            "21\n"
          ]
        }
      ]
    },
    {
      "cell_type": "markdown",
      "metadata": {
        "id": "L1MwXDpdyOlv"
      },
      "source": [
        "# 6.Functions"
      ]
    },
    {
      "cell_type": "markdown",
      "metadata": {
        "id": "65xX9WZ9yOlv"
      },
      "source": [
        " - You use functions in programming to bundle a set of instructions that you want to use repeatedly or that, because of their  complexity, are better self-contained in a sub-program and called when needed.                                 \n",
        " - Function is a piece of code written to carry out a specified task.\n",
        " - There are three types of functions in Python:\n",
        " - Built-in functions, such as help() to ask for help, min() to get the minimum value, print() to print an object.\n",
        " - User-Defined Functions (UDFs), which are functions that users create to help them out.\n",
        " - Anonymous functions, which are also called lambda functions because they are not declared with the standard def keyword.\n",
        " - The syntax is:\n",
        "\n",
        "   def functionname(parameters)\n",
        "    \n",
        "   \"function_docstring\"\n",
        "   \n",
        "   function_suite\n",
        "   \n",
        "   return [expression]\n"
      ]
    },
    {
      "cell_type": "code",
      "execution_count": null,
      "metadata": {
        "id": "6H6ReP86yOlw",
        "colab": {
          "base_uri": "https://localhost:8080/"
        },
        "outputId": "146613f9-dca4-460e-e8f3-01319dad2ac7"
      },
      "outputs": [
        {
          "output_type": "stream",
          "name": "stdout",
          "text": [
            "Karan\n",
            "IAT360: AI\n"
          ]
        }
      ],
      "source": [
        "def my_function(name):\n",
        "  #This prints a passed string into this function\n",
        "    print(name)\n",
        "    return;\n",
        "\n",
        "#Now you can call my_function\n",
        "my_function(\"Karan\")\n",
        "\n",
        "#change 7\n",
        "#creating a new function\n",
        "\n",
        "def myTest(fnc):\n",
        "  print(fnc)\n",
        "  return;\n",
        "\n",
        "myTest(\"IAT360: AI\")\n"
      ]
    },
    {
      "cell_type": "markdown",
      "metadata": {
        "id": "oZC9oo-jyOlw"
      },
      "source": [
        "# 7.Lambda Functions"
      ]
    },
    {
      "cell_type": "markdown",
      "metadata": {
        "id": "MknoTpf-yOlw"
      },
      "source": [
        " - The creation of anonymous functions at runtime,using a construct called \"lambda\"\n",
        " - A lambda function is a small anonymous function.\n",
        " - A lambda function can take any number of arguments, but can only have one expression.\n",
        " - Lambda function does not include return statement,it always contains an expression which is returned.\n",
        " - You might want to use lambdas when you don’t want to use a function twice in a program.\n",
        "\n",
        "   some examples are given:"
      ]
    },
    {
      "cell_type": "code",
      "source": [
        "#Normal Function\n",
        "def f (x):\n",
        "  return x**2\n",
        "print(f(8))\n",
        "\n",
        "#added a new function here to compute x^4\n",
        "def g (y):\n",
        "  return y**4\n",
        "print(g(8))"
      ],
      "metadata": {
        "colab": {
          "base_uri": "https://localhost:8080/"
        },
        "id": "c-GXl-L-RdIC",
        "outputId": "0ce20a92-2af2-481b-9a3c-17807cb0d4ef"
      },
      "execution_count": null,
      "outputs": [
        {
          "output_type": "stream",
          "name": "stdout",
          "text": [
            "64\n",
            "4096\n"
          ]
        }
      ]
    },
    {
      "cell_type": "code",
      "source": [
        "times3 = lambda var:var*3\n",
        "times3(10)\n",
        "\n",
        "#lamba expressions : another way to write a function in line\n",
        "\n",
        "#added this to calculate times 5\n",
        "times5 = lambda var:var*5\n",
        "times5(10)"
      ],
      "metadata": {
        "colab": {
          "base_uri": "https://localhost:8080/"
        },
        "id": "pBOo5NroR3fG",
        "outputId": "5391f664-b471-4b9a-b14e-449d38f59463"
      },
      "execution_count": null,
      "outputs": [
        {
          "output_type": "execute_result",
          "data": {
            "text/plain": [
              "50"
            ]
          },
          "metadata": {},
          "execution_count": 1
        }
      ]
    },
    {
      "cell_type": "code",
      "execution_count": null,
      "metadata": {
        "id": "KPDPCAjpyOlw",
        "colab": {
          "base_uri": "https://localhost:8080/"
        },
        "outputId": "184cf17f-a8bf-4573-fa44-fca6bafd7692"
      },
      "outputs": [
        {
          "output_type": "stream",
          "name": "stdout",
          "text": [
            "8\n"
          ]
        }
      ],
      "source": [
        "add = lambda x, y: x + y\n",
        "\n",
        "print(add(3, 5))"
      ]
    },
    {
      "cell_type": "markdown",
      "metadata": {
        "id": "WVp38V0nyOlx"
      },
      "source": [
        "## 7.1 Map()"
      ]
    },
    {
      "cell_type": "markdown",
      "metadata": {
        "id": "Z0LFGyJKyOlx"
      },
      "source": [
        " - Map() function is used with two arguments.Just like: r=map(func,seq)\n",
        " - The first argument func is function name and the second is a sequence(list etc)\n",
        " - Map functions expects a function object and any number of iterables like list, dictionary, etc.\n",
        " - It executes the function_object for each element in the sequence and returns a list of the elements modified by the function  object.\n",
        "\n",
        "   Example:\n",
        "\n"
      ]
    },
    {
      "cell_type": "code",
      "execution_count": null,
      "metadata": {
        "id": "5H7aW8b1yOlx",
        "outputId": "5ee6ad67-afa2-48b3-a0c7-38951e1e408c",
        "colab": {
          "base_uri": "https://localhost:8080/"
        }
      },
      "outputs": [
        {
          "output_type": "stream",
          "name": "stdout",
          "text": [
            "['It', 'is', 'raining', 'cats', 'and', 'dogs']\n",
            "['This', 'is', 'for', 'Assignment', '1']\n"
          ]
        },
        {
          "output_type": "execute_result",
          "data": {
            "text/plain": [
              "[4, 2, 3, 10, 1]"
            ]
          },
          "metadata": {},
          "execution_count": 3
        }
      ],
      "source": [
        "sentence = \"It is raining cats and dogs\"\n",
        "words = sentence.split()\n",
        "print(words)\n",
        "\n",
        "lengths= map(lambda word :len(word), words)\n",
        "\n",
        "list(lengths)\n",
        "\n",
        "#change 9\n",
        "#added this section here\n",
        "term = \"This is for Assignment 1\"\n",
        "text = term.split()\n",
        "print(text)\n",
        "\n",
        "lens = map(lambda texts :len(texts), text)\n",
        "\n",
        "list(lens)"
      ]
    },
    {
      "cell_type": "markdown",
      "metadata": {
        "id": "oQ458z36yOly"
      },
      "source": [
        "## 7.2 Filter()"
      ]
    },
    {
      "cell_type": "markdown",
      "metadata": {
        "id": "DklokG5fyOly"
      },
      "source": [
        " - The filter() method filters the given iterable with the help of a function that tests each element in the iterable to be true or not.\n",
        " - The syntax of filter() method is:\n",
        "      filter(function, iterable)\n",
        " - The filter() method takes two parameters:\n",
        "\n",
        "      1)function - function that tests if elements of an iterable returns true or false If None, the function defaults to Identity function - which returns false if any elements are false\n",
        "      \n",
        "      2)iterable - iterable which is to be filtered, could be sets, lists, tuples, or containers of any iterators\n",
        " - The filter() method returns an iterator that passed the function check for each element in the iterable."
      ]
    },
    {
      "cell_type": "code",
      "execution_count": null,
      "metadata": {
        "id": "zEv6KZ6SyOly",
        "colab": {
          "base_uri": "https://localhost:8080/"
        },
        "outputId": "ffd450fc-a35d-47c6-939c-d21d6001015f"
      },
      "outputs": [
        {
          "output_type": "stream",
          "name": "stdout",
          "text": [
            "a\n",
            "e\n",
            "i\n",
            "o\n",
            "2\n",
            "3\n",
            "5\n",
            "7\n"
          ]
        }
      ],
      "source": [
        "# list of alphabets\n",
        "alphabets = ['a', 'b', 'd', 'e', 'i', 'j', 'o']\n",
        "\n",
        "# function that filters vowels\n",
        "def filterVowels(alphabet):\n",
        "    vowels = ['a', 'e', 'i', 'o', 'u']\n",
        "\n",
        "    if(alphabet in vowels):\n",
        "        return True\n",
        "    else:\n",
        "        return False\n",
        "\n",
        "for i in filter(filterVowels, alphabets):\n",
        "     print(i)\n",
        "\n",
        "\n",
        "#change 10\n",
        "#made a list for prime numbers\n",
        "#added this to filter out prime numbers and give a result\n",
        "# list of numbers\n",
        "numbers = ['1', '2', '3', '4', '5', '6', '7', '8', '9']\n",
        "\n",
        "# function that filters prime numbers\n",
        "def filterPrimes(number):\n",
        "    primes = ['2', '3', '5', '7']\n",
        "\n",
        "    if(number in primes):\n",
        "        return True\n",
        "    else:\n",
        "        return False\n",
        "\n",
        "for j in filter(filterPrimes, numbers):\n",
        "     print(j)"
      ]
    },
    {
      "cell_type": "code",
      "execution_count": null,
      "metadata": {
        "id": "BqRYKFNbyOly",
        "colab": {
          "base_uri": "https://localhost:8080/"
        },
        "outputId": "b29b0082-80ac-443e-b2fa-9ce2fa16c4c9"
      },
      "outputs": [
        {
          "output_type": "stream",
          "name": "stdout",
          "text": [
            "The filtered elements are:\n",
            "1\n",
            "a\n",
            "True\n",
            "0\n"
          ]
        }
      ],
      "source": [
        "# random list\n",
        "randomList = [1, 'a', 0, False, True, '0']\n",
        "\n",
        "filteredList = filter(None, randomList)\n",
        "\n",
        "print('The filtered elements are:')\n",
        "for element in filteredList:\n",
        "    print(element)"
      ]
    },
    {
      "cell_type": "code",
      "execution_count": null,
      "metadata": {
        "id": "SxEi_36LyOly",
        "colab": {
          "base_uri": "https://localhost:8080/"
        },
        "outputId": "6b9aa2de-9551-4c45-a1ad-f193ee3acee1"
      },
      "outputs": [
        {
          "output_type": "stream",
          "name": "stdout",
          "text": [
            "5\n",
            "12\n",
            "17\n",
            "18\n"
          ]
        }
      ],
      "source": [
        "#added a few more ages and changed the function a bit\n",
        "#reversed the function to show ages less than 22\n",
        "ages = [5, 12, 17, 18, 24, 32, 45, 30, 42]\n",
        "\n",
        "def myFunc(x):\n",
        "  if x < 22:\n",
        "    return True\n",
        "  else:\n",
        "    return False\n",
        "\n",
        "adults = filter(myFunc, ages)\n",
        "\n",
        "for x in adults:\n",
        "  print(x)\n"
      ]
    },
    {
      "cell_type": "markdown",
      "metadata": {
        "id": "ZPuRsXogyOly"
      },
      "source": [
        "# 8.File I/O"
      ]
    },
    {
      "cell_type": "markdown",
      "metadata": {
        "id": "x0jKuKHqyOly"
      },
      "source": [
        " - In this section we will cover basic I/O functions."
      ]
    },
    {
      "cell_type": "markdown",
      "metadata": {
        "id": "5RPtaY-_yOly"
      },
      "source": [
        "## Reading input from keyboard"
      ]
    },
    {
      "cell_type": "markdown",
      "metadata": {
        "id": "8SDiWf1hyOlz"
      },
      "source": [
        " -  There are two functions in Python that you can use to read data from the user:raw_input and input\n",
        " -  You can store the results from them into a variable\n",
        " -  If the input function is called, the program flow will be stopped until the user has given an input and has ended the input  with the return key. The text of the optional parameter, i.e. the prompt, will be printed on the screen.\n",
        "\n",
        " Let's have a look at the following example:"
      ]
    },
    {
      "cell_type": "code",
      "execution_count": null,
      "metadata": {
        "id": "njG09b1ayOlz",
        "colab": {
          "base_uri": "https://localhost:8080/"
        },
        "outputId": "79391523-ecbb-4f85-d036-8a26336093ef"
      },
      "outputs": [
        {
          "output_type": "stream",
          "name": "stdout",
          "text": [
            "What's your name? Karan\n",
            "Nice to meet you Karan!\n",
            "What's your major? SIAT\n",
            "I'm in the SIAT major!\n"
          ]
        }
      ],
      "source": [
        "#change 11\n",
        "#fixed this to work and made some changes\n",
        "\n",
        "name = input(\"What's your name? \")\n",
        "print(\"Nice to meet you \" + name + \"!\")\n",
        "\n",
        "major = input(\"What's your major? \")\n",
        "print(\"I'm in the \" + major + \" major!\")"
      ]
    },
    {
      "cell_type": "code",
      "execution_count": null,
      "metadata": {
        "id": "DCsRozsVyOlz",
        "colab": {
          "base_uri": "https://localhost:8080/"
        },
        "outputId": "2d3ce7ba-79f7-4c75-b131-15561dfb367c"
      },
      "outputs": [
        {
          "output_type": "stream",
          "name": "stdout",
          "text": [
            "What's your age? 22\n",
            "Your age is 22!\n",
            "What year were you born in? 2001\n",
            "I was born in 2001!\n"
          ]
        }
      ],
      "source": [
        "#more changes here\n",
        "\n",
        "age = input(\"What's your age? \")\n",
        "print(\"Your age is \" + age + \"!\")\n",
        "\n",
        "year = input(\"What year were you born in? \")\n",
        "print(\"I was born in \" + year + \"!\")\n"
      ]
    },
    {
      "cell_type": "code",
      "execution_count": null,
      "metadata": {
        "scrolled": true,
        "id": "xOk3tlxnyOlz",
        "colab": {
          "base_uri": "https://localhost:8080/"
        },
        "outputId": "66e0b488-60c8-4283-df60-327098f71eb0"
      },
      "outputs": [
        {
          "output_type": "stream",
          "name": "stdout",
          "text": [
            "enter your university....SFU\n",
            "SFU\n"
          ]
        }
      ],
      "source": [
        "#fixed this section too\n",
        "string=input(\"enter your university....\")\n",
        "print(string)"
      ]
    },
    {
      "cell_type": "markdown",
      "metadata": {
        "id": "zRkWgckHyOlz"
      },
      "source": [
        "## I/O From or to text file"
      ]
    },
    {
      "cell_type": "markdown",
      "metadata": {
        "id": "oxmeYQrDyOlz"
      },
      "source": [
        " - In this scenario, we will read and write to a text file.\n",
        " - we can open files in different modes."
      ]
    },
    {
      "cell_type": "markdown",
      "metadata": {
        "id": "MzGL-uTvyOlz"
      },
      "source": [
        "## Read only mode"
      ]
    },
    {
      "cell_type": "markdown",
      "metadata": {
        "id": "keQohLS-yOlz"
      },
      "source": [
        " - r opens a file in read only mode.\n",
        " - The file pointer is placed at the beginning of the file.\n",
        " - This is the default mode."
      ]
    },
    {
      "cell_type": "code",
      "execution_count": null,
      "metadata": {
        "id": "yHg4cgB0yOl0"
      },
      "outputs": [],
      "source": [
        "\n",
        "file = open(\"hello.txt\", \"r\")\n",
        "str=file.read();\n",
        "print(str)\n",
        "file.close()"
      ]
    },
    {
      "cell_type": "markdown",
      "metadata": {
        "id": "aaldi51jyOl0"
      },
      "source": [
        "## Read and write mode"
      ]
    },
    {
      "cell_type": "markdown",
      "metadata": {
        "id": "cY4AUvQlyOl0"
      },
      "source": [
        " - r+ opens a file in read and write mode.\n",
        " - The file pointer placed at the beginning of the file"
      ]
    },
    {
      "cell_type": "code",
      "execution_count": null,
      "metadata": {
        "id": "ajwMxemAyOl0",
        "colab": {
          "base_uri": "https://localhost:8080/",
          "height": 110
        },
        "outputId": "f9e9a730-a818-4d35-895a-a0928f91de85"
      },
      "outputs": [
        {
          "output_type": "error",
          "ename": "SyntaxError",
          "evalue": "Missing parentheses in call to 'print'. Did you mean print(...)? (<ipython-input-2-0add7c216fdc>, line 4)",
          "traceback": [
            "\u001b[0;36m  File \u001b[0;32m\"<ipython-input-2-0add7c216fdc>\"\u001b[0;36m, line \u001b[0;32m4\u001b[0m\n\u001b[0;31m    print \"Read String is : \", str\u001b[0m\n\u001b[0m    ^\u001b[0m\n\u001b[0;31mSyntaxError\u001b[0m\u001b[0;31m:\u001b[0m Missing parentheses in call to 'print'. Did you mean print(...)?\n"
          ]
        }
      ],
      "source": [
        "# Open a file\n",
        "file = open(\"hello.txt\", \"r+\")\n",
        "str = file.read(10);\n",
        "print \"Read String is : \", str\n",
        "# Close opend"
      ]
    },
    {
      "cell_type": "markdown",
      "metadata": {
        "id": "XE1AyUsRyOl0"
      },
      "source": [
        "## Write mode only"
      ]
    },
    {
      "cell_type": "markdown",
      "metadata": {
        "id": "MkuBNVJGyOl0"
      },
      "source": [
        " - w opens a file in write mode only.\n",
        " - Overwrites the file if the file exists. If the file does not exist, creates a new file for writing"
      ]
    },
    {
      "cell_type": "code",
      "execution_count": null,
      "metadata": {
        "id": "KGRhdassyOl0"
      },
      "outputs": [],
      "source": [
        "file = open('write.txt','w')\n",
        "file.write(\"This is the write command\")\n",
        "file.write(\"It allows us to write in a particular file\")\n",
        "file = open('write.txt','r')\n",
        "str=file.read()\n",
        "print(str)\n",
        "file.close()\n"
      ]
    },
    {
      "cell_type": "markdown",
      "metadata": {
        "id": "UNmsy8MwyOl0"
      },
      "source": [
        "## Append mode"
      ]
    },
    {
      "cell_type": "markdown",
      "metadata": {
        "id": "A9Trygn4yOl1"
      },
      "source": [
        " - a opens a file in append mode.\n",
        " - The file pointer is at the end of the file if the file exists.\n",
        " - That is, the file is in the append mode. If the file does not exist, it creates a new file for writing.\n"
      ]
    },
    {
      "cell_type": "code",
      "execution_count": null,
      "metadata": {
        "id": "d6E4BHyTyOl1"
      },
      "outputs": [],
      "source": [
        "file = open('write.txt','a')\n",
        "file.write(\"This will add this line\")\n",
        "file = open('write.txt','r')\n",
        "str=file.read()\n",
        "print(str)\n",
        "file.close()"
      ]
    },
    {
      "cell_type": "markdown",
      "metadata": {
        "id": "aTFsMWYhyOl1"
      },
      "source": [
        "## Append and read mode"
      ]
    },
    {
      "cell_type": "markdown",
      "metadata": {
        "id": "ngY7ZsNVyOl1"
      },
      "source": [
        " - a+ opens a file in append and read mode.\n",
        " - The file pointer is at the end of the file if the file exists. The file opens in the append mode. If the file does not exist,    it creates a  new file for reading and writing."
      ]
    },
    {
      "cell_type": "code",
      "execution_count": null,
      "metadata": {
        "id": "DprDg-hKyOl1"
      },
      "outputs": [],
      "source": [
        "file = open('hello.txt','a+')\n",
        "file.write(\"MSCS From comsats university\")\n",
        "file.close()\n",
        "file = open('hello.txt','r')\n",
        "str=file.read()\n",
        "print(str)\n",
        "file.close()"
      ]
    },
    {
      "cell_type": "markdown",
      "metadata": {
        "id": "l3Y11euJyOl1"
      },
      "source": [
        "## File Position"
      ]
    },
    {
      "cell_type": "markdown",
      "metadata": {
        "id": "3PeRgKfOyOl1"
      },
      "source": [
        " - tells() method tells the current position within the file.\n",
        " - seek() method changes the current file method.\n",
        " - Following is the syntax for seek() method:    fileObject.seek(offset[, whence])"
      ]
    },
    {
      "cell_type": "code",
      "execution_count": null,
      "metadata": {
        "scrolled": true,
        "id": "ONseEgUhyOl2"
      },
      "outputs": [],
      "source": [
        "f = open('hello.txt',\"r+\")\n",
        "str=f.read(20);\n",
        "print(\"read string is :\",str)\n",
        "\n",
        "position=f.tell();\n",
        "print(\"current file position is :\",position)\n",
        "\n",
        "position=f.seek(5);\n",
        "str=f.read(10);\n",
        "print(\"again read string is :\",str)\n",
        "f.close()"
      ]
    },
    {
      "cell_type": "markdown",
      "metadata": {
        "id": "Tc7pA461yOl2"
      },
      "source": [
        "# 9.Pandas Introduction"
      ]
    },
    {
      "cell_type": "markdown",
      "metadata": {
        "id": "-Ua5TNpkyOl2"
      },
      "source": [
        "Pandas is an open-source Python Library providing high-performance data manipulation and analysis tool using its powerful data structures. The name Pandas is derived from the word Panel Data – an Econometrics from Multidimensional data. In 2008, developer Wes McKinney started developing pandas when in need of high performance, flexible tool for analysis of data.\n",
        "\n",
        "Prior to Pandas, Python was majorly used for data munging and preparation. It had very less contribution towards data analysis. Pandas solved this problem. Using Pandas, we can accomplish five typical steps in the processing and analysis of data, regardless of the origin of data — load, prepare, manipulate, model, and analyze.\n",
        "\n",
        "Python with Pandas is used in a wide range of fields including academic and commercial domains including finance, economics, Statistics, analytics, etc.\n",
        "\n",
        "#### Key Features of Pandas\n",
        "\n",
        "-  Fast and efficient DataFrame object with default and customized indexing.\n",
        "-  Tools for loading data into in-memory data objects from different file formats.\n",
        "-  Data alignment and integrated handling of missing data.\n",
        "-  Reshaping and pivoting of date sets.\n",
        "- Label-based slicing, indexing and subsetting of large data sets.\n",
        "- Columns from a data structure can be deleted or inserted.\n",
        "- Group by data for aggregation and transformations.\n",
        "- High performance merging and joining of data.\n",
        "- Time Series functionality.\n",
        "\n",
        "Pandas deals with the following three data structures:\n",
        "- Series\n",
        "- DataFrame\n",
        "- Panel\n",
        "\n",
        "These data structures are built on top of Numpy array, which means they are fast.\n"
      ]
    },
    {
      "cell_type": "markdown",
      "metadata": {
        "id": "7UhOYctbyOl2"
      },
      "source": [
        "# 10.Series"
      ]
    },
    {
      "cell_type": "markdown",
      "metadata": {
        "id": "F2ejGx40yOl3"
      },
      "source": [
        "- The Series is a one-dimensional array that can store various data types, including mix data types.\n",
        "- The row labels in a Series are called the index.\n",
        "- Any list, tuple and dictionary can be converted in to Series using ‘series’ method\n",
        "- Basic method to create a series: s = pd.Series(data, index = index)\n",
        "- Series is size immutable."
      ]
    },
    {
      "cell_type": "code",
      "execution_count": null,
      "metadata": {
        "id": "zfjalz43yOl3",
        "outputId": "b7ea406e-c9df-43eb-e986-94b4b3a09d8e",
        "colab": {
          "base_uri": "https://localhost:8080/",
          "height": 241
        }
      },
      "outputs": [
        {
          "output_type": "execute_result",
          "data": {
            "text/plain": [
              "0                  4\n",
              "1          Vancouver\n",
              "2                  5\n",
              "3                  6\n",
              "4    Happy New Year!\n",
              "dtype: object"
            ],
            "text/html": [
              "<div>\n",
              "<style scoped>\n",
              "    .dataframe tbody tr th:only-of-type {\n",
              "        vertical-align: middle;\n",
              "    }\n",
              "\n",
              "    .dataframe tbody tr th {\n",
              "        vertical-align: top;\n",
              "    }\n",
              "\n",
              "    .dataframe thead th {\n",
              "        text-align: right;\n",
              "    }\n",
              "</style>\n",
              "<table border=\"1\" class=\"dataframe\">\n",
              "  <thead>\n",
              "    <tr style=\"text-align: right;\">\n",
              "      <th></th>\n",
              "      <th>0</th>\n",
              "    </tr>\n",
              "  </thead>\n",
              "  <tbody>\n",
              "    <tr>\n",
              "      <th>0</th>\n",
              "      <td>4</td>\n",
              "    </tr>\n",
              "    <tr>\n",
              "      <th>1</th>\n",
              "      <td>Vancouver</td>\n",
              "    </tr>\n",
              "    <tr>\n",
              "      <th>2</th>\n",
              "      <td>5</td>\n",
              "    </tr>\n",
              "    <tr>\n",
              "      <th>3</th>\n",
              "      <td>6</td>\n",
              "    </tr>\n",
              "    <tr>\n",
              "      <th>4</th>\n",
              "      <td>Happy New Year!</td>\n",
              "    </tr>\n",
              "  </tbody>\n",
              "</table>\n",
              "</div><br><label><b>dtype:</b> object</label>"
            ]
          },
          "metadata": {},
          "execution_count": 5
        }
      ],
      "source": [
        "import pandas as pd\n",
        "s = pd.Series([1, 'Lahore', 2, 3, 'Happy Eating!'])\n",
        "s\n",
        "\n",
        "#Change 12\n",
        "#added another series here\n",
        "x = pd.Series([4, 'Vancouver', 5, 6, 'Happy New Year!'])\n",
        "x"
      ]
    },
    {
      "cell_type": "markdown",
      "metadata": {
        "id": "dI6uBvULyOl3"
      },
      "source": [
        "## 10.1 Series creation from ndarray"
      ]
    },
    {
      "cell_type": "markdown",
      "metadata": {
        "id": "01S-Ny2HyOl3"
      },
      "source": [
        "- Index must be of same length as data. If no index is passed, it will automatically be [0, ..., len(data) - 1]"
      ]
    },
    {
      "cell_type": "code",
      "execution_count": null,
      "metadata": {
        "id": "cBjhyRc8yOl3",
        "outputId": "4b550ce3-24af-4cbd-9e48-0ee94b23411b",
        "colab": {
          "base_uri": "https://localhost:8080/"
        }
      },
      "outputs": [
        {
          "output_type": "stream",
          "name": "stdout",
          "text": [
            "<class 'pandas.core.series.Series'>\n",
            "0     1\n",
            "1     2\n",
            "2     4\n",
            "3     8\n",
            "4    16\n",
            "5    32\n",
            "6    64\n",
            "dtype: int64\n",
            "<class 'pandas.core.series.Series'>\n",
            "0       3\n",
            "1       9\n",
            "2      27\n",
            "3      81\n",
            "4     243\n",
            "5     729\n",
            "6    2187\n",
            "dtype: int64\n"
          ]
        }
      ],
      "source": [
        "first_series = pd.Series([1,2,4,8,16,32,64])\n",
        "print(type(first_series))\n",
        "print(first_series)\n",
        "\n",
        "#made changes here\n",
        "#added second series and operate them\n",
        "second_series = pd.Series([3,9,27,81,243,729,2187])\n",
        "print(type(second_series))\n",
        "print(second_series)"
      ]
    },
    {
      "cell_type": "code",
      "execution_count": null,
      "metadata": {
        "id": "R3ZkJ1GmyOl3",
        "outputId": "ecef3004-cbc5-4f12-e039-c68ed3d30602",
        "colab": {
          "base_uri": "https://localhost:8080/"
        }
      },
      "outputs": [
        {
          "output_type": "stream",
          "name": "stdout",
          "text": [
            "a   -1.780951\n",
            "b    0.362363\n",
            "c    1.349804\n",
            "d    1.609385\n",
            "e   -0.850363\n",
            "dtype: float64\n",
            "--------------------------------------------------\n",
            "Index(['a', 'b', 'c', 'd', 'e'], dtype='object')\n",
            "a    0.800949\n",
            "b    0.078807\n",
            "c    0.560154\n",
            "d    0.206366\n",
            "e   -0.225566\n",
            "dtype: float64\n",
            "-----------------------------------\n",
            "Index(['a', 'b', 'c', 'd', 'e'], dtype='object')\n"
          ]
        }
      ],
      "source": [
        "import numpy as np\n",
        "s = pd.Series(np.random.randn(5), index=['a', 'b', 'c', 'd', 'e'])\n",
        "print(s)\n",
        "print('-'*50)\n",
        "print(s.index)\n",
        "\n",
        "#added new change here\n",
        "x = pd.Series(np.random.randn(5), index=['a', 'b', 'c', 'd', 'e'])\n",
        "print(x)\n",
        "print('-'*35)\n",
        "print(x.index)"
      ]
    },
    {
      "cell_type": "markdown",
      "metadata": {
        "id": "eMXtyavDyOl4"
      },
      "source": [
        "## 10.2 Series creation from dict"
      ]
    },
    {
      "cell_type": "markdown",
      "metadata": {
        "id": "hjoIsJ2IyOl4"
      },
      "source": [
        "- If Data is a dictionary, if index is passed the values in data corresponding to the labels in the index will be pulled out, otherwise an index will be constructed from the sorted keys of the dict."
      ]
    },
    {
      "cell_type": "code",
      "execution_count": 11,
      "metadata": {
        "id": "4xrcGFoTyOl4",
        "outputId": "d47c303f-cff6-486f-b5fa-be013a4574d3",
        "colab": {
          "base_uri": "https://localhost:8080/",
          "height": 272
        }
      },
      "outputs": [
        {
          "output_type": "execute_result",
          "data": {
            "text/plain": [
              "a    10\n",
              "b    20\n",
              "c    30\n",
              "d    40\n",
              "e    50\n",
              "f    60\n",
              "dtype: int64"
            ],
            "text/html": [
              "<div>\n",
              "<style scoped>\n",
              "    .dataframe tbody tr th:only-of-type {\n",
              "        vertical-align: middle;\n",
              "    }\n",
              "\n",
              "    .dataframe tbody tr th {\n",
              "        vertical-align: top;\n",
              "    }\n",
              "\n",
              "    .dataframe thead th {\n",
              "        text-align: right;\n",
              "    }\n",
              "</style>\n",
              "<table border=\"1\" class=\"dataframe\">\n",
              "  <thead>\n",
              "    <tr style=\"text-align: right;\">\n",
              "      <th></th>\n",
              "      <th>0</th>\n",
              "    </tr>\n",
              "  </thead>\n",
              "  <tbody>\n",
              "    <tr>\n",
              "      <th>a</th>\n",
              "      <td>10</td>\n",
              "    </tr>\n",
              "    <tr>\n",
              "      <th>b</th>\n",
              "      <td>20</td>\n",
              "    </tr>\n",
              "    <tr>\n",
              "      <th>c</th>\n",
              "      <td>30</td>\n",
              "    </tr>\n",
              "    <tr>\n",
              "      <th>d</th>\n",
              "      <td>40</td>\n",
              "    </tr>\n",
              "    <tr>\n",
              "      <th>e</th>\n",
              "      <td>50</td>\n",
              "    </tr>\n",
              "    <tr>\n",
              "      <th>f</th>\n",
              "      <td>60</td>\n",
              "    </tr>\n",
              "  </tbody>\n",
              "</table>\n",
              "</div><br><label><b>dtype:</b> int64</label>"
            ]
          },
          "metadata": {},
          "execution_count": 11
        }
      ],
      "source": [
        "#Change 14\n",
        "\n",
        "d = {'a': 100., 'b': 200., 'c': 300.}\n",
        "pd.Series(d)\n",
        "\n",
        "#changes made here\n",
        "#made changes to make it into an integar data type\n",
        "e = {'a': 10, 'b': 20, 'c': 30, 'd': 40, 'e': 50, 'f': 60}\n",
        "pd.Series(e)"
      ]
    },
    {
      "cell_type": "code",
      "execution_count": null,
      "metadata": {
        "id": "NkCxdZA_yOl4",
        "outputId": "f68a62be-1c5b-4124-be48-bbf94424b020"
      },
      "outputs": [
        {
          "data": {
            "text/plain": [
              "abc    1\n",
              "def    2\n",
              "xyz    3\n",
              "dtype: int64"
            ]
          },
          "execution_count": 5,
          "metadata": {},
          "output_type": "execute_result"
        }
      ],
      "source": [
        "data = {'abc': 1, 'def': 2, 'xyz': 3}\n",
        "pd.Series(data)"
      ]
    },
    {
      "cell_type": "markdown",
      "metadata": {
        "id": "H2MRRj99yOl4"
      },
      "source": [
        "## 10.3 Series creation from a scalar value"
      ]
    },
    {
      "cell_type": "markdown",
      "metadata": {
        "id": "KsGGOv8WyOl4"
      },
      "source": [
        "- Index must be provided. The value will be repeated to match the length of the index"
      ]
    },
    {
      "cell_type": "code",
      "execution_count": 14,
      "metadata": {
        "id": "b6Nk_rYGyOl4",
        "outputId": "949415fa-48c5-4837-f5a1-5fa20c90149a",
        "colab": {
          "base_uri": "https://localhost:8080/",
          "height": 178
        }
      },
      "outputs": [
        {
          "output_type": "execute_result",
          "data": {
            "text/plain": [
              "a    5.5\n",
              "b    5.5\n",
              "c    5.5\n",
              "dtype: float64"
            ],
            "text/html": [
              "<div>\n",
              "<style scoped>\n",
              "    .dataframe tbody tr th:only-of-type {\n",
              "        vertical-align: middle;\n",
              "    }\n",
              "\n",
              "    .dataframe tbody tr th {\n",
              "        vertical-align: top;\n",
              "    }\n",
              "\n",
              "    .dataframe thead th {\n",
              "        text-align: right;\n",
              "    }\n",
              "</style>\n",
              "<table border=\"1\" class=\"dataframe\">\n",
              "  <thead>\n",
              "    <tr style=\"text-align: right;\">\n",
              "      <th></th>\n",
              "      <th>0</th>\n",
              "    </tr>\n",
              "  </thead>\n",
              "  <tbody>\n",
              "    <tr>\n",
              "      <th>a</th>\n",
              "      <td>5.5</td>\n",
              "    </tr>\n",
              "    <tr>\n",
              "      <th>b</th>\n",
              "      <td>5.5</td>\n",
              "    </tr>\n",
              "    <tr>\n",
              "      <th>c</th>\n",
              "      <td>5.5</td>\n",
              "    </tr>\n",
              "  </tbody>\n",
              "</table>\n",
              "</div><br><label><b>dtype:</b> float64</label>"
            ]
          },
          "metadata": {},
          "execution_count": 14
        }
      ],
      "source": [
        "pd.Series(5, index = ['a', 'b', 'c'])\n",
        "\n",
        "#made changes here to make a float type series\n",
        "pd.Series(5.5, index = ['a', 'b', 'c'])"
      ]
    },
    {
      "cell_type": "code",
      "execution_count": 15,
      "metadata": {
        "id": "e6o_vTGqyOl5",
        "outputId": "2f5493bb-f247-4362-e120-0cbf5cf46c37",
        "colab": {
          "base_uri": "https://localhost:8080/",
          "height": 209
        }
      },
      "outputs": [
        {
          "output_type": "execute_result",
          "data": {
            "text/plain": [
              "a    3.0\n",
              "b    3.0\n",
              "c    3.0\n",
              "d    3.0\n",
              "dtype: float64"
            ],
            "text/html": [
              "<div>\n",
              "<style scoped>\n",
              "    .dataframe tbody tr th:only-of-type {\n",
              "        vertical-align: middle;\n",
              "    }\n",
              "\n",
              "    .dataframe tbody tr th {\n",
              "        vertical-align: top;\n",
              "    }\n",
              "\n",
              "    .dataframe thead th {\n",
              "        text-align: right;\n",
              "    }\n",
              "</style>\n",
              "<table border=\"1\" class=\"dataframe\">\n",
              "  <thead>\n",
              "    <tr style=\"text-align: right;\">\n",
              "      <th></th>\n",
              "      <th>0</th>\n",
              "    </tr>\n",
              "  </thead>\n",
              "  <tbody>\n",
              "    <tr>\n",
              "      <th>a</th>\n",
              "      <td>3.0</td>\n",
              "    </tr>\n",
              "    <tr>\n",
              "      <th>b</th>\n",
              "      <td>3.0</td>\n",
              "    </tr>\n",
              "    <tr>\n",
              "      <th>c</th>\n",
              "      <td>3.0</td>\n",
              "    </tr>\n",
              "    <tr>\n",
              "      <th>d</th>\n",
              "      <td>3.0</td>\n",
              "    </tr>\n",
              "  </tbody>\n",
              "</table>\n",
              "</div><br><label><b>dtype:</b> float64</label>"
            ]
          },
          "metadata": {},
          "execution_count": 15
        }
      ],
      "source": [
        "x = pd.Series(3, index=['a', 'b', 'c', 'd'])\n",
        "x\n",
        "\n",
        "#made changes here to make a float type series\n",
        "y = pd.Series(3.0, index=['a', 'b', 'c', 'd'])\n",
        "y"
      ]
    },
    {
      "cell_type": "markdown",
      "metadata": {
        "id": "0friS_53yOl5"
      },
      "source": [
        "## 10.4 Series is ndarray-like"
      ]
    },
    {
      "cell_type": "markdown",
      "metadata": {
        "id": "Brz5h-cpyOl5"
      },
      "source": [
        "- Series acts similar to a numpy array, and is valid arguments to most numpy functions.\n",
        "- Slicing also slices the index\n",
        "- Short Intro, back to this later\n"
      ]
    },
    {
      "cell_type": "code",
      "execution_count": null,
      "metadata": {
        "id": "IqC55bSIyOl5",
        "outputId": "f48584a4-43aa-4577-9246-f36a75397ee9"
      },
      "outputs": [
        {
          "name": "stdout",
          "output_type": "stream",
          "text": [
            "a    0.045078\n",
            "b    0.391752\n",
            "c   -0.065646\n",
            "d   -0.468091\n",
            "e    0.070352\n",
            "dtype: float64\n"
          ]
        }
      ],
      "source": [
        "s = pd.Series(np.random.randn(5), index=['a', 'b', 'c', 'd', 'e'])\n",
        "print(s)"
      ]
    },
    {
      "cell_type": "code",
      "execution_count": null,
      "metadata": {
        "id": "nSsIdb_YyOl5",
        "outputId": "f1670697-4d7f-42f9-e24b-42c1a61f039f"
      },
      "outputs": [
        {
          "ename": "TypeError",
          "evalue": "unhashable type: 'list'",
          "output_type": "error",
          "traceback": [
            "\u001b[1;31m---------------------------------------------------------------------------\u001b[0m",
            "\u001b[1;31mTypeError\u001b[0m                                 Traceback (most recent call last)",
            "\u001b[1;32m<ipython-input-72-f08cb25730d8>\u001b[0m in \u001b[0;36m<module>\u001b[1;34m()\u001b[0m\n\u001b[0;32m      1\u001b[0m \u001b[0ms\u001b[0m \u001b[1;33m=\u001b[0m \u001b[0mpd\u001b[0m\u001b[1;33m.\u001b[0m\u001b[0mSeries\u001b[0m\u001b[1;33m(\u001b[0m\u001b[0mnp\u001b[0m\u001b[1;33m.\u001b[0m\u001b[0mrandom\u001b[0m\u001b[1;33m.\u001b[0m\u001b[0mrandn\u001b[0m\u001b[1;33m(\u001b[0m\u001b[1;36m5\u001b[0m\u001b[1;33m)\u001b[0m\u001b[1;33m,\u001b[0m \u001b[0mindex\u001b[0m\u001b[1;33m=\u001b[0m\u001b[1;33m[\u001b[0m\u001b[1;34m'a'\u001b[0m\u001b[1;33m,\u001b[0m \u001b[1;34m'b'\u001b[0m\u001b[1;33m,\u001b[0m \u001b[1;34m'c'\u001b[0m\u001b[1;33m,\u001b[0m \u001b[1;34m'd'\u001b[0m\u001b[1;33m,\u001b[0m \u001b[1;34m'e'\u001b[0m\u001b[1;33m]\u001b[0m\u001b[1;33m)\u001b[0m\u001b[1;33m\u001b[0m\u001b[0m\n\u001b[1;32m----> 2\u001b[1;33m \u001b[1;32mprint\u001b[0m\u001b[1;33m(\u001b[0m\u001b[0ms\u001b[0m\u001b[1;33m.\u001b[0m\u001b[0miloc\u001b[0m\u001b[1;33m(\u001b[0m\u001b[1;33m[\u001b[0m\u001b[1;36m2\u001b[0m\u001b[1;33m,\u001b[0m\u001b[1;36m1\u001b[0m\u001b[1;33m,\u001b[0m\u001b[1;36m4\u001b[0m\u001b[1;33m]\u001b[0m\u001b[1;33m)\u001b[0m\u001b[1;33m)\u001b[0m\u001b[1;33m\u001b[0m\u001b[0m\n\u001b[0m",
            "\u001b[1;32mD:\\python\\lib\\site-packages\\pandas\\core\\indexing.pyc\u001b[0m in \u001b[0;36m__call__\u001b[1;34m(self, axis)\u001b[0m\n\u001b[0;32m    100\u001b[0m \u001b[1;33m\u001b[0m\u001b[0m\n\u001b[0;32m    101\u001b[0m         \u001b[1;32mif\u001b[0m \u001b[0maxis\u001b[0m \u001b[1;32mis\u001b[0m \u001b[1;32mnot\u001b[0m \u001b[0mNone\u001b[0m\u001b[1;33m:\u001b[0m\u001b[1;33m\u001b[0m\u001b[0m\n\u001b[1;32m--> 102\u001b[1;33m             \u001b[0maxis\u001b[0m \u001b[1;33m=\u001b[0m \u001b[0mself\u001b[0m\u001b[1;33m.\u001b[0m\u001b[0mobj\u001b[0m\u001b[1;33m.\u001b[0m\u001b[0m_get_axis_number\u001b[0m\u001b[1;33m(\u001b[0m\u001b[0maxis\u001b[0m\u001b[1;33m)\u001b[0m\u001b[1;33m\u001b[0m\u001b[0m\n\u001b[0m\u001b[0;32m    103\u001b[0m         \u001b[0mnew_self\u001b[0m\u001b[1;33m.\u001b[0m\u001b[0maxis\u001b[0m \u001b[1;33m=\u001b[0m \u001b[0maxis\u001b[0m\u001b[1;33m\u001b[0m\u001b[0m\n\u001b[0;32m    104\u001b[0m         \u001b[1;32mreturn\u001b[0m \u001b[0mnew_self\u001b[0m\u001b[1;33m\u001b[0m\u001b[0m\n",
            "\u001b[1;32mD:\\python\\lib\\site-packages\\pandas\\core\\generic.pyc\u001b[0m in \u001b[0;36m_get_axis_number\u001b[1;34m(cls, axis)\u001b[0m\n\u001b[0;32m    349\u001b[0m     \u001b[1;33m@\u001b[0m\u001b[0mclassmethod\u001b[0m\u001b[1;33m\u001b[0m\u001b[0m\n\u001b[0;32m    350\u001b[0m     \u001b[1;32mdef\u001b[0m \u001b[0m_get_axis_number\u001b[0m\u001b[1;33m(\u001b[0m\u001b[0mcls\u001b[0m\u001b[1;33m,\u001b[0m \u001b[0maxis\u001b[0m\u001b[1;33m)\u001b[0m\u001b[1;33m:\u001b[0m\u001b[1;33m\u001b[0m\u001b[0m\n\u001b[1;32m--> 351\u001b[1;33m         \u001b[0maxis\u001b[0m \u001b[1;33m=\u001b[0m \u001b[0mcls\u001b[0m\u001b[1;33m.\u001b[0m\u001b[0m_AXIS_ALIASES\u001b[0m\u001b[1;33m.\u001b[0m\u001b[0mget\u001b[0m\u001b[1;33m(\u001b[0m\u001b[0maxis\u001b[0m\u001b[1;33m,\u001b[0m \u001b[0maxis\u001b[0m\u001b[1;33m)\u001b[0m\u001b[1;33m\u001b[0m\u001b[0m\n\u001b[0m\u001b[0;32m    352\u001b[0m         \u001b[1;32mif\u001b[0m \u001b[0mis_integer\u001b[0m\u001b[1;33m(\u001b[0m\u001b[0maxis\u001b[0m\u001b[1;33m)\u001b[0m\u001b[1;33m:\u001b[0m\u001b[1;33m\u001b[0m\u001b[0m\n\u001b[0;32m    353\u001b[0m             \u001b[1;32mif\u001b[0m \u001b[0maxis\u001b[0m \u001b[1;32min\u001b[0m \u001b[0mcls\u001b[0m\u001b[1;33m.\u001b[0m\u001b[0m_AXIS_NAMES\u001b[0m\u001b[1;33m:\u001b[0m\u001b[1;33m\u001b[0m\u001b[0m\n",
            "\u001b[1;31mTypeError\u001b[0m: unhashable type: 'list'"
          ]
        }
      ],
      "source": [
        "s = pd.Series(np.random.randn(5), index=['a', 'b', 'c', 'd', 'e'])\n",
        "print(s.iloc([2,1,4]))"
      ]
    },
    {
      "cell_type": "code",
      "execution_count": null,
      "metadata": {
        "id": "53e1vgcQyOl6",
        "outputId": "769d5f9b-9a36-4e1d-b5a7-3cc33e69f153"
      },
      "outputs": [
        {
          "name": "stdout",
          "output_type": "stream",
          "text": [
            "a   -0.227998\n",
            "b    0.738016\n",
            "c    1.740076\n",
            "dtype: float64\n"
          ]
        }
      ],
      "source": [
        "s = pd.Series(np.random.randn(5), index=['a', 'b', 'c', 'd', 'e'])\n",
        "print(s[:3])"
      ]
    },
    {
      "cell_type": "code",
      "execution_count": null,
      "metadata": {
        "id": "TqGKKQbqyOl6",
        "outputId": "449b75b7-7e39-473b-ec56-a07335de35fc"
      },
      "outputs": [
        {
          "name": "stdout",
          "output_type": "stream",
          "text": [
            "d    0.659163\n",
            "c    0.038482\n",
            "b    0.071420\n",
            "dtype: float64\n"
          ]
        }
      ],
      "source": [
        "s = pd.Series(np.random.randn(5), index=['a', 'b', 'c', 'd', 'e'])\n",
        "print(s[[3,2,1]])"
      ]
    },
    {
      "cell_type": "code",
      "execution_count": null,
      "metadata": {
        "id": "3wxQHxy6yOl6",
        "outputId": "90757dfd-e469-48fb-a557-0485a46aae3b"
      },
      "outputs": [
        {
          "data": {
            "text/plain": [
              "a    0.353877\n",
              "b    0.151906\n",
              "c    4.624260\n",
              "d    0.832004\n",
              "e    1.734511\n",
              "dtype: float64"
            ]
          },
          "execution_count": 11,
          "metadata": {},
          "output_type": "execute_result"
        }
      ],
      "source": [
        "s = pd.Series(np.random.randn(5), index=['a', 'b', 'c', 'd', 'e'])\n",
        "np.exp(s)"
      ]
    },
    {
      "cell_type": "code",
      "execution_count": null,
      "metadata": {
        "id": "5iUQfdUhyOl6",
        "outputId": "4a61bec1-1fb1-4b63-ddfa-ad570aaac42b"
      },
      "outputs": [
        {
          "data": {
            "text/plain": [
              "-0.04321504853792073"
            ]
          },
          "execution_count": 12,
          "metadata": {},
          "output_type": "execute_result"
        }
      ],
      "source": [
        "s = pd.Series(np.random.randn(5), index=['a', 'b', 'c', 'd', 'e'])\n",
        "s['b']"
      ]
    },
    {
      "cell_type": "code",
      "execution_count": null,
      "metadata": {
        "id": "UDDwezMayOl6",
        "outputId": "070ebe27-4b55-466c-8840-cdbac139cdc6"
      },
      "outputs": [
        {
          "data": {
            "text/plain": [
              "a    -1.089450\n",
              "b    12.000000\n",
              "c    -0.415381\n",
              "d    -1.272492\n",
              "e    -0.096899\n",
              "dtype: float64"
            ]
          },
          "execution_count": 13,
          "metadata": {},
          "output_type": "execute_result"
        }
      ],
      "source": [
        "s = pd.Series(np.random.randn(5), index=['a', 'b', 'c', 'd', 'e'])\n",
        "s['b']=12.\n",
        "s"
      ]
    },
    {
      "cell_type": "code",
      "execution_count": null,
      "metadata": {
        "id": "k_XnicdVyOl7",
        "outputId": "502ccae4-b0dd-44ef-f6b7-8f07a0fb0676"
      },
      "outputs": [
        {
          "data": {
            "text/plain": [
              "True"
            ]
          },
          "execution_count": 14,
          "metadata": {},
          "output_type": "execute_result"
        }
      ],
      "source": [
        "s = pd.Series(np.random.randn(5), index=['a', 'b', 'c', 'd', 'e'])\n",
        "'e' in s"
      ]
    },
    {
      "cell_type": "code",
      "execution_count": null,
      "metadata": {
        "id": "uMCSf_Y2yOl7",
        "outputId": "fe949d5a-0b4b-47d6-8aa3-56bfc443168d"
      },
      "outputs": [
        {
          "data": {
            "text/plain": [
              "False"
            ]
          },
          "execution_count": 15,
          "metadata": {},
          "output_type": "execute_result"
        }
      ],
      "source": [
        "s = pd.Series(np.random.randn(5), index=['a', 'b', 'c', 'd', 'e'])\n",
        "'f' in s"
      ]
    },
    {
      "cell_type": "markdown",
      "metadata": {
        "id": "FFBYK173yOl7"
      },
      "source": [
        "## 10.5 Series is dict-like"
      ]
    },
    {
      "cell_type": "markdown",
      "metadata": {
        "id": "D63HP5uryOl7"
      },
      "source": [
        "- A Series is like a xed-size dict in that you can get and set values by index label\n"
      ]
    },
    {
      "cell_type": "code",
      "execution_count": 19,
      "metadata": {
        "id": "vaoksIR6yOl7",
        "outputId": "0e09cf6d-23ec-4b4a-d48a-b294d4f62f1d",
        "colab": {
          "base_uri": "https://localhost:8080/"
        }
      },
      "outputs": [
        {
          "output_type": "execute_result",
          "data": {
            "text/plain": [
              "{0: 'Ana', 1: 'Bob', 2: 'Cole', 3: 'Danny'}"
            ]
          },
          "metadata": {},
          "execution_count": 19
        }
      ],
      "source": [
        "s = pd.Series([1, 2, 3, 4])\n",
        "s.to_dict()\n",
        "\n",
        "#changes made here to make it a name array\n",
        "x = pd.Series(['Ana', 'Bob', 'Cole', 'Danny'])\n",
        "x.to_dict()"
      ]
    },
    {
      "cell_type": "markdown",
      "metadata": {
        "id": "180ETyUjyOl8"
      },
      "source": [
        "## 10.6 Vectorized operations and label alignment with Series"
      ]
    },
    {
      "cell_type": "markdown",
      "metadata": {
        "id": "KCB-XKkvyOl8"
      },
      "source": [
        "- When doing data analysis,as with the row NumPy arrays looping through series value by value is usually not necessary.\n",
        "- Series can also be passed into most NumPy method expecting an ndarray.\n",
        "- NumPy and Pandas generalize arithmetic operations so that we can easily and quickly perform the same operation on many array elements. For example:"
      ]
    },
    {
      "cell_type": "code",
      "execution_count": 23,
      "metadata": {
        "id": "yb9MTS7uyOl8",
        "colab": {
          "base_uri": "https://localhost:8080/"
        },
        "outputId": "afccf3b2-d690-4898-8dc4-099c56fa46db"
      },
      "outputs": [
        {
          "output_type": "execute_result",
          "data": {
            "text/plain": [
              "array([   27,   729,  1331,  4913,  9261, 29791])"
            ]
          },
          "metadata": {},
          "execution_count": 23
        }
      ],
      "source": [
        "import numpy as np\n",
        "x = np.array([2, 3, 5, 7, 11, 13])\n",
        "x * 2\n",
        "\n",
        "#made changes here\n",
        "#added a new variable here and made it to calculate it to power 3\n",
        "y = np.array([3, 9, 11, 17, 21, 31])\n",
        "y ** 3"
      ]
    },
    {
      "cell_type": "code",
      "execution_count": 21,
      "metadata": {
        "id": "T0XjCey7yOl8",
        "colab": {
          "base_uri": "https://localhost:8080/"
        },
        "outputId": "97a809d3-dccc-449d-bd76-771dc2d214e3"
      },
      "outputs": [
        {
          "output_type": "execute_result",
          "data": {
            "text/plain": [
              "['Saima', 'Aisha', 'Faiza', 'Saira']"
            ]
          },
          "metadata": {},
          "execution_count": 21
        }
      ],
      "source": [
        "data = ['saima', 'aisha', 'faiza', 'saira']\n",
        "[s.capitalize() for s in data]"
      ]
    },
    {
      "cell_type": "markdown",
      "metadata": {
        "id": "bpxpEP8EyOl8"
      },
      "source": [
        "# 11.Data Frames"
      ]
    },
    {
      "cell_type": "markdown",
      "metadata": {
        "id": "8BXIK4ggyOl8"
      },
      "source": [
        "- A DataFrame is a two dimensional object that can have columns with potential different types. Different kind of inputs include dictionaries, lists, series, and even another DataFrame.\n",
        "- It is the most commonly used pandas object.\n",
        "- You can create a series from:\n",
        "    - Dict of 1D ndarrays, lists, dicts, or Series\n",
        "    - 2-D numpy array\n",
        "    - A list of dictionaries\n",
        "    - A Series\n",
        "    - Another Dataframe\n",
        "  \n",
        "- index/ columns is a list of the row/ column labels. If you pass an index and/ or columns, you are guarenteeing the index and /or column of the df.\n",
        "- If you do not pass anything in, the input will be constructed by \"common sense\" rules"
      ]
    },
    {
      "cell_type": "code",
      "execution_count": null,
      "metadata": {
        "id": "1J32JzcfyOl8"
      },
      "outputs": [],
      "source": [
        "dates = pd.date_range('20130101',periods=6)\n",
        "dates"
      ]
    },
    {
      "cell_type": "markdown",
      "metadata": {
        "id": "4p-RjZzryOl9"
      },
      "source": [
        "## 11.1 Dataframe creation from dict of series or dicts"
      ]
    },
    {
      "cell_type": "markdown",
      "metadata": {
        "id": "TwildvJwyOl9"
      },
      "source": [
        " - The index of the resulting DataFrame will be the union of the indices of the various Series. If there are any nested dicts, these will be converted to Series.\n",
        " - If no columns are passed, the columns will be the sorted list of dict keys."
      ]
    },
    {
      "cell_type": "code",
      "execution_count": 28,
      "metadata": {
        "id": "jMeigrnSyOl9",
        "outputId": "12fdad33-fd72-461e-b961-4f55bc46827e",
        "colab": {
          "base_uri": "https://localhost:8080/"
        }
      },
      "outputs": [
        {
          "output_type": "stream",
          "name": "stdout",
          "text": [
            "   one  two\n",
            "a  1.0    0\n",
            "b  2.0    1\n",
            "c  3.0    2\n",
            "d  NaN    3\n",
            "   one  two\n",
            "a  1.0    0\n",
            "b  2.0    1\n",
            "c  3.0    2\n",
            "d  4.0    3\n",
            "e  5.0    4\n",
            "f  6.0    5\n",
            "g  7.0    6\n",
            "h  NaN    7\n",
            "i  NaN    8\n",
            "j  NaN    9\n"
          ]
        }
      ],
      "source": [
        "# Create a dictionary of series\n",
        "d = {'one': pd.Series([1,2,3], index = ['a', 'b', 'c']),\n",
        "'two': pd.Series(list(range(4)), index = ['a','b', 'c', 'd'])}\n",
        "# Columns are dictionary keys, indices and values obtained from series\n",
        "df = pd.DataFrame(d)\n",
        "# Notice how it fills the column one with NaN for d\n",
        "print(df)\n",
        "\n",
        "#created another dataframe here\n",
        "# Create a dictionary of series\n",
        "e = {'one': pd.Series([1,2,3,4,5,6,7], index = ['a', 'b', 'c', 'd', 'e', 'f', 'g']),\n",
        "'two': pd.Series(list(range(10)), index = ['a','b', 'c', 'd','e','f', 'g', 'h', 'i', 'j'])}\n",
        "# Columns are dictionary keys, indices and values obtained from series\n",
        "ef = pd.DataFrame(e)\n",
        "# Notice how it fills the column one with NaN for d\n",
        "print(ef)"
      ]
    },
    {
      "cell_type": "code",
      "execution_count": null,
      "metadata": {
        "id": "TUxXLngayOl-",
        "outputId": "39322feb-696b-4ca9-cb17-52d7d1aa3b11"
      },
      "outputs": [
        {
          "data": {
            "text/html": [
              "<div>\n",
              "<style scoped>\n",
              "    .dataframe tbody tr th:only-of-type {\n",
              "        vertical-align: middle;\n",
              "    }\n",
              "\n",
              "    .dataframe tbody tr th {\n",
              "        vertical-align: top;\n",
              "    }\n",
              "\n",
              "    .dataframe thead th {\n",
              "        text-align: right;\n",
              "    }\n",
              "</style>\n",
              "<table border=\"1\" class=\"dataframe\">\n",
              "  <thead>\n",
              "    <tr style=\"text-align: right;\">\n",
              "      <th></th>\n",
              "      <th>col1</th>\n",
              "      <th>col2</th>\n",
              "    </tr>\n",
              "  </thead>\n",
              "  <tbody>\n",
              "    <tr>\n",
              "      <th>0</th>\n",
              "      <td>1</td>\n",
              "      <td>3</td>\n",
              "    </tr>\n",
              "    <tr>\n",
              "      <th>1</th>\n",
              "      <td>2</td>\n",
              "      <td>4</td>\n",
              "    </tr>\n",
              "  </tbody>\n",
              "</table>\n",
              "</div>"
            ],
            "text/plain": [
              "   col1  col2\n",
              "0     1     3\n",
              "1     2     4"
            ]
          },
          "execution_count": 18,
          "metadata": {},
          "output_type": "execute_result"
        }
      ],
      "source": [
        " d = {'col1': [1, 2], 'col2': [3, 4]}\n",
        " df = pd.DataFrame(data=d)\n",
        " df"
      ]
    },
    {
      "cell_type": "markdown",
      "metadata": {
        "id": "mvK2GFyByOl-"
      },
      "source": [
        "## 11.2  Dataframe creation from dict of ndarrays/lists"
      ]
    },
    {
      "cell_type": "markdown",
      "metadata": {
        "id": "UGb600_WyOl-"
      },
      "source": [
        " - The ndarrays must all be the same length.\n",
        " - If an index is passed, it must clearly also be the same length as the arrays. If no index is passed, the result will be range(n), where n is the array length."
      ]
    },
    {
      "cell_type": "code",
      "execution_count": null,
      "metadata": {
        "id": "6bNw6BszyOl-",
        "outputId": "711d7827-e11d-4936-86e4-928f78f5e2b3"
      },
      "outputs": [
        {
          "data": {
            "text/html": [
              "<div>\n",
              "<style scoped>\n",
              "    .dataframe tbody tr th:only-of-type {\n",
              "        vertical-align: middle;\n",
              "    }\n",
              "\n",
              "    .dataframe tbody tr th {\n",
              "        vertical-align: top;\n",
              "    }\n",
              "\n",
              "    .dataframe thead th {\n",
              "        text-align: right;\n",
              "    }\n",
              "</style>\n",
              "<table border=\"1\" class=\"dataframe\">\n",
              "  <thead>\n",
              "    <tr style=\"text-align: right;\">\n",
              "      <th></th>\n",
              "      <th>one</th>\n",
              "      <th>two</th>\n",
              "    </tr>\n",
              "  </thead>\n",
              "  <tbody>\n",
              "    <tr>\n",
              "      <th>0</th>\n",
              "      <td>1.0</td>\n",
              "      <td>4.0</td>\n",
              "    </tr>\n",
              "    <tr>\n",
              "      <th>1</th>\n",
              "      <td>2.0</td>\n",
              "      <td>3.0</td>\n",
              "    </tr>\n",
              "    <tr>\n",
              "      <th>2</th>\n",
              "      <td>3.0</td>\n",
              "      <td>2.0</td>\n",
              "    </tr>\n",
              "    <tr>\n",
              "      <th>3</th>\n",
              "      <td>4.0</td>\n",
              "      <td>1.0</td>\n",
              "    </tr>\n",
              "  </tbody>\n",
              "</table>\n",
              "</div>"
            ],
            "text/plain": [
              "   one  two\n",
              "0  1.0  4.0\n",
              "1  2.0  3.0\n",
              "2  3.0  2.0\n",
              "3  4.0  1.0"
            ]
          },
          "execution_count": 19,
          "metadata": {},
          "output_type": "execute_result"
        }
      ],
      "source": [
        "d = {'one' : [1., 2., 3., 4.], 'two' : [4., 3., 2., 1.]}\n",
        "pd.DataFrame(d)"
      ]
    },
    {
      "cell_type": "code",
      "execution_count": null,
      "metadata": {
        "id": "40LfkQw_yOl-",
        "outputId": "13763f1a-7c4e-499c-a481-21cf0eb83d93"
      },
      "outputs": [
        {
          "data": {
            "text/html": [
              "<div>\n",
              "<style scoped>\n",
              "    .dataframe tbody tr th:only-of-type {\n",
              "        vertical-align: middle;\n",
              "    }\n",
              "\n",
              "    .dataframe tbody tr th {\n",
              "        vertical-align: top;\n",
              "    }\n",
              "\n",
              "    .dataframe thead th {\n",
              "        text-align: right;\n",
              "    }\n",
              "</style>\n",
              "<table border=\"1\" class=\"dataframe\">\n",
              "  <thead>\n",
              "    <tr style=\"text-align: right;\">\n",
              "      <th></th>\n",
              "      <th>a</th>\n",
              "      <th>b</th>\n",
              "      <th>c</th>\n",
              "      <th>d</th>\n",
              "      <th>e</th>\n",
              "    </tr>\n",
              "  </thead>\n",
              "  <tbody>\n",
              "    <tr>\n",
              "      <th>0</th>\n",
              "      <td>4</td>\n",
              "      <td>7</td>\n",
              "      <td>6</td>\n",
              "      <td>3</td>\n",
              "      <td>1</td>\n",
              "    </tr>\n",
              "    <tr>\n",
              "      <th>1</th>\n",
              "      <td>7</td>\n",
              "      <td>1</td>\n",
              "      <td>7</td>\n",
              "      <td>7</td>\n",
              "      <td>4</td>\n",
              "    </tr>\n",
              "    <tr>\n",
              "      <th>2</th>\n",
              "      <td>1</td>\n",
              "      <td>0</td>\n",
              "      <td>3</td>\n",
              "      <td>8</td>\n",
              "      <td>0</td>\n",
              "    </tr>\n",
              "    <tr>\n",
              "      <th>3</th>\n",
              "      <td>3</td>\n",
              "      <td>0</td>\n",
              "      <td>9</td>\n",
              "      <td>5</td>\n",
              "      <td>1</td>\n",
              "    </tr>\n",
              "    <tr>\n",
              "      <th>4</th>\n",
              "      <td>0</td>\n",
              "      <td>3</td>\n",
              "      <td>2</td>\n",
              "      <td>3</td>\n",
              "      <td>9</td>\n",
              "    </tr>\n",
              "  </tbody>\n",
              "</table>\n",
              "</div>"
            ],
            "text/plain": [
              "   a  b  c  d  e\n",
              "0  4  7  6  3  1\n",
              "1  7  1  7  7  4\n",
              "2  1  0  3  8  0\n",
              "3  3  0  9  5  1\n",
              "4  0  3  2  3  9"
            ]
          },
          "execution_count": 20,
          "metadata": {},
          "output_type": "execute_result"
        }
      ],
      "source": [
        "df2 = pd.DataFrame(np.random.randint(low=0, high=10, size=(5, 5)), columns=['a', 'b', 'c', 'd', 'e'])\n",
        "df2"
      ]
    },
    {
      "cell_type": "markdown",
      "metadata": {
        "id": "BZQPX4VQyOl-"
      },
      "source": [
        "## 11.3 Dataframe creation from a list of dicts"
      ]
    },
    {
      "cell_type": "code",
      "execution_count": 29,
      "metadata": {
        "id": "wRmFQs8IyOl_",
        "outputId": "c4a03823-71fc-4156-9fe0-dae13b3c6fcc",
        "colab": {
          "base_uri": "https://localhost:8080/",
          "height": 776
        }
      },
      "outputs": [
        {
          "output_type": "execute_result",
          "data": {
            "text/plain": [
              "    a   b   c   d   e   f     g\n",
              "0  10  20  30  40  50  60   NaN\n",
              "1   5  10  15  20  25  30  35.0"
            ],
            "text/html": [
              "\n",
              "  <div id=\"df-b8f5be5b-a025-45ae-a6b4-2008f92fc3a1\" class=\"colab-df-container\">\n",
              "    <div>\n",
              "<style scoped>\n",
              "    .dataframe tbody tr th:only-of-type {\n",
              "        vertical-align: middle;\n",
              "    }\n",
              "\n",
              "    .dataframe tbody tr th {\n",
              "        vertical-align: top;\n",
              "    }\n",
              "\n",
              "    .dataframe thead th {\n",
              "        text-align: right;\n",
              "    }\n",
              "</style>\n",
              "<table border=\"1\" class=\"dataframe\">\n",
              "  <thead>\n",
              "    <tr style=\"text-align: right;\">\n",
              "      <th></th>\n",
              "      <th>a</th>\n",
              "      <th>b</th>\n",
              "      <th>c</th>\n",
              "      <th>d</th>\n",
              "      <th>e</th>\n",
              "      <th>f</th>\n",
              "      <th>g</th>\n",
              "    </tr>\n",
              "  </thead>\n",
              "  <tbody>\n",
              "    <tr>\n",
              "      <th>0</th>\n",
              "      <td>10</td>\n",
              "      <td>20</td>\n",
              "      <td>30</td>\n",
              "      <td>40</td>\n",
              "      <td>50</td>\n",
              "      <td>60</td>\n",
              "      <td>NaN</td>\n",
              "    </tr>\n",
              "    <tr>\n",
              "      <th>1</th>\n",
              "      <td>5</td>\n",
              "      <td>10</td>\n",
              "      <td>15</td>\n",
              "      <td>20</td>\n",
              "      <td>25</td>\n",
              "      <td>30</td>\n",
              "      <td>35.0</td>\n",
              "    </tr>\n",
              "  </tbody>\n",
              "</table>\n",
              "</div>\n",
              "    <div class=\"colab-df-buttons\">\n",
              "\n",
              "  <div class=\"colab-df-container\">\n",
              "    <button class=\"colab-df-convert\" onclick=\"convertToInteractive('df-b8f5be5b-a025-45ae-a6b4-2008f92fc3a1')\"\n",
              "            title=\"Convert this dataframe to an interactive table.\"\n",
              "            style=\"display:none;\">\n",
              "\n",
              "  <svg xmlns=\"http://www.w3.org/2000/svg\" height=\"24px\" viewBox=\"0 -960 960 960\">\n",
              "    <path d=\"M120-120v-720h720v720H120Zm60-500h600v-160H180v160Zm220 220h160v-160H400v160Zm0 220h160v-160H400v160ZM180-400h160v-160H180v160Zm440 0h160v-160H620v160ZM180-180h160v-160H180v160Zm440 0h160v-160H620v160Z\"/>\n",
              "  </svg>\n",
              "    </button>\n",
              "\n",
              "  <style>\n",
              "    .colab-df-container {\n",
              "      display:flex;\n",
              "      gap: 12px;\n",
              "    }\n",
              "\n",
              "    .colab-df-convert {\n",
              "      background-color: #E8F0FE;\n",
              "      border: none;\n",
              "      border-radius: 50%;\n",
              "      cursor: pointer;\n",
              "      display: none;\n",
              "      fill: #1967D2;\n",
              "      height: 32px;\n",
              "      padding: 0 0 0 0;\n",
              "      width: 32px;\n",
              "    }\n",
              "\n",
              "    .colab-df-convert:hover {\n",
              "      background-color: #E2EBFA;\n",
              "      box-shadow: 0px 1px 2px rgba(60, 64, 67, 0.3), 0px 1px 3px 1px rgba(60, 64, 67, 0.15);\n",
              "      fill: #174EA6;\n",
              "    }\n",
              "\n",
              "    .colab-df-buttons div {\n",
              "      margin-bottom: 4px;\n",
              "    }\n",
              "\n",
              "    [theme=dark] .colab-df-convert {\n",
              "      background-color: #3B4455;\n",
              "      fill: #D2E3FC;\n",
              "    }\n",
              "\n",
              "    [theme=dark] .colab-df-convert:hover {\n",
              "      background-color: #434B5C;\n",
              "      box-shadow: 0px 1px 3px 1px rgba(0, 0, 0, 0.15);\n",
              "      filter: drop-shadow(0px 1px 2px rgba(0, 0, 0, 0.3));\n",
              "      fill: #FFFFFF;\n",
              "    }\n",
              "  </style>\n",
              "\n",
              "    <script>\n",
              "      const buttonEl =\n",
              "        document.querySelector('#df-b8f5be5b-a025-45ae-a6b4-2008f92fc3a1 button.colab-df-convert');\n",
              "      buttonEl.style.display =\n",
              "        google.colab.kernel.accessAllowed ? 'block' : 'none';\n",
              "\n",
              "      async function convertToInteractive(key) {\n",
              "        const element = document.querySelector('#df-b8f5be5b-a025-45ae-a6b4-2008f92fc3a1');\n",
              "        const dataTable =\n",
              "          await google.colab.kernel.invokeFunction('convertToInteractive',\n",
              "                                                    [key], {});\n",
              "        if (!dataTable) return;\n",
              "\n",
              "        const docLinkHtml = 'Like what you see? Visit the ' +\n",
              "          '<a target=\"_blank\" href=https://colab.research.google.com/notebooks/data_table.ipynb>data table notebook</a>'\n",
              "          + ' to learn more about interactive tables.';\n",
              "        element.innerHTML = '';\n",
              "        dataTable['output_type'] = 'display_data';\n",
              "        await google.colab.output.renderOutput(dataTable, element);\n",
              "        const docLink = document.createElement('div');\n",
              "        docLink.innerHTML = docLinkHtml;\n",
              "        element.appendChild(docLink);\n",
              "      }\n",
              "    </script>\n",
              "  </div>\n",
              "\n",
              "\n",
              "<div id=\"df-be2a26e8-d9b7-4273-a9cd-46a2ab083fd1\">\n",
              "  <button class=\"colab-df-quickchart\" onclick=\"quickchart('df-be2a26e8-d9b7-4273-a9cd-46a2ab083fd1')\"\n",
              "            title=\"Suggest charts\"\n",
              "            style=\"display:none;\">\n",
              "\n",
              "<svg xmlns=\"http://www.w3.org/2000/svg\" height=\"24px\"viewBox=\"0 0 24 24\"\n",
              "     width=\"24px\">\n",
              "    <g>\n",
              "        <path d=\"M19 3H5c-1.1 0-2 .9-2 2v14c0 1.1.9 2 2 2h14c1.1 0 2-.9 2-2V5c0-1.1-.9-2-2-2zM9 17H7v-7h2v7zm4 0h-2V7h2v10zm4 0h-2v-4h2v4z\"/>\n",
              "    </g>\n",
              "</svg>\n",
              "  </button>\n",
              "\n",
              "<style>\n",
              "  .colab-df-quickchart {\n",
              "      --bg-color: #E8F0FE;\n",
              "      --fill-color: #1967D2;\n",
              "      --hover-bg-color: #E2EBFA;\n",
              "      --hover-fill-color: #174EA6;\n",
              "      --disabled-fill-color: #AAA;\n",
              "      --disabled-bg-color: #DDD;\n",
              "  }\n",
              "\n",
              "  [theme=dark] .colab-df-quickchart {\n",
              "      --bg-color: #3B4455;\n",
              "      --fill-color: #D2E3FC;\n",
              "      --hover-bg-color: #434B5C;\n",
              "      --hover-fill-color: #FFFFFF;\n",
              "      --disabled-bg-color: #3B4455;\n",
              "      --disabled-fill-color: #666;\n",
              "  }\n",
              "\n",
              "  .colab-df-quickchart {\n",
              "    background-color: var(--bg-color);\n",
              "    border: none;\n",
              "    border-radius: 50%;\n",
              "    cursor: pointer;\n",
              "    display: none;\n",
              "    fill: var(--fill-color);\n",
              "    height: 32px;\n",
              "    padding: 0;\n",
              "    width: 32px;\n",
              "  }\n",
              "\n",
              "  .colab-df-quickchart:hover {\n",
              "    background-color: var(--hover-bg-color);\n",
              "    box-shadow: 0 1px 2px rgba(60, 64, 67, 0.3), 0 1px 3px 1px rgba(60, 64, 67, 0.15);\n",
              "    fill: var(--button-hover-fill-color);\n",
              "  }\n",
              "\n",
              "  .colab-df-quickchart-complete:disabled,\n",
              "  .colab-df-quickchart-complete:disabled:hover {\n",
              "    background-color: var(--disabled-bg-color);\n",
              "    fill: var(--disabled-fill-color);\n",
              "    box-shadow: none;\n",
              "  }\n",
              "\n",
              "  .colab-df-spinner {\n",
              "    border: 2px solid var(--fill-color);\n",
              "    border-color: transparent;\n",
              "    border-bottom-color: var(--fill-color);\n",
              "    animation:\n",
              "      spin 1s steps(1) infinite;\n",
              "  }\n",
              "\n",
              "  @keyframes spin {\n",
              "    0% {\n",
              "      border-color: transparent;\n",
              "      border-bottom-color: var(--fill-color);\n",
              "      border-left-color: var(--fill-color);\n",
              "    }\n",
              "    20% {\n",
              "      border-color: transparent;\n",
              "      border-left-color: var(--fill-color);\n",
              "      border-top-color: var(--fill-color);\n",
              "    }\n",
              "    30% {\n",
              "      border-color: transparent;\n",
              "      border-left-color: var(--fill-color);\n",
              "      border-top-color: var(--fill-color);\n",
              "      border-right-color: var(--fill-color);\n",
              "    }\n",
              "    40% {\n",
              "      border-color: transparent;\n",
              "      border-right-color: var(--fill-color);\n",
              "      border-top-color: var(--fill-color);\n",
              "    }\n",
              "    60% {\n",
              "      border-color: transparent;\n",
              "      border-right-color: var(--fill-color);\n",
              "    }\n",
              "    80% {\n",
              "      border-color: transparent;\n",
              "      border-right-color: var(--fill-color);\n",
              "      border-bottom-color: var(--fill-color);\n",
              "    }\n",
              "    90% {\n",
              "      border-color: transparent;\n",
              "      border-bottom-color: var(--fill-color);\n",
              "    }\n",
              "  }\n",
              "</style>\n",
              "\n",
              "  <script>\n",
              "    async function quickchart(key) {\n",
              "      const quickchartButtonEl =\n",
              "        document.querySelector('#' + key + ' button');\n",
              "      quickchartButtonEl.disabled = true;  // To prevent multiple clicks.\n",
              "      quickchartButtonEl.classList.add('colab-df-spinner');\n",
              "      try {\n",
              "        const charts = await google.colab.kernel.invokeFunction(\n",
              "            'suggestCharts', [key], {});\n",
              "      } catch (error) {\n",
              "        console.error('Error during call to suggestCharts:', error);\n",
              "      }\n",
              "      quickchartButtonEl.classList.remove('colab-df-spinner');\n",
              "      quickchartButtonEl.classList.add('colab-df-quickchart-complete');\n",
              "    }\n",
              "    (() => {\n",
              "      let quickchartButtonEl =\n",
              "        document.querySelector('#df-be2a26e8-d9b7-4273-a9cd-46a2ab083fd1 button');\n",
              "      quickchartButtonEl.style.display =\n",
              "        google.colab.kernel.accessAllowed ? 'block' : 'none';\n",
              "    })();\n",
              "  </script>\n",
              "</div>\n",
              "\n",
              "    </div>\n",
              "  </div>\n"
            ],
            "application/vnd.google.colaboratory.intrinsic+json": {
              "type": "dataframe",
              "summary": "{\n  \"name\": \"pd\",\n  \"rows\": 2,\n  \"fields\": [\n    {\n      \"column\": \"a\",\n      \"properties\": {\n        \"dtype\": \"number\",\n        \"std\": 3,\n        \"min\": 5,\n        \"max\": 10,\n        \"num_unique_values\": 2,\n        \"samples\": [\n          5,\n          10\n        ],\n        \"semantic_type\": \"\",\n        \"description\": \"\"\n      }\n    },\n    {\n      \"column\": \"b\",\n      \"properties\": {\n        \"dtype\": \"number\",\n        \"std\": 7,\n        \"min\": 10,\n        \"max\": 20,\n        \"num_unique_values\": 2,\n        \"samples\": [\n          10,\n          20\n        ],\n        \"semantic_type\": \"\",\n        \"description\": \"\"\n      }\n    },\n    {\n      \"column\": \"c\",\n      \"properties\": {\n        \"dtype\": \"number\",\n        \"std\": 10,\n        \"min\": 15,\n        \"max\": 30,\n        \"num_unique_values\": 2,\n        \"samples\": [\n          15,\n          30\n        ],\n        \"semantic_type\": \"\",\n        \"description\": \"\"\n      }\n    },\n    {\n      \"column\": \"d\",\n      \"properties\": {\n        \"dtype\": \"number\",\n        \"std\": 14,\n        \"min\": 20,\n        \"max\": 40,\n        \"num_unique_values\": 2,\n        \"samples\": [\n          20,\n          40\n        ],\n        \"semantic_type\": \"\",\n        \"description\": \"\"\n      }\n    },\n    {\n      \"column\": \"e\",\n      \"properties\": {\n        \"dtype\": \"number\",\n        \"std\": 17,\n        \"min\": 25,\n        \"max\": 50,\n        \"num_unique_values\": 2,\n        \"samples\": [\n          25,\n          50\n        ],\n        \"semantic_type\": \"\",\n        \"description\": \"\"\n      }\n    },\n    {\n      \"column\": \"f\",\n      \"properties\": {\n        \"dtype\": \"number\",\n        \"std\": 21,\n        \"min\": 30,\n        \"max\": 60,\n        \"num_unique_values\": 2,\n        \"samples\": [\n          30,\n          60\n        ],\n        \"semantic_type\": \"\",\n        \"description\": \"\"\n      }\n    },\n    {\n      \"column\": \"g\",\n      \"properties\": {\n        \"dtype\": \"number\",\n        \"std\": null,\n        \"min\": 35.0,\n        \"max\": 35.0,\n        \"num_unique_values\": 1,\n        \"samples\": [\n          35.0\n        ],\n        \"semantic_type\": \"\",\n        \"description\": \"\"\n      }\n    }\n  ]\n}"
            }
          },
          "metadata": {},
          "execution_count": 29
        },
        {
          "output_type": "display_data",
          "data": {
            "text/plain": [
              "<google.colab._quickchart_helpers.SectionTitle at 0x7ad8adf0add0>"
            ],
            "text/html": [
              "<h4 class=\"colab-quickchart-section-title\">Distributions</h4>\n",
              "<style>\n",
              "  .colab-quickchart-section-title {\n",
              "      clear: both;\n",
              "  }\n",
              "</style>"
            ]
          },
          "metadata": {}
        },
        {
          "output_type": "display_data",
          "data": {
            "text/plain": [
              "from matplotlib import pyplot as plt\n",
              "_df_0['index'].plot(kind='hist', bins=20, title='index')\n",
              "plt.gca().spines[['top', 'right',]].set_visible(False)"
            ],
            "text/html": [
              "      <div class=\"colab-quickchart-chart-with-code\" id=\"chart-fc538d8a-7605-47ef-b148-78ba8a105eb9\">\n",
              "        <img style=\"width: 180px;\" src=\"data:image/png;base64,iVBORw0KGgoAAAANSUhEUgAAAioAAAGrCAYAAADuNLxTAAAAOXRFWHRTb2Z0d2FyZQBNYXRwbG90\n",
              "bGliIHZlcnNpb24zLjcuMSwgaHR0cHM6Ly9tYXRwbG90bGliLm9yZy/bCgiHAAAACXBIWXMAAA9h\n",
              "AAAPYQGoP6dpAAAex0lEQVR4nO3dfZCV5X3/8c/KpttUBYyBQICVIIJoFIJC/YFtVSZTbARTsJlo\n",
              "idDIg9YZ2+IES9SJTy3GTqaxZjKu4tAapkksmIRqHmYMxmqCAmp8wBpAxUWD4MSRJY0iu9y/P5zs\n",
              "ZEuwLNmzey28XjNnhnP22nu/5xon+8459567rqqqKgAABTqipwcAANgfoQIAFEuoAADFEioAQLGE\n",
              "CgBQLKECABRLqAAAxRIqAECxhAoAUCyhAtTMueeemxtvvPGgv//MM8/Mdddd13UDAb1OfU8PABy6\n",
              "vve97/X0CEAv5xUVAKBYQgWombPOOivXXHNNkqSuri633XZbJk+enKOOOiqnnHJKHnnkkfa1ra2t\n",
              "WbRoUQYNGpQBAwZk8eLF+xzv1VdfzUUXXZQhQ4Zk4MCBufDCC/P6668nSX70ox/lyCOPzLp165Ik\n",
              "VVXlE5/4RKZNmxbXXoXeS6gA3Wbp0qX5t3/7t7z55puZMmVK/vIv/7L9a7fcckvuueeerF69Oq+8\n",
              "8krq6+vz2GOPtX999+7dmTJlSj784Q9n48aNefHFF1NfX5+LLrooybtRdN111+WCCy7IL37xi9x4\n",
              "4415/vnn87WvfS11dXXd/lyBriFUgG5z5ZVXZuTIkamvr8+8efPS3Nyc7du3J0mWLVuWK6+8Mied\n",
              "dFIaGhpy3XXX5Zhjjmn/3vvvvz+7du3KP/3TP+XII4/MUUcdlZtvvjkPPPBAXnnllSTJ5z73uUyY\n",
              "MCFTpkzJLbfckpUrV6Z///498VSBLuJkWqDbfPjDH27/95FHHpkk2bVrVz70oQ/llVdeyUc+8pH2\n",
              "r/fp0yeNjY3t9zdt2pTt27d3iJckaWhoSHNzc4YOHZokWbhwYSZPnpwLL7ww48aNq+GzAbqDUAGK\n",
              "MHTo0GzZsqX9fltbW7Zu3dp+f9CgQTnuuOPywgsv7PcYO3fuzOzZs3PJJZfknnvuyX/+539m2rRp\n",
              "tRwbqDFv/QBFmD17dr70pS/l+eefz+7du3PDDTfkjTfeaP/6jBkzsmfPnlx77bXZuXNnkmTHjh35\n",
              "5je/meTdk2dnz56d0aNH584770xTU1MuvvjivPjiiz3yfICuIVSAIlx11VWZMWNG/uRP/iRDhw7N\n",
              "O++8kz/8wz9s//rRRx+dNWvWpLm5Oaecckr69u2bSZMm5b/+67+SJF/84hfz9NNPt588e+GFF2bW\n",
              "rFmZOXNm3nrrrZ56WsDvqK7yd3sAQKG8ogIAFEuoAADFEioAQLGECgBQLKECABRLqAAAxRIqAECx\n",
              "DolQufXWW3t6BACgBg6JUHn55Zd7egQAoAYOiVABAA5NQgUAKJZQAQCKJVQAgGIJFQCgWEIFACiW\n",
              "UAEAiiVUAIBiCRUAoFhCBQAollABAIolVACAYtU0VK644ooMHz48dXV1+elPf7rfdXfddVdOOOGE\n",
              "HH/88Zk3b1727NlTy7EAgF6ipqFywQUX5JFHHslxxx233zUvvfRSrr322jz88MPZvHlztm/fnjvu\n",
              "uKOWYwEAvURNQ+WP//iPM3To0Pdcs2LFikyfPj2DBg1KXV1dLr300nz961/f7/rdu3enpaWlw62t\n",
              "ra2rRwcAClDf0wM0Nzd3eMVl+PDhaW5u3u/6JUuW5Prrr+/w2BlnnFGT2Yb//f01OW6SbLn5EzU7\n",
              "NgCHn1r9zurp31e97mTaxYsXZ+fOnR1uEydO7OmxAIAa6PFXVBobG/PCCy+039+yZUsaGxv3u76h\n",
              "oSENDQ0dHuvTp0/N5gMAek6Pv6Iyc+bMrFq1Kq+99lqqqsrtt9+eT3/60z09FgBQgJqGyoIFCzJ0\n",
              "6NC88sor+dM//dOMHDkySTJ37tysWrUqSTJixIhcf/31mTx5ckaOHJkBAwZkwYIFtRwLAOglavrW\n",
              "T1NT0299fOnSpR3uz5s3L/PmzavlKABAL9Tjb/0AAOyPUAEAiiVUAIBiCRUAoFhCBQAollABAIol\n",
              "VACAYgkVAKBYQgUAKJZQAQCKJVQAgGIJFQCgWEIFACiWUAEAiiVUAIBiCRUAoFhCBQAollABAIol\n",
              "VACAYgkVAKBYQgUAKJZQAQCKJVQAgGIJFQCgWEIFACiWUAEAiiVUAIBiCRUAoFhCBQAollABAIol\n",
              "VACAYgkVAKBYQgUAKJZQAQCKJVQAgGIJFQCgWEIFACiWUAEAiiVUAIBiCRUAoFhCBQAollABAIol\n",
              "VACAYgkVAKBYQgUAKJZQAQCKJVQAgGIJFQCgWEIFACiWUAEAiiVUAIBiCRUAoFhCBQAollABAIol\n",
              "VACAYgkVAKBYQgUAKJZQAQCKJVQAgGIJFQCgWEIFAChWTUNl06ZNmTRpUkaNGpUJEyZkw4YN+6zZ\n",
              "u3dvFi5cmJNOOimnnnpqzj777GzevLmWYwEAvURNQ2XBggWZP39+Nm7cmKuuuipz5szZZ82qVavy\n",
              "4x//OE899VSefvrpTJkyJZ///OdrORYA0EvULFR27NiR9evXZ9asWUmSmTNnZuvWrfu8WlJXV5fd\n",
              "u3fn7bffTlVVaWlpydChQ2s1FgDQi9TX6sBbt27N4MGDU1//7o+oq6tLY2NjmpubM3LkyPZ106ZN\n",
              "y4MPPphBgwbl6KOPzpAhQ/LQQw/t97i7d+/O7t27OzzW1tZWmycBAPSoHj+Zdv369Xn22Wfz6quv\n",
              "5uc//3mmTJmSSy+9dL/rlyxZkn79+nW4rV27thsnBgC6S81CZdiwYdm2bVtaW1uTJFVVpbm5OY2N\n",
              "jR3W3X333TnnnHPSv3//HHHEEZk9e3YefPDB/R538eLF2blzZ4fbxIkTa/U0AIAeVLNQGThwYMaP\n",
              "H5/ly5cnSVauXJmhQ4d2eNsnSUaMGJHVq1fnnXfeSZLcd999+ehHP7rf4zY0NKRv374dbn369KnV\n",
              "0wAAelDNzlFJkqampsyZMyf/+I//mL59+2bZsmVJkrlz52b69OmZPn16Lr/88vz3f/93xo4dm/e9\n",
              "730ZNGhQbr/99lqOBQD0EjUNldGjR2fNmjX7PL506dL2fzc0NOTOO++s5RgAQC/V4yfTAgDsj1AB\n",
              "AIolVACAYgkVAKBYQgUAKJZQAQCKJVQAgGIJFQCgWEIFACiWUAEAiiVUAIBiCRUAoFhCBQAollAB\n",
              "AIolVACAYgkVAKBYQgUAKJZQAQCKJVQAgGIJFQCgWEIFACiWUAEAiiVUAIBiCRUAoFhCBQAollAB\n",
              "AIolVACAYgkVAKBYQgUAKJZQAQCKJVQAgGIJFQCgWEIFACiWUAEAiiVUAIBiCRUAoFhCBQAollAB\n",
              "AIolVACAYgkVAKBYQgUAKJZQAQCKJVQAgGIJFQCgWEIFACiWUAEAiiVUAIBiCRUAoFhCBQAollAB\n",
              "AIolVACAYgkVAKBYQgUAKJZQAQCKJVQAgGIJFQCgWEIFACiWUAEAiiVUAIBiCRUAoFhCBQAollAB\n",
              "AIpV01DZtGlTJk2alFGjRmXChAnZsGHDb133zDPP5KyzzsqYMWMyZsyY3HvvvbUcCwDoJeprefAF\n",
              "CxZk/vz5mTNnTlasWJE5c+Zk3bp1Hdb86le/yvnnn5+77747Z555Ztra2vLGG2/UciwAoJeo2Ssq\n",
              "O3bsyPr16zNr1qwkycyZM7N169Zs3ry5w7p///d/zxlnnJEzzzwzSdKnT58MGDBgv8fdvXt3Wlpa\n",
              "Otza2tpq9TQAgB5Us1DZunVrBg8enPr6d1+0qaurS2NjY5qbmzuse+6559LQ0JDzzjsv48aNy8UX\n",
              "X5zXX399v8ddsmRJ+vXr1+G2du3aWj0NAKAHdTpUfvCDH3TpAK2trXnggQfS1NSUJ598MkOGDMll\n",
              "l1223/WLFy/Ozp07O9wmTpzYpTMBAGXodKjccMMNGT16dG699da0tLTsd92wYcOybdu2tLa2Jkmq\n",
              "qkpzc3MaGxs7rGtsbMzZZ5+dIUOGpK6uLrNmzcqjjz663+M2NDSkb9++HW59+vTp7NMAAHqBTofK\n",
              "j3/843zjG9/Is88+m1GjRuWv//qv89xzz+2zbuDAgRk/fnyWL1+eJFm5cmWGDh2akSNHdlj3qU99\n",
              "KuvWrWuPnu9+97sZO3bswTwXAOAQc1DnqHzsYx/LnXfeme9///u57777cuqpp+bjH/94nnnmmQ7r\n",
              "mpqa0tTUlFGjRuXmm2/OsmXLkiRz587NqlWrkrz7isrnP//5TJo0KaeeempWr16d22+//Xd8WgDA\n",
              "oeCg/jz5gQceyG233ZZnnnkml19+eS655JL86Ec/yp//+Z93+Kue0aNHZ82aNft8/9KlSzvc/8xn\n",
              "PpPPfOYzBzMKAHAI63SojBkzJh/84AdzxRVXZMaMGe3nh1xwwQW56667unxAAODw1elQWb58eU47\n",
              "7bTf+rXvfe97v/NAAAC/1ulzVB5//PEOnxz7i1/8InfeeWeXDgUAkBxEqHz1q1/NBz7wgfb7xx57\n",
              "bL761a926VAAAMlBhEpVVfs85iPsAYBa6HSoDB48OPfcc0/7/W9+85sZPHhwlw4FAJAcxMm0X/7y\n",
              "l3P++edn0aJFSZI/+IM/yHe+850uHwwAoNOhcuKJJ+a5557Lz372syTvflaKj7AHAGrhoD7wra6u\n",
              "Lv37909ra2teffXVJNnnGj4AAL+rTofKv/7rv+aKK67I+973vhxxxLunuNTV1WXHjh1dPhwAcHjr\n",
              "dKjceOONWbduXUaPHl2LeQAA2nX6r34++MEPihQAoFt0OlQ++clP5stf/nJ27NiRlpaW9hsAQFfr\n",
              "9Fs/V199dZJk4cKFqaurS1VVqaur86FvAECX63So7N27txZzAADso9Nv/STvXpjwa1/7WpLkzTff\n",
              "zLZt27p0KACA5CAvSvjZz3421113XZJ3r5580UUXdfVcAACdD5U77rgjjz76aPr27ZskOf744/P6\n",
              "6693+WAAAJ0OlYaGhrz//e/v8Fh9/UF9wC0AwHvqdKgMGDAgGzduTF1dXZJ3P6nWx+cDALVwUFdP\n",
              "vvDCC/P8889n2LBh6du3b+67775azAYAHOY6HSojR47MY489lp/97GepqsrVkwGAmul0qDQ3NydJ\n",
              "jjzyyCRx9WQAoGY6HSqnnXZa+yfSvv322/nVr36VY4891tWTAYAu1+lQ+d9/inzvvffmqaee6rKB\n",
              "AAB+7aA+mfY3zZgxI/fff39XzAIA0EGnX1H5zSslt7W15bHHHnP1ZACgJjodKv37928/R6VPnz45\n",
              "4YQT8i//8i+1mA0AOMy5ejIAUKzf+RwVAIBa6fQrKkcccUT7x+f/pqqqUldXl7a2ti4ZDACg06Fy\n",
              "ww035K233spll12WJLn99tvz/ve/P3/7t3/b1bMBAIe5TofKt771rTz++OPt92+66aacdtppufrq\n",
              "q7t0MACATp+jsmvXrg6fQrtjx47s2rWrS4cCAEgO4hWVK6+8MmPHjs2f/dmfJUm+//3v57rrruvq\n",
              "uQAAOh8qCxYsyOTJk/Pggw8mSRYuXJiTTz65ywcDAOh0qCTJsccem1NOOSVnnXVWWltb88477+T3\n",
              "fu/3uno2AOAw1+lzVFasWJEzzjgjf/VXf5Uk2bBhQz75yU929VwAAJ0PlSVLluSJJ55I//79kyRj\n",
              "x47Nyy+/3NVzAQB0PlT69OmTY489tsNj3vYBAGqh06Fy9NFHZ/v27e2fTvvDH/4wH/jAB7p8MACA\n",
              "Tp9M+8UvfjHnnntuXnzxxZx55pl56aWXcv/999diNgDgMNepUNm7d2/a2try4IMP5ic/+Umqqsqk\n",
              "SZPaz1cBAOhKnQqVI444IvPnz89TTz2Vc889t1YzAQAkOYhzVE444YRs3ry5FrMAAHTQ6XNU3njj\n",
              "jYwbNy6TJk3KUUcd1f74vffe26WDAQAccKjMnz8/d9xxR2bPnp3p06fnmGOOqeVcAAAHHirr169P\n",
              "ksyePTvjx4/PE088UbOhAACSgzhHJUmqqurqOQAA9nHAr6i89dZbeeaZZ1JVVd5+++32f//aqaee\n",
              "WpMBAYDDV6dCZfr06e33f/PfdXV1efHFF7t2MgDgsHfAobJly5YajgEAsK+DOkcFAKA7CBUAoFhC\n",
              "BQAollABAIolVACAYgkVAKBYQgUAKJZQAQCKJVQAgGLVNFQ2bdqUSZMmZdSoUZkwYUI2bNiw37VV\n",
              "VeWcc85J//79azkSANCL1DRUFixYkPnz52fjxo256qqrMmfOnP2u/ed//uccf/zxtRwHAOhlahYq\n",
              "O3bsyPr16zNr1qwkycyZM7N169Zs3rx5n7UbNmzIt7/97fz93//9/3nc3bt3p6WlpcOtra2ty+cH\n",
              "AHpezUJl69atGTx4cOrr373uYV1dXRobG9Pc3Nxh3Z49ezJv3rw0NTWlT58+/+dxlyxZkn79+nW4\n",
              "rV27tibPAQDoWT1+Mu3111+fGTNmZMyYMQe0fvHixdm5c2eH28SJE2s8JQDQE+prdeBhw4Zl27Zt\n",
              "aW1tTX19faqqSnNzcxobGzuse+ihh9Lc3JyvfOUraW1tTUtLS4YPH55169ZlwIAB+xy3oaEhDQ0N\n",
              "HR47kFdiAIDep2avqAwcODDjx4/P8uXLkyQrV67M0KFDM3LkyA7rHn744bz88svZsmVLHnnkkfTt\n",
              "2zdbtmz5rZECABxeavrWT1NTU5qamjJq1KjcfPPNWbZsWZJk7ty5WbVqVS1/NABwCKjZWz9JMnr0\n",
              "6KxZs2afx5cuXfpb1w8fPjxvvvlmLUcCAHqRHj+ZFgBgf4QKAFAsoQIAFEuoAADFEioAQLGECgBQ\n",
              "LKECABRLqAAAxRIqAECxhAoAUCyhAgAUS6gAAMUSKgBAsYQKAFAsoQIAFEuoAADFEioAQLGECgBQ\n",
              "LKECABRLqAAAxRIqAECxhAoAUCyhAgAUS6gAAMUSKgBAsYQKAFAsoQIAFEuoAADFEioAQLGECgBQ\n",
              "LKECABRLqAAAxRIqAECxhAoAUCyhAgAUS6gAAMUSKgBAsYQKAFAsoQIAFEuoAADFEioAQLGECgBQ\n",
              "LKECABRLqAAAxRIqAECxhAoAUCyhAgAUS6gAAMUSKgBAsYQKAFAsoQIAFEuoAADFEioAQLGECgBQ\n",
              "LKECABRLqAAAxRIqAECxhAoAUCyhAgAUS6gAAMUSKgBAsYQKAFCsmobKpk2bMmnSpIwaNSoTJkzI\n",
              "hg0b9lmzevXqTJw4MSeddFJOPvnkLFq0KHv37q3lWABAL1HTUFmwYEHmz5+fjRs35qqrrsqcOXP2\n",
              "WXPMMcfkG9/4Rp577rk8/vjj+clPfpK77767lmMBAL1EzUJlx44dWb9+fWbNmpUkmTlzZrZu3ZrN\n",
              "mzd3WPexj30sI0aMSJL8/u//fsaNG5ctW7bs97i7d+9OS0tLh1tbW1utngYA0INqFipbt27N4MGD\n",
              "U19fnySpq6tLY2Njmpub9/s9r732WlasWJHzzjtvv2uWLFmSfv36dbitXbu2y+cHAHpeMSfTtrS0\n",
              "ZNq0aVm0aFFOP/30/a5bvHhxdu7c2eE2ceLEbpwUAOgu9bU68LBhw7Jt27a0tramvr4+VVWlubk5\n",
              "jY2N+6zdtWtXpk6dmvPPPz8LFy58z+M2NDSkoaGhw2N9+vTp0tkBgDLU7BWVgQMHZvz48Vm+fHmS\n",
              "ZOXKlRk6dGhGjhzZYd0vf/nLTJ06NVOnTs0111xTq3EAgF6opm/9NDU1pampKaNGjcrNN9+cZcuW\n",
              "JUnmzp2bVatWJUluvfXWrF27Nvfee2/GjRuXcePG5R/+4R9qORYA0EvU7K2fJBk9enTWrFmzz+NL\n",
              "ly5t//fVV1+dq6++upZjAAC9VDEn0wIA/G9CBQAollABAIolVACAYgkVAKBYQgUAKJZQAQCKJVQA\n",
              "gGIJFQCgWEIFACiWUAEAiiVUAIBiCRUAoFhCBQAollABAIolVACAYgkVAKBYQgUAKJZQAQCKJVQA\n",
              "gGIJFQCgWEIFACiWUAEAiiVUAIBiCRUAoFhCBQAollABAIolVACAYgkVAKBYQgUAKJZQAQCKJVQA\n",
              "gGIJFQCgWEIFACiWUAEAiiVUAIBiCRUAoFhCBQAollABAIolVACAYgkVAKBYQgUAKJZQAQCKJVQA\n",
              "gGIJFQCgWEIFACiWUAEAiiVUAIBiCRUAoFhCBQAollABAIolVACAYgkVAKBYQgUAKJZQAQCKJVQA\n",
              "gGIJFQCgWEIFACiWUAEAiiVUAIBiCRUAoFg1DZVNmzZl0qRJGTVqVCZMmJANGzb81nV33XVXTjjh\n",
              "hBx//PGZN29e9uzZU8uxAIBeoqahsmDBgsyfPz8bN27MVVddlTlz5uyz5qWXXsq1116bhx9+OJs3\n",
              "b8727dtzxx131HIsAKCXqFmo7NixI+vXr8+sWbOSJDNnzszWrVuzefPmDutWrFiR6dOnZ9CgQamr\n",
              "q8ull16ar3/96/s97u7du9PS0tLh1tbWVqunAQD0oPpaHXjr1q0ZPHhw6uvf/RF1dXVpbGxMc3Nz\n",
              "Ro4c2b6uubk5xx13XPv94cOHp7m5eb/HXbJkSa6//voOj5144olZuHBhl87f1taWwWvXZuLEienT\n",
              "p0+XHjtJFi78YZcfs7dqa2vL2hruNe+yz93DPncP+7yvGTU4ZltbW/7f/7upZvt83HHH5W/+5m/e\n",
              "c03NQqVWFi9evE+UNDQ0pKGhoUt/TktLS/r165cf/OAH6du3b5cem47sdfewz93DPncP+9w9Stjn\n",
              "moXKsGHDsm3btrS2tqa+vj5VVaW5uTmNjY0d1jU2NuaFF15ov79ly5Z91vymWkQJAFCmmp2jMnDg\n",
              "wIwfPz7Lly9PkqxcuTJDhw7t8LZP8u65K6tWrcprr72Wqqpy++2359Of/nStxgIAepGa/tVPU1NT\n",
              "mpqaMmrUqNx8881ZtmxZkmTu3LlZtWpVkmTEiBG5/vrrM3ny5IwcOTIDBgzIggULajkWANBL1PQc\n",
              "ldGjR2fNmjX7PL506dIO9+fNm5d58+bVcpROa2hoyBe+8AVvM3UDe9097HP3sM/dwz53jxL2ua6q\n",
              "qqrHfjoAwHvwEfoAQLGECgBQLKECABRLqAAAxTrsQ8UVnrvHgezz6tWrM3HixJx00kk5+eSTs2jR\n",
              "ouzdu7cHpu3dDvS/6SSpqirnnHNO+vfv330DHiIOdJ+feeaZnHXWWRkzZkzGjBmTe++9t5sn7d0O\n",
              "ZJ/37t2bhQsX5qSTTsqpp56as88+e5/ryvHerrjiigwfPjx1dXX56U9/ut91PfK7sDrMnX322dWy\n",
              "Zcuqqqqq//iP/6hOP/30fda8+OKL1eDBg6tt27ZVe/furaZNm1Z95Stf6eZJe7cD2ecnnniieuGF\n",
              "F6qqqqq33nqrmjx5cvv3cOAOZK9/7Utf+lI1d+7cql+/ft0z3CHkQPb5f/7nf6qPfOQj1cMPP1xV\n",
              "VVW1trZWO3bs6M4xe70D2edvfetb1cSJE6t33nmnqqqquvHGG6u/+Iu/6M4xe72HHnqo2rp1a3Xc\n",
              "ccdVTz755G9d01O/Cw/rUNm+fXt19NFHV3v27Kmqqqr27t1bfehDH6o2bdrUYd0tt9xSLViwoP3+\n",
              "/fffX02ePLlbZ+3NDnSf/7fLL7+8+sIXvtANEx46OrPXzz77bPVHf/RH1ebNm4VKJx3oPt95553V\n",
              "hRde2BMjHhIOdJ+//e1vV2PHjq1aWlqqvXv3Vp/73Oeqv/u7v+uJkXu99wqVnvpdeFi/9fNeV3j+\n",
              "TZ29wjMdHeg+/6bXXnstK1asyHnnndddYx4SDnSv9+zZk3nz5qWpqcmVZw/Cge7zc889l4aGhpx3\n",
              "3nkZN25cLr744rz++us9MXKvdKD7PG3atJx11lkZNGhQBg8enB/+8Ie54YYbemLkQ1pP/S48rEOF\n",
              "MrW0tGTatGlZtGhRTj/99J4e55B0/fXXZ8aMGRkzZkxPj3JIa21tzQMPPJCmpqY8+eSTGTJkSC67\n",
              "7LKeHuuQs379+jz77LN59dVX8/Of/zxTpkzJpZde2tNj0UUO61D5zSs8J3nPKzy//PLL7ff/rys8\n",
              "09GB7nOS7Nq1K1OnTs3555+fhQsXdveovd6B7vVDDz2U2267LcOHD8+ZZ56ZlpaWDB8+3P/bP0Cd\n",
              "+d+Os88+O0OGDEldXV1mzZqVRx99tCdG7pUOdJ/vvvvu9pPCjzjiiMyePTsPPvhgT4x8SOup34WH\n",
              "dai4wnP3ONB9/uUvf5mpU6dm6tSpueaaa3pi1F7vQPf64Ycfzssvv5wtW7bkkUceSd++fbNly5YM\n",
              "GDCgJ8budQ50nz/1qU9l3bp1aWlpSZJ897vfzdixY7t93t7qQPd5xIgRWb16dd55550kyX333ZeP\n",
              "fvSj3T7voa7HfhfW/CyYwj3//PPVGWecUZ1wwgnVaaedVj399NNVVVXVJZdcUn3nO99pX3fHHXdU\n",
              "I0aMqEaMGFF99rOfbT+7nANzIPt80003VfX19dXYsWPbbzfddFNPjt0rHeh/07/20ksvOZn2IBzo\n",
              "Pt99993VySefXJ1yyinV1KlTq+bm5p4auVc6kH1+++23q7lz51Ynnnhidcopp1Qf//jH2/+CkAMz\n",
              "f/78asiQIVWfPn2qgQMHVscff3xVVWX8LnRRQgCgWIf1Wz8AQNmECgBQLKECABRLqAAAxRIqAECx\n",
              "hAoAUCyhAgAUS6gAAMUSKgBAsYQKAFCs/w/HcKDYfa4FiQAAAABJRU5ErkJggg==\n",
              "\">\n",
              "      </div>\n",
              "      <script type=\"text/javascript\">\n",
              "        (() => {\n",
              "          const chartElement = document.getElementById(\"chart-fc538d8a-7605-47ef-b148-78ba8a105eb9\");\n",
              "          async function getCodeForChartHandler(event) {\n",
              "            const chartCodeResponse =  await google.colab.kernel.invokeFunction(\n",
              "                'getCodeForChart', [\"chart-fc538d8a-7605-47ef-b148-78ba8a105eb9\"], {});\n",
              "            const responseJson = chartCodeResponse.data['application/json'];\n",
              "            await google.colab.notebook.addCell(responseJson.code, 'code');\n",
              "          }\n",
              "          chartElement.onclick = getCodeForChartHandler;\n",
              "        })();\n",
              "      </script>\n",
              "      <style>\n",
              "        .colab-quickchart-chart-with-code  {\n",
              "            display: block;\n",
              "            float: left;\n",
              "            border: 1px solid transparent;\n",
              "        }\n",
              "\n",
              "        .colab-quickchart-chart-with-code:hover {\n",
              "            cursor: pointer;\n",
              "            border: 1px solid #aaa;\n",
              "        }\n",
              "      </style>"
            ]
          },
          "metadata": {}
        },
        {
          "output_type": "display_data",
          "data": {
            "text/plain": [
              "from matplotlib import pyplot as plt\n",
              "_df_1['a'].plot(kind='hist', bins=20, title='a')\n",
              "plt.gca().spines[['top', 'right',]].set_visible(False)"
            ],
            "text/html": [
              "      <div class=\"colab-quickchart-chart-with-code\" id=\"chart-781ad699-e8fd-4cf9-98f1-47550a34199f\">\n",
              "        <img style=\"width: 180px;\" src=\"data:image/png;base64,iVBORw0KGgoAAAANSUhEUgAAAioAAAGrCAYAAADuNLxTAAAAOXRFWHRTb2Z0d2FyZQBNYXRwbG90\n",
              "bGliIHZlcnNpb24zLjcuMSwgaHR0cHM6Ly9tYXRwbG90bGliLm9yZy/bCgiHAAAACXBIWXMAAA9h\n",
              "AAAPYQGoP6dpAAAdF0lEQVR4nO3df5BV9X3/8ddl12zSVkD5URiXleqy+BMQhTFonKCTqenXYCpp\n",
              "m6aopPLDNIl16IyG2LQxP8RMO9OYtBlWYWgMU2MKpGU01U7UGhOJgL+imAqr4N0kKP6orppI3OV+\n",
              "/3DCZIukWbKX+2F9PGbOzN7jh7Pve2XY55x79txKrVarBQCgQMMaPQAAwP4IFQCgWEIFACiWUAEA\n",
              "iiVUAIBiCRUAoFhCBQAollABAIolVACAYgkVAKBYQgUAKJZQAQCKJVSA4vzTP/1TTjrppAwfPjzj\n",
              "xo3LhRdemOeee67RYwENIFSA4owbNy7r1q3Liy++mPvuuy9bt27Nxz/+8UaPBTRApVar1Ro9BMCv\n",
              "8s1vfjMLFizI888/3+hRgIOsudEDAPxv69aty9///d+nq6srr732Wvbs2ZNXX301fX19aWpqavR4\n",
              "wEHkrR+gKD/60Y/yR3/0R/n4xz+earWanp6efO1rX0uSOAEMbz1CBSjKK6+8kj179mT06NF5+9vf\n",
              "nm3btmXZsmWNHgtoEKECFOW4447LsmXLctFFF+Xwww/PxRdfnHnz5jV6LKBBXEwLABTLGRUAoFhC\n",
              "BQAollABAIolVACAYgkVAKBYQgUAKJZQAQCKNSRC5brrrmv0CABAHQyJUHnqqacaPQIAUAdDIlQA\n",
              "gKFJqAAAxRIqAECxhAoAUCyhAgAUS6gAAMUSKgBAsYQKAFAsoQIAFEuoAADFEioAQLGECgBQrLqG\n",
              "ymWXXZaJEyemUqnkoYce2u+6lStXZtKkSTn22GOzcOHCvP766/UcCwA4RNQ1VD7wgQ/ku9/9bo4+\n",
              "+uj9rtm+fXs+9alP5Z577klXV1eeeeaZXH/99fUcCwA4RNQ1VM4666y0trb+yjVr1qzJnDlzMm7c\n",
              "uFQqlVx66aW56aab9rt+9+7d6enp6bf19fUN9ugAQAGaGz1AtVrtd8Zl4sSJqVar+12/bNmyXH31\n",
              "1f32nX766XWZbeInbq3LcZNkx7X/r27HBuCtp14/sxr98+qQu5h26dKleemll/ptM2fObPRYAEAd\n",
              "NPyMSltbW5544om9j3fs2JG2trb9rm9paUlLS0u/fU1NTXWbDwBonIafUZk7d27Wr1+fp59+OrVa\n",
              "LcuXL88HP/jBRo8FABSgrqGyePHitLa25kc/+lF+//d/P+3t7UmSBQsWZP369UmSY445JldffXXO\n",
              "OOOMtLe3Z8yYMVm8eHE9xwIADhF1feuns7PzTfevWLGi3+OFCxdm4cKF9RwFADgENfytHwCA/REq\n",
              "AECxhAoAUCyhAgAUS6gAAMUSKgBAsYQKAFAsoQIAFEuoAADFEioAQLGECgBQLKECABRLqAAAxRIq\n",
              "AECxhAoAUCyhAgAUS6gAAMUSKgBAsYQKAFAsoQIAFEuoAADFEioAQLGECgBQLKECABRLqAAAxRIq\n",
              "AECxhAoAUCyhAgAUS6gAAMUSKgBAsYQKAFAsoQIAFEuoAADFEioAQLGECgBQLKECABRLqAAAxRIq\n",
              "AECxhAoAUCyhAgAUS6gAAMUSKgBAsYQKAFAsoQIAFEuoAADFEioAQLGECgBQLKECABRLqAAAxRIq\n",
              "AECxhAoAUCyhAgAUS6gAAMUSKgBAsYQKAFAsoQIAFEuoAADFEioAQLGECgBQLKECABRLqAAAxapr\n",
              "qGzbti2zZs1KR0dHZsyYkS1btuyzZs+ePVmyZElOOOGETJkyJbNnz05XV1c9xwIADhF1DZXFixdn\n",
              "0aJF2bp1a6688srMnz9/nzXr16/P9773vTz88MP5wQ9+kHPOOSef/OQn6zkWAHCIqFuo7Nq1K5s3\n",
              "b868efOSJHPnzk13d/c+Z0sqlUp2796d1157LbVaLT09PWltba3XWADAIaS5Xgfu7u7O+PHj09z8\n",
              "xreoVCppa2tLtVpNe3v73nXve9/7ctddd2XcuHE5/PDDc9RRR+Xuu+/e73F3796d3bt399vX19dX\n",
              "nycBADRUwy+m3bx5cx599NH8+Mc/zk9+8pOcc845ufTSS/e7ftmyZRkxYkS/bePGjQdxYgDgYKlb\n",
              "qEyYMCE7d+5Mb29vkqRWq6Varaatra3fuhtvvDFnn312Ro4cmWHDhuXiiy/OXXfdtd/jLl26NC+9\n",
              "9FK/bebMmfV6GgBAA9UtVMaOHZvp06dn9erVSZK1a9emtbW139s+SXLMMcfkzjvvzM9//vMkyS23\n",
              "3JKTTjppv8dtaWnJ8OHD+21NTU31ehoAQAPV7RqVJOns7Mz8+fNzzTXXZPjw4Vm1alWSZMGCBZkz\n",
              "Z07mzJmTj370o/nhD3+YqVOn5rDDDsu4ceOyfPnyeo4FABwi6hoqkydPzoYNG/bZv2LFir1ft7S0\n",
              "5IYbbqjnGADAIarhF9MCAOyPUAEAiiVUAIBiCRUAoFhCBQAollABAIolVACAYgkVAKBYQgUAKJZQ\n",
              "AQCKJVQAgGIJFQCgWEIFACiWUAEAiiVUAIBiCRUAoFhCBQAollABAIolVACAYgkVAKBYQgUAKJZQ\n",
              "AQCKJVQAgGIJFQCgWEIFACiWUAEAiiVUAIBiCRUAoFhCBQAollABAIolVACAYgkVAKBYQgUAKJZQ\n",
              "AQCKJVQAgGIJFQCgWEIFACiWUAEAiiVUAIBiCRUAoFhCBQAollABAIolVACAYgkVAKBYQgUAKJZQ\n",
              "AQCKJVQAgGIJFQCgWEIFACiWUAEAiiVUAIBiCRUAoFhCBQAollABAIolVACAYgkVAKBYQgUAKJZQ\n",
              "AQCKJVQAgGIJFQCgWEIFACiWUAEAilXXUNm2bVtmzZqVjo6OzJgxI1u2bHnTdY888kje/e535/jj\n",
              "j8/xxx+fdevW1XMsAOAQ0VzPgy9evDiLFi3K/Pnzs2bNmsyfPz+bNm3qt+anP/1pzj///Nx44405\n",
              "88wz09fXlxdeeKGeYwEAh4i6nVHZtWtXNm/enHnz5iVJ5s6dm+7u7nR1dfVb9y//8i85/fTTc+aZ\n",
              "ZyZJmpqaMmbMmP0ed/fu3enp6em39fX11etpAAANVLdQ6e7uzvjx49Pc/MZJm0qlkra2tlSr1X7r\n",
              "HnvssbS0tOS8887LtGnTctFFF+XZZ5/d73GXLVuWESNG9Ns2btxYr6cBADTQgEPl9ttvH9QBent7\n",
              "8+1vfzudnZ158MEHc9RRR+UjH/nIftcvXbo0L730Ur9t5syZgzoTAFCGAYfKZz7zmUyePDnXXXdd\n",
              "enp69rtuwoQJ2blzZ3p7e5MktVot1Wo1bW1t/da1tbVl9uzZOeqoo1KpVDJv3rx8//vf3+9xW1pa\n",
              "Mnz48H5bU1PTQJ8GAHAIGHCofO9738vXv/71PProo+no6Mhf/MVf5LHHHttn3dixYzN9+vSsXr06\n",
              "SbJ27dq0tramvb2937o//uM/zqZNm/ZGz7e+9a1MnTr1QJ4LADDEHNA1KqecckpuuOGG3Hbbbbnl\n",
              "llsyZcqUvOc978kjjzzSb11nZ2c6OzvT0dGRa6+9NqtWrUqSLFiwIOvXr0/yxhmVT37yk5k1a1am\n",
              "TJmSO++8M8uXL/8NnxYAMBQc0K8nf/vb386Xv/zlPPLII/noRz+aSy65JP/1X/+VP/zDP+z3Wz2T\n",
              "J0/Ohg0b9vnzK1as6Pf4wgsvzIUXXnggowAAQ9iAQ+X444/P6NGjc9lll+WCCy7Ye33IBz7wgaxc\n",
              "uXLQBwQA3roGHCqrV6/Oqaee+qb/7T/+4z9+44EAAH5hwNeo3H///f3uHPv888/nhhtuGNShAACS\n",
              "AwiVr3zlKznyyCP3Ph41alS+8pWvDOpQAADJAYRKrVbbZ59b2AMA9TDgUBk/fny+8Y1v7H188803\n",
              "Z/z48YM6FABAcgAX037xi1/M+eefnyuuuCJJ8lu/9Vv593//90EfDABgwKFy3HHH5bHHHsvjjz+e\n",
              "5I17pbiFPQBQDwd0w7dKpZKRI0emt7c3P/7xj5Nkn8/wAQD4TQ04VP75n/85l112WQ477LAMG/bG\n",
              "JS6VSiW7du0a9OEAgLe2AYfKZz/72WzatCmTJ0+uxzwAAHsN+Ld+Ro8eLVIAgINiwKHy/ve/P1/8\n",
              "4heza9eu9PT07N0AAAbbgN/6ueqqq5IkS5YsSaVSSa1WS6VScdM3AGDQDThU9uzZU485AAD2MeC3\n",
              "fpI3Ppjwa1/7WpLkxRdfzM6dOwd1KACA5AA/lPDP//zP8+lPfzrJG5+e/KEPfWiw5wIAGHioXH/9\n",
              "9fn+97+f4cOHJ0mOPfbYPPvss4M+GADAgEOlpaUl73jHO/rta24+oBvcAgD8SgMOlTFjxmTr1q2p\n",
              "VCpJ3rhTrdvnAwD1cECfnvynf/qn+e///u9MmDAhw4cPzy233FKP2QCAt7gBh0p7e3vuu+++PP74\n",
              "46nVaj49GQComwGHSrVaTZL89m//dpL49GQAoG4GHCqnnnrq3jvSvvbaa/npT3+aUaNG+fRkAGDQ\n",
              "DThU/vevIq9bty4PP/zwoA0EAPALB3Rn2l92wQUX5NZbbx2MWQAA+hnwGZVf/qTkvr6+3HfffT49\n",
              "GQCoiwGHysiRI/deo9LU1JRJkyblS1/6Uj1mAwDe4nx6MgBQrN/4GhUAgHoZ8BmVYcOG7b19/i+r\n",
              "1WqpVCrp6+sblMEAAAYcKp/5zGfys5/9LB/5yEeSJMuXL8873vGOXH755YM9GwDwFjfgUPnmN7+Z\n",
              "+++/f+/jz33uczn11FNz1VVXDepgAAADvkbl5Zdf7ncX2l27duXll18e1KEAAJIDOKPyV3/1V5k6\n",
              "dWr+4A/+IEly22235dOf/vRgzwUAMPBQWbx4cc4444zcddddSZIlS5bkxBNPHPTBAAAGHCpJMmrU\n",
              "qJx88sl597vfnd7e3vz85z/P2972tsGeDQB4ixvwNSpr1qzJ6aefng9/+MNJki1btuT973//YM8F\n",
              "ADDwUFm2bFkeeOCBjBw5MkkyderUPPXUU4M9FwDAwEOlqakpo0aN6rfP2z4AQD0MOFQOP/zwPPPM\n",
              "M3vvTnvHHXfkyCOPHPTBAAAGfDHtF77whbz3ve/Nk08+mTPPPDPbt2/PrbfeWo/ZAIC3uAGFyp49\n",
              "e9LX15e77ror9957b2q1WmbNmrX3ehUAgME0oFAZNmxYFi1alIcffjjvfe976zUTAECSA7hGZdKk\n",
              "Senq6qrHLAAA/Qz4GpUXXngh06ZNy6xZs/I7v/M7e/evW7duUAcDAPi1Q2XRokW5/vrrc/HFF2fO\n",
              "nDk54ogj6jkXAMCvHyqbN29Oklx88cWZPn16HnjggboNBQCQHMA1KklSq9UGew4AgH382mdUfvaz\n",
              "n+WRRx5JrVbLa6+9tvfrX5gyZUpdBgQA3roGFCpz5szZ+/iXv65UKnnyyScHdzIA4C3v1w6VHTt2\n",
              "1HEMAIB9HdA1KgAAB4NQAQCKJVQAgGIJFQCgWEIFACiWUAEAiiVUAIBiCRUAoFhCBQAoVl1DZdu2\n",
              "bZk1a1Y6OjoyY8aMbNmyZb9ra7Vazj777IwcObKeIwEAh5C6hsrixYuzaNGibN26NVdeeWXmz5+/\n",
              "37X/8A//kGOPPbae4wAAh5i6hcquXbuyefPmzJs3L0kyd+7cdHd3p6ura5+1W7Zsyb/927/lE5/4\n",
              "xP953N27d6enp6ff1tfXN+jzAwCNV7dQ6e7uzvjx49Pc/MbnHlYqlbS1taVarfZb9/rrr2fhwoXp\n",
              "7OxMU1PT/3ncZcuWZcSIEf22jRs31uU5AACN1fCLaa+++upccMEFOf7443+t9UuXLs1LL73Ub5s5\n",
              "c2adpwQAGqG5XgeeMGFCdu7cmd7e3jQ3N6dWq6Varaatra3furvvvjvVajX/+I//mN7e3vT09GTi\n",
              "xInZtGlTxowZs89xW1pa0tLS0m/fr3MmBgA49NTtjMrYsWMzffr0rF69Okmydu3atLa2pr29vd+6\n",
              "e+65J0899VR27NiR7373uxk+fHh27NjxppECALy11PWtn87OznR2dqajoyPXXnttVq1alSRZsGBB\n",
              "1q9fX89vDQAMAXV76ydJJk+enA0bNuyzf8WKFW+6fuLEiXnxxRfrORIAcAhp+MW0AAD7I1QAgGIJ\n",
              "FQCgWEIFACiWUAEAiiVUAIBiCRUAoFhCBQAollABAIolVACAYgkVAKBYQgUAKJZQAQCKJVQAgGIJ\n",
              "FQCgWEIFACiWUAEAiiVUAIBiCRUAoFhCBQAollABAIolVACAYgkVAKBYQgUAKJZQAQCKJVQAgGIJ\n",
              "FQCgWEIFACiWUAEAiiVUAIBiCRUAoFhCBQAollABAIolVACAYgkVAKBYQgUAKJZQAQCKJVQAgGIJ\n",
              "FQCgWEIFACiWUAEAiiVUAIBiCRUAoFhCBQAollABAIolVACAYgkVAKBYQgUAKJZQAQCKJVQAgGIJ\n",
              "FQCgWEIFACiWUAEAiiVUAIBiCRUAoFhCBQAollABAIolVACAYgkVAKBYQgUAKJZQAQCKJVQAgGLV\n",
              "NVS2bduWWbNmpaOjIzNmzMiWLVv2WXPnnXdm5syZOeGEE3LiiSfmiiuuyJ49e+o5FgBwiKhrqCxe\n",
              "vDiLFi3K1q1bc+WVV2b+/Pn7rDniiCPy9a9/PY899ljuv//+3HvvvbnxxhvrORYAcIioW6js2rUr\n",
              "mzdvzrx585Ikc+fOTXd3d7q6uvqtO+WUU3LMMcckSd7+9rdn2rRp2bFjx36Pu3v37vT09PTb+vr6\n",
              "6vU0AIAGqluodHd3Z/z48Wlubk6SVCqVtLW1pVqt7vfPPP3001mzZk3OO++8/a5ZtmxZRowY0W/b\n",
              "uHHjoM8PADReMRfT9vT05H3ve1+uuOKKnHbaaftdt3Tp0rz00kv9tpkzZx7ESQGAg6W5XgeeMGFC\n",
              "du7cmd7e3jQ3N6dWq6VaraatrW2ftS+//HLOPffcnH/++VmyZMmvPG5LS0taWlr67WtqahrU2QGA\n",
              "MtTtjMrYsWMzffr0rF69Okmydu3atLa2pr29vd+6V155Jeeee27OPffc/PVf/3W9xgEADkF1feun\n",
              "s7MznZ2d6ejoyLXXXptVq1YlSRYsWJD169cnSa677rps3Lgx69aty7Rp0zJt2rR8/vOfr+dYAMAh\n",
              "om5v/STJ5MmTs2HDhn32r1ixYu/XV111Va666qp6jgEAHKKKuZgWAOB/EyoAQLGECgBQLKECABRL\n",
              "qAAAxRIqAECxhAoAUCyhAgAUS6gAAMUSKgBAsYQKAFAsoQIAFEuoAADFEioAQLGECgBQLKECABRL\n",
              "qAAAxRIqAECxhAoAUCyhAgAUS6gAAMUSKgBAsYQKAFAsoQIAFEuoAADFEioAQLGECgBQLKECABRL\n",
              "qAAAxRIqAECxhAoAUCyhAgAUS6gAAMUSKgBAsYQKAFAsoQIAFEuoAADFEioAQLGECgBQLKECABRL\n",
              "qAAAxRIqAECxhAoAUCyhAgAUS6gAAMUSKgBAsYQKAFAsoQIAFEuoAADFEioAQLGECgBQLKECABRL\n",
              "qAAAxRIqAECxhAoAUCyhAgAUS6gAAMUSKgBAsYQKAFAsoQIAFEuoAADFqmuobNu2LbNmzUpHR0dm\n",
              "zJiRLVu2vOm6lStXZtKkSTn22GOzcOHCvP766/UcCwA4RNQ1VBYvXpxFixZl69atufLKKzN//vx9\n",
              "1mzfvj2f+tSncs8996SrqyvPPPNMrr/++nqOBQAcIuoWKrt27crmzZszb968JMncuXPT3d2drq6u\n",
              "fuvWrFmTOXPmZNy4calUKrn00ktz00037fe4u3fvTk9PT7+tr6+vXk8DAGig5noduLu7O+PHj09z\n",
              "8xvfolKppK2tLdVqNe3t7XvXVavVHH300XsfT5w4MdVqdb/HXbZsWa6++up++4477rgsWbJkUOfv\n",
              "6+vL+I0bM3PmzDQ1NQ3qsZNkyZI7Bv2Yh6q+vr5srONrzRu8zgeH1/ng8Drv64I6HLOvry/vfOfn\n",
              "6vY6H3300fnLv/zLX7mmbqFSL0uXLt0nSlpaWtLS0jKo36enpycjRozI7bffnuHDhw/qsenPa31w\n",
              "eJ0PDq/zweF1PjhKeJ3rFioTJkzIzp0709vbm+bm5tRqtVSr1bS1tfVb19bWlieeeGLv4x07duyz\n",
              "5pfVI0oAgDLV7RqVsWPHZvr06Vm9enWSZO3atWltbe33tk/yxrUr69evz9NPP51arZbly5fngx/8\n",
              "YL3GAgAOIXX9rZ/Ozs50dnamo6Mj1157bVatWpUkWbBgQdavX58kOeaYY3L11VfnjDPOSHt7e8aM\n",
              "GZPFixfXcywA4BBR12tUJk+enA0bNuyzf8WKFf0eL1y4MAsXLqznKAPW0tKSv/3bv/U200HgtT44\n",
              "vM4Hh9f54PA6HxwlvM6VWq1Wa9h3BwD4FdxCHwAollABAIolVACAYgkVAKBYQmU/Jk6cmMmTJ2fa\n",
              "tGmZNm1abr755kaPNCTt3r07H/vYxzJp0qScfPLJez8bisHz/PPP7/17PG3atHR0dKS5uTkvvPBC\n",
              "o0cbcr71rW9l+vTpmTZtWk466aR89atfbfRIQ9Jtt92W0047LVOmTMnpp5+ehx9+uNEjDQmXXXZZ\n",
              "Jk6cmEqlkoceemjv/m3btmXWrFnp6OjIjBkzsmXLloM7WI03dfTRR9cefPDBRo8x5F1++eW1j33s\n",
              "Y7U9e/bUarVabefOnQ2eaOj7u7/7u9p5553X6DGGnD179tSOOOKI2sMPP1yr1Wq17du311paWmo9\n",
              "PT0NnmxoeeGFF2pHHnlk7dFHH63VarXad77zndqJJ57Y4KmGhrvvvrvW3d29z8+/2bNn11atWlWr\n",
              "1Wq1f/3Xf62ddtppB3UuZ1RomFdffTUrV67M5z//+VQqlSTJuHHjGjzV0Ldy5cpccskljR5jSKpU\n",
              "KnnxxReTvPEZKaNGjXKfj0H2xBNPZNSoUTnxxBOTJO9617tSrVbzwAMPNHiyQ99ZZ52V1tbWfvt2\n",
              "7dqVzZs37z3bPXfu3HR3d6erq+ugzSVUfoWLLrooJ598ci655JI8++yzjR5nyHniiSdy5JFH5ppr\n",
              "rslpp52Wd73rXbnjDp8qXU/33ntv/ud//ifnnXdeo0cZciqVSm6++eZccMEFOfroo3PmmWfmq1/9\n",
              "at72trc1erQhZdKkSXn++edz7733JknWr1+fl19+OTt27GjsYENUd3d3xo8fn+bmN+4PW6lU0tbW\n",
              "lmq1etBmECr78Z3vfCc/+MEP8sADD2T06NG5+OKLGz3SkNPb25unnnoqJ5xwQjZv3pwvfelL+ZM/\n",
              "+ZM888wzjR5tyFq5cmUuuuiivf/oMHh6e3vzuc99LuvWrctTTz2VO+64IxdeeGGee+65Ro82pIwY\n",
              "MSJr1qzJ0qVLc+qpp+Y///M/c8IJJ/g7PYT5P7sfv/gE58MOOyyXX355Ojo6GjzR0NPW1pZhw4bl\n",
              "z/7sz5Ikp5xySn7v934vjzzySH73d3+3wdMNPa+88kq+8Y1vZNOmTY0eZUh66KGH8pOf/CRnnXVW\n",
              "kmTGjBlpbW3Ngw8+mPe85z0Nnm5omT17dmbPnp3kjQvyx40blxNOOKHBUw1NEyZMyM6dO9Pb25vm\n",
              "5ubUarVUq9W9PyMPBmdU3sSrr766933mJLnppptyyimnNG6gIWr06NE555xzcvvttydJtm/fnu3b\n",
              "t+f4449v8GRD080335ypU6fmuOOOa/QoQ9Iv/kH/4Q9/mCTp6urKE088kcmTJzd4sqFn586de7/+\n",
              "7Gc/m7PPPjvt7e0NnGjoGjt2bKZPn57Vq1cnSdauXZvW1taD+nr7rJ838eSTT2bu3Lnp6+tLrVbL\n",
              "Mccck+uuuy4TJ05s9GhDzpNPPplLLrkkzz33XIYNG5a/+Zu/ydy5cxs91pA0a9asLFy4MB/+8Icb\n",
              "PcqQddNNN+Waa67JsGHDsmfPnixdujQf+tCHGj3WkLNw4cLcc8896e3tzTvf+c58+ctfzsiRIxs9\n",
              "1iFv8eLFufXWW/P0009n1KhROfzww9PV1ZXHH3888+fPz/PPP5/hw4dn1apVOfnkkw/aXEIFACiW\n",
              "t34AgGIJFQCgWEIFACiWUAEAiiVUAIBiCRUAoFhCBQAollABAIolVACAYgkVAKBY/x8dlILU/gQK\n",
              "RQAAAABJRU5ErkJggg==\n",
              "\">\n",
              "      </div>\n",
              "      <script type=\"text/javascript\">\n",
              "        (() => {\n",
              "          const chartElement = document.getElementById(\"chart-781ad699-e8fd-4cf9-98f1-47550a34199f\");\n",
              "          async function getCodeForChartHandler(event) {\n",
              "            const chartCodeResponse =  await google.colab.kernel.invokeFunction(\n",
              "                'getCodeForChart', [\"chart-781ad699-e8fd-4cf9-98f1-47550a34199f\"], {});\n",
              "            const responseJson = chartCodeResponse.data['application/json'];\n",
              "            await google.colab.notebook.addCell(responseJson.code, 'code');\n",
              "          }\n",
              "          chartElement.onclick = getCodeForChartHandler;\n",
              "        })();\n",
              "      </script>\n",
              "      <style>\n",
              "        .colab-quickchart-chart-with-code  {\n",
              "            display: block;\n",
              "            float: left;\n",
              "            border: 1px solid transparent;\n",
              "        }\n",
              "\n",
              "        .colab-quickchart-chart-with-code:hover {\n",
              "            cursor: pointer;\n",
              "            border: 1px solid #aaa;\n",
              "        }\n",
              "      </style>"
            ]
          },
          "metadata": {}
        },
        {
          "output_type": "display_data",
          "data": {
            "text/plain": [
              "from matplotlib import pyplot as plt\n",
              "_df_2['b'].plot(kind='hist', bins=20, title='b')\n",
              "plt.gca().spines[['top', 'right',]].set_visible(False)"
            ],
            "text/html": [
              "      <div class=\"colab-quickchart-chart-with-code\" id=\"chart-82c9f81a-9389-437c-9435-4b7714baf53d\">\n",
              "        <img style=\"width: 180px;\" src=\"data:image/png;base64,iVBORw0KGgoAAAANSUhEUgAAAioAAAGrCAYAAADuNLxTAAAAOXRFWHRTb2Z0d2FyZQBNYXRwbG90\n",
              "bGliIHZlcnNpb24zLjcuMSwgaHR0cHM6Ly9tYXRwbG90bGliLm9yZy/bCgiHAAAACXBIWXMAAA9h\n",
              "AAAPYQGoP6dpAAAdAElEQVR4nO3df5BddX3/8dclq6tWkkAgJWWzibDZCEYSAsnEQCHIMEW/Gmhi\n",
              "W9vGEtr8gOpQJ52BRnAUqySd6ViRjs1CMqk0FbVJsBlAGBVKEcEkCBiCCsEsu4VAHC0srRDYzfn+\n",
              "Qc2wDUvZuDf3s+HxmLkzew+fnH3fMzt3n9x79p5aVVVVAAAKdFijBwAAGIhQAQCKJVQAgGIJFQCg\n",
              "WEIFACiWUAEAiiVUAIBiCRUAoFhCBQAollABijNnzpxcccUVjR4DKIBQAQCKJVQAgGIJFaBIzzzz\n",
              "TObNm5fDDz88bW1tuf766xs9EtAAQgUo0po1a3LhhRfmP//zP/PFL34xixYtyt13393osYCDrFZV\n",
              "VdXoIQBeac6cORkzZkw2bNiwb9sf/MEf5O1vf3vWrFnTwMmAg80rKkCR3vGOd+x3v7u7u0HTAI0i\n",
              "VIAidXZ27ne/paWlMcMADSNUgCLdcsstufnmm9PX15dbb701N954Yy688MJGjwUcZM5RAYozZ86c\n",
              "TJkyJU8++WS+9a1vZezYsbniiiuECrwBCRUAoFje+gEAiiVUAIBiCRUAoFhCBQAollABAIolVACA\n",
              "YgkVAKBYh0SoXH311Y0eAQCog0MiVB5//PFGjwAA1MEhESoAwKFJqAAAxRIqAECxhAoAUCyhAgAU\n",
              "S6gAAMUSKgBAsYQKAFAsoQIAFEuoAADFEioAQLGECgBQrLqGyiWXXJKJEyemVqvlgQceGHDdmjVr\n",
              "MmnSpBx//PFZvHhxXnrppXqOBQAME3UNlQ996EP57ne/mwkTJgy4ZufOnfnkJz+Zu+66Kzt27MjT\n",
              "Tz+da6+9tp5jAQDDRF1D5YwzzkhLS8trrlm/fn3mzp2bY445JrVaLRdddFFuuOGGAdfv2bMnPT09\n",
              "/W59fX1DPToAUICmRg/Q1dXV7xWXiRMnpqura8D1K1asyJVXXtlv26xZs+oy28S/urku+02SzpX/\n",
              "r277BuCNp16/sxr9+2rYnUy7fPnyPPvss/1uM2fObPRYAEAdNPwVldbW1jz22GP77nd2dqa1tXXA\n",
              "9c3NzWlubu63bcSIEXWbDwBonIa/ojJ//vxs2rQpTz31VKqqyqpVq/LhD3+40WMBAAWoa6gsXbo0\n",
              "LS0t+Y//+I/8zu/8Ttra2pIkixYtyqZNm5Ikxx13XK688sqcdtppaWtry9FHH52lS5fWcywAYJio\n",
              "61s/HR0dr7p99erV/e4vXrw4ixcvrucoAMAw1PC3fgAABiJUAIBiCRUAoFhCBQAollABAIolVACA\n",
              "YgkVAKBYQgUAKJZQAQCKJVQAgGIJFQCgWEIFACiWUAEAiiVUAIBiCRUAoFhCBQAollABAIolVACA\n",
              "YgkVAKBYQgUAKJZQAQCKJVQAgGIJFQCgWEIFACiWUAEAiiVUAIBiCRUAoFhCBQAollABAIolVACA\n",
              "YgkVAKBYQgUAKJZQAQCKJVQAgGIJFQCgWEIFACiWUAEAiiVUAIBiCRUAoFhCBQAollABAIolVACA\n",
              "YgkVAKBYQgUAKJZQAQCKJVQAgGIJFQCgWEIFACiWUAEAiiVUAIBiCRUAoFhCBQAollABAIolVACA\n",
              "YgkVAKBYQgUAKJZQAQCKJVQAgGIJFQCgWEIFACiWUAEAilXXUHn00Ucze/bstLe3Z8aMGdm+fft+\n",
              "a/bu3Ztly5blxBNPzEknnZSzzjorO3bsqOdYAMAwUddQWbp0aZYsWZJHHnkkl112WRYuXLjfmk2b\n",
              "NuXuu+/Ogw8+mB/+8Ic5++yz84lPfKKeYwEAw0TdQmX37t3ZunVrFixYkCSZP39+uru793u1pFar\n",
              "Zc+ePXnhhRdSVVV6enrS0tJSr7EAgGGkqV477u7uzrhx49LU9PK3qNVqaW1tTVdXV9ra2vat++AH\n",
              "P5g77rgjxxxzTA4//PAce+yxufPOOwfc7549e7Jnz55+2/r6+urzIACAhmr4ybRbt27NQw89lCee\n",
              "eCJPPvlkzj777Fx00UUDrl+xYkVGjRrV77Z58+aDODEAcLDULVTGjx+fXbt2pbe3N0lSVVW6urrS\n",
              "2trab93111+f9773vRk9enQOO+ywXHDBBbnjjjsG3O/y5cvz7LPP9rvNnDmzXg8DAGiguoXK2LFj\n",
              "M3369Kxbty5JsmHDhrS0tPR72ydJjjvuuNx+++158cUXkyQ33XRTpkyZMuB+m5ubM3LkyH63ESNG\n",
              "1OthAAANVLdzVJKko6MjCxcuzFVXXZWRI0dm7dq1SZJFixZl7ty5mTt3bj760Y/mRz/6UaZOnZo3\n",
              "velNOeaYY7Jq1ap6jgUADBN1DZXJkyfnnnvu2W/76tWr933d3Nyc6667rp5jAADDVMNPpgUAGIhQ\n",
              "AQCKJVQAgGIJFQCgWEIFACiWUAEAiiVUAIBiCRUAoFhCBQAollABAIolVACAYgkVAKBYQgUAKJZQ\n",
              "AQCKJVQAgGIJFQCgWEIFACiWUAEAiiVUAIBiCRUAoFhCBQAollABAIolVACAYgkVAKBYQgUAKJZQ\n",
              "AQCKJVQAgGIJFQCgWEIFACiWUAEAiiVUAIBiCRUAoFhCBQAollABAIolVACAYgkVAKBYQgUAKJZQ\n",
              "AQCKJVQAgGIJFQCgWEIFACiWUAEAiiVUAIBiCRUAoFhCBQAollABAIolVACAYgkVAKBYQgUAKJZQ\n",
              "AQCKJVQAgGIJFQCgWEIFACiWUAEAiiVUAIBiCRUAoFhCBQAollABAIolVACAYgkVAKBYQgUAKJZQ\n",
              "AQCKVddQefTRRzN79uy0t7dnxowZ2b59+6uu27ZtW+bMmZMTTjghJ5xwQjZu3FjPsQCAYaKpnjtf\n",
              "unRplixZkoULF2b9+vVZuHBhtmzZ0m/NL3/5y5x33nm5/vrrc/rpp6evry+/+MUv6jkWADBM1O0V\n",
              "ld27d2fr1q1ZsGBBkmT+/Pnp7u7Ojh07+q37yle+klmzZuX0009PkowYMSJHH330gPvds2dPenp6\n",
              "+t36+vrq9TAAgAaqW6h0d3dn3LhxaWp6+UWbWq2W1tbWdHV19Vv38MMPp7m5OR/4wAcybdq0/Mmf\n",
              "/El+9rOfDbjfFStWZNSoUf1umzdvrtfDAAAaaNChcttttw3pAL29vfn2t7+djo6O3H///Tn22GNz\n",
              "8cUXD7h++fLlefbZZ/vdZs6cOaQzAQBlGHSofOYzn8nkyZNz9dVXp6enZ8B148ePz65du9Lb25sk\n",
              "qaoqXV1daW1t7beutbU1Z511Vo499tjUarUsWLAg995774D7bW5uzsiRI/vdRowYMdiHAQAMA4MO\n",
              "lbvvvjtf/epX89BDD6W9vT1//ud/nocffni/dWPHjs306dOzbt26JMmGDRvS0tKStra2fut+//d/\n",
              "P1u2bNkXPbfcckumTp16II8FADjEHNA5KieffHKuu+663Hrrrbnpppty0kkn5Zxzzsm2bdv6revo\n",
              "6EhHR0fa29uzcuXKrF27NkmyaNGibNq0KcnLr6h84hOfyOzZs3PSSSfl9ttvz6pVq37NhwUAHAoO\n",
              "6M+Tv/3tb+eaa67Jtm3b8tGPfjR/9md/ln/7t3/L7/7u7/b7q57Jkyfnnnvu2e/fr169ut/9j3zk\n",
              "I/nIRz5yIKMAAIewQYfKCSeckKOOOiqXXHJJ5s2bt+/8kA996ENZs2bNkA8IALxxDTpU1q1bl1NO\n",
              "OeVV/9s3v/nNX3sgAIBfGfQ5Kvfdd1+/T479+c9/nuuuu25IhwIASA4gVL70pS/lyCOP3Hd/zJgx\n",
              "+dKXvjSkQwEAJAcQKlVV7bfNR9gDAPUw6FAZN25cvv71r++7/7WvfS3jxo0b0qEAAJIDOJn2C1/4\n",
              "Qs4777xceumlSZK3ve1t+dd//dchHwwAYNCh8s53vjMPP/xwfvKTnyR5+bNSfIQ9AFAPB/SBb7Va\n",
              "LaNHj05vb2+eeOKJJNnvGj4AAL+uQYfKP/7jP+aSSy7Jm970phx22MunuNRqtezevXvIhwMA3tgG\n",
              "HSp//dd/nS1btmTy5Mn1mAcAYJ9B/9XPUUcdJVIAgINi0KFy/vnn5wtf+EJ2796dnp6efTcAgKE2\n",
              "6Ld+Lr/88iTJsmXLUqvVUlVVarWaD30DAIbcoENl79699ZgDAGA/g37rJ3n5woT/9E//lCR55pln\n",
              "smvXriEdCgAgOcCLEv7pn/5pPv3pTyd5+erJf/RHfzTUcwEADD5Urr322tx7770ZOXJkkuT444/P\n",
              "z372syEfDABg0KHS3Nyct771rf22NTUd0AfcAgC8pkGHytFHH51HHnkktVotycufVOvj8wGAejig\n",
              "qyf/4R/+YX784x9n/PjxGTlyZG666aZ6zAYAvMENOlTa2try/e9/Pz/5yU9SVZWrJwMAdTPoUOnq\n",
              "6kqS/MZv/EaSuHoyAFA3gw6VU045Zd8n0r7wwgv55S9/mTFjxrh6MgAw5AYdKv/7T5E3btyYBx98\n",
              "cMgGAgD4lQP6ZNpXmjdvXm6++eahmAUAoJ9Bv6Lyyisl9/X15fvf/76rJwMAdTHoUBk9evS+c1RG\n",
              "jBiRSZMm5Ytf/GI9ZgMA3uBcPRkAKNavfY4KAEC9DPoVlcMOO2zfx+e/UlVVqdVq6evrG5LBAAAG\n",
              "HSqf+cxn8vzzz+fiiy9OkqxatSpvfetb8/GPf3yoZwMA3uAGHSo33nhj7rvvvn33P/vZz+aUU07J\n",
              "5ZdfPqSDAQAM+hyV5557rt+n0O7evTvPPffckA4FAJAcwCsqf/mXf5mpU6fm/e9/f5Lk1ltvzac/\n",
              "/emhngsAYPChsnTp0px22mm54447kiTLli3Lu971riEfDABg0KGSJGPGjMm73/3uzJkzJ729vXnx\n",
              "xRfz5je/eahnAwDe4AZ9jsr69esza9asXHjhhUmS7du35/zzzx/quQAABh8qK1asyA9+8IOMHj06\n",
              "STJ16tQ8/vjjQz0XAMDgQ2XEiBEZM2ZMv23e9gEA6mHQoXL44Yfn6aef3vfptN/5zndy5JFHDvlg\n",
              "AACDPpn2b/7mb/K+970vP/3pT3P66adn586dufnmm+sxGwDwBjeoUNm7d2/6+vpyxx135Hvf+16q\n",
              "qsrs2bP3na8CADCUBhUqhx12WJYsWZIHH3ww73vf++o1EwBAkgM4R2XSpEnZsWNHPWYBAOhn0Oeo\n",
              "/OIXv8i0adMye/bsvP3tb9+3fePGjUM6GADA6w6VJUuW5Nprr80FF1yQuXPn5ogjjqjnXAAArz9U\n",
              "tm7dmiS54IILMn369PzgBz+o21AAAMkBnKOSJFVVDfUcAAD7ed2vqDz//PPZtm1bqqrKCy+8sO/r\n",
              "XznppJPqMiAA8MY1qFCZO3fuvvuv/LpWq+WnP/3p0E4GALzhve5Q6ezsrOMYAAD7O6BzVAAADgah\n",
              "AgAUS6gAAMUSKgBAsYQKAFAsoQIAFEuoAADFEioAQLGECgBQrLqGyqOPPprZs2envb09M2bMyPbt\n",
              "2wdcW1VV3vve92b06NH1HAkAGEbqGipLly7NkiVL8sgjj+Syyy7LwoULB1z7d3/3dzn++OPrOQ4A\n",
              "MMzULVR2796drVu3ZsGCBUmS+fPnp7u7Ozt27Nhv7fbt2/ONb3wjf/VXf/V/7nfPnj3p6enpd+vr\n",
              "6xvy+QGAxqtbqHR3d2fcuHFpanr5uoe1Wi2tra3p6urqt+6ll17K4sWL09HRkREjRvyf+12xYkVG\n",
              "jRrV77Z58+a6PAYAoLEafjLtlVdemXnz5uWEE054XeuXL1+eZ599tt9t5syZdZ4SAGiEpnrtePz4\n",
              "8dm1a1d6e3vT1NSUqqrS1dWV1tbWfuvuvPPOdHV15e///u/T29ubnp6eTJw4MVu2bMnRRx+9336b\n",
              "m5vT3Nzcb9vreSUGABh+6vaKytixYzN9+vSsW7cuSbJhw4a0tLSkra2t37q77rorjz/+eDo7O/Pd\n",
              "7343I0eOTGdn56tGCgDwxlLXt346OjrS0dGR9vb2rFy5MmvXrk2SLFq0KJs2barntwYADgF1e+sn\n",
              "SSZPnpx77rlnv+2rV69+1fUTJ07MM888U8+RAIBhpOEn0wIADESoAADFEioAQLGECgBQLKECABRL\n",
              "qAAAxRIqAECxhAoAUCyhAgAUS6gAAMUSKgBAsYQKAFAsoQIAFEuoAADFEioAQLGECgBQLKECABRL\n",
              "qAAAxRIqAECxhAoAUCyhAgAUS6gAAMUSKgBAsYQKAFAsoQIAFEuoAADFEioAQLGECgBQLKECABRL\n",
              "qAAAxRIqAECxhAoAUCyhAgAUS6gAAMUSKgBAsYQKAFAsoQIAFEuoAADFEioAQLGECgBQLKECABRL\n",
              "qAAAxRIqAECxhAoAUCyhAgAUS6gAAMUSKgBAsYQKAFAsoQIAFEuoAADFEioAQLGECgBQLKECABRL\n",
              "qAAAxRIqAECxhAoAUCyhAgAUS6gAAMUSKgBAsYQKAFAsoQIAFEuoAADFqmuoPProo5k9e3ba29sz\n",
              "Y8aMbN++fb81t99+e2bOnJkTTzwx73rXu3LppZdm79699RwLABgm6hoqS5cuzZIlS/LII4/ksssu\n",
              "y8KFC/dbc8QRR+SrX/1qHn744dx333353ve+l+uvv76eYwEAw0TdQmX37t3ZunVrFixYkCSZP39+\n",
              "uru7s2PHjn7rTj755Bx33HFJkre85S2ZNm1aOjs7B9zvnj170tPT0+/W19dXr4cBADRQ3UKlu7s7\n",
              "48aNS1NTU5KkVqultbU1XV1dA/6bp556KuvXr88HPvCBAdesWLEio0aN6nfbvHnzkM8PADReMSfT\n",
              "9vT05IMf/GAuvfTSnHrqqQOuW758eZ599tl+t5kzZx7ESQGAg6WpXjseP358du3ald7e3jQ1NaWq\n",
              "qnR1daW1tXW/tc8991zOPffcnHfeeVm2bNlr7re5uTnNzc39to0YMWJIZwcAylC3V1TGjh2b6dOn\n",
              "Z926dUmSDRs2pKWlJW1tbf3W/dd//VfOPffcnHvuubniiivqNQ4AMAzV9a2fjo6OdHR0pL29PStX\n",
              "rszatWuTJIsWLcqmTZuSJFdffXU2b96cjRs3Ztq0aZk2bVo+97nP1XMsAGCYqNtbP0kyefLk3HPP\n",
              "PfttX7169b6vL7/88lx++eX1HAMAGKaKOZkWAOB/EyoAQLGECgBQLKECABRLqAAAxRIqAECxhAoA\n",
              "UCyhAgAUS6gAAMUSKgBAsYQKAFAsoQIAFEuoAADFEioAQLGECgBQLKECABRLqAAAxRIqAECxhAoA\n",
              "UCyhAgAUS6gAAMUSKgBAsYQKAFAsoQIAFEuoAADFEioAQLGECgBQLKECABRLqAAAxRIqAECxhAoA\n",
              "UCyhAgAUS6gAAMUSKgBAsYQKAFAsoQIAFEuoAADFEioAQLGECgBQLKECABRLqAAAxRIqAECxhAoA\n",
              "UCyhAgAUS6gAAMUSKgBAsYQKAFAsoQIAFEuoAADFEioAQLGECgBQLKECABRLqAAAxRIqAECxhAoA\n",
              "UCyhAgAUS6gAAMUSKgBAsYQKAFAsoQIAFEuoAADFqmuoPProo5k9e3ba29szY8aMbN++/VXXrVmz\n",
              "JpMmTcrxxx+fxYsX56WXXqrnWADAMFHXUFm6dGmWLFmSRx55JJdddlkWLly435qdO3fmk5/8ZO66\n",
              "667s2LEjTz/9dK699tp6jgUADBN1C5Xdu3dn69atWbBgQZJk/vz56e7uzo4dO/qtW79+febOnZtj\n",
              "jjkmtVotF110UW644YYB97tnz5709PT0u/X19dXrYQAADdRUrx13d3dn3LhxaWp6+VvUarW0tram\n",
              "q6srbW1t+9Z1dXVlwoQJ++5PnDgxXV1dA+53xYoVufLKK/tte+c735lly5YN6fx9fX0Zt3lzZs6c\n",
              "mREjRgzpvpNk2bLvDPk+h6u+vr5sruOx5mWO88HhOB8cjvP+5tVhn319fXnPez5bt+M8YcKE/MVf\n",
              "/MVrrqlbqNTL8uXL94uS5ubmNDc3D+n36enpyahRo3Lbbbdl5MiRQ7pv+nOsDw7H+eBwnA8Ox/ng\n",
              "KOE41y1Uxo8fn127dqW3tzdNTU2pqipdXV1pbW3tt661tTWPPfbYvvudnZ37rXmlekQJAFCmup2j\n",
              "Mnbs2EyfPj3r1q1LkmzYsCEtLS393vZJXj53ZdOmTXnqqadSVVVWrVqVD3/4w/UaCwAYRur6Vz8d\n",
              "HR3p6OhIe3t7Vq5cmbVr1yZJFi1alE2bNiVJjjvuuFx55ZU57bTT0tbWlqOPPjpLly6t51gAwDBR\n",
              "13NUJk+enHvuuWe/7atXr+53f/HixVm8eHE9Rxm05ubmfOpTn/I200HgWB8cjvPB4TgfHI7zwVHC\n",
              "ca5VVVU17LsDALwGH6EPABRLqAAAxRIqAECxhAoAUCyh8j8uueSSTJw4MbVaLQ888MC+7a/3CtC8\n",
              "Pq92nF944YWcf/75aW9vz9SpU3POOefsd00oBmegn+dfWbt2bWq1Wr7xjW8c9NkOJQMd5z179uRj\n",
              "H/tYJk2alHe/+937rnnGgRnoON9yyy2ZPn16pk2blilTpuTLX/5y44Y8BLzWc/Hu3btz7rnnZtKk\n",
              "SZkyZUr+/d///eANVlFVVVXdeeedVXd3dzVhwoTq/vvv37f9rLPOqtauXVtVVVX9y7/8S3Xqqac2\n",
              "ZsBDxKsd5+eff766+eabq71791ZVVVXXXHNNdeaZZzZuyEPAQD/PVVVVO3furN7znvdUs2bNqm68\n",
              "8caGzHeoGOg4f/zjH68+9rGP7fuZ3rVrV4MmPDS82nHeu3dvdcQRR1QPPvhgVVUv/1w3NzdXPT09\n",
              "DZx0eHut5+ILL7yw+tSnPlVVVVVt3ry5OvbYY6sXX3zxoMzlFZX/ccYZZ6SlpaXfttd7BWhev1c7\n",
              "zm95y1vy/ve/P7VaLUkya9asdHZ2NmC6Q8erHeck2bt3bxYtWpRrrrnG508MgVc7zv/93/+dNWvW\n",
              "5HOf+9y+n+ljjjmmEeMdMgb6ea7VannmmWeSvHxNmjFjxvi5/jW81nPx17/+9Vx00UVJkhkzZuS3\n",
              "fuu3cueddx6UuYTKa3itK0BTP1dffXXOO++8Ro9xSPr85z+f0047LaecckqjRzlkPfbYYznyyCNz\n",
              "1VVX5dRTT81v//Zv5zvfcbX0oVar1fK1r30t8+bNy4QJE3L66afny1/+ct785jc3erRDxq+ei3/+\n",
              "85/npZde6hfcEydOPGi/C4fd1ZM5tF111VXZsWOHJ/Y6eOihh7Jhw4aD+97yG1Bvb28ef/zxnHji\n",
              "iVm5cmXuv//+nHPOOdm+fXt+8zd/s9HjHTJ6e3vz2c9+Nhs3bswZZ5yRLVu2ZO7cudm2bVuOOuqo\n",
              "Ro837L3yufj5559v6CxeUXkNr7wCdJIBrwDN0Pjbv/3bbNy4Md/85jfztre9rdHjHHLuuuuudHZ2\n",
              "ZtKkSZk4cWLuvffeLFmyJP/wD//Q6NEOKa2trTnssMPyx3/8x0mSk08+Oe94xzuybdu2Bk92aHng\n",
              "gQfy5JNP5owzzkjy8tsRLS0tuf/++xs82fD3v5+Lx4wZk6ampjz11FP71nR2dh6034VC5TW83itA\n",
              "8+v7/Oc/nxtuuCHf+ta3Mnr06EaPc0i6+OKLs2vXrnR2dqazszOzZs3Ktddem4svvrjRox1Sjjrq\n",
              "qJx99tm57bbbkiQ7d+7Mzp07c8IJJzR4skPLr/5H8kc/+lGSZMeOHXnssccyefLkBk82vA30XPx7\n",
              "v/d7WbVqVZJky5YteeKJJ3LmmWcenKEOyim7w8CSJUuqY489thoxYkQ1duzY6vjjj6+qqqp+/OMf\n",
              "V7NmzaomTZpUnXLKKdUPf/jDBk86vL3ace7u7q6SVMcdd1w1derUaurUqdXMmTMbPeqwNtDP8yud\n",
              "eeaZ/urn1zTQcX7ssceqOXPmVFOmTKlOOumkav369Q2edHgb6Dh/5Stf2XeMp0yZUv3zP/9zgycd\n",
              "3l7rufipp56qzjnnnKqtra068cQTq9tvv/2gzeWihABAsbz1AwAUS6gAAMUSKgBAsYQKAFAsoQIA\n",
              "FEuoAADFEioAQLGECgBQLKECABRLqAAAxfr/slp7eHQSp44AAAAASUVORK5CYII=\n",
              "\">\n",
              "      </div>\n",
              "      <script type=\"text/javascript\">\n",
              "        (() => {\n",
              "          const chartElement = document.getElementById(\"chart-82c9f81a-9389-437c-9435-4b7714baf53d\");\n",
              "          async function getCodeForChartHandler(event) {\n",
              "            const chartCodeResponse =  await google.colab.kernel.invokeFunction(\n",
              "                'getCodeForChart', [\"chart-82c9f81a-9389-437c-9435-4b7714baf53d\"], {});\n",
              "            const responseJson = chartCodeResponse.data['application/json'];\n",
              "            await google.colab.notebook.addCell(responseJson.code, 'code');\n",
              "          }\n",
              "          chartElement.onclick = getCodeForChartHandler;\n",
              "        })();\n",
              "      </script>\n",
              "      <style>\n",
              "        .colab-quickchart-chart-with-code  {\n",
              "            display: block;\n",
              "            float: left;\n",
              "            border: 1px solid transparent;\n",
              "        }\n",
              "\n",
              "        .colab-quickchart-chart-with-code:hover {\n",
              "            cursor: pointer;\n",
              "            border: 1px solid #aaa;\n",
              "        }\n",
              "      </style>"
            ]
          },
          "metadata": {}
        },
        {
          "output_type": "display_data",
          "data": {
            "text/plain": [
              "from matplotlib import pyplot as plt\n",
              "_df_3['c'].plot(kind='hist', bins=20, title='c')\n",
              "plt.gca().spines[['top', 'right',]].set_visible(False)"
            ],
            "text/html": [
              "      <div class=\"colab-quickchart-chart-with-code\" id=\"chart-6710b73d-be19-457e-900c-faa89b28a07c\">\n",
              "        <img style=\"width: 180px;\" src=\"data:image/png;base64,iVBORw0KGgoAAAANSUhEUgAAAioAAAGrCAYAAADuNLxTAAAAOXRFWHRTb2Z0d2FyZQBNYXRwbG90\n",
              "bGliIHZlcnNpb24zLjcuMSwgaHR0cHM6Ly9tYXRwbG90bGliLm9yZy/bCgiHAAAACXBIWXMAAA9h\n",
              "AAAPYQGoP6dpAAAfj0lEQVR4nO3dfVCVdf7/8dcB8nSjeEOYBBwYhYNaCiGQX7TMGnetb2Gpu1MN\n",
              "JW4C3Y3buDO5Zm5ZfcW9m3RrG1EbVmO2bNVWVtvaTc3txgTKXMNdBRUPtSBmJTUheeDz+8OJHyfE\n",
              "DT2X5wM+HzNnxnP56fL9GROec66Lc1zGGCMAAAALhYV6AAAAgK4QKgAAwFqECgAAsBahAgAArEWo\n",
              "AAAAaxEqAADAWoQKAACwFqECAACsRagAAABrESoAAMBahAoAALAWoQIAAKxFqACwUnNzsx599FF5\n",
              "vV7169dPQ4cO1apVq0I9FoBzLCLUAwDAqeTn52vfvn3asGGDhg8frvr6ejU0NIR6LADnmMsYY0I9\n",
              "BAB09Omnnyo6OloVFRXKyMgI9TgAQohLPwCsc/DgQUlSSkpKiCcBEGqECgDrJCYmSpL27dsX2kEA\n",
              "hByhAsA60dHRuuOOO/TAAw9o7969kqT6+np98MEHIZ4MwLlGqACw0ooVKzRhwgTdeOON6tu3r8aN\n",
              "G6eqqqpQjwXgHONmWgAAYC1eUQEAANYiVAAAgLUIFQAAYC1CBQAAWItQAQAA1iJUAACAtQgVAABg\n",
              "rV4RKkuXLg31CAAAwAG9IlQOHToU6hEAAIADekWoAACA3olQAQAA1iJUAACAtQgVAABgLUIFAABY\n",
              "i1ABAADWIlQAAIC1CBUAAGAtQgUAAFiLUAEAANYiVAAAgLUIFQAAYC1HQ2X27NlKTEyUy+XShx9+\n",
              "2OW6559/XsnJyRo2bJjy8/N14sQJJ8cCAAA9hKOhMn36dL399ttKSEjocs3Bgwe1YMECvfXWW6qp\n",
              "qdHhw4e1fPlyJ8cCAAA9hKOhcu211youLu60a9auXaucnBwNGTJELpdL9957r1588cUu17e0tKip\n",
              "qSng0draGuzRAQCABSJCPYDP5wt4xSUxMVE+n6/L9UVFRVq4cGHAsbFjxzoyW+LPNzlyXkmqXfy/\n",
              "jp0bAHD+cep7Vqi/X/W4m2nnzZunY8eOBTyysrJCPRYAAHBAyF9R8Xg82r9/f/vz2tpaeTyeLte7\n",
              "3W653e6AY+Hh4Y7NBwAAQifkr6hMmzZNZWVlamhokDFGy5Yt0+233x7qsQAAgAUcDZXCwkLFxcXp\n",
              "448/1g9/+EMlJSVJkmbNmqWysjJJ0tChQ7Vw4UKNGzdOSUlJio6OVmFhoZNjAQCAHsLRSz/FxcWn\n",
              "PL5y5cqA5/n5+crPz3dyFAAA0AOF/NIPAABAVwgVAABgLUIFAABYi1ABAADWIlQAAIC1CBUAAGAt\n",
              "QgUAAFiLUAEAANYiVAAAgLUIFQAAYC1CBQAAWItQAQAA1iJUAACAtQgVAABgLUIFAABYi1ABAADW\n",
              "IlQAAIC1CBUAAGAtQgUAAFiLUAEAANYiVAAAgLUIFQAAYC1CBQAAWItQAQAA1iJUAACAtQgVAABg\n",
              "LUIFAABYi1ABAADWIlQAAIC1CBUAAGAtQgUAAFiLUAEAANYiVAAAgLUIFQAAYC1CBQAAWItQAQAA\n",
              "1iJUAACAtQgVAABgLUIFAABYi1ABAADWIlQAAIC1CBUAAGAtQgUAAFiLUAEAANYiVAAAgLUIFQAA\n",
              "YC1CBQAAWItQAQAA1iJUAACAtQgVAABgLUIFAABYi1ABAADWIlQAAIC1CBUAAGAtQgUAAFiLUAEA\n",
              "ANYiVAAAgLUIFQAAYC1CBQAAWItQAQAA1iJUAACAtRwNlerqamVnZ8vr9SozM1NVVVWd1rS1tWnO\n",
              "nDkaOXKkRo8erYkTJ6qmpsbJsQAAQA/haKgUFhaqoKBA+/bt09y5c5WXl9dpTVlZmd555x3t2rVL\n",
              "//znP3XDDTfokUcecXIsAADQQzgWKo2NjaqsrFRubq4kadq0aaqrq+v0aonL5VJLS4uOHz8uY4ya\n",
              "mpoUFxfn1FgAAKAHiXDqxHV1dYqJiVFExMk/wuVyyePxyOfzKSkpqX3dLbfcoq1bt2rIkCHq16+f\n",
              "YmNjtW3bti7P29LSopaWloBjra2tzmwCAACEVMhvpq2srNRHH32kTz75RP/5z390ww036N577+1y\n",
              "fVFRkfr37x/wKC8vP4cTAwCAc8WxUImPj1d9fb38fr8kyRgjn88nj8cTsG716tW6/vrrNWDAAIWF\n",
              "hWnGjBnaunVrl+edN2+ejh07FvDIyspyahsAACCEHAuVwYMHKz09XaWlpZKkdevWKS4uLuCyjyQN\n",
              "HTpUW7Zs0TfffCNJ2rhxo6688souz+t2uxUZGRnwCA8Pd2obAAAghBy7R0WSiouLlZeXp0WLFiky\n",
              "MlIlJSWSpFmzZiknJ0c5OTl64IEH9K9//Uupqam64IILNGTIEC1btszJsQAAQA/haKikpKRo+/bt\n",
              "nY6vXLmy/ddut1srVqxwcgwAANBDhfxmWgAAgK4QKgAAwFqECgAAsBahAgAArEWoAAAAaxEqAADA\n",
              "WoQKAACwFqECAACsRagAAABrESoAAMBahAoAALAWoQIAAKxFqAAAAGsRKgAAwFqECgAAsBahAgAA\n",
              "rEWoAAAAaxEqAADAWoQKAACwFqECAACsRagAAABrESoAAMBahAoAALAWoQIAAKxFqAAAAGsRKgAA\n",
              "wFqECgAAsBahAgAArEWoAAAAaxEqAADAWoQKAACwFqECAACsRagAAABrESoAAMBahAoAALAWoQIA\n",
              "AKxFqAAAAGsRKgAAwFqECgAAsBahAgAArEWoAAAAaxEqAADAWoQKAACwFqECAACsRagAAABrESoA\n",
              "AMBahAoAALAWoQIAAKxFqAAAAGsRKgAAwFqECgAAsBahAgAArEWoAAAAaxEqAADAWoQKAACwFqEC\n",
              "AACsRagAAABrESoAAMBahAoAALAWoQIAAKxFqAAAAGsRKgAAwFqOhkp1dbWys7Pl9XqVmZmpqqqq\n",
              "U67bvXu3rrvuOo0YMUIjRozQ+vXrnRwLAAD0EBFOnrywsFAFBQXKy8vT2rVrlZeXp4qKioA1X3/9\n",
              "taZMmaLVq1dr/Pjxam1t1WeffebkWAAAoIdw7BWVxsZGVVZWKjc3V5I0bdo01dXVqaamJmDdH//4\n",
              "R40dO1bjx4+XJIWHhys6OrrL87a0tKipqSng0dra6tQ2AABACDkWKnV1dYqJiVFExMkXbVwulzwe\n",
              "j3w+X8C6PXv2yO126+abb1ZaWpruvvtuHTlypMvzFhUVqX///gGP8vJyp7YBAABCqNuh8vrrrwd1\n",
              "AL/frzfeeEPFxcXauXOnYmNjdd9993W5ft68eTp27FjAIysrK6gzAQAAO3Q7VJ544gmlpKRo6dKl\n",
              "ampq6nJdfHy86uvr5ff7JUnGGPl8Pnk8noB1Ho9HEydOVGxsrFwul3Jzc/Xee+91eV63263IyMiA\n",
              "R3h4eHe3AQAAeoBuh8o777yjl156SR999JG8Xq/uv/9+7dmzp9O6wYMHKz09XaWlpZKkdevWKS4u\n",
              "TklJSQHrfvzjH6uioqI9el599VWlpqaeyV4AAEAvc0b3qFx11VVasWKFXnvtNW3cuFGjR4/WpEmT\n",
              "tHv37oB1xcXFKi4ultfr1eLFi1VSUiJJmjVrlsrKyiSdfEXlkUceUXZ2tkaPHq0tW7Zo2bJlZ7kt\n",
              "AADQG5zRjye/8cYbeuaZZ7R792498MADuueee/Tmm2/qtttuC/ipnpSUFG3fvr3Tf79y5cqA53fd\n",
              "dZfuuuuuMxkFAAD0Yt0OlREjRujSSy/V7NmzNXXq1Pb7Q6ZPn67nn38+6AMCAIDzV7dDpbS0VGPG\n",
              "jDnl7/31r38964EAAAC+1e17VN5///2Ad449evSoVqxYEdShAAAApDMIleeee06DBg1qfx4VFaXn\n",
              "nnsuqEMBAABIZxAqxphOx3gLewAA4IRuh0pMTIxefvnl9udr1qxRTExMUIcCAACQzuBm2iVLlmjK\n",
              "lCl6+OGHJUkXX3yxNmzYEPTBAAAAuh0qw4cP1549e7R3715JJ98rhbewBwAATjijN3xzuVwaMGCA\n",
              "/H6/PvnkE0nq9Bk+AAAAZ6vbofKHP/xBs2fP1gUXXKCwsJO3uLhcLjU2NgZ9OAAAcH7rdqg8+eST\n",
              "qqioUEpKihPzAAAAtOv2T/1ceumlRAoAADgnuh0qt956q5YsWaLGxkY1NTW1PwAAAIKt25d+5s+f\n",
              "L0maM2eOXC6XjDFyuVy86RsAAAi6bodKW1ubE3MAAAB00u1LP9LJDyZ84YUXJElffPGF6uvrgzoU\n",
              "AACAdIYfSviTn/xEjz/+uKSTn5585513BnsuAACA7ofK8uXL9d577ykyMlKSNGzYMB05ciTogwEA\n",
              "AHQ7VNxuty666KKAYxERZ/QGtwAAAKfV7VCJjo7Wvn375HK5JJ18p1rePh8AADjhjD49+Y477tC/\n",
              "//1vxcfHKzIyUhs3bnRiNgAAcJ7rdqgkJSVpx44d2rt3r4wxfHoyAABwTLdDxefzSZIuueQSSeLT\n",
              "kwEAgGO6HSpjxoxpf0fa48eP6+uvv1ZUVBSfngwAAIKu26Hy3R9FXr9+vXbt2hW0gQAAAL51Ru9M\n",
              "29HUqVO1adOmYMwCAAAQoNuvqHT8pOTW1lbt2LGDT08GAACO6HaoDBgwoP0elfDwcCUnJ+t3v/ud\n",
              "E7MBAIDzHJ+eDAAArHXW96gAAAA4pduvqISFhbW/fX5Hxhi5XC61trYGZTAAAIBuh8oTTzyh5uZm\n",
              "3XfffZKkZcuW6aKLLtJDDz0U7NkAAMB5rtuh8sorr+j9999vf/7UU09pzJgxmj9/flAHAwAA6PY9\n",
              "Kl9++WXAu9A2Njbqyy+/DOpQAAAA0hm8ovKzn/1MqampuummmyRJr732mh5//PFgzwUAAND9UCks\n",
              "LNS4ceO0detWSdKcOXN0xRVXBH0wAACAboeKJEVFRWnUqFG67rrr5Pf79c0336hPnz7Bng0AAJzn\n",
              "un2Pytq1azV27FjNnDlTklRVVaVbb7012HMBAAB0P1SKior0wQcfaMCAAZKk1NRUHTp0KNhzAQAA\n",
              "dD9UwsPDFRUVFXCMyz4AAMAJ3Q6Vfv366fDhw+3vTrt582YNGjQo6IMBAAB0+2baX/7yl7rxxht1\n",
              "4MABjR8/XgcPHtSmTZucmA0AAJznuhUqbW1tam1t1datW/Xuu+/KGKPs7Oz2+1UAAACCqVuhEhYW\n",
              "poKCAu3atUs33nijUzMBAABIOoN7VJKTk1VTU+PELAAAAAG6fY/KZ599prS0NGVnZ6tv377tx9ev\n",
              "Xx/UwQAAAL53qBQUFGj58uWaMWOGcnJyNHDgQCfnAgAA+P6hUllZKUmaMWOG0tPT9cEHHzg2FAAA\n",
              "gHQG96hIkjEm2HMAAAB08r1fUWlubtbu3btljNHx48fbf/2t0aNHOzIgAAA4f3UrVHJyctqfd/y1\n",
              "y+XSgQMHgjsZAAA4733vUKmtrXVwDAAAgM7O6B4VAACAc4FQAQAA1iJUAACAtQgVAABgLUIFAABY\n",
              "i1ABAADWIlQAAIC1CBUAAGAtQgUAAFjL0VCprq5Wdna2vF6vMjMzVVVV1eVaY4yuv/56DRgwwMmR\n",
              "AABAD+JoqBQWFqqgoED79u3T3LlzlZeX1+Xap59+WsOGDXNyHAAA0MM4FiqNjY2qrKxUbm6uJGna\n",
              "tGmqq6tTTU1Np7VVVVX685//rJ///Of/9bwtLS1qamoKeLS2tgZ9fgAAEHqOhUpdXZ1iYmIUEXHy\n",
              "cw9dLpc8Ho98Pl/AuhMnTig/P1/FxcUKDw//r+ctKipS//79Ax7l5eWO7AEAAIRWyG+mXbhwoaZO\n",
              "naoRI0Z8r/Xz5s3TsWPHAh5ZWVkOTwkAAEIhwqkTx8fHq76+Xn6/XxERETLGyOfzyePxBKzbtm2b\n",
              "fD6fnn32Wfn9fjU1NSkxMVEVFRWKjo7udF632y232x1w7Pu8EgMAAHoex15RGTx4sNLT01VaWipJ\n",
              "WrduneLi4pSUlBSw7q233tKhQ4dUW1urt99+W5GRkaqtrT1lpAAAgPOLo5d+iouLVVxcLK/Xq8WL\n",
              "F6ukpESSNGvWLJWVlTn5RwMAgF7AsUs/kpSSkqLt27d3Or5y5cpTrk9MTNQXX3zh5EgAAKAHCfnN\n",
              "tAAAAF0hVAAAgLUIFQAAYC1CBQAAWItQAQAA1iJUAACAtQgVAABgLUIFAABYi1ABAADWIlQAAIC1\n",
              "CBUAAGAtQgUAAFiLUAEAANYiVAAAgLUIFQAAYC1CBQAAWItQAQAA1iJUAACAtQgVAABgLUIFAABY\n",
              "i1ABAADWIlQAAIC1CBUAAGAtQgUAAFiLUAEAANYiVAAAgLUIFQAAYC1CBQAAWItQAQAA1iJUAACA\n",
              "tQgVAABgLUIFAABYi1ABAADWIlQAAIC1CBUAAGAtQgUAAFiLUAEAANYiVAAAgLUIFQAAYC1CBQAA\n",
              "WItQAQAA1iJUAACAtQgVAABgLUIFAABYi1ABAADWIlQAAIC1CBUAAGAtQgUAAFiLUAEAANYiVAAA\n",
              "gLUIFQAAYC1CBQAAWItQAQAA1iJUAACAtQgVAABgLUIFAABYi1ABAADWIlQAAIC1CBUAAGAtQgUA\n",
              "AFiLUAEAANYiVAAAgLUcDZXq6mplZ2fL6/UqMzNTVVVVndZs2bJFWVlZGjlypK644go9/PDDamtr\n",
              "c3IsAADQQzgaKoWFhSooKNC+ffs0d+5c5eXldVozcOBAvfTSS9qzZ4/ef/99vfvuu1q9erWTYwEA\n",
              "gB7CsVBpbGxUZWWlcnNzJUnTpk1TXV2dampqAtZdddVVGjp0qCTpwgsvVFpammpra7s8b0tLi5qa\n",
              "mgIera2tTm0DAACEkGOhUldXp5iYGEVEREiSXC6XPB6PfD5fl/9NQ0OD1q5dq5tvvrnLNUVFRerf\n",
              "v3/Ao7y8POjzAwCA0LPmZtqmpibdcsstevjhh5WRkdHlunnz5unYsWMBj6ysrHM4KQAAOFcinDpx\n",
              "fHy86uvr5ff7FRERIWOMfD6fPB5Pp7VffvmlJk+erClTpmjOnDmnPa/b7Zbb7Q44Fh4eHtTZAQCA\n",
              "HRx7RWXw4MFKT09XaWmpJGndunWKi4tTUlJSwLqvvvpKkydP1uTJk/Xoo486NQ4AAOiBHL30U1xc\n",
              "rOLiYnm9Xi1evFglJSWSpFmzZqmsrEyStHTpUpWXl2v9+vVKS0tTWlqa/u///s/JsQAAQA/h2KUf\n",
              "SUpJSdH27ds7HV+5cmX7r+fPn6/58+c7OQYAAOihrLmZFgAA4LsIFQAAYC1CBQAAWItQAQAA1iJU\n",
              "AACAtQgVAABgLUIFAABYi1ABAADWIlQAAIC1CBUAAGAtQgUAAFiLUAEAANYiVAAAgLUIFQAAYC1C\n",
              "BQAAWItQAQAA1iJUAACAtQgVAABgLUIFAABYi1ABAADWIlQAAIC1CBUAAGAtQgUAAFiLUAEAANYi\n",
              "VAAAgLUIFQAAYC1CBQAAWItQAQAA1iJUAACAtQgVAABgLUIFAABYi1ABAADWIlQAAIC1CBUAAGAt\n",
              "QgUAAFiLUAEAANYiVAAAgLUIFQAAYC1CBQAAWItQAQAA1iJUAACAtQgVAABgLUIFAABYi1ABAADW\n",
              "IlQAAIC1CBUAAGAtQgUAAFiLUAEAANYiVAAAgLUIFQAAYC1CBQAAWItQAQAA1iJUAACAtQgVAABg\n",
              "LUIFAABYi1ABAADWIlQAAIC1CBUAAGAtQgUAAFiLUAEAANYiVAAAgLUcDZXq6mplZ2fL6/UqMzNT\n",
              "VVVVp1z3/PPPKzk5WcOGDVN+fr5OnDjh5FgAAKCHcDRUCgsLVVBQoH379mnu3LnKy8vrtObgwYNa\n",
              "sGCB3nrrLdXU1Ojw4cNavny5k2MBAIAewrFQaWxsVGVlpXJzcyVJ06ZNU11dnWpqagLWrV27Vjk5\n",
              "ORoyZIhcLpfuvfdevfjii12et6WlRU1NTQGP1tZWp7YBAABCKMKpE9fV1SkmJkYRESf/CJfLJY/H\n",
              "I5/Pp6SkpPZ1Pp9PCQkJ7c8TExPl8/m6PG9RUZEWLlwYcGz48OGaM2dOkHcgTQ36Gf+/OXM2n/J4\n",
              "a2urysvLlZWVpfDwcAcnsMf5tmf227ux397N5v068T2rtbVV//M/Tzm234SEBP30pz897RrHQsUp\n",
              "8+bN6xQlbrdbbrc7RBMFV1NTk/r376/XX39dkZGRoR7nnDjf9sx+ezf227ux33PPsVCJj49XfX29\n",
              "/H6/IiIiZIyRz+eTx+MJWOfxeLR///7257W1tZ3WdNSbogQAAJyeY/eoDB48WOnp6SotLZUkrVu3\n",
              "TnFxcQGXfaST966UlZWpoaFBxhgtW7ZMt99+u1NjAQCAHsTRn/opLi5WcXGxvF6vFi9erJKSEknS\n",
              "rFmzVFZWJkkaOnSoFi5cqHHjxikpKUnR0dEqLCx0ciwAANBDOHqPSkpKirZv397p+MqVKwOe5+fn\n",
              "Kz8/38lRegy3263HHnvsvLq8db7tmf32buy3d2O/557LGGNC9qcDAACcBm+hDwAArEWoAAAAaxEq\n",
              "AADAWoQKAACwFqESYrNnz1ZiYqJcLpc+/PDD9uMtLS168MEHlZycrFGjRrV/ZlJP19V+X331VaWn\n",
              "pystLU1XXnmlVq1aFbohg+j48eO69dZb5fV6lZqaqkmTJrV/3lVjY6MmT56s5ORkXXnllfrHP/4R\n",
              "4mnP3un2O3PmzPbj48aNU0VFRYinPXun2++3tmzZovDwcC1ZsiQ0QwbR6fZrjNHjjz8ur9erUaNG\n",
              "aeLEiSGe9uydbr/l5eUaO3asrrrqKo0YMUK/+tWvQjxtcPzgBz/Q6NGjlZaWpmuuuUY7d+6UJFVX\n",
              "Vys7O1ter1eZmZmqqqo6d0MZhNS2bdtMXV2dSUhIMDt37mw//tBDD5kHH3zQtLW1GWOMqa+vD9GE\n",
              "wXWq/ba1tZmBAweaXbt2GWOMOXjwoHG73aapqSmEkwZHc3Oz2bRpU/vf4zPPPGMmTJhgjDFm5syZ\n",
              "5rHHHjPGGFNeXm5iY2PNN998E6JJg+N0+92wYYM5ceKEMcaYv/zlLyYhISFEUwbP6fZrjDFffPGF\n",
              "yczMNDfffLN5+umnQzNkEJ1uv0uWLDG33XabaWlpMcb0jq9Zp9tvamqq2bBhgzHGmKNHj5ro6GhT\n",
              "VVUVqlGD5vPPP2//9fr1683o0aONMcZMnDjRlJSUGGOM+dOf/mQyMjLO2UyEiiU6fuP+6quvTL9+\n",
              "/cyxY8dCO5SDvhsqgwYNMtu2bTPGGLNr1y5z+eWXt3/B600qKirav0FfcsklAV/MMzMzzd///vcQ\n",
              "TeaMjvvt6MiRIyYiIqI9XHqL7+43NzfXbNiwwcyYMaNXhMp3ddxvbGys2bt3b2gHcljH/aalpZlV\n",
              "q1YZY4zx+XwmNja2V8RZRyUlJSY1NdUcPnzY9OvXr/3fa1tbm7nssstMdXX1OZmDSz8W2r9/vwYN\n",
              "GqRFixYpIyND11xzjTZvPvWnLfcGLpdLa9as0dSpU5WQkKDx48dr1apV6tOnT6hHC7qlS5dqypQp\n",
              "Onr0qE6cOKEhQ4a0/95/++Twnujb/Z7q+E033dT+6eq9Rcf9rl27VmFhYcrJyQnxVM75dr9NTU06\n",
              "fPiwNmzYoKuvvlpXX3211qxZE+rxgq7j329JSYkWLFggj8cjr9erRYsWBfx77snuvvtuxcfHa8GC\n",
              "BXrhhRdUV1enmJiY9n+vLpdLHo/nnH296l1fJXoJv9+vQ4cOaeTIkVq8eLF27typSZMmqaqqSpdd\n",
              "dlmoxws6v9+vp556SuvXr9e1116riooK5eTkaPfu3br00ktDPV7QLFq0SDU1Ndq8ebOam5tDPY7j\n",
              "Ou63o9LSUr388su94p6cjjrut6GhQU899ZTefPPNUI/lmI77PX78uPx+v5qbm7Vjxw7V1tYqOztb\n",
              "w4cPV2pqaqhHDYrv/v+8ePFiFRUV6c4779SBAwc0YcIEZWRkaOTIkSGe9OytXr1akrRq1SrNnTtX\n",
              "Tz75ZGgHOiev2+C/6ngp5MiRIyYsLMz4/f7238/IyOhVlwU67reiosIkJycH/H5GRob529/+FoLJ\n",
              "nPHrX//ajBkzJuD678UXX9xrL/2car/GGPPSSy+ZpKQkc+jQodAM5pDv7nfjxo1m8ODBJiEhwSQk\n",
              "JJhLLrnEDBw40DzyyCOhHTRITvX327dvX7N///7259OnTzcrVqwIwXTB9939HjlyxPTp0ydgzfTp\n",
              "083y5ctDMJ2zLrzwQtPQ0BDSSz+EiiW+ezPtpEmTzKZNm4wxxhw4cMBERUWZjz/+OETTBV/H/TY0\n",
              "NJi+ffuaPXv2GGOMqa6uNgMHDuw138x++9vfmvT0dPPZZ58FHJ8xY0bAzbSXX355j7+Z1piu97tm\n",
              "zRqTlJRkamtrQzSZM7rab0e96R6Vrvabn59vfv/73xtjTt5c6vF4zI4dO0IxYlCdar9+v98MHDjQ\n",
              "bN682RhzMlzi4+PNu+++G6oxg+Lzzz83n3zySfvzV155xcTGxpq2tjYzYcKEgJtpx4wZc87m4rN+\n",
              "QqywsFCbNm1SQ0ODoqKi1K9fP9XU1OjAgQO655579OmnnyosLEy/+MUvNG3atFCPe9a62u+LL76o\n",
              "RYsWKSwsTG1tbZo3b57uvPPOUI971j7++GPFx8dr6NCh6tevn6STH/K1Y8cOHT58WHfddZcOHjyo\n",
              "Pn366Nlnn+3xP9J5uv1ecMEFGjJkiKKiotrXb968OeB5T3O6/XaUl5entLQ0PfTQQyGYMnhOt9+j\n",
              "R49q5syZOnDggCTp/vvv1/333x/Kcc/a6fb7xhtvaO7cufL7/Tpx4oRmzZqlOXPmhHjis3Po0CH9\n",
              "6Ec/UnNzs8LCwhQdHa3f/OY3SktL0969e5WXl6ejR48qMjJSJSUlGjVq1DmZi1ABAADW4qd+AACA\n",
              "tQgVAABgLUIFAABYi1ABAADWIlQAAIC1CBUAAGAtQgUAAFiLUAEAANYiVAAAgLUIFQAAYK3/B/u2\n",
              "nsTYrl3vAAAAAElFTkSuQmCC\n",
              "\">\n",
              "      </div>\n",
              "      <script type=\"text/javascript\">\n",
              "        (() => {\n",
              "          const chartElement = document.getElementById(\"chart-6710b73d-be19-457e-900c-faa89b28a07c\");\n",
              "          async function getCodeForChartHandler(event) {\n",
              "            const chartCodeResponse =  await google.colab.kernel.invokeFunction(\n",
              "                'getCodeForChart', [\"chart-6710b73d-be19-457e-900c-faa89b28a07c\"], {});\n",
              "            const responseJson = chartCodeResponse.data['application/json'];\n",
              "            await google.colab.notebook.addCell(responseJson.code, 'code');\n",
              "          }\n",
              "          chartElement.onclick = getCodeForChartHandler;\n",
              "        })();\n",
              "      </script>\n",
              "      <style>\n",
              "        .colab-quickchart-chart-with-code  {\n",
              "            display: block;\n",
              "            float: left;\n",
              "            border: 1px solid transparent;\n",
              "        }\n",
              "\n",
              "        .colab-quickchart-chart-with-code:hover {\n",
              "            cursor: pointer;\n",
              "            border: 1px solid #aaa;\n",
              "        }\n",
              "      </style>"
            ]
          },
          "metadata": {}
        },
        {
          "output_type": "display_data",
          "data": {
            "text/plain": [
              "<google.colab._quickchart_helpers.SectionTitle at 0x7ad8adf09420>"
            ],
            "text/html": [
              "<h4 class=\"colab-quickchart-section-title\">2-d distributions</h4>\n",
              "<style>\n",
              "  .colab-quickchart-section-title {\n",
              "      clear: both;\n",
              "  }\n",
              "</style>"
            ]
          },
          "metadata": {}
        },
        {
          "output_type": "display_data",
          "data": {
            "text/plain": [
              "from matplotlib import pyplot as plt\n",
              "_df_4.plot(kind='scatter', x='index', y='a', s=32, alpha=.8)\n",
              "plt.gca().spines[['top', 'right',]].set_visible(False)"
            ],
            "text/html": [
              "      <div class=\"colab-quickchart-chart-with-code\" id=\"chart-473b9a1a-bea0-452a-a07c-b1092f136ad2\">\n",
              "        <img style=\"width: 180px;\" src=\"data:image/png;base64,iVBORw0KGgoAAAANSUhEUgAAAicAAAGkCAYAAADqnIU2AAAAOXRFWHRTb2Z0d2FyZQBNYXRwbG90\n",
              "bGliIHZlcnNpb24zLjcuMSwgaHR0cHM6Ly9tYXRwbG90bGliLm9yZy/bCgiHAAAACXBIWXMAAA9h\n",
              "AAAPYQGoP6dpAAAZS0lEQVR4nO3dfWzV9b3A8U9p4WAEuquIMLBU5PkZxc4njEgWWSaZQceG4kOG\n",
              "D1u2qxvbVBKncZKxXR2LmyaiIW6M3YVMmTPOuUVUxKhDA6iwOQWBovI8oMDgQNvf/cOssYO5cgPn\n",
              "9237eiW/hJ5+2/PxG0Lf/n6/nlOWZVkWAACJ6JD3AAAAHydOAICkiBMAICniBABIijgBAJIiTgCA\n",
              "pIgTACAp4gQASEqrjJP7778/7xEAgOOkVcbJhg0b8h4BADhOWmWcAABtlzgBAJIiTgCApIgTACAp\n",
              "4gQASIo4AQCSIk4AgKSIEwAgKeIEAEiKOAEAkiJOPubAoYbYvrcYBw415D0KALRbFXkPkIJte4qx\n",
              "4NX18cyqLbH/UEOc0LE8Pje8Z0w7t29071LIezwAaFeO65mTm2++Oaqrq6OsrCxWrlzZ9Pi7774b\n",
              "5513XgwcODDOPvvsWL169fEc4xNt21OM//71ivjVn2tjX7E+KjqUxb5ifSz484b4xv+uiO17i7nN\n",
              "BgDt0XGNkyuuuCJeeuml6Nu3b7PHb7rpprjxxhvjnXfeidtuuy2uu+664znGJ1rw6vpYs3VPnNKl\n",
              "EP91Yqc4sVAR/3VipzilSyHWbN0TC17xDsgAUErHNU4uvPDC6NOnT7PHtm7dGq+//npMmzYtIiIu\n",
              "v/zy2LhxY6xZs+aI36NYLEZdXV2zo6Hh2NwTcuBQQzyzakt0riiPivLmW1FR3iEKFeXxh9Wb3YMC\n",
              "ACVU8htiN27cGL169YqKio9udykrK4uqqqqora094vrZs2dHZWVls2PZsmXHZJa9xfrYf6ghOlUc\n",
              "eRsKFR1i/8GG2FusPybPBwD8Z8n/ts7MmTNj9+7dzY6amppj8r27FCrihI7lcbC+8YifL9Y3xgmd\n",
              "yqNLwX3DAFAqJY+T0047LTZt2hT19R+djciyLGpra6OqquqI6wuFQnTr1q3ZUV5efkxm6dyxPCYO\n",
              "PzUO1DdEfUPzQKlvaIxifUN8bljP6Nzx2DwfAPCflTxOevToEWeeeWYsWLAgIiIef/zx6NOnT/Tv\n",
              "37/Uo0RExNXnVkf/Hl1j295i/H3fwdhXrI+/7zsY2/YWY0CPrjHt3L7/+ZsAAMfMcY2Tm266Kfr0\n",
              "6RPvv/9+XHLJJU0BMnfu3Jg7d24MHDgwfvjDH8ajjz56PMf4RN27FOKBK8fEtM/0jS6dK6K+MYsu\n",
              "nSti2mf6xs+uHON1TgCgxMqyLMvyHuJozZgxI+bMmXPMv++BQx/d/NqlUOFSDgDkxJ2eH9O5Y7ko\n",
              "AYCcJf/bOgBA+yJOAICkiBMAICniBABIijgBAJIiTgCApIgTACAp4gQASIo4AQCSIk4AgKSIEwAg\n",
              "KeIEAEiKOAEAkiJOAICkiBMAICniBABIijgBAJIiTgCApIgTACAp4gQASIo4AQCSIk4AgKSIEwAg\n",
              "KeIEAEiKOAEAkiJOAICkiBMAICniBABIijgBAJIiTgCApIgTACAp4gQASIo4AQCSIk4AgKSIEwAg\n",
              "KeIEAEiKOAEAkiJOAICkiBMAICniBABIijgBAJIiTgCApIgTACAp4gQASIo4AQCSIk4AgKSIEwAg\n",
              "KeIEAEiKOAEAkiJOAICkiBMAICniBABIijgBAJIiTgCApIgTACAp4gQASIo4AQCSklucPPPMMzF2\n",
              "7NgYOXJknHPOOfHGG2/kNQoAkJCKPJ50586dcdVVV8WLL74Yw4YNi6VLl8ZVV10Vq1atymMcACAh\n",
              "uZw5Wbt2bZx88skxbNiwiIgYN25c1NbWxvLlyw9bWywWo66urtnR0NBQ6pEBgBLJJU4GDBgQO3bs\n",
              "iJdffjkiIp588snYs2dPrF+//rC1s2fPjsrKymbHsmXLSjwxAFAqucRJZWVlPPbYYzFz5sw466yz\n",
              "4k9/+lMMHTo0KioOv8o0c+bM2L17d7OjpqYmh6kBgFLI5Z6TiIjx48fH+PHjI+KjSzc9e/aMoUOH\n",
              "HrauUChEoVBo9lh5eXlJZgQASi+339bZtGlT05/vueeeuPjii6N///55jQMAJCK3OLnzzjtj8ODB\n",
              "0b9//9iwYUPMmzcvr1EAgITkdlnnkUceyeupAYCEeYVYACAp4gQASIo4AQCSIk4AgKSIEwAgKeIE\n",
              "AEiKOAEAkiJOAICkiBMAICniBABIijgBAJIiTgCApIgTACAp4gQASIo4AQCSIk4AgKSIEwAgKeIE\n",
              "AEiKOAEAkiJOAICkiBMAICniBABIijgBAJIiTgCApIgTACAp4gQASIo4AQCSIk4AgKSIEwAgKeIE\n",
              "AEiKOAEAkiJOAICkiBMAICniBABIijgBAJIiTgCApIgTACAp4gQASIo4AQCSIk4AgKSIEwAgKeIE\n",
              "AEiKOAEAkiJOAICkiBMAICniBABIijgBAJIiTgCApIgTACAp4gQASIo4AQCSIk4AgKSIEwAgKeIE\n",
              "AEiKOAEAkiJOAICkiBMAICniBABISm5x8vTTT8eZZ54Zo0ePjuHDh8cvfvGLvEYBABJSkceTZlkW\n",
              "06ZNixdeeCFGjhwZ69evj8GDB8fkyZOja9eueYwEACQilziJiCgrK4tdu3ZFRERdXV2cfPLJUSgU\n",
              "DltXLBajWCw2e6yhoaEUIwIAOcglTsrKymLhwoUxefLkOPHEE2Pnzp2xaNGi6NSp02FrZ8+eHXff\n",
              "fXezx84555xSjQoAlFgu95zU19fHrFmzYtGiRbFhw4ZYvHhxXH311bF9+/bD1s6cOTN2797d7Kip\n",
              "qclhagCgFHKJk5UrV8aHH34YF154YUREnH322dGnT59YsWLFYWsLhUJ069at2VFeXl7qkQGAEskl\n",
              "Tk477bTYtGlT/PWvf42IiDVr1sTatWtj0KBBeYwDACQkl3tOTj311Hj44YdjypQp0aFDh2hsbIwH\n",
              "Hnggqqqq8hgHAEhIbr+tM3Xq1Jg6dWpeTw8AJMorxAIASREnAEBSxAkAkBRxAgAkRZwAAEkRJwBA\n",
              "UsQJAJAUcQIAJEWcAABJEScAQFLECQCQFHECACRFnAAASREnAEBSxAkAkBRxAgAkRZwAAEkRJwBA\n",
              "UsQJAJAUcQIAJEWcAABJEScAQFLECQCQFHECACRFnAAASREnAEBSxAkAkJSKo/2CrVu3xl133RVv\n",
              "vPFGHDhwoOnx5cuXH9PBAID26ajPnEyfPj2qq6tj+/btcffdd8enP/3p+PznP388ZgMA2qGjjpON\n",
              "GzfGbbfdFoVCISZNmhSLFi2KZ5999njMBgC0Q0cdJ506dYqIiM6dO8eOHTuioqIitm/ffswHAwDa\n",
              "p6O+52TgwIGxY8eOmDZtWnzmM5+Jbt26xVlnnXU8ZgMA2qGjjpMFCxZERMQtt9wSY8eOjZ07d8bE\n",
              "iROP+WAAQPt01HHyceeff/6xmgMAICK8zgkAkBhxAgAkRZwAAEkRJwBAUsQJAJAUcQIAJEWcAABJ\n",
              "EScAQFLECQCQFHECACRFnAAASREnAEBSxAkAkBRxAgAkRZwAAEkRJwBAUsQJAJAUcQIAJEWcAABJ\n",
              "EScAQFLECQCQFHECACRFnAAASREnAEBSKvJ40h07dsSECROaPv7HP/4R7733XmzdujVOOumkPEYC\n",
              "ABKRS5ycfPLJsXLlyqaP77vvvliyZIkwAQDSuKwzb968mD59et5jAAAJyOXMyce9/PLLsXPnzrj0\n",
              "0kuP+PlisRjFYrHZYw0NDaUYDQDIQe5nTubNmxfXXHNNVFQcuZNmz54dlZWVzY5ly5aVeEoAoFTK\n",
              "sizL8nryvXv3Rq9eveK1116LwYMHH3HNkc6cfO9734v777+/FCMCACWW62WdhQsXxqhRo/5tmERE\n",
              "FAqFKBQKzR4rLy8/3qMBADnJ9bKOG2EBgH+V65mTl19+Oc+nBwASlPsNsQAAHydOAICkiBMAICni\n",
              "BABIijgBAJIiTgCApIgTACAp4gQASIo4AQCSIk4AgKSIEwAgKeIEAEiKOAEAkiJOAICkiBMAICni\n",
              "BABIijgBAJIiTgCApIgTACAp4gQASIo4AQCSIk4AgKSIEwAgKeIEAEiKOAEAkiJOAICkiBMAICni\n",
              "BABIijgBAJIiTgCApIgTACAp4gQASIo4AQCSIk4AgKSIEwAgKeIEAEiKOAEAkiJOAICkiBMAICni\n",
              "BABIijgBAJIiTgCApIgTACAp4gQASIo4AQCSIk4AgKSIEwAgKeIEAEiKOAEAkiJOAICkiBMAICni\n",
              "BABIijgBAJIiTgCApIgTACAp4gQASIo4AQCSIk4AgKSIEwAgKbnFSbFYjG984xsxYMCAGDFiREyb\n",
              "Ni2vUQCAhFTk9cS33357lJWVxTvvvBNlZWWxefPmvEYBABKSS5zs27cv5s2bF++//36UlZVFRETP\n",
              "nj2PuLZYLEaxWGz2WENDw3GfEQDIRy6XddauXRsnnXRS/OAHP4ixY8fGuHHjYvHixUdcO3v27Kis\n",
              "rGx2LFu2rMQTAwClkkuc1NfXx4YNG2Lo0KHx+uuvx09/+tP40pe+FFu2bDls7cyZM2P37t3Njpqa\n",
              "mhymBgBKIZfLOlVVVdGhQ4e46qqrIiJizJgxcfrpp8dbb70Vp556arO1hUIhCoVCs8fKy8tLNisA\n",
              "UFq5nDnp3r17TJgwIf74xz9GRMS6deti3bp1MWTIkDzGAQASkttv6zz00EMxffr0uO2226JDhw4x\n",
              "d+7c6N27d17jAACJyC1O+vXrF88//3xeTw8AJMorxAIASREnAEBSxAkAkBRxAgAkRZwAAEkRJwBA\n",
              "UsQJAJAUcQIAJEWcAABJEScAQFLECQCQFHECACRFnAAASREnAEBSxAkAkBRxAgAkRZwAAEkRJwBA\n",
              "UsQJAJAUcQIAJEWcAABJEScAQFLECQCQFHECACRFnAAASREnAEBSxAkAkBRxAgAkRZwAAEkRJwBA\n",
              "UsQJAJAUcQIAJEWcAABJEScAQFLECQCQFHECACRFnAAASREnAEBSxAkAkBRxAgAkRZwAAEkRJwBA\n",
              "UsQJAJAUcQIAJEWcAABJEScAQFLECQCQFHECACRFnAAASREnAEBSxAkAkBRxAgAkRZwAAEkRJwBA\n",
              "UsQJAJAUcQIAJEWcAABNDhxqiO17i3HgUENuM1Tk9swAQDK27SnGglfXxzOrtsT+Qw1xQsfy+Nzw\n",
              "njHt3L7RvUuhpLPkduakuro6Bg0aFKNHj47Ro0fHwoUL8xoFANq1bXuK8d+/XhG/+nNt7CvWR0WH\n",
              "sthXrI8Ff94Q3/jfFbF9b7Gk8+R65mThwoUxevToPEcAgHZvwavrY83WPXFKl0JUlH903uLEQkR9\n",
              "Q2Os2bonFryyIb752YElmyf5e06KxWLU1dU1Oxoa8rsOBgBtyYFDDfHMqi3RuaK8KUz+qaK8QxQq\n",
              "yuMPqzeX9B6UXOPkmmuuiREjRsT06dNj27ZtR1wze/bsqKysbHYsW7asxJMCQNu0t1gf+w81RKeK\n",
              "IydBoaJD7D/YEHuL9SWbKbc4efHFF+PNN9+M5cuXR/fu3ePaa6894rqZM2fG7t27mx01NTUlnhYA\n",
              "2qYuhYo4oWN5HKxvPOLni/WNcUKn8uhSKN2dILndc1JVVRURER07doxvfvObMXDgka9lFQqFKBSa\n",
              "3yVcXl5+3OcDgPagc8fymDj81PjVn2ujvqGx2aWd+obGKNY3xBeH9YnOHUv3szeXMyf79u2LXbt2\n",
              "NX3861//OsaMGZPHKADQ7l19bnX079E1tu0txt/3HYx9xfr4+76DsW1vMQb06BrTzu1b0nlyOXOy\n",
              "ZcuWuPzyy6OhoSGyLIt+/frF/Pnz8xgFANq97l0K8cCVY2LBKxviD6s3x/6DDdGlc0V8cVifXF7n\n",
              "pCzLsqykz3gMzJgxI+bMmZP3GADQ5hw49NHNr10KFSW9lPNxXiEWAGjSuWN5blHyT8m/zgkA0L6I\n",
              "EwAgKeIEAEiKOAEAkiJOAICkiBMAICniBABIijgBAJIiTgCApIgTACAprfK9dSZPnhzV1dXH/Ps2\n",
              "NDTEsmXLoqamJsrL833p3rbMPpeGfS4N+1wa9rl0jude9+3bN2655Zb/uK5VxsnxUldXF5WVlbF7\n",
              "9+7o1q1b3uO0Wfa5NOxzadjn0rDPpZPCXrusAwAkRZwAAEkRJwBAUsTJxxQKhbjrrruiUCjkPUqb\n",
              "Zp9Lwz6Xhn0uDftcOinstRtiAYCkOHMCACRFnAAASREnAEBS2mWcvPvuu3HeeefFwIED4+yzz47V\n",
              "q1cfcd28efNiwIABccYZZ8QNN9wQhw4dKvGkrVtL9vm5556LmpqaGDp0aAwbNixuvfXWaGxszGHa\n",
              "1qulf58jIrIsi4svvjg+9alPlW7ANqKl+/zWW2/FRRddFEOGDIkhQ4bEokWLSjxp69aSfW5sbIwZ\n",
              "M2bE0KFDY+TIkTF+/PhYs2ZNDtO2XjfffHNUV1dHWVlZrFy58t+uy+3nYNYOjR8/Pnv00UezLMuy\n",
              "3/zmN9nYsWMPW/Pee+9lvXr1yjZt2pQ1NjZmkyZNyh544IEST9q6tWSfly9fnq1duzbLsizbv39/\n",
              "dv755zd9DS3Tkn3+px//+MfZ9ddfn1VWVpZmuDakJfu8b9++7PTTT8+WLl2aZVmW1dfXZ1u3bi3l\n",
              "mK1eS/b5t7/9bVZTU5MdPHgwy7Isu+eee7IvfvGLpRyz1VuyZEm2cePGrG/fvtmKFSuOuCbPn4Pt\n",
              "Lk62bNmSde3aNTt06FCWZVnW2NiYnXrqqdm7777bbN3//M//ZDfddFPTx7///e+z888/v6SztmYt\n",
              "3ed/9fWvfz276667SjBh23A0+7xq1aps3Lhx2Zo1a8TJUWrpPj/yyCPZ1KlT8xixTWjpPj/xxBPZ\n",
              "qFGjsrq6uqyxsTH77ne/m33rW9/KY+RW75PiJM+fg+3uss7GjRujV69eUVFRERERZWVlUVVVFbW1\n",
              "tc3W1dbWRt++fZs+rq6uPmwN/15L9/njNm/eHI899lhceumlpRqz1WvpPh86dChuuOGGmDt3rjdN\n",
              "+39o6T7/5S9/iUKhEJdeemmMHj06rrnmmti2bVseI7dKLd3nSZMmxUUXXRQ9e/aMXr16xeLFi+P7\n",
              "3/9+HiO3aXn+HGx3cUKa6urqYtKkSXHrrbfG2LFj8x6nzbn77rtj8uTJMWTIkLxHadPq6+vj2Wef\n",
              "jblz58aKFSuid+/e8bWvfS3vsdqc119/PVatWhUffPBBfPjhhzFhwoT46le/mvdYHEPtLk5OO+20\n",
              "2LRpU9TX10fERzcI1tbWRlVVVbN1VVVVsWHDhqaP169ff9ga/r2W7nNExJ49e2LixInxhS98IWbM\n",
              "mFHqUVu1lu7zkiVL4mc/+1lUV1fHBRdcEHV1dVFdXe3/6lvoaP7dGD9+fPTu3TvKyspi2rRp8eqr\n",
              "r+YxcqvU0n2eP39+043dHTp0iGuvvTaef/75PEZu0/L8Odju4qRHjx5x5plnxoIFCyIi4vHHH48+\n",
              "ffpE//79m627/PLL48knn4zNmzdHlmXx0EMPxZe//OU8Rm6VWrrPe/fujYkTJ8bEiRPjjjvuyGPU\n",
              "Vq2l+7x06dLYsGFDrF+/Pl566aXo1q1brF+/Pk455ZQ8xm51WrrPU6ZMiddeey3q6uoiIuLpp5+O\n",
              "UaNGlXze1qql+9yvX7947rnn4uDBgxER8dRTT8Xw4cNLPm9bl+vPwZLc2ZKYt99+OzvnnHOyAQMG\n",
              "ZGeddVb25ptvZlmWZdOnT89+97vfNa17+OGHs379+mX9+vXLvvKVrzTdGU7LtGSfZ82alVVUVGSj\n",
              "Ro1qOmbNmpXn2K1OS/8+/9O6devcEPv/0NJ9nj9/fjZs2LBsxIgR2cSJE7Pa2tq8Rm6VWrLPBw4c\n",
              "yK6//vps8ODB2YgRI7LPfvazTb/1R8vceOONWe/evbPy8vKsR48e2RlnnJFlWTo/B723DgCQlHZ3\n",
              "WQcASJs4AQCSIk4AgKSIE+C4GD16dOzZs+eov+6KK66In//858d+IKDVqMh7AKBt+qQ3EwP4JM6c\n",
              "AMdFWVlZ7Nq1KyI+etnrO++8M84999w4/fTTY9asWU3r3n777TjvvPNi2LBhcdlllzW9RkjERy/Q\n",
              "d8MNN0RNTU2MHDkybrzxxjh48GD87W9/iz59+sR7770XERH33XdfTJw40TtaQxshToCS2LVrV7zy\n",
              "yivx2muvxb333hsffPBBRERcffXVMX369Fi9enXcc889sWTJkqav+fa3vx3jxo2LZcuWxRtvvBGN\n",
              "jY1x//33x6BBg+Lee++NKVOmxAsvvBAPPvhg/PKXv4wOHfyTBm2ByzpASVx55ZUREdG9e/fo169f\n",
              "rFu3Lrp27RorV66M6667LiIiRowYERdccEHT1zzxxBPxyiuvxJw5cyIiYv/+/U1vXDh16tR4/vnn\n",
              "45JLLonFixd7tVtoQ8QJUBKdO3du+nN5eXnT+6f8q7KysqY/Z1kWjz/+eAwcOPCwdfX19bFq1ao4\n",
              "6aSTms7CAG2Dc6BAbrp16xZjxoyJ+fPnR0TE6tWr46WXXmr6/GWXXRY/+tGPmkJm586dsWbNmoiI\n",
              "uP3222PQoEGxdOnS+M53vtP0OND6iRMgV/Pnz4+HH344hg8fHnfccUdceOGFTZ/7yU9+EieccEKM\n",
              "Hj06Ro4cGRMmTIj169fHU089Fc8880w8+OCD0b9//5gzZ05MmTIlDhw4kON/CXCseG8dACApzpwA\n",
              "AEkRJwBAUsQJAJAUcQIAJEWcAABJEScAQFLECQCQFHECACRFnAAASREnAEBS/g9m0LG5HYTTIQAA\n",
              "AABJRU5ErkJggg==\n",
              "\">\n",
              "      </div>\n",
              "      <script type=\"text/javascript\">\n",
              "        (() => {\n",
              "          const chartElement = document.getElementById(\"chart-473b9a1a-bea0-452a-a07c-b1092f136ad2\");\n",
              "          async function getCodeForChartHandler(event) {\n",
              "            const chartCodeResponse =  await google.colab.kernel.invokeFunction(\n",
              "                'getCodeForChart', [\"chart-473b9a1a-bea0-452a-a07c-b1092f136ad2\"], {});\n",
              "            const responseJson = chartCodeResponse.data['application/json'];\n",
              "            await google.colab.notebook.addCell(responseJson.code, 'code');\n",
              "          }\n",
              "          chartElement.onclick = getCodeForChartHandler;\n",
              "        })();\n",
              "      </script>\n",
              "      <style>\n",
              "        .colab-quickchart-chart-with-code  {\n",
              "            display: block;\n",
              "            float: left;\n",
              "            border: 1px solid transparent;\n",
              "        }\n",
              "\n",
              "        .colab-quickchart-chart-with-code:hover {\n",
              "            cursor: pointer;\n",
              "            border: 1px solid #aaa;\n",
              "        }\n",
              "      </style>"
            ]
          },
          "metadata": {}
        },
        {
          "output_type": "display_data",
          "data": {
            "text/plain": [
              "from matplotlib import pyplot as plt\n",
              "_df_5.plot(kind='scatter', x='a', y='b', s=32, alpha=.8)\n",
              "plt.gca().spines[['top', 'right',]].set_visible(False)"
            ],
            "text/html": [
              "      <div class=\"colab-quickchart-chart-with-code\" id=\"chart-40d1ca0b-cedb-43d6-b6f7-a265ee1c8f09\">\n",
              "        <img style=\"width: 180px;\" src=\"data:image/png;base64,iVBORw0KGgoAAAANSUhEUgAAAicAAAGkCAYAAADqnIU2AAAAOXRFWHRTb2Z0d2FyZQBNYXRwbG90\n",
              "bGliIHZlcnNpb24zLjcuMSwgaHR0cHM6Ly9tYXRwbG90bGliLm9yZy/bCgiHAAAACXBIWXMAAA9h\n",
              "AAAPYQGoP6dpAAAZI0lEQVR4nO3df6zV9WH/8de598JB5YcKKt2u914NP1aFCSoUbWFljcHWLhpl\n",
              "66LYddHKmjhmXLKVZFm7roUmbUj8kUy2GGrKZHZKlmW1dqvZakmnlJTrimmsl3L5sfLTH/yK98i9\n",
              "93z/cCPeiLP9hnPOm8vjkZxEP/fDua98JPLMOZ97qNTr9XoAAArR1uoBAADvJE4AgKKIEwCgKOIE\n",
              "ACiKOAEAiiJOAICiiBMAoCjiBAAoyhkZJw888ECrJwAADXJGxsnOnTtbPQEAaJAzMk4AgNFLnAAA\n",
              "RREnAEBRxAkAUBRxAgAURZwAAEURJwBAUcQJAFAUcQIAFEWcAABFEScAwEkDJ4Zy6FgtAyeGWrah\n",
              "o2XfGQAoxsGjtax/vj/PbNufN08M5Zwx7fn4rKlZdl13poyvNnVLw145GRgYyC233JIZM2bkqquu\n",
              "yg033JC+vr4kyYEDB3LjjTdm+vTpmTVrVp577rlGzQAA3sfBo7X88Yat+fsXduV4bTAdbZUcrw1m\n",
              "/Qs7c+/jW3PoWK2pexr6ts4999yTl19+OS+++GJuvvnm3H333UmSz3/+81mwYEFeeeWVrFu3Lrff\n",
              "fntOnDjRyCkAwHtY/3x/+g4czUXjq7ngvLE5r9qRC84bm4vGV9N34GjW/+fOpu5pWJyMGzcun/jE\n",
              "J1KpVJIkCxYsSH9/f5LkW9/6Vv7oj/4oSTJv3rz82q/9Wr7//e+f8nlqtVqOHDky4jE01Lr3wQBg\n",
              "NBk4MZRntu3PuI72dLSPzIKO9rZUO9rznZf2NfUelKbdEPvAAw/k5ptvzquvvpoTJ05k6tSpJ7/W\n",
              "09OTXbt2nfLXrV69OpMmTRrx2Lx5c7NmA8Codqw2mDdPDGVsx6mToNrRljffGsqx2mDTNjUlTlat\n",
              "WpW+vr6sXr36V/61K1euzOHDh0c85s+f34CVAHD2GV/tyDlj2vPW4PApv14bHM45Y9szvtq8n6Fp\n",
              "eJx8/etfz8aNG/Od73wn5557biZPnpyOjo7s27fv5Dn9/f3p6uo65a+vVquZOHHiiEd7e3ujZwPA\n",
              "WWHcmPbcOOuSDAwOZXBoZKAMDg2nNjiUj185NePGNO/P3obGyZo1a7Jhw4b827/9W84///yTx3/3\n",
              "d383jzzySJLkRz/6Uf77v/87v/Vbv9XIKQDAe7jzup5Mu3hCDh6r5bXjb+V4bTCvHX8rB4/VMv3i\n",
              "CVl2XXdT91Tq9Xq9EU+8Z8+eXHrppbn88sszYcKEJG+/CvLCCy9k//79ufPOO7Njx46MHTs2Dz/8\n",
              "cBYvXvxLP/f999+fNWvWNGI2AJyVDh2rZf1/7sx3XtqXN98ayjlj2/PxK1vzOScNi5NGEicA0BgD\n",
              "J96++XV8taOpb+W8k0+IBQBOGjemvWVR8r/83ToAQFHECQBQFHECABRFnAAARREnAEBRxAkAUBRx\n",
              "AgAURZwAAEURJwBAUcQJAFAUcQIAFEWcAABFEScAQFHECQBQFHECABRFnAAARREnAEBRxAkAUBRx\n",
              "AgAURZwAAEURJwBAUcQJAFAUcQIAFEWcAABFEScAQFHECQBQFHECABRFnAAARREnAEBRxAkAUBRx\n",
              "AgAURZwAAEURJwBAUcQJAFAUcQIAFEWcAABFEScAQFHECQBQFHECABRFnAAARREnAEBRxAkAUBRx\n",
              "AgAURZwAAEURJwBAUcQJAFAUcQIAFEWcAABFEScAQFHECQBQFHECABRFnAAARREnAEBRxAkAUBRx\n",
              "AgAURZwAAEURJwBAURoaJytWrEhPT08qlUp6e3tPHn/66adz9dVXZ86cOZk1a1Yee+yxRs4AAM4g\n",
              "DY2TpUuXZtOmTenu7j55rF6vZ9myZfnGN76R3t7e/Mu//EuWL1+eo0ePNnIKAHCG6Gjkky9atOiU\n",
              "xyuVSt54440kyZEjRzJ58uRUq9VTnlur1VKr1UYcGxoaOq07AYByNDROTqVSqeSJJ57IrbfemvPO\n",
              "Oy+vv/56Nm7cmLFjx57y/NWrV+ev/uqvRhxbsGBBM6YCAC3Q9BtiBwcH8+UvfzkbN27Mzp078+yz\n",
              "z+bOO+/MoUOHTnn+ypUrc/jw4RGP+fPnN3k1ANAsTY+T3t7e/OIXvzj5ls+8efPS2dmZrVu3nvL8\n",
              "arWaiRMnjni0t7c3czIA0ERNj5NLL700e/fuzU9/+tMkSV9fX7Zv356ZM2c2ewoAUKCG3nOyfPny\n",
              "fPvb386+ffuyZMmSTJgwIX19ffnbv/3b/N7v/V7a2toyPDychx9+OF1dXY2cAgCcISr1er3e6hG/\n",
              "qvvvvz9r1qxp9QwAoAF8QiwAUBRxAgAURZwAAEURJwBAUcQJAFAUcQIAFEWcAABFEScAQFHECQBQ\n",
              "FHECABRFnAAARREnAEBRxAkAUBRxAgAURZwAAEURJwBAUcQJAFAUcQIAFEWcAABFEScAQFHECQBQ\n",
              "FHECABRFnAAARREnAEBRxAkAUBRxAgAURZwAAEURJwBAUcQJAFAUcQIAFEWcAABFEScAQFHECQBQ\n",
              "FHECABRFnAAARREnAEBRxAkAUBRxAgAURZwAAEURJwBAUcQJAFAUcQIAFEWcAABFEScAQFHECQBQ\n",
              "FHECABRFnAAARREnAEBRxAkAUBRxAgAURZwAAEURJwBAUcQJAFAUcQIAFEWcAABFEScAQFHECQBQ\n",
              "FHECABSloXGyYsWK9PT0pFKppLe39+TxWq2We++9N9OnT8/s2bOzbNmyRs4AAM4gHY188qVLl+bP\n",
              "/uzP8pGPfGTE8c9//vOpVCr52c9+lkqlkn379jVyBgBwBmlonCxatOhdx44fP55HH300e/bsSaVS\n",
              "SZJMnTr1PZ+jVqulVquNODY0NHR6hwIAxWj6PSfbt2/PhRdemFWrVuXaa6/NwoUL8+yzz77n+atX\n",
              "r86kSZNGPDZv3tzExQBAMzU9TgYHB7Nz585cccUV2bJlSx588MF86lOfyv79+095/sqVK3P48OER\n",
              "j/nz5zd5NQDQLA19W+dUurq60tbWljvuuCNJMnfu3Fx22WX5yU9+kksuueRd51er1VSr1RHH2tvb\n",
              "m7IVAGi+pr9yMmXKlHzsYx/Ld7/73STJjh07smPHjnzwgx9s9hQAoEANjZPly5ens7Mze/bsyZIl\n",
              "SzJt2rQkySOPPJKvfe1rmT17dm655ZasXbs2v/7rv97IKQDAGaKhb+usXbv2lMcvv/zy/Pu//3sj\n",
              "vzUAcIbyCbEAQFHECQBQFHECABRFnAAARREnAEBRxAkAUBRxAgAURZwAAEURJwBAUcQJAFAUcQIA\n",
              "FEWcAABFEScAQFHECQBQFHECABRFnAAARREnAEBRxAkAUBRxAgAURZwAAEURJwBAUcQJAFAUcQIA\n",
              "FEWcAABFEScAQFHECQBQFHECABSl4//nF+3atSvPPfdcKpVKFi5cmK6urtO9CwA4S/3Kr5w8/vjj\n",
              "mTt3bjZu3Jgnn3wy11xzTf7hH/6hEdsAgLPQr/zKyZe+9KVs2bIll112WZKkv78/N954Y37/93//\n",
              "tI8DAM4+v/IrJ+eee+7JMEmSnp6enHvuuad1FABw9vql4+TIkSM5cuRIbrrppnzxi1/Mnj17snv3\n",
              "7nzpS1/K7/zO7zRyIwBwFqnU6/X6L3NiW1tbKpVKTnV6pVLJ0NDQaR/3Xu6///6sWbOmad8PAGie\n",
              "X/qek+Hh4UbuAABI4nNOAIDCiBMAoCjiBAAoijgBAIoiTgCAoogTAKAo4gQAKIo4AQCKIk4AgKKI\n",
              "EwCgKOIEACiKOAEAiiJOAICiiBMAoCjiBAAoijgBAIoiTgCAoogTAKAo4gQAKIo4AQCKIk4AgKKI\n",
              "EwCgKOIEACiKOAEAitLQOFmxYkV6enpSqVTS29v7rq+vW7culUol//RP/9TIGQDAGaShcbJ06dJs\n",
              "2rQp3d3d7/paf39//u7v/i4LFixo5AQA4AzT0DhZtGhROjs733V8eHg4d999dx566KFUq9VGTgAA\n",
              "zjAdrfima9asyYc//OFcc80173turVZLrVYbcWxoaKhR0wCAFmv6DbHbtm3LU089lb/4i7/4pc5f\n",
              "vXp1Jk2aNOKxefPmBq8EAFql6XHygx/8IP39/Zk+fXp6enry/PPP55577snf/M3fnPL8lStX5vDh\n",
              "wyMe8+fPb/JqAKBZmv62zuc+97l87nOfO/nvH/3oR3PffffllltuOeX51Wr1XfeltLe3N3IiANBC\n",
              "DX3lZPny5ens7MyePXuyZMmSTJs2rZHfDgAYBRr6ysnatWvf95z/+I//aOQEAOAM4xNiAYCiiBMA\n",
              "oCjiBAAoijgBAIoiTgCAoogTAKAo4gQAKIo4AQCKIk4AgKKIEwCgKOIEACiKOAEAiiJOAICiiBMA\n",
              "oCjiBAAoijgBAIoiTgCAoogTAKAo4gQAKIo4AQCKIk4AgKKIEwCgKOIEACiKOAEAiiJOAICiiBMA\n",
              "oCjiBAAoijgBAIoiTgCAoogTAKAo4gQAKIo4AQCKIk4AgKKIEwCgKOIEACiKOAEAiiJOAICiiBMA\n",
              "oCjiBAAoijgBAIoiTgCAoogTAKAo4gQAKIo4AQCKIk4AgKKIEwCgKOIEACiKOAEAiiJOAICiiBMA\n",
              "oCjiBAAoijgBAIoiTgCAoogTAKAo4gQAKIo4AQCKIk4AgKKIEwCgKOIEAChKQ+NkxYoV6enpSaVS\n",
              "SW9vb5JkYGAgt9xyS2bMmJGrrroqN9xwQ/r6+ho5AwA4gzQ0TpYuXZpNmzalu7t7xPF77rknL7/8\n",
              "cl588cXcfPPNufvuuxs5AwA4gzQ0ThYtWpTOzs4Rx8aNG5dPfOITqVQqSZIFCxakv7//PZ+jVqvl\n",
              "yJEjIx5DQ0ONnA0AtFDL7zl54IEHcvPNN7/n11evXp1JkyaNeGzevLmJCwGAZmppnKxatSp9fX1Z\n",
              "vXr1e56zcuXKHD58eMRj/vz5TVwJADRTR6u+8de//vVs3Lgx3/ve93Luuee+53nVajXVanXEsfb2\n",
              "9kbPAwBapCVxsmbNmmzYsCHf+973cv7557diAgBQqIa+rbN8+fJ0dnZmz549WbJkSaZNm5Y9e/bk\n",
              "T//0T/PGG29k8eLFmTNnTj70oQ81cgYAcAZp6Csna9euPeXxer3eyG8LAJzBWv7TOgAA7yROAICi\n",
              "iBMAoCjiBAAoijgBAIoiTgCAoogTAKAo4gQAKIo4AQCKIk4AgKKIEwCgKOIEACiKOAEAiiJOAICi\n",
              "iBMAoCjiBAAoijgBAIoiTgCAoogTAKAo4gQAKIo4AQCKIk4AgKKIEwCgKOIEACiKOAEAiiJOAICi\n",
              "iBMAoCjiBAAoijgBAIoiTgCAoogTAKAo4gQAKIo4AQCKIk4AgKKIEwCgKOIEACiKOAEAiiJOAICi\n",
              "iBMAoCjiBAAoijgBAIoiTgCAoogTAKAo4gQAKIo4AQCKIk4AgKKIEwCgKOIEACiKOAEAiiJOAICi\n",
              "iBMAoCjiBAAoijgBAIoiTgCAoogTAKAo4gQAKIo4eYeBE0M5dKyWgRNDrZ4CAGetjlYPKMHBo7Ws\n",
              "f74/z2zbnzdPDOWcMe35+KypWXZdd6aMr7Z6HgCcVRr6ysmKFSvS09OTSqWS3t7ek8dfeeWVXH/9\n",
              "9ZkxY0bmzZuXl156qZEz/k8Hj9byxxu25u9f2JXjtcF0tFVyvDaY9S/szL2Pb82hY7WWbQOAs1FD\n",
              "42Tp0qXZtGlTuru7Rxxfvnx57rnnnvzsZz/Ln//5n+czn/lMI2f8n9Y/35++A0dz0fhqLjhvbM6r\n",
              "duSC88bmovHV9B04mvX/ubNl2wDgbNTQOFm0aFE6OztHHDtw4EC2bNmSZcuWJUluu+227N69O319\n",
              "fad8jlqtliNHjox4DA2dnntCBk4M5Zlt+zOuoz0d7SMvRUd7W6od7fnOS/vcgwIATdT0G2J3796d\n",
              "D3zgA+noePt2l0qlkq6uruzateuU569evTqTJk0a8di8efNp2XKsNpg3TwxlbMepL0O1oy1vvjWU\n",
              "Y7XB0/L9AID3V/xP66xcuTKHDx8e8Zg/f/5pee7x1Y6cM6Y9bw0On/LrtcHhnDO2PeOr7hsGgGZp\n",
              "epxceuml2bt3bwYH3341ol6vZ9euXenq6jrl+dVqNRMnThzxaG9vPy1bxo1pz42zLsnA4FAGh0YG\n",
              "yuDQcGqDQ/n4lVMzbszp+X4AwPtrepxcfPHFufrqq7N+/fokyVNPPZXOzs5Mmzat2VOSJHde15Np\n",
              "F0/IwWO1vHb8rRyvDea142/l4LFapl88Icuu637/JwEATpuGxsny5cvT2dmZPXv2ZMmSJScDZO3a\n",
              "tVm7dm1mzJiRr371q1m3bl0jZ/yfpoyv5uHb52bZh7ozflxHBofrGT+uI8s+1J2Hbp/rc04AoMkq\n",
              "9Xq93uoRv6r7778/a9asOe3PO3Di7Ztfx1c7vJUDAC3iTs93GDemXZQAQIsV/9M6AMDZRZwAAEUR\n",
              "JwBAUcQJAFAUcQIAFEWcAABFEScAQFHECQBQFHECABRFnAAARTkj/26dW2+9NT09Paf9eYeGhrJ5\n",
              "8+bMnz8/7e0+xr5RXOfmcJ2bw3VuHte6ORp5nbu7u/Mnf/In73veGRknjXLkyJFMmjQphw8fzsSJ\n",
              "E1s9Z9RynZvDdW4O17l5XOvmKOE6e1sHACiKOAEAiiJOAICiiJN3qFar+cIXvpBqtdrqKaOa69wc\n",
              "rnNzuM7N41o3RwnX2Q2xAEBRvHICABRFnAAARREnAEBRxMn/6OnpycyZMzNnzpzMmTMnTzzxRKsn\n",
              "jUq1Wi333ntvpk+fntmzZ2fZsmWtnjTqvPrqqyd/H8+ZMyczZsxIR0dHXnvttVZPG5WefvrpXH31\n",
              "1ZkzZ05mzZqVxx57rNWTRqVnnnkm1157bX7zN38zCxYsyIsvvtjqSaPCihUr0tPTk0qlkt7e3pPH\n",
              "X3nllVx//fWZMWNG5s2bl5deeqm5w+rU6/V6vbu7u75169ZWzxj17rvvvvq9995bHx4ertfr9fre\n",
              "vXtbvGj0+9rXvlb/5Cc/2eoZo9Lw8HD9ggsuqL/44ov1er1e37FjR71ardaPHDnS4mWjy2uvvVa/\n",
              "8MIL69u2bavX6/X6c889V7/yyitbvGp0+P73v1/fvXv3u/4MXLx4cX3dunX1er1e/8d//Mf6tdde\n",
              "29RdXjmhaY4fP55HH300X/nKV1KpVJIkU6dObfGq0e/RRx/NXXfd1eoZo1alUskbb7yR5O2P/Z48\n",
              "ebIfdT3Ntm/fnsmTJ+fKK69MkixcuDC7du3Kj3/84xYvO/MtWrQonZ2dI44dOHAgW7ZsOfnK9m23\n",
              "3Zbdu3enr6+vabvEyTt8+tOfzuzZs3PXXXfl4MGDrZ4z6mzfvj0XXnhhVq1alWuvvTYLFy7Ms88+\n",
              "2+pZo9oPf/jDvP766/nkJz/Z6imjUqVSyRNPPJFbb7013d3d+chHPpLHHnssY8eObfW0UWX69Ol5\n",
              "9dVX88Mf/jBJ8s///M85evRo+vv7WztslNq9e3c+8IEPpKOjI8nbv8+7urqya9eupm0QJ//jueee\n",
              "y3/913/lxz/+caZMmZI/+IM/aPWkUWdwcDA7d+7MFVdckS1btuTBBx/Mpz71qezfv7/V00atRx99\n",
              "NJ/+9KdP/k+G02twcDBf/vKXs3HjxuzcuTPPPvts7rzzzhw6dKjV00aVSZMm5cknn8zKlStzzTXX\n",
              "5F//9V9zxRVX+H09ivkv+z+6urqSJGPGjMl9992XGTNmtHjR6NPV1ZW2trbccccdSZK5c+fmsssu\n",
              "y09+8pNccsklLV43+hw7dizf+ta38qMf/ajVU0at3t7e/OIXv8iiRYuSJPPmzUtnZ2e2bt2aG264\n",
              "ocXrRpfFixdn8eLFSd6+sX7q1Km54oorWrxqdLr00kuzd+/eDA4OpqOjI/V6Pbt27Tr552QzeOUk\n",
              "b98L8b/vGSfJhg0bMnfu3NYNGqWmTJmSj33sY/nud7+bJNmxY0d27NiRD37wgy1eNjo98cQTueqq\n",
              "q/Ibv/EbrZ4yav3v/8R/+tOfJkn6+vqyffv2zJw5s8XLRp+9e/ee/Oe//uu/zm//9m9n2rRpLVw0\n",
              "el188cW5+uqrs379+iTJU089lc7OzqZebx9fn+TnP/95brvttgwNDaVer+fyyy/PAw88kJ6enlZP\n",
              "G3V+/vOf56677sqhQ4fS1taWv/zLv8xtt93W6lmj0vXXX5/Pfvaz+cM//MNWTxnVNmzYkFWrVqWt\n",
              "rS3Dw8NZuXJlbr/99lbPGnU++9nP5gc/+EEGBwdz3XXX5aGHHsr555/f6llnvOXLl+fb3/529u3b\n",
              "l8mTJ2fChAnp6+vLyy+/nM985jN59dVXM3HixKxbty6zZ89u2i5xAgAUxds6AEBRxAkAUBRxAgAU\n",
              "RZwAAEURJwBAUcQJUIQ77rjj5N86e9NNN2Xfvn2tngS0iB8lBopw8ODBXHTRRUmSr371q+nv788j\n",
              "jzzS4lVAK/j4eqAIjz/+eL75zW9mYGAgAwMDmTJlSqsnAS3ibR2g5TZt2pQHH3wwTz/9dLZt25Y1\n",
              "a9ZkYGCg1bOAFhEnQMu9/vrrmTBhQiZPnpy33nora9eubfUkoIXECdByN954Y2bOnJmZM2dm4cKF\n",
              "mTNnTqsnAS3khlgAoCheOQEAiiJOAICiiBMAoCjiBAAoijgBAIoiTgCAoogTAKAo4gQAKIo4AQCK\n",
              "Ik4AgKL8P4JHRaUMz145AAAAAElFTkSuQmCC\n",
              "\">\n",
              "      </div>\n",
              "      <script type=\"text/javascript\">\n",
              "        (() => {\n",
              "          const chartElement = document.getElementById(\"chart-40d1ca0b-cedb-43d6-b6f7-a265ee1c8f09\");\n",
              "          async function getCodeForChartHandler(event) {\n",
              "            const chartCodeResponse =  await google.colab.kernel.invokeFunction(\n",
              "                'getCodeForChart', [\"chart-40d1ca0b-cedb-43d6-b6f7-a265ee1c8f09\"], {});\n",
              "            const responseJson = chartCodeResponse.data['application/json'];\n",
              "            await google.colab.notebook.addCell(responseJson.code, 'code');\n",
              "          }\n",
              "          chartElement.onclick = getCodeForChartHandler;\n",
              "        })();\n",
              "      </script>\n",
              "      <style>\n",
              "        .colab-quickchart-chart-with-code  {\n",
              "            display: block;\n",
              "            float: left;\n",
              "            border: 1px solid transparent;\n",
              "        }\n",
              "\n",
              "        .colab-quickchart-chart-with-code:hover {\n",
              "            cursor: pointer;\n",
              "            border: 1px solid #aaa;\n",
              "        }\n",
              "      </style>"
            ]
          },
          "metadata": {}
        },
        {
          "output_type": "display_data",
          "data": {
            "text/plain": [
              "from matplotlib import pyplot as plt\n",
              "_df_6.plot(kind='scatter', x='b', y='c', s=32, alpha=.8)\n",
              "plt.gca().spines[['top', 'right',]].set_visible(False)"
            ],
            "text/html": [
              "      <div class=\"colab-quickchart-chart-with-code\" id=\"chart-f9d3be31-eca7-4332-91fa-1d7238cfd6a3\">\n",
              "        <img style=\"width: 180px;\" src=\"data:image/png;base64,iVBORw0KGgoAAAANSUhEUgAAAicAAAGkCAYAAADqnIU2AAAAOXRFWHRTb2Z0d2FyZQBNYXRwbG90\n",
              "bGliIHZlcnNpb24zLjcuMSwgaHR0cHM6Ly9tYXRwbG90bGliLm9yZy/bCgiHAAAACXBIWXMAAA9h\n",
              "AAAPYQGoP6dpAAAd00lEQVR4nO3df5BV9X3/8ddlVy5BBBSjJK5AiGyiRRGjZNWIcVKahM4IMbGd\n",
              "JqTVGQaTjLWOThtp46TOGNYmDFNMZqrOZIgtCZVGTNMYkwpak9oEtAP4I9a4xuWHgqiJu8rAyi73\n",
              "+4eTHbdZ0vqt997PwuMxc2bcc++59z1nrnefnHv23EqtVqsFAKAQo5o9AADAG4kTAKAo4gQAKIo4\n",
              "AQCKIk4AgKKIEwCgKOIEACiKOAEAijIi42TlypXNHgEAqJMRGSfbtm1r9ggAQJ2MyDgBAA5f4gQA\n",
              "KIo4AQCKIk4AgKKIEwCgKOIEACiKOAEAiiJOAICiiBMAoCjiBAAoijgBAAbtPzCQF1/ty/4DA02b\n",
              "obVpzwwAFOOFV/qy+qfd+cFjz2ffgYG87aiWfHTm5Cw6d2qOH1dt6Cx1PXLye7/3eznjjDNy5pln\n",
              "5oILLsjmzZuTJE899VTOO++8tLe355xzzsnjjz9ezzEAgN/ihVf68qdrNuebG7dnb19/WkdVsrev\n",
              "P6s3bsuV39qcF1/ta+g8dY2TtWvX5pFHHsmWLVtyzTXX5LLLLkuSXHHFFVmyZEl+/vOf5/Of//zg\n",
              "egCg8Vb/tDtde17J28dVc+zRo3N0tTXHHj06bx9XTdeeV7L6J9saOk9d42TixImD/93T05NKpZI9\n",
              "e/bk4YcfzqJFi5IkH//4x7Njx450dXUN+xh9fX3p7e0dsgwMNO9zMAA4nOw/MJAfPPZ8xrS2pLVl\n",
              "aBa0toxKtbUl9zy+u6HnoNT9hNg//uM/zsknn5zrr78+//AP/5AdO3bkHe94R1pbXz/dpVKpZMqU\n",
              "Kdm+ffuw23d2dmbChAlDlk2bNtV7bAA4Irza1599BwYyunX4JKi2jsq+1wbyal9/w2aqe5z8/d//\n",
              "fXbs2JEbb7wxn//859/09kuXLk1PT8+QZc6cOXWYFACOPOOqrXnbUS15rf/gsLf39R/M20a3ZFy1\n",
              "cX9D07A/Jf6TP/mT3H///Wlra8uuXbvS3/96gdVqtWzfvj1TpkwZdrtqtZrx48cPWVpaWho1NgAc\n",
              "1sYc1ZKPzDwx+/sH0j8wNFD6Bw6mr38gH/2dyRlzVON+99YtTl5++eU899xzgz9/5zvfyaRJk3LC\n",
              "CSfkrLPOyurVq5Mkd955Z9ra2nLKKafUaxQA4Lf49LnTcsoJx+SFV/vyy72vZW9ff36597W88Gpf\n",
              "ZpxwTBadO7Wh89TtGE1PT08uvfTS7Nu3L6NGjcrb3/72fO9730ulUsmtt96ayy67LMuWLcv48eOz\n",
              "atWqeo0BAPwPjh9Xzdc+OTurf7It9zy+O/teG8i4Ma259HfamnKdk0qtVqs19BnfAtdcc01WrFjR\n",
              "7DEA4LCz/8DrJ7+Oq7Y29KOcN3KFWABg0JijWpoWJb/mu3UAgKKIEwCgKOIEACiKOAEAiiJOAICi\n",
              "iBMAoCjiBAAoijgBAIoiTgCAoogTAKAo4gQAKIo4AQCKIk4AgKKIEwCgKOIEACiKOAEAiiJOAICi\n",
              "iBMAoCjiBAAoijgBAIoiTgCAoogTAKAo4gQAKIo4AQCKIk4AgKKIEwCgKOIEACiKOAEAiiJOAICi\n",
              "iBMAoCjiBAAoijgBAIoiTgCAoogTAKAo4gQAKErd4mT//v1ZuHBh2tvbM2vWrMybNy9dXV1Jkk2b\n",
              "NqWjoyOzZ8/Oqaeemi9/+cv1GgMAGGHqeuRkyZIlefLJJ7N169YsWLAgixcvHlz/l3/5l9m8eXMe\n",
              "fPDBLF++PD/72c/qOQoAMELULU7GjBmT+fPnp1KpJEk6OjrS3d2dJKlUKnn55ZeTJHv37s3o0aNz\n",
              "3HHHDfs4fX196e3tHbIMDAzUa2wAoMkads7JypUrs2DBgiTJqlWrcv3112fKlClpb2/PsmXLMnny\n",
              "5GG36+zszIQJE4YsmzZtatTYAECDNSROli1blq6urnR2diZJbrrppnR2dmb79u15/PHH81d/9VeH\n",
              "/Fhn6dKl6enpGbLMmTOnEWMDAE3QWu8nWL58edatW5f169dn7NixefHFF3PXXXflH//xH5Mk06dP\n",
              "T0dHRx588MGcdtppv7F9tVpNtVodsq6lpaXeYwMATVLXIycrVqzImjVrcu+992bixIlJkmOPPTZH\n",
              "H3107rvvviTJiy++mI0bN2bmzJn1HAUAGCHqduRk586dufbaazN9+vRcdNFFSV4/CrJx48asXbs2\n",
              "f/7nf57+/v4cOHAgV199dc4999x6jQIAjCB1i5O2trbUarVhb/vd3/3d/Od//me9nhoAGMFcIRYA\n",
              "KIo4AQCKIk4AgKKIEwCgKOIEACiKOAEAiiJOAICiiBMAoCjiBAAoijgBAIoiTgCAoogTAKAo4gQA\n",
              "KIo4AQCKIk4AgKKIEwCgKOIEACiKOAEAiiJOAICiiBMAoCjiBAAoijgBAIoiTgCAoogTAKAo4gQA\n",
              "KIo4AQCKIk4AgKKIEwCgKOIEACiKOAEAiiJOAICiiBMAoCjiBAAoijgBAIoiTgCAotQtTvbv35+F\n",
              "Cxemvb09s2bNyrx589LV1ZUkqdVq+eu//uu0t7fn9NNPz0UXXVSvMQCAEaa1ng++ZMmSfPSjH02l\n",
              "UsnXvva1LF68OP/2b/+Wm2++OY888kgee+yxjB49Ort3767nGADACFK3IydjxozJ/PnzU6lUkiQd\n",
              "HR3p7u5OknzlK1/JTTfdlNGjRydJJk+eXK8xAIARpmHnnKxcuTILFixIb29vnn/++fzzP/9z3v/+\n",
              "9+f9739/7rjjjkNu19fXl97e3iHLwMBAo8YGABqsrh/r/NqyZcvS1dWVDRs2ZP/+/env78++ffuy\n",
              "cePGdHd357zzzst73/vezJo16ze27ezszA033DBkXUdHRyPGBgCaoO5HTpYvX55169blnnvuydix\n",
              "Y3Pcccdl3LhxWbRoUZJk2rRpOf/88/PQQw8Nu/3SpUvT09MzZJkzZ069xwYAmqSucbJixYqsWbMm\n",
              "9957byZOnDi4/o/+6I/ygx/8IEnyy1/+Mps2bcoZZ5wx7GNUq9WMHz9+yNLS0lLPsQGAJqrUarVa\n",
              "PR54586dOfnkkzN9+vQcc8wxSV4PjY0bN+all17K5Zdfnl/84hdJks997nP53Oc+979+7GuuuSYr\n",
              "Vqyox9gAQJPV7ZyTtra2HKp7Jk2alO9+97v1emoAYARzhVgAoCjiBAAoijgBAIoiTgCAoogTAKAo\n",
              "4gQAKIo4AQCKIk4AgKKIEwCgKOIEACiKOAEAiiJOAICiiBMAoCjiBAAoijgBAIoiTgCAoogTAKAo\n",
              "4gQAKIo4AQCKIk4AgKKIEwCgKOIEACiKOAEAiiJOAICiiBMAoCjiBAAoijgBAIoiTgCAoogTAKAo\n",
              "4gQAKIo4AQCKIk4AgKKIEwCgKOIEACiKOAEAiiJOAICi1C1O9u/fn4ULF6a9vT2zZs3KvHnz0tXV\n",
              "NeQ+9913X1paWvK3f/u39RoDABhh6nrkZMmSJXnyySezdevWLFiwIIsXLx68raenJ9ddd13mz59f\n",
              "zxEAgBGmbnEyZsyYzJ8/P5VKJUnS0dGR7u7uwduvvPLKfOELX8ikSZN+6+P09fWlt7d3yDIwMFCv\n",
              "sQGAJmvYOScrV67MggULkiTf/va3M2rUqFx88cX/43adnZ2ZMGHCkGXTpk31HhcAaJKGxMmyZcvS\n",
              "1dWVzs7O7N69OzfeeGNWrlz5v9p26dKl6enpGbLMmTOnzhMDAM3SWu8nWL58edatW5f169dn7Nix\n",
              "uf/++7Nr166ceeaZSZIXX3wx3/3ud/PCCy/kS1/60m9sX61WU61Wh6xraWmp99gAQJPUNU5WrFiR\n",
              "NWvWZP369Zk4cWKS5Pd///fz/PPPD97nsssuy5lnnpmrr766nqMAACNE3eJk586dufbaazN9+vRc\n",
              "dNFFSV4/CrJx48Z6PSUAcBioW5y0tbWlVqv9j/f7xje+Ua8RAIARyBViAYCiiBMAoCjiBAAoijgB\n",
              "AIoiTgCAoogTAKAo4gQAKIo4AQCKIk4AgKKIEwCgKOIEACiKOAEAiiJOAICiiBMAoCjiBAAoijgB\n",
              "AIoiTgCAoogTAKAo4gQAKIo4AQCKIk4AgKKIEwCgKOIEACiKOAEAiiJOAICiiBMAoCjiBAAoypuO\n",
              "k3/5l3/Jyy+/PPjzr371q9x9991v5UwAwBHsTcfJ9ddfn4kTJw7+PHHixFx//fVv5UwAwBHs//yx\n",
              "TqVSycDAwFsxCwDAm4+TY445Jv/xH/8x+PODDz6YY4455i0dCgA4crW+2Q2+/OUv52Mf+1je+973\n",
              "Jkmeeuqp3HXXXW/5YADAkelNx8m5556bJ554Ij/5yU+SJOedd96Qc1AAAP4v3nScJMmxxx6b+fPn\n",
              "v9WzAAC4zgkAUBZxAgAUpW5xsn///ixcuDDt7e2ZNWtW5s2bl66uriTJ5ZdfPrj+/PPPz0MPPVSv\n",
              "MQCAEaauR06WLFmSJ598Mlu3bs2CBQuyePHiJMnHPvax/OxnP8vWrVuzdOnSXHrppfUcAwAYQeoW\n",
              "J2PGjMn8+fNTqVSSJB0dHenu7k6SXHzxxWltbR1c/+yzz6a/v3/Yx+nr60tvb++QxUXfAODw1bBz\n",
              "TlauXJkFCxYMu37+/PmDsfLfdXZ2ZsKECUOWTZs21XtcAKBJGhIny5YtS1dXVzo7O4esX716ddau\n",
              "XZvbbrvtkNsuXbo0PT09Q5Y5c+bUe2QAoEn+v65z8mYsX74869aty/r16zN27NjB9XfccUduuOGG\n",
              "bNiwISeeeOIht69Wq6lWq0PWtbS01G1eAKC56honK1asyJo1a7J+/fohV5Fdu3ZtvvCFL2T9+vWZ\n",
              "MmVKPUcAAEaYSq1Wq9XjgXfu3JmTTz4506dPH/xiwGq1mo0bN+aoo47K5MmTM2nSpMH7b9iwYcjP\n",
              "v80111yTFStW1GNsAKDJ6nbkpK2tLYfqngMHDtTraQGAEc4VYgGAoogTAKAo4gQAKIo4AQCKIk4A\n",
              "gKKIEwCgKOIEACiKOAEAiiJOAICiiBMAoCjiBAAoijgBAIoiTgCAoogTAKAo4gQAKIo4AQCKIk4A\n",
              "gKKIEwCgKOIEACiKOAEAiiJOAICiiBMAoCjiBAAoijgBAIoiTgCAoogTAKAo4gQAKIo4AQCKIk4A\n",
              "gKKIEwCgKOIEACiKOAEAiiJOAICiiBMAoCjiBAAoijgBAIpStzjZv39/Fi5cmPb29syaNSvz5s1L\n",
              "V1dXkmTPnj35yEc+khkzZmTmzJn50Y9+VK8xAIARpq5HTpYsWZInn3wyW7duzYIFC7J48eIkyXXX\n",
              "XZeOjo489dRTWbVqVT75yU/mwIED9RwFABgh6hYnY8aMyfz581OpVJIkHR0d6e7uTpKsXbs2n/nM\n",
              "Z5Ik55xzTt75znfmgQceGPZx+vr60tvbO2QZGBio19gAQJM17JyTlStXZsGCBXnppZdy4MCBTJ48\n",
              "efC2adOmZfv27cNu19nZmQkTJgxZNm3a1KixAYAGa0icLFu2LF1dXens7HzT2y5dujQ9PT1Dljlz\n",
              "5tRhSgCgBK31foLly5dn3bp1Wb9+fcaOHZuxY8emtbU1u3fvHjx60t3dnSlTpgy7fbVaTbVaHbKu\n",
              "paWl3mMDAE1S1yMnK1asyJo1a3Lvvfdm4sSJg+svvfTS3HLLLUmShx56KM8++2wuvPDCeo4CAIwQ\n",
              "dTtysnPnzlx77bWZPn16LrrooiSvHwXZuHFj/uZv/iaf/vSnM2PGjIwePTqrV6/OUUcdVa9RAIAR\n",
              "pG5x0tbWllqtNuxtJ554Yv71X/+1Xk8NAIxgrhALABRFnAAARREnAEBRxAkAUBRxAgAURZwAAEUR\n",
              "JwBAUcQJAFAUcQIAFEWcAABFEScAQFHECQBQFHECABRFnAAARREnAEBRxAkAUBRxAgAURZwAAEUR\n",
              "JwBAUcQJAFAUcQIAFEWcAABFEScAQFHECQBQFHECABRFnAAARREnAEBRxAkAUBRxAgAURZwAAEUR\n",
              "JwBAUcQJAFAUcQIAFEWcAABFEScAQFHECQBQlLrGyVVXXZVp06alUqlky5Ytg+u///3v56yzzsqZ\n",
              "Z56ZmTNn5vbbb6/nGADACFLXOPnEJz6Rf//3f8/UqVMH19VqtSxatCjf+MY3smXLlnzve9/LFVdc\n",
              "kVdeeaWeowAAI0RrPR987ty5w66vVCp5+eWXkyS9vb2ZNGlSqtXqsPft6+tLX1/fkHUDAwNv6ZwA\n",
              "QDnqGifDqVQqueOOO3LJJZfk6KOPzq9+9ausW7cuo0ePHvb+nZ2dueGGG4as6+joaMSoAEATNPyE\n",
              "2P7+/tx4441Zt25dtm3blg0bNuTTn/50XnzxxWHvv3Tp0vT09AxZ5syZ0+CpAYBGaXicbNmyJc89\n",
              "99zgRz7nnHNO2trasnnz5mHvX61WM378+CFLS0tLI0cGABqo4XFy8sknZ9euXXniiSeSJF1dXXn6\n",
              "6afznve8p9GjAAAFqus5J1dccUXuvvvu7N69Ox/+8IdzzDHHpKurK7fddlv+4A/+IKNGjcrBgwfz\n",
              "ta99LVOmTKnnKADACFGp1Wq1Zg/xZl1zzTVZsWJFs8cAAOrAFWIBgKKIEwCgKOIEACiKOAEAiiJO\n",
              "AICiiBMAoCjiBAAoijgBAIoiTgCAoogTAKAo4gQAKIo4AQCKIk4AgKKIEwCgKOIEACiKOAEAiiJO\n",
              "AICiiBMAoCjiBAAoijgBAIoiTgCAoogTAKAo4gQAKIo4AQCKIk4AgKKIEwCgKOIEACiKOAEAiiJO\n",
              "AICiiBMAoCjiBAAoijgBAIoiTgCAoogTAKAo4gQAKEpd4+Sqq67KtGnTUqlUsmXLlsH1fX19ufLK\n",
              "KzNjxoycfvrpWbRoUT3HAABGkNZ6PvgnPvGJ/MVf/EU+8IEPDFl/3XXXpVKp5Oc//3kqlUp2795d\n",
              "zzEAgBGkrnEyd+7c31i3d+/efP3rX8/OnTtTqVSSJJMnT67nGADACNLwc06efvrpHHfccVm2bFnO\n",
              "PvvsXHDBBdmwYcMh79/X15fe3t4hy8DAQAMnBgAaqeFx0t/fn23btuW0007Lww8/nJtvvjl/+Id/\n",
              "mOeff37Y+3d2dmbChAlDlk2bNjV4agCgURoeJ1OmTMmoUaPyqU99Kkkye/bsvOtd78qjjz467P2X\n",
              "Ll2anp6eIcucOXMaOTIA0EANj5Pjjz8+H/rQh/LDH/4wSfLMM8/kmWeeyamnnjrs/avVasaPHz9k\n",
              "aWlpaeTIAEAD1TVOrrjiirS1tWXnzp358Ic/nFNOOSVJcsstt+QrX/lKTj/99CxcuDC33nprTjrp\n",
              "pHqOAgCMEHX9a51bb7112PXTp0/P/fffX8+nBgBGKFeIBQCKIk4AgKKIEwCgKOIEACiKOAEAiiJO\n",
              "AICiiBMAoCjiBAAoijgBAIoiTgCAoogTAKAo4gQAKIo4eYP9Bwby4qt92X9goNmjAMARq67fSjxS\n",
              "vPBKX1b/tDs/eOz57DswkLcd1ZKPzpycRedOzfHjqs0eDwCOKEf8kZMXXunLn67ZnG9u3J69ff1p\n",
              "HVXJ3r7+rN64LVd+a3NefLWv2SMCwBHliI+T1T/tTteeV/L2cdUce/ToHF1tzbFHj87bx1XTteeV\n",
              "rP7JtmaPCABHlCM6TvYfGMgPHns+Y1pb0toydFe0toxKtbUl9zy+2zkoANBAR3ScvNrXn30HBjK6\n",
              "dfjdUG0dlX2vDeTVvv4GTwYAR64jOk7GVVvztqNa8lr/wWFv7+s/mLeNbsm4qvOGAaBRjug4GXNU\n",
              "Sz4y88Ts7x9I/8DQQOkfOJi+/oF89HcmZ8xRLU2aEACOPEf8IYFPnzstG5/5Vbr2vJJqa0uqraPS\n",
              "1/96mMw44ZgsOndqs0cEgCPKEX3kJEmOH1fN1z45O4vePzXjxrSm/2At48a0ZtH7p+arn5ztOicA\n",
              "0GBH/JGT5PVAuXpeez7zwXfn1b7+jKu2+igHAJpEnLzBmKNaRAkANNkR/7EOAFAWcQIAFEWcAABF\n",
              "EScAQFHECQBQFHECABRFnAAARREnAEBRxAkAUBRxAgAUpVKr1WrNHuLNuuSSSzJt2rS3/HEHBgay\n",
              "adOmzJkzJy0tLmNfL/ZzY9jPjWE/N4593Rj13M9Tp07Nn/3Zn/2P9xuRcVIvvb29mTBhQnp6ejJ+\n",
              "/Phmj3PYsp8bw35uDPu5cezrxihhP/tYBwAoijgBAIoiTgCAooiTN6hWq/niF7+YarXa7FEOa/Zz\n",
              "Y9jPjWE/N4593Rgl7GcnxAIARXHkBAAoijgBAIoiTgCAohyxcXLVVVdl2rRpqVQq2bJly+D6p556\n",
              "Kuedd17a29tzzjnn5PHHH2/ekIeB4fbz/v37s3DhwrS3t2fWrFmZN29eurq6mjvoCHeo1/OvrVq1\n",
              "KpVKJd/5zncaPtvh5lD7uq+vL1deeWVmzJiR008/PYsWLWrekIeBQ+3n73//+znrrLNy5plnZubM\n",
              "mbn99tubN+Rh4Le9H+/Zsycf+chHMmPGjMycOTM/+tGPGjdY7Qj1wAMP1Hbs2FGbOnVqbfPmzYPr\n",
              "L7rootqqVatqtVqt9k//9E+1s88+uzkDHiaG28/79u2r3X333bWDBw/WarVa7atf/WrtwgsvbN6Q\n",
              "h4FDvZ5rtVrtmWeeqZ177rm1jo6O2l133dWU+Q4nh9rXV199de3KK68cfF3v2rWrSRMeHobbzwcP\n",
              "Hqwde+yxta1bt9Zqtddf29Vqtdbb29vESUe23/Z+fPnll9e++MUv1mq1Wm3Tpk21k046qfbaa681\n",
              "ZK4j9sjJ3Llz09bWNmTdnj178vDDDw/+i+fjH/94duzY4V/1/wfD7ecxY8Zk/vz5qVQqSZKOjo50\n",
              "d3c3YbrDx3D7OUkOHjyYxYsX56tf/ao/v3yLDLev9+7dm69//ev50pe+NPi6njx5cjPGO2wc6jVd\n",
              "qVTy8ssvJ3n9MuuTJk3y2v4/+G3vx2vXrs1nPvOZJMk555yTd77znXnggQcaMtcRGyfD2bFjR97x\n",
              "jnektbU1yev/E0yZMiXbt29v8mSHt5UrV2bBggXNHuOwtGLFipx//vl53/ve1+xRDmtPP/10jjvu\n",
              "uCxbtixnn312LrjggmzYsKHZYx12KpVK7rjjjlxyySWZOnVqPvCBD+T222/P6NGjmz3aYePX78cv\n",
              "vfRSDhw4MCSyp02b1rDfh60NeRY4hGXLlqWrq8sbeR089thjufPOOxv7OfERqr+/P9u2bctpp52W\n",
              "m266KZs3b868efPy+OOP58QTT2z2eIeN/v7+3HjjjVm3bl3mzp2bhx56KBdffHEeffTRHH/88c0e\n",
              "b8R74/vxvn37mjqLIydvcPLJJ2fXrl3p7+9PktRqtWzfvj1Tpkxp8mSHp+XLl2fdunW55557Mnbs\n",
              "2GaPc9j58Y9/nO7u7syYMSPTpk3LT3/60yxZsiR/93d/1+zRDjtTpkzJqFGj8qlPfSpJMnv27Lzr\n",
              "Xe/Ko48+2uTJDi9btmzJc889l7lz5yZ5/aOGtra2bN68ucmTjXz//f140qRJaW1tze7duwfv093d\n",
              "3bDfh+LkDU444YScddZZWb16dZLkzjvvTFtbW0455ZQmT3b4WbFiRdasWZN77703EydObPY4h6XP\n",
              "fvaz2bVrV7q7u9Pd3Z2Ojo7cdttt+exnP9vs0Q47xx9/fD70oQ/lhz/8YZLkmWeeyTPPPJNTTz21\n",
              "yZMdXn79D8gnnngiSdLV1ZWnn34673nPe5o82ch2qPfjSy+9NLfcckuS5KGHHsqzzz6bCy+8sDFD\n",
              "NeS02wItWbKkdtJJJ9VaWlpqJ5xwQu3d7353rVar1f7rv/6r1tHRUZsxY0btfe97X+2RRx5p8qQj\n",
              "23D7eceOHbUktenTp9dmzZpVmzVrVm3OnDnNHnVEO9Tr+Y0uvPBCf63zFjjUvn766adrH/zgB2sz\n",
              "Z86snXHGGbVvf/vbTZ50ZDvUfv7Wt741uI9nzpxZ++Y3v9nkSUe23/Z+vHv37tq8efNqp5xySu20\n",
              "006r3XfffQ2by3frAABF8bEOAFAUcQIAFEWcAABFESdAEd545U/gyCZOAICiiBOgGMuXL8/s2bPT\n",
              "3t6eb37zm80eB2gSl68HilGpVLJ58+b84he/yNlnn53zzz8/06ZNa/ZYQIM5cgIUY/HixUmS6dOn\n",
              "Z+7cub4XCI5Q4gQo1q+/xh04sogToBirVq1K8voXjP34xz/OBRdc0OSJgGZwzglQjIGBgcyePTt7\n",
              "9+7NzTff7HwTOEL5bh0AoCg+1gEAiiJOAICiiBMAoCjiBAAoijgBAIoiTgCAoogTAKAo4gQAKIo4\n",
              "AQCKIk4AgKL8P31GyeEcA1G+AAAAAElFTkSuQmCC\n",
              "\">\n",
              "      </div>\n",
              "      <script type=\"text/javascript\">\n",
              "        (() => {\n",
              "          const chartElement = document.getElementById(\"chart-f9d3be31-eca7-4332-91fa-1d7238cfd6a3\");\n",
              "          async function getCodeForChartHandler(event) {\n",
              "            const chartCodeResponse =  await google.colab.kernel.invokeFunction(\n",
              "                'getCodeForChart', [\"chart-f9d3be31-eca7-4332-91fa-1d7238cfd6a3\"], {});\n",
              "            const responseJson = chartCodeResponse.data['application/json'];\n",
              "            await google.colab.notebook.addCell(responseJson.code, 'code');\n",
              "          }\n",
              "          chartElement.onclick = getCodeForChartHandler;\n",
              "        })();\n",
              "      </script>\n",
              "      <style>\n",
              "        .colab-quickchart-chart-with-code  {\n",
              "            display: block;\n",
              "            float: left;\n",
              "            border: 1px solid transparent;\n",
              "        }\n",
              "\n",
              "        .colab-quickchart-chart-with-code:hover {\n",
              "            cursor: pointer;\n",
              "            border: 1px solid #aaa;\n",
              "        }\n",
              "      </style>"
            ]
          },
          "metadata": {}
        },
        {
          "output_type": "display_data",
          "data": {
            "text/plain": [
              "from matplotlib import pyplot as plt\n",
              "_df_7.plot(kind='scatter', x='c', y='d', s=32, alpha=.8)\n",
              "plt.gca().spines[['top', 'right',]].set_visible(False)"
            ],
            "text/html": [
              "      <div class=\"colab-quickchart-chart-with-code\" id=\"chart-4b862ff4-2184-4357-ac9e-648eaef3fa74\">\n",
              "        <img style=\"width: 180px;\" src=\"data:image/png;base64,iVBORw0KGgoAAAANSUhEUgAAAjEAAAGkCAYAAADALHSZAAAAOXRFWHRTb2Z0d2FyZQBNYXRwbG90\n",
              "bGliIHZlcnNpb24zLjcuMSwgaHR0cHM6Ly9tYXRwbG90bGliLm9yZy/bCgiHAAAACXBIWXMAAA9h\n",
              "AAAPYQGoP6dpAAAmu0lEQVR4nO3de3BU533/8c9qF1YGxE1c5SCpGCkkEUhgwLIJxYQRA9QjKTiM\n",
              "GY/NxYhLCG1deWJMHUiJPZKTUDlqqEtxKMWhVaViLg4GNxhjTGpb0HBxTQuVgJW4CWEBKwtLi3b1\n",
              "/P5g2B9rScQOu1oe+f2aOTPZo3POfh8c4D1nj4TDGGMEAABgmZhoDwAAAPDHIGIAAICViBgAAGAl\n",
              "IgYAAFiJiAEAAFYiYgAAgJWIGAAAYCUiBgAAWKnTR0xxcXG0RwAAABHQ6SOmqqoq2iMAAIAI6PQR\n",
              "AwAAOiciBgAAWImIAQAAViJiAACAlYgYAABgJSIGAABYiYgBAABWImIAAICViBgAAGAlIgYAAFiJ\n",
              "iAEAAF9aU3NAnzT41NQciNoMrqi9MwAAsM6lT33a9KFHb318UY3NAd3TxalpaYP0xINJ6tfD3aGz\n",
              "dMidmA0bNsjhcGjbtm2SpNraWk2dOlUpKSlKS0vTe++91+65O3bs0PDhw5WSkqIZM2aovr6+I0YG\n",
              "AACfc+lTn/685LD+pbxa13x+uWIcuubza1N5lZb+62F90uDr0HkiHjEej0evvvqqMjMzg/uee+45\n",
              "ZWZmqqKiQhs2bNDjjz+u5ubmVuc2NDRo/vz52rZtmyoqKpSQkKAXXngh0iMDAIA2bPrQo8raT9W/\n",
              "h1t9undVd7dLfbp3Vf8eblXWfqpNH1R16DwRjZiWlhbl5eXpl7/8pdzu/3+LqaysTIsXL5YkjR07\n",
              "VgkJCdq3b1+r83ft2qVRo0Zp+PDhkqQlS5aopKSk3ffz+Xyqr68P2QKB6H1WBwBAZ9HUHNBbH19U\n",
              "rMsplzM0H1zOGLldTu06VtOhz8hENGKKioo0fvx43X///cF9dXV1am5u1qBBg4L7kpOTVV1d3er8\n",
              "6upqJSUlhRx34cIF+f3+Nt+vsLBQvXr1CtkOHDgQxhUBAPDV1ODzq7E5oK6uttPB7YpR4/WAGnxt\n",
              "/x0dCRGLmI8//livv/66fvSjH0XqLVpZvny5vF5vyDZu3LgOe38AADqrHm6X7uni1HV/S5tf9/lb\n",
              "dE9Xp3q4O+57hiIWMfv375fH41FKSoqSk5P14YcfauHChSorK5PL5VJNTU3wWI/Ho8TExFbXSExM\n",
              "VFVVVchxgwcPlsvV9i+Q2+1Wz549Qzan0xn+xQEA8BUT28WpqWkD1eQPyB8IDRl/oEU+f0DTvjVI\n",
              "sV067u/diEXM97//fV24cEEej0cej0eZmZlat26dvv/972vmzJlau3atJOngwYM6d+6cJk6c2Ooa\n",
              "U6dO1aFDh3T8+HFJ0iuvvKJZs2ZFamQAAHAbTz6YrGED4nSpwafL167rms+vy9eu61KDTykD4vTE\n",
              "g0l/+CJhFJWfE/PTn/5UTz75pFJSUtS1a1dt2rRJXbp0kSStXLlSCQkJWrx4seLi4vSrX/1Kubm5\n",
              "8vv9SktL08aNG6MxMgAAX3n9eri15vFR2vRBlXYdq1Hj9YB6xLo081tfi8rPiXEYY0yHvmMHy8/P\n",
              "V1FRUbTHAACgU2lqvvEQbw+3q0M/QroVP7EXAAB8abFdnFGLl5v4t5MAAICViBgAAGAlIgYAAFiJ\n",
              "iAEAAFYiYgAAgJWIGAAAYCUiBgAAWImIAQAAViJiAACAlYgYAABgJSIGAABYiYgBAABWImIAAICV\n",
              "iBgAAGAlIgYAAFiJiAEAAFYiYgAAgJWIGAAAYCUiBgAAWImIAQAAViJiAACAlYgYAABgJSIGAABY\n",
              "iYgBAABWImIAAICViBgAAGAlIgYAAFiJiAEAAFYiYgAAgJWIGAAAYCUiBgAAWImIAQAAVnJF8uJT\n",
              "pkxRTU2NYmJiFBcXp7/7u79TYmKiJk+eHDzms88+06lTp1RbW6u+ffuGnO/xeHTfffdpxIgRwX2v\n",
              "v/667rvvvkiODQAALBDRiCkrK1Pv3r0lSVu3btXcuXN19OhRHTlyJHjM6tWrtW/fvlYBc1NcXFzI\n",
              "8QAAAFKEI+ZmwEiS1+uVw+Fodcz69etVWFgYlvfz+Xzy+Xwh+wKBQFiuDQAA7i4RjRhJmj17tvbu\n",
              "3StJ2rlzZ8jX3n//fV25ckWPPPJIu+dfu3ZNY8eOVSAQUG5urp5//nk5nc42jy0sLNSqVatC9mVm\n",
              "Zt7hCgAAwN3IYYwxHfFGGzduVGlpaUjIzJ8/X/Hx8frZz37W5jk+n09er1cDBgzQ5cuX9dhjjykr\n",
              "K0vPPvtsu8d//k7MihUrVFxcHL6FAACAu0KHfXfSnDlztHfvXtXV1UmSGhoaVFZWpqeeeqrdc9xu\n",
              "twYMGCBJ6tu3r5566int37//tsf37NkzZGvvrg0AALBbxCLm6tWrOn/+fPD1tm3bFB8fH3yAt7S0\n",
              "VOnp6Ro+fHi716itrVVzc7OkG3dZtmzZolGjRkVqZAAAYJGIPRPj9Xo1c+ZMNTY2KiYmRv3799eO\n",
              "HTuCD/euX79eCxYsaHXeypUrlZCQoMWLF+t3v/udVq5cKafTKb/fr+985zt6/vnnIzUyAACwSIc9\n",
              "ExMt+fn5KioqivYYAAAgzPiJvQAAwEpEDAAAsBIRAwAArETEAAAAKxExAADASkQMAACwEhEDAACs\n",
              "RMQAAAArETEAAMBKRAwAALASEQMAAKxExAAAACsRMQAAwEpEDAAAsBIRAwAArETEAAAAKxExAADA\n",
              "SkQMAACwEhEDAACsRMQAAAArETEAAMBKRAwAALASEQMAAKxExAAAACsRMQAAwEpEDAAAsBIRAwAA\n",
              "rETEAAAAKxExAADASkQMAACwEhEDAACsRMQAAAArETEAAMBKEY2YKVOmaOTIkcrIyNCECRN0+PBh\n",
              "SVJycrK+/vWvKyMjQxkZGSotLW33GuvXr1dKSoruu+8+LViwQM3NzZEcGQAAWMIVyYuXlZWpd+/e\n",
              "kqStW7dq7ty5Onr0qCSptLRUGRkZtz3/9OnTWrFihQ4dOqSBAwcqJydH69at0w9+8INIjg0AACwQ\n",
              "0TsxNwNGkrxerxwOx5c6f/PmzcrOztagQYPkcDi0ePFilZSUtHu8z+dTfX19yBYIBP7Y8QEAwF0s\n",
              "ondiJGn27Nnau3evJGnnzp0h+40xGjdunF566SX179+/1bnV1dVKSkoKvk5OTlZ1dXW771VYWKhV\n",
              "q1aF7MvMzLzTJQAAgLtQxB/sfe2113TmzBm9+OKLWrZsmSTpvffe00cffaRDhw6pX79+mjNnTlje\n",
              "a/ny5fJ6vSHbuHHjwnJtAABwd4n4nZib5syZo8WLF6uurk6JiYmSpC5duujpp59Wampqm+ckJibq\n",
              "5MmTwdcejyd4blvcbrfcbnfIPqfTGYbpAQDA3SZid2KuXr2q8+fPB19v27ZN8fHxio2N1dWrV4P7\n",
              "S0pKNGrUqDav8eijj+qNN95QTU2NjDFau3atZs2aFamRAQCARSJ2J8br9WrmzJlqbGxUTEyM+vfv\n",
              "rx07dujixYt69NFHFQgEZIzR0KFD9dprrwXPy8vLU3Z2trKzszV06FCtWrVK48ePlyQ9/PDDWrRo\n",
              "UaRGBgAAFnEYY0y0h4ik/Px8FRUVRXsMAAAQZvzEXgAAYCUiBgAAWImIAQAAViJiAACAlYgYAABg\n",
              "JSIGAABYiYgBAABWImIAAICViBgAAGAlIgYAAFiJiAEAAFYiYgAAgJWIGAAAYCUiBgAAWImIAQAA\n",
              "ViJiAACAlYgYAABgJSIGAABYiYgBAABWImIAAICViBgAAGAlIgYAAFiJiAEAAFYiYgAAgJWIGAAA\n",
              "YCUiBgAAWImIAQAAViJiAACAlYgYAABgJSIGAABYiYgBAABWImIAAICViBgAAGCliEbMlClTNHLk\n",
              "SGVkZGjChAk6fPiwmpqalJubq9TUVKWnpysrK0uVlZVtnu/xeOR0OpWRkRHcTp48GcmRAQCAJVyR\n",
              "vHhZWZl69+4tSdq6davmzp2r8vJyLVy4UNOmTZPD4dCaNWuUl5end999t81rxMXF6ciRI5EcEwAA\n",
              "WCiid2JuBowkeb1eORwOxcbGavr06XI4HJKkzMxMeTyesLyfz+dTfX19yBYIBMJybQAAcHeJ6J0Y\n",
              "SZo9e7b27t0rSdq5c2errxcXFysnJ6fd869du6axY8cqEAgoNzdXzz//vJxOZ5vHFhYWatWqVSH7\n",
              "MjMz72B6AABwt3IYY0xHvNHGjRtVWloaEjIFBQX6zW9+oz179qhbt26tzvH5fPJ6vRowYIAuX76s\n",
              "xx57TFlZWXr22WfbfA+fzyefzxeyb8WKFSouLg7vYgAAQNR12HcnzZkzR3v37lVdXZ0kafXq1dqy\n",
              "ZYt27drVZsBIktvt1oABAyRJffv21VNPPaX9+/e3+x5ut1s9e/YM2dq7awMAAOwWsYi5evWqzp8/\n",
              "H3y9bds2xcfHq2/fvioqKlJJSYl2794d8tzM59XW1qq5uVnSjbssW7Zs0ahRoyI1MgAAsEjEnonx\n",
              "er2aOXOmGhsbFRMTo/79+2vHjh06d+6cnnnmGQ0dOlSTJk2SdOMOSnl5uSRp5cqVSkhI0OLFi/W7\n",
              "3/1OK1eulNPplN/v13e+8x09//zzkRoZAABYpMOeiYmW/Px8FRUVRXsMAAAQZvzEXgAAYCUiBgAA\n",
              "WImIAQAAViJiAACAlYgYAABgJSIGAABYiYgBAABWImIAAICViBgAAGAlIgYAAFiJiAEAAFYiYgAA\n",
              "gJWIGAAAYCUiBgAAWImIAQAAViJiAACAlYgYAABgJSIGAABYiYgBAABWImIAAICViBgAAGAlIgYA\n",
              "AFiJiAEAAFYiYgAAgJWIGAAAYCUiBgAAWImIAQAAViJiAACAlYgYAABgJSIGAABYiYgBAABWImIA\n",
              "AICViBgAAGCliEbMlClTNHLkSGVkZGjChAk6fPiwJKmiokIPPfSQUlNTNXbsWB07dqzda6xfv14p\n",
              "KSm67777tGDBAjU3N0dyZAAAYAnXFz2wurr6tl9PTExsta+srEy9e/eWJG3dulVz587V0aNHtWjR\n",
              "Ii1cuFBz587V5s2bNXfuXB08eLDV+adPn9aKFSt06NAhDRw4UDk5OVq3bp1+8IMffNGxAQBAJ/WF\n",
              "I+b++++Xw+GQJNXV1alLly6SpObmZsXHx6u2trbVOTcDRpK8Xq8cDodqa2v1X//1X/rtb38rSXr0\n",
              "0Ue1dOlSVVZWatiwYSHnb968WdnZ2Ro0aJAkafHixSooKGg3Ynw+n3w+X8i+QCDwRZcIAAAs8oUj\n",
              "5tKlS5KkZcuWadiwYZo/f74k6Z/+6Z908uTJds+bPXu29u7dK0nauXOnzpw5o8GDB8vluvHWDodD\n",
              "iYmJqq6ubhUx1dXVSkpKCr5OTk6+7R2hwsJCrVq1KmRfZmbmF10iAACwyJd+JuY//uM/tGDBAsXE\n",
              "xCgmJkZ5eXl666232j3+tdde05kzZ/Tiiy9q2bJldzTsH7J8+XJ5vd6Qbdy4cRF9TwAAEB1fOmKu\n",
              "X7+uEydOBF//3//9X6uPcNoyZ84c7d27V1/72td04cIF+f1+SZIxRtXV1W0+U5OYmKiqqqrga4/H\n",
              "0+ZxN7ndbvXs2TNkczqdX2Z5AADAEl86Yl566SWNHz9ekydP1uTJkzV+/Hj99Kc/bXXc1atXdf78\n",
              "+eDrbdu2KT4+XgMGDNDo0aO1adMmSdLrr7+ur33ta60+SpJuPC/zxhtvqKamRsYYrV27VrNmzfqy\n",
              "IwMAgE7oCz8Tc1N2drb+93//Vx9++KEk6cEHH1S/fv1aHef1ejVz5kw1NjYqJiZG/fv3144dO+Rw\n",
              "OPSP//iPmjt3rgoKCtSzZ09t2LAheF5eXp6ys7OVnZ2toUOHatWqVRo/frwk6eGHH9aiRYv+2LUC\n",
              "AIBOxGGMMdEeIpLy8/NVVFQU7TEAAECY8RN7AQCAlYgYAABgJSIGAABYiYgBAABWImIAAICViBgA\n",
              "AGAlIgYAAFiJiAEAAFYiYgAAgJWIGAAAYCUiBgAAWImIAQAAViJiAACAlYgYAABgJSIGAABYiYgB\n",
              "AABWImIAAICViBgAAGAlIgYAAFiJiAEAAFYiYgAAgJWIGAAAYCUiBgAAWImIAQAAViJiAACAlYgY\n",
              "AABgJSIGAABYiYgBAABWImIAAICViBgAAGAlIgYAAFiJiAEAAFYiYgAAgJUiFjFNTU3Kzc1Vamqq\n",
              "0tPTlZWVpcrKSknSAw88oIyMDGVkZCgtLU0Oh0MfffRRm9dxOBwaMWJE8Pj9+/dHamQAAGARVyQv\n",
              "vnDhQk2bNk0Oh0Nr1qxRXl6e3n33XZWXlweP2bx5s1atWqWRI0e2e539+/erd+/ekRwVAABYJmJ3\n",
              "YmJjYzV9+nQ5HA5JUmZmpjweT6vj1q9fr/nz54flPX0+n+rr60O2QCAQlmsDAIC7S4c9E1NcXKyc\n",
              "nJyQfWfOnNG+ffv0xBNP3PbcyZMnKz09Xfn5+bp27Vq7xxUWFqpXr14h24EDB8IyPwAAuLt0SMQU\n",
              "FBSosrJShYWFIfv/+Z//WY888oj69evX7rlVVVX6/e9/r/fff1+XLl3SD3/4w3aPXb58ubxeb8g2\n",
              "bty4sK0DAADcPSL6TIwkrV69Wlu2bNHbb7+tbt26BfcbY7Rhwwb9wz/8w23PT0xMlCR1795dS5Ys\n",
              "0cKFC9s91u12y+12h+xzOp13MD0AALhbRfROTFFRkUpKSrR79+5WD+a+88478vv9ysrKavf8K1eu\n",
              "6LPPPpMktbS0qLS0VKNGjYrkyAAAwBIRuxNz9uxZPfPMMxo6dKgmTZok6cadkpvfmbR+/XrNmzdP\n",
              "MTGhHbV27VqdP39eP/nJT3T8+HEtWrRIDodDfr9fo0ePVnFxcaRGBgAAFnEYY0y0h4ik/Px8FRUV\n",
              "RXsMAAAQZvzEXgAAYCUiBgAAWImIAQAAViJiAACAlYgYAABgJSIGAABYiYgBAABWImIAAICViBgA\n",
              "AGAlIgYAAFiJiAEAAFYiYgAAgJWIGAAAYCUiBgAAWImIAQAAViJiAACAlYgYAABgJSIGAABYiYgB\n",
              "AABWImIAAICViBgAAGAlIgYAAFiJiAEAAFYiYgAAgJWIGAAAYCUiBgAAWImIAQAAViJiAACAlYgY\n",
              "AABgJSIGAABYiYgBAABWImIAAICViBgAAGCliEVMU1OTcnNzlZqaqvT0dGVlZamyslKS9PDDD+tP\n",
              "/uRPlJGRoYyMDL388svtXmfHjh0aPny4UlJSNGPGDNXX10dqZAAAYJGI3olZuHChTpw4oaNHjyon\n",
              "J0d5eXnBr7388ss6cuSIjhw5or/6q79q8/yGhgbNnz9f27ZtU0VFhRISEvTCCy9EcmQAAGCJiEVM\n",
              "bGyspk+fLofDIUnKzMyUx+P5UtfYtWuXRo0apeHDh0uSlixZopKSknaP9/l8qq+vD9kCgcAfvQYA\n",
              "AHD36rBnYoqLi5WTkxN8/dxzz2nEiBF67LHHdOrUqTbPqa6uVlJSUvB1cnKyLly4IL/f3+bxhYWF\n",
              "6tWrV8h24MCB8C4EAADcFTokYgoKClRZWanCwkJJ0q9//WsdP35cH330kSZMmKBHHnkkLO+zfPly\n",
              "eb3ekG3cuHFhuTYAALi7RDxiVq9erS1btmjXrl3q1q2bJGnIkCGSJIfDoaVLl+rUqVOqq6trdW5i\n",
              "YqKqqqqCrz0ejwYPHiyXy9Xme7ndbvXs2TNkczqdEVgVAACItohGTFFRkUpKSrR792717t1bkuT3\n",
              "+3Xx4sXgMa+//roGDhyo+Pj4VudPnTpVhw4d0vHjxyVJr7zyimbNmhXJkQEAgCXavqURBmfPntUz\n",
              "zzyjoUOHatKkSZJu3Cl555139Gd/9mfy+XyKiYlRv3799MYbbwTPW7lypRISErR48WLFxcXpV7/6\n",
              "lXJzc+X3+5WWlqaNGzdGamQAAGARhzHGRHuISMrPz1dRUVG0xwAAAGHGT+wFAABWImIAAICViBgA\n",
              "AGAlIgYAAFiJiAEAAFYiYgAAgJWIGAAAYCUiBgAAWImIAQAAViJiAACAlYgYAABgJSIGAABYiYgB\n",
              "AABWImIAAICViBgAAGAlIgYAAFiJiAEAAFYiYgAAgJWIGAAAYCUiBgAAWImIAQAAViJiAACAlYgY\n",
              "AABgJSIGAABYiYgBAABWImIAAICViBgAAGAlIgYAAFiJiAEAAFYiYgAAgJWIGAAAYCUiBgAAWImI\n",
              "AQAAVopYxDQ1NSk3N1epqalKT09XVlaWKisrJUnz5s0L7h8/frwOHjzY7nUcDodGjBihjIwMZWRk\n",
              "aP/+/ZEaGQAAWMQVyYsvXLhQ06ZNk8Ph0Jo1a5SXl6d3331X3/3ud/Xqq6/K5XJpx44dmjlzpjwe\n",
              "T7vX2b9/v3r37h3JUQEAgGUidicmNjZW06dPl8PhkCRlZmYGQyU7O1sulyu4/9y5c/L7/Xf8nj6f\n",
              "T/X19SFbIBC44+sCAIC7T4c9E1NcXKycnJw290+fPj0YNW2ZPHmy0tPTlZ+fr2vXrrV7XGFhoXr1\n",
              "6hWyHThwICzzAwCAu0uHRExBQYEqKytVWFgYsn/Tpk0qKyvTunXr2j23qqpKv//97/X+++/r0qVL\n",
              "+uEPf9juscuXL5fX6w3Zxo0bF7Z1AACAu0dEn4mRpNWrV2vLli16++231a1bt+D+0tJSrVq1Snv2\n",
              "7NHAgQPbPT8xMVGS1L17dy1ZskQLFy5s91i32y232x2yz+l03uEKAADA3Siid2KKiopUUlKi3bt3\n",
              "hzyYW1ZWph/96Ed6++23g5HSlitXruizzz6TJLW0tKi0tFSjRo2K5MgAAMASDmOMicSFz549qyFD\n",
              "hmjo0KGKi4uTdONOSXl5ubp06aJBgwYpPj4+ePyePXsUHx+vtWvX6vz58/rJT36iDz74QIsWLZLD\n",
              "4ZDf79fo0aNVXFysvn37fuE58vPzVVRUFPb1AQCA6IpYxNwtiBgAADonfmIvAACwEhEDAACsRMQA\n",
              "AAArETEAAMBKRAwAALASEQMAAKxExAAAACsRMQAAwEpEDAAAsBIRAwAArETEAAAAKxExAADASkQM\n",
              "AACwEhEDAACsRMQAAAArETEAAMBKRAwAALASEQMAAKxExAAAACsRMQAAwEpEDAAAsBIRAwAArETE\n",
              "AAAAKxExAADASkQMAACwEhEDAACsRMQAAAArETEAAMBKRAwAALASEQMAAKxExAAAACsRMX+kpuaA\n",
              "Pmnwqak5EO1RAAD4SnJFewDbXPrUp00fevTWxxfV2BzQPV2cmpY2SE88mKR+PdzRHg8AgK+MiN2J\n",
              "aWpqUm5urlJTU5Wenq6srCxVVlZKkmprazV16lSlpKQoLS1N7733XrvX2bFjh4YPH66UlBTNmDFD\n",
              "9fX1kRr5D7r0qU9/XnJY/1JerWs+v1wxDl3z+bWpvEpL//WwPmnwRW02AAC+aiL6cdLChQt14sQJ\n",
              "HT16VDk5OcrLy5MkPffcc8rMzFRFRYU2bNigxx9/XM3Nza3Ob2ho0Pz587Vt2zZVVFQoISFBL7zw\n",
              "QiRHvq1NH3pUWfup+vdwq0/3rurudqlP967q38OtytpPtemDqqjNBgDAV03EIiY2NlbTp0+Xw+GQ\n",
              "JGVmZsrj8UiSysrKtHjxYknS2LFjlZCQoH379rW6xq5duzRq1CgNHz5ckrRkyRKVlJS0+54+n0/1\n",
              "9fUhWyAQnmdWmpoDeuvji4p1OeVyhv6yuZwxcruc2nWshmdkAADoIB32YG9xcbFycnJUV1en5uZm\n",
              "DRo0KPi15ORkVVdXtzqnurpaSUlJIcdduHBBfr+/zfcoLCxUr169QrYDBw6EZf4Gn1+NzQF1dbX9\n",
              "S+Z2xajxekANvrZnAwAA4dUhEVNQUKDKykoVFhZG9H2WL18ur9cbso0bNy4s1+7hdumeLk5d97e0\n",
              "+XWfv0X3dHWqh5tnpQEA6AgRj5jVq1dry5Yt2rVrl7p166b4+Hi5XC7V1NQEj/F4PEpMTGx1bmJi\n",
              "oqqqqkKOGzx4sFyutkPB7XarZ8+eIZvT6QzLOmK7ODU1baCa/AH5A6Eh4w+0yOcPaNq3Bim2S3je\n",
              "DwAA3F5EI6aoqEglJSXavXu3evfuHdw/c+ZMrV27VpJ08OBBnTt3ThMnTmx1/tSpU3Xo0CEdP35c\n",
              "kvTKK69o1qxZkRz5tp58MFnDBsTpUoNPl69d1zWfX5evXdelBp9SBsTpiQeT/vBFAABAWDiMMSYS\n",
              "Fz579qyGDBmioUOHKi4uTtKNOyXl5eW6ePGinnzySZ0+fVpdu3bVmjVrNGnSJEnSypUrlZCQEHzw\n",
              "94033tCzzz4rv9+vtLQ0bdy4Ub169frCc+Tn56uoqChs6/qkwadNH1Rp17EaNV4P6J6uTk37Fj8n\n",
              "BgCAjhaxiLlbhDtibmpqvvEQbw+3i4+QAACIAp5C/SPFdnESLwAARBH/dhIAALASEQMAAKxExAAA\n",
              "ACsRMQAAwEpEDAAAsBIRAwAArETEAAAAKxExAADASkQMAACwEhEDAACs1On/7aQZM2YoOTk52mOE\n",
              "TSAQ0IEDBzRu3Dg5nZ3/nz1gvZ0b6+3cWG/nFun1JiUl6S//8i9ve0ynj5jOpr6+Xr169ZLX61XP\n",
              "nj2jPU7Esd7OjfV2bqy3c7sb1svHSQAAwEpEDAAAsBIRAwAArETEWMbtduvHP/6x3G53tEfpEKy3\n",
              "c2O9nRvr7dzuhvXyYC8AALASd2IAAICViBgAAGAlIgYAAFiJiLmL/cVf/IWSk5PlcDh05MiR4H6f\n",
              "z6elS5cqJSVFI0aM0BNPPBG9IcOovfXu3LlTo0ePVkZGhtLS0rRx48boDRlGTU1Nys3NVWpqqtLT\n",
              "05WVlaXKykpJUm1traZOnaqUlBSlpaXpvffei/K0d+526503b15w//jx43Xw4MEoT3vnbrfem955\n",
              "5x05nU794he/iM6QYXS79Rpj9Dd/8zdKTU3ViBEjNGnSpChPe+dut94DBw4oMzNTo0aN0je+8Q39\n",
              "7Gc/i/K04TFlyhSNHDlSGRkZmjBhgg4fPixJqqio0EMPPaTU1FSNHTtWx44d67ihDO5a+/btM2fO\n",
              "nDFJSUnm8OHDwf1PP/20Wbp0qWlpaTHGGHPhwoUoTRheba23paXF9OnTxxw9etQYY8zp06eN2+02\n",
              "9fX1UZw0PBobG82bb74Z/O/4y1/+0kycONEYY8y8efPMj3/8Y2OMMQcOHDD33nuvuX79epQmDY/b\n",
              "rXf79u2mubnZGGPMb37zG5OUlBSlKcPndus1xpirV6+asWPHmkceecS8/PLL0RkyjG633l/84hfm\n",
              "u9/9rvH5fMaYzvFn1u3Wm56ebrZv326MMaaurs7079/fHDt2LFqjhs2VK1eC/3vLli1m5MiRxhhj\n",
              "Jk2aZDZs2GCMMebf//3fzZgxYzpsJiLGArf+pd7Q0GDi4uKM1+uN7lAR9PmI6du3r9m3b58xxpij\n",
              "R4+ahISE4B+GncnBgweDf3l379495A/6sWPHmt27d0dpssi4db23unTpknG5XMGo6Sw+v94nnnjC\n",
              "bN++3cyZM6dTRMzn3bree++915w4cSK6A0XYrevNyMgwGzduNMYYU11dbe69995OEW632rBhg0lP\n",
              "TzcXL140cXFxwd+vLS0tZuDAgaaioqJD5uDjJMucPHlSffv2VUFBgcaMGaMJEyZoz5490R4rYhwO\n",
              "h0pLSzVjxgwlJSXp29/+tjZu3KiuXbtGe7SwKy4uVk5Ojurq6tTc3KxBgwYFv5acnKzq6uooThd+\n",
              "N9fb1v7p06fL5XJFYarIuXW9mzdvVkxMjLKzs6M8VeTcXG99fb0uXryo7du364EHHtADDzyg0tLS\n",
              "aI8Xdrf+992wYYNWrFihxMREpaamqqCgIOT3s81mz56tIUOGaMWKFfr1r3+tM2fOaPDgwcHfrw6H\n",
              "Q4mJiR3251Xn+lPiK8Dv96uqqkrf/OY39dJLL+nw4cPKysrSsWPHNHDgwGiPF3Z+v18vvviitmzZ\n",
              "oj/90z/VwYMHlZ2drf/+7/9Wv379oj1e2BQUFKiyslJ79uxRY2NjtMeJuFvXe6tNmzaprKysUzwD\n",
              "dKtb11tTU6MXX3xR7777brTHiphb19vU1CS/36/GxkaVl5fL4/HooYce0vDhw5Wenh7tUcPi8/9/\n",
              "fumll1RYWKjHH39cp06d0sSJEzVmzBh985vfjPKkd+61116TJG3cuFHLli3TCy+8EN2BOuR+D+7I\n",
              "rR+vXLp0ycTExBi/3x/8+pgxYzrVRw23rvfgwYMmJSUl5Otjxowxv/3tb6MwWWT8/Oc/N/fff3/I\n",
              "583dunXrtB8ntbVeY4z5t3/7NzNs2DBTVVUVncEi5PPr3bFjhxkwYIBJSkoySUlJpnv37qZPnz7m\n",
              "r//6r6M7aJi09d+3R48e5uTJk8HX3/ve98yrr74ahenC7/PrvXTpkunatWvIMd/73vfMunXrojBd\n",
              "ZMXGxpqampqofpxExFjg8w/2ZmVlmTfffNMYY8ypU6dMfHy8OXv2bJSmC79b11tTU2N69Ohh/ud/\n",
              "/scYY0xFRYXp06dPp/mL7m//9m/N6NGjzeXLl0P2z5kzJ+TB3oSEBOsf7DWm/fWWlpaaYcOGGY/H\n",
              "E6XJIqO99d6qMz0T0956FyxYYP7+7//eGHPjQdfExERTXl4ejRHDqq31+v1+06dPH7Nnzx5jzI2o\n",
              "GTJkiHn//fejNWZYXLlyxZw7dy74euvWrebee+81LS0tZuLEiSEP9t5///0dNhf/7MBdbNGiRXrz\n",
              "zTdVU1Oj+Ph4xcXFqbKyUqdOndL8+fP1ySefKCYmRitXrtSjjz4a7XHvWHvrLSkpUUFBgWJiYtTS\n",
              "0qLly5fr8ccfj/a4d+zs2bMaMmSIhg4dqri4OEk3/i2S8vJyXbx4UU8++aROnz6trl27as2aNdZ/\n",
              "W+rt1tulSxcNGjRI8fHxweP37NkT8to2t1vvrebOnauMjAw9/fTTUZgyfG633rq6Os2bN0+nTp2S\n",
              "JC1ZskRLliyJ5rh37Hbrffvtt7Vs2TL5/X41NzcrLy9P+fn5UZ74zlRVVWnmzJlqbGxUTEyM+vfv\n",
              "r9WrVysjI0MnTpzQ3LlzVVdXp549e2rDhg0aMWJEh8xFxAAAACvx3UkAAMBKRAwAALASEQMAAKxE\n",
              "xAAAACsRMQAAwEpEDAArffDBB/r2t7+t9PR0jRw5Utu3b4/2SAA6GN9iDcA6ly9f1je+8Q1t3rxZ\n",
              "EyZMUEtLi65evaq+fftGezQAHYg7MQCs88EHH+jrX/+6JkyYIEmKiYkhYICvICIGAABYiYgBYJ2H\n",
              "HnpIFRUV2r9/vySppaVFly9fjvJUADoaEQPAOn369NHWrVv13HPPaeTIkRo9erT+8z//M9pjAehg\n",
              "PNgLAACsxJ0YAABgJSIGAABYiYgBAABWImIAAICViBgAAGAlIgYAAFiJiAEAAFYiYgAAgJWIGAAA\n",
              "YCUiBgAAWOn/AfQNDIog5AeWAAAAAElFTkSuQmCC\n",
              "\">\n",
              "      </div>\n",
              "      <script type=\"text/javascript\">\n",
              "        (() => {\n",
              "          const chartElement = document.getElementById(\"chart-4b862ff4-2184-4357-ac9e-648eaef3fa74\");\n",
              "          async function getCodeForChartHandler(event) {\n",
              "            const chartCodeResponse =  await google.colab.kernel.invokeFunction(\n",
              "                'getCodeForChart', [\"chart-4b862ff4-2184-4357-ac9e-648eaef3fa74\"], {});\n",
              "            const responseJson = chartCodeResponse.data['application/json'];\n",
              "            await google.colab.notebook.addCell(responseJson.code, 'code');\n",
              "          }\n",
              "          chartElement.onclick = getCodeForChartHandler;\n",
              "        })();\n",
              "      </script>\n",
              "      <style>\n",
              "        .colab-quickchart-chart-with-code  {\n",
              "            display: block;\n",
              "            float: left;\n",
              "            border: 1px solid transparent;\n",
              "        }\n",
              "\n",
              "        .colab-quickchart-chart-with-code:hover {\n",
              "            cursor: pointer;\n",
              "            border: 1px solid #aaa;\n",
              "        }\n",
              "      </style>"
            ]
          },
          "metadata": {}
        },
        {
          "output_type": "display_data",
          "data": {
            "text/plain": [
              "<google.colab._quickchart_helpers.SectionTitle at 0x7ad8adf0a6e0>"
            ],
            "text/html": [
              "<h4 class=\"colab-quickchart-section-title\">Time series</h4>\n",
              "<style>\n",
              "  .colab-quickchart-section-title {\n",
              "      clear: both;\n",
              "  }\n",
              "</style>"
            ]
          },
          "metadata": {}
        },
        {
          "output_type": "display_data",
          "data": {
            "text/plain": [
              "from matplotlib import pyplot as plt\n",
              "import seaborn as sns\n",
              "def _plot_series(series, series_name, series_index=0):\n",
              "  palette = list(sns.palettes.mpl_palette('Dark2'))\n",
              "  xs = series['index']\n",
              "  ys = series['a']\n",
              "  \n",
              "  plt.plot(xs, ys, label=series_name, color=palette[series_index % len(palette)])\n",
              "\n",
              "fig, ax = plt.subplots(figsize=(10, 5.2), layout='constrained')\n",
              "df_sorted = _df_8.sort_values('index', ascending=True)\n",
              "_plot_series(df_sorted, '')\n",
              "sns.despine(fig=fig, ax=ax)\n",
              "plt.xlabel('index')\n",
              "_ = plt.ylabel('a')"
            ],
            "text/html": [
              "      <div class=\"colab-quickchart-chart-with-code\" id=\"chart-e2989608-48f8-4a69-afb1-e9a3f83f6715\">\n",
              "        <img style=\"width: 180px;\" src=\"data:image/png;base64,iVBORw0KGgoAAAANSUhEUgAAA/MAAAITCAYAAABLz0yVAAAAOXRFWHRTb2Z0d2FyZQBNYXRwbG90\n",
              "bGliIHZlcnNpb24zLjcuMSwgaHR0cHM6Ly9tYXRwbG90bGliLm9yZy/bCgiHAAAACXBIWXMAAA9h\n",
              "AAAPYQGoP6dpAABarElEQVR4nO3dd1SVhePH8c9zL8sBuPfEvXEDIu69BdTSzLIsK7difb/t+lag\n",
              "oqaWWjbMsgLce6Mo7r33yL1xse/vD8hv/upbWsDDhffrnHuOXp4rH8950t4+DxfDZrPZBAAAAAAA\n",
              "7IbF7AEAAAAAAODJEPMAAAAAANgZYh4AAAAAADtDzAMAAAAAYGeIeQAAAAAA7AwxDwAAAACAnSHm\n",
              "AQAAAACwM8Q8AAAAAAB2xi5jfuLEiWZPAAAAAADANHYZ82fOnDF7AgAAAAAAprHLmAcAAAAAIDsj\n",
              "5gEAAAAAsDPEPAAAAAAAdoaYBwAAAADAzhDzAAAAAADYGWIeAAAAAAA7Q8wDAAAAAGBniHkAAAAA\n",
              "AOwMMQ8AAAAAgJ0h5gEAAAAAsDPEPAAAAAAAdoaYBwAAAADAzhDzAAAAAADYGWIeAAAAAAA7Q8wD\n",
              "AAAAAGBniHkAAAAAAOwMMQ8AAAAAgJ1J15gfPHiwypQpI8MwtHv37ofPHzt2TD4+PqpYsaLq16+v\n",
              "AwcOpOcMAAAAAACylHSN+YCAAEVFRal06dKPPP/SSy9pwIABOnr0qEaPHq1+/fql5wxT3Y57YPYE\n",
              "AAAAAEAWk64x7+fnpxIlSjzy3JUrV7R9+3b16dNHkuTv769z587p+PHjf/hrxMXFKSYm5pFHUlJS\n",
              "es5OM1sunVK9nz/Sf7Yt1fXYu2bPAQAAAABkERn+NfPnzp1T0aJF5eDgIEkyDEOlSpXS2bNn//D4\n",
              "jz/+WO7u7o88tm7dmpGT/7YFp/bqQWKCPt8fKe+wEH20faluxN4zexYAAAAAwM5l+jfAe+ONN3T7\n",
              "9u1HHg0aNDB71mP50Kuzvmn5rGrkL677ifH6bF+kvMKC9fH2ZUQ9AAAAAOBvc8joT1iyZEldvHhR\n",
              "iYmJcnBwkM1m09mzZ1WqVKk/PN7Z2VnOzs6PPGe1WjNi6j9mGIZalqyiFiUqa+W5QwrdtUr7b1zQ\n",
              "lH3r9M2hTXquqo9eqtZYeV1ymT0VAAAAAGBHMvzKfKFChVSnTh3NmjVLkhQREaESJUqofPnyGT0l\n",
              "wxiGodalqmpp50Ga0fwZVctXVPcS4zV57zp5h4coZMdy3Yy7b/ZMAAAAAICdMGw2my29fvGXXnpJ\n",
              "ixcv1qVLl5Q/f365urrq+PHjOnLkiPr166fr16/Lzc1NX3/9tWrUqPHYv+7w4cMVGhqaXrPTnc1m\n",
              "0/KzBxW6e5UO3rgoScrt6Kz+VRvpxWq+yuOc0+SFAAAAAIDMLF1jPr3Ye8z/KtmWnBL1u1bp0M1L\n",
              "kiRXR2c9T9QDAAAAAP5Epn8DvKzMYljUrnR1Le8yWNOa9VblvEV0JyFOE/eskXdYsMbuWsn3qQcA\n",
              "AAAA/A4xnwlYDIs6lKmhFV0Ga2qz3qqUp7DuJMRpwu7V8g4P1jiiHgAAAADwG8R8JmIxLOpYpoZW\n",
              "dh2iqU2fVqU8hRUTH6vxu1fLJzxY43evUkx8rNkzAQAAAAAmI+YzIYthUceyNbWy6xB93vRpVcxT\n",
              "SLfjYzVu1yp5h32iCbtX6w5RDwAAAADZFjGfiVkMizqVramVXYbqsyZPqYJ7StSP3bVSXmHBmkjU\n",
              "AwAAAEC2RMzbAavFos4etbSq61BNbtJL5d0L6nb8A41JjfpP96zR3YQ4s2cCAAAAADIIMW9HrBaL\n",
              "unp4anXXYZrk10vlUqM+ZOcKeYUFa/LetUQ9AAAAAGQDxLwdslos6lbOU2u6DtOnfj3l4VZAt+Lu\n",
              "65Mdy+UdFqzJe9cR9QAAAACQhRHzdsxqsah7udpa022YJvr1VFm3AroZd1+f7Fgm77BgTdm7TveI\n",
              "egAAAADIcoj5LMDBYpV/udpa222YJjTuoTKu+XUz7r4+3rFM3mEh+mxfpO4nxJs9EwAAAACQRoj5\n",
              "LMTBYlVA+Tpa1324xvsGqrRrft2Iu6ePti+Vd3iwPifqAQAAACBLIOazIAeLVYEV6iqy+3CF+gao\n",
              "tGs+XY+9p/9sXyqf8BBN279eDxKJegAAAACwV8R8FuZgsapHhXpa132ExvkGqFTufLoWe1cfbFsi\n",
              "77AQTd+/gagHAAAAADtEzGcDjharelaop0j/ERrbyF8lc+fVtdi7en/bYvmEh+iLAxv0IDHB7JkA\n",
              "AAAAgMdEzGcjjharelWsr/X+IxXSqLtK5M6jqw/u6r2ti9UoPERfHogi6gEAAADADhDz2ZCjxaqn\n",
              "KzbQ+u4jFeyTEvVXHtzRu1sXEfUAAAAAYAeI+WzMyeqg3pVSov4Tn24qnuu/Ue8bHqKvDm5ULFEP\n",
              "AAAAAJkOMQ85WR3Up1JDbfAfqU+8u6lYLnddfnBHb29ZqEYRY/T1wU1EPQAAAABkIsQ8HnKyOqhP\n",
              "5Yba4D9KH3t3VdGc7rp8P0ZvbVkg34gx+uZQtOKSEs2eCQAAAADZHjGP33G2OuiZyl6KChil/3h1\n",
              "UZGcbrp0P0Zvbp4v3/Axmnl4M1EPAAAAACYi5vE/OVsd9GwVb20MCNKHXl1UOKebLt6/rX9Fz1Pj\n",
              "iDH6jqgHAAAAAFMQ8/hLzlYH9avirY3+o/RBw84qnNNNF+7d1hupUT/r8BbFE/UAAAAAkGGIeTw2\n",
              "FwdHPVfVRxv9R+n9hp1UOIerLty7rdej56pxxFjNOkLUAwAAAEBGIObxxFwcHPV81UaKCgjSuw06\n",
              "qlAOV52/d0uvb5orvzlj9f2RrUpITjJ7JgAAAABkWcQ8/rYcDo56oZqvNqZGfcEcufXL3VsavWmO\n",
              "/CLGavbRbUQ9AAAAAKQDYh7/2K9RvykgSO806KCCOXLr3N2bGrUxQk0ixulHoh4AAAAA0hQxjzST\n",
              "w8FJL1ZrrE0BQXq7fgcVcMmts3dvaOTGCDWdM04/HduuRKIeAAAAAP4xYh5pLoeDkwZUT4n6t+q3\n",
              "V36XXDpz54ZGRIWryZxQ/UzUAwAAAMA/Qswj3eR0dNJL1f0UHTBa/67XTvmcc+nMnesanhr1Ycd2\n",
              "EPUAAAAA8DcQ80h3OR2dNLBGE0UHBulfv4n6YVFhajZ3vMKP7yTqAQAAAOAJEPPIMLkcnfVKatS/\n",
              "Ubet8jrn1KmYaxq64Wc1nzteESd2KSk52eyZAAAAAJDpEfPIcLkcnfVqzaaKDhyt1+u2VR7nnDoZ\n",
              "c01D1v+kZnNDNYeoBwAAAIA/RczDNLkdnfVazabaHDhao+u0eRj1g9f/pObzxmvuid1EPQAAAAD8\n",
              "AWIepsvt6KxBtZopOiBIQXVay90ph07cvqpB639Uy3kTNP/kHqIeAAAAAH6DmEem4erkosG1mmtz\n",
              "4GiNqt1K7k4uOnb7il6NnK1W8ydowck9SrYR9QAAAABAzCPTcXVy0RDPFooOfF0jU6P+6K0reiVy\n",
              "tlrOm6CFp/YS9QAAAACyNWIemZabk4uGerbQpoDRGlG7pdxSo37guh/Uat5ELSLqAQAAAGRTxDwy\n",
              "PXfnHBrm2VLRAaM1zLOFXB2ddeTWZb38a9Sf3kfUAwAAAMhWiHnYDXfnHBpRu5WiA0dr6G+jfu33\n",
              "ajP/Uy05vZ+oBwAAAJAtEPOwO3mcc2pkatQPqdVcuR2ddejmJQ1YO0ttF0zS0jNEPQAAAICsjZiH\n",
              "3crjnFOj6rR+JOoP3rioF9fMUrsFk7TszAHZbDazZwIAAABAmiPmYffy/hr1AUEaXLOZcjk46cCN\n",
              "i3phzXdqt2CSlhP1AAAAALIYYh5ZRl6XXAqq20abA0frtZpNlcvBSftvXFD/1KhfcfYgUQ8AAAAg\n",
              "SyDmkeXkdcml1+u2VXTgaL1ao6lypkb986tnqsPCyVp17hBRDwAAAMCuEfPIsvK55NIb9dpqc+Bo\n",
              "vVKjiXI6OGnv9fPqt+pbdVw0RavPHSbqAQAAANglYh5ZXj6XXPpXvXaKDgzSwOpNlMPBUXuu/aJn\n",
              "V31D1AMAAACwS8Q8so38Lrn17/rtFB0wWi9V95OL9b9R32nRZ1rzyxGiHgAAAIBdIOaR7RTIkVtv\n",
              "1W+v6MAgvVStsVysjtp97Zz6rvxanRd/pnXnjxL1AAAAADI1Yh7ZVsEcrnqrQQdFBwZpQDVfuVgd\n",
              "tevqOfVZ8ZW6Lv5ckUQ9AAAAgEyKmEe2VzCHq95u0FGbAoL0YjVfOVsdtOPqWfVe8ZW6LZmq9eeP\n",
              "EfUAAAAAMhViHkhVKKer3kmN+heqNpKz1UHbr5zR0ytmqPuSqdpwgagHAAAAkDkQ88D/Uzinm95t\n",
              "2EmbAoL0fBUfOVsdtO3KGT21fIb8l05T1IXjRD0AAAAAUxHzwP9QOKeb3vfqrI0BQXouNeq3Xj6t\n",
              "Xsu/VMDSadp48YTZEwEAAABkU8Q88BeK5HTTB16dFeU/Sv2qeMvJYtWWy6fVc9kXClg6TZuIegAA\n",
              "AAAZjJgHHlPRXO760KuLogKC9GzllKjffOmUeiz7QoFLpyv60kmzJwIAAADIJoh54AkVy+Wu/3h3\n",
              "UZT/KD1b2UtOFquiL51U4NLp6rF0urZcOmX2RAAAAABZHDEP/E3FcufRf7y7Ksp/lJ6p1FCOFqs2\n",
              "XTop/6XT1HPZF9p6+bTZEwEAAABkUcQ88A8Vy51HH/t0U5T/KPVJjfqNF0+o+5Kp6rXsS20j6gEA\n",
              "AACkMWIeSCPFc+fRJz7dtMF/pHpXbCAHw6Koi8fVbclUPb18hrZfPmP2RAAAAABZBDEPpLESufMq\n",
              "uFF3bfAfqadTo379hWPquuRz9V4+QzuuEPUAAAAA/hliHkgnJV3zKaRRd633H6leFerJalgUeeGY\n",
              "uiz+XL1XfKUdV86aPREAAACAnSLmgXRWyjWfxvoGaL3/CPX8NerPH1WXxZ+pz4qvtOvqObMnAgAA\n",
              "ALAzxDyQQUq75te4h1FfV1bDonXnj6rToinqu/Jroh4AAADAYyPmgQyWEvWBWtd9uHqUT4n6Nb8c\n",
              "UadFU/Tsym+0m6gHAAAA8BeIecAkZd0KKLRxStQHlq8ji2Fo9S+H1XHRFPVb9Y32XvvF7IkAAAAA\n",
              "MiliHjBZWbcCGt+4h9Z1GyH/crVlMQytOndY7RdO1nOrvtW+a+fNnggAAAAgkyHmgUzCw72AJvr1\n",
              "1Lpuw9U9NepXnjukdgsn6flV32r/daIeAAAAQApiHshkPNwL6lO/nlrbbbi6eXjKkKEV5w6p7YJJ\n",
              "6r96pg5cv2D2RAAAAAAmI+aBTKqce0FNatJLa7sNU9fUqF9+9qDaLPhUL6z+TgdvEPUAAABAdkXM\n",
              "A5lc+TyFNLlJL63pNkxdPGrJkKFlZw+o9fxP9eKa73TwxkWzJwIAAADIYMQ8YCcq5CmkKU2e0upu\n",
              "Q9W5bE0ZMrT0zAG1nj9RA9bM0qEbl8yeCAAAACCDEPOAnamYp7A+a/q0VnUdqk5lUqJ+yZn9ajV/\n",
              "gl5a+70O3yTqAQAAgKyOmAfsVKW8hfV5s6e1susQdSxTQ5K0+PQ+tZo3UQPX/qAjNy+bvBAAAABA\n",
              "eiHmATtXOW8RTW3WWyu7DFWHMjVkk00LT+9Vy3kT9Mq6H3T0FlEPAAAAZDXEPJBFVMlXRNOa9daK\n",
              "LkPUrnQ12WTTglN71WLuBL26braO3bpi9kQAAAAAaYSYB7KYqvmK6ovmz2hFl8FqWyol6uef2qPm\n",
              "c8fr1cjZOk7UAwAAAHaPmAeyqKr5iunLFs9oeefBalOqakrUn9yj5vPGa1Dkjzpx+6rZEwEAAAD8\n",
              "TcQ8kMVVy19MM1r01bLOg9SmVFUl22yae3K3ms0N1eD1P+kkUQ8AAADYHdNiftmyZapXr55q1qwp\n",
              "Ly8v7dmzx6wpQLZQPX9xzWjRV0s7DVLrklWUbLNpzoldajo3VEPW/6STt6+ZPREAAADAYzJsNpst\n",
              "oz/pzZs3Vb58ea1fv17VqlXThg0bNHDgQO3fv/+xXj98+HCFhoam80oga9t77ReF7l6lVecOS5Is\n",
              "hqHuHrU1xLO5yroVMHkdAAAAgD9jypX5EydOKH/+/KpWrZokqXHjxjp79qx27txpxhwgW6pZoIS+\n",
              "adlPizu9phYlKivZZlP4iZ1qOidUwzb8rNMx182eCAAAAOB/MCXmK1SooOvXr2vTpk2SpAULFujO\n",
              "nTs6ffr0746Ni4tTTEzMI4+kpKQMXgxkXbUKlNC3rfppYcdX1bxEJSXZkhV2fKeazBmnEVFhRD0A\n",
              "AACQCZkS8+7u7goPD9cbb7yhunXrasWKFapataocHBx+d+zHH38sd3f3Rx5bt241YTWQtdUuWFIz\n",
              "Wz2nBR1fUbPiKVH/07EdqVEfrjN3iHoAAAAgszDla+b/v7i4OBUpUkTbtm1T+fLlf/exuLi4R557\n",
              "6623NHHixIycCGQ7O66c1fjdq7Tu/FFJkoNhUUD5Ohpcq7lKueYzeR0AAACQvZn2bvYXL158+OMP\n",
              "PvhAzZs3/13IS5Kzs7Pc3NweeVit1oycCmRLdQuV0qzWz2t+h4FqUqyCEm3J+vHYdvlFjNWojRE6\n",
              "d+eG2RMBAACAbMu0mH/77bdVuXJllS9fXmfOnNGMGTPMmgLgT9QtVFrft+mvee0Hyi816mcf3abG\n",
              "EWMVtHGOfrl70+yJAAAAQLaTKW6zf1J8azrAPNsun1bo7lXacOG4JMnRYlXPCvU0qGYzFc+dx9xx\n",
              "AAAAQDZh2pV5APapfuEymt3mBUW0e0m+RcsrITlJs45skW/EGL2xaa7O371l9kQAAAAgyyPmAfwt\n",
              "DYuU1Y9tX1B4uwHyKeKhhOQkfZca9f+KnqcLRD0AAACQboh5AP+IVxEP/dxugMLaDZB3atTPPLxZ\n",
              "vhFj9O/oebpw77bZEwEAAIAsh5gHkCa8i3gorN0A/dz2RTUsXFbxyUn69vBm+YaH6M3N83WRqAcA\n",
              "AADSjIPZAwBkLT5Fy8mnaDltvHhCobtWasvl0/rmULRmH92mpys20Ks1m6pITjezZwIAAAB2jZgH\n",
              "kC4aFS0nnyIe2nTxhMbtXqWtl0/r60Ob9MPRreqdGvWFiXoAAADgb+E2ewDpxjAMNSpWXhHtXtKP\n",
              "bV5Q/UKlFZeUqK8ObZJPeIje2bJQl+/HmD0TAAAAsDvEPIB0ZxiGfIuV15z2L+uH1v1Vt2ApxSUl\n",
              "asbBjfIJD9G7Wxbqyv07Zs8EAAAA7AYxDyDDGIYhv+IVNK/DQH3f+nnVSY36L1Oj/v2ti3T1AVEP\n",
              "AAAA/BViHkCGMwxDTYpX1PwOAzWr9fOqXbCkYpMSNP1AlLzDQvTB1sW69uCu2TMBAACATIuYB2Aa\n",
              "wzDUtHhFLejwir5r9Zw8C6RE/bQDG+QdHqwPti0h6gEAAIA/QMwDMJ1hGGpWopIWdnxFM1s9p1oF\n",
              "SuhBYoKm7V8v7/Bgfbhtia7HEvUAAADAr4h5AJmGYRhqXqKSFnV8Vd+27Pcw6qfuXy+vsGD9Z9tS\n",
              "3Yi9Z/ZMAAAAwHTEPIBMxzAMtShZWYs6vqpvWj6rmvmL60Figj7fHymvsGB9vH0ZUQ8AAIBsjZgH\n",
              "kGkZhqGWJatocafX9HWLvqqRv7juJ8Zryr518g4L1ic7lukmUQ8AAIBsiJgHkOkZhqFWpapqSafX\n",
              "9FWLvqqer5juJcZr8t518goLVvCO5boZd9/smQAAAECGIeYB2A3DMNS6VFUt7TxIXzZ/RlXzFdW9\n",
              "xHhN2rtW3mHBCiHqAQAAkE0Q8wDsjmEYalu6mpZ1HqQvmvdRlbxFdDchTp/uXSufsGCN2blCt4h6\n",
              "AAAAZGHEPAC7ZTEsale6upZ3Gazpzfqoct4iupMQp4l71sg7LFhjd60k6gEAAJAlEfMA7J7FsKh9\n",
              "mepa0WWwpjXrrUp5CutOQpwm7F4tn/AQjdu1UrfjHpg9EwAAAEgzxDyALMNiWNShTA2t7DpEU1Oj\n",
              "PiY+VuN3r5Z3eLBCd61STHys2TMBAACAf4yYB5DlWAyLOqZG/edNn1bFPIUUEx+r0N2r5B32icbv\n",
              "JuoBAABg34h5AFmWxbCoU9maWtV1qD5r8pQquBfS7fhYjdu1St5hwZq4e7XuEPUAAACwQ8Q8gCzP\n",
              "YljU2aOWVnUdqilNnlJ594K6Hf9AY3atlFdYsD7ds4aoBwAAgF0h5gFkG1aLRV08aml112Ga3KTX\n",
              "w6gP2blC3uEhmrRnre4mxJk9EwAAAPhLxDyAbMdqsairh6dWdx2mSX69VM69oG7F3VfwzuXyCgvW\n",
              "5L1EPQAAADI3Yh5AtmW1WNStnKfWdB2miX49VdatgG7F3dcnO5bLOyxYk/eu0z2iHgAAAJkQMQ8g\n",
              "27NaLPIvV1truw3ThMY9VMY1v27G3dcnO5bJOyxEn+2LJOoBAACQqRDzAJDKwWJVQPk6Wtd9uCY0\n",
              "DlQZ1/y6EXdPH21fKu+wEH2+L1L3E+LNngkAAAAQ8wDw/6VEfV2t6z5c430DVTo16v+zfam8w4M1\n",
              "dd96oh4AAACmIuYB4H9wsFgVWCEl6sf5Bqi0az5dj72nD7cvkU94iKbtX68HiUQ9AAAAMh4xDwB/\n",
              "wdFiVc8K9bSu+wiNbeSvUrnz6VrsXX2wLSXqvziwgagHAABAhiLmAeAxOVqs6lWxviL9R2hMI3+V\n",
              "zJ1XVx/c1XtbF6tR+Bh9eSBKDxITzJ4JAACAbICYB4An5Gix6qmK9RXZfYRCGnVXidx5dOXBHb27\n",
              "dZEahYcQ9QAAAEh3xDwA/E1OVgc9XbGB1ncfqWCf7iqe679R7xseohkHNyqWqAcAAEA6IOYB4B9y\n",
              "sjqod6UG2uA/Up94d1OxXO66/OCO3tmyUI0ixugroh4AAABpjJgHgDTiZHVQn8oNtcF/lD727qqi\n",
              "Od11+X6M3t6yUL4RY/TNoWiiHgAAAGmCmAeANOZsddAzlb0UFTBKH6VG/aX7MXpz83z5RozRt4ei\n",
              "FZeUaPZMAAAA2DFiHgDSibPVQX1To/4/Xl1UJKebLt2P0b83z5dv+BjNPLyZqAcAAMDfQswDQDpz\n",
              "tjro2SreivIfpQ8adlbhnG66eP+2/hU9T40jxui7w5sVT9QDAADgCRDzAJBBXBwc9VxVH230H6X3\n",
              "G3ZS4RyuunDvtt6InqfGEWM168gWoh4AAACPhZgHgAzm4uCo56s20saAIL3XsJMK5XDV+Xu39Pqm\n",
              "ufKbM1bfH9lK1AMAAOBPEfMAYBIXB0f1T436dxt0VKEcrvrl7i2N3jRHTeaM0w9HtyohOcnsmQAA\n",
              "AMiEiHkAMFkOB0e9UM1XGwOC9E6DDiqYI7fO3b2poI1z5BcxVrOPbiPqAQAA8AhiHgAyiRwOjnqx\n",
              "WmNtCgjS2/U7qIBLStSP2hihpnPG6adj24l6AAAASCLmASDTyeHgpAHVGys6MEhv1W+vAi65debO\n",
              "DY2IClfTOaH6+dh2JRL1AAAA2RoxDwCZVA4HJ71U3U+bAoL0Zr32yu+SS2fuXNfwqHA1mROqsGM7\n",
              "iHoAAIBsipgHgEwup6OTXq7hp+iA0fp3vXbK55wS9cOiwtR0TqjCjxP1AAAA2Q0xDwB2IqejkwbW\n",
              "aKLowCC9Ubet8jrn1Ok71zV0Q5iazR2v8OM7iXoAAIBsgpgHADuTy9FZr9Zsqs2Bo/V6atSfirmm\n",
              "oRt+VvO54zXnxC4lJSebPRMAAADpiJgHADuVy9FZr9VsqujA0Xq9bhvlcc6pkzHXNHj9T2o+b7zm\n",
              "nthN1AMAAGRRxDwA2Lncjs56rWYzRQcEaXSdNnJ3yqETt69q0Pof1WLeeM07SdQDAABkNcQ8AGQR\n",
              "rk4uGlSrmTYHjlZQndZyd8qh47ev6rXIH9Vy3gTNP7mHqAcAAMgiiHkAyGJcnVw0uFZzRQeO1sja\n",
              "reTu5KJjt6/o1cjZajV/ghac3KNkG1EPAABgz4h5AMii3JxcNNSzhaIDX9eI2i3l5uSio7eu6JXI\n",
              "2Wo1b6IWndpL1AMAANgpYh4Asjg3JxcN82yp6IDRGu6ZEvVHbl3Wy+t+SIn60/uIegAAADtDzANA\n",
              "NuHunEPDa6dE/TDPFnJ1dE6J+rXfq/X8T7WYqAcAALAbxDwAZDPuzjk0onYrRQeO1pBazZXb0VmH\n",
              "b17SS2u/V5v5n2rJ6f1EPQAAQCZHzANANpXHOadG1Wn9SNQfunlJA9bOUtsFk7TszAHZbDazZwIA\n",
              "AOAPEPMAkM3l/U3UD67ZTLkcnHTwxkW9sOY7tV3wqZYT9QAAAJkOMQ8AkJQS9UF122hz4GgNSo36\n",
              "Azcuqv+a79RuwSStOHuQqAcAAMgkiHkAwCPyuuTS6LptFB04Wq/VbKqcDk7af+OCnl89U+0XTtZK\n",
              "oh4AAMB0xDwA4A/lc8ml1+u21ebA0XqlRhPldHDSvuvn9dzqmeqwcLJWnTtE1AMAAJiEmAcA/Kl8\n",
              "Lrn0r3rtFB0YpIHVmyiHg6P2Xj+vfqu+VcdFU7T63GGiHgAAIIMR8wCAx5LfJbf+Xb+dNgeO1svV\n",
              "/ZTDwVF7rv2iZ1d9o06LPtOaX44Q9QAAABmEmAcAPJH8Lrn1Zv32ig4YrZeq+8nF6qjd186p78qv\n",
              "1XnxZ1pL1AMAAKQ7Yh4A8LcUyJFbb9Vvr+jAIL1UrbFcrI7adfWcnln5tbos/lzrzh8l6gEAANIJ\n",
              "MQ8A+EcK5nDVWw06aFNAkF6s5itnq4N2Xj2rPiu+UtfFnyuSqAcAAEhzxDwAIE0Uyumqdxp0VHTA\n",
              "aL1QtZGcrQ7acfWseq/4St2WTNWGC8eIegAAgDRCzAMA0lShnK56t2EnbQoIUv/UqN9+5YyeWj5D\n",
              "/kunKerCcaIeAADgHyLmAQDponBON73XsJM2BgTp+So+crY6aOvl0+q1/EsFLJ2mjUQ9AADA30bM\n",
              "AwDSVZGcbnrfq7Oi/EepXxVvOVms2nL5tHou/1IBS6dr08UTZk8EAACwO8Q8ACBDFM3lrg+9uigq\n",
              "IEjPVv416k+px7IvFLB0mqIvnTR7IgAAgN0g5gEAGapYLnf9x/vXqPeSk8WqzZdOKXDpdPVYOl2b\n",
              "iXoAAIC/RMwDAEyREvVdFeU/Sn0re8nRYtWmSycVsHS6ei77QlsunTJ7IgAAQKZFzAMATFUsdx59\n",
              "lBr1z1RqKEeLVRsvnpD/0mnqtexLbb182uyJAAAAmQ4xDwDIFIrnzqOPfbppg/9I9a7YQA6GRVEX\n",
              "j6v7kql6avmX2n75jNkTAQAAMg1iHgCQqZTInVfBjbprg/9IPZ0a9RsuHFfXJZ/r6eUztOMKUQ8A\n",
              "AEDMAwAypZKu+RTSqLvW+4/UUxXry8GwaP2FY+qy+HP1XvGVdlw5a/ZEAAAA05gW80uWLFGdOnXk\n",
              "6emp6tWr69tvvzVrCgAgEyvlmk9jGvkr0n+EelWoJ6thUeT5o+qy+DP1WfGVdl4l6gEAQPZj2Gw2\n",
              "W0Z/UpvNpvz582vdunWqWbOmTp8+rcqVK+vq1atydXX9y9cPHz5coaGhGbAUAJDZnLlzXZ/uWavw\n",
              "4zuVZEuWJDUrXknDa7dU7YIlTV4HAACQMRzM+sSGYejWrVuSpJiYGOXPn1/Ozs6/Oy4uLk5xcXGP\n",
              "PJeUlJQREwEAmVBp1/wa5xugQTWb6dM9axRxYpfWnj+iteePqHmJShru2VKeRD0AAMjiTLkyL0mr\n",
              "Vq1Sr169lCtXLt28eVNz5sxRy5Ytf3fcu+++q/fee++R57y8vBQdHZ1RUwEAmdipmGsPoz459a+0\n",
              "FiUqa3jtlqpVoITJ6wAAANKHKTGfmJioli1b6v3335efn5+2bdumzp07a9++fSpQoMAjx/7Rlfm3\n",
              "3npLEydOzMjJAIBM7uTtlKifc/K/Ud+qZBUN82yhmkQ9AADIYkx5A7zdu3frwoUL8vPzkyTVr19f\n",
              "JUqU0K5du353rLOzs9zc3B55WK3WjJ4MAMjkPNwLaIJfD63rNlz+5WrLYhhaee6Q2i+crOdXfat9\n",
              "186bPREAACDNmBLzJUuW1MWLF3Xo0CFJ0vHjx3XixAlVqlTJjDkAgCzEw72gJvr11Npuw9XNw1MW\n",
              "w9CKc4fUbuEk9V89UweuXzB7IgAAwD9myhvgFS5cWNOnT1ePHj1ksViUnJysyZMnq1SpUmbMAQBk\n",
              "QeXcC2pSk14aUqu5JuxZo/kn92j52YNafvag2pSqqhG1W6pqvmJmzwQAAPhbTHsDvH+Cb00HAHhS\n",
              "x25d0YQ9q7Xg5F7ZlPJXX7vS1TTMs6Wq5itq8joAAIAnY8pt9gAAZLQKeQppSpOntLrbUHUpW0uG\n",
              "DC09c0Ct50/UgDWzdPDGRbMnAgAAPDZiHgCQrVTMU1hTmj6lVV2HqnPZmjJkaMmZ/Wo9f6JeWvu9\n",
              "Dt24ZPZEAACAv0TMAwCypUp5C+uzpk9rZdch6limhiRp8el9ajV/gl5e+72O3Lxs8kIAAID/jZgH\n",
              "AGRrlfMW0dRmvbWyy1B1SI36Raf3qeW8CRq49gcdvUXUAwCAzIeYBwBAUpV8RTStWW+t6DJE7UtX\n",
              "l002LTy9Vy3mTtCr62YT9QAAIFMh5gEA+I2q+YpqevM+WtFlsNqVriabbJp/ak9K1EfO1rFbV8ye\n",
              "CAAAQMwDAPBHquYrpi+aP6PlnQerbanUqD+5R83njtdrkT/qxO2rZk8EAADZGDEPAMCfqJa/mL5s\n",
              "8YyWdR6kNqWqyiab5p3crWZzQzWIqAcAACYh5gEAeAzV8xfXjBZ9tbTTILUuWUXJNpvmpkb94PU/\n",
              "6SRRDwAAMhAxDwDAE6hRoLi+avmslnR6Ta1So37OiV1qOjdUQ9f/rJO3r5k9EQAAZAPEPAAAf0PN\n",
              "AiX0dctntbjTa2pZsrKSbTaFn9ipZnNDNWzDzzoVQ9QDAID0Q8wDAPAP1CpQQt+07KdFHV9V8xKV\n",
              "lGRLVtjxnWo6J1TDN4TpdMx1sycCAIAsiJgHACANeBYsqZmtntPCjq+qWfGUqP/5+A41mTNOI6LC\n",
              "dOYOUQ8AANIOMQ8AQBqqXbCkvmv9nBZ0fEVNi1dUki1ZPx3boSYR4zQyKlxn79wweyIAAMgCiHkA\n",
              "ANJBnYKlNKv185rfYaCaFK+oRFuyfjy2XX4RYzVqY4TOEfUAAOAfIOYBAEhHdQuV1vetn9e89gPV\n",
              "pFgFJdqSNfvoNjWOGKugjXOIegAA8LcQ8wAAZIB6hUvr+zb9Nbf9y2pcrLwSbcn64ehW+c0Zp9Eb\n",
              "5+iXuzfNnggAAOwIMQ8AQAaqX7iMZrd5QXPavyzfouWVkJyk749uVeOIsXp901ydv3vL7IkAAMAO\n",
              "EPMAAJigQeEy+rHtC4po95IaFS2nhOQkzTqyRb4RY/Sv6Hm6QNQDAIA/QcwDAGCihkXK6qe2Lyqs\n",
              "3QD5FPFQQnKSZh7eLN+IMfp39DxduHfb7IkAACATIuYBAMgEvIt46Od2A/Rz2xflVaSs4pOT9O3h\n",
              "zfIND9G/o+frIlEPAAB+w8HsAQAA4L98ipaTT9Fy2nTxhMbtWqUtl0/p28PRmn10q56u1ECv1miq\n",
              "ornczZ4JAABMRswDAJAJ+RQtJ+8iHilRv3uVtl4+rW8ORWv20W16umIDvVqzqYrkdDN7JgAAMAm3\n",
              "2QMAkEkZhqFGxcorot1L+rHNC6pfqLTikhL19aFNahQeone2LNTl+zFmzwQAACYg5gEAyOQMw5Bv\n",
              "sfKa0/5lzW7TX/VSo37GwY3yCQ/Ru1sW6sr9O2bPBAAAGYiYBwDAThiGocbFKmhu+5f1Q+v+qluw\n",
              "lOKSEvXlwY3yDg/We1sXEfUAAGQTxDwAAHbGMAz5Fa+geR0Galbr51W7YEnFJSXqiwNR8gkP0ftb\n",
              "F+nqA6IeAICsjJgHAMBOGYahpsUrakGHV/Rdq+dUu2BJxSYlaPqBKHmHheiDrYt17cFds2cCAIB0\n",
              "QMwDAGDnDMNQsxKVtKDDK5rZ6jnVKlBCsUkJmnZgg7zDg/XhtiVEPQAAWQwxDwBAFmEYhpqXqKRF\n",
              "HV/Vty37qVaBEnqQmKCp+9fLOzxY/9m2VNdjiXoAALICYh4AgCzGMAy1KFn5YdTXzF9cDxIT9Pn+\n",
              "SHmHheij7Ut1I/ae2TMBAMA/QMwDAJBF/Rr1izu9pq9b9FWN/MV1PzFen+2LlFdYsD7evkw3iXoA\n",
              "AOwSMQ8AQBZnGIZalaqqJZ1e01ct+qp6vmK6nxivKfvWySssWME7lhP1AADYGWIeAIBswjAMtS5V\n",
              "VUs7D9KM5s+oWr6iupcYr0l718o7PEQhO5brZtx9s2cCAIDHQMwDAJDNGIahNqWraVnnwfqy+TOq\n",
              "mq+o7ibE6dO9a+UdFqwxO1foFlEPAECmRswDAJBNGYahtqWraVnnQfqieR9VyVtEdxPiNHHPGqIe\n",
              "AIBMjpgHACCbsxgWtStdXcu7DNa0Zr1VOW8R3flN1I/dtVK34x6YPRMAAPyGYbPZbE/ygitXruid\n",
              "d97Rnj17FBsb+/D5nTt3pvm4/2X48OEKDQ3NsM8HAEB2kmxL1pIzBzR+1yoduXVZkuTm5KIXqvqq\n",
              "f9VGcnfOYfJCAADwxFfm+/fvrzJlyujatWt67733VKxYMXXo0CE9tgEAABNYDIs6lqmhlV2HaGrT\n",
              "p1UpT2HFxMcqdPcq+YQHa/zuVYqJj/3rXwgAAKSbJ74y7+npqd27d6tGjRrat2+f4uPj1aRJE0VH\n",
              "R6fXxt/hyjwAABkn2Zasxaf3a/zuVTp664okyd3JRS9Wa6z+VRvJ1cnF5IUAAGQ/T3xl3snJSZLk\n",
              "4uKi69evy8HBQdeuXUvzYQAAIHOwGBZ1KltTK7sM1ZQmT6mCeyHdjo/V2F0r5RUWrIm7V+sOV+oB\n",
              "AMhQTxzzFStW1PXr19WnTx81bNhQ9erVU926ddNjGwAAyESsFou6eNTSqq5DNblJL5V3L6jb8Q80\n",
              "JjXqP92zRncT4syeCQBAtvDEt9n/1saNG3Xz5k21bdtWDg4OabnrT3GbPQAA5ktKTtaCU3s1Yc9q\n",
              "nbh9VZKUxzmnXq7eWP2q+Ci3o7PJCwEAyLr+UcybhZgHACDzSEpO1vxTezRh92qdjEn50ru8zjn1\n",
              "UnU/PVfFW7mIegAA0hzfZx4AAPwjVotF3cvV1ppuwzTRr6fKuhXQzbj7+mTHMnmFBWvK3nW6x+33\n",
              "AACkKWIeAACkCQeLVf7lamttt2Ga0DhQZVzz62bcfX28Y5m8w0L02b5I3U+IN3smAABZAjEPAADS\n",
              "lIPFqoDydbWu+3CN9w1Uadf8uhF3Tx9tXyrv8GBN3beeqAcA4B8i5gEAQLpwsFgVWKGuIrsPV6hv\n",
              "gEq75tP12Hv6cPsS+YSHaNr+9XqQSNQDAPB3EPMAACBdOVis6lGhntZ1H6FxvgEqlTufrsXe1Qfb\n",
              "lsg7LETT928g6gEAeELEPAAAyBCOFqt6VqinSP8RGtvIXyVz59W12Lt6f9ti+YSH6IsDG/QgMcHs\n",
              "mQAA2AViHgAAZChHi1W9KtbXev+RCmnUXSVy59HVB3f13tbFahQeoi8PRBH1AAD8BWIeAACYwtFi\n",
              "1dMVG2h995EK9umu4rny6MqDO3p36yL5hodoxsGNRD0AAP8DMQ8AAEzlZHVQ70oNtMF/pD7x6abi\n",
              "ufLo8oM7emfLQvmGh+irgxsVS9QDAPAIYh4AAGQKTlYH9anUMCXqvbupWC53XX5wR29vWahGEWP0\n",
              "9cFNRD0AAKmIeQAAkKk4WR3Up3JDbfAfpY+8u6poTnddvh+jt7YskG/EGH1zKFpxSYlmzwQAwFTE\n",
              "PAAAyJScrQ7qW9lLUQGj9B+vLiqS002X7sfozc3z5Rs+RjMPbybqAQDZFjEPAAAyNWerg56t4q2N\n",
              "AUH60KuLCud008X7t/Wv6HlqHDFG3xH1AIBsiJgHAAB2wdnqoH5VvLXRf5Q+aNhZhXO66cK923oj\n",
              "NepnHd6ieKIeAJBNEPMAAMCuuDg46rmqPtroP0rvNeykwjlcdeHebb0ePVeNI8Zq1hGiHgCQ9RHz\n",
              "AADALrk4OKp/1UaKCgjSuw06qlAOV52/d0uvb5orvzlj9cPRrUpITjJ7JgAA6YKYBwAAdi2Hg6Ne\n",
              "qOarjalRXzBHbv1y95aCNs6RX8RYzT66jagHAGQ5xDwAAMgSfo36TQFBeqdBBxXMkVvn7t7UqI0R\n",
              "ahIxTj8S9QCALISYBwAAWUoOBye9WK2xNgUE6e36HVTAJbfO3r2hkRsj1HTOOP10bLsSiXoAgJ0j\n",
              "5gEAQJaUw8FJA6qnRP2b9dorv0sunblzQyOiwtVkTqh+JuoBAHaMmAcAAFlaTkcnvVzDT9EBo/Xv\n",
              "eu2UzzmXzty5ruFR4Wo6J1Thx3cQ9QAAu0PMAwCAbCGno5MG1mii6MAg/Ss16k/fua6hG8LUbO54\n",
              "hR/fSdQDAOwGMQ8AALKVXI7OeiU16t+o21Z5nXPqVMw1Dd3ws5rPHa+IE7uUlJxs9kwAAP4UMQ8A\n",
              "ALKlXI7OerVmU0UHjtbrddsoj3NOnYy5piHrf1LzeeM1h6gHAGRixDwAAMjWcjs667WazbQ5cLRG\n",
              "10mJ+hO3r2pwatTPPbGbqAcAZDrEPAAAgFKiflCtZooOCFJQndZyd8qhE7evatD6H9Vy3gTNP7mH\n",
              "qAcAZBrEPAAAwG+4OrlocK3m2hw4WqNqt5K7k4uO3b6iVyNnq9X8CVpwco+SbUQ9AMBcxDwAAMAf\n",
              "cHVy0RDPFooOfF0jU6P+6K0reiVytlrOm6CFp/YS9QAA0xDzAAAAf8LNyUVDPVtoU8BoDfdsKbfU\n",
              "qB+47ge1mjdRi4h6AIAJiHkAAIDH4O6cQ8Nrt1R0wGgN82whV0dnHbl1WS+v+0Gt53+qxaf3EfUA\n",
              "gAxDzAMAADwBd+ccGlG7laIDR2toatQfvnlJL639Xm3mf6olp/cT9QCAdEfMAwAA/A15nHNqZO1W\n",
              "2hQ4WkNqNVduR2cdunlJA9bOUtsFk7T0DFEPAEg/xDwAAMA/kNc5p0bVaa3o30T9wRsX9eKaWWq3\n",
              "YJKWnTkgm81m9kwAQBZDzAMAAKSBh1EfEKRBNZspl4OTDty4qBfWfKd2CyZpOVEPAEhDhs2Ev1Wu\n",
              "X7+uFi1aPPz5/fv3dfLkSV25ckX58uX7y9cPHz5coaGh6TkRAADgH7kZe0/TDmzQ1wc36V5ivCSp\n",
              "Rv7iGu7ZQi1LVpFhGCYvBADYM1Ni/v8bO3asIiMjtXDhwsc6npgHAAD24kbsPU3bv0FfH9qk+6lR\n",
              "XzN/cQ2v3VItSlQm6gEAf0umuM1+xowZ6t+//x9+LC4uTjExMY88kpKSMnghAADA35PPJZfeqNdW\n",
              "0YFBeqVGE+V0cNLe6+fVb9W36rhoilafO8zt9wCAJ2b6lflNmzape/fu+uWXX+Tg4PC7j7/77rt6\n",
              "7733HnnOy8tL0dHRGTURAAAgzVyPvavP963Xt4ej9SAxQZJUq0AJDfdsqeYlKnGlHgDwWEyP+f79\n",
              "+yt//vwKCQn5w4/HxcUpLi7ukefeeustTZw4MSPmAQAApItrD+7q8/3r9e2haMUmpUS9Z4GSGl67\n",
              "pZoVr0jUAwD+lKkxf/fuXRUtWlTbtm1T5cqVH/t1fM08AADIKq4+uKOp+9br28ObH0Z97YIlNaJ2\n",
              "KzUpVoGoBwD8IVO/Zv6nn35SrVq1nijkAQAAspKCOVz1VoMOig4M0oBqvnK2OmjX1XPqs+IrdV38\n",
              "uSLPH+Vr6gEAv2NqzP/ZG98BAABkJwVzuOrtBh0VHTBaL6ZG/Y6rZ9V7xVfqtmSq1p8/RtQDAB4y\n",
              "/Wvm/w5uswcAAFnd5fsx+mxfpGYd2aK4pERJUv1CpTW8dkv5Fi3P7fcAkM1lim9NBwAAgEcVzumm\n",
              "9xp20saAID1fxUfOVgdtu3JGTy2fIf+l07TxwnGu1ANANkbMAwAAZGJFcrrpfa/O2hgQpOdSo37r\n",
              "5dPqufxLBSydro0XT5g9EQBgAmIeAADADhTJ6aYPvDoryn+U+lXxlpPFqi2XT6nnsi8UsHSaNhH1\n",
              "AJCtEPMAAAB2pGgud33o1UVRAUF6tnJK1G++dEo9ln2hwKXTFX3ppNkTAQAZgJgHAACwQ8Vyues/\n",
              "3l0U5T9KfSt7ydFiVfSlkwpcOl09lk7XlkunzJ4IAEhHxDwAAIAdK5Y7jz7y7qoo/1F6plJDOVqs\n",
              "2nTppPyXTlPPZV9o6+XTZk8EAKQDYh4AACALKJ47jz726aYN/iPVJzXqN148oe5Lpuqp5V9qG1EP\n",
              "AFkKMQ8AAJCFlMidV5+kRn3vig3kYFi04cJxdVsyVU8vn6Htl8+YPREAkAaIeQAAgCyoRO68Cm7U\n",
              "XRv8R+qpivXlYFi0/sIxdV3yuXovn6EdV4h6ALBnxDwAAEAWVtI1n8Y08td6/5HqVaGerIZFkReO\n",
              "qcviz9V7xVfaceWs2RMBAH8DMQ8AAJANlHLNp7G+AVrvP0I9f43680fVZfFn6rPiK+26es7siQCA\n",
              "J0DMAwAAZCOlXfNrnG+AIruPUM8KdWU1LFp3/qg6LZqiviu/JuoBwE4Q8wAAANlQGbf8GucbqHXd\n",
              "h6tH+ZSoX/PLEXVaNEXPrvxGe679YvZEAMCfIOYBAACysbJuBRTaOCXqA8rVkcUwtPqXw+qwcLL6\n",
              "rfpGe4l6AMiUiHkAAACorFsBTfDroXXdRsi/XG1ZDEOrzh1W+4WT9dyqb7Xv2nmzJwIAfoOYBwAA\n",
              "wEMe7gU00a+n1nYbru6pUb/y3CG1WzhJ/VfP1P7rRD0AZAbEPAAAAH6nnHtBferXU2u6DlM3D08Z\n",
              "MrT87EG1XZAS9QeuXzB7IgBka8Q8AAAA/qfyeQppUpNeWtttmLr+JurbLPhUL6z+TgdvEPUAYAZi\n",
              "HgAAAH+pfJ5Cmtykl9Z0G6YuZWvJkKFlZw+o9fxP9eKa73TwxkWzJwJAtkLMAwAA4LFVyFNIU5o+\n",
              "pdXdhqpz2ZoyZGjpmQNqPX+iBqyZpUM3Lpk9EQCyBWIeAAAAT6xinsL6rOnTWtV1qDqVqSlJWnJm\n",
              "v1rNn6CX136vwzeJegBIT8Q8AAAA/rZKeQvr82YpUd+xTA1J0qLT+9Rq3kQNXPuDjty8bPJCAMia\n",
              "iHkAAAD8Y5XzFtHUZr21sstQdShTQzbZtPD0XrWcN0GvrPtBR28R9QCQloh5AAAApJkq+YpoWrPe\n",
              "WtFliNqVriabbFpwaq9azJ2gV9fN1rFbV8yeCABZAjEPAACANFc1X1F90fwZregyWG1LpUT9/FN7\n",
              "1HzueL0aOVvHiXoA+EeIeQAAAKSbqvmK6csWz2h558FqU6pqStSf3KPm88ZrUOSPOnH7qtkTAcAu\n",
              "EfMAAABId9XyF9OMFn21rPMgtSlVVck2m+ae3K1mc0M1eP1POknUA8ATIeYBAACQYarnL64ZLfpq\n",
              "aadBalWyipJtNs05sUtN54ZqyPqfdPL2NbMnAoBdIOYBAACQ4WoUKK6vWz6rJZ1eU8uSlZVssyni\n",
              "xC41nTtOQ9f/rFMxRD0A/BliHgAAAKapWaCEvmnZT4s7vaYWJVKiPvzETjWdE6rhG8J0Oua62RMB\n",
              "IFMi5gEAAGC6WgVK6NtW/bSw46tqXqKSkmzJ+vn4DjWZM04jooh6APj/iHkAAABkGrULltTMVs9p\n",
              "QcdX1Kx4StT/dOzXqA/XmTtEPQBIxDwAAAAyoToFS+m71s9pfodX1KR4xdSo364mEeM0MipcZ+/c\n",
              "MHsiAJiKmAcAAECmVbdQKX3f+nnN7zBQTYpVUKItWT8e2y6/iLEatTFC54h6ANkUMQ8AAIBMr26h\n",
              "0vq+TX/Naz9QfqlRP/voNjWOGKvRG+fol7s3zZ4IABmKmAcAAIDdqFe4tH5o019z2r+sxsXKK9GW\n",
              "rO+PblXjiLF6fdNcnb97y+yJAJAhiHkAAADYnQaFy2h2mxcU0e4l+RYtr4TkJM06skW+EWP0xqa5\n",
              "ukDUA8jiiHkAAADYrYZFyurHti8ovN0A+RTxUEJykr47skWNIsboX9HziHoAWRYxDwAAALvnVcRD\n",
              "P7cboLB2A+SdGvUzD2+Wb8QY/Tt6ni7cu232RABIU8Q8AAAAsgzvIh4KazdAP7d9UQ0Ll1V8cpK+\n",
              "PbxZvuEhenPzfF0k6gFkEQ5mDwAAAADSmk/RcvIu4qFNl04qdNdKbbl8Wt8citbso9v0dMUGerVm\n",
              "UxXJ6Wb2TAD424h5AAAAZEmGYahR0XLyKeKhTRdPaNzuVdp6+bS+PrRJPxzdqt6pUV+YqAdgh7jN\n",
              "HgAAAFmaYRhqVKy8Itq9pNlt+qteodKKS0rUV4c2ySc8RO9sWajL92PMngkAT4SYBwAAQLZgGIYa\n",
              "F6ugue1f1g+t+6tuwVKKS0rUjIMb5RMeove2LtKV+3fMngkAj4WYBwAAQLZiGIb8ilfQvA4D9X3r\n",
              "51UnNeq/OBAln/AQvb91ka4+IOoBZG7EPAAAALIlwzDUpHhFze8wULNaP6/aBUsqNilB0w9EyTss\n",
              "RB9sXaxrD+6aPRMA/hAxDwAAgGzNMAw1LV5RCzq8ou9aPSfPAilRP+3ABnmHB+uDbUuIegCZDjEP\n",
              "AAAAKCXqm5WopIUdX9G3LfupVoESepCYoGn718s7PFgfblui67FEPYDMgZgHAAAAfsMwDLUoWVmL\n",
              "Or76SNRP3b9e3mEh+mj7Ut2IvWf2TADZHDEPAAAA/IHfRv03LZ9VzfzFdT8xXp/ti5RXWLA+3r6M\n",
              "qAdgGmIeAAAA+BOGYahlySpa3Ok1fd2ir2qkRv2UfevkHRasT3Ys002iHkAGI+YBAACAx2AYhlqV\n",
              "qqolnV7TVy36qnq+YrqXGK/Je9fJKyxYwTuW62bcfbNnAsgmiHkAAADgCRiGodalqmpp50H6svkz\n",
              "qpqvqO4lxmvS3rXyDgtWCFEPIAMQ8wAAAMDfYBiG2paupmWdB+mL5n1UJW8R3U2I06d718onLFhj\n",
              "dq7QLaIeQDoh5gEAAIB/wGJY1K50dS3vMljTm/VR5bxFdCchThP3rJF3WLDG7lqp23EPzJ4JIIsh\n",
              "5gEAAIA0YDEsal+mulZ0GaxpzXqrUp7CupMQpwm7V8s7PFjjiHoAaYiYBwAAANKQxbCoQ5kaWtl1\n",
              "iKY2fVqV8hRWTHysxqdGfeiuVYqJjzV7JgA7R8wDAAAA6cBiWNSxbE2t7DpEnzd9WhXzFFJMfKxC\n",
              "d6+Sd9gnmrB7NVEP4G8j5gEAAIB0ZDEs6lS2plZ1HarPmjylCu6FdDs+VmN3rZR3WLAm7l6tO0Q9\n",
              "gCdEzAMAAAAZwGJY1NmjllZ1HaopTZ5SefeCuh3/QGN2rZRXWLA+3bOGqAfw2Ih5AAAAIANZLRZ1\n",
              "8ail1V2HaXKTXiqXGvUhO1fIOzxEk/as1d2EOLNnAsjkiHkAAADABFaLRV09PLWm6zB96tdTHm4F\n",
              "dCvuvoJ3LpdXWLAm7yXqAfxvxDwAAABgIqvFou7lamttt+Ga6NdTZVOj/pMdy+UdFqwpe9fpHlEP\n",
              "4P8h5gEAAIBMwGqxyL9cba3tNkwTGvdQGdf8uhl3Xx/vWCbvsBB9ti9S9xPizZ4JIJMg5gEAAIBM\n",
              "xMFiVUD5OlrXfbgmNA5UGdf8uhF3Tx9tXyrv8GB9TtQDEDEPAAAAZEopUV9X67oP13jfQJV2za/r\n",
              "sff0n9Son7pvPVEPZGPEPAAAAJCJOVisCqyQEvXjfANU2jWfrsfe04fbl8gnPETT9q/Xg0SiHshu\n",
              "iHkAAADADjharOpZoZ7WdR+hsY38VSp3Pl2LvasPtqVE/RcHNhD1QDZCzAMAAAB2xNFiVa+K9RXp\n",
              "P0JjGvmrZO68uvrgrt7buliNwsfoywNRepCYYPZMAOmMmAcAAADskKPFqqcq1ldk9xEKadRdJXLn\n",
              "0ZUHd/Tu1kVqFB5C1ANZHDEPAAAA2DEnq4OerthA67uP1Cc+3VQ813+j3jc8RDMOblQsUQ9kOcQ8\n",
              "AAAAkAU4WR3Up1JDbfAfqU+8u6lYLnddfnBH72xZqEYRY/T1wU1EPZCFEPMAAABAFuJkdVCfyg21\n",
              "wX+UPvbuqqI53XX5foze2rJAvhFj9M2haKIeyAKIeQAAACALcrY66JnKXooKGKWPUqP+0v0Yvbl5\n",
              "vnwjxujbQ9GKS0o0eyaAv4mYBwAAALIwZ6uD+qZG/YdeXVQkp5su3Y/RvzfPl2/4GM08vJmoB+wQ\n",
              "MQ8AAABkA85WB/Wr4q0o/1H6oGFnFc7ppov3b+tf0fPUOGKMZh3eoniiHrAbxDwAAACQjbg4OOq5\n",
              "qj7a6D9K7zfspMI5XHXh3m29Hj1XjSPGatYRoh6wB8Q8AAAAkA25ODjq+aqNFBUQpPcadlKhHK46\n",
              "f++WXt80V35zxur7I1uVkJxk9kwA/4NpMR8XF6fXXntNFSpUUI0aNdSnTx+zpgAAAADZVg4HR/Wv\n",
              "2kgbA4L0boOOKpTDVb/cvaXRm+bIL2KsfjhK1AOZkYNZn/j111+XYRg6evSoDMPQpUuXzJoCAAAA\n",
              "ZHs5HBz1QjVf9a7UULOObNZn+yJ17u5NBW2co0l71mpwreYKKF9Hjhar2VMBSDJsNpstoz/pvXv3\n",
              "VLRoUf3yyy9yc3N74tcPHz5coaGh6bAMAAAAgCQ9SIzXd4e36LN9kboWe1eSVNo1nwbXaq7u5WoT\n",
              "9YDJTLnN/sSJE8qXL58++ugj1atXT40bN9bq1av/8Ni4uDjFxMQ88khK4jYfAAAAID3lcHDSgOqN\n",
              "FR0YpLfqt1d+l1w6c+eGRkSFq+mcUP18bLsSuf0eMI0pMZ+YmKgzZ86oatWq2r59uz799FP17NlT\n",
              "ly9f/t2xH3/8sdzd3R95bN261YTVAAAAQPaTw8FJL1X3U3TAaL1Z79eov67hUeFqMidUYcd2EPWA\n",
              "CUy5zf7atWsqXLiw4uPjZbWm3J5Tv359ffzxx2rZsuUjx8bFxSkuLu6R59566y1NnDgxw/YCAAAA\n",
              "SHE/IV7fHI7W1H3rdSPuniSpjGt+DfVsrq4ennLg9nsgQ5hyZb5AgQJq0aKFli9fLkk6deqUTp06\n",
              "pSpVqvzuWGdnZ7m5uT3y+PUfAAAAAABkrJyOTnqlRhNFBwbpjbptldc5p07fua6hG8LUbO54RZzY\n",
              "paTkZLNnAlmeKVfmJenkyZPq37+/rl27JovForffflv+/v6P9VreAA8AAADIHO4lxOnrQ9Gatn+9\n",
              "bsbdlyR5uBXQUM8W6lK2lqwW074bNpClmRbz/wQxDwAAAGQudxPi9M2hTZq6f4NupUZ9OfeCGlqr\n",
              "hTqXrUnUA2mM/6IAAAAA/GO5HZ31Ws1mig4I0ug6beTulEMnbl/VoPU/qsW88Zp3cje33wNpiJgH\n",
              "AAAAkGZcnVw0qFYzbQ4crVG1W8ndyUXHb1/Va5E/quW8CZp/cg9RD6QBYh4AAABAmnN1ctEQzxaK\n",
              "DnxdI1Oj/tjtK3o1crZazZ+ghaf2KtlG1AN/FzEPAAAAIN24ObloaGrUj6jdUm5OLjp664oGrvtB\n",
              "reZN1CKiHvhbiHkAAAAA6c7NyUXDPFsqOmC0hnumRP2RW5f18q9Rf3ofUQ88AWIeAAAAQIZxd86h\n",
              "4bVTon6YZwu5OjqnRP3a79V6/qdaTNQDj4WYBwAAAJDh3J1zaETtVooOHK0htZort6OzDt+8pJfW\n",
              "fq828z/VktP7iXrgTxDzAAAAAEyTxzmnRtVp/UjUH7p5SQPWzlLbBZO07MwB2Ww2s2cCmQ4xDwAA\n",
              "AMB0eX8T9YNrNlMuBycdvHFRL6z5Tm0XfKrlRD3wCGIeAAAAQKaR1zmnguq20ebA0RqUGvUHblxU\n",
              "/zXfqd2CSVpx9iBRD4iYBwAAAJAJ5XXJpdF12yg6cLRerdFUOR2ctP/GBT2/eqbaL5yslUQ9sjli\n",
              "HgAAAECmlc8ll96o11abA0frlRpNlNPBSfuun9dzq2eq46IpWn3uMFGPbImYBwAAAJDp5XPJpX/V\n",
              "a6fowCANrN5EORwctefaL3p21TdEPbIlYh4AAACA3cjvklv/rt9OmwNH6+Xqfo9EfadFn2nNL0eI\n",
              "emQLxDwAAAAAu5PfJbferN9e0QGj9VJ1P7lYHbX72jn1Xfm1Oi/+TGuJemRxxDwAAAAAu1UgR269\n",
              "Vb+9ogODNKCar1ysjtp19ZyeWfm1uiz+XOvOHyXqkSUR8wAAAADsXsEcrnq7QUdtCgjSi9V85Wx1\n",
              "0M6rZ9VnxVfquvhzrT9/jKhHlkLMAwAAAMgyCuV01TsNOio6YLReqNpIzlYH7bh6Vk+vmKHuS6Zq\n",
              "wwWiHlkDMQ8AAAAgyymU01XvNuykTQFB6p8a9duunNFTy2fIf+k0RV04TtTDrhHzAAAAALKswjnd\n",
              "9F7DTtoYEKTnq/jI2eqgrZdPq9fyLxWwdJo2EvWwU8Q8AAAAgCyvSE43ve/VWVH+o9SvirecLFZt\n",
              "uXxaPZd/qYCl07Xp4gmzJwJPhJgHAAAAkG0UzeWuD726KCogSM9W/jXqT6nHsi8UsHSaoi+dNHsi\n",
              "8FiIeQAAAADZTrFc7vqP969R7yUni1WbL51S4NLp6rF0ujYT9cjkiHkAAAAA2VZK1HdVlP8o9a3s\n",
              "JUeLVZsunVTA0unquewLbbl0yuyJwB8i5gEAAABke8Vy59FHqVHfp1JDOVqs2njxhPyXTlOvZV9q\n",
              "2+XTZk8EHkHMAwAAAECq4rnz6BOfbtrgP1K9KzaQg2FR1MXj6rZkqp5a/qW2Xz5j9kRAEjEPAAAA\n",
              "AL9TIndeBTfqrg3+I/V0atRvuHBcXZd8rt7LZ2jHFaIe5iLmAQAAAOB/KOmaTyGNumu9/0g9VbG+\n",
              "HAyLIi8cU5fFn6v3iq+048pZsycimyLmAQAAAOAvlHLNpzGN/BXpP0K9KtST1bAo8vxRdVn8mfqs\n",
              "+Eo7rxL1yFjEPAAAAAA8ptKu+TXWN0Dr/UeoZ4W6shoWrTt/VJ0XfaZnVnytXVfPmT0R2QQxDwAA\n",
              "AABPqLRrfo3zDVRk9xHqUT4l6teeP6JOi6ao78qvtZuoRzoj5gEAAADgbyrjll+hjQO1rvtwBZav\n",
              "I4thaM0vR9Rx0RT1W/WN9lz7xeyJyKKIeQAAAAD4h8q6FdD4xj20rtsIBZRLifpV5w6rw8LJem7V\n",
              "t9pL1CONEfMAAAAAkEY83Atogl8Pres2XP7lastiGFp57pDaL5ys51d9q/3Xz5s9EVkEMQ8AAAAA\n",
              "aczDvaAm+vXU2m7D1c3DUxbD0Ipzh9R2wST1Xz1TB65fMHsi7BwxDwAAAADppJx7QU1q0ktrug5T\n",
              "Vw9PGTK0/OxBtVnwqfqvnqmDN4h6/D3EPAAAAACks/J5Cmlyk15a022YunjUehj1red/qhfXfKeD\n",
              "Ny6aPRF2hpgHAAAAgAxSIU8hTWnylFZ3G6ouZVOifumZA2o9f6IGrJmlQzcumT0RdoKYBwAAAIAM\n",
              "VjFPYU1p+pRWdR2qTmVqypChJWf2q9X8CXpp7fc6fJOox58j5gEAAADAJJXyFtbnzZ7Wyq5D1LFM\n",
              "DUnS4tP71HLeBL289nsduXnZ5IXIrIh5AAAAADBZ5bxFNLVZb63sMlQdUqN+UWrUv7LuBx29RdTj\n",
              "UcQ8AAAAAGQSVfIV0bRmvbWiyxC1L11dNtm04NRetZg7Qa+um03U4yFiHgAAAAAymar5imp68z5a\n",
              "0WWw2pWuJptsmn9qT0rUR87WsVtXzJ4IkxHzAAAAAJBJVc1XTF80f0bLOw9Wm1JVU6L+5B41nzte\n",
              "r0X+qBO3r5o9ESYh5gEAAAAgk6uWv5hmtOirZZ0HPYz6eSd3q9ncUA2K/FEnifpsh5gHAAAAADtR\n",
              "PX9xzWjRV0s7DVLrklWUbLNp7sndajo3VEPW/0TUZyPEPAAAAADYmRoFiuurls9qSafX1Co16iNO\n",
              "7FLTuaEauv5nnbx9zeyJSGfEPAAAAADYqZoFSujrls9qcafX1LJkZSXbbAo/sVPN5oZq2IafdSqG\n",
              "qM+qiHkAAAAAsHO1CpTQNy37aVHHV9W8RCUl2ZIVdnynms4J1fANYTodc93siUhjxDwAAAAAZBGe\n",
              "BUtqZqvntLDjq2pWPCXqfz6+Q03mjNOIqDCduUPUZxXEPAAAAABkMbULltR3rZ/T/A6vqGnxikqy\n",
              "JeunYzvUJGKcRkaF6+ydG2ZPxD9EzAMAAABAFlW3UCnNav285ncYqCbFKyrRlqwfj22XX8RYjdoY\n",
              "oXNEvd0i5gEAAAAgi6tbqLS+b/285rUfKL9iFZRoS9bso9vUOGKsgjbO0S93b5o9EU+ImAcAAACA\n",
              "bKJe4dL6oU1/zW3/shoXK69EW7J+OLpVjSPGavTGOTp/95bZE/GYiHkAAAAAyGbqFy6j2W1e0Jz2\n",
              "L8u3aHklJCfp+6Nb5RsxRm9smkvU2wFiHgAAAACyqQaFy+jHti8oot1LalS0nBKSk/TdkS3yjRij\n",
              "f0XP0wWiPtMi5gEAAAAgm2tYpKx+avuiwtoNkE8RDyUkJ2nm4c3yjRijf0fP04V7t82eiP+HmAcA\n",
              "AAAASJK8i3jo53YD9HPbF+VVpKzik5P07eHN8g0P0b+j5+siUZ9pEPMAAAAAgEf4FC2n8HYv6ae2\n",
              "L6ph4TKpUR+tRuEhenPzfF26H2P2xGzPwewBAAAAAIDMqVHRcvIp4qFNF09o3O5V2nr5tL45FK3Z\n",
              "R7epd8UGeqVmUxXJ6Wb2zGyJK/MAAAAAgP/JMAw1KlZeEe1e0o9tXlD9QqUVl5Sorw5tUqPwEL2z\n",
              "ZaEuc6U+wxHzAAAAAIC/ZBiGfIuV15z2L2t2m/6qlxr1Mw5ulE94iN7dslBX7t8xe2a2QcwDAAAA\n",
              "AB6bYRhqXKyC5rZ/WT+07q+6BUspLilRXx7cKO/wYL23dRFRnwGIeQAAAADAEzMMQ37FK2heh4Ga\n",
              "1fp51S5YUnFJifriQJR8wkP0/tZFuvqAqE8vxDwAAAAA4G8zDENNi1fUgg6v6LtWz8mzQEnFJiVo\n",
              "+oEoeYeF6INtS3TtwV2zZ2Y5xDwAAAAA4B8zDEPNSlTSwo6vaGar51SrQAnFJiVo2v718g4P1ofb\n",
              "luh6LFGfVoh5AAAAAECaMQxDzUtU0qKOr+rblv1Uq0AJPUhM0NT96+UVFqz/bFtK1KcBYh4AAAAA\n",
              "kOYMw1CLkpW1qOOr+qbls6qZv7geJCbo8/2R8g4L0Ufbl+pG7D2zZ9otYh4AAAAAkG4Mw1DLklW0\n",
              "uNNr+rpFX9XIX1z3E+P12b5IeYcF65Mdy3STqH9ixDwAAAAAIN0ZhqFWpapqSafX9FWLvqqer5ju\n",
              "JcZr8t518goLVvCO5UT9EyDmAQAAAAAZxjAMtS5VVUs7D9KM5s+oWr6iupcYr0l718o7PEQhO5br\n",
              "Ztx9s2dmesQ8AAAAACDDGYahNqWraVnnwfqy+TOqmq+o7ibE6dO9a+UdFqwxO1foFlH/PxHzAAAA\n",
              "AADTGIahtqWraVnnQZrerI+q5C2iuwlxmrhnDVH/J4h5AAAAAIDpLIZF7ctU1/IugzWtWW9VylNY\n",
              "d1Kj3ic8RON2rdTtuAdmz8w0iHkAAAAAQKZhMSzqUKaGVnYdoqmpUR8TH6vxu1fLOzxYobtWKSY+\n",
              "1uyZpiPmAQAAAACZjsWwqOOvUd/06YdRH7p7lbzDPtH43dk76ol5AAAAAECmZTEs6li2plZ2HaLP\n",
              "mz6tinkK6XZ8rMbtSon6CbtX6042jHpiHgAAAACQ6VkMizqVramVXYZqSpOnVME9JerH7lopr7Bg\n",
              "TcxmUU/MAwAAAADshtViURePWlrVdagmN+ml8u4FdTv+gcbsWinv8BBN2rNWdxPizJ6Z7kyL+TJl\n",
              "yqhSpUry9PSUp6enfvrpJ7OmAAAAAADsjNViUVcPT63uOkyT/HqpnHtB3Yq7r+Cdy+UVFqzJe7N2\n",
              "1DuY+cl/+ukneXp6mjkBAAAAAGDHrBaLupXzVOeyNTX/1B5N2L1aJ2Ou6ZMdyzVt/wa9VN1Pz1Xx\n",
              "Vi5HZ7OnpqlMf5t9XFycYmJiHnkkJSWZPQsAAAAAkIlYLRZ1L1dba7oN04TGPVTWrYBuxt3XJzuW\n",
              "ySssWKvPHTZ7YpoyNeb79u2rGjVqqH///rp69eofHvPxxx/L3d39kcfWrVszeCkAAAAAwB44WKwK\n",
              "KF9Ha7sN04TGgSrjml8x8bHycC9g9rQ0ZdhsNpsZn/js2bMqVaqUEhIS9Oabb2rfvn1asmTJ746L\n",
              "i4tTXNyjX+fw1ltvaeLEiRk1FQAAAABgpxKTk7Tz6jk1KFzG7ClpyrSvmS9VqpQkydHRUUOHDlXF\n",
              "ihX/8DhnZ2c5Oz/6tQ1WqzXd9wEAAAAA7J+DxZrlQl4y6Tb7e/fu6datWw9/Pnv2bNWuXduMKQAA\n",
              "AAAA2B1TrsxfvnxZ/v7+SkpKks1mk4eHh2bOnGnGFAAAAAAA7I4pMe/h4aFdu3aZ8akBAAAAALB7\n",
              "mf5b0wEAAAAAgEcR8wAAAAAA2BliHgAAAAAAO0PMAwAAAABgZ4h5AAAAAADsDDEPAAAAAICdIeYB\n",
              "AAAAALAzxDwAAAAAAHaGmAcAAAAAwM4Q8wAAAAAA2BliHgAAAAAAO0PMAwAAAABgZ4h5AAAAAADs\n",
              "DDEPAAAAAICdIeYBAAAAALAzxDwAAAAAAHbGsNlsNrNHPKnu3burTJkyZs94LElJSdq6dasaNGgg\n",
              "q9Vq9hzgsXDewt5wzsIecd7CHnHewh7Z43lbunRpDRky5E+PscuYtycxMTFyd3fX7du35ebmZvYc\n",
              "4LFw3sLecM7CHnHewh5x3sIeZdXzltvsAQAAAACwM8Q8AAAAAAB2hpgHAAAAAMDOEPPpzNnZWe+8\n",
              "846cnZ3NngI8Ns5b2BvOWdgjzlvYI85b2KOset7yBngAAAAAANgZrswDAAAAAGBniHkAAAAAAOwM\n",
              "MQ8AAAAAgJ0h5tPIsWPH5OPjo4oVK6p+/fo6cODAHx43Y8YMVahQQeXKldOLL76ohISEDF4KpHic\n",
              "c3bNmjVq0KCBqlatqmrVqikoKEjJyckmrAVSPO6ftZJks9nUvHlz5cmTJ+MGAn/gcc/bffv2qWnT\n",
              "pqpSpYqqVKmiOXPmZPBS4L8e57xNTk7W8OHDVbVqVdWsWVPNmjXT8ePHTVgLpBg8eLDKlCkjwzC0\n",
              "e/fu/3lclmkyG9JEs2bNbF9//bXNZrPZwsLCbPXq1fvdMSdPnrQVLVrUdvHiRVtycrKtU6dOtsmT\n",
              "J2fwUiDF45yzO3futJ04ccJms9lsDx48sDVq1OjhawAzPM55+6tx48bZXnjhBZu7u3vGjAP+h8c5\n",
              "b+/du2crW7asbcOGDTabzWZLTEy0XblyJSNnAo94nPN27ty5tgYNGtji4+NtNpvN9sEHH9gCAwMz\n",
              "cibwiMjISNu5c+dspUuXtu3atesPj8lKTcaV+TRw5coVbd++XX369JEk+fv769y5c7/7l8nw8HB1\n",
              "7txZRYoUkWEYevnllzV79mwzJiObe9xztnbt2vLw8JAkubi4yNPTU6dPn87ouYCkxz9vJenAgQOa\n",
              "N2+eXn/99YyeCTzicc/bH374QV5eXvL19ZUkWa1WFSxYMMP3AtLjn7eGYSguLk6xsbGy2WyKiYlR\n",
              "iRIlzJgMSJL8/Pz+8hzMSk1GzKeBc+fOqWjRonJwcJCU8gdbqVKldPbs2UeOO3v2rEqXLv3w52XK\n",
              "lPndMUBGeNxz9rcuXbqk8PBwdezYMaNmAo943PM2ISFBL774oqZNmyar1WrGVOChxz1vDx48KGdn\n",
              "Z3Xs2FGenp7q27evrl69asZk4LHP206dOqlp06YqUqSIihYtqtWrV+v99983YzLw2LJSkxHzAP5S\n",
              "TEyMOnXqpKCgINWrV8/sOcCfeu+999S9e3dVqVLF7CnAY0tMTNSqVas0bdo07dq1S8WLF9fAgQPN\n",
              "ngX8qe3bt2v//v06f/68Lly4oBYtWujll182exaQbRDzaaBkyZK6ePGiEhMTJaW86dLZs2dVqlSp\n",
              "R44rVaqUzpw58/Dnp0+f/t0xQEZ43HNWku7cuaO2bduqS5cuGj58eEZPBR563PM2MjJSkyZNUpky\n",
              "ZeTr66uYmBiVKVOGq5wwxZP8P0KzZs1UvHhxGYahPn36aPPmzWZMBh77vJ05c+bDNxq1WCx69tln\n",
              "tXbtWjMmA48tKzUZMZ8GChUqpDp16mjWrFmSpIiICJUoUULly5d/5Dh/f38tWLBAly5dks1m09Sp\n",
              "U9WrVy8zJiObe9xz9u7du2rbtq3atm2rN99804ypwEOPe95u2LBBZ86c0enTpxUVFSU3NzedPn2a\n",
              "rz+GKR73vO3Ro4e2bdummJgYSdKSJUtUq1atDN8LSI9/3np4eGjNmjWKj4+XJC1atEjVq1fP8L3A\n",
              "k8hSTWbee+9lLYcPH7Z5eXnZKlSoYKtbt65t7969NpvNZuvfv79t/vz5D4+bPn26zcPDw+bh4WF7\n",
              "/vnnH777J5DRHuec/fDDD20ODg62WrVqPXx8+OGHZs5GNve4f9b+6tSpU7ybPUz3uOftzJkzbdWq\n",
              "VbPVqFHD1rZtW9vZs2fNmgw81nkbGxtre+GFF2yVK1e21ahRw9aqVauH3wUHMMOAAQNsxYsXt1mt\n",
              "VluhQoVs5cqVs9lsWbfJDJvNZjP7HxQAAAAAAMDj4zZ7AAAAAADsDDEPAAAAAICdIeYBAAAAALAz\n",
              "xDwAANmEp6en7ty588SvCwgI0DfffJP2gwAAwN/mYPYAAACQMXbv3m32BAAAkEa4Mg8AQDZhGIZu\n",
              "3bolSSpTpozefvtteXt7q2zZsvrwww8fHnf48GH5+PioWrVq6tq168PvfS5Jd+7c0YsvvqgGDRqo\n",
              "Zs2aGjBggOLj43XkyBGVKFFCJ0+elCSNHTtWbdu2VXJycob+HgEAyC6IeQAAsqlbt24pOjpa27Zt\n",
              "05gxY3T+/HlJ0jPPPKP+/fvrwIED+uCDDxQZGfnwNSNGjFDjxo21detW7dmzR8nJyZo4caIqVaqk\n",
              "MWPGqEePHlq3bp2mTJmi7777ThYL/6sBAEB64DZ7AACyqaefflqSVKBAAXl4eOjUqVNydXXV7t27\n",
              "1a9fP0lSjRo15Ovr+/A18+bNU3R0tEJDQyVJDx48kNVqlSQ99dRTWrt2rdq0aaPVq1erYMGCGfsb\n",
              "AgAgGyHmAQDIplxcXB7+2Gq1KjEx8Q+PMwzj4Y9tNpsiIiJUsWLF3x2XmJio/fv3K1++fA+v8gMA\n",
              "gPTBvW8AAOAhNzc31a5dWzNnzpQkHThwQFFRUQ8/3rVrVwUHBz8M/5s3b+r48eOSpNdff12VKlXS\n",
              "hg0bNHLkyIfPAwCAtEfMAwCAR8ycOVPTp09X9erV9eabb8rPz+/hx8aPH68cOXLI09NTNWvWVIsW\n",
              "LXT69GktWrRIy5Yt05QpU1S+fHmFhoaqR48eio2NNfF3AgBA1mXYbDab2SMAAAAAAMDj48o8AAAA\n",
              "AAB2hpgHAAAAAMDOEPMAAAAAANgZYh4AAAAAADtDzAMAAAAAYGeIeQAAAAAA7AwxDwAAAACAnSHm\n",
              "AQAAAACwM8Q8AAAAAAB2hpgHAAAAAMDO/B+MYwZy2p0+DwAAAABJRU5ErkJggg==\n",
              "\">\n",
              "      </div>\n",
              "      <script type=\"text/javascript\">\n",
              "        (() => {\n",
              "          const chartElement = document.getElementById(\"chart-e2989608-48f8-4a69-afb1-e9a3f83f6715\");\n",
              "          async function getCodeForChartHandler(event) {\n",
              "            const chartCodeResponse =  await google.colab.kernel.invokeFunction(\n",
              "                'getCodeForChart', [\"chart-e2989608-48f8-4a69-afb1-e9a3f83f6715\"], {});\n",
              "            const responseJson = chartCodeResponse.data['application/json'];\n",
              "            await google.colab.notebook.addCell(responseJson.code, 'code');\n",
              "          }\n",
              "          chartElement.onclick = getCodeForChartHandler;\n",
              "        })();\n",
              "      </script>\n",
              "      <style>\n",
              "        .colab-quickchart-chart-with-code  {\n",
              "            display: block;\n",
              "            float: left;\n",
              "            border: 1px solid transparent;\n",
              "        }\n",
              "\n",
              "        .colab-quickchart-chart-with-code:hover {\n",
              "            cursor: pointer;\n",
              "            border: 1px solid #aaa;\n",
              "        }\n",
              "      </style>"
            ]
          },
          "metadata": {}
        },
        {
          "output_type": "display_data",
          "data": {
            "text/plain": [
              "from matplotlib import pyplot as plt\n",
              "import seaborn as sns\n",
              "def _plot_series(series, series_name, series_index=0):\n",
              "  palette = list(sns.palettes.mpl_palette('Dark2'))\n",
              "  xs = series['index']\n",
              "  ys = series['b']\n",
              "  \n",
              "  plt.plot(xs, ys, label=series_name, color=palette[series_index % len(palette)])\n",
              "\n",
              "fig, ax = plt.subplots(figsize=(10, 5.2), layout='constrained')\n",
              "df_sorted = _df_9.sort_values('index', ascending=True)\n",
              "_plot_series(df_sorted, '')\n",
              "sns.despine(fig=fig, ax=ax)\n",
              "plt.xlabel('index')\n",
              "_ = plt.ylabel('b')"
            ],
            "text/html": [
              "      <div class=\"colab-quickchart-chart-with-code\" id=\"chart-f9e19bd1-db30-438f-afa2-2a71530197dc\">\n",
              "        <img style=\"width: 180px;\" src=\"data:image/png;base64,iVBORw0KGgoAAAANSUhEUgAAA/MAAAITCAYAAABLz0yVAAAAOXRFWHRTb2Z0d2FyZQBNYXRwbG90\n",
              "bGliIHZlcnNpb24zLjcuMSwgaHR0cHM6Ly9tYXRwbG90bGliLm9yZy/bCgiHAAAACXBIWXMAAA9h\n",
              "AAAPYQGoP6dpAABcwklEQVR4nO3dd1RUB+L28efO0EQBey+IvWONKGLvBRQwiSVNo6n2lt1kd7PJ\n",
              "xoCKPVFTTIzRJIBi7x3FGrF3xd4LWFFg3j9kfddfGibAZeD7Oeeekwx34HHPPWy+3mEwbDabTQAA\n",
              "AAAAwG5YzB4AAAAAAACeDTEPAAAAAICdIeYBAAAAALAzxDwAAAAAAHaGmAcAAAAAwM4Q8wAAAAAA\n",
              "2BliHgAAAAAAO0PMAwAAAABgZ+wy5idOnGj2BAAAAAAATGOXMX/69GmzJwAAAAAAYBq7jHkAAAAA\n",
              "AHIyYh4AAAAAADtDzAMAAAAAYGeIeQAAAAAA7AwxDwAAAACAnSHmAQAAAACwM8Q8AAAAAAB2hpgH\n",
              "AAAAAMDOEPMAAAAAANgZYh4AAAAAADtDzAMAAAAAYGeIeQAAAAAA7AwxDwAAAACAnSHmAQAAAACw\n",
              "M8Q8AAAAAAB2hpgHAAAAAMDOEPMAAAAAANiZDIv5Bw8eKCAgQBUrVlStWrXUunVrHT9+XJJ05coV\n",
              "tWvXThUqVFD16tW1cePGjJoBAAAAAEC2k6F35vv166cjR45oz5498vf3V9++fSVJo0aNUsOGDXXs\n",
              "2DHNnDlTPXr00KNHjzJyimniE++bPQEAAAAAkM1kWMy7uLioQ4cOMgxDktSwYUPFxcVJkn766Se9\n",
              "8cYbkqT69eurePHi2rBhw69+nsTERCUkJDx1JCcnZ9TsdBWXcF11f/xEo7bM1/k7t8yeAwAAAADI\n",
              "JjLtZ+YnTpwof39/Xb9+XY8ePVLRokWffMzT01Nnzpz51eeNHj1aHh4eTx3bt2/PrNl/ybLT+/Ug\n",
              "+ZFmH9km38gxem/LfF0g6gEAAAAAf1GmxPwnn3yi48ePa/To0c/83Pfee0/x8fFPHQ0aNMiAlenv\n",
              "zRpNFdm+vxoXK6dHKcn67sg2NY4co7/FROnC3Xiz5wEAAAAA7FSGx/zYsWM1b948LVu2TK6uripQ\n",
              "oIAcHBx06dKlJ+fExcWpdOnSv/p8Z2dnubu7P3VYrdaMnp1unitaVj+2e13h7fupUVEvPUpJ1qzD\n",
              "W+UbEaq/xywg6gEAAAAAzyxDYz4sLExz587VqlWrlDdv3iePBwcHa9q0aZKkHTt26Pz582ratGlG\n",
              "TjGdT1Ev/dS+n35q97oaFi2rhynJ+vZwjHwjQvX+1gW6SNQDAAAAANLIsNlstoz4xOfOnVOpUqXk\n",
              "5eUlNzc3SY/vsm/btk2XL19W7969derUKTk5OWnKlClq3rx5mj/3kCFDFBYWlhGzM83miycUtnuV\n",
              "tl2OkyQ5Wx3Uo2IDvV2zmYq6ups7DgAAAACQpWVYzGek7BDzkmSz2bTl4gmNi12t7f8T9T1To74I\n",
              "UQ8AAAAA+BWZ9m72+CXDMNS4eHlFtu+vH9r2Vf3CZZSYnKSvD21Ro4hQ/WvbIl2+l2D2TAAAAABA\n",
              "FkPMZwGGYci3eHnN6/CG5rbto3qpUf/lwc1qFBGqD7cv1pV7t82eCQAAAADIIoj5LMQwDDUpXkHz\n",
              "O7yh79u8pjqFSisxOUlfHIhWo4hQ/Xv7Yl29T9QDAAAAQE5HzGdBhmGoaYmKWtDxTc1u85pqFyql\n",
              "B8mPNONAtHzCQ/XR9iW6dv+O2TMBAAAAACYh5rMwwzDUrERFLez4lr5r/aq8Cz6O+ukHNsknIkQf\n",
              "7VhK1AMAAABADkTM2wHDMNS8ZCUt6vSWZrV+VbUKltT9pEeavn+jfCJC9J8dy3T9AVEPAAAAADkF\n",
              "MW9HDMNQi5KVtLjT2/q21StPov7z/RvkEx6qT3Yu040Hd82eCQAAAADIYMS8HTIMQy1LVdbiTm/r\n",
              "m1Yvq2aBErqX9FCf7dughuEhGr1zOVEPAAAAANkYMW/HDMNQq1JVtKTzO5rZ8iXVSI36qfvWyyc8\n",
              "RJ/uWq6bRD0AAAAAZDvEfDZgGIZal66qpZ3f0dctX1L1/MV1N+mhpuxdL5+IUIXuWqGbiffMngkA\n",
              "AAAASCfEfDZiGIbalK6qZV3e1Zcteqtq/mK68yhRk/auk094iMb8vFK3iHoAAAAAsHvEfDZkGIba\n",
              "lamm5V3e1RcteqlKvqK68yhRE/esJeoBAAAAIBsg5rMxi2FR+zLVtcJ/gGY076XK+Yrq9v9E/djd\n",
              "qxSfeN/smQAAAACAZ0TM5wAWw6IOntW10n+ApjfvqUp5i+j2o0RNiF0jn4gQhe1eTdQDAAAAgB0h\n",
              "5nMQi2FRR88aWhUwUNOa9VClvEWU8PCBwmJXq1FEiMbHrlbCwwdmzwQAAAAA/AFiPgeyGBZ1KltT\n",
              "qwIG6vNmPVQxb2HFP3ygcbtXyyf8U02IXaPbRD0AAAAAZFnEfA5mMSzqXLamVvkP0mdNX1QFj8dR\n",
              "P3b3KjUMD9FEoh4AAAAAsiRiHrJaLOriVUurAwZpatMXVd6jkOIf3teY3avkExGqyXvW6c6jRLNn\n",
              "AgAAAABSEfN4wmqxyN+rltYEDNZkvxdUzqOQbiXeU8jPK9QwPERT9hL1AAAAAJAVEPP4BavFoq7l\n",
              "vLU2YLAm+T0vL/eCupV4T5/uWiGf8BBN2bted4l6AAAAADANMY/fZLVY1K1cba3tOlgT/Z5XWfeC\n",
              "upl4T5/uWq6G4SGaStQDAAAAgCmIefwhB4tVgeVqa13XwZrQpLs83QroZuI9jd61XD7hofp83wbd\n",
              "e/TQ7JkAAAAAkGMQ80gzB4tVQeXraH23IRrvG6wybgV0I/Gu/rNzmXwiQjRt30aiHgAAAAAyATGP\n",
              "Z+ZgsSq4Ql1t6DZEYb5BKuOWX9cf3NXHO5eqUUSopu/fqPtJRD0AAAAAZBRiHn+ag8Wq7hXqaX23\n",
              "oRrnG6TSefLr2oM7+mjHUvmEh2rG/k1EPQAAAABkAGIef5mjxarnK9TThsChGts4UKXy5NO1B3f0\n",
              "7x1L1DhijL48EK37SY/MngkAAAAA2QYxj3TjaLHqhYr1tTFwmEIbd1PJPHl15f5t/Wv7YjWOCCXq\n",
              "AQAAACCdEPNId44Wq3pUbKCN3YYppFE3lcj9/6PeNyJUXx3crAdEPQAAAAD8acQ8MoyT1UE9KzXQ\n",
              "psBh+rRRV5XInVeX79/WP7ctUuPIMfqaqAcAAACAP4WYR4ZzsjqoV6XnHke9T1cVz+2hy/cS9I9t\n",
              "i+QbOUbfHIoh6gEAAADgGRDzyDROVgf1qvycNgUO1yc+ASrm6qFL9xL0/tYF8o0co28PxSgxOcns\n",
              "mQAAAACQ5RHzyHTOVge9VLmhooOG6z8N/VXU1V2X7iXo71sXyDdijGYd3krUAwAAAMDvIOZhGmer\n",
              "g16u4qPowOH6uKG/iri66+K9eP0tJkpNIsdo9uFtekjUAwAAAMAvEPMwnYuDo16p4qPNgcP17+c6\n",
              "q0guN124G69RMfPVJHKsZh8h6gEAAADgfxHzyDJcHBz1WtXG2hw0Qh+mRv35u7c0ast8+c0bq++P\n",
              "bNejlGSzZwIAAACA6Yh5ZDkuDo7qU7WxooNG6F8NOqlwLjedu3NLI7fMk1/kWM05StQDAAAAyNmI\n",
              "eWRZuRwc1bearzanRn2hXHl09s5Njdg8T00jx+mHozuIegAAAAA5EjGPLO+/Ub8laIT+Ub+jCrrk\n",
              "0Zk7NzRsc6SazRunH4/tJOoBAAAA5CjEPOxGLgcn9aveRDHBI/RB/Q4q6JJHp2/f0NDoCDWbF6af\n",
              "ju1UElEPAAAAIAcg5mF3cjk4qX91P20JGqH363VQAZfcOn37uoZER6jpvDCFH9tF1AMAAADI1oh5\n",
              "2C1XRye9UcNPMUEj9fd67ZXf+XHUD44OV/P54xVx/GeiHgAAAEC2RMzD7rk6OunNGk0VEzxC79Vt\n",
              "p3zOrjqVcE2DNv2kFvPHK/LEbiWnpJg9EwAAAADSDTGPbCO3o7PertlMW4NHalRq1J9MuKaBG39U\n",
              "8/lhmkfUAwAAAMgmiHlkO7kdnfVOzWaKCR6pUXXbKm9q1A/Y+KNaRI3X/BOxRD0AAAAAu0bMI9vK\n",
              "4+isd2o2V0zQCI2s01YeTrl0Iv6q3t34g1pFTdCCk3uIegAAAAB2iZhHtufm5KJ3azXX1uCRGl67\n",
              "tTycXHQs/ore3jBXrRdM0MKTe5RiI+oBAAAA2A9iHjmGm5OLBnq3VEzwKA1Ljfqjt67orQ1z1Spq\n",
              "ghad2kvUAwAAALALxDxyHHcnFw1KjfqhtVvJPTXq31w/R62jJmoxUQ8AAAAgiyPmkWO5O7losHcr\n",
              "xQSN1BDvx1F/5NZlvbF+jtosmKQlcfuIegAAAABZEjGPHM/DOZeG1H4c9YO8W8rN0VmHb15S/3Xf\n",
              "q+2CSVoat5+oBwAAAJClEPNAKg/nXBpWu7VigkdqYK0WyuPorEM3L6nfutlqt3Cylp3eL5vNZvZM\n",
              "AAAAACDmgf8rr7Orhtdp81TUH7xxUa+vna12Cydp+ekDRD0AAAAAUxHzwG/I99+oDxqhATWbK7eD\n",
              "kw7cuKi+a79T+4WTtfLMQaIeAAAAgCmIeeAP5HPJrRF122pr8Ei9U7OZcjs4af+NC3ptzSx1WDRF\n",
              "q4h6AAAAAJmMmAfSKJ9Lbo2q204xwSP1do1mcnVw0r7r5/XqmlnquGiKVp89RNQDAAAAyBTEPPCM\n",
              "8rvk1nv12mlr8Ei9VaOpXB2ctPf6eb2y+lt1WjxVa84eJuoBAAAAZChiHviT8rvk1t/qtVdM8Ai9\n",
              "Wb2pcjk4as+1c3p59TfqvPgzrT13hKgHAAAAkCGIeeAvKuCSR3+v314xQSPVv7qfXKyOir12Vi+t\n",
              "mqkuSz7TOqIeAAAAQDoj5oF0UjBXHn1Qv4Nigkeof7UmcrE6avfVs+q9aqb8l3yu9eePEvUAAAAA\n",
              "0gUxD6SzQrnc9EGDjooJHqF+1XzlbHXQz1fPqNfKrxWw5HNtIOoBAAAA/EXEPJBBCuVy0z8adFJM\n",
              "0Ei9nhr1u66eUc+VX6vr0mnadOEYUQ8AAADgTyHmgQxW2NVN/2zQSVuCRqhP1cZytjpo55XTenHF\n",
              "VwpcNl3RF44T9QAAAACeCTEPZJIiru768LnO2hw0Qq9VaSRnq4O2X47TCyu+VNCy6dpM1AMAAABI\n",
              "I2IeyGRFXd3174ZdtDlohF5Njfptl+P0/IovFbRshrZcPGH2RAAAAABZHDEPmKSoq7s+athF0YHD\n",
              "9UoVHzlZrNp2+ZS6L/9CQcumK+bSSbMnAgAAAMiiiHnAZMVye+jjhv6KDhqhlys/jvqtl04peNkM\n",
              "dV82Q1uJegAAAAD/BzEPZBHFc3voPz7+ig4crpcqN5Sjxaotl04qaNkMPb/8C227dMrsiQAAAACy\n",
              "CGIeyGKK58mrT3wCFB04XL0rPSdHi1WbL55Q4LLpemH5l9pxOc7siQAAAABMRswDWVSJPHk1ulFX\n",
              "bQocpl6pUR998bi6Lp2mF1d8qZ2XT5s9EQAAAIBJiHkgiyuZJ58+TY36nhUbyMGwaNOF4wpY+rl6\n",
              "rvhKu64Q9QAAAEBOQ8wDdqJknnwKadxNmwKH6cWK9eVgWLThwjH5L/lcPVd+rV1Xzpg9EQAAAEAm\n",
              "IeYBO1PKLb/GNA7UxsBheqFCPVkNizacPyr/JZ+p18qv9fNVoh4AAADI7oh5wE6Vdsuvsb5B2hg4\n",
              "VM+nRv3680fVZfFn6r1ypnZfPWv2RAAAAAAZhJgH7FwZtwIa5xukDd2G6vkKdWU1LFp3/og6L56q\n",
              "l1d9o1iiHgAAAMh2iHkgm/B0L6BxvsFa322IgsvXkcUwtObcYXVaPFWvrP5Ge6+dM3siAAAAgHRC\n",
              "zAPZTFn3ghrfpLvWdx2qoHKPo3712cPqsGiKXl39rfZdO2/2RAAAAAB/ETEPZFNeHgU1wa+71ncd\n",
              "osBytWUxDK06e0jtF03Wa6u/1f7rRD0AAABgr4h5IJvz8iikiX7Pa13XIeqWGvUrzx5Su4WT1WfN\n",
              "LB24fsHsiQAAAACeUYbG/IABA+Tp6SnDMBQbG/vk8aVLl6pOnTry9vZW9erV9e2332bkDACSynkU\n",
              "0iS/57U2YLACvLxlyNCKMwfVduEk9V3znQ7eIOoBAAAAe2HYbDZbRn3yjRs3ysvLS76+voqKipK3\n",
              "t7dsNpsKFCig9evXq2bNmoqLi1PlypV19epVubm5penzDhkyRGFhYRk1G8gRjt26ogl71mjhyb2y\n",
              "6fG3gfZlqmmwdytVzV/M5HUAAAAAfk+G3pn38/NTyZIlf/G4YRi6deuWJCkhIUEFChSQs7NzRk4B\n",
              "8H9UyFtYU5u+qDVdB8m/bC0ZMrTs9AG1WTBR/dbO1qEbl8yeCAAAAOA3OGT2FzQMQz/++KO6deum\n",
              "3Llz6+bNm5o3b56cnJx+9fzExEQlJiY+9VhycnJmTAVyhIp5i2hqsxc1oFYLTdyzRotO7dPS0/u1\n",
              "9PR+dfKsoUHeLVU5X1GzZwIAAAD4H5n+BnhJSUn6+OOPNW/ePJ0+fVpr1qxR7969de3atV89f/To\n",
              "0fLw8Hjq2L59eyavBrK/SvmK6LNmPbQqYKA6edaQJC2O26fWURP15ro5OnLzsskLAQAAAPxXpsd8\n",
              "bGysLly4ID8/P0lS/fr1VbJkSe3evftXz3/vvfcUHx//1NGgQYPMnAzkKJXzFdW05j21yn+QOnrW\n",
              "kE02LYrbq1ZRE/TW+jk6eouoBwAAAMyW6TFfqlQpXbx4UYcOHZIkHT9+XCdOnFClSpV+9XxnZ2e5\n",
              "u7s/dVit1sycDORIVfIX1fTmPbXSf6A6lKkum2xaeGqvWs6foLfXz9WxW1fMnggAAADkWBn6M/P9\n",
              "+/fXkiVLdOnSJbVt21Zubm46fvy4ZsyYoe7du8tisSglJUVTpkxR6dKlM3IKgD+pav5imtGilw7e\n",
              "uKDxsWu07PQBLTi1RwtP7ZW/Vy0NqtVC5fMWNnsmAAAAkKNk6K+myyj8ajrAPAeuX1BY7GqtOHNQ\n",
              "kmQxDPmXraVB3i1VzqOQyesAAACAnCHTX2YPwL5VK1BcX7V8Scu7vKu2pasqxWbT/JOxaj4/TAM2\n",
              "/qiT8VfNnggAAABke8Q8gD+leoES+qrlS1rW+V21KVVFKTab5p3YrWbzwzRw4486Gf/rv6ECAAAA\n",
              "wF9HzAP4S2oULKGvW72spZ3fUevUqI88sVvN54dp8KafdCqBqAcAAADSGzEPIF3ULFhSM1u9rCWd\n",
              "31HLkpWVbEtR+PGf1WxemIZsCldcwnWzJwIAAADZBjEPIF3VKlhS37Z+RYs7va0WJSsp2Zain47v\n",
              "UtN54zQ0OlynbxP1AAAAwF9FzAPIEN6FSmlW61e1sNNbal7icdT/eGyX/CLHaWh0hM7cvmH2RAAA\n",
              "AMBuEfMAMlSdQqX1XZtXtaDjW2pWomJq1O+UX+RYDYuO0FmiHgAAAHhmxDyATFG3cGnNbvOaFnR8\n",
              "U02LV1CSLUU/HNupJpFjNWLzPKIeAAAAeAbEPIBMVbdwGX3fto+iOrwpv9Son3N0u5pEjtXIzfN0\n",
              "7s5NsycCAAAAWR4xD8AU9YqU0Zy2fTS/wxtqUry8kmwp+j416kdtma/zd26ZPREAAADIsoh5AKaq\n",
              "X8RTc9v2VWT7/vItVl6PUpI1+8g2+UaO0Xtb5usCUQ8AAAD8AjEPIEt4rmhZ/dCuryLa91Ojol56\n",
              "lJKs71Kj/u8xUbpwN97siQAAAECWQcwDyFIaFvXST+37Kbx9P/kU9dLDlGR9e3irfCNC9feYBbpI\n",
              "1AMAAADEPICsyaeol8Lb99NP7V7Xc0XKpkZ9jBpHhOr9rUQ9AAAAcjYHswcAwO9pVKycfIp6acul\n",
              "kwrbvUrbLsfpm0Mxmnt0h3pUbKC3azZTUVd3s2cCAAAAmYqYB5DlGYahxsXKqVFRL225eELjYldr\n",
              "++U4zTy0RXOOblevSs/prRpNVYSoBwAAQA7By+wB2A3DMNS4eHlFtu+vuW37qF7hMkpMTtJXBzer\n",
              "UUSo/rVtka7cu232TAAAACDDEfMA7I5hGGpSvILmd3hDc9r0Ud1CpZWYnKQvD26WT0SIPty+mKgH\n",
              "AABAtkbMA7BbhmHIr0QFRXV8U9+3eU11UqP+iwPRahQRqn9vX6yr94l6AAAAZD/EPAC7ZxiGmpao\n",
              "qAUd39TsNq+pdqFSepD8SDMORMsnPFQf7Viqa/fvmD0TAAAASDfEPIBswzAMNStRUQs7vqVZrV+V\n",
              "d8HHUT99/0b5RITo4x1Ldf0BUQ8AAAD7R8wDyHYMw1CLkpW0qNNb+rbVK6pVsKTuJz3StP0b1TA8\n",
              "RP/ZsYyoBwAAgF0j5gFkW4ZhqGWpylrc6e2nov7z/RvkEx6qT3Yu040Hd82eCQAAADwzYh5Atve/\n",
              "Uf9Nq5dVo0AJ3Ut6qM/2bZBPeIg+3bVcN4l6AAAA2BFiHkCOYRiGWpWqoqWd39HXLV9S9fzFdTfp\n",
              "oabsXa+G4SEK2bVCNxPvmT0TAAAA+EPEPIAcxzAMtSldVcu6vKuvWvRWtfzFdDfpoSbvXSef8BCF\n",
              "EvUAAADI4oh5ADmWYRhqW6aalncZoC9b9FbV/MV051GiJqVG/ZifV+oWUQ8AAIAsiJgHkOMZhqF2\n",
              "ZappeZd39UWLXqqSr6juPErUxD1r5RMeorG7VxH1AAAAyFKIeQBIZTEsal+mulb4D9D05j1VOV9R\n",
              "3X6UqAmxa9QoIlTjdq9SfOJ9s2cCAAAAxDwA/F8Ww6KOnjW00n+ApjXvqUp5iyjh4QONj10jn4gQ\n",
              "he1erYSHD8yeCQAAgByMmAeA32AxLOrkWUOrAgZqWrMeT6I+LHa1fMI/1fhYoh4AAADmIOYB4A9Y\n",
              "DIs6la2pVQED9XmzHqqYt7DiHz7QuN2r5RMeoomxa3SbqAcAAEAmIuYBII0shkWdy9bUKv9Bmtr0\n",
              "RVXwKKz4h/c1ZvcqNQwP0aQ9a4l6AAAAZApiHgCekdVikb9XLa0OGKQpTV9QeY9Cin94X6E/r5RP\n",
              "RKgm71mnO48SzZ4JAACAbIyYB4A/yWqxKMDLW2sCBmuy3wsq51FItxLvKeTnFWoYHqIpe4l6AAAA\n",
              "ZAxiHgD+IqvFoq7lvLU2YLAm+T0vL/eCupV4T5/uWiGf8BBN3bted4l6AAAApCNiHgDSidViUbdy\n",
              "tbW262BNaNJdZd0L6mbiPY3etVw+4aH6bN8G3Xv00OyZAAAAyAaIeQBIZw4Wq4LK19G6roM1oUmw\n",
              "PN0K6EbiXX2yc5l8IkL0OVEPAACAv4iYB4AM8jjq62p9tyEa7xusMm4FdP3BXf0nNeqn7duo+0lE\n",
              "PQAAAJ4dMQ8AGczBYlVwhbra0G2IwnyDVMYtv64/uKuPdy6VT3ioZuzfRNQDAADgmRDzAJBJHCxW\n",
              "da9QT+u7DdXYxoEqnSe/rj24o3/vWKJGEaH64sAm3U96ZPZMAAAA2AFiHgAymaPFqhcq1teGwKEa\n",
              "0zhQpfLk09X7d/Th9iVqHBGqLw9EE/UAAAD4XcQ8AJjE0WLVixXra0O3oQpt3E0l8+TVlfu39a/t\n",
              "i4l6AAAA/C5iHgBM5mR1UI+KDbSx2zCFNOqmErn/f9T7RoTq64Ob9YCoBwAAwP8g5gEgi3CyOqhn\n",
              "pQbaFDhMn/p0VfHcHrp8/7b+sW2RGkeO0cyDW4h6AAAASCLmASDLcbI6qFfl57QpcLhG+wSomKuH\n",
              "Lt9L0AfbFso3coy+ORSjxOQks2cCAADARMQ8AGRRzlYH9a7cUNFBw/VJatRfupeg97cukG/EGM06\n",
              "vJWoBwAAyKGIeQDI4pytDnopNeo/buivoq7uungvXn+LiVKTyDH6jqgHAADIcYh5ALATzlYHvVLF\n",
              "R9GBw/XRc11UxNVdF+7G673UqJ99eJseEvUAAAA5AjEPAHbGxcFRr1ZtpM2Bw/Xv5zqrSC43Xbgb\n",
              "r1Ex89UkcqxmHyHqAQAAsjtiHgDslIuDo16r2ljRQSP04XOdVTiXm87fvaVRW+bLb95YzTm6XY9S\n",
              "ks2eCQAAgAxAzAOAncvl4Kg+VRtrc9AI/atBJxXKlUfn7tzSiM3z5Bc5VnOP7iDqAQAAshliHgCy\n",
              "iVwOjupbzVdbgkbonw06qlCuPDp756aGb45U08hx+oGoBwAAyDaIeQDIZnI5OOn1ak20JWiE/lG/\n",
              "owq65NGZOzc0bHOkms0bpx+P7VQSUQ8AAGDXiHkAyKZyOTipX/XHUf9B/Q4q4JJbp2/f0NDoCDWd\n",
              "F6bwY7uIegAAADtFzANANufq6KT+1f0UEzRSf6/XXvmdc+v07esaHB2uZvPCFHGcqAcAALA3xDwA\n",
              "5BCujk56s0ZTxQSP0N9Soz7u9nUN2hSu5vPHK+L4z0Q9AACAnSDmASCHye3orLdSo/69uu2Uz9lV\n",
              "pxKuadCmn9Ri/nhFntit5JQUs2cCAADgdxDzAJBD5XZ01ts1mykmeKRG1W2nvM6uOplwTQM3/qgW\n",
              "UeM1/0QsUQ8AAJBFEfMAkMPlcXTWOzWbaWvwSI2s01Z5nV11Iv6q3t34g1pGjVfUSaIeAAAgqyHm\n",
              "AQCSHkf9u7WaKyZohEbUaSMPp1w6Hn9V72z4Qa2iJmjByT1EPQAAQBZBzAMAnuLm5KIBtVpoa/BI\n",
              "Da/dWh5OLjoWf0Vvb5ir1gsmaOHJPUqxEfUAAABmIuYBAL/KzclFA71bKiZ4lIalRv3RW1f01oa5\n",
              "ah01UYtP7SXqAQAATELMAwB+l7uTiwZ5t9SWoJEa4t1K7k4uOnLrst5YP+dx1MftI+oBAAAyGTEP\n",
              "AEgTD+dcGlK7lWKCRmqwd0u5OTo/jvp136vNgklaQtQDAABkGmIeAPBMPJxzaWjt1ooJHqlBqVF/\n",
              "+OYl9V/3vdoumKSlcfuJegAAgAxGzAMA/pS8zq4alhr1A2u1UB5HZx26eUn91s1Wu4WTtfz0Adls\n",
              "NrNnAgAAZEvEPADgL8nr7Krhddo8FfUHb1xU37Xfqd3CSVpB1AMAAKQ7Yh4AkC7y/Tfqg0bo3ZrN\n",
              "ldvBSQduXFSftd+p/cLJWnnmIFEPAACQToh5AEC6yueSWyPrttXW4JF6p2Yz5XZw0v4bF/Tamlnq\n",
              "sGiKVhH1AAAAfxkxDwDIEPlccmtU3XaKCR6pt2s0k6uDk/ZdP69X18xSp8VTtebsYaIeAADgTyLm\n",
              "AQAZKr9Lbr1Xr51igkforRpN5ergpD3Xzunl1d8Q9QAAAH8SMQ8AyBQFXPLob/XaKyZ4hN6o7qdc\n",
              "Do5Por7z4s+09twRoh4AACCNiHkAQKYq4JJH79fvoJigkepf3U8uVkfFXjurl1bNVJcln2kdUQ8A\n",
              "APCHiHkAgCkK5sqjD+p3UEzwCPWv1kQuVkftvnpWvVfNlP+Sz7Xh/FGiHgAA4DcQ8wAAUxXK5aYP\n",
              "GnTUlqAR6lfNV85WB/189Yx6rvxaXZdO08bzx4h6AACA/4OYBwBkCYVd3fSPBp0UEzRSfas2lrPV\n",
              "QTuvnFaPlV+p29Jp2nSBqAcAAPgvYh4AkKUUdnXTv57rrC1BI9QnNep3XDmtF1d8pcBl0xV94ThR\n",
              "DwAAcjxiHgCQJRVxddeHz3XW5qAReq1KIzlbHbT9cpxeWPGlgpZN1+aLJ8yeCAAAYJoMjfkBAwbI\n",
              "09NThmEoNjb2yeOJiYl65513VKFCBdWoUUO9evXKyBkAADtW1NVd/27YRdGBw/VqatRvuxyn55d/\n",
              "oaBl07WFqAcAADlQhsZ8UFCQoqOjVaZMmaceHzVqlAzD0NGjR7Vv3z6NHTs2I2cAALKBYrk99FFq\n",
              "1L9c2UdOFqu2Xjql7su/UPCyGYq5dNLsiQAAAJnGsGXCDx56enoqKipK3t7eunv3rooVK6Zz587J\n",
              "3d39D5+bmJioxMTEpx774IMPNHHixIyaCwCwAxfuxmvq3nWae3SHHqYkS5IaFfXS0Nqt9VzRsiav\n",
              "AwAAyFiZ/jPzJ06cUP78+fXJJ5+oXr16atKkidasWfOb548ePVoeHh5PHdu3b8/ExQCArKh4bg/9\n",
              "xydA0YHD9VLlhnK0WLXl0kkFLpuu55d/oe2X48yeCAAAkGEyPeaTkpJ0+vRpVa1aVTt37tSkSZP0\n",
              "/PPP6/Lly796/nvvvaf4+PinjgYNGmTyagBAVlU8T159khr1vSs9J0eLVZsvnlC3pdP04oovtYOo\n",
              "BwAA2VCmx3zp0qVlsVjUs2dPSVLt2rVVtmxZ7du371fPd3Z2lru7+1OH1WrNzMkAADtQIk9ejW7U\n",
              "VZsCh6lnxQZyMCzadOG4ui6dph4rvtLOy6fNnggAAJBuMj3mCxYsqJYtW2rFihWSpFOnTunUqVOq\n",
              "UqVKZk8BAGRDJfPkU0jjbtoUOEw9UqN+44VjClj6uXqu+Eq7rhD1AADA/mXoG+D1799fS5Ys0aVL\n",
              "l1SgQAG5ubnp+PHjOnnypPr06aNr167JYrHoH//4hwIDA9P8eYcMGaKwsLCMmg0AyEbO3L6hyXvX\n",
              "KfzYLiXZUiRJTUtU1NDarVSnUGmT1wEAAPw5mfJu9umNmAcAPKvTt69r8p51Cj/+s5JTo755iUoa\n",
              "UruVahcqZfI6AACAZ5PpL7MHAMAMZdwKaKxvkDYGDtXzFerKali07vwRdV48VS+tmqnYq2fNnggA\n",
              "AJBmxDwAIEcp41ZA43yDtaHbUHUv/zjq1547ok6Lp+rlVd9oz7VzZk8EAAD4Q8Q8ACBH8nQvoLAm\n",
              "wVrfbYiCy9eRxTC05txhdVw0Ra+s/kZ7iXoAAJCFEfMAgBytrHtBjW/SXeu7DlVQucdRv/rsYXVY\n",
              "NEWvrv5W+66dN3siAADALxDzAABI8vIoqAl+3bW+6xB1K1dbFsPQqrOH1H7RZPVZM0v7rxP1AAAg\n",
              "6yDmAQD4H14ehTTJ73mt6zpEXb28ZTEMrThzUO0WPo76A9cvmD0RAACAmAcA4NeU8yikyU1f0NqA\n",
              "wQrw8pahx1HfduEk9V3znQ7eIOoBAIB5iHkAAH5H+byFNaXpC1rbdbD8vWrJkKHlZw6ozYJJen3t\n",
              "dzp446LZEwEAQA5EzAMAkAYV8hbW1KYvak3XQepStqYMGVp2+oDaLJio/uu+16Ebl8yeCAAAchBi\n",
              "HgCAZ1AxbxF91qyHVgcMUmfPx1G/JG6fWi+YoDfWfa/DN4l6AACQ8Yh5AAD+hEr5iujz5j20KmCg\n",
              "OnnWkCQtjtun1lET9ea6OTpy87LJCwEAQHZGzAMA8BdUzldU05r31Cr/QeroWUM22bQobq9aRU3Q\n",
              "W+vn6Ogtoh4AAKQ/Yh4AgHRQJX9RTW/eUyv9B6p9mWqyyaaFp/aq5fwJenvDXB27dcXsiQAAIBsh\n",
              "5gEASEdV8xfTFy16a6X/ALUr/TjqF5zcoxbzx+udDT/oOFEPAADSATEPAEAGqJq/uL5s2VsrugxQ\n",
              "29JVZZNNUSdj1SJqvN7d8INOxF81eyIAALBjxDwAABmoWoHi+qrlS1re5V21LV1VKTab5p+MVfP5\n",
              "YRqw8UedJOoBAMCfQMwDAJAJqhcooa9avqRlnd9V61JVlGKzad6J3Wo2P0yDNv6kk/HXzJ4IAADs\n",
              "CDEPAEAmqlGwhGa2ellLO7+jVqUqK8VmU8SJn9V8fpgGb/pJpxKIegAA8MeIeQAATFCzYEl90+oV\n",
              "Le70tlqWrKxkW4rCj/+sZvPCNGRTuOISrps9EQAAZGHEPAAAJvIuVErftn5Fizq9rRYlKynZlqKf\n",
              "ju9S03njNDQ6XKdvE/UAAOCXiHkAALKA2oVKaVbrV7Ww01tqVqKikm0p+vHYLjWNHKdh0RE6c/uG\n",
              "2RMBAEAWQswDAJCF1ClUWrPbvKYFHd9S0xIVlWRL0Q/HdsovcqyGb47UWaIeAACImAcAIEuqW7i0\n",
              "vm/zmhZ0fFNNi1dQki1Fc4/uUJPIsRqxeZ7O3blp9kQAAGAiYh4AgCysbuEy+r5tH83v8Ib8UqN+\n",
              "ztHtahI5ViM3z9P5O7fMnggAAExAzAMAYAfqF/HUnLZ9NK/DG/ItVl6PUpL1/dHt8o0co/e2zCfq\n",
              "AQDIYYh5AADsSIMinvqhXV9Ftu+vxsXK6VFKsr47sk2+kWP0t5goXSDqAQDIEYh5AADs0HNFy+rH\n",
              "dq8ron0/NSrqpUcpyZp1eKt8I8fo7zFRunA33uyJAAAgAxHzAADYsYZFvfRT+376qd3rali0rB6m\n",
              "JOvbw1vlGxGqv8cs0EWiHgCAbMnB7AEAAOCva1SsnBoVK6ctF09o3O7V2nb5lL49HKMfju1Qj4oN\n",
              "9HbNZirq6m72TAAAkE6IeQAAspFGxcrJp6jX46iPXa3tl+M089AWzTm6XT1To74IUQ8AgN3jZfYA\n",
              "AGQzhmGocfHyimzfXz+07av6hcsoMTlJXx/aokYRofrntkW6fC/B7JkAAOAvIOYBAMimDMOQb/Hy\n",
              "mtfhDc1t20f1UqP+q4Ob1SgiVP/atkhX7t02eyYAAPgTiHkAALI5wzDUpHgFze/whua06aO6hUor\n",
              "MTlJX6ZG/b+3L9bV+0Q9AAD2hJgHACCHMAxDfiUqKKrjm5rd5jXVLlRKD5IfacaBaPmEh+qj7Ut0\n",
              "7f4ds2cCAIA0IOYBAMhhDMNQsxIVtbDjW/qu9avyLvg46qcf2CSfiBB9tGMpUQ8AQBZHzAMAkEMZ\n",
              "hqHmJStpUae3NKv1q6pVsKTuJz3S9P0b5RMRoo93LNX1B0Q9AABZETEPAEAOZxiGWpSspMWd3ta3\n",
              "rV55EvXT9m+UT3ioPtm5TDce3DV7JgAA+B9/6vfMnzlzRhs3bnz8hjpNmqh06dLpvQsAAGQywzDU\n",
              "slRltShZSWvOHVbY7tXae/28Ptu3Qd8citGrVRqpf/Umyu+S2+ypAADkeM98Z37OnDmqXbu25s2b\n",
              "p4iICNWtW1c//PBDRmwDAAAmMAxDrUpV0ZLO72hmy5dUo0AJ3Ut6qKn71ssnPESf7lqum9ypBwDA\n",
              "VIbNZrM9yxMqV66sZcuWqWzZspKkuLg4tWvXTocPH86Qgb9myJAhCgsLy7SvBwBATmaz2bTq7CGF\n",
              "7V6t/TcuSJJyOzjptaqN1a96E+VzdjV5IQAAOc8z35l3dXV9EvKS5OnpKVdX/k8cAIDsyjAMtSld\n",
              "Vcu6vKuvWvRWtfzFdDfpoSbvXSef8BCN+XmlbibeM3smAAA5SprvzCckJEiSxowZI6vVqr59+8pm\n",
              "s2nmzJlKTk7Whx9+mKFD/xd35gEAME+KLUUrzhxU2O7VOnTzkiTJzdFZr1VtrNer+Sovd+oBAMhw\n",
              "aY55i8UiwzD0a6cbhqHk5OR0H/dbiHkAAMyXYkvR8tMHFRa7Wof/J+r7VPPV61V95eGcy+SFAABk\n",
              "X2l+mX1KSoqSk5OVkpLyiyMzQx4AAGQNFsOiDp7VtdJ/gKY376lKeYvo9qNETYhdI5+IEI3bvUrx\n",
              "iffNngkAQLbE75kHAAB/icWwqKNnDa0KGKhpqVGf8PCBxseuUaOIEI2PXa2Ehw/MngkAQLZCzAMA\n",
              "gHRhMSzqlBr1nzfroYp5Cyv+4QON271aPuGfakLsGt0m6gEASBfEPAAASFcWw6LOZWtqdcAgfdb0\n",
              "RVXweBz1Y3evUsPwEE0k6gEA+MuIeQAAkCEshkVdvGppdcAgTW36osp7FFL8w/sakxr1k/as1Z1H\n",
              "iWbPBADALhHzAAAgQ1ktFvl71dKagMGa0vQFlUuN+tCfV6pheIim7F1H1AMA8IyIeQAAkCmsFosC\n",
              "vLy1NmCwJvk9Ly/3grqVeE+f7lohn/AQTdm7XneJegAA0oSYBwAAmcpqsahbudpa13WIJvo9r7Lu\n",
              "BXUz8Z4+3bVcDcNDNJWoBwDgDxHzAADAFFaLRYHlamtd18Ga0KS7PN0K6GbiPY3etVw+4aH6bN8G\n",
              "3Xv00OyZAABkScQ8AAAwlYPFqqDydbS+2xBNaBKsMm4FdCPxrj7ZuUw+ESGatm8jUQ8AwP9BzAMA\n",
              "gCzhcdTX1YZuQxTmG6Qybvl1/cFdfbxzqRpFhGr6/o26n0TUAwAgEfMAACCLcbBY1b1CPa3vNlTj\n",
              "fINUOk9+XXtwRx/tWCqf8FDN2L+JqAcA5HjEPAAAyJIcLVY9X6GeNgQO1djGgU+i/t87lqhRRKi+\n",
              "OLBJ95MemT0TAABTEPMAACBLc7RY9ULF+toQOFRjGgeqVJ58unr/jj7cvkSNI0L15YFooh4AkOMQ\n",
              "8wAAwC44Wqx6sWJ9beg2VCGNuqlknry6cv+2/rV9sXwjQvXVwc16QNQDAHIIYh4AANgVJ6uDelZq\n",
              "oI3dhunTRl1VIndeXb5/W//ctkiNI8foa6IeAJADEPMAAMAuOVkd1KvSc9oUOEyf+nRV8dweunwv\n",
              "Qf9IjfqZB7cQ9QCAbIuYBwAAds3J6qBelZ/TpsDhGu0ToGKuj6P+g20L5Rs5Rt8eilFicpLZMwEA\n",
              "SFfEPAAAyBacrQ7qXbmhooOG6z8N/VXU1V2X7iXo71sXyDdijGYd3krUAwCyDWIeAABkK85WB71c\n",
              "xUebg0bo44b+KuLqrov34vW3mCg1iRyj7w5v1UOiHgBg54h5AACQLTlbHfRKFR9tDhyuj57roiKu\n",
              "7rpwN17vxUSpSeRYzT6yjagHANgtYh4AAGRrLg6OerVqI20OHK5/P9dZRXK56fzdWxq1Zb785o3V\n",
              "90e2E/UAALtDzAMAgBzBxcFRr1VtrOigEfpXg04qnMtN5+7c0sgt89R03jjNObpdj1KSzZ4JAECa\n",
              "EPMAACBHyeXgqL7VfLU5NeoL5cqjs3duasTmefKLHKu5R3cQ9QCALI+YBwAAOdJ/o35L0Aj9s0HH\n",
              "J1E/fHOkms0bpx+P7STqAQBZFjEPAABytFwOTnq9WhNtCRqhf9TvqIIueXT69g0NjY5Qs3lh+unY\n",
              "TiUR9QCALIaYBwAA0OOo71f9cdS/X6+DCrjk1unb1zUkOkJN54Up/Nguoh4AkGUQ8wAAAP/D1dFJ\n",
              "b9TwU0zQSP29Xnvld34c9YOjw9VsXpgijhP1AADzEfMAAAC/wtXRSW/WaKqY4BH6W2rUx92+rkGb\n",
              "wtV8/nhFntit5JQUs2cCAHIoYh4AAOB35HZ01lupUf9e3XbK5+yqUwnXNHDjj2o+P0zziHoAgAmI\n",
              "eQAAgDTI7eist2s2U0zwSI2q21Z5nV11MuGaBmz8US2ixmv+iViiHgCQaYh5AACAZ5DH0Vnv1Gyu\n",
              "rcEjNbLO46g/EX9V7278QS2jxivqJFEPAMh4xDwAAMCfkMfRWe/Waq6YoBEaUaeNPJxy6Xj8Vb2z\n",
              "4Qe1ipqghSf3KMVG1AMAMgYxDwAA8Be4ObloQK0WigkeqeG1W8vDyUXH4q/orQ1z1Spqghad2kvU\n",
              "AwDSHTEPAACQDtydXDTQu6VigkdpaO1Wcndy0dFbV/Tm+jlqHTVRi4l6AEA6ytCYHzBggDw9PWUY\n",
              "hmJjY3/x8ZkzZ8owDEVFRWXkDAAAgEzj7uSiwd6tFBM0UkO8H0f9kVuX9cZ/oz5uH1EPAPjLMjTm\n",
              "g4KCFB0drTJlyvziY3Fxcfriiy/UsGHDjJwAAABgCg/nXBpS+3HUD/ZuKTdH58dRv+57tV0wSUvj\n",
              "9hP1AIA/LUNj3s/PTyVLlvzF4ykpKerbt68mT54sZ2fn3/0ciYmJSkhIeOpITk7OqMkAAADpysM5\n",
              "l4bWbq2Y4JEalBr1h25eUr91s9Vu4WQtO03UAwCenSk/Mx8WFqbGjRurbt26f3ju6NGj5eHh8dSx\n",
              "ffv2TFgJAACQfvI6u2pY7dbaEjxSA2u1UB5HZx28cVGvr52t9gsna/npA7LZbGbPBADYiUyP+f37\n",
              "9ysyMlLvv/9+ms5/7733FB8f/9TRoEGDDF4JAACQMfI5u2p4nTaKCR6pATWbK7eDkw7cuKi+a79T\n",
              "+4WTtYKoBwCkgUNmf8FNmzYpLi5OFSpUkCRdunRJ/fr108WLF/Xmm2/+4nxnZ+dfvBTfarVmylYA\n",
              "AICMks/ZVSPqttXr1Xw140C0vj64WftvXFCftd+pRoESGuLdUq1KVZFhGGZPBQBkQYYtE/7q19PT\n",
              "U1FRUfL29v7Fx5o1a6ZBgwYpICAgzZ9vyJAhCgsLS7+BAAAAJrvx4K5mHNikrw9u0b2kh5KkmgVK\n",
              "aEjtVmpZsjJRDwB4Soa+zL5///4qWbKkzp07p7Zt26p8+fIZ+eUAAADsVn6X3BpVt522Bo/UWzWa\n",
              "ytXBSXuvn9crq79Vp8VTtebsYV5+DwB4IlPuzKc37swDAIDs7vqDO5q2b5O+ObxF95MeSZJqFSyp\n",
              "Id6t1KJkJe7UA0AOZ8q72QMAAOD3FXDJo7/Xb6+twSP1RnU/5XJw1J5r5/Ty6m/UZclnWnfuCHfq\n",
              "ASAHI+YBAACysAIuefR+/Q6KCRqp/tX95GJ11O6rZ9V71Uz5L/lc688fJeoBIAci5gEAAOxAwVx5\n",
              "9EH9DooJHqF+1XzlYnXUz1fPqNfKrxWw5HNtIOoBIEch5gEAAOxIoVxu+keDTtoSNEKvV/OVs9VB\n",
              "u66eUc+VX6vr0mnaeP4YUQ8AOQAxDwAAYIcKu7rpnw06KSZopPpWbSxnq4N2XjmtHiu/Urel07Tp\n",
              "AlEPANkZMQ8AAGDHCru66V/PddaWoBHqkxr1O66c1osrvlLgsunafOE4UQ8A2RAxDwAAkA0UcXXX\n",
              "h8911uagEXq1SiM5Wx20/XKcnl/xpYKWzdDmiyfMnggASEfEPAAAQDZS1NVdHzXsoujA4Xqlio+c\n",
              "LFZtu3xKzy//QkHLpmsLUQ8A2QIxDwAAkA0Vy+2hjxv6KzpohF6u/Djqt146pe7Lv1Dwshnaeumk\n",
              "2RMBAH8BMQ8AAJCNFc/tof/4+Cs6cLhertxQTharYi6dVNCyGeq+bIa2XTpl9kQAwJ9AzAMAAOQA\n",
              "xfPk1X98AhQdOFy9Kz0nR4tVWy6dVOCy6Xph+ZfafjnO7IkAgGdAzAMAAOQgxfPk1ehGXRUdOFy9\n",
              "UqM++uJxdVs6TS+u+FI7iHoAsAvEPAAAQA5UIk9efdqoqzYFDlPPig3kYFi06cJxdV06TT1WfKVd\n",
              "V06bPREA8DuIeQAAgBysZJ58CmncTZsCh6lHatRvvHBM/ks+V88VX2nXlTNmTwQA/ApiHgAAACrl\n",
              "ll+hjbtpY+AwvVChnqyGRRsuHJP/ks/Ua+XX+vkqUQ8AWQkxDwAAgCdKu+XXWN8gbQwcqudTo379\n",
              "+aPqsvgz9V45U7uvnjV7IgBAxDwAAAB+RRm3AhrnG6QN3Ybq+Qp1ZTUsWnf+iDovnqqXVs1ULFEP\n",
              "AKYi5gEAAPCbPN0LaJxvsNZ3G6Lu5R9H/dpzR9Rp8VS9vOob7bl2zuyJAJAjEfMAAAD4Q2XdCyqs\n",
              "yeOoDypXRxbD0Jpzh9Vx0RS9uvpb7SXqASBTEfMAAABIs7LuBTXBr7vWdx2qwHK1ZTEMrTp7SB0W\n",
              "TdFrq7/VvmvnzZ4IADkCMQ8AAIBn5uVRUBP9nte6rkPULTXqV549pPaLJqvPmlk6cP2C2RMBIFsj\n",
              "5gEAAPCnlfMopEl+z2ttwGB19fKWIUMrzhxU24WT1GfNLB28QdQDQEYg5gEAAPCXlc9bWJObvqB1\n",
              "XQfL36vWk6hvs2CSXl/7nQ7euGj2RADIVoh5AAAApJvyeQtratMXtbbrYPmXfRz1y04fUJsFE9Vv\n",
              "7WwdunHJ7IkAkC0Q8wAAAEh3FfIW1tRmL2p1wCB1KVtThgwtPb1frRdMUP913+vwTaIeAP4KYh4A\n",
              "AAAZplK+IvqsWQ+tChiozp41JUlL4vapVdQEvbHuex25ednkhQBgn4h5AAAAZLjK+Yrq8+Y9tDpg\n",
              "kDp61pAkLU6N+rfWz9HRW0Q9ADwLYh4AAACZpnK+oprevKdW+Q9ShzLVZZNNC0/tVcv5E/T2+rk6\n",
              "duuK2RMBwC4Q8wAAAMh0VfIX1YwWvbTSf4Dal6kmm2xacGqPWswfr7c3zNVxoh4AfhcxDwAAANNU\n",
              "zV9cX7TorRVdBqhd6dSoP7lHzeeP1zsbftCJ+KtmTwSALImYBwAAgOmqFSiuL1v21vIu76pt6aqy\n",
              "yaaok7FqPj9MAzb+qJNEPQA8hZgHAABAllG9QAl91fIlLev8rtqUqqIUm03zTuxWs/lhGrjxR52M\n",
              "v2b2RADIEoh5AAAAZDk1CpbQ161e1tLO76h1atRHntitZvPHadDGn3QqgagHkLMR8wAAAMiyahYs\n",
              "qZmtXtaSzu+oVanKSrHZFHHiZzWbF6bBm35SXMJ1sycCgCmIeQAAAGR5tQqW1DetXtHiTm+rRclK\n",
              "SralKPz4z2o6b5yGRocT9QByHGIeAAAAdsO7UCnNav2qFnV6W81LPI76H4/tSo36CJ2+TdQDyBmI\n",
              "eQAAANid2oVK6bs2r2pBx7fUrETF1KjfqaaR4zQsOkJnbt8weyIAZChiHgAAAHarbuHSmt3mNS3o\n",
              "+KaalqioJFuKfji2U36RYzV8c6TOEvUAsiliHgAAAHavbuEy+r7Na4rq8Kb8ildQki1Fc4/uUJPI\n",
              "sRq5eZ7O3blp9kQASFfEPAAAALKNekXKaE7bPprf4Q01KV5eSbYUfX90u5pEjtWoLfN1/s4tsycC\n",
              "QLog5gEAAJDt1C/iqblt+2pehzfkW6y8HqUka/aRbfKNHKP3tszXBaIegJ0j5gEAAJBtNSjiqR/a\n",
              "9VVE+35qXKycHqUk67sj29Q4coz+FhOlC3fjzZ4IAH8KMQ8AAIBsr2FRL/3Y7nWFt+8nn6JeepSS\n",
              "rFmHt8o3IlR/j1lA1AOwO8Q8AAAAcgyfol4Kb99PP7V7Xc8VKauHKcn69nCMfCNC9f7WBbpI1AOw\n",
              "Ew5mDwAAAAAyW6Ni5dSoWDltvnhCYbtXadvlOH1zKEZzj+5Qj4oN9HbNZirq6m72TAD4TcQ8AAAA\n",
              "cqzGxcqpUVEvbbl4QuNiV2v75TjNPLRFc45uV8/UqC9C1APIgniZPQAAAHI0wzDUuHh5Rbbvrx/a\n",
              "9lX9wmWUmJykrw9tUaOIUP1r2yJdvpdg9kwAeAoxDwAAAOhx1PsWL695Hd7QnDZ9VLdQaSUmJ+nL\n",
              "g5vVKCJUH25frCv3bps9EwAkEfMAAADAUwzDkF+JCorq+Ka+b/Oa6qRG/RcHotUoIlT/3r5YV+8T\n",
              "9QDMRcwDAAAAv8IwDDUtUVELOr6p2W1eU+1CpfQg+ZFmHIiWT3ioPtq+RNfu3zF7JoAcipgHAAAA\n",
              "fodhGGpWoqIWdnxL37V+Vd4FH0f99AOb5BMRoo93LCXqAWQ6Yh4AAABIA8Mw1LxkJS3q9Ja+bfWK\n",
              "ahUsqftJjzRt/0b5RIToPzuW6foDoh5A5iDmAQAAgGdgGIZalqqsxZ3efirqP9+/QT7hofpk5zLd\n",
              "eHDX7JkAsjliHgAAAPgT/jfqv2n1smoWKKF7SQ/12b4NahgeotE7l+smUQ8ggxDzAAAAwF9gGIZa\n",
              "laqiJZ3f0cyWL6l6/uK6l/RQU/etV8PwEIXsWkHUA0h3xDwAAACQDgzDUOvSVbWsy7v6qkVvVctf\n",
              "THeTHmry3nXyiQhV6K4Vupl4z+yZALIJYh4AAABIR4ZhqG2ZalreZYC+bNFbVfMX051HiZq0d518\n",
              "wkM05ueVukXUA/iLiHkAAAAgAxiGoXZlqml5l3f1RYteqpKvqO48StTEPWuJegB/GTEPAAAAZCCL\n",
              "YVH7MtW1wn+AZjTvpcr5iup2atQ3igjVuN2rFJ943+yZAOwMMQ8AAABkAothUQfP6lrpP0DTmvdU\n",
              "pbxFlPDwgcbHrpFPRIjCdq9WwsMHZs8EYCeIeQAAACATWQyLOnnW0KqAgZrWrMeTqA+LXS2f8E81\n",
              "PpaoB/DHiHkAAADABBbDok5la2pVwEB93qyHKuYtrPiHDzRu9+OonxC7RreJegC/gZgHAAAATGQx\n",
              "LOpctqZW+Q/SZ01fVAWPx1E/dvcqNQwP0aQ9a4l6AL9AzAMAAABZgNViURevWlodMEhTmr6g8h6F\n",
              "FP/wvkJ/XimfiFBN3rNOdx4lmj0TQBZBzAMAAABZiNViUYCXt9YEDNZkvxdUzqOQbiXeU8jPK9Qw\n",
              "PERT9hL1AIh5AAAAIEuyWizqWs5bawMGa5Lf8/JyL6hbiff06a4V8gkP0ZS963WXqAdyLGIeAAAA\n",
              "yMKsFou6lauttV0Ha6Lf8yrrXlA3E+/p013L5RMeqs/2bSDqgRyImAcAAADsgIPFqsBytbWu62BN\n",
              "aNJdnm4FdCPxrj7ZuUw+4aH6fN8G3Xv00OyZADIJMQ8AAADYEQeLVUHl62h9tyEa7xusMqlR/5+d\n",
              "y+QTEaJp+zYS9UAOQMwDAAAAdsjBYlVwhbra0G2IwnyDVMYtv64/uKuPdy5Vo4hQTd+/UfeTiHog\n",
              "uyLmAQAAADvmYLGqe4V6Wt9tqMb5Bql0nvy69uCOPtrxOOq/OLCJqAeyIWIeAAAAyAYcLVY9X6Ge\n",
              "NgQO1djGgSqVJ5+u3r+jD7cvUeOIMfryQLTuJz0yeyaAdELMAwAAANmIo8WqFyrW18bAYQpt3E0l\n",
              "8+TVlfu39a/ti9U4IpSoB7IJYh4AAADIhhwtVvWo2EAbuw1TSKNuKpH7/0e9b0Sovjq4WQ+IesBu\n",
              "EfMAAABANuZkdVDPSg20KXCYPm3UVSVy59Xl+7f1z22L1DhyjGYe3ELUA3aImAcAAAByACerg3pV\n",
              "eu5x1Pt0VfHcHrp8L0EfbFso38gx+uZQjBKTk8yeCSCNiHkAAAAgB3GyOqhX5ee0KXC4PvEJUDFX\n",
              "D126l6D3ty6Qb8QYfUvUA3aBmAcAAAByIGerg16q3FDRQcP1n4b+Kurqrov34vX3rQvUJHKMvju8\n",
              "lagHsrAMjfkBAwbI09NThmEoNjZWkvTgwQMFBASoYsWKqlWrllq3bq3jx49n5AwAAAAAv8HZ6qCX\n",
              "q/goOnC4Pm7oryKu7rpwN17vxUSpSeQYzT68TQ+JeiDLydCYDwoKUnR0tMqUKfPU4/369dORI0e0\n",
              "Z88e+fv7q2/fvhk5AwAAAMAfcHFw1CtVfLQ5cLj+/VxnFcnlpgt34zUqZr6aRI7V7CNEPZCVZGjM\n",
              "+/n5qWTJkk895uLiog4dOsgwDElSw4YNFRcXl5EzAAAAAKSRi4OjXqvaWJuDRujD1Kg/f/eWRm2Z\n",
              "L795Y/X9ke16lJJs9kwgxzP9Z+YnTpwof3//3/x4YmKiEhISnjqSk/nmAQAAAGQkFwdH9anaWNFB\n",
              "I/SvBp1UOJebzt25pZFb5skvcqzmHt1B1AMmMjXmP/nkEx0/flyjR4/+zXNGjx4tDw+Pp47t27dn\n",
              "4koAAAAg58rl4Ki+1Xy1OTXqC+XKo7N3bmr45kg1jRynH4h6wBSGzWazZfQX8fT0VFRUlLy9vZ88\n",
              "NnbsWP3www9avXq18ubN+5vPTUxMVGJi4lOPffDBB5o4cWIGrQUAAADwW+4nPdR3h7fps30bdO3B\n",
              "HUlSGbf8GlCrhQLL1ZaDxWryQiBnMOXOfFhYmObOnatVq1b9bshLkrOzs9zd3Z86rFa+QQAAAABm\n",
              "yOXgpH7VmygmeIQ+qN9BBV3y6PTtGxoaHaGm88L007GdSuJOPZDhMvTOfP/+/bVkyRJdunRJBQoU\n",
              "kJubm9avX69SpUrJy8tLbm5ukh4H+7Zt29L8eYcMGaKwsLCMmg0AAAAgje49eqhZh7fq8/0bdP3B\n",
              "XUmSp1sBDfJuoQAvb+7UAxkkU15mn96IeQAAACBruffoob49HKPP923UjcTHUV/WvaAG1mqhAK9a\n",
              "RD2Qzkx/N3sAAAAA9s/V0Ulv1miqmOAReq9uO+VzdtWphGsatOkntZg/XpEndis5JcXsmUC2QcwD\n",
              "AAAASDe5HZ31ds1m2ho8UqNSo/5kwjUN3PijWkSN1zyiHkgXxDwAAACAdJfb0Vnv1GymmOCRGlW3\n",
              "rfI6u+pE/FUNSI36+SdiiXrgLyDmAQAAAGSYPI7Oeqdmc8UEjdDIOm3l4ZRLJ+Kv6t2NP6hV1AQt\n",
              "OLmHqAf+BGIeAAAAQIZzc3LRu7Waa2vwSA2v3VoeTi46Fn9Fb2+Yq9YLJmjhyT1KsRH1QFoR8wAA\n",
              "AAAyjZuTiwZ6t1RM8CgNS436o7eu6K0Nc9UqaoIWndpL1ANpQMwDAAAAyHTuTi4alBr1Q2u3kntq\n",
              "1L+5fo5aR03UYqIe+F3EPAAAAADTuDu5aLB3K8UEjdQQ78dRf+TWZb2xfo7aLJikJXH7iHrgVxDz\n",
              "AAAAAEzn4ZxLQ2o/jvpB3i3l5uiswzcvqf+679V2wSQtjdtP1AP/g5gHAAAAkGV4OOfSsNqtFRM8\n",
              "UgNrtVAeR2cdunlJ/dbNVruFk7Xs9H7ZbDazZwKmI+YBAAAAZDl5nV01vE6bp6L+4I2Len3tbLVb\n",
              "OEnLTx8g6pGjEfMAAAAAsqx8/436oBEaULO5cjs46cCNi+q79ju1XzhZK88cJOqRIxHzAAAAALK8\n",
              "fC65NaJuW20NHql3ajZTbgcn7b9xQa+tmaUOi6ZoFVGPHIaYBwAAAGA38rnk1qi67RQTPFJv12gm\n",
              "Vwcn7bt+Xq+umaWOi6Zo9dlDRD1yBGIeAAAAgN3J75Jb79Vrp63BI/VWjaZydXDS3uvn9crqb9Vp\n",
              "8VStOXuYqEe2RswDAAAAsFv5XXLrb/XaKyZ4hN6s3lS5HBy159o5vbz6G3Ve/JnWnjtC1CNbIuYB\n",
              "AAAA2L0CLnn09/rtFRM0Uv2r+8nF6qjYa2f10qqZ6rLkM60j6pHNEPMAAAAAso2CufLog/odFBM8\n",
              "Qv2rNZGL1VG7r55V71Uz5b/kc60/f5SoR7ZAzAMAAADIdgrlctMHDToqJniE+lXzlbPVQT9fPaNe\n",
              "K79WwJLPtYGoh50j5gEAAABkW4VyuekfDTopJmikXk+N+l1Xz6jnyq/Vdek0bbpwjKiHXSLmAQAA\n",
              "AGR7hV3d9M8GnbQlaIT6VG0sZ6uDdl45rRdXfKXAZdMVfeE4UQ+7QswDAAAAyDGKuLrrw+c6a3PQ\n",
              "CL1WpZGcrQ7afjlOL6z4UkHLpmszUQ87QcwDAAAAyHGKurrr3w27aHPQCL2aGvXbLsfp+RVfKmjZ\n",
              "DG25eMLsicDvIuYBAAAA5FhFXd31UcMuig4crleq+MjJYtW2y6fUffkXClo2XTGXTpo9EfhVxDwA\n",
              "AACAHK9Ybg993NBf0UEj9HLlhnKyWLX10ikFL5uh7stmaCtRjyyGmAcAAACAVMVze+g/PgGKDhyu\n",
              "lyo3lKPFqi2XTipo2Qw9v/wLbbt0yuyJgCRiHgAAAAB+oXievPokNep7V3pOjharNl88ocBl0/XC\n",
              "8i+143Kc2RORwxHzAAAAAPAbSuTJq9GNumpT4DD1So366IvH1XXpNL244kvtvHza7InIoYh5AAAA\n",
              "APgDJfPk06epUd+jYgM5GBZtunBcAUs/V88VX2nXFaIemYuYBwAAAIA0Kpknn0Ibd9OmwGF6sWJ9\n",
              "ORgWbbhwTP5LPlfPlV9r15UzZk9EDkHMAwAAAMAzKuWWX2MaB2pj4DC9UKGerIZFG84flf+Sz9Rr\n",
              "5df6+SpRj4xFzAMAAADAn1TaLb/G+gZpY+BQPZ8a9evPH1WXxZ+p98qZ2n31rNkTkU0R8wAAAADw\n",
              "F5VxK6BxvkHa0G2oupevK6th0brzR9R58VS9vOobxRL1SGfEPAAAAACkE0/3AgprEqz13YYouHwd\n",
              "WQxDa84dVqfFU/XK6m+099o5sycimyDmAQAAACCdlXUvqPFNumt916EKKvc46lefPawOi6bo1dXf\n",
              "at+182ZPhJ0j5gEAAAAgg3h5FNQEv+5a33WIAsvVlsUwtOrsIbVfNFmvrf5W+68T9fhziHkAAAAA\n",
              "yGBeHoU00e95res6RF29vGUxDK08e0jtFk5WnzWzdOD6BbMnws4Q8wAAAACQScp5FNLkpi9obcBg\n",
              "BXh5y5ChFWcOqu3CSeq75jsdvEHUI22IeQAAAADIZOXzFtaUpi9obdfB8veqJUOGlp85oDYLJun1\n",
              "td/p4I2LZk9EFkfMAwAAAIBJKuQtrKlNX9SaroPkX/Zx1C87fUBtFkxUv7WzdejGJbMnIosi5gEA\n",
              "AADAZBXzFtHUZi9qdcAgdfasKUOGlp7er9YLJuiNdd/r8E2iHk8j5gEAAAAgi6iUr4g+b95DqwIG\n",
              "qpNnDUnS4rh9ah01UW+um6MjNy+bvBBZBTEPAAAAAFlM5XxFNa15T63yH6SOnjVkk02L4vaqVdQE\n",
              "vbV+jo7eIupzOmIeAAAAALKoKvmLanrznlrpP1AdylSXTTYtPLVXLedP0Nvr5+rYrStmT4RJiHkA\n",
              "AAAAyOKq5i+mGS16aaX/ALUrXU022bTg1B61mD9e72z4QceJ+hyHmAcAAAAAO1E1f3F92bK3VnQZ\n",
              "oLalq8omm6JOxqpF1Hi9u+EHnYi/avZEZBJiHgAAAADsTLUCxfVVy5e0vMu7alu6qlJsNs0/Gavm\n",
              "88M0YOOPOknUZ3vEPAAAAADYqeoFSuirli9pWed31aZUFaXYbJp3YreazQ/TwI0/6mT8NbMnIoMQ\n",
              "8wAAAABg52oULKGvW72spZ3fUatSlZVisynyxG41nx+mwZt+0qkEoj67IeYBAAAAIJuoWbCkvmn1\n",
              "ipZ0fkctS1ZWsi1F4cd/VrN5YRqyKVxxCdfNnoh0QswDAAAAQDZTq2BJfdv6FS3q9LZalKykZFuK\n",
              "fjq+S03njdPQ6HCdvk3U2ztiHgAAAACyqdqFSmlW61e1sNNbal7icdT/eGyX/CLHaWh0hM7cvmH2\n",
              "RPxJxDwAAAAAZHN1CpXWd21e1YKOb6lpiYqpUb9TfpFjNXxzpM4S9XaHmAcAAACAHKJu4dL6vs1r\n",
              "WtDxTTUtXkFJthTNPbpDTSLHasTmeUS9HSHmAQAAACCHqVu4jL5v20dRHd6UX2rUzzm6XX7zxmnk\n",
              "5nk6d+em2RPxB4h5AAAAAMih6hUpozlt+2hehzfUpHh5PUpJ1vdHt6tJ5FiN2jJf5+/cMnsifgMx\n",
              "DwAAAAA5XIMinprbtq8i2/dX42Ll9CglWbOPbJNv5Bj9LSZKF4j6LIeYBwAAAABIkp4rWlY/tntd\n",
              "Ee37qVFRLz1KSdasw1vlGzlGf4+J0oW78WZPRCpiHgAAAADwlIZFvfRT+34Kb99PDYuW1cOUZH17\n",
              "eKt8I0L195gFukjUm46YBwAAAAD8Kp+iXopo318/tXtdzxX5b9THqHFEqN7fukCX7iWYPTHHcjB7\n",
              "AAAAAAAga2tUrJx8inppy6WTCtu9Stsux+mbQzGae3SHelZsoLdqNlNRV3ezZ+YoxDwAAAAA4A8Z\n",
              "hqHGxcqpUVEvbb54QuN2r9KOK6f19aEt+v7odvWq9JzeqtFURYj6TMHL7AEAAAAAaWYYhnyLl9e8\n",
              "Dm9obts+qle4jBKTk/TVwc1qFBGqf21bpCv3bps9M9sj5gEAAAAAz8wwDDUpXkHzO7yhOW36qG6h\n",
              "0kpMTtKXBzfLJyJEH25frKv3ifqMQswDAAAAAP40wzDkV6KCojq+qe/bvKY6qVH/xYFo+YSH6qPt\n",
              "S4j6DEDMAwAAAAD+MsMw1LRERS3o+KZmt3lNtQuV0oPkR5p+YNPjqN+xVNfu3zF7ZrZBzAMAAAAA\n",
              "0o1hGGpWoqIWdnxLs1q/Ku+CqVG/f6N8IkL08Y6luv6AqP+riHkAAAAAQLozDEMtSlbSok5v6dtW\n",
              "r6hWwZK6n/RI0/ZvVMPwEP1nxzLdeHDX7Jl2i5gHAAAAAGQYwzDUslRlLe709lNR//n+DWoYHqLR\n",
              "O5cT9X8CMQ8AAAAAyHD/G/XftHpZNQqU0L2kh5q6b718wkP06a7luknUpxkxDwAAAADINIZhqFWp\n",
              "Klra+R193fIlVc9fXHeTHmrK3vVqGB6ikF0rdDPxntkzszxiHgAAAACQ6QzDUJvSVbWsy7v6qkVv\n",
              "VctfTHeTHmry3nXyCQ9RKFH/u4h5AAAAAIBpDMNQ2zLVtLzLAH3Zoreq5i+mO48SNWnvOjUKD9GY\n",
              "n1fqFlH/C8Q8AAAAAMB0hmGoXZlqWt7lXX3Ropeq5Cuq248SNXHPWvmEh2js7lWKT7xv9swsg5gH\n",
              "AAAAAGQZFsOi9mWqa4X/AE1v3lOVU6N+Quwa+USEaBxRL4mYBwAAAABkQRbDoo6eNbTSf4CmNe+p\n",
              "SnmLKOHhA41Pjfqw3auV8PCB2TNNQ8wDAAAAALIsi2FRJ88aWhUwUNOa9XgS9WGxq+UT/qkmxK7J\n",
              "kVFPzAMAAAAAsjyLYVGnsjW1KmCgPm/WQxXzFlb8wwcau3uVfMJDNDF2jW7noKgn5gEAAAAAdsNi\n",
              "WNS5bE2t8h+kqU1fVAWPwop/eF9jdq9Sw/AQTdqzNkdEfYbG/IABA+Tp6SnDMBQbG/vk8WPHjqlR\n",
              "o0aqWLGi6tevrwMHDmTkDAAAAABANmO1WOTvVUurAwZpStMXVN6jkOIf3lfozyvlExGqyXvW6c6j\n",
              "RLNnZpgMjfmgoCBFR0erTJkyTz3ev39/9evXT0ePHtXIkSP1yiuvZOQMAAAAAEA2ZbVYFODlrTUB\n",
              "gzXZ7wWV8yikW4n3FPLzCvmEh2jK3vXZMuoNm81my+gv4unpqaioKHl7e+vKlSsqX768bty4IQcH\n",
              "B9lsNhUrVkzR0dEqX778L56bmJioxMSn/4f/4IMPNHHixIyeDQAAAACwM8kpKVpwao8mxK7RyYRr\n",
              "kqR8zq6a0KS7WpaqbPK69JPpPzN/9uxZFStWTA4ODpIkwzBUunRpnTlz5lfPHz16tDw8PJ46tm/f\n",
              "npmTAQAAAAB2wmqxqFu52lrbdbAmNOmusu4FFf/wvsq6FzR7WrrK8m+A99577yk+Pv6po0GDBmbP\n",
              "AgAAAABkYQ4Wq4LK19G6roMV0b6/vDyyV8w7ZPYXLFWqlC5evKikpKQnL7M/c+aMSpcu/avnOzs7\n",
              "y9nZ+anHrFZrZkwFAAAAANg5B4tVDYp4mj0j3WX6nfnChQurTp06mj17tiQpMjJSJUuW/NWflwcA\n",
              "AAAAAL+UoTHfv39/lSxZUufOnVPbtm2fBPv06dM1ffp0VaxYUZ9++qlmzpyZkTMAAAAAAMhWMvRl\n",
              "9tOnT//VxytVqqSYmJiM/NIAAAAAAGRbWf4N8AAAAAAAwNOIeQAAAAAA7AwxDwAAAACAnSHmAQAA\n",
              "AACwM8Q8AAAAAAB2hpgHAAAAAMDOEPMAAAAAANgZYh4AAAAAADtDzAMAAAAAYGeIeQAAAAAA7Awx\n",
              "DwAAAACAnSHmAQAAAACwM8Q8AAAAAAB2hpgHAAAAAMDOEPMAAAAAANgZYh4AAAAAADtj2Gw2m9kj\n",
              "nlW3bt3k6elp9ow0SU5O1vbt29WgQQNZrVaz5wBpwnULe8R1C3vDNQt7xHULe2SP122ZMmU0cODA\n",
              "3z3HLmPeniQkJMjDw0Px8fFyd3c3ew6QJly3sEdct7A3XLOwR1y3sEfZ9brlZfYAAAAAANgZYh4A\n",
              "AAAAADtDzAMAAAAAYGeI+Qzm7Oysf/7zn3J2djZ7CpBmXLewR1y3sDdcs7BHXLewR9n1uuUN8AAA\n",
              "AAAAsDPcmQcAAAAAwM4Q8wAAAAAA2BliHgAAAAAAO0PMp5Njx46pUaNGqlixourXr68DBw786nlf\n",
              "ffWVKlSooHLlyun111/Xo0ePMnkp8Fhartm1a9eqQYMGqlq1qqpVq6YRI0YoJSXFhLXAY2n9XitJ\n",
              "NptNLVq0UN68eTNvIPAr0nrd7tu3T82aNVOVKlVUpUoVzZs3L5OXAv9fWq7blJQUDRkyRFWrVlXN\n",
              "mjXVvHlzHT9+3IS1wGMDBgyQp6enDMNQbGzsb56XbZrMhnTRvHlz28yZM202m80WHh5uq1ev3i/O\n",
              "OXnypK1YsWK2ixcv2lJSUmydO3e2TZkyJZOXAo+l5Zr9+eefbSdOnLDZbDbb/fv3bY0bN37yHMAM\n",
              "ablu/2vcuHG2vn372jw8PDJnHPAb0nLd3r1711a2bFnbpk2bbDabzZaUlGS7cuVKZs4EnpKW63b+\n",
              "/Pm2Bg0a2B4+fGiz2Wy2jz76yBYcHJyZM4GnbNiwwXb27FlbmTJlbLt37/7Vc7JTk3FnPh1cuXJF\n",
              "O3fuVK9evSRJgYGBOnv27C/+ZjIiIkJdunRR0aJFZRiG3njjDc2dO9eMycjh0nrN1q5dW15eXpIk\n",
              "FxcXeXt7Ky4uLrPnApLSft1K0oEDBxQVFaVRo0Zl9kzgKWm9bufMmaOGDRvK19dXkmS1WlWoUKFM\n",
              "3wtIab9uDcNQYmKiHjx4IJvNpoSEBJUsWdKMyYAkyc/P7w+vwezUZMR8Ojh79qyKFSsmBwcHSY+/\n",
              "sZUuXVpnzpx56rwzZ86oTJkyT/7d09PzF+cAmSGt1+z/unTpkiIiItSpU6fMmgk8Ja3X7aNHj/T6\n",
              "669r+vTpslqtZkwFnkjrdXvw4EE5OzurU6dO8vb21ksvvaSrV6+aMRlI83XbuXNnNWvWTEWLFlWx\n",
              "YsW0Zs0a/fvf/zZjMpBm2anJiHkAfyghIUGdO3fWiBEjVK9ePbPnAL/rww8/VLdu3VSlShWzpwBp\n",
              "lpSUpNWrV2v69OnavXu3SpQooTfffNPsWcDv2rlzp/bv36/z58/rwoULatmypd544w2zZwE5BjGf\n",
              "DkqVKqWLFy8qKSlJ0uM3XTpz5oxKly791HmlS5fW6dOnn/x7XFzcL84BMkNar1lJun37ttq1ayd/\n",
              "f38NGTIks6cCT6T1ut2wYYMmT54sT09P+fr6KiEhQZ6entzlhCme5b8RmjdvrhIlSsgwDPXq1Utb\n",
              "t241YzKQ5ut21qxZT95o1GKx6OWXX9a6devMmAykWXZqMmI+HRQuXFh16tTR7NmzJUmRkZEqWbKk\n",
              "ypcv/9R5gYGBWrhwoS5duiSbzaZp06bphRdeMGMycri0XrN37txRu3bt1K5dO73//vtmTAWeSOt1\n",
              "u2nTJp0+fVpxcXGKjo6Wu7u74uLi+PljmCKt12337t21Y8cOJSQkSJKWLl2qWrVqZfpeQEr7devl\n",
              "5aW1a9fq4cOHkqTFixerevXqmb4XeBbZqsnMe++97OXw4cO2hg0b2ipUqGCrW7eube/evTabzWbr\n",
              "06ePbcGCBU/OmzFjhs3Ly8vm5eVle+211568+yeQ2dJyzX788cc2BwcHW61atZ4cH3/8sZmzkcOl\n",
              "9Xvtf506dYp3s4fp0nrdzpo1y1atWjVbjRo1bO3atbOdOXPGrMlAmq7bBw8e2Pr27WurXLmyrUaN\n",
              "GrbWrVs/+S04gBn69etnK1GihM1qtdoKFy5sK1eunM1my75NZthsNpvZf6EAAAAAAADSjpfZAwAA\n",
              "AABgZ4h5AAAAAADsDDEPAAAAAICdIeYBAMghvL29dfv27Wd+XlBQkL755pv0HwQAAP40B7MHAACA\n",
              "zBEbG2v2BAAAkE64Mw8AQA5hGIZu3bolSfL09NQ//vEP+fj4qGzZsvr444+fnHf48GE1atRI1apV\n",
              "U0BAwJPffS5Jt2/f1uuvv64GDRqoZs2a6tevnx4+fKgjR46oZMmSOnnypCRp7NixateunVJSUjL1\n",
              "zwgAQE5BzAMAkEPdunVLMTEx2rFjh8aMGaPz589Lknr37q0+ffrowIED+uijj7Rhw4Ynzxk6dKia\n",
              "NGmi7du3a8+ePUpJSdHEiRNVqVIljRkzRt27d9f69es1depUfffdd7JY+E8NAAAyAi+zBwAgh+rR\n",
              "o4ckqWDBgvLy8tKpU6fk5uam2NhYvfLKK5KkGjVqyNfX98lzoqKiFBMTo7CwMEnS/fv3ZbVaJUkv\n",
              "vvii1q1bp7Zt22rNmjUqVKhQ5v6BAADIQYh5AAByKBcXlyf/bLValZSU9KvnGYbx5J9tNpsiIyNV\n",
              "sWLFX5yXlJSk/fv3K3/+/E/u8gMAgIzBa98AAMAT7u7uql27tmbNmiVJOnDggKKjo598PCAgQCEh\n",
              "IU/C/+bNmzp+/LgkadSoUapUqZI2bdqkYcOGPXkcAACkP2IeAAA8ZdasWZoxY4aqV6+u999/X35+\n",
              "fk8+Nn78eOXKlUve3t6qWbOmWrZsqbi4OC1evFjLly/X1KlTVb58eYWFhal79+568OCBiX8SAACy\n",
              "L8Nms9nMHgEAAAAAANKOO/MAAAAAANgZYh4AAAAAADtDzAMAAAAAYGeIeQAAAAAA7AwxDwAAAACA\n",
              "nSHmAQAAAACwM8Q8AAAAAAB2hpgHAAAAAMDOEPMAAAAAANgZYh4AAAAAADvz/wDXaXlxu3RF3AAA\n",
              "AABJRU5ErkJggg==\n",
              "\">\n",
              "      </div>\n",
              "      <script type=\"text/javascript\">\n",
              "        (() => {\n",
              "          const chartElement = document.getElementById(\"chart-f9e19bd1-db30-438f-afa2-2a71530197dc\");\n",
              "          async function getCodeForChartHandler(event) {\n",
              "            const chartCodeResponse =  await google.colab.kernel.invokeFunction(\n",
              "                'getCodeForChart', [\"chart-f9e19bd1-db30-438f-afa2-2a71530197dc\"], {});\n",
              "            const responseJson = chartCodeResponse.data['application/json'];\n",
              "            await google.colab.notebook.addCell(responseJson.code, 'code');\n",
              "          }\n",
              "          chartElement.onclick = getCodeForChartHandler;\n",
              "        })();\n",
              "      </script>\n",
              "      <style>\n",
              "        .colab-quickchart-chart-with-code  {\n",
              "            display: block;\n",
              "            float: left;\n",
              "            border: 1px solid transparent;\n",
              "        }\n",
              "\n",
              "        .colab-quickchart-chart-with-code:hover {\n",
              "            cursor: pointer;\n",
              "            border: 1px solid #aaa;\n",
              "        }\n",
              "      </style>"
            ]
          },
          "metadata": {}
        },
        {
          "output_type": "display_data",
          "data": {
            "text/plain": [
              "from matplotlib import pyplot as plt\n",
              "import seaborn as sns\n",
              "def _plot_series(series, series_name, series_index=0):\n",
              "  palette = list(sns.palettes.mpl_palette('Dark2'))\n",
              "  xs = series['index']\n",
              "  ys = series['c']\n",
              "  \n",
              "  plt.plot(xs, ys, label=series_name, color=palette[series_index % len(palette)])\n",
              "\n",
              "fig, ax = plt.subplots(figsize=(10, 5.2), layout='constrained')\n",
              "df_sorted = _df_10.sort_values('index', ascending=True)\n",
              "_plot_series(df_sorted, '')\n",
              "sns.despine(fig=fig, ax=ax)\n",
              "plt.xlabel('index')\n",
              "_ = plt.ylabel('c')"
            ],
            "text/html": [
              "      <div class=\"colab-quickchart-chart-with-code\" id=\"chart-1aa42615-8bd1-4147-aa0b-b07dbafe3344\">\n",
              "        <img style=\"width: 180px;\" src=\"data:image/png;base64,iVBORw0KGgoAAAANSUhEUgAAA/MAAAITCAYAAABLz0yVAAAAOXRFWHRTb2Z0d2FyZQBNYXRwbG90\n",
              "bGliIHZlcnNpb24zLjcuMSwgaHR0cHM6Ly9tYXRwbG90bGliLm9yZy/bCgiHAAAACXBIWXMAAA9h\n",
              "AAAPYQGoP6dpAABgrElEQVR4nO3deVTUheL//9d7hkVRFnfcFfcdcwPEBfcdFMgytUyzLDNF07q3\n",
              "7r0t1y6ouJWV7VZaAe67oOKGoinuGyru+wJuoMD8/pCPv+s362IBw8Dzcc6ck+N7hlfnvE/Hp++Z\n",
              "d4bFYrEIAAAAAADYDJO1BwAAAAAAgCdDzAMAAAAAYGOIeQAAAAAAbAwxDwAAAACAjSHmAQAAAACw\n",
              "McQ8AAAAAAA2hpgHAAAAAMDGEPMAAAAAANgYm4z56dOnW3sCAAAAAABWY5Mxf/LkSWtPAAAAAADA\n",
              "amwy5gEAAAAAKMyIeQAAAAAAbAwxDwAAAACAjSHmAQAAAACwMcQ8AAAAAAA2hpgHAAAAAMDGEPMA\n",
              "AAAAANgYYh4AAAAAABtDzAMAAAAAYGOIeQAAAAAAbAwxDwAAAACAjSHmAQAAAACwMcQ8AAAAAAA2\n",
              "hpgHAAAAAMDGEPMAAAAAANgYYh4AAAAAABtDzAMAAAAAYGNyNea7dOmixo0by9PTU23atNGuXbsk\n",
              "SUePHpWPj49q166tFi1aaP/+/bk5AwAAAACAAiVXY/6XX37Rnj17lJCQoJCQEL3wwguSpJdfflnD\n",
              "hw/XkSNHNGHChIfPF0TJaXetPQEAAAAAUMDkasy7ubk9/Ofk5GQZhqFLly5px44dGjhwoCQpMDBQ\n",
              "p0+fVmJi4mPfIy0tTSkpKY88MjIycnN2jklOuyufyDC9un6ujty4aO05AAAAAIACIte/Mz948GBV\n",
              "rlxZ7777rr7//nudPn1a5cuXl52dnSTJMAxVqVJFp06deuzrP/roI7m6uj7yiI+Pz+3ZOWLd2cNK\n",
              "vndXi0/sUccF0/Ra7DwdvXHJ2rMAAAAAADYu12N+zpw5On36tD788ENNmDDhiV//9ttvKzk5+ZFH\n",
              "y5Ytc2Fpzgvw8NSqPqPUrUoDWWTRouO71WHBVI2M/UmJRD0AAAAA4E8yLBaLJa9+WNGiRZWUlKRa\n",
              "tWrp2rVrsrOzk8ViUfny5bVp0ybVrFkzW+8TEhKi8PDwXF6bs/ZdPaupCTFadeqAJMlkGPKv3kSj\n",
              "PTuqhmsZK68DAAAAANiSXLsyf+PGDZ07d+7hrxcuXKhSpUqpbNmyeuqpp/TDDz9IkqKiolSpUqVs\n",
              "h7ytaliqor7qOFgrer+uLpXrKdNi0YLjCfJbEK5RG37W8eTL1p4IAAAAALARuXZl/uTJkwoODtbd\n",
              "u3dlMplUpkwZTZ48WZ6enjp8+LBeeOEFXb16VS4uLvrmm2/UqFGjbL+3LV6Z/3/tuXJGUxNitOb0\n",
              "QUkPrtT382iqUU06yMO1tJXXAQAAAADyszz9mH1OKQgx/392XzmjqQnRij59SJJkNkzqV8NTo5p0\n",
              "UHUXoh4AAAAA8Fu5fgM8/LEmpSvp204vaGmv19ShUh1lWDIVkbhT7eeHK2RjhJJSrlp7IgAAAAAg\n",
              "nyHm8wnPMpU1p/MQLen1mvwqPoj6XxJ/Vbv5UzR2U6RO3iTqAQAAAAAPEPP5TNMylfV9lyFa1PNV\n",
              "ta9YWxmWTP18dIfaRU3RuE2ROnXzmrUnAgAAAACsjJjPp5qVraIfuryoRT1HqF3F2kq3ZOqnozvU\n",
              "Nmqy3twcpdNEPQAAAAAUWsR8PtesbFX92OVFLewxQm0r1FK6JVPzjmxXm6jJGr95vs7cum7tiQAA\n",
              "AACAPEbM24jm5apqbtehWtDjFbWpUFPplkzNPRKvNlGT9daWBTp764a1JwIAAAAA8ggxb2NalKum\n",
              "eV2HKar7y/ItX1P3MzP0w+Ft8o2apLeJegAAAAAoFIh5G9XKvbp+6jZMkd2Hy8fdQ/czM/R9VtT/\n",
              "LW6hzhH1AAAAAFBgEfM2zsvdQ790H66I7sPlnRX1cw5tlW/UJP09bqHO3U629kQAAAAAQA4j5gsI\n",
              "b3cPRXQfrl+6vaRW5arrXmaGvju0Vb6RYXpn6yKdJ+oBAAAAoMCws/YA5Cyf8jXk7e6hLReOK3zX\n",
              "Gm27mKRvD8Zp3pHtGlC7pV5r3F7uTi7WngkAAAAA+AuI+QLIMAy1Ll9DPu4e2nL+mKYkRCv+YpK+\n",
              "ObhFc4/E67msqC9H1AMAAACATeJj9gWYYRhqXaGmorq/rHldh6p52apKy0jX1we3yCcyTP/atkQX\n",
              "76RYeyYAAAAA4AkR84WAYRhqU6GWFvR4RXO7DFWzMlWUlpGuLw9slk9kmN6LX6pLd25aeyYAAAAA\n",
              "IJuI+ULEMAy1rVhLC3uO0I9dXtRTWVH/xf5N8okM0/vxS3X5LlEPAAAAAPkdMV8IGYahdhVra1HP\n",
              "Efq+8xA1LVNZqRn3NXv/JnlHhOmD+GW6cveWtWcCAAAAAH4HMV+IGYYhv0p1tLjnq5rTeYialK6k\n",
              "1Iz7+nz/RnlHhurD7ct1NZWoBwAAAID8hpiHDMNQh0p1tLTXa/qu0wtqUrqS7qbf12f7NsgrIlT/\n",
              "3r6CqAcAAACAfISYx0OGYahj5boPo75xqYq6m35fn+6LlXdEmCbuWKFrqbetPRMAAAAACj1iHr/x\n",
              "f1G/rPdIfdNxsBqVqqg76fc0a2+svCNC9Z9fV+o6UQ8AAAAAVkPM43cZhqHOVepree+R+rrjYDUs\n",
              "WUG30+/p4z3r5RURqtBfV+l62h1rzwQAAACAQoeYx/9kGIa6VKmvFX1e11cdBqlByfK6nX5PM/es\n",
              "k3dEqMKIegAAAADIU8Q8ss0wDHWt2kAr+ryuLzoMVL0S7rp1P00zsqJ+0s7VukHUAwAAAECuI+bx\n",
              "xEyGSd2rNtQq/1Ga7TdQdbOifvrutfKOCNXkXWuIegAAAADIRcQ8/jSTYVKPag212n+UPvd7TnXc\n",
              "yunm/TRNS4iRT2SYpuxao+S0u9aeCQAAAAAFDjGPv8xkmNSzWiOtCXhDn2VFfcq9VE1NiJF3ZKjC\n",
              "d0Ur5V6qtWcCAAAAQIFBzCPHmAyTemVF/aftB6i2W1ml3EtVeEK0vCP+o2kJMUQ9AAAAAOQAYh45\n",
              "zmSY1Lt6Y0UHjNasds+qlmtZJd9L1eRda+QdEarpCTG6SdQDAAAAwJ9GzCPXmAyT+ng0UXTAaH3S\n",
              "7lnVdC2j5Ht3NWnXGnlFhGrG7rVEPQAAAAD8CcQ8cp3ZZJK/RxPFBIzRx+2eUY2sqA/buVrekWGa\n",
              "uXudbt1Ps/ZMAAAAALAZxDzyjNlkUoCHp9YGjNGMtv3l4VJaN9LuKHTnKnlHhOrjPeuJegAAAADI\n",
              "BmIeec5sMqlfjaZa23eMprftr+oupXU97Y7+8+tKeUeE6pM963WbqAcAAACA30XMw2rsTGYF1miq\n",
              "dX3HaFqbp1XNuZSup93RR7+ulHdEmGbtjdWd+/esPRMAAAAA8h1iHlZnZzIrqOZTWt8vRFN9g1XV\n",
              "uZSupd3WxB0r5B0Zqk+JegAAAAB4BDGPfMPOZFZwrWaK7ReicN8gVXUuqaupt/XvHSvkExmmz/dt\n",
              "0N10oh4AAAAAiHnkO3Yms56u1Vzr+43VFN8gVSleUldSb+mD7cvlHRGm2fs2EvUAAAAACjViHvmW\n",
              "vcms/rWaKzZwrCa3DlTl4iV0JfWW3t++TD6RYfpi/0bdTb9v7ZkAAAAAkOeIeeR79iaznqndQhsC\n",
              "xymsdT9VKu6my3dv6b34ZWodGaYv928i6gEAAAAUKsQ8bIa9yawBtVtqQ79xCvXpp4rF3HTp7k39\n",
              "K36pfCPD9NWBzUol6gEAAAAUAsQ8bI6D2U7P1WmpjYHj9B+fvqpYzE0X797UP7ctUeuoSfqaqAcA\n",
              "AABQwBHzsFkOZjsNrNNKGwLH6SPvAFUo5qqLd1L0j6yo/+bAFqIeAAAAQIFEzMPmOZrtNKiulzYG\n",
              "vqmJ3gEq7/Qg6t/dtli+UZP03cE4pWWkW3smAAAAAOQYYh4FhqPZToPremlT0Jv6t5e/3J1cdOFO\n",
              "iv6+dZF8IydpzqGtRD0AAACAAoGYR4HjaLbT8/W8tSnwTX3Qqo/KObno/J1k/S1uodpETdIPh7bp\n",
              "HlEPAAAAwIYR8yiwitjZa0h9H20OfFPvt+qtckWdde52st6KW6A2UZP1w2GiHgAAAIBtIuZR4BWx\n",
              "s9eL9Vtrc9B4vdeqt8oWddbZ2zf01pYFajt/sn48HK/7mRnWngkAAAAA2UbMo9AoYmevoVlR/6+W\n",
              "vVSmaHGduXVDE7bMV9uoyZp7hKgHAAAAYBuIeRQ6Re3sNayBr7YEjdc/W/ZUmaLFdfrWdY3fPF/t\n",
              "oqbopyPbiXoAAAAA+Roxj0KrqJ2DXmrQRluCxusfLXqqdJHiOnXrmsZtjlL7+VP089EdRD0AAACA\n",
              "fCnXYj41NVUBAQGqXbu2mjRpos6dOysxMVGSFB8fLy8vLzVt2lT16tVTWFhYbs0A/qeidg4a3vBB\n",
              "1L/boodKFSmmkzevaeymSLWfH65fju5QOlEPAAAAIB8xLBaLJTfeODU1VWvXrlX37t1lGIY+/vhj\n",
              "RUZGav369fL09NT777+vPn366Nq1a6pbt67Wr1+v+vXrZ+u9Q0JCFB4enhuzAd25f0/fHYrTp3s3\n",
              "6FrabUlSNedSGu3ZQQEenrIzma28EAAAAEBhl2tX5osUKaIePXrIMAxJkpeXl5KSkiRJhmHoxo0b\n",
              "kqTbt2/LwcFBJUuWfOz7pKWlKSUl5ZFHRgZXSZF7nOwdNKJRO8UFj9ffmndXScdiSrp5VaM3Rshv\n",
              "wVRFJu7kSj0AAAAAq8q1K/P/r0GDBqlkyZKaPn26EhIS5O/vL4vFosuXL+vzzz/X4MGDH/u6f/3r\n",
              "X3rvvfceec7Ly0txcXF5MRvQ7ftp+vZgnD7bt0HX0+5IkjxcSusNz44KqN5EZhO3ngAAAACQt/Ik\n",
              "5idOnKglS5YoJiZGTk5OeuaZZ9SnTx8NGDBAx48fV7t27bRq1arHfsw+LS1NaWlpjzz37rvvavr0\n",
              "6bk9G3jErf+K+htZUV/DtYzeaNJB/kQ9AAAAgDyU6zE/efJk/fTTT4qOjpabm5uuXLmiihUrPhLo\n",
              "wcHB6tKli1566aVsvSffmYc13bqfpm8ObNHn+zc+jPqarmU02rOjeldrTNQDAAAAyHW5Wh3h4eGa\n",
              "N2+e1qxZIzc3N0lSiRIlVKxYMa1du1aSdOXKFW3btk0NGzbMzSlAjilu76jXm/gpLmi8xj/VRa4O\n",
              "RZWYfFkjY39Sp4XTtOj4bmVkZlp7JgAAAIACLNeuzJ85c0aVK1eWh4eHnJ2dJUmOjo7atm2boqOj\n",
              "NWHCBKWnp+v+/fsaNmyYQkJCsv3eXJlHfpJyL1XfHNis2fs3KvleqiSptltZjW7SUb2qN5LJ4Eo9\n",
              "AAAAgJyVZzfAy0nEPPKjlHup+urAJn2xf5NSsqK+jls5jfHsqB7VGhL1AAAAAHIMdQHkEBeHIhrj\n",
              "2UlxQRMU4tlJLg5FdPjGRb2yfq46L5yupUl7lWnh4/cAAAAA/jpiHshhro5FFdL0QdSP8ewoZ3vH\n",
              "B1G/7kd1WTRDy4h6AAAAAH8RMQ/kElfHohrbtLPigidodFbUH7p+QS+v+1FdF83Q8qR9RD0AAACA\n",
              "P4WYB3KZm6OTxjXtrC3BE/RGkw4qbu+og9cvaPi6H9Rt8UytPLlfNnjrCgAAAABWRMwDeaSEo5Pe\n",
              "fKqL4oInaFRjPxWzc9CBa+c1bO336rZ4hlYR9QAAAACyiZgH8lgJRyeNb9ZVW4Mn6PWsqN9/7byG\n",
              "rv1e3RfP1OpTB4h6AAAAAH+ImAespESRYprQrKvigifotUbt5WTnoH3XzunFmDnqseRjrSHqAQAA\n",
              "APwOYh6wspJFiunt5t20NXiCXm3UTk52Dtp79ayGxMxRr6WfKOb0IaIeAAAAwCOIeSCfKFmkmP7W\n",
              "vLvigsdrRMN2Kmpnr91Xzuj56G+JegAAAACPIOaBfKZUkeL6e4vuiguaoFcatn0k6nsvnaW1Zw4T\n",
              "9QAAAEAhR8wD+VTposX1ToseiguaoJcbtFERs70SrpzW4DXfqM+yWVp/9ghRDwAAABRSxDyQz5Uu\n",
              "WlzvtuypuODxGt7AV0XM9tp1+bQGrv5aAcs+VSxRDwAAABQ6xDxgI8oUddY/WvbSlqDxeqmBrxzN\n",
              "dvr18ik9t/pr9V3+mTacPUrUAwAAAIUEMQ/YmLJOzvpnVtQPrd9ajmY77bh0UgNWf6V+yz/TxnNE\n",
              "PQAAAFDQEfOAjSrn5KL3WvXW5qDxerGejxzNdtp+6aSeXfWVAld8rs3nEol6AAAAoIAi5gEb5+7k\n",
              "ove9+mhz0HgNyYr6+ItJ6r/qSwWtmK3N549ZeyIAAACAHEbMAwWEu5OLPvDqo02Bb+qFet5yMJm1\n",
              "7eIJ9V/5hYJWfK4tRD0AAABQYBDzQAFTvpirPvTy16ag8Xq+rpccTGZtvXBCT6/8QsErZmvrhePW\n",
              "nggAAADgLyLmgQKqQjFX/ds7QJsC39Tgul6yN5kVd+G4glbMVv+VX2jbhRPWnggAAADgTyLmgQKu\n",
              "QnE3TcyK+kF1WsneZNbm88cUuOJzPbPyS8VfTLL2RAAAAABPiJgHComKxd30kU9fbQwcp+dqt5Sd\n",
              "YdKm84nqt/wzPbvqS+24eNLaEwEAAABkEzEPFDKVipdQaOt+2hg4TgOyon7juUQFLP9UA1Z9pV8v\n",
              "EfUAAABAfkfMA4VUZeeSCmvdTxsCx+nZ2i1kZ5i04dxR+S/7VM+t/lq/Xjpl7YkAAAAAfgcxDxRy\n",
              "VZxLalLrQMUGjtUztZrLbJgUe/aI/JfN0sDVX2vnZaIeAAAAyG+IeQCSpKrOpTTZN0gbAseqf61m\n",
              "MhsmrT97RH2WztKg1d9o1+XT1p4IAAAAIAsxD+ARVZ1LaYpvsGL7jdXTNR9E/bqzh9V76Sd6fs23\n",
              "SiDqAQAAAKsj5gE8VjWXUgpvE6z1/UIUXPMpmQxDMWcOqdfST/RC9Lfac+WMtScCAAAAhRYxD+AP\n",
              "VXcpraltntb6vmMVVONB1EefPqQeSz7WkOjvtPfKWWtPBAAAAAodYh5Atni4lta0tk9rfd8Q9avR\n",
              "VCbD0JrTB9V9yUy9GP2d9l0l6gEAAIC8QswDeCIermU0o21/resbor4enjJkaPXpg+q2eKaGxszR\n",
              "/qvnrD0RAAAAKPCIeQB/Sg3XMprZ7hmt6ztGAVlRv+rUAXVdPEPDYr7XgWtEPQAAAJBbiHkAf0lN\n",
              "t7L6uN0zWtt3jPyrN5EhQytP7VeXRTP00trvdeDaeWtPBAAAAAocYh5AjqjlVlaftH9WMX1Hq0/1\n",
              "xjJkaMXJ/eqyaLqGr/1BB69dsPZEAAAAoMAg5gHkqNpu5TSr/QBFB4xW72qNJUnLT+5T50XT9Mq6\n",
              "H3XoOlEPAAAA/FXEPIBcUadEOX3q9yDqe1VrJElamrRXnRdO14h1c3X4+kUrLwQAAABsFzEPIFfV\n",
              "LeGuz/ye0xr/0epRtaEssmhJ0h51WjhNr66fqyM3iHoAAADgSRHzAPJEvZLumt1hoFb7v6HuVRvI\n",
              "IosWn9ijjgum6bXYeTp645K1JwIAAAA2g5gHkKfqlyyvLzoM0qo+o9StyoOoX3R8tzosmKqRsT8p\n",
              "kagHAAAA/idiHoBVNChVQV92HKSVfV5X1yr1ZZFFC48nqMPCqXo99icdS75s7YkAAABAvkXMA7Cq\n",
              "hqUq6quOg7Wi9+vqUrmeMi0WLTieIL8F4Rq14WcdJ+oBAACA3yDmAeQLjUpX1Nedntfy3iPVOSvq\n",
              "5x/bpfYLwjV6wy86nnzF2hMBAACAfIOYB5CvNC5dSd90el7Leo9Up8p1lWmxKPLYTvktCNeYjb/o\n",
              "RApRDwAAABDzAPKlJqUr6dtOL2hpr9fUoVIdZVgyFZG4U+3nhytkY4SSUq5aeyIAAABgNcQ8gHzN\n",
              "s0xlzek8REt6vSa/ig+i/pfEX9Vu/hSN3RSpkzeJegAAABQ+xDwAm9C0TGV932WIFvV8Ve0r1laG\n",
              "JVM/H92hdlFTNG5TpE7dvGbtiQAAAECeIeYB2JRmZavohy4valHPEWpXoZbSLZn66egOtY2arDc3\n",
              "R+k0UQ8AAIBCgJgHYJOala2qH7sO1cIeI9Q2K+rnHdmuNlGTNX7zfJ25dd3aEwEAAIBcQ8wDsGnN\n",
              "y1XV3K5DtaDHK2pToabSLZmaeyRebaIm660tC3T21g1rTwQAAAByHDEPoEBoUa6a5nUdpqjuL8u3\n",
              "fE3dz8zQD4e3yTdqkt4m6gEAAFDA5FrMp6amKiAgQLVr11aTJk3UuXNnJSYmSpIsFov+9a9/qXbt\n",
              "2mrUqJH8/PxyawaAQqaVe3X91G2YIrsPl4+7h+5nZuj7rKj/W9xCnbudbO2JAAAAwF+Wq1fmhw8f\n",
              "rsOHD2v37t3y9/fXsGHDJEkzZszQnj17tG/fPu3du1fz5s3LzRkACiEvdw/90n24IroPl3dW1M85\n",
              "tFW+kWH6e9wioh4AAAA2zbBYLJa8+EE7duxQUFCQkpKSVKlSJa1du1a1a9f+U+8VEhKi8PDwHF4I\n",
              "oCDbcv6YpuyK1raLJyRJDiazBtRpqdcatVf5Yq5WXgcAAAA8mTz7zvz06dPl7++vlJQUXbx4UYsW\n",
              "LVKrVq3UqlUr/fzzz7/7urS0NKWkpDzyyMjIyKvZAAoIn/I1FNl9uH7u9pJalaume5kZ+vZgnHyj\n",
              "JundrYt14U6KtScCAAAA2WaXFz9k4sSJSkxMVExMjFJTU5Wenq67d+9q27ZtSkpKko+Pj+rWrasm\n",
              "TZr85rUfffSR3nvvvUee8/LyyovZAAoYwzDUunwN+bh7PLhSnxCt+ItJ+ubgFs09Eq/narfUa43b\n",
              "q5yTi7WnAgAAAH8o1z9mP3nyZP3000+Kjo6Wm5ubJMnZ2Vm7d++Wh4eHJCk4OFhdu3Z9+J36/5aW\n",
              "lqa0tLRHnnv33Xc1ffr03JwNoBCwWCzadD5RU3ZFa8elk5IkR7OdBtVppRGN2hH1AAAAyLdy9WP2\n",
              "4eHhmjdvntasWfMw5CXp2Wef1cqVKyVJ165dU3x8vBo3bvzY93B0dJSLi8sjD7PZnJuzARQShmGo\n",
              "TYVaWtDjFc3tMlTNylRRWka6vjywWT6RYXovfqku3blp7ZkAAADAb+TalfkzZ86ocuXK8vDwkLOz\n",
              "s6QHYb5t2zZdvXpVQ4YM0fHjxyVJr776ql599dVsvzc3wAOQGywWizacO6opu6K18/IpSVIRs70G\n",
              "131wpb5MUWcrLwQAAAAeyLO72eckYh5AbrJYLFp/9ojCE6K16/JpSQ+i/vm6XhrRqJ1KFy1u5YUA\n",
              "AAAo7PLsbvYAYCsMw5BfpTpa3PNVzek8RE1KV1Jqxn19vn+jvCND9eH25bqaesvaMwEAAFCIEfMA\n",
              "8DsMw1CHSnW0tNdr+q7TC2pSupLupt/XZ/s2yCsiVP/evoKoBwAAgFUQ8wDwPxiGoY6V6z6M+sal\n",
              "Kupu+n19ui9W3hFhmrhjha6l3rb2TAAAABQixDwAZNP/Rf2y3iP1TcfBalSqou6k39OsvbHyjgjV\n",
              "f35dqetEPQAAAPIAMQ8AT8gwDHWuUl/Le4/U1x0Hq2HJCrqdfk8f71kvr4hQhf66StfT7lh7JgAA\n",
              "AAowYh4A/iTDMNSlSn2t6PO6vuowSA1Kltft9HuauWedvCNCFUbUAwAAIJcQ8wDwFxmGoa5VG2hF\n",
              "n9f1RYeBqlfCXbfup2lGVtRP2rlaN4h6AAAA5CBiHgByiMkwqXvVhlrlP0qz/QaqblbUT9+9Vt4R\n",
              "oZq8aw1RDwAAgBxBzANADjMZJvWo1lCr/Ufpc7/nVMetnG7eT9O0hBj5RIZpyq41Sk67a+2ZAAAA\n",
              "sGHEPADkEpNhUs9qjbQm4A19lhX1KfdSNTUhRt6RoQrfFa2Ue6nWngkAAAAbRMwDQC4zGSb1yor6\n",
              "T9sPUG23skq5l6rwhGh5R/xH0xJiiHoAAAA8EWIeAPKIyTCpd/XGig4YrVntnlUt17JKvpeqybvW\n",
              "yDsiVNMTYnSTqAcAAEA2EPMAkMdMhkl9PJooOmC0Pmn3rGq6llHyvbuatGuNvCJCNWP3WqIeAAAA\n",
              "f4iYBwArMZtM8vdoopiAMZrZ9hnVyIr6sJ2r5R0Zppm71+nW/TRrzwQAAEA+RMwDgJWZTSb1reGp\n",
              "tQFjNKNtf3m4lNaNtDsK3blK3hGh+njPeqIeAAAAjyDmASCfMJtM6lejqdb2HaPpbfuruktpXU+7\n",
              "o//8ulLeEaH6ZM963SbqAQAAIGIeAPIdO5NZgTWaal3fMZrW5mlVcy6l62l39NGvK+UdEaZZe2N1\n",
              "5/49a88EAACAFRHzAJBP2ZnMCqr5lNb3C9FU32BVdS6la2m3NXHHCnlHhuqzvRuIegAAgEKKmAeA\n",
              "fM7OZFZwrWaK7ReicN8gVXUuqaupt/XhjuXyiQzT5/s26G46UQ8AAFCYEPMAYCPsTGY9Xau51vcb\n",
              "qym+QapSvKSupN7SB9uXyzsiTLP3bSTqAQAACgliHgBsjL3JrP61mis2cKwmtw5U5eIldCX1lt7f\n",
              "vkw+kWH6Yv9G3U2/b+2ZAAAAyEXEPADYKHuTWc/UbqENgeMU1rqfKhV30+W7t/Re/DK1jgzTl/s3\n",
              "EfUAAAAFFDEPADbO3mTWgNottaHfOIX69FPFYm66dPem/hW/VL6RYfrqwGalEvUAAAAFCjEPAAWE\n",
              "g9lOz9VpqY2B4/Qfn76qWMxNF+/e1D+3LVHrqEn6mqgHAAAoMIh5AChgHMx2GlinlTYEjtNH3gGq\n",
              "UMxVF++k6B9ZUf/NgS1EPQAAgI0j5gGggHI022lQXS9tDHxTE70DVN7pQdS/u22xfKMm6buDcUrL\n",
              "SLf2TAAAAPwJxDwAFHCOZjsNruulTUFv6t9e/nJ3ctGFOyn6+9ZF8o2cpDmHthL1AAAANoaYB4BC\n",
              "wtFsp+freWtT4Jv6oFUflXNy0fk7yfpb3EK1iZqkHw5t0z2iHgAAwCYQ8wBQyBSxs9eQ+j7aHPim\n",
              "3m/VW+WKOuvc7WS9FbdAbaIm64fDRD0AAEB+R8wDQCFVxM5eL9Zvrc1B4/Veq94qW9RZZ2/f0Ftb\n",
              "Fqjt/Mn68XC87mdmWHsmAAAAHoOYB4BCroidvYZmRf2/WvZSmaLFdebWDU3YMl9toyZr7hGiHgAA\n",
              "IL8h5gEAkqSidvYa1sBXW4LG658te6pM0eI6feu6xm+er3ZRU/TTke1EPQAAQD5BzAMAHlHUzkEv\n",
              "NWijLUHj9Y8WPVW6SHGdunVN4zZHqf38Kfr56A6lE/UAAABWRcwDAB6rqJ2Dhjd8EPXvtuihUkWK\n",
              "6eTNaxq7KVLt5ofrF6IeAADAaoh5AMAfcrJ30MsN2youaIL+3ry7SjoW08mbVxWyKVLt54crMvFX\n",
              "oh4AACCPEfMAgGxxsnfQiEbtFBc8Xn/Livqkm1c1emOE/BZMVWTiTqIeAAAgjxDzAIAnUszeUa9m\n",
              "Rf3bzbqphKOTTqRc0eiNv6jDgqmKOrZLGZmZ1p4JAABQoBHzAIA/pZi9o15r3F5xwRP0VrOucnN0\n",
              "0vGUK3pjw8/qsHCq5hP1AAAAuYaYBwD8JcXtHTWysZ+2Bk/QhKceRP2x5MsateFndVw4VQuPJxD1\n",
              "AAAAOYyYBwDkiOL2jnq9iZ/igsZr/FNd5OpQVInJlzUy9id1WjhNi47vJuoBAAByCDEPAMhRzg5F\n",
              "NKpJB8UFT9CbTTvL1aGIjiZf0mux89R50TQtPr5bmRaiHgAA4K8g5gEAucLFoYje8OyouOC3NLZp\n",
              "J7k4FNGRG5f0auw8dV44XUtP7CHqAQAA/iRiHgCQq1wcimiMZyfFBU1QiOeDqD9846JeWT/3QdQn\n",
              "7SXqAQAAnhAxDwDIE66ORRXS9EHUj/HsKGd7xwdRv+5HdVk0Q8uIegAAgGwj5gEAecrVsajGNu2s\n",
              "uOAJGp0V9YeuX9DL635U10UztDxpH1EPAADwPxDzAACrcHN00rimnbUleILeaNJBxe0ddfD6BQ1f\n",
              "94O6LZ6plSf3y2KxWHsmAABAvkTMAwCsqoSjk958qovigidoVGM/FbNz0IFr5zVs7ffqtniGVhH1\n",
              "AAAAv0HMAwDyhRKOThrfrKu2Bk/Q61lRv//aeQ1d+726L56p1acOEPUAAABZiHkAQL5SokgxTWjW\n",
              "VXHBE/Rao/ZysnPQvmvn9GLMHPVY8rHWEPUAAADEPAAgfypZpJjebt5NW4Mn6NVG7eRk56C9V89q\n",
              "SMwc9Vr6iWJOHyLqAQBAoZVrMZ+amqqAgADVrl1bTZo0UefOnZWYmPjIMWvXrpXZbNa0adNyawYA\n",
              "wMaVLFJMf2veXXHB4zWiYTsVtbPX7itn9Hz0t0Q9AAAotHL1yvzw4cN1+PBh7d69W/7+/ho2bNjD\n",
              "30tOTtZbb72lHj165OYEAEABUapIcf29RXfFBU3QKw3bPhL1vZfO0tozh4l6AABQaORazBcpUkQ9\n",
              "evSQYRiSJC8vLyUlJT38/ZEjR+qdd95RqVKl/vB90tLSlJKS8sgjIyMjt2YDAPK50kWL650WPRQX\n",
              "NEEvN2ijImZ7JVw5rcFrvlGfZbO0/uwRoh4AABR4efad+enTp8vf31+SFBkZKZPJpD59+vzP1330\n",
              "0UdydXV95BEfH5/bcwEA+VzposX1bsueigser+ENfOVottOuy6c1cPXXClj2qWKJegAAUIAZljz4\n",
              "k87EiRO1ZMkSxcTEKCUlRd26ddP69evl5uamF154QZ6enho9evRjX5uWlqa0tLRHnnv33Xc1ffr0\n",
              "3J4NALAhl+7c1Kf7YjXn0FalZaRLkpqXraoQz05qU6Hmw0+KAQAAFAR2uf0DJk+erPnz5ys6OlpO\n",
              "Tk5at26dzp8/L09PT0nSlStXtHjxYl2+fFn//ve/f/N6R0dHOTo6PvKc2WzO7dkAABtT1slZ/2zZ\n",
              "S680bKtZe2P1w+Ft2nHppAas/kotylZVSNNO8i1P1AMAgIIhV6/Mh4eH68cff1R0dLRKlCjx2GP+\n",
              "15X5xwkJCVF4eHgOrQQAFEQX7qRo1p71+vFI/MMr9S3LVdNYz07yKV+DqAcAADYt174zf+bMGY0d\n",
              "O1Y3btyQn5+fPD091apVq9z6cQAAPMLdyUXve/XR5qDxGlLPR45mO8VfTFL/VV8qaMVsbT5/zNoT\n",
              "AQAA/rQ8+c58TuPKPADgSZ2/naxP9q7X3MPxupf54P+K4uVeXWObdpa3u4d1xwEAADyhPLubPQAA\n",
              "1lS+mKs+9PLXpqDxer6ulxxMZm29cELBK2YreMVsbb1w3NoTAQAAso2YBwAUKhWKuerf3gHaFPim\n",
              "Btf1kr3JrLgLxxW0Yrb6r/xC2y6csPZEAACA/4mYBwAUShWKu2liVtQPqtNK9iazNp8/psAVn+uZ\n",
              "lV8q/mKStScCAAD8LmIeAFCoVSzupo98+mpj4Dg9V7ul7AyTNp1PVL/ln+nZVV9qx8WT1p4IAADw\n",
              "G8Q8AACSKhUvodDW/bQxcJwGZEX9xnOJClj+qQas+kq/XiLqAQBA/kHMAwDwXyo7l1RY637aEDhO\n",
              "z9ZuITvDpA3njsp/2ad6bvXX+vXSKWtPBAAAIOYBAHicKs4lNal1oGIDx+qZWs1lNkyKPXtE/stm\n",
              "aeDqr7XzMlEPAACsh5gHAOAPVHUupcm+QdoQOFb9azWT2TBp/dkj6rN0lgat/ka7Lp+29kQAAFAI\n",
              "EfMAAGRDVedSmuIbrNh+Y/V0zQdRv+7sYfVe+omeX/OtEoh6AACQh4h5AACeQDWXUgpvE6z1/UIU\n",
              "XPMpmQxDMWcOqdfST/RC9Lfac+WMtScCAIBCgJgHAOBPqO5SWlPbPK31fccqqMaDqI8+fUg9lnys\n",
              "IdHfae+Vs9aeCAAACjBiHgCAv8DDtbSmtX1a6/uGqF+NpjIZhtacPqjuS2bqxejvtO8qUQ8AAHIe\n",
              "MQ8AQA7wcC2jGW37a13fEPX18JQhQ6tPH1S3xTM1NGaO9l89Z+2JAACgACHmAQDIQTVcy2hmu2e0\n",
              "ru8YBWRF/apTB9R18QwNi/leB64R9QAA4K8j5gEAyAU13crq43bPaG3fMfKv3kSGDK08tV9dFs3Q\n",
              "S2u/14Fr5609EQAA2DBiHgCAXFTLraw+af+sYvqOVp/qjWXI0IqT+9Vl0XQNX/uDDl67YO2JAADA\n",
              "BhHzAADkgdpu5TSr/QBFB4xW72qNJUnLT+5T50XT9Mq6H3XoOlEPAACyj5gHACAP1SlRTp/6PYj6\n",
              "XtUaSZKWJu1V54XTNWLdXB2+ftHKCwEAgC0g5gEAsIK6Jdz1md9zWuM/Wj2qNpRFFi1J2qNOC6fp\n",
              "1fVzdeQGUQ8AAH4fMQ8AgBXVK+mu2R0GarX/KHWv2kAWWbT4xB51XDBNr8XO09Ebl6w9EQAA5EPE\n",
              "PAAA+UD9khX0RYdBWtVnlLpVeRD1i47vVocFUzUy9iclEvUAAOC/EPMAAOQjDUpV0JcdB2lln9fV\n",
              "tUp9WWTRwuMJ6rBwql6P/UnHki9beyIAAMgHiHkAAPKhhqUq6quOg7Wi9+vqUrmeMi0WLTieIL8F\n",
              "4Rq14WcdJ+oBACjUiHkAAPKxRqUr6utOz2t575HqnBX184/tUvsF4Rq94RcdT75i7YkAAMAKiHkA\n",
              "AGxA49KV9E2n57Ws90h1qlxXmRaLIo/tlN+CcI3Z+ItOpBD1AAAUJsQ8AAA2pEnpSvq20wta2us1\n",
              "dahURxmWTEUk7lT7+eEK2RihpJSr1p4IAADyADEPAIAN8ixTWXM6D9GSXq/Jr+KDqP8l8Ve1mz9F\n",
              "YzdF6uRNoh4AgIKMmAcAwIY1LVNZ33cZokU9X1X7irWVYcnUz0d3qF3UFI3bFKlTN69ZeyIAAMgF\n",
              "xDwAAAVAs7JV9EOXF7Wo5wi1q1BL6ZZM/XR0h9pGTdabm6N0mqgHAKBAIeYBAChAmpWtqh+7DtXC\n",
              "HiPUNivq5x3ZrjZRkzV+83yduXXd2hMBAEAOIOYBACiAmperqrldh2pBj1fUpkJNpVsyNfdIvNpE\n",
              "TdZbWxbo7K0b1p4IAAD+AmIeAIACrEW5aprXdZiiur8s3/I1dT8zQz8c3ibfqEl6m6gHAMBmEfMA\n",
              "ABQCrdyr66duwxTZfbh83D10PzND32dF/d/iFurc7WRrTwQAAE+AmAcAoBDxcvfQL92HK6L7cHln\n",
              "Rf2cQ1vlGxmmv8ctIuoBALARxDwAAIWQt7uHIroP1y/dXlKrctV1LzND3x2Kk29kmN7ZukjniXoA\n",
              "API1O2sPAAAA1uNTvoa83T205cJxhe9ao20Xk/TtwTjNO7JdA2q31GuN28vdycXaMwEAwP/jia/M\n",
              "L1myRDdu3Hj46+vXr2vZsmU5uQkAAOQhwzDUunwNRXZ/WT93HaaW5aopLSNd3xzcotaRYfrH1sW6\n",
              "eCfF2jMBAMB/MSwWi+VJXuDp6amEhISHv7ZYLGrWrJl27tyZ09t+V0hIiMLDw/Ps5wEAUJhYLBZt\n",
              "Op+oKbuitePSSUmSo9lOg+q00ohG7VSOK/UAAFjdX/7OvGEYysjIyIktAAAgHzAMQ20q1NKCHq9o\n",
              "bpehalamitIy0vXlgc3yiQzTe/FLdenOTWvPBACgUHvimHd2dtaWLVse/nrz5s1ydnbO0VEAAMD6\n",
              "DMNQ24q1tLDnCP3Y5UU9lRX1X+zfJJ/IML0fv1SX7xL1AABYwxPfAC8sLEx9+/ZV3bp1JUlHjx7V\n",
              "ggULcnwYAADIHwzDULuKtdW2Qi2tP3tE4QnR2nX5tGbv36Q5h7bp+XreGtGwrUoXLW7tqQAAFBpP\n",
              "/J156cFN7+Li4iRJPj4+cnNzy+ldf4jvzAMAYD0Wi0Xrzh7RlF1rtPvKGUlSUTt7PV/XWyMatVWp\n",
              "IkQ9AAC57U/FvLUR8wAAWJ/FYtHaM4cVnhD9SNS/UNdHrzRqQ9QDAJCL/vIN8AAAQOFkGIY6Vq6r\n",
              "pb1e03edXlDjUhV1N/2+Pt0XK++IME3csULXUm9beyYAAAUSMQ8AAP6S/4v6Zb1H6puOg9WoVEXd\n",
              "Sb+nWXtj5R0Rqv/8ulLXiXoAAHIUMQ8AAHKEYRjqXKW+lvceqa87DlbDkhV0O/2ePt6zXl4RoQr9\n",
              "dZWup92x9kwAAAoEYh4AAOQowzDUpUp9rejzur7qMEgNSpbX7fR7mrlnnbwjQhVG1AMA8JcR8wAA\n",
              "IFcYhqGuVRtoRZ/X9UWHgapXwl237qdpRlbUT9q5WjeIegAA/hRiHgAA5CqTYVL3qg21yn+UZvsN\n",
              "VN2sqJ++e628I0I1edcaJafdtfZMAABsSq7FfGpqqgICAlS7dm01adJEnTt3VmJioiRpyJAhD59v\n",
              "3bq1tm/fnlszAABAPmEyTOpRraFW+4/S537PqY5bOd28n6ZpCTHyjgzVFKIeAIBsy9Ur88OHD9fh\n",
              "w4e1e/du+fv7a9iwYZKkvn376sCBA9q9e7fefvttBQcH5+YMAACQj5gMk3pWa6Q1AW/os6yoT7mX\n",
              "qqlZUR++K1op91KtPRMAgHzNsFgslrz4QTt27FBQUJCSkpIeef7KlSsqX7687t69Kzs7u9+8Li0t\n",
              "TWlpaY889+6772r69Om5ORcAAOSRTEumliXt09SEaB25cUmS5OpQRC81aKMX67eWi0MRKy8EACD/\n",
              "ybPvzE+fPl3+/v6Pfb5Hjx6PDXlJ+uijj+Tq6vrIIz4+PrfnAgCAPGIyTOpdvbGiA0ZrVrtnVcu1\n",
              "rJLvpWryrjXyjgjV9IQY3eRKPQAAj8iTK/MTJ07UkiVLFBMTIycnp4fP//DDD/rggw+0YcMGlStX\n",
              "7rGv5co8AACFS0ZmppYm7dXUhGglJl+WJLk6FNXLDdtoSD0fOXOlHgCA3I/5yZMn66efflJ0dLTc\n",
              "3NwePv/zzz/rnXfeUUxMjKpUqfJE7xkSEqLw8PAcXgoAAPKTjMxMLT6xR9N2x+hYVtS7OTrp5QZt\n",
              "NKS+j4rbO1p5IQAA1pOrH7MPDw/XvHnztGbNmkdC/pdfftE777yj6OjoJw55AABQOJhNJvWt4am1\n",
              "AWM0o21/ebiU1o20OwrduUreEaH6eM963bqf9r/fCACAAijXrsyfOXNGlStXloeHh5ydnSVJjo6O\n",
              "2rZtm+zt7eXu7q5SpUo9PD4mJuaRX/8RrswDAFD4pGdmaNGJPZqWEKMTKVckSSUcnfRKw7Z6oZ63\n",
              "inGlHgBQiOTZ3exzEjEPAEDhlZ6ZoYXHd2taQoySbl6VJJV0LKZXGrXVC3W95WTvYOWFAADkvjy7\n",
              "mz0AAEBOsDOZFVTzKa3vF6KpvsGq6lxK19Jua+KOFfKODNVnezfozv171p4JAECuIuYBAIBNsjOZ\n",
              "FVyrmWL7hSjcN0hVnUvqauptfbhjuXwiw/T5vg26m07UAwAKJmIeAADYNDuTWU/Xaq71/cZqim+Q\n",
              "qhQvqSupt/TB9uXyjgjT7H0biXoAQIFDzAMAgALB3mRW/1rNFRs4VpNaB6py8RK6knpL729fJp/I\n",
              "MH2xf6Pupt+39kwAAHIEMQ8AAAoUe5NZz9ZuoQ2B4xTWup8qFXfT5bu39F78MrWODNOX+zcR9QAA\n",
              "m0fMAwCAAsneZNaA2i21od84hfr0U8Vibrp096b+Fb9UvpFh+urAZqUS9QAAG0XMAwCAAs3BbKfn\n",
              "6rTUxsBx+o9PX1Us5qaLd2/qn9uWqHXUJH1N1AMAbBAxDwAACgUHs50G1mmlDYHj9JF3gCoUc9XF\n",
              "Oyn6x7Yl8o2apG8PxhH1AACbQcwDAIBCxdFsp0F1vbQx8E1N9A5QeSdXXbiTone2LpJv1CR9dzBO\n",
              "aRnp1p4JAMAfIuYBAECh5Gi20+C6XtoU9Kb+7eUvdycXXbiTor9vXSTfyEmac2grUQ8AyLeIeQAA\n",
              "UKg5mu30fD1vbQp8Ux+06qNyTi46fydZf4tbqDZRk/TDoW26R9QDAPIZYh4AAEBSETt7Danvo82B\n",
              "b+r9Vr1Vrqizzt1O1ltxC9QmarJ+OEzUAwDyD2IeAADgvxSxs9eL9VtrU9B4vdeqt8oWddbZ2zf0\n",
              "1pYFajt/sn48HK/7mRnWngkAKOSIeQAAgMcoamevofVba3PQeP2rZS+VKVpcZ27d0IQt89U2arLm\n",
              "HiHqAQDWQ8wDAAD8gaJ29hrWwFdbgsbrny17qkzR4jp967rGb56vdlFT9NOR7UQ9ACDPEfMAAADZ\n",
              "UNTOQS81aKMtQeP1jxY9VbpIcZ26dU3jNkep/fwp+vnoDqUT9QCAPELMAwAAPIGidg4a3vBB1L/b\n",
              "oodKFSmmkzevaeymSLWbH65fiHoAQB4g5gEAAP4EJ3sHvdywreKCJujvzburpGMxnbx5VSGbItV+\n",
              "frgiE38l6gEAuYaYBwAA+Auc7B00olE7xQWP19+yoj7p5lWN3hghvwVTFZm4k6gHAOQ4Yh4AACAH\n",
              "FLN31KtZUf92s24q4eikEylXNHrjL+qwYKqiju1SRmamtWcCAAoIYh4AACAHFbN31GuN2ysueILe\n",
              "atZVbo5OOp5yRW9s+FkdFk7VfKIeAJADiHkAAIBcUNzeUSMb+2lr8ARNeOpB1B9LvqxRG35Wx4VT\n",
              "tfB4AlEPAPjTiHkAAIBcVNzeUa838VNc0HiNf6qLXB2KKjH5skbG/qROC6dp0fHdRD0A4IkR8wAA\n",
              "AHnA2aGIRjXpoLjgCXqzaWe5OhTR0eRLei12njovmqbFx3cr00LUAwCyh5gHAADIQy4ORfSGZ0fF\n",
              "Bb+lsU07ycWhiI7cuKRXY+ep88LpWnpiD1EPAPifiHkAAAArcHEoojGenRQXNEEhng+i/vCNi3pl\n",
              "/dwHUZ+0l6gHAPwuYh4AAMCKXB2LKqTpg6gf49lRzvaOD6J+3Y/qsmiGlhH1AIDHIOYBAADyAVfH\n",
              "ohrbtLPigifojSYdVNzeUYeuX9DL635U10UztDxpH1EPAHiImAcAAMhH3Byd9OZTXR6J+oPXL2j4\n",
              "uh/UbfFMrTy5XxaLxdozAQBWRswDAADkQyX+K+pHNfZTMTsHHbh2XsPWfq9ui2doFVEPAIUaMQ8A\n",
              "AJCPlXB00vhmXbU1eIJez4r6/dfOa+ja79V98UytPnWAqAeAQoiYBwAAsAElihTThGZdFRc8Qa81\n",
              "ai8nOwftu3ZOL8bMUc8lHyv69EGiHgAKEWIeAADAhpQsUkxvN++mrcET9GqjdnKyc9Ceq2f1QvR3\n",
              "6rX0E8WcPkTUA0AhQMwDAADYoJJFiulvzbsrLni8RjRsp6J29tp95Yyej/6WqAeAQoCYBwAAsGGl\n",
              "ihTX31t0V1zQBL3SsO0jUd976SytPXOYqAeAAoiYBwAAKABKFy2ud1r0UFzQBL3coI2KmO2VcOW0\n",
              "Bq/5Rn2WzdL6s0eIegAoQIh5AACAAqR00eJ6t2VPxQWP1/AGvnI022nX5dMauPprBSz7VLFEPQAU\n",
              "CMQ8AABAAVSmqLP+0bKX4oIm6KWsqP/18ik9t/pr9V3+mTacPUrUA4ANI+YBAAAKsLJOzvpny17a\n",
              "EjReQ+u3lqPZTjsundSA1V+p3/LPtPEcUQ8AtoiYBwAAKATKObnovVa9tTlovF6s5yNHs522Xzqp\n",
              "Z1d9pcAVn2vzuUSiHgBsCDEPAABQiLg7ueh9rz7aHDReQ7KiPv5ikvqv+lJBK2Zr8/lj1p4IAMgG\n",
              "Yh4AAKAQcndy0QdefbQp8E29UM9bDiaztl08of4rv1DQis8Vd+G4tScCAP4AMQ8AAFCIlS/mqg+9\n",
              "/LUpaLyer+slB5NZWy+cUPCK2QpeMVtbiXoAyJeIeQAAAKhCMVf92ztAmwLf1OC6XrI3mRV34biC\n",
              "VsxW/5VfaNuFE9aeCAD4L8Q8AAAAHqpQ3E0Ts6J+UJ1WsjeZtfn8MQWu+FzPrPxS8ReTrD0RACBi\n",
              "HgAAAI9RsbibPvLpq42B4/Rc7ZayM0zadD5R/ZZ/pmdXfakdF09aeyIAFGrEPAAAAH5XpeIlFNq6\n",
              "nzYGjtOArKjfeC5RAcs/1YBVX+nXS0Q9AFgDMQ8AAID/qbJzSYW17qcNgeP0bO0WsjNM2nDuqPyX\n",
              "farnVn+tXy+dsvZEAChUiHkAAABkWxXnkprUOlCxgWP1TK3mMhsmxZ49Iv9lszRw9dfaeZmoB4C8\n",
              "kGsxn5qaqoCAANWuXVtNmjRR586dlZiYKEm6dOmSunXrplq1aqlhw4basGFDbs0AAABALqjqXEqT\n",
              "fYO0IXCs+tdqJrNh0vqzR9Rn6SwNWv2Ndl0+be2JAFCg5eqV+eHDh+vw4cPavXu3/P39NWzYMEnS\n",
              "W2+9JS8vLx09elTffPONBgwYoPv37+fmFAAAAOSCqs6lNMU3WLH9xurpmg+ift3Zw+q99BM9v+Zb\n",
              "JRD1AJArDIvFYsmLH7Rjxw4FBQUpKSlJxYsXV2Jiotzd3SVJLVu21MSJE9WpU6ffvC4tLU1paWmP\n",
              "PPfuu+9q+vTpeTEbAAAAT+BEyhXN2L1WUcd2KTPrj5mdKtdViGcnNS5dycrrAKDgyLPvzE+fPl3+\n",
              "/v66evWq7t+//zDkJalatWo6derx36/66KOP5Orq+sgjPj4+r2YDAADgCVR3Ka2pbZ7W+r5jFVij\n",
              "qUyGoejTh9RjyccaEv2d9l45a+2JAFAg5EnMT5w4UYmJifroo4+e+LVvv/22kpOTH3m0bNkyF1YC\n",
              "AAAgp3i4ltb0tv21vm+I+mVF/ZrTB9V9yUy9GP2d9l0l6gHgr8j1mJ88ebLmz5+vFStWyMnJSaVK\n",
              "lZKdnZ0uXLjw8JikpCRVqVLlsa93dHSUi4vLIw+z2ZzbswEAAJADPFzLaEbb/lrXN0R9PTxlyNDq\n",
              "0wfVbfFMDY2Zo/1Xz1l7IgDYpFyN+fDwcM2bN09r1qyRm5vbw+eDg4P12WefSZK2b9+us2fPql27\n",
              "drk5BQAAAFZUw7WMZrZ7Ruv6jlFAVtSvOnVAXRfP0LCY73XgGlEPAE8i126Ad+bMGVWuXFkeHh5y\n",
              "dnaW9OAq+7Zt23Tx4kUNGjRIJ06ckIODgz7++GP5+fll+71DQkIUHh6eG7MBAACQB47euKRpCTFa\n",
              "fGKPLHrwx9HuVRtojGcn1S9Z3srrACD/y7O72eckYh4AAKBgOHLjoqYlxGjJib0Po75ntUYa3aSj\n",
              "6pV0/x+vBoDCK8/uZg8AAAD8v2q7ldOs9gMUHTBavas1liQtS9qrzoum6ZV1P+rQ9Qv/4x0AoHAi\n",
              "5gEAAGB1dUqU06d+D6K+V7VGkqSlSXvVeeF0jVg3V4evX7TyQgDIX4h5AAAA5Bt1S7jrM7/ntMZ/\n",
              "tHpUbSiLLFqStEedFk7Tq+vn6sgNoh4AJGIeAAAA+VC9ku6a3WGgVvuPUveqDWSRRYtP7FHHBdP0\n",
              "Wuw8Hb1xydoTAcCqiHkAAADkW/VLVtAXHQZpVZ9R6lblQdQvOr5bHRZM1cjYn5RI1AMopIh5AAAA\n",
              "5HsNSlXQlx0HaWWf19W1Sn1ZZNHC4wnqsHCqXo/9SceSL1t7IgDkKWIeAAAANqNhqYr6quNgrej9\n",
              "urpUrqdMi0ULjifIb0G4Rm34WceJegCFBDEPAAAAm9OodEV93el5Le89Up2zon7+sV1qvyBcozf8\n",
              "ouPJV6w9EQByFTEPAAAAm9W4dCV90+l5Les9Up0q11WmxaLIYzvltyBcYzb+ohMpRD2AgomYBwAA\n",
              "gM1rUrqSvu30gpb2ek0dKtVRhiVTEYk71X5+uEI2Rigp5aq1JwJAjiLmAQAAUGB4lqmsOZ2HaEmv\n",
              "1+RX8UHU/5L4q9rNn6KxmyJ18iZRD6BgIOYBAABQ4DQtU1nfdxmiRT1fVfuKtZVhydTPR3eoXdQU\n",
              "jdsUqVM3r1l7IgD8JcQ8AAAACqxmZavohy4valHPEWpXoZbSLZn66egOtY2arDc3R+k0UQ/ARhHz\n",
              "AAAAKPCala2qH7sO1cIeI9Q2K+rnHdmuNlGTNX7zfJ25dd3aEwHgiRDzAAAAKDSal6uquV2HakGP\n",
              "V9SmQk2lWzI190i82kRN1ltbFujsrRvWnggA2ULMAwAAoNBpUa6a5nUdpqjuL8u3fE3dz8zQD4e3\n",
              "yTdqkt7eskDniHoA+RwxDwAAgEKrlXt1/dRtmCK7D5ePu4fuZ2bo+8Pb1Dpqkv4Wt1DnbidbeyIA\n",
              "PBYxDwAAgELPy91Dv3Qfrojuw+WdFfVzDm2Vb2SY/h63iKgHkO8Q8wAAAEAWb3cPRXQfrl+6vaRW\n",
              "5arrXmaGvjsUJ9/IML2zdZHOE/UA8gk7aw8AAAAA8huf8jXk7e6hLReOK3zXGm27mKRvD8Zp3pHt\n",
              "GlC7pV5r3F7uTi7WngmgECPmAQAAgMcwDEOty9eQj7uHNp8/pim71mj7pZP65uAWzT0Sr+eyor4c\n",
              "UQ/ACviYPQAAAPAHDMOQb4Wamt/jFc3rOlTNy1ZVWka6vj64RT6RYfrXtiW6eCfF2jMBFDLEPAAA\n",
              "AJANhmGoTYVaWtDjFc3tMlTNylRRWka6vjywWT6RYXovfqku3blp7ZkACgliHgAAAHgChmGobcVa\n",
              "WthzhH7s8qKeyor6L/Zvkk9kmN6PX6rLd4l6ALmLmAcAAAD+BMMw1K5ibS3qOULfdx6ipmUqKzXj\n",
              "vmbv3yTviDB9sH25rty9Ze2ZAAooYh4AAAD4CwzDkF+lOlrc81XN6TxETUpXUmrGfX2+b4O8I0P1\n",
              "4fbluppK1APIWcQ8AAAAkAMMw1CHSnW0tNdr+q7TC2pSupLupt/XZ/s2yCsiVP/evoKoB5BjiHkA\n",
              "AAAgBxmGoY6V6z6M+salKupu+n19ui9W3hFhmrhjha6l3rb2TAA2jpgHAAAAcsH/Rf2y3iP1TcfB\n",
              "alSqou6k39OsvbHyjgjVf35dqetEPYA/iZgHAAAAcpFhGOpcpb6W9x6przsOVsOSFXQ7/Z4+3rNe\n",
              "XhGhCv11la6n3bH2TAA2hpgHAAAA8oBhGOpSpb5W9HldX3UYpAYly+t2+j3N3LNO3hGhCiPqATwB\n",
              "Yh4AAADIQ4ZhqGvVBlrR53V90WGg6pVw1637aZqRFfWTdq7WDaIewP9AzAMAAABWYDJM6l61oVb5\n",
              "j9Jsv4GqmxX103evlXdEqCbvWqPktLvWngkgnyLmAQAAACsyGSb1qNZQq/1H6XO/51THrZxu3k/T\n",
              "tIQYeUeGagpRD+AxiHkAAAAgHzAZJvWs1khrAt7QZ1lRn3IvVVOzoj58V7RS7qVaeyaAfIKYBwAA\n",
              "APIRk2FSr6yo/7T9ANV2K6uUe6kKT4iWd8R/NC0hhqgHQMwDAAAA+ZHJMKl39cZa4z9as9o9q1qu\n",
              "ZZV8L1WTd62Rd0SopifE6CZRDxRaxDwAAACQj5lNJvXxaKLogNH6pN2zqulaRsn37mrSrjXyigjV\n",
              "jN1riXqgECLmAQAAABtgNpnk79FEMQFjNLPtM6qRFfVhO1fLOzJMM3ev0637adaeCSCPEPMAAACA\n",
              "DTGbTOpbw1NrA8ZoRtv+8nAprRtpdxS6c5W8I0L18Z71uk3UAwUeMQ8AAADYILPJpH41mmpt3zGa\n",
              "3ra/qruU1vW0O/rPryvlFRGqT4h6oEAj5gEAAAAbZmcyK7BGU63rO0bT2jytas6ldD3tjj76daW8\n",
              "I8I0a2+s7ty/Z+2ZAHIYMQ8AAAAUAHYms4JqPqX1/UI01TdYVZ1L6VrabU3csULekaH6bO8Goh4o\n",
              "QIh5AAAAoACxM5kVXKuZYvuFKNw3SFWdS+pq6m19uGO5fCLD9Pm+DbqbTtQDto6YBwAAAAogO5NZ\n",
              "T9dqrvX9xmqKb5CqFC+pK6m39MH25fKOCNPsfRuJesCGEfMAAABAAWZvMqt/reaKDRyrSa0DVbl4\n",
              "CV1JvaX3ty+TT2SYvti/UXfT71t7JoAnRMwDAAAAhYC9yaxna7fQhsBxCmvdT5WKu+ny3Vt6L36Z\n",
              "WkeG6cv9m4h6wIYQ8wAAAEAhYm8ya0DtltrQb5xCffqpYjE3Xbp7U/+KXyrfyDB9dWCzUol6IN8j\n",
              "5gEAAIBCyMFsp+fqtNTGwHH6j09fVSzmpot3b+qf25aoddQkfU3UA/larsb8qFGjVK1aNRmGoYSE\n",
              "hIfPL1++XE899ZQ8PT3VsGFDfffdd7k5AwAAAMDvcDDbaWCdVtoQOE4feQeoQjFXXbyTon9sWyLf\n",
              "qEn69mAcUQ/kQ4bFYrHk1ptv2LBBHh4e8vX11cKFC+Xp6SmLxaJSpUpp/fr1aty4sZKSklS3bl1d\n",
              "vnxZzs7O2XrfkJAQhYeH59ZsAAAAoNBKy0jXz0d3aObudTp/J1mS5O7kotcb++mZ2i3kaLaz8kIA\n",
              "Ui5fmW/btq0qVar0m+cNw9CNGzckSSkpKSpVqpQcHR1zcwoAAACAbHA022lwXS9tCnpT//byl7uT\n",
              "iy7cSdHfty6Sb+QkzTm0VWkZ6daeCRR6ef7XaoZh6Oeff1a/fv1UrFgxXb9+XfPnz5eDg8Njj09L\n",
              "S1NaWtojz2VkZOTFVAAAAKDQcjTb6fl63upfq7nmHdmuj/eu1/k7yfpb3EJ9vGedRjXuoKdrNZMD\n",
              "V+oBq8jzG+Clp6frww8/1Pz583Xy5EnFxMRo0KBBunLlymOP/+ijj+Tq6vrIIz4+Po9XAwAAAIVT\n",
              "ETt7Danvo82Bb+r9Vr1Vrqizzt1O1ltxC9QmarJ+OLxN97hSD+S5PI/5hIQEnTt3Tm3btpUktWjR\n",
              "QpUqVdKuXbsee/zbb7+t5OTkRx4tW7bMy8kAAABAoVfEzl4v1m+tTUHj9V6r3ipb1Flnb9/QW1sW\n",
              "qO38yfrxcLzuZ/IJWiCv5HnMV65cWefPn9fBgwclSYmJiTp27Jjq1Knz2OMdHR3l4uLyyMNsNufl\n",
              "ZAAAAABZitrZa2j91tocNF7/atlLZYoW15lbNzRhy3y1jZqsuUeIeiAv5Ord7F9++WUtW7ZMFy5c\n",
              "UKlSpeTs7KzExETNmzdPEydOlMlkUmZmpt5++20NGDAg2+/L3ewBAACA/OFu+j39cHibZu2N1eW7\n",
              "tyRJVYqX1Kgmfgqs+ZTsTVyIA3JDrsZ8biHmAQAAgPzlbvo9fX/oQdRfSX0Q9VWdS2pUkw4KrNFU\n",
              "dkQ9kKPy/GP2AAAAAAqeonYOGt6wjbYEjde7LXqoVJFiOnnzmsZuilS7+eH65egOpfPxeyDHEPMA\n",
              "AAAAcoyTvYNebthWcUET9Pfm3VXSsZhO3ryqkE2Raj8/XJGJvxL1QA4g5gEAAADkOCd7B41o1E5x\n",
              "weP1t6yoT7p5VaM3RshvwVRFJu4k6oG/gJgHAAAAkGuK2Tvq1ayof7tZN5VwdNKJlCsavfEXdVgw\n",
              "VVHHdikjM9PaMwGbQ8wDAAAAyHXF7B31WuP2igueoLeadZWbo5OOp1zRGxt+VoeFUzWfqAeeCDEP\n",
              "AAAAIM8Ut3fUyMZ+2ho8QROeehD1x5Iva9SGn9Vx4VQtPJ5A1APZQMwDAAAAyHPF7R31ehM/xQWN\n",
              "1/inusjVoagSky9rZOxP6rRwmhYd303UA3+AmAcAAABgNc4ORTSqSQfFBU/Qm007y9WhiI4mX9Jr\n",
              "sfPUedE0LT6+W5kWoh74fxHzAAAAAKzOxaGI3vDsqLjgtzS2aSe5OBTRkRuX9GrsPHVeOF1LT+wh\n",
              "6oH/QswDAAAAyDdcHIpojGcnxQVNUIjng6g/fOOiXlk/90HUJ+0l6gER8wAAAADyIVfHogpp+iDq\n",
              "x3h2lLO944OoX/ejuiyaoWVEPQo5Yh4AAABAvuXqWFRjm3ZWXPAEvdGkg4rbO+rQ9Qt6ed2P6rpo\n",
              "hpYn7SPqUSgR8wAAAADyPTdHJ735VJdHov7g9Qsavu4HdVs8UytP7pfFYrH2TCDPEPMAAAAAbEaJ\n",
              "/4r6UY39VMzOQQeundewtd+r2+IZWkXUo5Ag5gEAAADYnBKOThrfrKu2Bk/Q61lRv//aeQ1d+726\n",
              "L56p1acOEPUo0Ih5AAAAADarRJFimtCsq+KCJ+i1Ru3lZOegfdfO6cWYOeq55GNFnz5I1KNAIuYB\n",
              "AAAA2LySRYrp7ebdtDV4gl5t1E5Odg7ac/WsXoj+Tr2WfqKY04eIehQoxDwAAACAAqNkkWL6W/Pu\n",
              "igserxEN26monb12Xzmj56O/JepRoBDzAAAAAAqcUkWK6+8tuisuaIJeadj2kajvvXSW1p45TNTD\n",
              "phHzAAAAAAqs0kWL650WPRQXNEEvN2ijImZ7JVw5rcFrvlGfZbO0/uwRoh42iZgHAAAAUOCVLlpc\n",
              "77bsqbjg8RrewFeOZjvtunxaA1d/rYBlnyqWqIeNIeYBAAAAFBplijrrHy17KS5ogl7KivpfL5/S\n",
              "c6u/Vt/ln2nD2aNEPWwCMQ8AAACg0Cnr5Kx/tuylLUHjNbR+azma7bTj0kkNWP2V+i3/TJvOJRL1\n",
              "yNeIeQAAAACFVjknF73Xqrc2B43Xi/V85Gi20/ZLJ/XMqi8VtOJzbSbqkU8R8wAAAAAKPXcnF73v\n",
              "1Uebg8ZrSFbUb7uYpP6rvlTQitnafP6YtScCjyDmAQAAACCLu5OLPvDqo02Bb+qFet5yMJm17eIJ\n",
              "9V/5hYJWfK64C8etPRGQRMwDAAAAwG+UL+aqD738tSlovJ6v6yUHk1lbL5xQ8IrZCl4xW1uJelgZ\n",
              "MQ8AAAAAv6NCMVf92ztAmwLf1OC6XrI3mRV34biCVsxW/5VfaNuFE9aeiEKKmAcAAACA/6FCcTdN\n",
              "zIr6QXVayd5k1ubzxxS44nM9s/JLxV9MsvZEFDLEPAAAAABkU8XibvrIp682Bo7Tc7Vbys4wadP5\n",
              "RPVb/pmeXfWldlw8ae2JKCSIeQAAAAB4QpWKl1Bo637aGDhOA7KifuO5RAUs/1QDVn2lXy8R9chd\n",
              "xDwAAAAA/EmVnUsqrHU/bQgcp2drt5CdYdKGc0flv+xTPbf6a/166ZS1J6KAIuYBAAAA4C+q4lxS\n",
              "k1oHKjZwrJ6p1Vxmw6TYs0fkv2yWBq7+WjsvE/XIWcQ8AAAAAOSQqs6lNNk3SBsCx6p/rWYyGyat\n",
              "P3tEfZbO0qDV32jX5dPWnogCgpgHAAAAgBxW1bmUpvgGK7bfWD1d80HUrzt7WL2XfqLn13yrBKIe\n",
              "fxExDwAAAAC5pJpLKYW3Cdb6fiEKrvmUTIahmDOH1GvpJ3oh+lvtuXLG2hNho4h5AAAAAMhl1V1K\n",
              "a2qbp7W+71gF1mgqk2Eo+vQh9VjysYZEf6e9V85aeyJsDDEPAAAAAHnEw7W0prftr/V9Q9QvK+rX\n",
              "nD6o7ktm6sXo77TvKlGP7CHmAQAAACCPebiW0Yy2/bWub4j6enjKkKHVpw+q2+KZGhozR/uvnrP2\n",
              "RORzxDwAAAAAWEkN1zKa2e4Zres7RgFZUb/q1AF1XTxDw2K+14FrRD0ej5gHAAAAACur6VZWH7d7\n",
              "Rmv7jpF/9SYyZGjlqf3qsmiGXlr7vQ5cO2/tichniHkAAAAAyCdquZXVJ+2fVUzf0epTvbEMGVpx\n",
              "cr+6LJqul9f9qIPXLlh7IvIJYh4AAAAA8pnabuU0q/0ARQeMVu9qjSVJy5L2qvOiaXpl3Y86dJ2o\n",
              "L+yIeQAAAADIp+qUKKdP/R5Efc9qjSRJS5P2qvPC6Rqxbq4OX79o5YWwFmIeAAAAAPK5uiXc9bnf\n",
              "c1rjP1o9qjaURRYtSdqjTgun6dX1c3XkBlFf2BDzAAAAAGAj6pV01+wOA7Xaf5S6V20giyxafGKP\n",
              "Oi6Yptdi5+nojUvWnog8QswDAAAAgI2pX7KCvugwSKv6jFK3Kg+iftHx3eqwYKpGxv6kRKK+wCPm\n",
              "AQAAAMBGNShVQV92HKSVfV5X1yr1ZZFFC48nqMPCqXo99icdT75s7YnIJcQ8AAAAANi4hqUq6quO\n",
              "g7Wi9+vqUrmeMi0WLTieoPYLwvXGhp+J+gKImAcAAACAAqJR6Yr6utPzWt57pDpnRX3UsV1qvyBc\n",
              "ozf8ouPJV6w9ETkkV2N+1KhRqlatmgzDUEJCwsPn09LSNHLkSNWqVUuNGjXSwIEDc3MGAAAAABQq\n",
              "jUtX0jedntey3iPVqXJdZVosijy2U34LwjVm4y86kULU2zq73HzzoKAgjR8/Xr6+vo88/9Zbb8kw\n",
              "DB05ckSGYejChQu5OQMAAAAACqUmpSvp204vKOHyaYUnRGvtmcOKSNyp+ccSFFijqUY16aBqLqWs\n",
              "PRN/Qq7GfNu2bX/z3O3bt/XVV1/pzJkzMgxDkuTu7v6775GWlqa0tLRHnsvIyMjZoQAAAABQgHmW\n",
              "qaw5nYdo5+VTmrorRuvOHtYvib8q6tguBdV8SqOa+KmqM1FvS/L8O/PHjh1TyZIlNXHiRDVv3lxt\n",
              "2rRRTEzM7x7/0UcfydXV9ZFHfHx8Hi4GAAAAgILhqTJV9H2XIVrU81W1r1hbGZZM/Xx0h9pFTdG4\n",
              "TZE6dfOatScim/I85tPT03Xy5EnVr19fO3bs0IwZM9S/f39dvHjxsce//fbbSk5OfuTRsmXLPF4N\n",
              "AAAAAAVHs7JV9EOXF7Wo5wi1q1BL6ZZM/XR0h9pGTdabm6N0mqjP9/I85qtUqSKTyaTnnntOktS0\n",
              "aVNVr15de/fufezxjo6OcnFxeeRhNpvzcjIAAAAAFEjNylbVj12HamGPEWqbFfXzjmxXm6jJGr95\n",
              "vs7cum7tifgdeR7zpUuXVseOHbVq1SpJ0okTJ3TixAnVq1cvr6cAAAAAACQ1L1dVc7sO1YIer6hN\n",
              "hZpKt2Rq7pF4tYmarLe2LNDZWzesPRH/D8NisVhy681ffvllLVu2TBcuXFCpUqXk7OysxMREHT9+\n",
              "XEOHDtWVK1dkMpn0j3/8Q4GBgdl+35CQEIWHh+fWbAAAAAAo1LZdOKGpCTHadD5RkmRvMuuZWs31\n",
              "emM/VSjuZt1xkJTLMZ9biHkAAAAAyH1bLxxX+K5obblwXNKDqH+2dguNbOynCsVcrbyucMvzj9kD\n",
              "AAAAAGyDl7uHfuk+XBHdh8vb3UP3MzM059BW+UaG6e9xi3TudrK1JxZaxDwAAAAA4A95u3soovtw\n",
              "/dLtJbUqV133MjP03aE4+UaG6Z2ti3SeqM9zdtYeAAAAAACwDT7la8jb3UNbLhxX+K412nYxSd8e\n",
              "jNO8I9s1oHZLvda4vdydXKw9s1Ag5gEAAAAA2WYYhlqXryEfdw9tPn9MU3at0fZLJ/XNwS2aeyRe\n",
              "z2VFfTmiPlfxMXsAAAAAwBMzDEO+FWpqfo9XNK/rUDUvW1VpGen6+uAW+USG6V/blujinRRrzyyw\n",
              "iHkAAAAAwJ9mGIbaVKilBT1e0dwuQ9WsTBWlZaTrywOb5RMZpvfil+rSnZvWnlngEPMAAAAAgL/M\n",
              "MAy1rVhLC3uO0I9dXtRTWVH/xf5N8okM0/vxS3X5LlGfU4h5AAAAAECOMQxD7SrW1qKeI/R95yFq\n",
              "WqayUjPua/b+TfKOCNMH25fryt1b1p5p84h5AAAAAECOMwxDfpXqaHHPVzWn8xA1KV1JqRn39fm+\n",
              "DfKODNWH25fraipR/2cR8wAAAACAXGMYhjpUqqOlvV7Td51eUJPSlXQ3/b4+27dBXhGh+vf2FUT9\n",
              "n0DMAwAAAABynWEY6li5rpb2ek3fdnpejUtV1N30+/p0X6y8I8I0cccKXUu9be2ZNoOYBwAAAADk\n",
              "GcMw1KlyPS3rPVLfdBysRqUq6k76Pc3aGyvviFD959eVuk7U/0/EPAAAAAAgzxmGoc5V6mt575H6\n",
              "uuNgNSxZQbfT7+njPevlFRGq0F9X6XraHWvPzLeIeQAAAACA1RiGoS5V6mtFn9f1VYdBalCyvG6n\n",
              "39PMPevkHRGqMKL+sYh5AAAAAIDVGYahrlUbaEWf1/VFh4GqV8Jdt+6nacaedfKJCNWknat1g6h/\n",
              "iJgHAAAAAOQbJsOk7lUbapX/KM32G6i6Jdx1836apu9eK++IUE3etUbJaXetPdPqiHkAAAAAQL5j\n",
              "MkzqUa2hVvuP0ud+z6mOWzndvJ+maQkx8o4M1ZRCHvXEPAAAAAAg3zIZJvWs1khrAt7QZ1lRn3Iv\n",
              "VVOzoj58V7RS7qVae2aeI+YBAAAAAPmeyTCpV1bUf9p+gGq7lVXKvVSFJ0TLO+I/mpYQU6iinpgH\n",
              "AAAAANgMk2FS7+qNtcZ/tGa1e1a1XMsq+V6qJu9aI++IUE1PiNHNQhD1xDwAAAAAwOaYTSb18Wii\n",
              "6IDR+qTds6rpWkbJ9+5q0q418ooI1Yzdawt01BPzAAAAAACbZTaZ5O/RRDEBYzSz7TOqkRX1YTtX\n",
              "yzsyTDN3r9Ot+2nWnpnjiHkAAAAAgM0zm0zqW8NTawPGaEbb/vJwKa0baXcUunOVvCNCFX36oLUn\n",
              "5ig7aw8AAAAAACCnmE0m9avRVH2qN9aiE3s0LSFGJ29elYdLaWtPy1HEPAAAAACgwLEzmRVYo6n8\n",
              "qzfWzsun5eFaxtqTchQfswcAAAAAFFh2JrNalqtm7Rk5jpgHAAAAAMDGEPMAAAAAANgYYh4AAAAA\n",
              "ABtDzAMAAAAAYGOIeQAAAAAAbAwxDwAAAACAjSHmAQAAAACwMcQ8AAAAAAA2hpgHAAAAAMDGEPMA\n",
              "AAAAANgYYh4AAAAAABtDzAMAAAAAYGOIeQAAAAAAbAwxDwAAAACAjSHmAQAAAACwMcQ8AAAAAAA2\n",
              "hpgHAAAAAMDGEPMAAAAAANgYYh4AAAAAABtjWCwWi7VHPKl+/fqpWrVq1p6RLRkZGYqPj1fLli1l\n",
              "NputPQfIFs5b2CLOW9gazlnYIs5b2CJbPG+rVq2qN9544w+PscmYtyUpKSlydXVVcnKyXFxcrD0H\n",
              "yBbOW9gizlvYGs5Z2CLOW9iignre8jF7AAAAAABsDDEPAAAAAICNIeYBAAAAALAxxHwuc3R01D//\n",
              "+U85OjpaewqQbZy3sEWct7A1nLOwRZy3sEUF9bzlBngAAAAAANgYrswDAAAAAGBjiHkAAAAAAGwM\n",
              "MQ8AAAAAgI0h5nPI0aNH5ePjo9q1a6tFixbav3//Y4/76quvVKtWLdWoUUMvvfSS7t+/n8dLgf9f\n",
              "ds7btWvXqmXLlqpfv74aNGig8ePHKzMz0wprgez/t1aSLBaLOnToIDc3t7wbCDxGds/bvXv3qn37\n",
              "9qpXr57q1aun+fPn5/FS4P+XnfM2MzNTISEhql+/vho3biw/Pz8lJiZaYS3wwKhRo1StWjUZhqGE\n",
              "hITfPa7ANJkFOcLPz8/yzTffWCwWiyUiIsLSvHnz3xxz/PhxS/ny5S3nz5+3ZGZmWnr37m35+OOP\n",
              "83gp8P/Lznm7c+dOy7FjxywWi8Vy9+5dS+vWrR++Bshr2Tln/8+UKVMsw4YNs7i6uubNOOB3ZOe8\n",
              "vX37tqV69eqWjRs3WiwWiyU9Pd1y6dKlvJwJPCI75+2CBQssLVu2tNy7d89isVgsH3zwgSU4ODgv\n",
              "ZwKPiI2NtZw+fdpStWpVy65dux57TEFqMq7M54BLly5px44dGjhwoCQpMDBQp0+f/s3fTEZGRqpP\n",
              "nz5yd3eXYRh65ZVXNG/ePGtMBrJ93jZt2lQeHh6SpCJFisjT01NJSUl5PRfI9jkrSfv379fChQv1\n",
              "1ltv5fVM4BHZPW/nzp0rLy8v+fr6SpLMZrPKlCmT53sBKfvnrWEYSktLU2pqqiwWi1JSUlSpUiVr\n",
              "TAYkSW3btv2f52BBajJiPgecPn1a5cuXl52dnaQH/2GrUqWKTp069chxp06dUtWqVR/+ulq1ar85\n",
              "Bsgr2T1v/9uFCxcUGRmpXr165dVM4KHsnrP379/XSy+9pM8//1xms9kaU4GHsnveHjhwQI6OjurV\n",
              "q5c8PT01ePBgXb582RqTgWyft71791b79u3l7u6u8uXLKyYmRu+//741JgPZVpCajJgHkC0pKSnq\n",
              "3bu3xo8fr+bNm1t7DvC73nvvPfXr10/16tWz9hQg29LT0xUdHa3PP/9cu3btUsWKFTVixAhrzwL+\n",
              "0I4dO7Rv3z6dPXtW586dU8eOHfXKK69YexZQaBDzOaBy5co6f/680tPTJT246dKpU6dUpUqVR46r\n",
              "UqWKTp48+fDXSUlJvzkGyCvZPW8l6ebNm+rWrZv8/f0VEhKS11MBSdk/Z2NjYzVz5kxVq1ZNvr6+\n",
              "SklJUbVq1bjKCat4kj8j+Pn5qWLFijIMQwMHDtTWrVutMRnI9nk7Z86chzcaNZlMev7557Vu3Tpr\n",
              "TAayrSA1GTGfA8qWLaunnnpKP/zwgyQpKipKlSpVUs2aNR85LjAwUIsXL9aFCxdksVj02Wef6Zln\n",
              "nrHGZCDb5+2tW7fUrVs3devWTe+88441pgKSsn/Obty4USdPnlRSUpI2bdokFxcXJSUl8f1jWEV2\n",
              "z9unn35a27dvV0pKiiRp+fLlatKkSZ7vBaTsn7ceHh5au3at7t27J0launSpGjZsmOd7gSdRoJrM\n",
              "evfeK1gOHTpk8fLystSqVcvSrFkzy549eywWi8UydOhQy6JFix4eN3v2bIuHh4fFw8PD8uKLLz68\n",
              "+ydgDdk5bz/88EOLnZ2dpUmTJg8fH374oTVnoxDL7n9r/8+JEye4mz2sLrvn7Zw5cywNGjSwNGrU\n",
              "yNKtWzfLqVOnrDUZyNZ5m5qaahk2bJilbt26lkaNGlk6d+788P+AA1jD8OHDLRUrVrSYzWZL2bJl\n",
              "LTVq1LBYLAW3yQyLxWKx9l8oAAAAAACA7ONj9gAAAAAA2BhiHgAAAAAAG0PMAwAAAABgY4h5AAAK\n",
              "CU9PT928efOJXxcUFKRvv/025wcBAIA/zc7aAwAAQN5ISEiw9gQAAJBDuDIPAEAhYRiGbty4IUmq\n",
              "Vq2a/vGPf8jb21vVq1fXhx9++PC4Q4cOycfHRw0aNFBAQMDD//e5JN28eVMvvfSSWrZsqcaNG2v4\n",
              "8OG6d++eDh8+rEqVKun48eOSpMmTJ6tbt27KzMzM039HAAAKC2IeAIBC6saNG4qLi9P27ds1adIk\n",
              "nT17VpI0aNAgDR06VPv379cHH3yg2NjYh68ZO3as2rRpo/j4eO3evVuZmZmaPn266tSpo0mTJunp\n",
              "p5/W+vXr9cknn+j777+XycQfNQAAyA18zB4AgEJqwIABkqTSpUvLw8NDJ06ckLOzsxISEvTCCy9I\n",
              "kho1aiRfX9+Hr1m4cKHi4uIUHh4uSbp7967MZrMk6dlnn9W6devUtWtXxcTEqEyZMnn7LwQAQCFC\n",
              "zAMAUEgVKVLk4T+bzWalp6c/9jjDMB7+s8ViUVRUlGrXrv2b49LT07Vv3z6VLFny4VV+AACQO/js\n",
              "GwAAeMjFxUVNmzbVnDlzJEn79+/Xpk2bHv5+QECAQkNDH4b/9evXlZiYKEl66623VKdOHW3cuFHj\n",
              "xo17+DwAAMh5xDwAAHjEnDlzNHv2bDVs2FDvvPOO2rZt+/D3pk6dqqJFi8rT01ONGzdWx44dlZSU\n",
              "pKVLl2rlypX65JNPVLNmTYWHh+vpp59WamqqFf9NAAAouAyLxWKx9ggAAAAAAJB9XJkHAAAAAMDG\n",
              "EPMAAAAAANgYYh4AAAAAABtDzAMAAAAAYGOIeQAAAAAAbAwxDwAAAACAjSHmAQAAAACwMcQ8AAAA\n",
              "AAA2hpgHAAAAAMDGEPMAAAAAANiY/w+qWgArdSvtFgAAAABJRU5ErkJggg==\n",
              "\">\n",
              "      </div>\n",
              "      <script type=\"text/javascript\">\n",
              "        (() => {\n",
              "          const chartElement = document.getElementById(\"chart-1aa42615-8bd1-4147-aa0b-b07dbafe3344\");\n",
              "          async function getCodeForChartHandler(event) {\n",
              "            const chartCodeResponse =  await google.colab.kernel.invokeFunction(\n",
              "                'getCodeForChart', [\"chart-1aa42615-8bd1-4147-aa0b-b07dbafe3344\"], {});\n",
              "            const responseJson = chartCodeResponse.data['application/json'];\n",
              "            await google.colab.notebook.addCell(responseJson.code, 'code');\n",
              "          }\n",
              "          chartElement.onclick = getCodeForChartHandler;\n",
              "        })();\n",
              "      </script>\n",
              "      <style>\n",
              "        .colab-quickchart-chart-with-code  {\n",
              "            display: block;\n",
              "            float: left;\n",
              "            border: 1px solid transparent;\n",
              "        }\n",
              "\n",
              "        .colab-quickchart-chart-with-code:hover {\n",
              "            cursor: pointer;\n",
              "            border: 1px solid #aaa;\n",
              "        }\n",
              "      </style>"
            ]
          },
          "metadata": {}
        },
        {
          "output_type": "display_data",
          "data": {
            "text/plain": [
              "from matplotlib import pyplot as plt\n",
              "import seaborn as sns\n",
              "def _plot_series(series, series_name, series_index=0):\n",
              "  palette = list(sns.palettes.mpl_palette('Dark2'))\n",
              "  xs = series['index']\n",
              "  ys = series['d']\n",
              "  \n",
              "  plt.plot(xs, ys, label=series_name, color=palette[series_index % len(palette)])\n",
              "\n",
              "fig, ax = plt.subplots(figsize=(10, 5.2), layout='constrained')\n",
              "df_sorted = _df_11.sort_values('index', ascending=True)\n",
              "_plot_series(df_sorted, '')\n",
              "sns.despine(fig=fig, ax=ax)\n",
              "plt.xlabel('index')\n",
              "_ = plt.ylabel('d')"
            ],
            "text/html": [
              "      <div class=\"colab-quickchart-chart-with-code\" id=\"chart-0e96ab8e-1a0e-43a0-b23e-a5ccecc20c01\">\n",
              "        <img style=\"width: 180px;\" src=\"data:image/png;base64,iVBORw0KGgoAAAANSUhEUgAAA/MAAAITCAYAAABLz0yVAAAAOXRFWHRTb2Z0d2FyZQBNYXRwbG90\n",
              "bGliIHZlcnNpb24zLjcuMSwgaHR0cHM6Ly9tYXRwbG90bGliLm9yZy/bCgiHAAAACXBIWXMAAA9h\n",
              "AAAPYQGoP6dpAABrnklEQVR4nO3dd1jVBeP//9f7HJYognsjorgV1ByIW3EPFEgbZuXIpqaJ9Wnc\n",
              "Nu5KNMxMM8tKG2aCopIL98KZ29wi7g2obDi/P+7vx9/HOysr4M2B5+O6znXF8bzPeZ3rfl/dPT0D\n",
              "w2az2QQAAAAAAOyGxewBAAAAAADgryHmAQAAAACwM8Q8AAAAAAB2hpgHAAAAAMDOEPMAAAAAANgZ\n",
              "Yh4AAAAAADtDzAMAAAAAYGeIeQAAAAAA7Eyhj/mpU6eaPQEAAAAAgFxV6GP+zJkzZk8AAAAAACBX\n",
              "FfqYBwAAAACgsCHmAQAAAACwM8Q8AAAAAAB2hpgHAAAAAMDOEPMAAAAAANgZYh4AAAAAADtDzAMA\n",
              "AAAAYGeIeQAAAAAA7AwxDwAAAACAnSHmAQAAAACwM8Q8AAAAAAB2hpgHAAAAAMDOEPMAAAAAANgZ\n",
              "Yh4AAAAAADtDzAMAAAAAYGeIeQAAAAAA7AwxDwAAAACAncmXmP/6669lGIaio6MlSVeuXFH37t3l\n",
              "4+Ojhg0bauPGjb97bExMjOrWrSsfHx8NGDBAycnJ+TEZAAAAAIACK89jPj4+Xl988YVatWp197pX\n",
              "X31VrVq10vHjx/X111/r0UcfVWZm5m+OvX37toYOHaro6GgdP35clStX1rvvvpvXk02RlJ5q9gQA\n",
              "AAAAgJ3I05jPycnRsGHDNG3aNDk7O9+9/qefftLIkSMlSc2bN1flypW1YcOG3xy/fPlyNWnSRHXr\n",
              "1pUkPffcc5o3b97vPl56erqSk5PvuWRnZ+fys8p9WTnZ6hMzXY+tnK3dVxLMngMAAAAAKODyNOYj\n",
              "IiIUEBCgZs2a3b3u+vXryszMVMWKFe9e5+XlpYSE30ZsQkKCqlevfs/tLl68qKysrPs+3gcffCB3\n",
              "d/d7Ljt27MjFZ5Q39l07r4RbN7ThwnH1+3mGnoj9WvuunTN7FgAAAACggMqzmD948KCioqL0xhtv\n",
              "5NVD/MZrr72mpKSkey4tWrTIt8f/u5qV99TG4Fc00OchWQ2L1p47ql5LP9XTq+fo0PULZs8DAAAA\n",
              "ABQweRbzmzZtUnx8vHx8fOTl5aVt27ZpxIgR+umnn+Tg4KBLly7dvW18fLw8PT1/cx+enp46c+bM\n",
              "PberVKmSHBwc7vuYzs7OKlmy5D0Xq9Wa+08uD3i6ldZHbUK0fsAYhdRsKothaNXZX9VtyScavvZb\n",
              "/Xrj0p/fCQAAAACgSDBsNpstPx6oQ4cOGj16tIKCgvTkk0/Ky8tLEyZM0M6dOxUUFKT4+Hg5Ojre\n",
              "c8ytW7dUs2ZNbdy4UXXr1tULL7wgFxcXTZ48+YEfd8yYMYqIiMjtp5PnTiZd1ZS9a7T41D7Z9J//\n",
              "ifp4NdbLTTqrtkcFk9cBAAAAAMx0/5e489jEiRM1ePBg+fj4yMnJSd99993dkH/rrbdUuXJljRw5\n",
              "Um5ubvryyy8VFBSkrKwsNWzYUHPmzDFjcr6r6V5On7YfpJd8O2rKnjVaGr9fS+P3Kyb+gPp5+2qM\n",
              "X2d5u5czeyYAAAAAwAT59sq8Wez1lfn/dvjGRUXsWa0VCYckSRbDUHDNJhrl21leJcuYvA4AAAAA\n",
              "kJ/y/PfMI3fUL11JX3YerOV9XlRgtXrKsdm04MQvar/wI72yOVJnb90weyIAAAAAIJ8Q83amUdkq\n",
              "+rrLEMX0fl4dq9RRti1HPx7fpbZRk/Xq1kW6cDvR7IkAAAAAgDxGzNspv3LV9G3Xp7S417NqV9lH\n",
              "WbYcfXd0u9pETdLrcYt1KSXZ7IkAAAAAgDxCzNu5ZuWr64duQxXV4xn5V/RWRk625hyJU0BkuCZs\n",
              "X6orKbfMnggAAAAAyGXEfCHRsmINLegxQvO7D1eLCl5Kz87Sl4e3qHVkuN7duUzX026bPREAAAAA\n",
              "kEuI+UImoFJNRfV4Rj90Haqm5TyVlp2pzw9ulP+CcH2wa4Vupt0xeyIAAAAA4B8i5gshwzDUroqP\n",
              "Fvd6VnMDn5Jv2apKycrQ9APr1WrBRE36ZZUS01PMngkAAAAA+JuI+ULMMAx1qlpHMb2f19edn1CD\n",
              "0pV0JytDU/etlf+CiYrYs1rJGWlmzwQAAAAA/EXEfBFgGIYCPetrRd+X9EWnx1W3VEXdykxXxN7V\n",
              "8l8wUdP2rdPtzHSzZwIAAAAAHhAxX4QYhqEe1RtqVb+XNLPDo/JxL6+kjFRN/GWl/BdM1IwDG5SS\n",
              "mWH2TAAAAADAnyDmiyCLYVHvGo21Omi0Pm0/SN4ly+pmeore37Vc/pETNevgJqVmEfUAAAAAUFAR\n",
              "80WY1WJRkLef1vZ/WR+3fVjV3croetodvbPzZwVETtLsw1uUlpVp9kwAAAAAwH8h5iEHi1UhtZpq\n",
              "/YAxmhwQrGolSulK6i39a/tStYmapDm/xik9O8vsmQAAAACA/4eYx12OFqsG1W6uDQPG6sPW/VW5\n",
              "uLsupSTr9W2L1TZqkr47ul0ZRD0AAAAAmI6Yx284WR30eJ2W2hQ8Tv9u1U8VXEvqwp0kvbp1kdov\n",
              "/Eg/HtuprJxss2cCAAAAQJFFzON3OVsdNKSev7YEj9PbLfuoXLESOnv7pl7ZEqX2CyMUeeIXoh4A\n",
              "AAAATEDM40+5ODhqaP0AbQ0J01vNe6mMS3GduXVdozf9pM7RHyv61F5l5+SYPRMAAAAAigxiHg+s\n",
              "mIOTRjRsq7iQ8XqtWXd5OLvqZNJVvbDhRwUu/lgxp/crx0bUAwAAAEBeI+bxl7k6Oun5xh0UFxKm\n",
              "sKZd5e7komOJVzRy/Q/quvgTLT9zUDabzeyZAAAAAFBoEfP429ycXPSSbyfFhb6qMX5d5OborCM3\n",
              "L2n42u/UY8k0xSYcJuoBAAAAIA8Q8/jHSjq5aEyTLooLHa9Rvp1U3MFJB29c0FNr5qp3zHStO3eU\n",
              "qAcAAACAXETMI9d4OLtqXNOuigsdr+cbdVAxB0ftu3ZOg2O/VtDPn2nTheNEPQAAAADkAmIeua60\n",
              "S3G99lB3xYWM1zMN2srZ6qDdVxP0yMrZCln+ubZePGn2RAAAAACwa8Q88kzZYiX0Zote2hoSpqH1\n",
              "A+RsddD2y/F6eMUXenj5LO24HG/2RAAAAACwS8Q88lwF15J6u2UfbQ4epyF1/eVksWrrpVMasGym\n",
              "Hl05W7uvnDF7IgAAAADYFWIe+aZScXf927+fNgWP0+N1WsrBsGjjhePq9/NnGrzqa+29etbsiQAA\n",
              "AABgF4h55LsqJTz0Yev+2hT8igb5PCSrYdG680fVO2a6nl49Rwevnzd7IgAAAAAUaMQ8TFPNrbQm\n",
              "twnR+gFjFFKzqSyGoVVnf1X3JdM0fO23+vXGJbMnAgAAAECBRMzDdDVKltXH7R7Wuv5jFOTtJ0OG\n",
              "lp85pMDFH+vZdT/oWOJlsycCAAAAQIFCzKPAqOleTp+2H6Q1/Uerj1djSdLS+P3qvOhjvbDhR51M\n",
              "umryQgAAAAAoGIh5FDi1PSros46PKrbfaPWo3kA22RR9aq86LorQ6I0/6XTyNbMnAgAAAICpiHkU\n",
              "WPVKV9QXnQZrRd8X1bVaPeXYbIo8+Ys6LIzQK5sjdfbWDbMnAgAAAIApiHkUeA3LVNFXXYYopvfz\n",
              "6lS1jrJtOfrx+C61jZqsV7cu0vnbiWZPBAAAAIB8RczDbviVq6a5gU9pca/n1L6yj7JsOfru6Ha1\n",
              "jZqk1+MW6+KdJLMnAgAAAEC+IOZhd5qV99T33YZqYc+RCqhUUxk52ZpzJE5toibpX9uX6krKLbMn\n",
              "AgAAAECeIuZht1pU8NL87sP1U/fhalHBS+nZWZp9eItaR4br3R0/61rqbbMnAgAAAECeIOZh91pX\n",
              "qqmoHs9oXrehalrOU2nZmfr80Cb5R07U+7uW60baHbMnAgAAAECuIuZRKBiGobaVfbS417P6NvAp\n",
              "+ZatqtSsTM04sEH+CyYqfPdK3UxPMXsmAAAAAOQKYh6FimEY6li1jmJ6P69vugxRw9KVdScrQ5/s\n",
              "X6fWCyYqYs9qJWekmT0TAAAAAP4RYh6FkmEY6lKtnpb3fVFfdhqseqUq6lZmuiL2rpb/gg/1yb61\n",
              "up2ZbvZMAAAAAPhbiHkUaoZhqHv1BlrZ7yXN7PCoanuUV1JGmsJ/WSX/BRM1ff963SHqAQAAANgZ\n",
              "Yh5FgsWwqHeNxortN1qfth8k75JldTM9RR/sXqHWkeH6/OBGpWZlmD0TAAAAAB4IMY8ixWqxKMjb\n",
              "T2v7v6yP2z6s6m5ldD3tjt7duUytI8P15aHNSsvKNHsmAAAAAPwhYh5FkoPFqpBaTbVhwBh91CZE\n",
              "1UqU0tXU25qwI0YBUZP0za9xSs/OMnsmAAAAANwXMY8izcFi1UCfh7RhwFhNbD1AlYu763JKst7Y\n",
              "tlhtoybpu6PblUHUAwAAAChgDJvNZsurO+/atasuXboki8UiNzc3ffLJJ/L09FTnzp3v3iYlJUWn\n",
              "Tp3SlStXVLp06XuOj4+PV82aNdWoUaO710VFRalmzZoPvGHMmDGKiIj4508GRUJ6dpZ+PLZTn+xf\n",
              "p8spyZKkaiVKaZRvJwXXaipHi9XkhQAAAACQxzGfmJgoDw8PSdKiRYs0YcIE7du3757bTJ48WRs2\n",
              "bNDSpUt/c3x8fLz8/PyUmJj4tzcQ8/g70rIy9f2xHZq+f72upN6SJFV3K6OX/TopyNtPDkQ9AAAA\n",
              "ABPl6dvs/zfkJSkpKUmGYfzmNrNnz9bQoUPzcgbwl7k4OGpo/QBtCRmnt5r3UhmX4jpz67pGb1qg\n",
              "ToumaNHJvcrOyTF7JgAAAIAiyiGvH+CJJ57QunXrJEnLli2758+2bt2qmzdvqnfv3r97/J07d9S8\n",
              "eXNlZ2crKChIr7/+uqzW+78qmp6ervT0e39neHZ29j98BijKijk4aUTDtnq8Tkt9cyROnx3YoFPJ\n",
              "1/Tixh/1yb61GtOki3p5NZTF4OsnAAAAAOSfPH2b/f81Z84czZ8//56gHzp0qMqUKaPw8PD7HpOe\n",
              "nq6kpCSVL19eN27c0MCBAxUYGKiwsLD73n7ChAl6++2377muVatWiouLy70ngiLtdma6vj68VTMP\n",
              "blRSRqokqW6pihrbpIu6eza477tPAAAAACC35VvMS1KxYsV07tw5lSlTRrdv31alSpW0c+dO1a1b\n",
              "94GOnzdvnn744Yf7fr5euv8r82+++aamTp36j7cD/1dyRpq+PLRZXxzapFuZ/znnGpaurLFNuqhL\n",
              "tXpEPQAAAIA8lWfvDU5MTNSFCxfu/hwdHa0yZcrc/cb6+fPny9fX9w9D/sqVK8rMzJT0n1BfuHCh\n",
              "mjRp8ru3d3Z2VsmSJe+5/N5b8oF/oqSTi8Y06aK40PEa5dtJxR2cdPDGBT21Zq56x0zX2nNHlY9/\n",
              "TwYAAACgiMmzz8wnJSUpNDRUqampslgsKleunGJiYu6+Yjl79mwNHz78N8e99dZbqly5skaOHKnN\n",
              "mzfrrbfektVqVVZWljp16qTXX389ryYDf5mHs6vGNe2qYfUDNPPgJn3961btu3ZOT8R+rablPPVK\n",
              "k0C1rVyLV+oBAAAA5Kp8fZu9GfjVdMhP11Jv67ODGzXn1zilZf/nXSUtKnhpbJNABVSqafI6AAAA\n",
              "AIUFX8EN5KKyxUrozeY9tTUkTMPqB8jZ6qAdl+M1cMUXenj5LG2/dNrsiQAAAAAKAWIeyAPlXd00\n",
              "oWUfbQ4epyfr+cvJYtXWS6cUvPxzPbpytnZfOWP2RAAAAAB2jJgH8lCl4u56r1U/bQ4ep8F1WsrR\n",
              "YtXGC8fV7+fPNHjV19p79azZEwEAAADYIWIeyAeVS3jog9b9tXHAWD1Su7mshkXrzh9V75jpemr1\n",
              "HB28ft7siQAAAADsCDEP5KNqbqU1KSBYGwaMVWitprIYhmLP/qruS6Zp2JpvdfjGRbMnAgAAALAD\n",
              "xDxgAq+SZTSl7cNa33+M+nv7yZChFQmH1HXxVI1c972O3rxs9kQAAAAABRgxD5jI272cprUfpDX9\n",
              "R6tvjcaSpJj4A+oS/bGe3zBPJ5OumrwQAAAAQEFEzAMFQG2PCprR4VHF9hutntUbyiabFp/ap46L\n",
              "IjR64086nXzN7IkAAAAAChBiHihA6pWuqFmdHtfKvi+pa7V6yrHZFHnyF3VYGKGxmyOVcOuG2RMB\n",
              "AAAAFADEPFAANShTWV91GaKf+7ygTlXrKNuWo/nHd6ld1GSN37JQ528nmj0RAAAAgImIeaAA8y1b\n",
              "VXMDn9LiXs+pfWUfZdly9P2xHWoTNUmvx0Xr4p0ksycCAAAAMAExD9iBZuU99X23oVrYc6QCKtVU\n",
              "Zk625hzZpjZRk/TWtiW6nJJs9kQAAAAA+YiYB+xIiwpemt99uH7qPlwtK3gpPTtLX/26Va0jw/XO\n",
              "jhhdS71t9kQAAAAA+YCYB+xQ60o1FdnjGf3YbZialfNUenaWZh3aLP/IiXp/13LdSLtj9kQAAAAA\n",
              "eYiYB+yUYRhqU7mWons9q28Dn5Jv2apKzcrUjAMb5L9gosJ3r9TN9BSzZwIAAADIA8Q8YOcMw1DH\n",
              "qnUU0/t5fdNliBqWrqw7WRn6ZP86tV4wUR/tiVVSeqrZMwEAAADkImIeKCQMw1CXavW0vO+L+rLT\n",
              "YNUrVVG3MtM1Ze8atY6cqKl71+hWRprZMwEAAADkAmIeKGQMw1D36g20st9LmtnxMdX2KK+kjDRN\n",
              "2hMr/8hwTd+/Xncy082eCQAAAOAfIOaBQspiWNTbq5Fi+43W9PaPqKZ7OSWmp+iD3SvUOjJcnx/c\n",
              "qNSsDLNnAgAAAPgbiHmgkLNaLOrn7au1QS9raruB8nIro+tpd/TuzmVqHRmuLw9tVmpWptkzAQAA\n",
              "APwFxDxQRFgtFgXXbKL1A8boozYhqlailK6m3taEHTFqEzVJ3/wap/TsLLNnAgAAAHgAxDxQxDhY\n",
              "rBro85A2Br+iia0HqEpxD11OSdYb2xarTeQkfXdkuzKIegAAAKBAI+aBIsrRYtVjdVpoY/Aret8/\n",
              "SBVdS+piSpJejVukdgsna96xncrMyTZ7JgAAAID7IOaBIs7Z6qAn6rbS5uBxeqdlH5Uv5qZztxM1\n",
              "bkuUOiyMUOSJ3coi6gEAAIAChZgHIElycXDU0/UDtCUkTP9q0UtlXUrozK3rGr1pgTotmqJFJ/cq\n",
              "OyfH7JkAAAAARMwD+C/FHBw1vEFbbQ0J0+sP9VApZ1edSr6mFzf+qC7RH2vp6f3KsRH1AAAAgJmI\n",
              "eQD35eropGcbtVdc6Hi92qyb3J2K6XjSFT27/gcFRk/VsviDRD0AAABgEmIewB8q4eisFxp3VFzo\n",
              "eI1t0kUlnVx0NPGyRqz7Tj2WTNOqhMOy2WxmzwQAAACKFGIewAMp6eSil/26aGtImEb5dlIJR2cd\n",
              "unFRT6+Zq94x07Xm7BGiHgAAAMgnxDyAv8TD2VXjmnZVXEiYXmjcQa4OTtp37ZyGrP5GfX+eoQ3n\n",
              "jxH1AAAAQB4j5gH8LaVciuvVZt0VFxqmkQ3bycXqqD1Xz+qxVV8pePnn2nLxpNkTAQAAgEKLmAfw\n",
              "j5RxKaE3mvfU1pAwDasfIGerg3ZcjtfAFV8odPksbb902uyJAAAAQKFDzAPIFeVd3TShZR9tCQnT\n",
              "k/X85WSxKu7SKQUv/1yPrPxSu6+cMXsiAAAAUGgQ8wByVUXXknqvVT9tDh6nwXVaytFi1aYLJ9Tv\n",
              "58/0+KqvtOfqWbMnAgAAAHaPmAeQJyqX8NAHrftr44CxeqR2c1kNi9afP6Y+MdP15OpvdODaebMn\n",
              "AgAAAHaLmAeQp6q5ldakgGBtGDBWD9dqJothaPXZI+qxdJqGrpmrwzcumj0RAAAAsDvEPIB84VWy\n",
              "jCLahmp9/zHq7+0nQ4ZWJhxW18VTNXLd9zp687LZEwEAAAC7QcwDyFfe7uU0rf0gre3/svrWaCxD\n",
              "hmLiD6hL9Md6fsM8nUi8YvZEAAAAoMAj5gGYwsejvGZ0eFSr+o1Sz+oNZZNNi0/tU6foKRq1cb5O\n",
              "J18zeyIAAABQYBHzAExVr3RFzer0uFb2fUndPOsrx2ZT1Mk96rAwQmM3L1DCrRtmTwQAAAAKHGIe\n",
              "QIHQoExlze78hJb1eUGdq9ZVti1H84/vVruoyRq/ZaHO3040eyIAAABQYBDzAAqUxmWrak7gk1rS\n",
              "+zm1r1JbWbYcfX9sh9pETdLrcdG6cCfJ7IkAAACA6Yh5AAVS03Ke+r7r01rUc6TaVKqlzJxszTmy\n",
              "TW2jJumtbUt0OSXZ7IkAAACAaYh5AAVa8wpe+rH7MC3oMUItK9RQenaWvvp1q1pHhuudHTG6mnrL\n",
              "7IkAAABAviPmAdgF/4reiuwxQj92G6aHyldXenaWZh3arNaR4fr3zuW6kXbH7IkAAABAviHmAdgN\n",
              "wzDUpnItLeo5Ut91fVp+ZaspNStTnx3cIP8FEzVx90rdTE8xeyYAAACQ5/I05rt27arGjRvLz89P\n",
              "bdu21Z49eyRJXl5eqlOnjvz8/OTn56f58+f/7n3Mnj1bPj4+qlmzpoYPH67MzMy8nAzADhiGoQ5V\n",
              "amtp7+c0p8uTalSmiu5kZWja/nVqvWCiJu+JVVJ6qtkzAQAAgDxj2Gw2W17deWJiojw8PCRJixYt\n",
              "0oQJE7Rv3z55eXkpOjpafn5+f3j86dOnFRAQoF9++UUVKlRQv3791K1bNz3//PMPvGHMmDGKiIj4\n",
              "B88CQEFns9m0KuGwJu+J1a83L0mS3J1cNKJBWz1dP0BuTi4mLwQAAAByV56+Mv+/IS9JSUlJMgzj\n",
              "Lx0fGRmpvn37qmLFijIMQyNHjtS8efN+9/bp6elKTk6+55Kdnf135wOwE4ZhqFv1BlrZ7yV93vEx\n",
              "1fGooKSMNE3aEyv/yHB9un+97mSmmz0TAAAAyDV5/pn5J554QtWqVdObb76pb7/99p7rGzVqpKFD\n",
              "h+rq1av3PTYhIUHVq1e/+7OXl5cSEhJ+97E++OADubu733PZsWNH7j0ZAAWaxbCol1cjxQaN0vT2\n",
              "j6imezklpqfow90r5L8gXDMPbFRqVobZMwEAAIB/LM9jfu7cuTp79qzee+89jR8/XpK0ceNG7d+/\n",
              "X7/88ovKli2rIUOG5Mpjvfbaa0pKSrrn0qJFi1y5bwD2w2JY1M/bV2uDXtbUdgPl5VZGN9Lv6L1d\n",
              "y9Q6MlxfHtqs1Cy+fwMAAAD2K9++zX7IkCFat26drl+/Lk9PT0mSo6OjRo8erU2bNt33GE9PT505\n",
              "c+buz/Hx8XePvR9nZ2eVLFnynovVas3dJwLAblgtFgXXbKL1A8Yook2IPEuU1tXU25qwI0ZtIsP1\n",
              "9eGtSs/OMnsmAAAA8JflWcwnJibqwoULd3+Ojo5WmTJl5OLiosTExLvXz5s3T02aNLnvfQQHB2vJ\n",
              "kiW6dOmSbDabZs6cqUGDBuXVZACFlIPFqod9HtKG4LEKDxigKsU9dDn1lt7cvkRtIifp2yPblEHU\n",
              "AwAAwI445NUdJyUlKTQ0VKmpqbJYLCpXrpxiYmJ0+fJlBQcHKzs7WzabTd7e3po7d+7d44YNG6a+\n",
              "ffuqb9++8vb21ttvv62AgABJUocOHfTMM8/k1WQAhZyjxapHa7dQSM2mmn98l6buW6uLKUl6LS5a\n",
              "0w+s1yjfzgqp1VSOFt7RAwAAgIItT381XUHAr6YD8HvSsjL1w7Ed+nT/el1JvSVJqu5WWqN9O6t/\n",
              "TT85EPUAAAAooPLtM/MAUNC4ODjq6foB2hISpn+16KWyLiV05tYNvbx5gToumqKFJ/coOyfH7JkA\n",
              "AADAbxDzAIq8Yg6OGt6grbaGhOn1h3qolLOrTidf00sb56tz9BQtObVPOTaiHgAAAAUHMQ8A/4+r\n",
              "o5OebdRecaHj9WqzbnJ3KqYTSVf13IZ5Coyeqp/jDxD1AAAAKBCIeQD4LyUcnfVC447aFjperzQJ\n",
              "VEknFx1NvKxn1n2vHkumaVXCYRXyrxsBAABAAUfMA8DvcHNy0Wi/ztoaEqZRvp1UwtFZh25c1NNr\n",
              "5qrX0k+15uwRoh4AAACmIOYB4E94OLtqXNOuigsJ0wuNO8jVwUn7r5/XkNXfqO/PM7Th/DGiHgAA\n",
              "APmKmAeAB1TKpbhebdZdcaFhGtmwnVysjtpz9aweW/WVBiybqS0XThD1AAAAyBfEPAD8RWVcSuiN\n",
              "5j0VFxqm4Q3ayNnqoJ1Xzmjgyi8VumKWtl06ZfZEAAAAFHLEPAD8TeWKuelfLXprS0iYnqrXWk4W\n",
              "q7ZdOq2Q5bP0yMovtevyGbMnAgAAoJAi5gHgH6roWlLvtuqrzcHj9ETdVnK0WLXpwgkFLftMj6/6\n",
              "SnuunjV7IgAAAAoZYh4AcknlEh563z9Im4Jf0aO1W8jBsGj9+WPqEzNdT67+RgeunTd7IgAAAAoJ\n",
              "Yh4AclnVEqUUHjBAG4LH6uFazWQxDK0+e0Q9lk7T0DVzdfjGBbMnAgAAwM4R8wCQR6q7lVFE21Ct\n",
              "7z9WA2o2kSFDKxMOq+viT/TMuu919OZlsycCAADAThHzAJDHvN3L6pN2A7W2/8vqV8NXhgz9HH9A\n",
              "XaI/1vPr5+lE4hWzJwIAAMDOEPMAkE98PMpreodHFBs0Sr28Gskmmxaf3qdO0VP00sb5OpV0zeyJ\n",
              "AAAAsBPEPADks7qlKurzjo9pVb+X1M2zvnJsNi08uUcdF0Vo7OYFOnPrutkTAQAAUMAR8wBgkvql\n",
              "K2t25ye0rM8L6lKtrrJtOZp/fLfaR32ksC0Lde72TbMnAgAAoIAi5gHAZI3LVtU3XZ7Ukt7PqX2V\n",
              "2sqy5eiHYzvUNmqy/icuWhfuJJk9EQAAAAUMMQ8ABUTTcp76vuvTWtRzpNpUqqXMnGzNPbJNbSLD\n",
              "9ea2Jbqckmz2RAAAABQQxDwAFDDNK3jpx+7DtKDHCLWsUEMZOdn6+tetah0Zrrd3xOhq6i2zJwIA\n",
              "AMBkxDwAFFD+Fb0V2WOE5ncbpofKV1d6dpa+OLRZ/gvC9d7OZbqRdsfsiQAAADAJMQ8ABZhhGAqo\n",
              "XEuLeo7U912fVpNy1ZSWnamZBzfKf8FETdy9UjfTU8yeCQAAgHxGzAOAHTAMQ+2r1NaSXs9pTpcn\n",
              "1bhMFd3JytC0/evkv2CiJu+JVVJ6qtkzAQAAkE+IeQCwI4ZhqHO1uvq5zwua3Wmw6peupNuZ6fp4\n",
              "7xr5R07Ux3vX6FZGmtkzAQAAkMeIeQCwQ4ZhqFv1BlrR90V93vEx1fGooOSMNE3eEyv/yHB9un+d\n",
              "7mSmmz0TAAAAeYSYBwA7ZjEs6uXVSLFBozSj/SOq5V5Oiekp+nD3SvkvCNdnBzYoNSvD7JkAAADI\n",
              "ZcQ8ABQCFsOivt6+WhP0sj5pN1A1SpbVjfQ7+veu5WodGa4vD21Walam2TMBAACQS4h5AChErBaL\n",
              "BtRsonX9X1ZEmxB5liitq6m3NWFHjNpEhuvrw1uVRtQDAADYPWIeAAohB4tVD/s8pA3BYxUeMEBV\n",
              "invocuotvbl9idpGTda3R7YpIzvL7JkAAAD4m4h5ACjEHC1WPVq7hTYFv6IP/INUydVdF1OS9Fpc\n",
              "tNpGTdYPx3YoMyfb7JkAAAD4i4h5ACgCnKwOGly3lTYFv6J3W/ZVhWJuOn8nUWFbFqrDwo+04Phu\n",
              "ZRH1AAAAdoOYB4AixMXBUU/Vb63NIWGa0KK3yrqU0JlbN/Ty5gXquGiKFp7co+ycHLNnAgAA4E8Q\n",
              "8wBQBBVzcNSwBm20NSRMbzzUU6Wdi+t08jW9tHG+OkdP0ZJT+5RjI+oBAAAKKmIeAIowV0cnjWzU\n",
              "TnGhYXq1WXd5OLvqRNJVPbdhngKjp+rn+ANEPQAAQAFEzAMAVNzRWS807qC4kDCNaxIodycXHU28\n",
              "rGfWfa/uS6Zp5ZlDstlsZs8EAADA/0PMAwDucnNy0Si/ztoaMl6j/TqrhKOzDt+4qKFrv1WvpZ9q\n",
              "zdkjRD0AAEABQMwDAH7D3bmYXmkSqLjQ8XqxcUe5Ojhp//XzGrL6G/WJmaH1548R9QAAACYi5gEA\n",
              "v6uUs6vGN+umuNAwPduwvYo5OGrvtbN6fNVX6r9spjZfOEHUAwAAmICYBwD8qTIuJfR68x7aGhKm\n",
              "EQ3ayNnqoF1XzmjQyi8VsnyW4i6dMnsiAABAkULMAwAeWLlibnqrRW9tDQnT0/Vay8li1fbLpxW6\n",
              "fJYGrfhSuy6fMXsiAABAkUDMAwD+sgquJfVOq77aHBKmJ+q2kqPFqs0XTyho2Wd6bNVX+uVqgtkT\n",
              "AQAACjViHgDwt1Uu7q73/YO0KfgVPVq7hRwMizacP6a+MTM0JPYb7b92zuyJAAAAhRIxDwD4x6qW\n",
              "KKXwgAHaEDxWA32ayWpYtObcEfVc+qmGrpmrQ9cvmD0RAACgUCHmAQC5prpbGX3UJlTr+o9RcM0m\n",
              "shiGViYcVrcln2jE2u905OYlsycCAAAUCsQ8ACDXebuX1dR2A7U26GX1q+ErQ4aWnTmowOipen79\n",
              "PJ1IvGL2RAAAALtGzAMA8kwtj/Ka3uERxQaNUi+vRrLJpsWn96lT9BS9tHG+TiVdM3siAACAXcrT\n",
              "mO/atasaN24sPz8/tW3bVnv27FFaWpqCgoJUu3Zt+fr6KjAwUCdOnLjv8fHx8bJarfLz87t7OXny\n",
              "ZF5OBgDkgbqlKurzjo9pVb+X1M2zvnJsNi08uUcdF0VozKYFOnPrutkTAQAA7Iphs9lseXXniYmJ\n",
              "8vDwkCQtWrRIEyZM0Pbt27V27Vr16NFDhmHo008/VWRkpNavX/+b4+Pj4+Xn56fExMS/vWHMmDGK\n",
              "iIj428cDAHLf/mvnFLF3tVafPSJJcjAsCvVpplG+nVS1RCmT1wEAABR8efrK/P+GvCQlJSXJMAy5\n",
              "uLioZ8+eMgxDktSqVSvFx8fnyuOlp6crOTn5nkt2dnau3DcAIPc0LltV33R5Ukt7P68OVWory5aj\n",
              "ecd2qm3UZL22dZEu3EkyeyIAAECBlqevzEvSE088oXXr1kmSli1bpkaNGt3z54MHD1bp0qU1derU\n",
              "3xwbHx8vHx8f+fn5KTs7W0FBQXr99ddltVrv+1gTJkzQ22+/fc91rVq1UlxcXC49GwBAXth1+Yw+\n",
              "2hurTRf+87ErJ4tVj9Vpqecbd1BF15ImrwMAACh48jzm/9ecOXM0f/58LVu27O5177//vpYuXao1\n",
              "a9bI1dX1N8ekp6crKSlJ5cuX140bNzRw4EAFBgYqLCzsvo+Rnp6u9PT0e65788037/sXBQCAgmfb\n",
              "pVOavCdW2y6dliQ5Wx30RN1Weq5Re5Ur5mbyOgAAgIIj32JekooVK6Zz586pTJkymjx5sn788Uet\n",
              "Xr36nrfj/5F58+bphx9+0NKlSx/4MfnMPADYF5vNpq0XT2rynljtvHJGkuRiddST9fz1bKN2KuNS\n",
              "wuSFAAAA5suzz8wnJibqwoULd3+Ojo5WmTJlVLp0aUVERGjevHmKjY39w5C/cuWKMjMzJf3nVfeF\n",
              "CxeqSZMmeTUZAFAAGIahgMq1tLDnSH3f9Wk1KVdNadmZmnlwo/wXhOvD3St0M+2O2TMBAABMlWev\n",
              "zJ85c0ahoaFKTU2VxWJRuXLlNHnyZJUtW1bVqlWTt7e33Nz+85ZJZ2dnbd++XZL01ltvqXLlyho5\n",
              "cqQWLlyot956S1arVVlZWerUqZMmT54sZ2fnB97BK/MAYN9sNpvWnjuqj/bEav/185KkEo7OGlo/\n",
              "QCMatJW7czGTFwIAAOS/fH2bvRmIeQAoHGw2m2LP/qrJe2J1+MZFSVJJJxeNaNBWQ+sHyM3JxeSF\n",
              "AAAA+SdPfzUdAAC5xTAMdfWsrxV9X9Ssjo+rjkcFJWekafKeWLVaMFGf7l+n25npf35HAAAAhQAx\n",
              "DwCwKxbDop5eDRUbNEqfdXhUPu7llZSRqg93r1TrBeH67MAGpWRmmD0TAAAgTxHzAAC7ZDEs6lOj\n",
              "sVYHjda0doNUo2RZ3Ui/o3/vWq7WkeH64tAmpWZlmj0TAAAgTxDzAAC7ZrVY1L+mn9b1f1lT2oSq\n",
              "ultpXUu7rbd3/Kw2keH66vAWpRH1AACgkCHmAQCFgoPFqlCfZlo/YKwmBQSragkPXU69pbe2L1Wb\n",
              "qEmae2Sb0rOzzJ4JAACQK4h5AECh4mix6pHazbVxwCv60L+/Krm661JKsv4nLlrtoibr+6M7lJmT\n",
              "bfZMAACAf4SYBwAUSk5WBz1et6U2h4zTe636qUIxN52/k6jxWxeqfdRH+un4LmUR9QAAwE4R8wCA\n",
              "Qs3Z6qAn6/lrc0iYJrTorbIuJZRw+4bGbI5Uh4URijq5R9k5OWbPBAAA+EuIeQBAkVDMwVHDGrTR\n",
              "1pAwvfFQT5V2Lq74W9c1auN8dY6eosWn9inHRtQDAAD7QMwDAIoUV0cnjWzUTnGhYXq1WXd5OLvq\n",
              "RNJVPb9hngKjpyom/gBRDwAACjxiHgBQJBV3dNYLjTsoLiRM45oEyt3JRUcTL2vkuu/VbfEnWnHm\n",
              "kGw2m9kzAQAA7ouYBwAUaW5OLhrl11lbQ8brZb/OcnN01q83L2nY2m/Vc+mnWnP2CFEPAAAKHGIe\n",
              "AABJ7s7FNLZJoLaGjtdLjTuquIOTDlw/ryGrv1GfmBlaf/4YUQ8AAAoMYh4AgP+jlLOrwpp1U1zo\n",
              "eD3bsL2KOThq77WzenzVV+q/bKY2XzhB1AMAANMR8wAA3Edpl+J6vXkPbQ0J04gGbeRsddCuK2c0\n",
              "aOWXClk+S3GXTpk9EQAAFGHEPAAAf6BcMTe91aK3toaE6el6reVsddD2y6cVunyWBq74Qjsvx5s9\n",
              "EQAAFEHEPAAAD6CCa0m906qvNgWP05C6reRosWrLxZPqv2ymHlv1lX65mmD2RAAAUIQQ8wAA/AWV\n",
              "i7vr3/5B2hT8ih6r3UIOhkUbzh9T35gZGhL7jfZfO2f2RAAAUAQQ8wAA/A1VS5TSxIAB2hj8igb6\n",
              "PCSrYdGac0fUc+mnGrpmrg5dv2D2RAAAUIgR8wAA/AOebqX1UZsQres/RsE1m8hiGFqZcFjdlnyi\n",
              "EWu/05Gbl8yeCAAACiFiHgCAXODtXlZT2w3U2qCX1c/bV4YMLTtzUIHRU/Xc+h90PPGK2RMBAEAh\n",
              "QswDAJCLanmU1/T2j2h10Gj19mokm2xacnq/Oi2aohc3/KhTSVfNnggAAAoBYh4AgDxQp1QFzez4\n",
              "mFb1G6Xung1kk02LTu1Vh0URGrNpgc7cum72RAAAYMeIeQAA8lD90pX0ZefBWt7nRQVWq6ccm00/\n",
              "nditdlEfadyWKJ29dcPsiQAAwA4R8wAA5INGZavo6y5DtLT38+pYpY6ybTmad2yn2i38SK9tXaQL\n",
              "txPNnggAAOwIMQ8AQD5qUq6avu36lBb3elbtKvsoMydb3x7drjZRk/TGtsW6lJJs9kQAAGAHiHkA\n",
              "AEzQrHx1/dBtqCJ7jFCrijWUkZOtb36NU0BkuCZsX6orKbfMnggAAAowYh4AABO1quityB7PaH73\n",
              "4WpevrrSs7P05eEtah0Zrnd3LtP1tNtmTwQAAAUQMQ8AQAEQUKmmFvYcqR+6DlWTctWUlp2pzw9u\n",
              "lP+CcH2wa4Vupt0xeyIAAChAiHkAAAoIwzDUroqPlvR6TnMDn5Jv2apKycrQ9APr5R8Zrkm/rFJi\n",
              "eorZMwEAQAFAzAMAUMAYhqFOVesopvfz+qrzE6pfupJuZ6Zr6r61ah0Zril7Vys5I83smQAAwETE\n",
              "PAAABZRhGOrqWV8r+r6oWR0fVx2PCkrOSNNHe1bLf8FETdu3Trcz082eCQAATEDMAwBQwFkMi3p6\n",
              "NVRs0Ch91uFR+biXV1JGqib+slL+CyZqxoENSsnMMHsmAADIR8Q8AAB2wmJY1KdGY60OGq1p7QbJ\n",
              "u2RZ3UxP0fu7lqt1ZLhmHdyk1KxMs2cCAIB8QMwDAGBnrBaL+tf009r+L+vjtqGq7lZa19Ju652d\n",
              "PysgMlxfHd6iNKIeAIBCjZgHAMBOOVisCqnVTOsHjNXkgGBVLeGhK6m39Nb2pWoTNUlzj2xTenaW\n",
              "2TMBAEAeIOYBALBzjharBtVuro0DXtGH/v1VydVdl1KS9T9x0WoXNVnfH92hzJxss2cCAIBcRMwD\n",
              "AFBIOFkd9HjdltocMk7vteqnCq4ldf5OosZvXaj2UR9p/vFdyiLqAQAoFIh5AAAKGWerg56s56/N\n",
              "weM0oUVvlStWQgm3b2js5kh1WBihyBO/KDsnx+yZAADgHyDmAQAopIo5OGpYgzbaGhKmN5v3VGnn\n",
              "4oq/dV2jN/2kTtFTtPjUPqIeAAA7RcwDAFDIFXNw0jMN2ykuNEyvNesuD2dXnUy6quc3zFPXxVMV\n",
              "E39AOTaiHgAAe0LMAwBQRBR3dNbzjTsoLiRMYU27yt3JRUcTL2vkuu/VbfEnWnHmkGw2m9kzAQDA\n",
              "AyDmAQAoYtycXPSSbydtDRmvl/06y83RWb/evKRha79VjyXTtPrsr0Q9AAAFHDEPAEAR5e5cTGOb\n",
              "BGpr6Hi91Lijijs46eCNC3py9Rz1jpmudeeOEvUAABRQxDwAAEVcKWdXhTXrprjQ8XquUXsVc3DU\n",
              "vmvnNDj2awX9/Jk2XThO1AMAUMDkacx37dpVjRs3lp+fn9q2bas9e/ZIko4fP67WrVurdu3aat68\n",
              "uQ4dOvS79zF79mz5+PioZs2aGj58uDIzM/NyMgAARVZpl+L6n4d6KC5kvJ5p0FbOVgftvpqgR1bO\n",
              "VsjyWYq7dMrsiQAA4P/J05j/6aeftH//fu3du1djxozRk08+KUl65plnNGLECB07dkzjx4+/e/1/\n",
              "O336tN58801t2rRJJ06c0OXLlzVr1qy8nAwAQJFXtlgJvdmil7aGhGlo/QA5Wx20/fJphS6fpYEr\n",
              "vtCOy/FmTwQAoMh74JhPSEj4w8v9eHh43P3npKQkGYahK1euaNeuXXr88cclScHBwTp79qxOnDjx\n",
              "m+MjIyPVt29fVaxYUYZhaOTIkZo3b95ffIoAAODvqOBaUm+37KPNweM0pK6/HC1Wbbl4UgOWzdRj\n",
              "K2dr95X7//8/AADIew4PesNmzZrJMAxJ0vXr1+Xo6ChJyszMVJkyZXTlypX7HvfEE09o3bp1kqRl\n",
              "y5bp7NmzqlSpkhwc/vPQhmHI09NTCQkJqlWr1j3HJiQkqHr16nd/9vLy+t2/OJCk9PR0paen33Nd\n",
              "dnb2gz5FAABwH5WKu+vf/v30XKP2+mTfWs0/vksbLhzXhgvH1alqHY1tEijfslXNngkAQJHywK/M\n",
              "X716VVeuXNFTTz2lmTNnKiUlRSkpKfr88881dOjQ3z1u7ty5Onv2rN577z2NHz8+V0b/ng8++EDu\n",
              "7u73XHbs2JGnjwkAQFFRpYSHJgYM0MbgVzTQ5yFZDYvWnjuqXks/1dOr5+jQ9QtmTwQAoMj4y5+Z\n",
              "X7lypYYPHy6LxSKLxaJhw4ZpxYoVf3rckCFDtG7dOlWtWlUXL15UVlaWJMlmsykhIUGenp6/OcbT\n",
              "01Nnzpy5+3N8fPx9b/e/XnvtNSUlJd1zadGixV99igAA4A94upXWR21CtH7AGIXUbCqLYWjV2V/V\n",
              "bcknGr72W/1645LZEwEAKPT+csxnZGTo6NGjd38+duzYb97aLkmJiYm6cOH//xv66OholSlTRuXL\n",
              "l1fTpk313XffSZKioqJUtWrV37zFXvrP5+mXLFmiS5cuyWazaebMmRo0aNDvbnN2dlbJkiXvuVit\n",
              "1r/6FAEAwAOoUbKsPm73sNb1H6Mgbz8ZMrT8zCEFLv5Yz677QccSL5s9EQCAQuuBPzP/vz788EMF\n",
              "BATI19dXkrR//3599dVXv7ldUlKSQkNDlZqaKovFonLlyikmJkaGYejzzz/Xk08+qffff18lS5bU\n",
              "119/ffe4YcOGqW/fvurbt6+8vb319ttvKyAgQJLUoUMHPfPMM3/3uQIAgDxQ072cPm0/SC/5dtSU\n",
              "PWu0NH6/lsbvV0z8AfXz9tUYv87ydi9n9kwAAAoVw2az2f7qQVevXtW2bdskSf7+/ipbtmyuD8st\n",
              "Y8aMUUREhNkzAAAoMg7fuKiIPau1IuGQJMliGAqu2USjfDvLq2QZk9cBAFA4/K2YtyfEPAAA5jhw\n",
              "7bwi9q5W7NlfJUlWw6LQWk01yreTqrmVNnkdAAD27S9/Zh4AAOBBNCpbRV93GaKY3s+rY5U6yrbl\n",
              "6Mfju9Q2arJe3bpIF24nmj0RAAC7RcwDAIA85Veumr7t+pQW93pW7Sr7KMuWo++OblebqEl6PW6x\n",
              "LqUkmz0RAAC7Q8wDAIB80ax8df3Qbaiiejwj/4reysjJ1pwjcQqIDNeE7Ut1JeWW2RMBALAbxDwA\n",
              "AMhXLSvW0IIeIzS/+3C1qOCl9OwsfXl4i1pHhuvdnct0Pe222RMBACjwiHkAAGCKgEo1FdXjGf3Q\n",
              "daialvNUWnamPj+4Uf4LwvXBrhW6mXbH7IkAABRYxDwAADCNYRhqV8VHi3s9q7mBT8m3bFWlZGVo\n",
              "+oH1arVgoib9skqJ6SlmzwQAoMAh5gEAgOkMw1CnqnUU0/t5fd35CTUoXUl3sjI0dd9a+S+YqIg9\n",
              "q5WckWb2TAAACgxiHgAAFBiGYSjQs75W9H1JX3R6XHVLVdStzHRF7F0t/wUTNW3fOt3OTDd7JgAA\n",
              "piPmAQBAgWMYhnpUb6hV/V7SzA6Pyse9vJIyUjXxl5XyXzBRMw5sUEpmhtkzAQAwDTEPAAAKLIth\n",
              "Ue8ajbU6aLQ+bT9I3iXL6mZ6it7ftVz+kRM16+AmpWYR9QCAooeYBwAABZ7VYlGQt5/W9n9ZH7d9\n",
              "WNXdyuh62h29s/NnBURO0uzDW5SWlWn2TAAA8g0xDwAA7IaDxaqQWk21fsAYTQ4IVrUSpXQl9Zb+\n",
              "tX2p2kRN0pxf45SenWX2TAAA8hwxDwAA7I6jxapBtZtrw4Cx+rB1f1Uu7q5LKcl6fdtitY2apO+O\n",
              "blcGUQ8AKMSIeQAAYLecrA56vE5LbQoep3+36qcKriV14U6SXt26SO0XfqQfj+1UVk622TMBAMh1\n",
              "xDwAALB7zlYHDannry3B4/R2yz4qV6yEzt6+qVe2RKn9wghFnviFqAcAFCrEPAAAKDRcHBw1tH6A\n",
              "toaE6a3mvVTGpbjO3Lqu0Zt+UufojxV9aq+yc3LMngkAwD9GzAMAgEKnmIOTRjRsq7iQ8XqtWXd5\n",
              "OLvqZNJVvbDhRwUu/lgxp/crx0bUAwDsFzEPAAAKLVdHJz3fuIPiQsIU1rSr3J1cdCzxikau/0Fd\n",
              "F3+i5WcOymazmT0TAIC/jJgHAACFnpuTi17y7aS40Fc1xq+L3ByddeTmJQ1f+516LJmm2ITDRD0A\n",
              "wK4Q8wAAoMgo6eSiMU26KC50vEb5dlJxBycdvHFBT62Zq94x07Xu3FGiHgBgF4h5AABQ5Hg4u2pc\n",
              "066KCx2v5xq1VzEHR+27dk6DY79W0M+fadOF40Q9AKBAI+YBAECRVdqluP7noR6KCxmvZxq0lbPV\n",
              "QbuvJuiRlbMVsvxzbb140uyJAADcFzEPAACKvLLFSujNFr20NSRMQ+sHyNnqoO2X4/Xwii/08PJZ\n",
              "2nE53uyJAADcg5gHAAD4fyq4ltTbLftoc/A4DanrLyeLVVsvndKAZTP16MrZ2n3ljNkTAQCQRMwD\n",
              "AAD8RqXi7vq3fz9tCh6nx+u0lINh0cYLx9Xv5880eNXX2nv1rNkTAQBFHDEPAADwO6qU8NCHrftr\n",
              "U/ArGuTzkKyGRevOH1XvmOl6evUcHbx+3uyJAIAiipgHAAD4E9XcSmtymxCtHzBGITWbymIYWnX2\n",
              "V3VfMk3D136rX29cMnsiAKCIIeYBAAAeUI2SZfVxu4e1rv8YBXn7yZCh5WcOKXDxx3p23Q86lnjZ\n",
              "7IkAgCKCmAcAAPiLarqX06ftB2lN/9Hq49VYkrQ0fr86L/pYL2z4USeTrpq8EABQ2BHzAAAAf1Nt\n",
              "jwr6rOOjiu03Wj2qN5BNNkWf2quOiyI0euNPik++bvZEAEAhRcwDAAD8Q/VKV9QXnQZrRd8X1bVa\n",
              "PeXYbIo8+YvaL/xIr2yO1NlbN8yeCAAoZIh5AACAXNKwTBV91WWIYno/r05V6yjblqMfj+9S26jJ\n",
              "enXrIp2/nWj2RABAIUHMAwAA5DK/ctU0N/ApLe71nNpX9lGWLUffHd2utlGT9HrcYl28k2T2RACA\n",
              "nSPmAQAA8kiz8p76vttQLew5UgGVaiojJ1tzjsSpTdQk/Wv7Ul1JuWX2RACAnSLmAQAA8liLCl6a\n",
              "3324fuo+XC0qeCk9O0uzD29R68hwvbvjZ11LvW32RACAnSHmAQAA8knrSjUV1eMZzes2VE3LeSot\n",
              "O1OfH9ok/8iJen/Xct1Iu2P2RACAnSDmAQAA8pFhGGpb2UeLez2rbwOfkm/ZqkrNytSMAxvkv2Ci\n",
              "wnev1M30FLNnAgAKOGIeAADABIZhqGPVOorp/by+6TJEDUtX1p2sDH2yf51aL5ioiD2rlZyRZvZM\n",
              "AEABRcwDAACYyDAMdalWT8v7vqgvOw1WvVIVdSszXRF7V8t/wYf6ZN9a3c5MN3smAKCAIeYBAAAK\n",
              "AMMw1L16A63s95JmdnhUtT3KKykjTeG/rJL/gomavn+97hD1AID/h5gHAAAoQCyGRb1rNFZsv9H6\n",
              "tP0geZcsq5vpKfpg9wq1jgzX5wc3KjUrw+yZAACTEfMAAAAFkNViUZC3n9b2f1kft31Y1d3K6Hra\n",
              "Hb27c5laR4bry0OblZaVafZMAIBJiHkAAIACzMFiVUitptowYIw+ahOiaiVK6WrqbU3YEaOAqEn6\n",
              "5tc4pWdnmT0TAJDPiHkAAAA74GCxaqDPQ9owYKwmth6gysXddTklWW9sW6y2UZP03dHtyiDqAaDI\n",
              "IOYBAADsiJPVQY/VaaFNweP071b9VMG1pC7cSdKrWxep/cKP9OOxncrMyTZ7JgAgj+VZzKelpSko\n",
              "KEi1a9eWr6+vAgMDdeLECUlSy5Yt5efnJz8/PzVs2FCGYWj//v33vR/DMNSoUaO7t9+0aVNeTQYA\n",
              "ALAbzlYHDannry3B4/R2yz4qX8xNZ2/f1CtbotRhYYQiT+xWFlEPAIWWYbPZbHlxx2lpaVq7dq16\n",
              "9OghwzD06aefKjIyUuvXr7/ndpGRkXr77bd14MCB+w80DN28eVMeHh5/a8eYMWMUERHxt44FAACw\n",
              "F6lZGfr2yHZNP7Be19PuSJK8S5bVy35d1LdGY1ktvCETAAqTPPu3uouLi3r27CnDMCRJrVq1Unx8\n",
              "/G9uN3v2bA0dOjRXHjM9PV3Jycn3XLKz+RtpAABQ+BVzcNKIhm0VFzJe//NQD5VydtWp5Gt6ceOP\n",
              "Clz8sWJO71eOLcfsmQCAXJJnr8z/t8GDB6t06dKaOnXq3evOnj2rOnXqKCEhQWXLlr3/QMNQ06ZN\n",
              "lZWVpc6dO+vdd99V8eLF73vbCRMm6O23377nulatWikuLi73nggAAIAduJ2Zrq8Pb9XMgxuVlJEq\n",
              "SapbqqLGNumi7p4N7r7gAgCwT/kS8++//76WLl2qNWvWyNXV9e717777rg4cOKCffvrpd49NSEiQ\n",
              "p6en7ty5o5EjR8rNzU0zZsy4723T09OVnp5+z3VvvvnmPX+BAAAAUJQkZ6Tpy0Ob9cWhTbqV+Z//\n",
              "TmpYurLGNumiLtXqEfUAYKfyPOYnT56sH3/8UatXr77nc+82m001a9bUZ599pm7duj3QfcXFxWnE\n",
              "iBG/+/n6++Ez8wAAAFJieoq+OLRZXx7arDtZGZIk37JVNbZJoDpWqU3UA4CdydNvQomIiNC8efMU\n",
              "Gxv7my+wW7t2rbKyshQYGPi7x9+8eVMpKSmSpJycHM2fP19NmjTJy8kAAACFkoezq8Y17aptoeP1\n",
              "fKMOcnVw0r5r5/RE7Nfq9/Nn2nj+uPLp05cAgFyQZ6/Mnzt3TtWqVZO3t7fc3NwkSc7Oztq+fbsk\n",
              "6dFHH5WPj89vPuM+c+ZMXbhwQe+8847i4uL0zDPPyDAMZWVlqWnTppo6dapKly79wDt4ZR4AAOC3\n",
              "rqXe1mcHN2rOr3FKy86UJLWo4KWxTQIVUKmmyesAAH8m374AzyzEPAAAwO+7knJLMw6s17dHtys9\n",
              "O0uS1Lqit8Y2CVTLijXMHQcA+F38wlEAAIAirLyrmya07KPNweP0ZD1/OVms2nrplIKXf65HV87W\n",
              "7itnzJ4IALgPYh4AAACqVNxd77Xqp83B4zS4Tks5WqzaeOG4+v38mQav+lp7r541eyIA4P8g5gEA\n",
              "AHBX5RIe+qB1f20cMFaP1G4uq2HRuvNH1Ttmup5aPUcHr583eyIAQMQ8AAAA7qOaW2lNCgjWhgFj\n",
              "FVqrqSyGodizv6r7kmkatuZbHb5x0eyJAFCkEfMAAAD4XV4ly2hK24e1vv8Y9ff2kyFDKxIOqevi\n",
              "qRq57nsdvXnZ7IkAUCQR8wAAAPhT3u7lNK39IK3pP1p9azSWJMXEH1CX6I/1/IZ5Opl01eSFAFC0\n",
              "EPMAAAB4YLU9KmhGh0cV22+0elZvKJtsWnxqnzouitDojT/pdPI1sycCQJFAzAMAAOAvq1e6omZ1\n",
              "elwr+76krtXqKcdmU+TJX9RhYYTGbo5Uwq0bZk8EgEKNmAcAAMDf1qBMZX3VZYh+7vOCOlWto2xb\n",
              "juYf36V2UZM1fstCnb+daPZEACiUiHkAAAD8Y75lq2pu4FNa3Os5ta/soyxbjr4/tkNtoibp9bho\n",
              "XbyTZPZEAChUiHkAAADkmmblPfV9t6Fa2HOkAirVVGZOtuYc2aY2UZP01rYlupySbPZEACgUiHkA\n",
              "AADkuhYVvDS/+3D91H24WlbwUnp2lr76dataR4brnR0xupZ62+yJAGDXiHkAAADkmdaVaiqyxzP6\n",
              "sdswNSvnqfTsLM06tFn+kRP1/q7lupF2x+yJAGCXiHkAAADkKcMw1KZyLUX3elbfBj4l37JVlZqV\n",
              "qRkHNsh/wUSF716pm+kpZs8EALtCzAMAACBfGIahjlXrKKb38/qmyxA1LF1Zd7Iy9Mn+dWq9YKI+\n",
              "2hOrpPRUs2cCgF0g5gEAAJCvDMNQl2r1tLzvi/qy02DVK1VRtzLTNWXvGrWOnKipe9foVkaa2TMB\n",
              "oEAj5gEAAGAKwzDUvXoDrez3kmZ2fEy1PcorKSNNk/bEyj8yXNP3r9edzHSzZwJAgUTMAwAAwFQW\n",
              "w6LeXo0U22+0prd/RDXdyykxPUUf7F6h1pHh+vzgRqVmZZg9EwAKFGIeAAAABYLVYlE/b1+tDXpZ\n",
              "U9sNlJdbGV1Pu6N3dy5T68hwfXlos1KzMs2eCQAFAjEPAACAAsVqsSi4ZhOtHzBGH7UJUbUSpXQ1\n",
              "9bYm7IhRm6hJ+ubXOKVnZ5k9EwBMRcwDAACgQHKwWDXQ5yFtDH5FE1sPUJXiHrqckqw3ti1Wm8hJ\n",
              "+u7IdmUQ9QCKKGIeAAAABZqjxarH6rTQxuBX9L5/kCq6ltTFlCS9GrdI7RZO1rxjO5WZk232TADI\n",
              "V8Q8AAAA7IKz1UFP1G2lzcHj9E7LPipfzE3nbidq3JYodVgYocgTu5VF1AMoIoh5AAAA2BUXB0c9\n",
              "XT9AW0LC9K8WvVTWpYTO3Lqu0ZsWqNOiKVp0cq+yc3LMngkAeYqYBwAAgF0q5uCo4Q3aamtImF5/\n",
              "qIdKObvqVPI1vbjxR3WJ/lhLT+9Xjo2oB1A4EfMAAACwa66OTnq2UXvFhY7X+Kbd5O5UTMeTrujZ\n",
              "9T8oMHqqlsUfJOoBFDrEPAAAAAqFEo7OetG3o+JCx2tsky4q6eSio4mXNWLdd+qxZJpWJRyWzWYz\n",
              "eyYA5ApiHgAAAIVKSScXvezXRVtDwjTKt5NKODrr0I2LenrNXPWOma41Z48Q9QDsHjEPAACAQsnD\n",
              "2VXjmnZVXEiYXmjcQa4OTtp37ZyGrP5GfX+eoQ3njxH1AOwWMQ8AAIBCrZRLcb3arLviQsM0smE7\n",
              "uVgdtefqWT226isFL/9cWy6eNHsiAPxlxDwAAACKhDIuJfRG857aGhKmYfUD5Gx10I7L8Rq44guF\n",
              "Lp+l7ZdOmz0RAB4YMQ8AAIAipbyrmya07KMtIWF6sp6/nCxWxV06peDln+uRlV9q95UzZk8EgD9F\n",
              "zAMAAKBIquhaUu+16qfNweM0uE5LOVqs2nThhPr9/JkeX/WV9lw9a/ZEAPhdxDwAAACKtMolPPRB\n",
              "6/7aOGCsHqndXFbDovXnj6lPzHQ9ufobHbx+3uyJAPAbxDwAAAAgqZpbaU0KCNaGAWP1cK1mshiG\n",
              "Vp89ou5LpmnYmm91+MZFsycCwF3EPAAAAPB/eJUso4i2oVrff4z6e/vJkKEVCYfUdfFUjVz3vY7e\n",
              "vGz2RAAg5gEAAID78XYvp2ntB2lt/5fVt0ZjGTIUE39AXaI/1vMb5ulE4hWzJwIowoh5AAAA4A/4\n",
              "eJTXjA6PalW/UepZvaFssmnxqX3qFD1FozbO1+nka2ZPBFAEEfMAAADAA6hXuqJmdXpcK/u+pG6e\n",
              "9ZVjsynq5B51WBihsZsXKOHWDbMnAihCiHkAAADgL2hQprJmd35Cy/q8oM5V6yrblqP5x3erXdRk\n",
              "jd+yUOdvJ5o9EUARQMwDAAAAf0PjslU1J/BJLen9nNpXqa0sW46+P7ZDbaIm6fW4aF24k2T2RACF\n",
              "GDEPAAAA/ANNy3nq+65Pa1HPkWpTqZYyc7I158g2tY2apLe2LdHllGSzJwIohIh5AAAAIBc0r+Cl\n",
              "H7sP04IeI9SyQg2lZ2fpq1+3qnVkuN7ZEaNrqbfNngigECHmAQAAgFzkX9FbkT1G6Mduw/RQ+epK\n",
              "z87SrEOb5R85Uf/euVw30u6YPRFAIUDMAwAAALnMMAy1qVxLi3qO1Hddn5Zf2WpKzcrUZwc3yH/B\n",
              "RE3cvVI301PMngnAjuVZzKelpSkoKEi1a9eWr6+vAgMDdeLECUlShw4dVKNGDfn5+cnPz09Tpkz5\n",
              "3fuJiYlR3bp15ePjowEDBig5mc8cAQAAwD4YhqEOVWprae/nNKfLk2pUporuZGVo2v51ar1goibv\n",
              "iVVSeqrZMwHYoTx9ZX7EiBE6evSo9u3bp379+mnYsGF3/2zKlCnau3ev9u7dq5dffvm+x9++fVtD\n",
              "hw5VdHS0jh8/rsqVK+vdd9/Ny8kAAABArjMMQ52r1dWyPi9odqfBqleqom5lpuvjvWvUOnKipu5d\n",
              "o1sZaWbPBGBH8izmXVxc1LNnTxmGIUlq1aqV4uPj/9J9LF++XE2aNFHdunUlSc8995zmzZuX21MB\n",
              "AACAfGEYhrpVb6CV/V7S5x0fUx2PCkrKSNOkPbHyjwzXp/vX605mutkzAdiBfPvM/NSpU9WvX7+7\n",
              "P7/66qtq1KiRBg4cqFOnTt33mISEBFWvXv3uz15eXrp48aKysrLue/v09HQlJyffc8nOzs7dJwIA\n",
              "AAD8QxbDol5ejRQbNErT2z+imu7llJieog93r5D/gnDNPLBRqVkZZs8EUIDlS8y///77OnHihD74\n",
              "4ANJ0rfffqsjR45o//79atu2rXr37p0rj/PBBx/I3d39nsuOHTty5b4BAACA3GYxLOrn7au1QS9r\n",
              "aruB8nIroxvpd/TermVqHRmuLw9tVmpWptkzARRAhs1ms+XlA0yePFk//vijVq9eLQ8Pj/vexsXF\n",
              "RefPn1eZMmXuuX7BggWaPXu2VqxYIUk6fPiwunbtqnPnzt33ftLT05Wefu/bkt58801NnTr1nz8R\n",
              "AAAAII9l5WRr4ck9+njvWiXcviFJqlDMTS807qhH67SQs9XB5IUACoo8fWU+IiJC8+bNU2xs7N2Q\n",
              "z8rK0uXLl+/eJioqShUqVPhNyEtS9+7d9csvv+jIkSOSpBkzZmjQoEG/+3jOzs4qWbLkPRer1Zq7\n",
              "TwoAAADIIw4Wqx72eUgbgscqPGCAqhT30OXUW3pz+xK1iZyk745sV0b2/T9yCqBoybNX5s+dO6dq\n",
              "1arJ29tbbm5ukv4T22vXrlX79u2Vnp4ui8WismXLKiIiQr6+vpKkt956S5UrV9bIkSMlSUuWLFFY\n",
              "WJiysrLUsGFDzZkzR+7u7g+8Y8yYMYqIiMj9JwgAAADksYzsLM0/vktT963VpZT//IrmqiU8NMq3\n",
              "s0JqNZWjhReugKIqz99mbzZiHgAAAPYuLStTPxzboU/3r9eV1FuSpOpupTXat7P61/STA1EPFDn5\n",
              "9m32AAAAAP4eFwdHPV0/QFtCwvSvFr1U1qWEzty6oZc3L1DHRVO08OQeZefkmD0TQD4i5gEAAAA7\n",
              "UczBUcMbtNXWkDC9/lAPlXJ21enka3pp43x1jp6iJaf2KcdG1ANFATEPAAAA2BlXRyc926i94kLH\n",
              "69Vm3eTuVEwnkq7quQ3zFBg9VT/HHyDqgUKOmAcAAADsVAlHZ73QuKO2hY7XK00CVdLJRUcTL+uZ\n",
              "dd+rx5JpWpVwWIX8K7KAIouYBwAAAOycm5OLRvt11taQMI3y7aQSjs46dOOinl4zV72Wfqo1Z48Q\n",
              "9UAhQ8wDAAAAhYSHs6vGNe2quJAwvdC4g1wdnLT/+nkNWf2N+v48QxvOHyPqgUKCmAcAAAAKmVIu\n",
              "xfVqs+6KCw3TyIbt5GJ11J6rZ/XYqq80YNlMbblwgqgH7BwxDwAAABRSZVxK6I3mPRUXGqbhDdrI\n",
              "2eqgnVfOaODKLxW6Ypa2XTpl9kQAfxMxDwAAABRy5Yq56V8temtLSJieqtdaThartl06rZDls/TI\n",
              "yi+16/IZsycC+IuIeQAAAKCIqOhaUu+26qvNweP0RN1WcrRYtenCCQUt+0yPr/pKe66eNXsigAdE\n",
              "zAMAAABFTOUSHnrfP0ibgl/Ro7VbyMGwaP35Y+oTM11Prv5GB66dN3sigD9BzAMAAABFVNUSpRQe\n",
              "MEAbgsfq4VrNZDEMrT57RD2WTtPQNXN1+MYFsycC+B3EPAAAAFDEVXcro4i2oVrff6wG1GwiQ4ZW\n",
              "JhxW18Wf6Jl13+vozctmTwTwX4h5AAAAAJIkb/ey+qTdQK3t/7L61fCVIUM/xx9Ql+iP9fz6eTqR\n",
              "eMXsiQD+H2IeAAAAwD18PMpreodHFBs0Sr28Gskmmxaf3qdO0VP00sb5OpV0zeyJQJFHzAMAAAC4\n",
              "r7qlKurzjo9pVb+X1M2zvnJsNi08uUcdF0Vo7OYFOnPrutkTgSKLmAcAAADwh+qXrqzZnZ/Qsj4v\n",
              "qEu1usq25Wj+8d1qH/WRwrYs1LnbN82eCBQ5xDwAAACAB9K4bFV90+VJLen9nNpXqa0sW45+OLZD\n",
              "baMm63/ionXhTpLZE4Eig5gHAAAA8Jc0Leep77s+rUU9R6pNpVrKzMnW3CPb1CYyXG9uW6LLKclm\n",
              "TwQKPWIeAAAAwN/SvIKXfuw+TAt6jFDLCjWUkZOtr3/dqtaR4Xp7R4yupt4yeyJQaBHzAAAAAP4R\n",
              "/4reiuwxQvO7DdND5asrPTtLXxzaLP8F4Xpv5zLdSLtj9kSg0CHmAQAAAPxjhmEooHItLeo5Ut93\n",
              "fVp+ZaspLTtTMw9ulP+CiZq4e6VupqeYPRMoNIh5AAAAALnGMAy1r1JbS3s/pzldnlSjMlV0JytD\n",
              "0/avk/+CiZq8J1ZJ6almzwTsHjEPAAAAINcZhqHO1epqWZ8XNLvTYNUvXUm3M9P18d418o+cqI/3\n",
              "rtGtjDSzZwJ2i5gHAAAAkGcMw1C36g20ou+L+rzjY6rjUUHJGWmavCdW/pHh+nT/Ot3JTDd7JmB3\n",
              "iHkAAAAAec5iWNTLq5Fig0ZpRvtHVMu9nBLTU/Th7pXyXxCuzw5sUGpWhtkzAbtBzAMAAADINxbD\n",
              "or7evloT9LI+aTdQNUqW1Y30O/r3ruVqHRmuLw9tVmpWptkzgQKPmAcAAACQ76wWiwbUbKJ1/V9W\n",
              "RJsQeZYorauptzVhR4zaRIbr68NblUbUA7+LmAcAAABgGgeLVQ/7PKQNwWMVHjBAVYp76HLqLb25\n",
              "fYnaRk3Wt0e2KSM7y+yZQIFDzAMAAAAwnaPFqkdrt9Cm4Ff0gX+QKrm662JKkl6Li1bbqMn64dgO\n",
              "ZeZkmz0TKDCIeQAAAAAFhpPVQYPrttKm4Ff0bsu+qlDMTefvJCpsy0J1WPiRFhzfrSyiHiDmAQAA\n",
              "ABQ8Lg6Oeqp+a20OCdOEFr1V1qWEzty6oZc3L1DHRVO08OQeZefkmD0TMA0xDwAAAKDAKubgqGEN\n",
              "2mhrSJjeeKinSjsX1+nka3pp43x1jp6iJaf2KcdG1KPoIeYBAAAAFHiujk4a2aid4kLD9Gqz7vJw\n",
              "dtWJpKt6bsM8BUZP1c/xB4h6FCnEPAAAAAC7UdzRWS807qC4kDCNaxIodycXHU28rGfWfa/uS6Zp\n",
              "5ZlDstlsZs8E8hwxDwAAAMDuuDm5aJRfZ20NGa/Rfp1VwtFZh29c1NC136rX0k+15uwRoh6FGjEP\n",
              "AAAAwG65OxfTK00CFRc6Xi827ihXByftv35eQ1Z/oz4xM7T+/DGiHoUSMQ8AAADA7pVydtX4Zt0U\n",
              "FxqmZxu2VzEHR+29dlaPr/pK/ZfN1OYLJ4h6FCrEPAAAAIBCo4xLCb3evIe2hoRpRIM2crY6aNeV\n",
              "Mxq08kuFLJ+lbZdOmT0RyBXEPAAAAIBCp1wxN73Vore2hoTpqXqt5WSxavvl0wpZPkuDVnypXZfP\n",
              "mD0R+EeIeQAAAACFVgXXknq3VV9tDgnTE3VbydFi1eaLJxS07DM9tuor/XI1weyJwN9CzAMAAAAo\n",
              "9CoXd9f7/kHaFPyKHq3dQg6GRRvOH1PfmBkaEvuN9l87Z/ZE4C8h5gEAAAAUGVVLlFJ4wABtCB6r\n",
              "gT7NZDUsWnPuiHou/VRD18zVoesXzJ4IPBBiHgAAAECRU92tjD5qE6p1/ccouGYTWQxDKxMOq9uS\n",
              "TzRi7Xc6cvOS2ROBP0TMAwAAACiyvN3Lamq7gVob9LL61fCVIUPLzhxUYPRUPb9+nk4kXjF7InBf\n",
              "xDwAAACAIq+WR3lN7/CIYoNGqZdXI9lk0+LT+9Qpeope2jhfp5KumT0RuEeexXxaWpqCgoJUu3Zt\n",
              "+fr6KjAwUCdOnJAkPfXUU3evDwgI0M6dO3/3fgzDUKNGjeTn5yc/Pz9t2rQpryYDAAAAKOLqlqqo\n",
              "zzs+plX9XlI3z/rKsdm08OQedVwUoTGbFujMretmTwQkSYbNZrPlxR2npaVp7dq16tGjhwzD0Kef\n",
              "fqrIyEitX79eS5YsUc+ePeXg4KCYmBi98MILio+Pv/9Aw9DNmzfl4eHxt3aMGTNGERERf/+JAAAA\n",
              "ACiy9l87p4i9q7X67BFJkoNhUahPM43y7aSqJUqZvA5FWZ7F/H/btWuXQkJCfhPt165dU6VKlZSa\n",
              "mioHB4ffDvwLMZ+enq709PR7rnvzzTc1derUfzIdAAAAQBG35+pZfbQnVuvPH5MkOVqseqR2c73Q\n",
              "uKMqF3c3eR2Konz7zPzUqVPVr1+/+17/v6/S/57OnTvL19dXY8aM0Z07d373dh988IHc3d3vuezY\n",
              "sSNX9gMAAAAoupqUq6bvuj6t6J7Pqm3lWsrMydbcI9vUJjJcb25bokspyWZPRBGTL6/Mv//++1q6\n",
              "dKnWrFkjV1fXu9d/9913evfdd7Vx40ZVqFDhvscmJCTI09NTd+7c0ciRI+Xm5qYZM2bc97a8Mg8A\n",
              "AAAgP2y7dEqT98Rq26XTkiRnq4OeqNtKzzVqr3LF3Exeh6Igz2N+8uTJ+vHHH7V69ep73io/f/58\n",
              "vfHGG1qzZo08PT0f6L7i4uI0YsQIHThw4IEfn8/MAwAAAMgLNptNWy+e1OQ9sdp55YwkycXqqCfr\n",
              "+evZRu1UxqWEyQtRmOXp2+wjIiI0b948xcbG3hPyP/30k9544w2tXr36D0P+5s2bSklJkSTl5ORo\n",
              "/vz5atKkSV5OBgAAAIAHYhiGAirX0sKeI/V916fVpFw1pWVnaubBjfJfEK4Pd6/QzbTf/5gw8E/k\n",
              "2Svz586dU7Vq1eTt7S03t/+8zcTZ2Vnbt2+Xo6OjKlasqDJlyty9/Zo1a1SmTBnNnDlTFy5c0Dvv\n",
              "vKO4uDg988wzMgxDWVlZatq0qaZOnarSpUs/8A5emQcAAACQH2w2m9aeO6qP9sRq//XzkqQSjs4a\n",
              "Wj9AIxq0lbtzMZMXojDJt2+zNwsxDwAAACA/2Ww2xZ79VZP3xOrwjYuSpJJOLhrRoK2G1g+Qm5OL\n",
              "yQtRGOTbt9kDAAAAQFFgGIa6etbXir4valbHx1XHo4KSM9I0eU+sWi2YqE/3r9PtzPQ/vyPgDxDz\n",
              "AAAAAJAHLIZFPb0aKjZolD7r8Kh83MsrKSNVH+5eqdYLwvXZgQ1KycwweybsFDEPAAAAAHnIYljU\n",
              "p0ZjrQ4arWntBqlGybK6kX5H/961XK0jw/XFoU1Kzco0eybsDDEPAAAAAPnAarGof00/rev/sqa0\n",
              "CVV1t9K6lnZbb+/4WW0iw/XV4S1KI+rxgIh5AAAAAMhHDharQn2aaf2AsZoUEKyqJTx0OfWW3tq+\n",
              "VG2iJmnukW1Kz84yeyYKOGIeAAAAAEzgaLHqkdrNtXHAK/rQv78qubrrUkqy/icuWu2iJuv7ozuU\n",
              "mZNt9kwUUMQ8AAAAAJjIyeqgx+u21OaQcXqvVT9VKOam83cSNX7rQrWP+kg/Hd+lLKIe/4WYBwAA\n",
              "AIACwNnqoCfr+WtzSJgmtOitsi4llHD7hsZsjlSHhRGKOrlH2Tk5Zs9EAUHMAwAAAEABUszBUcMa\n",
              "tNHWkDC98VBPlXYurvhb1zVq43x1jp6ixaf2KcdG1Bd1xDwAAAAAFECujk4a2aid4kLD9Gqz7vJw\n",
              "dtWJpKt6fsM8BUZPVUz8AaK+CCPmAQAAAKAAK+7orBcad1BcSJjGNQmUu5OLjiZe1sh136vb4k+0\n",
              "4swh2Ww2s2cinxHzAAAAAGAH3JxcNMqvs7aGjNfLfp3l5uisX29e0rC136rn0k+15uwRor4IIeYB\n",
              "AAAAwI64OxfT2CaB2ho6Xi817qjiDk46cP28hqz+Rn1iZmj9+WNEfRFAzAMAAACAHSrl7KqwZt0U\n",
              "FzpezzZsr2IOjtp77aweX/WV+i+bqc0XThD1hRgxDwAAAAB2rLRLcb3evIe2hoRpRIM2crY6aNeV\n",
              "Mxq08kuFLJ+luEunzJ6IPEDMAwAAAEAhUK6Ym95q0VtbQ8L0dL3WcrY6aPvl0wpdPksDV3yhnZfj\n",
              "zZ6IXETMAwAAAEAhUsG1pN5p1VebgsdpSN1WcrRYteXiSfVfNlOPrfpKv1xNMHsicgExDwAAAACF\n",
              "UOXi7vq3f5A2Bb+ix2q3kINh0Ybzx9Q3ZoaGxH6j/dfOmT0R/wAxDwAAAACFWNUSpTQxYIA2Br+i\n",
              "gT4PyWpYtObcEfVc+qmGrpmrQ9cvmD0RfwMxDwAAAABFgKdbaX3UJkTr+o9RcM0mshiGViYcVrcl\n",
              "n2jE2u905OYlsyfiLyDmAQAAAKAI8XYvq6ntBmpt0Mvq5+0rQ4aWnTmowOipem79DzqeeMXsiXgA\n",
              "xDwAAAAAFEG1PMprevtHtDpotHp7NZJNNi05vV+dFk3Rixt+1Kmkq2ZPxB8g5gEAAACgCKtTqoJm\n",
              "dnxMq/qNUnfPBrLJpkWn9qrDogiN2bRAZ25dN3si7oOYBwAAAACofulK+rLzYC3v86ICq9VTjs2m\n",
              "n07sVruojzRuS5TO3rph9kT8H8Q8AAAAAOCuRmWr6OsuQ7S09/PqWKWOsm05mndsp9ot/EivbV2k\n",
              "C7cTzZ4IEfMAAAAAgPtoUq6avu36lKJ7Pqu2lWspMydb3x7drjZRk/TGtsW6lJJs9sQijZgHAAAA\n",
              "APyuhypU17xuwxTZY4RaVayhjJxsffNrnAIiwzVh+1JdSbll9sQiiZgHAAAAAPypVhW9FdnjGc3v\n",
              "PlzNy1dXenaWvjy8Ra0jw/XuzmW6nnbb7IlFCjEPAAAAAHhgAZVqamHPkfqh61A1KVdNadmZ+vzg\n",
              "RvkvCNcHu1boZtodsycWCcQ8AAAAAOAvMQxD7ar4aEmv5zQ38Cn5lq2qlKwMTT+wXv6R4Zr0yyol\n",
              "pqeYPbNQI+YBAAAAAH+LYRjqVLWOYno/r686P6H6pSvpdma6pu5bq9aR4Zqyd7WSM9LMnlkoEfMA\n",
              "AAAAgH/EMAx19ayvFX1f1KyOj6uORwUlZ6Tpoz2r5b9goqbtW6fbmelmzyxUiHkAAAAAQK6wGBb1\n",
              "9Gqo2KBR+qzDo/JxL6+kjFRN/GWl/BdM1IwDG5SSmWH2zEKBmAcAAAAA5CqLYVGfGo21Omi0prUb\n",
              "JO+SZXUzPUXv71qu1pHhmnVwk1KzMs2eadeIeQAAAABAnrBaLOpf009r+7+sj9uGqrpbaV1Lu613\n",
              "dv6sgMhwfXV4i9KI+r+FmAcAAAAA5CkHi1UhtZpp/YCxmhQQrKolPHQl9Zbe2r5UbaImae6RbUrP\n",
              "zjJ7pl0h5gEAAAAA+cLRYtUjtZtr44BX9KF/f1VyddellGT9T1y02kVN1vdHdygzJ9vsmXaBmAcA\n",
              "AAAA5Csnq4Mer9tSm0PG6b1W/VTBtaTO30nU+K0L1T7qI80/vktZRP0fIuYBAAAAAKZwtjroyXr+\n",
              "2hw8ThNa9Fa5YiWUcPuGxm6OVIeFEYo88Yuyc3LMnlkgEfMAAAAAAFMVc3DUsAZttDUkTG8276nS\n",
              "zsUVf+u6Rm/6SZ2ip2jxqX1E/X8h5gEAAAAABUIxByc907Cd4kLD9Fqz7vJwdtXJpKt6fsM8dV08\n",
              "VTHxB5RjI+olYh4AAAAAUMAUd3TW8407KC4kTGFNu8rdyUVHEy9r5Lrv1W3xJ1px5pBsNpvZM01F\n",
              "zAMAAAAACiQ3Jxe95NtJW0PG62W/znJzdNavNy9p2Npv1WPJNK0++2uRjXpiHgAAAABQoLk7F9PY\n",
              "JoHaGjpeLzXuqOIOTjp444KeXD1HvWOma925o0Uu6ol5AAAAAIBdKOXsqrBm3RQXOl7PNWqvYg6O\n",
              "2nftnAbHfq2gnz/TpgvHi0zUE/MAAAAAALtS2qW4/uehHooLGa9nGrSVs9VBu68m6JGVsxWyfJbi\n",
              "Lp0ye2Key7OYT0tLU1BQkGrXri1fX18FBgbqxIkTkqQrV66oe/fu8vHxUcOGDbVx48bfvZ+YmBjV\n",
              "rVtXPj4+GjBggJKTk/NqMgAAAADAjpQtVkJvtuilrSFhGlo/QM5WB22/fFqhy2dp4IovtONyvNkT\n",
              "80yevjI/YsQIHT16VPv27VO/fv00bNgwSdKrr76qVq1a6fjx4/r666/16KOPKjMz8zfH3759W0OH\n",
              "DlV0dLSOHz+uypUr6913383LyQAAAAAAO1PBtaTebtlHm4PHaUhdfzlarNpy8aQGLJupx1bO1u4r\n",
              "CWZPzHV5FvMuLi7q2bOnDMOQJLVq1Urx8fGSpJ9++kkjR46UJDVv3lyVK1fWhg0bfnMfy5cvV5Mm\n",
              "TVS3bl1J0nPPPad58+b97mOmp6crOTn5nkt2dnYuPzMAAAAAQEFUqbi7/u3fT5uDx+mx2i3kYFi0\n",
              "4cJx9ft5hp5ePUfZOYXnd9Tn22fmp06dqn79+un69evKzMxUxYoV7/6Zl5eXEhJ++zclCQkJql69\n",
              "+j23u3jxorKysu77GB988IHc3d3vuezYsSP3nwwAAAAAoMCqUsJDEwMGaGPwKxro85CshkWlXFxl\n",
              "tRSer41zyI8Hef/993XixAmtWbNGqampefY4r732msaMGXPPdW+++WaePR4AAAAAoODydCutj9qE\n",
              "6IXGHeRsdTR7Tq7K85ifPHmyFi5cqNWrV8vV1VWurq5ycHDQpUuX7r46Hx8fL09Pz98c6+npqdjY\n",
              "2Ls/x8fHq1KlSnJwuP9sZ2dnOTs733Od1WrNxWcDAAAAALA3NUqWNXtCrsvT9xhERERo3rx5io2N\n",
              "lYeHx93rQ0NDNXPmTEnSzp07df78ebVv3/43x3fv3l2//PKLjhw5IkmaMWOGBg0alJeTAQAAAAAo\n",
              "8PLslflz585p7Nix8vb2VseOHSX955Xz7du3a+LEiRo8eLB8fHzk5OSk7777To6O/3nLw1tvvaXK\n",
              "lStr5MiRcnNz05dffqmgoCBlZWWpYcOGmjNnTl5NBgAAAADALhg2m81m9oi8NGbMGEVERJg9AwAA\n",
              "AACAXFN4vsoPAAAAAIAigpgHAAAAAMDOEPMAAAAAANgZYh4AAAAAADtDzAMAAAAAYGeIeQAAAAAA\n",
              "7AwxDwAAAACAnSHmAQAAAACwM8Q8AAAAAAB2hpgHAAAAAMDOEPMAAAAAANgZYh4AAAAAADtDzAMA\n",
              "AAAAYGeIeQAAAAAA7AwxDwAAAACAnSHmAQAAAACwM4bNZrOZPSIvDRgwQF5eXmbP+FPZ2dnasWOH\n",
              "WrRoIavVavYc4A9xvsKecL7CnnC+wp5wvsKe2Nv5Wr16dY0aNeoPb1PoY95eJCcny93dXUlJSSpZ\n",
              "sqTZc4A/xPkKe8L5CnvC+Qp7wvkKe1IYz1feZg8AAAAAgJ0h5gEAAAAAsDPEPAAAAAAAdoaYLyCc\n",
              "nZ31r3/9S87OzmZPAf4U5yvsCecr7AnnK+wJ5yvsSWE8X/kCPAAAAAAA7AyvzAMAAAAAYGeIeQAA\n",
              "AAAA7AwxDwAAAACAnSHm89nx48fVunVr1a5dW82bN9ehQ4fue7vZs2fLx8dHNWvW1PDhw5WZmZnP\n",
              "S4EHO1/Xrl2rFi1aqH79+mrQoIHCwsKUk5NjwloUdQ/671dJstls6tSpkzw8PPJvIPB/POj5euDA\n",
              "AXXo0EH16tVTvXr1tHDhwnxeCjzY+ZqTk6MxY8aofv36aty4sTp27KgTJ06YsBZF2UsvvSQvLy8Z\n",
              "hqG9e/f+7u0KTWvZkK86duxo+/rrr202m822YMEC20MPPfSb25w6dcpWqVIl28WLF205OTm2Pn36\n",
              "2D799NN8Xgo82Pn6yy+/2E6ePGmz2Wy21NRUW0BAwN1jgPz0IOfr//roo49sw4YNs7m7u+fPOOC/\n",
              "PMj5eufOHVuNGjVsmzZtstlsNltWVpbtypUr+TkTsNlsD3a+Llq0yNaiRQtbRkaGzWaz2d59911b\n",
              "aGhofs4EbBs2bLCdPXvWVr16dduePXvue5vC1Fq8Mp+Prly5ol27dunxxx+XJAUHB+vs2bO/+VvL\n",
              "yMhI9e3bVxUrVpRhGBo5cqTmzZtnxmQUYQ96vjZp0kTe3t6SJBcXF/n5+Sk+Pj6/56KIe9DzVZIO\n",
              "HTqk6Ohovfrqq/k9E5D04OfrDz/8oFatWqlNmzaSJKvVqnLlyuX7XhRtD3q+Goah9PR0paWlyWaz\n",
              "KTk5WVWrVjVjMoqwdu3a/el5V5hai5jPR2fPnlWlSpXk4OAg6T//0vP09FRCQsI9t0tISFD16tXv\n",
              "/uzl5fWb2wB57UHP1//r0qVLioyMVO/evfNrJiDpwc/XzMxMDR8+XJ9//rmsVqsZU4EHPl8PHz4s\n",
              "Z2dn9e7dW35+fnriiSd09epVMyajCHvQ87VPnz7q0KGDKlasqEqVKmnNmjV65513zJgM/KHC1FrE\n",
              "PIBckZycrD59+igsLEwPPfSQ2XOA+3r77bc1YMAA1atXz+wpwJ/KysrS6tWr9fnnn2vPnj2qUqWK\n",
              "nn32WbNnAfe1a9cuHTx4UOfPn9eFCxfUuXNnjRw50uxZQKFGzOejatWq6eLFi8rKypL0ny9gSkhI\n",
              "kKen5z238/T01JkzZ+7+HB8f/5vbAHntQc9XSbp165a6d++ufv36acyYMfk9FXjg83XDhg2aNm2a\n",
              "vLy81KZNGyUnJ8vLy4tXO5Gv/sp/D3Ts2FFVqlSRYRh6/PHHtW3bNjMmowh70PN17ty5d79Y1GKx\n",
              "aMiQIVq3bp0Zk4E/VJhai5jPR+XLl1fTpk313XffSZKioqJUtWpV1apV657bBQcHa8mSJbp06ZJs\n",
              "NptmzpypQYMGmTEZRdiDnq+3b99W9+7d1b17d73xxhtmTAUe+HzdtGmTzpw5o/j4eG3evFklS5ZU\n",
              "fHw8n0NGvnrQ8/Xhhx/Wzp07lZycLElatmyZfH19830virYHPV+9vb21du1aZWRkSJJiYmLUsGHD\n",
              "fN8L/JlC1Vrmffde0XTkyBFbq1atbD4+PrZmzZrZ9u/fb7PZbLahQ4faFi9efPd2s2bNsnl7e9u8\n",
              "vb1tTz/99N1vBgXy04Ocr++9957NwcHB5uvre/fy3nvvmTkbRdSD/vv1f50+fZpvs4dpHvR8nTt3\n",
              "rq1Bgwa2Ro0a2bp3725LSEgwazKKsAc5X9PS0mzDhg2z1a1b19aoUSNbYGDg3d92A+SXESNG2KpU\n",
              "qWKzWq228uXL22rWrGmz2Qpvaxk2m81m9l8oAAAAAACAB8fb7AEAAAAAsDPEPAAAAAAAdoaYBwAA\n",
              "AADAzhDzAAAUcX5+frp169ZfPi4kJETffPNN7g8CAAB/ysHsAQAAwFx79+41ewIAAPiLeGUeAIAi\n",
              "zjAMJSYmSpK8vLz01ltvyd/fXzVq1NB7771393ZHjhxR69at1aBBAwUFBd39/eeSdOvWLQ0fPlwt\n",
              "WrRQ48aNNWLECGVkZOjo0aOqWrWqTp06JUmaPHmyunfvrpycnHx9jgAAFDbEPAAAuEdiYqLi4uK0\n",
              "c+dOTZo0SefPn5ckDR48WEOHDtWhQ4f07rvvasOGDXePGTt2rNq2basdO3Zo3759ysnJ0dSpU1Wn\n",
              "Th1NmjRJDz/8sNavX6/p06fr22+/lcXCf4IAAPBP8DZ7AABwj0cffVSSVLZsWXl7e+v06dNyc3PT\n",
              "3r179eSTT0qSGjVqpDZt2tw9Jjo6WnFxcYqIiJAkpaamymq1SpIeeeQRrVu3Tt26ddOaNWtUrly5\n",
              "/H1CAAAUQsQ8AAC4h4uLy91/tlqtysrKuu/tDMO4+882m01RUVGqXbv2b26XlZWlgwcPqnTp0ndf\n",
              "5QcAAP8M73EDAAB/qmTJkmrSpInmzp0rSTp06JA2b95898+DgoI0ceLEu+F/8+ZNnThxQpL06quv\n",
              "qk6dOtq0aZNeeeWVu9cDAIC/j5gHAAAPZO7cuZo1a5YaNmyoN954Q+3atbv7Z1OmTFGxYsXk5+en\n",
              "xo0bq3PnzoqPj1dMTIxWrFih6dOnq1atWoqIiNDDDz+stLQ0E58JAAD2z7DZbDazRwAAAAAAgAfH\n",
              "K/MAAAAAANgZYh4AAAAAADtDzAMAAAAAYGeIeQAAAAAA7AwxDwAAAACAnSHmAQAAAACwM8Q8AAAA\n",
              "AAB2hpgHAAAAAMDOEPMAAAAAANgZYh4AAAAAADvz/wECaDkPfjQP+gAAAABJRU5ErkJggg==\n",
              "\">\n",
              "      </div>\n",
              "      <script type=\"text/javascript\">\n",
              "        (() => {\n",
              "          const chartElement = document.getElementById(\"chart-0e96ab8e-1a0e-43a0-b23e-a5ccecc20c01\");\n",
              "          async function getCodeForChartHandler(event) {\n",
              "            const chartCodeResponse =  await google.colab.kernel.invokeFunction(\n",
              "                'getCodeForChart', [\"chart-0e96ab8e-1a0e-43a0-b23e-a5ccecc20c01\"], {});\n",
              "            const responseJson = chartCodeResponse.data['application/json'];\n",
              "            await google.colab.notebook.addCell(responseJson.code, 'code');\n",
              "          }\n",
              "          chartElement.onclick = getCodeForChartHandler;\n",
              "        })();\n",
              "      </script>\n",
              "      <style>\n",
              "        .colab-quickchart-chart-with-code  {\n",
              "            display: block;\n",
              "            float: left;\n",
              "            border: 1px solid transparent;\n",
              "        }\n",
              "\n",
              "        .colab-quickchart-chart-with-code:hover {\n",
              "            cursor: pointer;\n",
              "            border: 1px solid #aaa;\n",
              "        }\n",
              "      </style>"
            ]
          },
          "metadata": {}
        },
        {
          "output_type": "display_data",
          "data": {
            "text/plain": [
              "<google.colab._quickchart_helpers.SectionTitle at 0x7ad8adf0ae30>"
            ],
            "text/html": [
              "<h4 class=\"colab-quickchart-section-title\">Values</h4>\n",
              "<style>\n",
              "  .colab-quickchart-section-title {\n",
              "      clear: both;\n",
              "  }\n",
              "</style>"
            ]
          },
          "metadata": {}
        },
        {
          "output_type": "display_data",
          "data": {
            "text/plain": [
              "from matplotlib import pyplot as plt\n",
              "_df_12['index'].plot(kind='line', figsize=(8, 4), title='index')\n",
              "plt.gca().spines[['top', 'right']].set_visible(False)"
            ],
            "text/html": [
              "      <div class=\"colab-quickchart-chart-with-code\" id=\"chart-a3badfcb-9b1a-42c3-bb76-d5760ad8ba00\">\n",
              "        <img style=\"width: 180px;\" src=\"data:image/png;base64,iVBORw0KGgoAAAANSUhEUgAAApsAAAFuCAYAAADOJdNTAAAAOXRFWHRTb2Z0d2FyZQBNYXRwbG90\n",
              "bGliIHZlcnNpb24zLjcuMSwgaHR0cHM6Ly9tYXRwbG90bGliLm9yZy/bCgiHAAAACXBIWXMAAA9h\n",
              "AAAPYQGoP6dpAAA490lEQVR4nO3deXSUhaH+8WeSQFgT1pCQPZmJsiOyL5IwqVIV7AX1qrWSVjYV\n",
              "Ei5t7bW/ciptr3p7Ty0BLIJSLMXaIljr1h6ahF0UEEUQMTPZJmFJgJCFJfv7+2NCQirSBDKZmeT7\n",
              "OSfnmDdvhmfOC+HrTIaYDMMwBAAAALiAj7sHAAAAoP0iNgEAAOAyxCYAAABchtgEAACAyxCbAAAA\n",
              "cBliEwAAAC5DbAIAAMBliE0AAAC4DLEJAAAAlyE2AeDf+Pa3v61f/vKXN/z5kydP1rPPPtt6gwDA\n",
              "i/i5ewAAeLq///3v7p4AAF6LRzYBAADgMsQmAPwb8fHx+tnPfiZJMplMWrVqlSZNmqQePXpo2LBh\n",
              "2rNnT8O5NTU1evrppxUcHKz+/fvrmWee+drtnThxQo888ohCQ0MVFBSkhx9+WGfOnJEk7dixQ927\n",
              "d9eBAwckSYZh6J577tGMGTNkGEYb3FsAaF3EJgC00Kuvvqo//OEPKikpkdVq1Xe/+92Gj/3617/W\n",
              "5s2blZGRoYKCAvn5+enjjz9u+HhlZaWsVqsGDhyozMxMZWdny8/PT4888ogkZ9g+++yzuv/++3Xu\n",
              "3Dn98pe/1PHjx/XHP/5RJpOpze8rANwsYhMAWuiHP/yhzGaz/Pz8NG/ePDkcDhUWFkqSNmzYoB/+\n",
              "8IcaPHiw/P399eyzz6p3794Nn/v++++rvLxc//d//6fu3burR48eeuGFF5SWlqaCggJJ0o9//GON\n",
              "GTNGVqtVv/71r7V161b16tXLHXcVAG4aLxACgBYaOHBgw393795dklReXq4BAwaooKBA0dHRDR/3\n",
              "9fVVREREw/s2m02FhYVNAlSS/P395XA4FBYWJklaunSpJk2apIcfflgjR4504b0BANciNgGgFYWF\n",
              "hSk3N7fh/draWuXn5ze8HxwcrMjISGVlZX3jbZSWlmrOnDl6/PHHtXnzZr377ruaMWOGK2cDgMvw\n",
              "NDoAtKI5c+boN7/5jY4fP67Kykr94he/UHFxccPHZ82aperqai1btkylpaWSpKKiIv3lL3+R5HxB\n",
              "0Jw5c3TLLbfolVde0dq1a/XYY48pOzvbLfcHAG4WsQkAregnP/mJZs2apalTpyosLExVVVUaN25c\n",
              "w8d79uypffv2yeFwaNiwYQoICNDEiRO1a9cuSdL//u//6vPPP294QdDDDz+sRx99VLNnz9bly5fd\n",
              "dbcA4IaZDP4tDQAAALgIj2wCAADAZYhNAAAAuAyxCQAAAJchNgEAAOAyxCYAAABchtgEAACAyxCb\n",
              "AAAAcBmPjM3U1FR3TwAAAEAr8MjYzMvLc/cEAAAAtAKPjE0AAAC0D8QmAAAAXIbYBAAAgMsQmwAA\n",
              "AHAZYhMAAAAuQ2wCAADAZYhNAAAAuAyxCQAAAJdpUWwmJycrKipKJpNJn3322Teet379elksFsXG\n",
              "xmrevHmqrq6+2Z0AAADwQi2Kzfvvv1979uxRZGTkN56Tk5OjZcuWaffu3bLb7SosLNS6detueigA\n",
              "AAC8T4ti84477lBYWNh1z9myZYtmzpyp4OBgmUwmLVy4UG+88cZNjQQAAMD1VdfWuXvCNbX692w6\n",
              "HI4mj3xGRUXJ4XB84/mVlZUqKytr8lZbW9vaswAAANql0svVWpGWqYkvZKiwrMLdc77G7S8Qev75\n",
              "5xUYGNjkbf/+/e6eBQAA4NFKL1Xrt//M1OT/zdCKNJvOlFdq84F8d8/6Gr/WvsGIiAhlZWU1vJ+b\n",
              "m6uIiIhvPP+ZZ57R0qVLmxxbtmxZa88CAABoF0ouVen3e3K0YW+uyitrJElxA3oo2WrR3UND3Lzu\n",
              "61o9NmfPnq3Jkyfr2Wef1YABA/Tyyy/roYce+sbz/f395e/v3+SYr69va88CAADwaiWXqvTq7hy9\n",
              "9mGuLtRH5q3BPZVstWj6kGD5+JjcvPDaWhSbCxYs0Pvvv6/Tp0/rrrvuUs+ePWW32zV37lzNnDlT\n",
              "M2fOVExMjJYvX65JkyZJkuLj47VgwQKXjAcAAGjvzl+s0qt7svWHD/OaROaSRIvuHOy5kXmFyTAM\n",
              "w90j/tXSpUv14osvunsGAACA2xRfrNIru7O18cNcXaxyvnh6cEiAkq0W3Tl4gMdH5hWt/jQ6AAAA\n",
              "bty5C5Vatztbf9yXp0v1kTlkYIBSrBZ9a/AAmUzeEZlXEJsAAAAe4OyFSr2yK1sb9+XpcrUzMoeG\n",
              "BmiJNU7WQUFeF5lXEJsAAABudKa8Uut2ZWnTR46GyBweFqgUq0XTbvXeyLyC2AQAAHCDovIKrd2Z\n",
              "rdc/zlNFtfOn/4wI76UlVovib+nv9ZF5BbEJAADQhorKKvRyfWRW1jgjc2R4Ly1JtGhqXPuJzCuI\n",
              "TQAAgDZQWFahNTuy9MZ+R0NkjoropZTEON1h6dfuIvMKYhMAAMCFTpdWaM0Ou944kK+q+sgcHdlb\n",
              "KYkWTTa338i8gtgEAABwgVOll7VmR5b+vD9fVbXOyBwT1VtLEuM0MbZvu4/MK4hNAACAVnSy5LJ+\n",
              "t8OuzQcKGiJzbHQfLbFaNKEDReYVxCYAAEArOFFyWb/bbtfmg/mqrnX+gMbxMX2UYo3ThNi+bl7n\n",
              "PsQmAADATSg4f0kvbc/Slk8aI3NCTF+lJFo0PqbjRuYVxCYAAMANyC++pJe227XlkwLV1Dkjc5K5\n",
              "r1KscRob3cfN6zwHsQkAANACjnPOyNx6qDEyJ5v7KSXRojFRROa/IjYBAACaIe/cRa3OsOutT0+o\n",
              "tj4yp1j6aUmiRbdHEpnfhNgEAAC4jtyzF7Uqw663P2uMzKlx/ZVstej2yN5uXuf5iE0AAIBryDl7\n",
              "UasybHr70xOqb0zF39JfKVaLbosgMpuL2AQAALhK1pkLWp1h198+a4zMabcGKdlq0cjwXm7d5o2I\n",
              "TQAAAEn2ogtalWHTu4dPNkRm4iBnZA4P6+XWbd6M2AQAAB2avahcK9PtevfzkzIaInOAUqwWDQsL\n",
              "dO+4doDYBAAAHVJmYblWptv0/pFTDZF55+ABSrZaNDSUyGwtxCYAAOhQvjrtjMwPjjZG5vQhwVps\n",
              "NWvIQCKztRGbAACgQzh+uswZmUdONxz79tBgJVstGhQS4MZl7RuxCQAA2rVjJ52R+Y8vnJFpMkl3\n",
              "Dw3RYqtZtwYTma5GbAIAgHbp6IlSrUy3aduxQknOyLxnWIiSrRbFDejp5nUdB7EJAADalaMnSpWa\n",
              "btM/r4rMe4cPVPI0syxEZpsjNgEAQLtwpKBUqemZSvuySJLkY5JmjBioxdPMMgcRme5CbAIAAK92\n",
              "OL9Eqek2ZRxvjMz7RoZq0TSzYvv3cPM6EJsAAMArfZZfotS0TG3/6owkZ2R+pz4yY4hMj0FsAgAA\n",
              "r3LIcV6paTbtzHRGpq+PqSEyo/t1d/M6/CtiEwAAeIVP8oq1Is2m3bazkpyROeu2UD2VYFYUkemx\n",
              "iE0AAODRDuYWKzW9MTL9fEyaNcoZmZF9iUxPR2wCAACPtD+nWKnpmdprPyfJGZn33x6mpxLMCu/T\n",
              "zc3r0FzEJgAA8CgfZZ9TappN+7IbI/OB0eF6Mj6WyPRCxCYAAPAI+7LOKTU9Ux9lF0uSOvk2RmZY\n",
              "byLTWxGbAADAbQzD0L7sc1qRZtP+HGdkdvb10YNjwvREvFmhvbq6eSFuFrEJAADanGEY+jDL+XT5\n",
              "/tzGyPzPMeF6Ij5WA4nMdoPYBAAAbcYwDO2xn1Vqmk0H885Lkjr7+ejhMeFaGB+rkEAis70hNgEA\n",
              "gMsZhqHdtrNakZapQ44SSc7IfGRshJ6Ij9WAgC7uHQiXITYBAIDLGIahnZlnlJpu06f1kenv56NH\n",
              "xkVo4VQisyMgNgEAQKszDEM7vjqjFek2Hc4vkSR16eSj746L1II7YhREZHYYxCYAAGg1hmFo+1dF\n",
              "Sk2z6XBBqSRnZH5vfKTm3RGjoJ5EZkdDbAIAgJtmGIbSvyzSygybPq+PzK6dfPW9CZGaNyVG/Xv6\n",
              "u3kh3IXYBAAAN8wwDP3zWKFWZth09ESZJKlb58bI7NeDyOzoiE0AANBihmFo27FCpabZdOyUMzK7\n",
              "d/bVYxOjNHdytPoSmahHbAIAgGarqzO07dhppabb9eVVkTlnYpTmTolRn+6d3bwQnobYBAAA/1Zd\n",
              "naF/fHFaK9NtOn66XJLUw99PSROj9PjkaPUmMvENiE0AAPCN6uoM/f2oMzK/KnRGZk9/P31/UpR+\n",
              "MDlavboRmbi+FsemzWbTnDlzdPbsWQUGBuq1117TkCFDmpxTV1enH/3oR/rHP/4hPz8/9e3bV6+8\n",
              "8orMZnOrDQcAAK5TW2fogyOntCrDpszCC5Kknl389P1J0Xp8UrQCu3Vy80J4ixbH5oIFCzR//nwl\n",
              "JSVpy5YtSkpK0oEDB5qc884772jv3r06fPiwOnXqpF/96lf66U9/qs2bN7facAAA0Ppq6wy99/lJ\n",
              "rcqwy17UGJmPT47W9ydFK7ArkYmWaVFsFhUV6eDBg9q2bZskafbs2Vq0aJHsdnuTRy1NJpMqKytV\n",
              "UVEhPz8/lZWVKSwsrHWXAwCAVnMlMlem25R15qIkKaCLnx6fHKOkSVFEJm5Yi2IzPz9fISEh8vNz\n",
              "fprJZFJERIQcDkeT2JwxY4a2b9+u4OBg9ezZU6Ghodq5c+c1b7OyslKVlZVNjtXW1rb0fgAAgBtQ\n",
              "U1und+sfycyuj8zArp00d3K05kyKUkAXIhM3x8cVN3rw4EEdPXpUJ06c0MmTJ2W1WrVw4cJrnvv8\n",
              "888rMDCwydv+/ftdMQsAANSrqa3T1k8K9K3f7tJ//eWwss9cVK9unfTju27Rnp8kaLHVQmiiVbTo\n",
              "kc3w8HCdOnVKNTU18vPzk2EYcjgcioiIaHLexo0bNW3aNPXq1UuSNGfOHN15553XvM1nnnlGS5cu\n",
              "bXJs2bJlLZkFAACaqaa2Tm9/dlKrM2zKPXdJktS7WyfNnRKjOROj1MOff6gGratFv6OCgoI0atQo\n",
              "bdq0SUlJSdq6davCwsK+9irzmJgYffDBB/rRj36kzp0767333tPQoUOveZv+/v7y92/6UwZ8fX1b\n",
              "eDcAAMD1VNfW6a+fntBL2+3Kq4/MPt07a96UGD02IVLdiUy4SIt/Z61du1ZJSUl67rnnFBAQoA0b\n",
              "NkiS5s6dq5kzZ2rmzJl66qmn9OWXX2rEiBHq1KmTgoOD9fLLL7f6eAAAcH3VtXV661CBVm+3K7/4\n",
              "siSpb/fOmn9HjB4dT2TC9UyGYRjuHvGvli5dqhdffNHdMwAA8FpVNY2RWXDeGZn9ejRGZrfORCba\n",
              "Br/TAABoR6pq6rTlkwK9tN2uEyVXItNfC6fG6LvjItW1M9+qhrZFbAIA0A5U1tTqzYMFWrMjqyEy\n",
              "+/f018KpsXpkbASRCbchNgEA8GKVNbXafLBAa7bbdbK0QpIUdCUyx0WoSyciE+5FbAIA4IUqqmu1\n",
              "+WC+1uzI0qn6yBwQ4K8npsbqobFEJjwHsQkAgBepqK7Vn/c7tGZnlgrLnD+BLzigi55MiNWDo8OJ\n",
              "THgcYhMAAC9QUV2rN/Y79PJVkRkS2EVPxsfqwTHh8vcjMuGZiE0AADxYRXWtXv/YGZlnyp2ROTCw\n",
              "i55MMOuB0WFEJjwesQkAgAe6XFWr1z/O08s7s3X2gjMyQ3t11VMJZt1/e5g6+/m4eSHQPMQmAAAe\n",
              "5FJVjV7/yKG1u7J09kKVJCmstzMyZ48iMuF9iE0AADzApaoa/XFfntbtyta5i87IDO/TVYsSzJo1\n",
              "KkydfIlMeCdiEwAAN7pYWaON+/L0yu5sFddHZkSfblo0zaz/uC2UyITXIzYBAHCDC5U12rgvV6/s\n",
              "ytb5S9WSpMi+3bQowazvEJloR4hNAADaUHlFdcMjmSX1kRndr7sWJZh138iB8iMy0c4QmwAAtIHy\n",
              "imq9tjdXr+7JUellZ2TG9OuuxVazZgwnMtF+EZsAALhQWX1krr86Mvt3V/I0i2aMGChfH5ObFwKu\n",
              "RWwCAOACpZertWFvjn6/J0dlFTWSJHNQDy2eZta9w4lMdBzEJgAAraj0UrV+vzdHv9+bo/L6yLQE\n",
              "9VCy1aK7h4UQmehwiE0AAFpByaUq/X5PjjbszVV5pTMy4wbUR+bQEPkQmeigiE0AAG5CyaUqvbo7\n",
              "R699mKsL9ZF5a3BPJVstmj4kmMhEh0dsAgBwA85frNKre7L1hw/zmkTmkkSL7hxMZAJXEJsAALRA\n",
              "8cUqvbI7Wxs/zNXFqlpJ0uCQACVbLbpz8AAiE/gXxCYAAM1w7kKl1u3O1h/35elSfWQOGRigFKtF\n",
              "3xo8QCYTkQlcC7EJAMB1nL1QqVd2ZWvjvjxdrnZG5tDQAC2xxsk6KIjIBP4NYhMAgGs4U16pdbuy\n",
              "tOkjR0NkDg8LVIrVomm3EplAcxGbAABcpai8Qmt3Zuv1j/NUUV0nSRoR3ktLrBbF39KfyARaiNgE\n",
              "AEBSUVmFXq6PzMoaZ2SODO+lJYkWTY0jMoEbRWwCADq0wrIKrdmRpTf2Oxoic1REL6UkxukOSz8i\n",
              "E7hJxCYAoEM6XVqhNTvseuNAvqrqI3N0ZG+lJFo02UxkAq2F2AQAdCinSi9rzY4s/Xl/vqpqnZE5\n",
              "Jqq3liTGaWJsXyITaGXEJgCgQzhZclm/22HX5gMFDZE5NrqPllgtmkBkAi5DbAIA2rUTJZf1u+12\n",
              "bT6Yr+paQ5I0LrqPliTGaUJsXzevA9o/YhMA0C7lF1/S73ZkacsnjZE5IaavUhItGh9DZAJthdgE\n",
              "ALQr+cWX9NJ2u7Z8UqCaOmdkTjL3VYo1TmOj+7h5HdDxEJsAgHbBcc4ZmVsPNUbmZHM/pSRaNCaK\n",
              "yATchdgEAHi1vHMXtTrDrrc+PaHa+sicYumnJYkW3R5JZALuRmwCALxS7tmLWpVh19ufNUbm1Lj+\n",
              "SrZadHtkbzevA3AFsQkA8Co5Zy9qVYZNb396QvWNqfhb+ivFatFtEUQm4GmITQCAV8g6c0GrM+z6\n",
              "22eNkTnt1iAlWy0aGd7LrdsAfDNiEwDg0exFF7Qqw6Z3D59siMzEQc7IHB7Wy63bAPx7xCYAwCPZ\n",
              "i8q1Mt2udz8/KaMhMgcoxWrRsLBA944D0GzEJgDAo2QWlmtluk3vHznVEJl3Dh6gZKtFQ0OJTMDb\n",
              "EJsAAI/w1WlnZH5wtDEypw8J1mKrWUMGEpmAtyI2AQBudfx0mTMyj5xuOPbtocFKtlo0KCTAjcsA\n",
              "tAZiEwDgFsdOOiPzH184I9Nkku4eGqLFVrNuDSYygfaC2AQAtKmjJ0q1Mt2mbccKJTkj855hIUq2\n",
              "WhQ3oKeb1wFobcQmAKBNHD1RqtR0m/55VWTeO3ygkqeZZSEygXaL2AQAuNSRglKlpmcq7csiSZKP\n",
              "SZoxYqAWTzPLHERkAu1di2PTZrNpzpw5Onv2rAIDA/Xaa69pyJAhXzvvyJEjWrx4sQoLnf8H+z//\n",
              "8z+aNWvWzS8GAHiFw/klSk23KeN4Y2TeNzJUi6aZFdu/h5vXAWgrLY7NBQsWaP78+UpKStKWLVuU\n",
              "lJSkAwcONDnn0qVLuu+++7Rx40ZNnjxZtbW1Ki4ubrXRAADP9Vl+iVLTMrX9qzOSnJH5nfrIjCEy\n",
              "gQ6nRbFZVFSkgwcPatu2bZKk2bNna9GiRbLb7TKbzQ3n/elPf9L48eM1efJkSZKvr6/69+/firMB\n",
              "AJ7mkOO8UtNs2pnpjExfH1NDZEb36+7mdQDcpUWxmZ+fr5CQEPn5OT/NZDIpIiJCDoejSWweO3ZM\n",
              "/v7+uvfee1VQUKDhw4frN7/5zTWDs7KyUpWVlU2O1dbW3sh9AQC4wSd5xVqRZtNu21lJzsicdVuo\n",
              "nkowK4rIBDo8l7xAqKamRmlpafroo480cOBA/fSnP9UTTzyhLVu2fO3c559/XsuXL29ybPz48a6Y\n",
              "BQBoRQdzi5Wa3jQyZ49yRmZkXyITgFOLYjM8PFynTp1STU2N/Pz8ZBiGHA6HIiIimpwXERGhhIQE\n",
              "hYaGSpIeffRR3XXXXde8zWeeeUZLly5tcmzZsmUtmQUAaEP7c4qVmp6pvfZzkiQ/H5Puvz1MTyWY\n",
              "Fd6nm5vXAfA0LYrNoKAgjRo1Sps2bVJSUpK2bt2qsLCwJk+hS9KDDz6o9evXq6ysTAEBAfrggw80\n",
              "YsSIa96mv7+//P39mxzz9fVt4d0AALjaR9nnlJpm077sxsh8YHS4noyPJTIBfKMWP42+du1aJSUl\n",
              "6bnnnlNAQIA2bNggSZo7d65mzpypmTNnKiIiQj/96U81ceJE+fj4KDQ0VOvWrWv18QAA19uXdU6p\n",
              "6Zn6KNv5r4p08m2MzLDeRCaA6zMZhmG4e8S/Wrp0qV588UV3zwCADsswDO3LOqcV6Tbtz3FGZmdf\n",
              "Hz04JkxPxJsV2qurmxcC8Bb8BCEAQAPDMPRh1jmtSMvUgdzzkpyR+Z9jwvVEfKwGEpkAWojYBADI\n",
              "MAztsZ9VappNB/PqI9PPRw+PCdfC+FiFBBKZAG4MsQkAHZhhGNplO6vUtEwdcpRIckbmI2MjtHBq\n",
              "rIIDu7h3IACvR2wCQAdkGIZ2Zp7RijSbPssvkST5+/nokXHOyBwQQGQCaB3EJgB0IIZhaMdXZ7Qi\n",
              "3abD9ZHZpZOPvjsuUgvuiFEQkQmglRGbANABGIahjONFWplu0+GCUknOyPze+EjNuyNGQT2JTACu\n",
              "QWwCQDtmGIbSvyxSarpNR044I7NrJ199b0Kk5k2JUf+e/v/mFgDg5hCbANAOGYahfx4r1MoMm46e\n",
              "KJMkdevcGJn9ehCZANoGsQkA7UhdnaFtxwq1Mt2mY6caI/OxCVGaNyVafYlMAG2M2ASAdsAZmae1\n",
              "Is2m46fLJUndO/tqzsQozZ0Soz7dO7t5IYCOitgEAC9WV2foH1+c1sr0xsjs4e+npIlRenxytHoT\n",
              "mQDcjNgEAC9UV2fog6OntCrdrq8KnZHZ099PSZOckdmrG5EJwDMQmwDgRWrrDH1w5JRWpttkK7og\n",
              "SerZxU/fnxStxydFK7BbJzcvBICmiE0A8AK1dYbe+/ykVmXYZb8qMh+fHK3vT4pWYFciE4BnIjYB\n",
              "wIPV1hl69/BJrcqwKevMRUlSQBc/PT45RkmToohMAB6P2AQAD1RTW6d3Pz+pVel2ZZ91RmZg106a\n",
              "OzlacyZFKaALkQnAOxCbAOBBamrr9LfPTmr1drty6iOzV7dOmjclRo9NiFRPIhOAlyE2AcAD1NTW\n",
              "6a+fntBL2+3KPXdJktS7WyfNnRKjOROj1MOfL9cAvBNfvQDAjarrI3N1hl2OYmdk9uneWfOmxOh7\n",
              "EyKJTABej69iAOAG1bV1eutQgVZvtyu/+LIkqW/3zpp/R4weHR+p7kQmgHaCr2YA0Iaqauq09VCB\n",
              "XtpuV8F5Z2T269EYmd0682UZQPvCVzUAaANVNXXa8okzMk+UXIlMfy2cGqPvjotU186+bl4IAK5B\n",
              "bAKAC1XW1OrNgwVasyOrITL79/TXwqmxemRsBJEJoN0jNgHABSprarX5QL7W7MjSydIKSVLQlcgc\n",
              "F6EunYhMAB0DsQkAraiiulabD+brd9uzdLrMGZkDAvz1xNRYPTSWyATQ8RCbANAKKqpr9ef9Dq3Z\n",
              "maXCskpJUnBAFz2ZEKsHR4cTmQA6LGITAG5CRXWt3tjv0MtXRWZIYBc9GR+rB8eEy9+PyATQsRGb\n",
              "AHADKqpr9frHzsg8U+6MzIGBXfRkglkPjA4jMgGgHrEJAC1wuapWr3+cp5d3ZuvsBWdkhvbqqqcS\n",
              "zLr/9jB19vNx80IA8CzEJgA0w6WqGr3+kUNrd2Xp7IUqSVJYb2dkzh5FZALANyE2AeA6LlXV6I/7\n",
              "8rRuV7bOXXRGZnifrlqUYNasUWHq5EtkAsD1EJsAcA0XK2u0cV+eXtmdreL6yIzo002Lppn1H7eF\n",
              "EpkA0EzEJgBc5UJljTbuy9Uru7J1/lK1JCmybzctSjDrO0QmALQYsQkAksorqhseySypj8zoft21\n",
              "KMGs+0YOlB+RCQA3hNgE0KGVV1Trtb25enVPjkovOyMzpl93LbaaNWM4kQkAN4vYBNAhldVH5vqr\n",
              "I7N/dyVPs2jGiIHy9TG5eSEAtA/EJoAOpfRytTbszdHv9+SorKJGkhTbv7uSrRbdO5zIBIDWRmwC\n",
              "6BBKL1Vr/d4cbdibo/L6yLQE9dBiq0X3DAshMgHARYhNAO1ayaUq/X5PjjbszVV5pTMy4wb0ULLV\n",
              "oruHhsiHyAQAlyI2AbRL5y9Waf2eHL32Ya4u1EfmLQN6KiXRoulDgolMAGgjxCaAdqX4YpVe3Z2t\n",
              "P3yYq4tVtZKkW4N7KsVq0V1EJgC0OWITQLtQfLFKr+zO1sarInNwSICSrRbdOXgAkQkAbkJsAvBq\n",
              "5y5Uat3ubP1xX54u1UfmkIEBSrFa9K3BA2QyEZkA4E7EJgCvdPZCpdbtckbm5WpnZA4NDVCKNU6J\n",
              "g4KITADwEMQmAK9yprxS63ZladNHjobIHB4WqBSrRdNuJTIBwNMQmwC8QlF5hdbuzNbrH+eporpO\n",
              "kjQiLFBLEuMUf0t/IhMAPBSxCcCjFZVVaM3OLP3pY4cqa5yROTK8l1ISLYqPIzIBwNO1ODZtNpvm\n",
              "zJmjs2fPKjAwUK+99pqGDBlyzXMNw5DVatWhQ4dUUlJys1sBdCCFZRVasyNLb+xvjMxREb2Ukhin\n",
              "Oyz9iEwA8BItjs0FCxZo/vz5SkpK0pYtW5SUlKQDBw5c89zf/va3io2N1aFDh256KICO4XRphdbs\n",
              "sOuNA/mqqo/M2yN7a0miRZPNRCYAeJsWxWZRUZEOHjyobdu2SZJmz56tRYsWyW63y2w2Nzn3iy++\n",
              "0Ntvv60NGzbozTffbL3FANqlkyWXtWZHlv5yIF9Vtc7IHBPVWynWOE0y9yUyAcBLtSg28/PzFRIS\n",
              "Ij8/56eZTCZFRETI4XA0ic3q6mrNmzdP69evl6+v73Vvs7KyUpWVlU2O1dbWtmQWAC92suSyfrfD\n",
              "rs0HChoic2x0Hy2xWjQhlsgEAG/nkhcILV++XLNmzdKgQYOUm5t73XOff/55LV++vMmx8ePHu2IW\n",
              "AA9ScP6SfrcjS28ezFd1rSFJGhfdR0sS4zQhtq+b1wEAWovJMAyjuScXFRXJbDaruLhYfn5+MgxD\n",
              "ISEh2rNnT5NHNqdMmSKHwyGTyaSamhqdPHlSEREROnDggPr379/kNq/1yOayZcuUmpp6k3cNgCfK\n",
              "L3ZG5pZPGiNzQkxfpSRaND6GyASA9qZFj2wGBQVp1KhR2rRpk5KSkrR161aFhYV97fs1d+/e3fDf\n",
              "ubm5Gjly5Dc+wunv7y9/f/8mx/7dU+8AvE9+8SW9tN2uLZ8UqKbOGZmTzH2VYo3T2Og+bl4HAHCV\n",
              "Fj+NvnbtWiUlJem5555TQECANmzYIEmaO3euZs6cqZkzZ7b6SADey3HuklZvt+mtQycaInOyuZ9S\n",
              "Ei0aE0VkAkB716Kn0dvK0qVL9eKLL7p7BoCbkHfuolZn2PXWpydUWx+ZUyz9tCTRotsjiUwA6Cj4\n",
              "CUIAWlXu2YtalWHX2581RubUuP5Ktlp0e2RvN68DALQ1YhNAq8g+c0Gr6yOzvjEVf0t/pVgtui2C\n",
              "yASAjorYBHBTsuoj829XRea0W4OUbLVoZHgvt24DALgfsQnghtiLLmhVhk3vHj7ZEJmJg5yROTys\n",
              "l1u3AQA8B7EJoEVsheVamWHXe5+flNEQmQOUYrVoWFige8cBADwOsQmgWTILy7Uy3ab3j5xqiMw7\n",
              "Bw9QstWioaFEJgDg2ohNANf11WlnZH5wtDEypw8J1mKrWUMGEpkAgOsjNgFc05enyrQy3aa/Hz3d\n",
              "cOzbQ4OVbLVoUEiAG5cBALwJsQmgiWMnnZH5jy8aI/OeYSFabDXr1mAiEwDQMsQmAEnS0ROlWplu\n",
              "07ZjhZIkk0m6e1iIkqdZdEtwTzevAwB4K2IT6OCOnijVijSb0r5sjMx7hw9U8jSzLAOITADAzSE2\n",
              "gQ7qSEGpUtMzlfZlkSRnZM4cMVCLp5llDiIyAQCtg9gEOpjD+SVKTbcp47gzMn3qI3PRNIvMQT3c\n",
              "vA4A0N4Qm0AH8anjvFLTbdrx1RlJzsj8zshQLZpmVkx/IhMA4BrEJtDOHXKcV2qaTTsznZHp62Nq\n",
              "iMzoft3dvA4A0N4Rm0A79UlesVak2bTbdlaSMzL/47ZQLUowK4rIBAC0EWITaGcO5BYrNc2mPfbG\n",
              "yJw9KlRPJZgV2ZfIBAC0LWITaCf25xQrNT1Te+3nJEl+Pibdf3uYnkowK7xPNzevAwB0VMQm4OU+\n",
              "yj6n1DSb9mU3RuYDo8P0ZDyRCQBwP2IT8FL7ss5pRVqmPs4pliR18jXpgdHhejI+VmG9iUwAgGcg\n",
              "NgEvYhiGMzLTbdp/VWT+55hwPRFvVmivrm5eCABAU8Qm4AUMw9CH9Y9kHsg9L0nq7OtTH5mxGkhk\n",
              "AgA8FLEJeDDDMLTHflapaTYdzKuPTD8fPTwmXAvjYxUSSGQCADwbsQl4IMMwtMt2VqlpmTrkKJHk\n",
              "jMxHxkZo4dRYBQd2ce9AAACaidgEPIhhGNqZeUYr0mz6LL9EkuTv56NHxjkjc0AAkQkA8C7EJuAB\n",
              "DMPQjq/OaEW6TYfrI7NLJx99d1ykFtwRoyAiEwDgpYhNwI0Mw1DG8SKlptv0eUGpJGdkPjouUvOn\n",
              "xiioJ5EJAPBuxCbgBoZhKP1LZ2QeOeGMzK6dfPW9CZGaNyVG/Xv6u3khAACtg9gE2pBhGPrnsUKt\n",
              "zLDp6IkySVK3zo2R2a8HkQkAaF+ITaAN1NUZ2nasUCvTbTp2qjEyH5sQpXlTotWXyAQAtFPEJuBC\n",
              "zsg8rRVpNh0/XS5J6t7ZV3MmRmnulBj16d7ZzQsBAHAtYhNwgbo6Q//44rRWpjdGZg9/PyVNjNLj\n",
              "k6PVm8gEAHQQxCbQiurqDH1w9JRWpdv1VaEzMnv6+ylpkjMye3UjMgEAHQuxCbSC2jpDHxw5pZXp\n",
              "NtmKLkhyRub3J0fr8UnRCuzWyc0LAQBwD2ITuAm1dYbe+/ykVmXYZb8SmV389INJ0foBkQkAALEJ\n",
              "3IjaOkPvHj6pVRk2ZZ25KEkK6OKnxyfHKGlSlAK7EpkAAEjEJtAiNbV1evfzk1qVblf2WWdkBnbt\n",
              "pLmTozVnUpQCuhCZAABcjdgEmqGmtk5/++ykVm+3K6c+Mnt1q4/MiVHqSWQCAHBNxCZwHTW1dfrr\n",
              "pyf00na7cs9dkiT17tZJc6fEaM7EKPXw548QAADXw9+UwDVU10fm6gy7HMXOyOzTvbPmTYnR9yZE\n",
              "EpkAADQTf2MCV6murdNbhwq0ertd+cWXJUl9u3fWvDti9L3xkepOZAIA0CL8zQlIqqqp09ZDBXpp\n",
              "u10F552R2a9HZ82/I0aPjo9Ut878UQEA4EbwNyg6tKqaOm35xBmZJ0quRKa/Fk6N0XfHRaprZ183\n",
              "LwQAwLsRm+iQKmtq9ebBAq3ZkdUQmf17+mvBHUQmAACtidhEh1JZU6vNB/K1ZkeWTpZWSJKCevpr\n",
              "4dRYPTIuQl06EZkAALQmYhMdQkV1rTYfzNfvtmfpdJkzMgcE+OuJqbF6aCyRCQCAqxCbaNcqqmv1\n",
              "5/0OrdmZpcKySklScEAXPREfq/8cE05kAgDgYi2OTZvNpjlz5ujs2bMKDAzUa6+9piFDhjQ5JyMj\n",
              "Q//93/+tCxcuyGQy6Z577tELL7wgHx+fVhsOXE9Fda3+9LFDL+/MUlG5MzJDArvoyfhYPTgmXP5+\n",
              "RCYAAG2hxbG5YMECzZ8/X0lJSdqyZYuSkpJ04MCBJuf07t1bf/7znxUTE6OKigolJiZq48aNSkpK\n",
              "aq3dwDVVVNfq9frIPFMfmQMDu+jJBLMeGB1GZAIA0MZaFJtFRUU6ePCgtm3bJkmaPXu2Fi1aJLvd\n",
              "LrPZ3HDebbfd1vDfXbp00ciRI5Wbm9s6i4FruFxVq9c/ztPLO7N19oIzMkN7ddWTCbG6/3YiEwAA\n",
              "d2lRbObn5yskJER+fs5PM5lMioiIkMPhaBKbVzt9+rS2bNmi995775ofr6ysVGVlZZNjtbW1LZmF\n",
              "DuxSVY02fZSndbuydfZClSQprHdXPZVg1uxRYersx7duAADgTi59gVBZWZlmzJihp59+WqNHj77m\n",
              "Oc8//7yWL1/e5Nj48eNdOQvtwKWqGv1xnzMyz11sjMzF08yaNSpMnXyJTAAAPIHJMAyjuScXFRXJ\n",
              "bDaruLhYfn5+MgxDISEh2rNnz9ce2SwvL9ddd92lu+++Wz/72c++8Tav9cjmsmXLlJqa2sK7go7g\n",
              "YmWNNu7L0yu7s1VcH5kRfbppUYJZ/zEqlMgEAMDDtOiRzaCgII0aNUqbNm1SUlKStm7dqrCwsK+F\n",
              "5oULFzR9+nRNnz79uqEpSf7+/vL3929yzNeX769DUxcqa/SHD3P16u5snb9ULUmK7OuMzO/cRmQC\n",
              "AOCpWvw0+tq1a5WUlKTnnntOAQEB2rBhgyRp7ty5mjlzpmbOnKnU1FTt379fFy9e1FtvvSVJeuCB\n",
              "B/T//t//a931aPfKK6obHsksqY/MqL7dtHiaRfeNHCg/IhMAAI/WoqfR28rSpUv14osvunsG3Ki8\n",
              "olqv7c3Vq3tyVHrZGZkx/bpr0TSzZo4gMgEA8Bb8BCF4lLKKam3Yk6v1e7JVVlEjSYrp313J0yya\n",
              "MWKgfH1Mbl4IAABagtiERyi9XK0Ne3P0+z05DZEZ27+7kq0W3TucyAQAwFsRm3Cr0kvVWr83Rxv2\n",
              "5qi8PjItQT202GrRPcNCiEwAALwcsQm3KLlUpd/vydGGvbkqr3RGZtyAHkq2WnT30BD5EJkAALQL\n",
              "xCba1PmLVVq/J0evfZirC/WRecuAnkpJtGj6kGAiEwCAdobYRJsovlilV3dn6w8f5upilfPHkd4a\n",
              "3FMpVovuIjIBAGi3iE24VPHFKr2yO1sbr4rMwSEBSrZadOfgAUQmAADtHLEJlzh3oVLrdmfrj/vy\n",
              "dKk+MocMDFCK1aJvDR4gk4nIBACgIyA20arOXqjUul3OyLxc7YzMoaEBSrHGKXFQEJEJAEAHQ2yi\n",
              "VZwpr9S6XVna9JGjITKHhwUqxWrRtFuJTAAAOipiEzelqLxCa3dm6/WP81RRXSdJGhEWqCWJcYq/\n",
              "pT+RCQBAB0ds4oYUlVVozc4s/eljhyprnJE5MryXUhItio8jMgEAgBOxiRYpLKvQmh1ZemN/Y2SO\n",
              "iuillMQ43WHpR2QCAIAmiE00y+nSCq3ZYdcbB/JVVR+Zt0f21pJEiyabiUwAAHBtxCau62TJZa3Z\n",
              "kaW/HMhXVa0zMsdE9VaKNU6TzH2JTAAAcF3EJq7pRMllrdlh1+YDBQ2ROTa6j5ZYLZoQS2QCAIDm\n",
              "ITbRRMH5S/rdjiy9eTBf1bWGJGlcdB8tSYzThNi+bl4HAAC8DbEJSVJ+sTMyt3zSGJkTYvoqJdGi\n",
              "8TFEJgAAuDHEZgeXX3xJL223a8snBaqpc0bmxNi+SrFaNI7IBAAAN4nY7KAc5y5p9Xab3jp0oiEy\n",
              "J5v7KSXRojFRfdy8DgAAtBfEZgeTd+6iVmfY9danJ1RbH5lTLP20JNGi2yOJTAAA0LqIzQ4i56wz\n",
              "Mt/+rDEy74jrrxSrRbdH9nbzOgAA0F4Rm+1c9pkLDZFZ35iKv8UZmbdFEJkAAMC1iM12Kqs+Mv92\n",
              "VWROuzVIyVaLRob3cus2AADQcRCb7Yy9qFyrMux69/DJhsi01kfmCCITAAC0MWKznbAVlmtlhl3v\n",
              "fX5SRn1kJg4aoBSrRcPCAt07DgAAdFjEppfLLCzXynSb3j9yqiEy7xw8QMlWi4aGEpkAAMC9iE0v\n",
              "dfx0mVal2/XB0cbIvGuIMzKHDCQyAQCAZyA2vcyXp8q0Mt2mvx893XDs20ODlWy1aFBIgBuXAQAA\n",
              "fB2x6SWOnXRG5j++aIzMe4aFaLHVrFuDiUwAAOCZiE0Pd/REqVam27TtWKEkyWSS7h4WouRpFt0S\n",
              "3NPN6wAAAK6P2PRQR0+UakWaTWlfNkbmvcMHKnmaWZYBRCYAAPAOxKaHOVJQqtT0TKV9WSTJGZkz\n",
              "RwzU4mlmmYOITAAA4F2ITQ9xOL9Eqek2ZRx3RqZPfWQummaROaiHm9cBAADcGGLTzT51nFdquk07\n",
              "vjojyRmZ3xkZqqemmRXbn8gEAADejdh0k0OO80pNs2lnpjMyfX1M+s7IUC2aZlZ0v+5uXgcAANA6\n",
              "iM029klesVak2bTbdlaSMzL/47ZQLUowK4rIBAAA7Qyx2UYO5BYrNc2mPfbGyJw9KlRPJZgV2ZfI\n",
              "BAAA7ROx6WL7c4qVmp6pvfZzkiQ/H5Puvz1MTyWYFd6nm5vXAQAAuBax6SIfZZ9TappN+7IbI/OB\n",
              "0WF6Mp7IBAAAHQex2cr2ZZ3TirRMfZxTLEnq5GvSA6PD9WR8rMJ6E5kAAKBjITZbgWEYzshMt2n/\n",
              "VZH5n2PC9US8WaG9urp5IQAAgHsQmzfBMAzttZ9TanqmDuSelyR19vWpj8xYDSQyAQBAB0ds3gDD\n",
              "MLTHflYr0mz6JK8+Mv189PCYcC2Mj1VIIJEJAAAgEZstYhiGdtnOKjUtU4ccJZKckfnI2AgtnBqr\n",
              "4MAu7h0IAADgYYjNZjAMQzszz2hFmk2f5ZdIkvz9fPTIOGdkDgggMgEAAK6F2LwOwzC046szWpFu\n",
              "0+H6yOzSyUffHRepBXfEKIjIBAAAuC6fln6CzWbTxIkTFRcXpzFjxuiLL7645nnr16+XxWJRbGys\n",
              "5s2bp+rq6pse21YMw1D6l4W676W9+v5rB3Q4v0RdOvlo7uRo7Xo6QcvuHUxoAgAANEOLY3PBggWa\n",
              "P3++MjMz9ZOf/ERJSUlfOycnJ0fLli3T7t27ZbfbVVhYqHXr1rXGXpcyDENpxwo1c/VePf6Hg/q8\n",
              "oFRdO/lq/h0x2v30NP3s3sEK6klkAgAANFeLYrOoqEgHDx7Uo48+KkmaPXu28vPzZbfbm5y3ZcsW\n",
              "zZw5U8HBwTKZTFq4cKHeeOON1lvdygzD0LYvTmvG6j2au/GgjpwoVbfOvlowNUa7f5Kgn949SP17\n",
              "+rt7JgAAgNdp0fds5ufnKyQkRH5+zk8zmUyKiIiQw+GQ2WxuOM/hcCgyMrLh/aioKDkcjmveZmVl\n",
              "pSorK5scq62tbcmsm7Ir84xe+PtxHTtVJknq1tlXj02I0rwp0erbg8AEAAC4GW5/gdDzzz+v5cuX\n",
              "Nzk2fvz4Nvv1889f0rFTZere2VdzJkZp7pQY9eneuc1+fQAAgPasRbEZHh6uU6dOqaamRn5+fjIM\n",
              "Qw6HQxEREU3Oi4iIUFZWVsP7ubm5XzvnimeeeUZLly5tcmzZsmUtmXVTHrg9XCWXqvXI2Aj1JjIB\n",
              "AABaVYu+ZzMoKEijRo3Spk2bJElbt25VWFhYk6fQJef3cr7zzjs6ffq0DMPQyy+/rIceeuiat+nv\n",
              "76+AgIAmb76+vjd4d1qus5+PnkowE5oAAAAu0OJXo69du1Zr165VXFycXnjhBW3YsEGSNHfuXL3z\n",
              "zjuSpJiYGC1fvlyTJk2S2WxW//79tWDBgtZdDgAAAI9nMgzDcPeIf7V06VK9+OKL7p4BAACAm9Ti\n",
              "RzYBAACA5iI2AQAA4DLEJgAAAFyG2AQAAIDLEJsAAABwGWITAAAALkNsAgAAwGWITQAAALgMsQkA\n",
              "AACX8cifIDRr1ixFRUW12a9XW1ur/fv3a+zYsW36c9nROrh+3o9r6P24ht6Pa+jd3HH9IiMjlZKS\n",
              "8m/P88jYbGtlZWUKDAxUaWmpAgIC3D0HLcT1835cQ+/HNfR+XEPv5snXj6fRAQAA4DLEJgAAAFyG\n",
              "2AQAAIDLEJuS/P399fOf/1z+/v7unoIbwPXzflxD78c19H5cQ+/mydePFwgBAADAZXhkEwAAAC5D\n",
              "bAIAAMBliE0AAAC4TIeKTZvNpokTJyouLk5jxozRF198cc3z1q9fL4vFotjYWM2bN0/V1dVtvBTX\n",
              "0pzrl5GRobFjx2rw4MEaMmSInn76adXV1blhLa6luX8GJckwDE2bNk29evVqu4H4t5p7DY8cOaL4\n",
              "+HgNGjRIgwYN0ltvvdXGS3Etzbl+dXV1Wrp0qQYPHqzhw4crISFBdrvdDWtxLcnJyYqKipLJZNJn\n",
              "n332jed5VMsYHUhCQoKxYcMGwzAM48033zRGjx79tXOys7ONkJAQ49SpU0ZdXZ0xY8YMY/Xq1W28\n",
              "FNfSnOt36NAhIysryzAMw7h8+bIxadKkhs+B+zXnGl7xm9/8xpg7d64RGBjYNuPQLM25hhcvXjSi\n",
              "o6ON3bt3G4ZhGDU1NUZRUVFbzsQ3aM71++tf/2qMHTvWqKqqMgzDMH75y18aDzzwQFvOxHXs3LnT\n",
              "yM/PNyIjI41PP/30mud4Wst0mNgsLCw0evbsaVRXVxuGYRh1dXXGgAEDDJvN1uS8X//618aCBQsa\n",
              "3n///feNSZMmtelWfF1zr9+/euqpp4yf//znbbAQ/05LruHRo0eNKVOmGHa7ndj0IM29hq+88orx\n",
              "8MMPu2MirqO51+/tt982RowYYZSVlRl1dXXGj3/8Y+O//uu/3DEZ13G92PS0lukwT6Pn5+crJCRE\n",
              "fn5+kiSTyaSIiAg5HI4m5zkcDkVGRja8HxUV9bVz0Paae/2udvr0aW3ZskX33ntvW83EdTT3GlZX\n",
              "V2vevHlau3atfH193TEV36C51/DYsWPy9/fXvffeq5EjR+qxxx7TmTNn3DEZV2nu9ZsxY4bi4+MV\n",
              "HByskJAQpaen6xe/+IU7JuMGeVrLdJjYRMdSVlamGTNm6Omnn9bo0aPdPQctsHz5cs2aNUuDBg1y\n",
              "9xTcoJqaGqWlpWnt2rX69NNPFRoaqieeeMLds9BMBw8e1NGjR3XixAmdPHlSVqtVCxcudPcseLEO\n",
              "E5vh4eE6deqUampqJDlffOBwOBQREdHkvIiICOXl5TW8n5ub+7Vz0Paae/0kqby8XNOnT9d9992n\n",
              "pUuXtvVUfIPmXsOdO3dq1apVioqK0uTJk1VWVqaoqCgeGfMALfk6mpCQoNDQUJlMJj366KP66KOP\n",
              "3DEZV2nu9du4cWPDi/N8fHw0Z84cbd++3R2TcYM8rWU6TGwGBQVp1KhR2rRpkyRp69atCgsLk9ls\n",
              "bnLe7Nmz9c477+j06dMyDEMvv/yyHnroIXdMxlWae/0uXLig6dOna/r06frZz37mjqn4Bs29hrt3\n",
              "71ZeXp5yc3O1Z88eBQQEKDc3V/3793fHbFyludfwwQcf1IEDB1RWViZJ+uCDDzRixIg234ummnv9\n",
              "YmJilJGRoaqqKknSe++9p6FDh7b5Xtw4j2sZt323qBscP37cGD9+vGGxWIzbb7/d+Pzzzw3DMIzH\n",
              "H3/c+Nvf/tZw3rp164yYmBgjJibG+MEPftDwijy4V3Ou369+9SvDz8/PGDFiRMPbr371K3fOxlWa\n",
              "+2fwipycHF4g5GGaew03btxoDBkyxBg2bJgxffp0w+FwuGsyrtKc61dRUWHMnTvXuPXWW41hw4YZ\n",
              "3/rWtxr+lQ+43/z5843Q0FDD19fXCAoKMmJjYw3D8OyW4WejAwAAwGU6zNPoAAAAaHvEJgAAAFyG\n",
              "2AQAAIDLEJsAAABwGWITAAAALkNsAgAAwGWITQAAALgMsQkAAACXITYBAADgMsQmAAAAXIbYBAAA\n",
              "gMv8f+G80VqGqZAVAAAAAElFTkSuQmCC\n",
              "\">\n",
              "      </div>\n",
              "      <script type=\"text/javascript\">\n",
              "        (() => {\n",
              "          const chartElement = document.getElementById(\"chart-a3badfcb-9b1a-42c3-bb76-d5760ad8ba00\");\n",
              "          async function getCodeForChartHandler(event) {\n",
              "            const chartCodeResponse =  await google.colab.kernel.invokeFunction(\n",
              "                'getCodeForChart', [\"chart-a3badfcb-9b1a-42c3-bb76-d5760ad8ba00\"], {});\n",
              "            const responseJson = chartCodeResponse.data['application/json'];\n",
              "            await google.colab.notebook.addCell(responseJson.code, 'code');\n",
              "          }\n",
              "          chartElement.onclick = getCodeForChartHandler;\n",
              "        })();\n",
              "      </script>\n",
              "      <style>\n",
              "        .colab-quickchart-chart-with-code  {\n",
              "            display: block;\n",
              "            float: left;\n",
              "            border: 1px solid transparent;\n",
              "        }\n",
              "\n",
              "        .colab-quickchart-chart-with-code:hover {\n",
              "            cursor: pointer;\n",
              "            border: 1px solid #aaa;\n",
              "        }\n",
              "      </style>"
            ]
          },
          "metadata": {}
        },
        {
          "output_type": "display_data",
          "data": {
            "text/plain": [
              "from matplotlib import pyplot as plt\n",
              "_df_13['a'].plot(kind='line', figsize=(8, 4), title='a')\n",
              "plt.gca().spines[['top', 'right']].set_visible(False)"
            ],
            "text/html": [
              "      <div class=\"colab-quickchart-chart-with-code\" id=\"chart-9a0d5f35-690e-4115-902a-159f23e1958c\">\n",
              "        <img style=\"width: 180px;\" src=\"data:image/png;base64,iVBORw0KGgoAAAANSUhEUgAAApcAAAFuCAYAAADUGTPdAAAAOXRFWHRTb2Z0d2FyZQBNYXRwbG90\n",
              "bGliIHZlcnNpb24zLjcuMSwgaHR0cHM6Ly9tYXRwbG90bGliLm9yZy/bCgiHAAAACXBIWXMAAA9h\n",
              "AAAPYQGoP6dpAAA8UElEQVR4nO3deVSUheLG8Wdm2EQBFRR3ScB933IBYUDLSlvULHNNzSxLkxLq\n",
              "/lpv3WtuJKaVmVm2WqZtVqayK4r7mgqogLvigisKvL8/8HaytFAHhuX7OWfOifGd4em8p/r2zgyY\n",
              "DMMwBAAAANiA2d4DAAAAUHYQlwAAALAZ4hIAAAA2Q1wCAADAZohLAAAA2AxxCQAAAJshLgEAAGAz\n",
              "xCUAAABshrgEAACAzRCXAAAAsBniEgAAADZDXAIAAMBmiEsAsKFZs2apefPmcnd3V40aNTR48GAd\n",
              "P37c3rMAoNgQlwBgQzVq1NCiRYt06tQprVmzRrt379bTTz9t71kAUGxMhmEY9h4BAGXV4sWLNXLk\n",
              "SGVlZdl7CgAUCwd7DwCAsmTRokWaOnWqUlNTdfHiReXn5+vcuXPKy8uTxWKx9zwAKHK8LA4ANrJ/\n",
              "/349+OCDevrpp5WRkaHs7Gx98sknkiReJAJQXhCXAGAjZ8+eVX5+vry8vOTi4qKUlBRNnDjR3rMA\n",
              "oFgRlwBgI40bN9bEiRM1ZMgQubm5aejQoRo0aJC9ZwFAseIDPQAAALAZrlwCAADAZohLAAAA2Axx\n",
              "CQAAAJshLgEAAGAzxCUAAABshrgEAACAzRCXAAAAsJkSE5dRUVH2ngAAAIBbVGLiMj093d4TAAAA\n",
              "cItKTFwCAACg9CMuAQAAYDPEJQAAAGyGuAQAAIDNEJcAAACwGeISAAAANkNcAgAAwGaISwAAANjM\n",
              "DcXl2LFj5ePjI5PJpE2bNv1+f0pKirp06aKGDRuqQ4cO2r59u613AgAAoBS4objs16+fEhMTVb9+\n",
              "/avuf/zxxzVq1Cjt3r1bERERGjZsmC03AgAAoJS4objs1q2b6tSpc9V9R48e1bp16zRo0CBJUt++\n",
              "fZWZmanU1FTbrbSxy3n59p4AAABQJt3yey4zMzNVs2ZNOTg4SJJMJpPq1aunjIyM6z4mJydH2dnZ\n",
              "V93y8vJudUqh5Obl666oBP3f4q06cOpCsXxPAACA8sIuH+iZOHGiPDw8rrolJycXy/eOTzmm1KNn\n",
              "9dmaDAVPidELi7Zq/8nzxfK9AQAAyrpbjsu6devq0KFDys3NlSQZhqGMjAzVq1fvuo954YUXdPr0\n",
              "6atuHTt2vNUphRLS2FsLRnVSF19PXc4z9EVyhoKnxOqFRVuUeYLIBAAAuBW3HJfVq1dX27Zt9emn\n",
              "n0qSvvnmG9WpU0d+fn7XfYyzs7Pc3d2vulkslludUmi3N/DU54910tejOyvAz0u5+Ya+SM6UdWqs\n",
              "IhZuUUYWkQkAAHAzTIZhGIU9+PHHH9eSJUt0+PBheXp6ys3NTampqdq1a5eGDRumrKwsubu7a968\n",
              "eWrRosUNDQkLC1NkZOQN/w3Ywvr0E5q+PEUJKcclSRazSX3a1NZTIX6q71nRLpsAAABKoxuKy6Jk\n",
              "z7j8n/XpJxW1IkXxu49JKojMB9rU1lNWP/l4EZkAAAD/hN/Q8wft6lfR/OEdtfjJLgpuVE15+YYW\n",
              "rt+v0Mg4hX21SXuPn7P3RAAAgBKNuLyGNvWq6KNHO+rbMV0V0ri68vINLdpwQKHTYjV+wSalHTtr\n",
              "74kAAAAlEnH5N1rXrawPh3XQd2O6KrRxdeUb0uKNB9QjMk7PfLlRqUeJTAAAgD8iLguhVd3Kmjus\n",
              "g354KkDdm3gr35C+3XRQPd6K09gvNir16Bl7TwQAACgRiMsb0KKOhz4Y2l4/Ph2gO5p6yzCk7zcf\n",
              "VI+34vXU5xu0+wiRCQAAyjfi8iY0r+2h94e015KxAbqzWUFk/rjlkO6cHq8xn2/QrsNEJgAAKJ+I\n",
              "y1vQrJaHZg9ur5/HBequ5jVkGNKSK5H55GfrtfNwtr0nAgAAFCvi0gaa1HTXu4Pa6ZdnAnVPi5qS\n",
              "pJ+2HlbP6Ql64tP1+u0QkQkAAMoH4tKGGtdw16yBbbX0mW66p2VNmUzSz9sO666oBD3+yTptP3ja\n",
              "3hMBAACKFHFZBBrVcNOsR9rq12e6qXerWjKZpKXbj+ieGYl6bP46bTtAZAIAgLKJuCxC/t5uentA\n",
              "Gy0b3033tS6IzGU7jqjX24ka+fE6bd1PZAIAgLKFuCwGftXdFPVwGy0bH6T7W9eS2SQt/+2Ies9M\n",
              "1IiP1mrL/lP2nggAAGATxGUx8qteSdMfbqNlYUHq06a2zCZpxc6junfmSj06L1mbMk/ZeyIAAMAt\n",
              "IS7twLdaJUU+1Forng1W37Z1ZDGbFLPrmO6ftVLD5iVrY8ZJe08EAAC4KcSlHd3mVVHT+rfSirAg\n",
              "9WtXEJmxu47pgXdWaciHyVqfTmQCAIDShbgsAXy8Kmrqg60U/WyQ+rcviMz43cfU991VGjx3jdbt\n",
              "O2HviQAAAIVCXJYg9T0ranK/Vop9LlgPd6grB7NJCSnH1e+9JA36YI3WEpkAAKCEIy5LoLpVXfVm\n",
              "35aKeS5YAzoWRGZi6nE9+F6SHpmzWmv2ZNl7IgAAwDURlyVY3aqumtinpWInBOuR2+vJ0WLSqrQs\n",
              "PfT+aj38fpKS0ohMAABQshCXpUCdKq767wMtFDvBqkGdCiJz9Z4TGjBntR6anaRVacdlGIa9ZwIA\n",
              "ABCXpUntyhX0xv0tFDfBqsGd6svJYtaavSf0yJw1emj2aq1MJTIBAIB9EZelUK3KFfT6/c0VFx6s\n",
              "oZ3ry8nBrOR9JzTwgzV68L0kJaYQmQAAwD6Iy1KspkcFvXZfc8VPsGpYFx85OZi1Lv2kBs1do37v\n",
              "JSl+9zEiEwAAFCvisgyo4eGiV+9tpoRwqx7t6iNnB7PWp5/UkA+T1efdVYrddZTIBAAAxYK4LEO8\n",
              "3V30Su+CyBwRcJtcHM3amHFKw+at1QPvrFIMkQkAAIoYcVkGVXd30Uu9mio+3KqRVyJzU+YpPTpv\n",
              "re6ftVLRO48QmQAAoEgQl2VYdTcXvdirqRLCQzSqWwNVcLRo8/7TGv7ROt03a6WW7yAyAQCAbRGX\n",
              "5UA1N2f96+4mSoiw6vGgBnJ1smjL/tMaOX+des9M1DIiEwAA2AhxWY54VXLWC3c1UUK4VaODfOXq\n",
              "ZNG2A9l6bP469Xo7UUu3HyYyAQDALSEuyyHPSs56/q7GSowI0ZPBvqroZNH2g9l6/JP1untGon7Z\n",
              "dkj5+UQmAAC4ccRlOVa1opPCexZE5lNWP1VydtBvh7I1+tMNuntGgn7eSmQCAIAbQ1xCVSo66bk7\n",
              "GykxwqqnQ/zk5uygnYfP6InPNuiuqAQt2UJkAgCAwiEu8bvKrk569o5GSowI0dhQf7k5O2jXkTMa\n",
              "8/kG9YyK1w+bDyqPyAQAAH+DuMRfeLg6KqxHQyVGhGhcqL/cXBy0+8hZPf3FRt05PV7fE5kAAOA6\n",
              "iEtcl4ero8Zficzx3RvK3cVBqUfPauwXG3XHW3H6btMBIhMAAFyFuMQ/8qjgqHHd/ZX4fIie7dFQ\n",
              "HhUclXbsnMZ9uUk93orT4o37lZuXb++ZAACgBCAuUWjuLo56OtRfiRFWPXdHQ1V2ddSeY+c0fsFm\n",
              "9XgrXos2EJkAAJR3xCVumJuLo54K8VdiRIgm3NlIVVwdtff4OYV9tVndI+O0cD2RCQBAeUVc4qZV\n",
              "cnbQGKufEiJCFNGzsapWdNK+rPN67uvNCo2M01frMnWZyAQAoFwhLnHLKjk76IlgXyWEW/X8XQWR\n",
              "mZ51XuELtyh0Wpy+WktkAgBQXhCXsJmKzg4aHeSrxAir/nV3Y3lVclLGifMK/2aLQqbF6svkDCIT\n",
              "AIAyjriEzbk6OWhUN18lhIfoxXuayKuSszJPXNDzi7YqeEqsPl+ToUu5RCYAAGURcYkiU8HJopGB\n",
              "DZQQbtWL9zRRNTdnHTh1Qf9avFXWqbH6bE06kQkAQBlDXKLI/TEyX+7VVNWvROb/Ld6m4Ckx+mR1\n",
              "unJy8+w9EwAA2ABxiWLj4mjR8IDbFB9u1au9m8rb3VkHT1/US99uU/CUWM1P2qeLl4lMAABKM+IS\n",
              "xc7F0aJhXW9T3ASrXru3mWq4u+jQ6Yt6+bvtCp4Sq49XEZkAAJRWxCXsxsXRoqFdfBQ7IViv39dM\n",
              "NT1cdDj7ol75fruCpsRo3sq9RCYAAKWMTePyl19+Ufv27dWyZUt16tRJmzdvtuXTo4xycbRocOeC\n",
              "yHzj/uaq5eGiI9k5eu2HHeo2OUZzE4lMAABKC5NhGIYtnujkyZPy8/NTfHy8mjVrpoSEBD3xxBPa\n",
              "tm1boR4fFhamyMhIW0xBKZeTm6eF6/frnZg0HTh1QZJUzc1Zj3droIG311cFJ4udFwIAgOux2ZXL\n",
              "tLQ0eXp6qlmzZpKkwMBAZWRkaMOGDbb6FignnB0sGnh7fcU8F6yJfVqoTpUKOnYmR28s+U2Bk2M0\n",
              "J36Pzl/KtfdMAABwDTaLS39/f2VlZWnVqlWSpO+//15nzpzRvn37/nJsTk6OsrOzr7rl5fGyJ67m\n",
              "5GDWgI71FPNcsCb1LYjM42dz9J+fflO3yTGaHZdGZAIAUMLYLC49PDy0cOFCvfDCC2rXrp1+/fVX\n",
              "NW3aVA4ODn85duLEifLw8LjqlpycbKspKGMcLWY91KEgMif3bal6VV11/OwlTfx5pwInxei9uDSd\n",
              "yyEyAQAoCWz2nss/y8nJUY0aNbR27Vr5+fn95c9ycnKuuu+ll15SVFRUUUxBGXM5L1/fbjygmTGp\n",
              "Ss86L0mqWtFJIwNv05DOPqrk/Nf/oQEAAMXDpp8WP3To0O9//frrryskJOQvYSlJzs7Ocnd3v+pm\n",
              "sfAhDRSOo8WsB9vX1YqwIE17sJV8PF114twlTf5llwInRWtWTKrOXLxs75kAAJRLNo3Ll19+WY0b\n",
              "N5afn5/S09M1d+5cWz49cBUHi1l929XR8rAgRfZvpQZeFXXy/GVNWbpLgZNjNDM6hcgEAKCYFdnL\n",
              "4jeKH0WEW5WXb+iHzQc1IzpFe46dkyR5VHDUiIDbNKyrj9xdHO28EACAso/f0IMyw2I26f42tbVs\n",
              "fJCiHm4t32oVdfrCZUUu262AN6M1fflunb7AlUwAAIoScYkyx2I26b7WtfXr+CDNGNBG/tUrKfti\n",
              "rqYvT1HApGi9tYzIBACgqBCXKLMsZpPubVVLS5/pppmPtFFD70o6czFXUStSFPBmtCJ/3aXT54lM\n",
              "AABsibhEmWc2m9SrZS39Mq6b3hnYVo283XQmJ1czolMVMCla037dpVPnL9l7JgAAZQJxiXLDbDbp\n",
              "7hY19fO4QL07sK0a1yiIzLejUxUwKUZTlu7UyXNEJgAAt4K4RLljNpt0V4ua+mlsoN4b1E5Na7rr\n",
              "bE6uZsWkKWBStCb9slMniEwAAG4KcYlyy2w2qWfzGloyNkDvD26nZrXcde5Snt6NLYjMN3/eqayz\n",
              "Of/8RAAA4HfEJco9k8mkO5rV0I9PB2jOkPZqXttd5y/l6b24NAVMitHEn37TcSITAIBCIS6BK0wm\n",
              "k3o09dYPTwVo7tD2alnHQxcu52l2/B4FTorRf5bs0LEzRCYAAH+HuAT+xGQyKbSJt74b01XzhnVQ\n",
              "qyuROSdhrwInR+uNH3fo6JmL9p4JAECJRFwC12EymWRtXF3fjumqeY92UOu6lXXxcr4+SNyrwEkx\n",
              "+vcPO3Q0m8gEAOCPiEvgH5hMJlkbVdfiJ7vo4+Ed1aZeZeXk5uvDlXsVODlGr36/XUeITAAAJBGX\n",
              "QKGZTCYFNaymRU900fzhHdWufhXl5Obro1X7fo/Mw6eJTABA+UZcAjfIZDKpW8NqWji6sz4dcbs6\n",
              "+FTRpSuR2W1yjF7+bpsOnb5g75kAANiFg70HAKWVyWRSgL+Xuvp5KiktS9OXpyh53wnNT0rXl8mZ\n",
              "6t+hjp4M9lOtyhXsPRUAgGJDXAK3yGQyqYuflzr7eippT5ailqdozd4T+nR1hhaszVT/9nX1pNVP\n",
              "tYlMAEA5QFwCNmIymdTF10tdfL20+kpkJu3J0mdrMvTVukz1a1dXY6y+qlPF1d5TAQAoMrznEigC\n",
              "nRp46otRnbRgVCd18fXU5TxDXyRnKHhKrF5YtEWZJ87beyIAAEWCuASK0O0NPPX5Y5309ejOCvDz\n",
              "Um6+oS+SM2WdGquIhVuUkUVkAgDKFuISKAYdfKrq05G365snOivQvyAyF6zLlHVarCZ8vVnpWefs\n",
              "PREAAJsgLoFi1K5+VX0y4nZ980QXdWtYTXn5hr5ev18h0+L03Nebte84kQkAKN2IS8AO2tWvovnD\n",
              "O2rRk10U3KggMheu36/QyDiFfbVJe4lMAEApRVwCdtS2XhV99GhHfTumq0IaV1devqFFGw4odFqs\n",
              "xi/YpLRjZ+09EQCAG0JcAiVA67qV9eGwDvpuTFeFNq6ufENavPGAekTG6ZkvNyr1KJEJACgdiEug\n",
              "BGlVt7LmDuugH54KUPcm3so3pG83HVSPt+I09ouNSj16xt4TAQD4W8QlUAK1qOOhD4a2149PB+iO\n",
              "pt4yDOn7zQfV4614PfX5Bu0+QmQCAEom4hIowZrX9tD7Q9prydgA3dmsIDJ/3HJId06P15jPN2jX\n",
              "YSITAFCyEJdAKdCslodmD26vn8YG6q7mNWQY0pIrkfnkZ+u183C2vScCACCJuARKlaa13PXuoHb6\n",
              "5ZlA3dOipiTpp62H1XN6gkZ/sl47DhKZAAD7Ii6BUqhxDXfNGthWS5/ppnta1pTJJP2y/bDunpGg\n",
              "xz9Zp+0HT9t7IgCgnCIugVKsUQ03zXqkIDJ7t6olk0lauv2I7pmRqMfmr9O2A0QmAKB4EZdAGdDQ\n",
              "201vD2ijZeO76b7WBZG5bMcR9Xo7USM/Xqut+4lMAEDxIC6BMsSvupuiHm6jZeODdH/rWjKbpOW/\n",
              "HVXvmYka8dFabdl/yt4TAQBlHHEJlEF+1Stp+sNttCwsSH3a1JbZJK3YeVT3zlypR+cla1PmKXtP\n",
              "BACUUcQlUIb5VqukyIdaa8Wzwerbto4sZpNidh3T/bNWauiHydqQcdLeEwEAZQxxCZQDt3lV1LT+\n",
              "rbQiLEj92hVEZtzuY+rzzioN+TBZ69OJTACAbRCXQDni41VRUx9spehng9S/fUFkxu8+pr7vrtLg\n",
              "uWu0bt8Je08EAJRyxCVQDtX3rKjJ/Vop5tlgPdS+rhzMJiWkHFe/95I08IPVSt5LZAIAbg5xCZRj\n",
              "9TxdNalfS8U8F6wBHQsic2VqlvrPTtIjc1ZrzZ4se08EAJQyxCUA1a3qqol9Wip2QrAeub2eHC0m\n",
              "rUrL0kPvr9bD7ycpKY3IBAAUDnEJ4Hd1qrjqvw+0UOwEqwZeiczVe05owJzVemh2klalHZdhGPae\n",
              "CQAowYhLAH9Ru3IF/eeBFoqbYNXgTvXlZDFrzd4TemTOGj00e7VWphKZAIBrIy4BXFetyhX0+v3N\n",
              "FRcerCGdCyIzed8JDfxgjR58L0mJKUQmAOBqxCWAf1TTo4L+fV9zxYdbNayLj5wczFqXflKD5q5R\n",
              "v/eSFL/7GJEJAJBEXAK4ATU8XPTqvc2UEG7Vo1195Oxg1vr0kxryYbL6vLtKsbuOEpkAUM4RlwBu\n",
              "mLe7i17pXRCZw7veJmcHszZmnNKweWv1wDurFENkAkC5RVwCuGnV3V30cu+mSoiwamTAbXJxNGtT\n",
              "5ik9Om+t7p+1UtE7jxCZAFDO2DQuf/rpJ7Vt21atW7dW8+bN9fHHH9vy6QGUUNXdXPRir6ZKCA/R\n",
              "qG4NVMHRos37T2v4R+t036yVWr6DyASA8sJk2Ojf+IZhyNPTU7GxsWrZsqX27dunxo0b69ixY3Jz\n",
              "c/vHx4eFhSkyMtIWUwDY2fGzOZoTv0fzk9J14XKeJKl5bXeNC22o7k2qy2Qy2XkhAKCo2PTKpclk\n",
              "0qlTpyRJ2dnZ8vT0lLOzsy2/BYBSwKuSs164u4kSI6waHeQrVyeLth3I1mPz16nX24lauv0wVzIB\n",
              "oIxysNUTmUwmLViwQH369FHFihV18uRJLVq0SE5OTn85NicnRzk5OVfdl5eXZ6spAEoIz0rOev6u\n",
              "xhrVrYE+SNijj1ft0/aD2Xr8k/VqUtNd40L9dEfTGjKbuZIJAGWFzV4Wz83NVffu3fXvf/9b3bp1\n",
              "09q1a3Xvvfdq69at8vLyuurYV199Va+99tpV93Xq1ElJSUm2mAKghDp57pI+SNyjj1el62xOriSp\n",
              "cQ03jQv1153NiEwAKAtsFpfr1q3TI488ot27d/9+X4cOHfTf//5XPXr0uOrYa125fOmllxQVFWWL\n",
              "KQBKuFPnL2lu4l59tHKfzlyJzEbebhob6q+7mhOZAFCa2ew9l3Xr1tWhQ4f022+/SZJSU1OVlpam\n",
              "Ro0a/eVYZ2dnubu7X3WzWCy2mgKghKvs6qRn72ikxIgQjQ31l5uzg3YdOaMxn29Qz6h4/bD5oPLy\n",
              "eU8mAJRGNnvPpbe3t95//331799fZrNZ+fn5mjlzpurVq2erbwGgjPFwdVRYj4Ya0fU2fbhyrz5c\n",
              "uVe7j5zV019sVNSKFI0N9dc9LWrKwpVMACg1bPay+K3iRxEBOH3hsj5auU9zE/co+2LBy+W+1Spq\n",
              "bKi/erWsRWQCQCnAb+gBUGJ4VHDUuO7+Snw+RM/2aCiPCo5KO3ZO477cpB5vxWnxxv3Kzcu390wA\n",
              "wN8gLgGUOO4ujno61F+JEVY9d0dDVXZ11J5j5zR+wWb1eCteizYQmQBQUhGXAEosNxdHPRXir8SI\n",
              "EE24s5GquDpq7/FzCvtqs7pHxmnheiITAEoa4hJAiVfJ2UFjrH5KiAhRRM/GqlrRSfuyzuu5rzcr\n",
              "NDJOX63L1GUiEwBKBOISQKlRydlBTwT7KiHcqufvKojM9KzzCl+4RaHT4vTVWiITAOyNuARQ6lR0\n",
              "dtDoIF8lRlj1r7sby6uSkzJOnFf4N1sUMi1WXyZn6FIukQkA9kBcAii1XJ0cNKqbrxLCQ/TiPU3k\n",
              "VclZmScu6PlFW2WdGqvP1xCZAFDciEsApV4FJ4tGBjZQQrhVL97TRNXcnHXg1AX9a3FBZH62Jp3I\n",
              "BIBiQlwCKDP+GJkv92qq6lci8/8Wb1PwlBh9sjpdObl59p4JAGUacQmgzHFxtGh4wG2KD7fqld5N\n",
              "5e3urIOnL+qlb7cpeEqs5ift08XLRCYAFAXiEkCZ5eJo0aNdb1PcBKteu7eZari76NDpi3r5u+0K\n",
              "nhKrj1cRmQBga8QlgDLPxdGioV18FDshWK/f10w1PVx0OPuiXvl+u4KmxGjeyr1EJgDYCHEJoNxw\n",
              "cbRocOcrkXl/c9XycNGR7By99sMOBU6O0dxEIhMAbhVxCaDccXawaHCn+oqZEKz/PNBctStX0LEz\n",
              "OXr9x4LI/CBhjy5cIjIB4GYQlwDKLWcHiwbeXl8xzwVrYp8Wv0fmG0t+U+DkGM2J36Pzl3LtPRMA\n",
              "ShXiEkC55+Rg1oCO9RTzXLDe7NNCdapU0PGzOfrPT78pcFKMZselEZkAUEjEJQBc4eRg1sNXInNy\n",
              "35aqV9VVWecuaeLPOxU4KUbvxaXpXA6RCQB/h7gEgD9xtJjVv0NdrXg2SFP6tVR9z4LIfPPnnQqc\n",
              "HKN3YlN1lsgEgGsiLgHgOhwtZj3Yvq5WhAVp6oOt5OPpqhPnLmnyL7sUMClas2JSdebiZXvPBIAS\n",
              "hbgEgH/gYDGrX7s6Wh4WpMj+rdTAq6JOnb+sKUt3KXByjGZGpxCZAHAFcQkAheRgMatP2zpaFhak\n",
              "6Q+1VoNqBZE59dfdCpgUoxkrUpRNZAIo54hLALhBFrNJ97eprWXjgxT1cGv5Vquo0xcuK3LZbgW8\n",
              "Ga3py3fr9AUiE0D5RFwCwE2ymE26r3Vt/To+SDMGtJF/9UrKvpir6ctTFDApWm8tIzIBlD/EJQDc\n",
              "IovZpHtb1dLSZ7pp5iNt1NC7ks5czFXUihQFvBmtyF936dT5S/aeCQDFgrgEABsxm03q1bKWfhnX\n",
              "TbMeaatG3m46k5OrGdGpCpgUo6lLiUwAZR9xCQA2ZjabdE/Lmvp5XKDeHdhWjWu46WxOrmbGFETm\n",
              "lKU7dfIckQmgbCIuAaCImM0m3dWipn4aG6j3BrVTk5ruOpuTq1kxaQqYFK1Jv+zUCSITQBlDXAJA\n",
              "ETObTerZvIaWPB2g2YPbqVktd527lKd3Ywsi882fdyrrbI69ZwKATRCXAFBMzGaT7mxWQz8+HaA5\n",
              "Q9qreW13nb+Up/fi0hQwKUYTf/pNx4lMAKUccQkAxcxkMqlHU2/98FSA5g5trxa1PXThcp5mx+9R\n",
              "4KQY/WfJDh07Q2QCKJ2ISwCwE5PJpNAm3vr+qa76cFh7tapTEJlzEvYqcHK03vhxh46euWjvmQBw\n",
              "Q4hLALAzk8mkkMbe+nZMV817tINa162si5fz9UHiXgVOitG/f9iho9lEJoDSgbgEgBLCZDLJ2qi6\n",
              "Fj/ZRR8P76g29SorJzdfH67cq8DJMXr1++06QmQCKOGISwAoYUwmk4IaVtOiJ7po/vCOale/inJy\n",
              "8/XRqn2/R+bh00QmgJKJuASAEspkMqlbw2paOLqzPh1xuzr4VNGlK5HZbXKMXv5umw6dvmDvmQBw\n",
              "FQd7DwAA/D2TyaQAfy919fNUUlqWpi9PUfK+E5qflK4vkzPVv0MdPRnsp1qVK9h7KgAQlwBQWphM\n",
              "JnXx81JnX08l7clS1PIUrdl7Qp+uztCCtZnq376unrT6qTaRCcCOiEsAKGVMJpO6+Hqpi6+XktKy\n",
              "FLVit1bvOaHP1mToq3WZ6teursZYfVWniqu9pwIoh3jPJQCUYp19PfXlqM5aMKqTuvh66nKeoS+S\n",
              "MxQ8JVYvLNqizBPn7T0RQDlDXAJAGXB7A099/lgnfT26swL8vJSbb+iL5ExZp8YqYuEWZWQRmQCK\n",
              "B3EJAGVIB5+q+nTk7Vo4urMC/Qsic8G6TFmnxWrC15uVnnXO3hMBlHHEJQCUQe19quqTEbfrmye6\n",
              "qFvDasrLN/T1+v0KmRan577erH3HiUwARYO4BIAyrF39Kpo/vKMWPdlFwY0KInPh+v0KjYxT2Feb\n",
              "tJfIBGBjxCUAlANt61XRR4921Ldjusp6JTIXbTig0GmxGr9gk9KOnbX3RABlBHEJAOVI67qVNe/R\n",
              "jvpuTFeFNq6ufENavPGAekTG6ZkvNyr1KJEJ4NYQlwBQDrWqW1lzh3XQD08FqHsTb+Ub0rebDqrH\n",
              "W3Ea+8VGpR49Y++JAEop4hIAyrEWdTz0wdD2+vHpAPVo6i3DkL7ffFA93orXU59v0O4jRCaAG2Oz\n",
              "39CTlZWl0NDQ378+f/689uzZo6NHj6pq1aq2+jYAgCLQvLaH5gxpr+0HT2vGihQt3X5EP245pCVb\n",
              "D+nuFjU1NsRfjWq42XsmgFLAZnHp6empTZs2/f711KlTFRcXR1gCQCnSrJaHZg9urx0Hs/V2dIp+\n",
              "3nZYS7Yc0pIth3R3ixoaG+qvxjXc7T0TQAlWZC+Lz507VyNGjCiqpwcAFKGmtdz17qB2+nlcoO5u\n",
              "UUOS9NPWw+o5PUGjP1mvHQez7bwQQEllsyuXf7Rq1SqdPHlSvXr1uuaf5+TkKCcn56r78vLyimIK\n",
              "AOAWNKnprncGttOuw2c0IzpFP209pF+2H9Yv2w/rzmbeGhvqr2a1POw9E0AJYjIMw7D1k44YMUKe\n",
              "np6aPHnyNf/81Vdf1WuvvXbVfZ06dVJSUpKtpwAAbGj3kTN6OzpVP245qP/916NHU2+NC/VX89pE\n",
              "JoAiiMuzZ8+qZs2aWrt2rRo3bnzNY6515fKll15SVFSULacAAIpIypXI/OEPkdm9SXWNC22oFnWI\n",
              "TKA8s/l7LhcsWKBWrVpdNywlydnZWe7u7lfdLBaLracAAIqIv7ebZgxoo2Xjg3R/61oym6Tlvx1V\n",
              "75mJGvHRWm3Zf8reEwHYic3jkg/yAED54Ve9kqY/3EbLwoLUp01tmU3Sip1Hde/MlXp0XrI2ZZ6y\n",
              "90QAxaxI3nN5M8LCwhQZGWnvGQCAW7Dn2FnNjEnVd5sOKi+/4D8vQQ2raVx3f7WtV8XO6wAUB35D\n",
              "DwDAZhpUq6TI/q21IixI/drVkcVsUtzuY+rzzioN+TBZ69NP2nsigCJGXAIAbM7Hq6KmPthK0c8G\n",
              "qX/7gsiM331Mfd9dpcFz12jdvhP2ngigiBCXAIAiU9+zoib3a6WYZ4P1UPu6cjCblJByXP3eS9LA\n",
              "D1YreS+RCZQ1xCUAoMjV83TVpH4tFfNcsAZ0LIjMlalZ6j87SY/MWa01e7LsPRGAjRCXAIBiU7eq\n",
              "qyb2aanYCcF65PZ6crSYtCotSw+9v1oPv5+kpDQiEyjtiEsAQLGrU8VV/32ghWInWDXwSmSu3nNC\n",
              "A+asVv/ZSVqVdlwl5IeZALhBxCUAwG5qV66g/zzQQnETrBrcqb6cLGYl7z2hR+as0UOzV2tlKpEJ\n",
              "lDbEJQDA7mpVrqDX72+uuPBgDel8JTL3ndDAD9bowfeSlJByjMgESgniEgBQYtT0qKB/39dc8eFW\n",
              "DeviIycHs9aln9Tgucnq++4qxe8mMoGSjrgEAJQ4NTxc9Oq9zZQQbtWjXX3k7GDWhoxTGvJhsvq8\n",
              "u0qxu44SmUAJRVwCAEosb3cXvdK7IDKHd71Nzg5mbcw4pWHz1uqBd1YpZieRCZQ0xCUAoMSr7u6i\n",
              "l3s3VUKEVSMDbpOLo1mbMk/p0Y/W6v5ZKxW98wiRCZQQxCUAoNSo7uaiF3s1VUJ4iEZ1a6AKjhZt\n",
              "3n9awz9ap/tmrdTyHUQmYG/EJQCg1Knm5qx/3d1ECRFWPX4lMrfsP62R89ep98xE/br9MJEJ2Alx\n",
              "CQAotbwqOeuFu5soMcKq0UG+cnWyaNuBbI36ZL3umZGopUQmUOyISwBAqedZyVnP39VYiREhejLY\n",
              "VxWdLNpxKFuPf7Jed89I1C/bDik/n8gEigNxCQAoM6pWdFJ4z4LIHGP1VSVnB/12KFujP92gu2ck\n",
              "6KetRCZQ1IhLAECZU6Wikybc2ViJEVY9HeKnSs4O2nn4jJ78bIPuikrQki1EJlBUiEsAQJlV2dVJ\n",
              "z97RSCsjQjQ21F9uzg7adeSMxny+QT2j4vXD5oPKIzIBmyIuAQBlnoero8J6NFRiRIjGhfrLzcVB\n",
              "u4+c1dNfbNSd0+P13aYDRCZgI8QlAKDc8HB11PgrkTm+e0O5uzgo9ehZjftyk+54K47IBGyAuAQA\n",
              "lDseFRw1rru/Ep8PUViPhvKo4Ki0Y+c07stN6vFWnBZv3K/cvHx7zwRKJeISAFBuubs4amyovxIj\n",
              "rHrujoaq7OqoPcfOafyCzerxVry+WU9kAjeKuAQAlHtuLo56KsRfiREhmnBnI1VxddTe4+f07Neb\n",
              "1T0yTguJTKDQiEsAAK6o5OygMVY/JUSEKLxnQWTuyzqv577erNDIOH21LlOXiUzgbxGXAAD8SSVn\n",
              "Bz0Z7KfEiBA9f1djVa3opPSs8wpfuEWh0+K0YG0GkQlcB3EJAMB1VHR20OggXyVGWPWvuxvLq5KT\n",
              "Mk6cV8Q3W2WdGqsvkzN0KZfIBP6IuAQA4B+4OjloVDdfxYdb9X93N5FXJSftP3lBzy8qiMzP1xCZ\n",
              "wP8QlwAAFJKrk4Me69ZACeEhevGeJqrm5qwDpy7oX4sLIvPT1enKyc2z90zArohLAABuUAUni0YG\n",
              "NlBCuFUv92qq6lci88Vvt8k6JVafEJkox4hLAABukoujRcMDblN8uFWv9G4qb3dnHTx9US99u03B\n",
              "U2I1P2mfLl4mMlG+EJcAANwiF0eLHu16m+ImWPXavc1Uw91Fh05f1MvfbVfwlFh9tHIvkYlyg7gE\n",
              "AMBGXBwtGtrFR7ETgvX6fc1U08NFh7Mv6tUfdihoSozmEZkoB4hLAABszMXRosGdr0Tm/c1Vy8NF\n",
              "R7Jz9NoPOxQ4OUZzE4lMlF3EJQAARcTZwaLBneorZkKw/vNAc9WuXEHHzuTo9R93KGBSjD5I2KML\n",
              "l4hMlC3EJQAARczZwaKBt9dXzHPBmtinhWpXrqDjZ3P0xpLfFDg5WnPi9+j8pVx7zwRsgrgEAKCY\n",
              "ODmYNaBjPcU8F6w3+7RQnSoVdPzsJf3np98UOClGs+PSiEyUesQlAADFzMnBrIevRObkvi1Vr6qr\n",
              "ss5d0sSfdypwUozei0vTuRwiE6UTcQkAgJ04Wszq36GuVjwbpCn9Wqq+Z0FkvvnzTgVOjtE7sak6\n",
              "S2SilCEuAQCwM0eLWQ+2r6sVYUGa+mAr+Xi66sS5S5r8yy4FTIrWrJhUnbl42d4zgUIhLgEAKCEc\n",
              "LGb1a1dHy8OCFNm/lRp4VdSp85c1ZekuBU6O0czoFCITJR5xCQBACeNgMatP2zpaFhak6Q+1VoNq\n",
              "BZE59dfdCpgUoxkrUpRNZKKEIi4BACihLGaT7m9TW8vGBynq4dbyrVZRpy9cVuSy3Qp4M1rTl+/W\n",
              "6QtEJkoW4hIAgBLOYjbpvta19ev4IM0Y0Eb+1Ssp+2Kupi9PUcCkaL21jMhEyUFcAgBQSljMJt3b\n",
              "qpaWPtNNMx9po4belXTmYq6iVqQo4M1oRf66S6fOX7L3TJRzxCUAAKWM2WxSr5a19Mu4bpr1SFs1\n",
              "8nbTmZxczYhOVcCkGE1dSmTCfohLAABKKbPZpHta1tTP4wL17sC2alzDTWdzcjUzpiAypyzdqZPn\n",
              "iEwUL5vGZU5Ojp566in5+/urRYsWGjRokC2fHgAAXIPZbNJdLWrqp7GBem9QOzWp6a6zObmaFZOm\n",
              "gEnRmvTLTp0gMlFMHGz5ZM8//7xMJpN2794tk8mkw4cP2/LpAQDA3zCbTerZvIbuaOqtZb8dUdTy\n",
              "FO04lK13Y9P08ap9Gty5vkYFNpBnJWd7T0UZZjIMw7DFE507d041a9bU/v375e7ufsOPDwsLU2Rk\n",
              "pC2mAAAASYZhaPlvRxW1Yre2HciWJFVwtGhI5/p6rFsDeRGZKAI2e1k8LS1NVatW1X//+1+1b99e\n",
              "gYGBWrFixTWPzcnJUXZ29lW3vLw8W00BAACSTCaTejT11g9PBWju0PZqUdtDFy7naXb8HgVOitF/\n",
              "luzQsTM59p6JMsZmcZmbm6v09HQ1bdpU69at04wZM/TQQw/pyJEjfzl24sSJ8vDwuOqWnJxsqykA\n",
              "AOAPTCaTQpt46/unuurDYe3Vqk5BZM5J2KvAydF6/ccdOnrmor1nooyw2cvix48fl7e3ty5duiSL\n",
              "xSJJ6tChgyZOnKju3btfdWxOTo5ycq7+P6WXXnpJUVFRtpgCAAD+hmEYit19TFHLU7Qp85QkydnB\n",
              "rIG319fooAaq7u5i34Eo1Wx25dLLy0uhoaFaunSpJGnv3r3au3evmjRp8pdjnZ2d5e7uftXtf0EK\n",
              "AACKlslkkrVRdS1+sos+Ht5RbepVVk5uvj5cuVeBk2P06vfbdSSbK5m4OTa7cilJe/bs0YgRI3T8\n",
              "+HGZzWa9/PLL6tu3b6Eeywd6AACwD8MwlJByXFErUrQ+/aQkycnBrAEd6uqJYD/V8OBKJgrPpnF5\n",
              "K4hLAADsyzAMrUzNUtSK3Vq770pkWsx6uGNdPRHsq5oeFey8EKWBTX/OJQAAKL1MJpMC/L3U1c9T\n",
              "SWlZmr48Rcn7Tmh+Urq+TM5U/w519GSwn2pVJjJxfcQlAAC4islkUhc/L3X29VTSnixFLU/Rmr0n\n",
              "9OnqDC1Ym6n+7evqSaufahOZuAbiEgAAXJPJZFIXXy918fVSUlrBy+Wr95zQZ2sy9NW6TPVrV1dj\n",
              "rL6qU8XV3lNRgtj0d4sDAICyqbOvp74c1VkLRnVSF19PXc4z9EVyhoKnxOr5b7Yo88R5e09ECUFc\n",
              "AgCAQru9gac+f6yTvh7dWQF+XsrNN/Tl2kxZp8YqYuEWZWQRmeUdcQkAAG5YB5+q+nTk7Vo4urMC\n",
              "/Qsic8G6TFmnxWrC15uVnnXO3hNhJ8QlAAC4ae19quqTEbfrmye6qFvDasrLN/T1+v0KmRanZ7/a\n",
              "rH3HiczyhrgEAAC3rF39Kpo/vKMWPdlFwY0KIvObDfsVMi1WYV9t0l4is9wgLgEAgM20rVdFHz3a\n",
              "Ud+O6Spro2rKN6RFGw4odFqsxi/YpLRjZ+09EUWMuAQAADbXum5lzXu0o74b01Whjasr35AWbzyg\n",
              "HpFxGvflRqUeJTLLKuISAAAUmVZ1K2vusA764akAdW/irXxD+m7TQfV4K05jv9io1KNn7D0RNkZc\n",
              "AgCAIteijoc+GNpePz4doB5NvWUY0vebD6rHW/F66vMN2n2EyCwriEsAAFBsmtf20Jwh7bVkbIDu\n",
              "bFYQmT9uOaQ7p8drzGcbtOswkVnaEZcAAKDYNavlodmD2+unsYG6q3kNGYa0ZGtBZD752XrtPJxt\n",
              "74m4ScQlAACwm6a13PXuoHb6eVyg7m5RQ5L009bD6jk9QaM/Wa8dB4nM0oa4BAAAdtekprveGdhO\n",
              "S5/ppnta1pTJJP2y/bDunpGgUfPXaduB0/aeiEIiLgEAQInRqIabZj3SVkuf6aberWrJZJJ+3XFE\n",
              "vd5O1GNEZqlAXAIAgBKnobeb3h7QRr8+0033XonMZVcic+THa7V1P5FZUhGXAACgxPL3dtOMAW20\n",
              "bHyQ7m9dS2aTtPy3o+o9M1HDP1qrzZmn7D0Rf0JcAgCAEs+veiVNf7iNloUFqU+b2jKbpOidR3Xf\n",
              "rJV6dF6yNhGZJQZxCQAASg3fapUU+VBrLQ8LUp+2BZEZs+uY7p+1UkM/TNaGjJP2nljuEZcAAKDU\n",
              "aVCtkiL7t1b0s8Hq166OLGaT4nYfU593Vmnw3DVan37C3hPLLeISAACUWj5eFTX1wVaKfjZI/dsX\n",
              "RGZCynH1fTdJg+eu0bp9RGZxIy4BAECpV9+zoib3a6WYZ4P1UPu6crgSmf3eS9LAD1YreS+RWVyI\n",
              "SwAAUGbU83TVpH4tFfNcsAZ0LIjMlalZ6j87SQPeX63Ve7LsPbHMIy4BAECZU7eqqyb2aanYCcF6\n",
              "5PZ6crSYlLQnSw+/v1oPv5+kpDQis6gQlwAAoMyqU8VV/32ghWInWDXwSmSu3nNCA+asVv/ZSVqV\n",
              "dlyGYdh7ZplCXAIAgDKvduUK+s8DLRQ3warBnerLyWJW8t4TemTOGj00e7VWphKZtkJcAgCAcqNW\n",
              "5Qp6/f7migsP1pDOVyJz3wkN/GCNHnwvSQkpx4jMW0RcAgCAcqemRwX9+77mig+3algXHzk5mLUu\n",
              "/aQGz01W33dXKX43kXmziEsAAFBu1fBw0av3NlNCuFWPdvWRs4NZGzJOaciHyerz7irF7jpKZN4g\n",
              "4hIAAJR73u4ueqV3QWQO73qbnB3M2phxSsPmrdX976xSzE4is7CISwAAgCuqu7vo5d5NlRBh1ciA\n",
              "2+TiaNbmzFN69KO1un/WSkXvPEJk/gPiEgAA4E+qu7noxV5NlRAeoscCr0Tm/tMa/tE63TdrpZbv\n",
              "IDKvh7gEAAC4jmpuzvq/e5oqMSJEj3droAqOFm3Zf1oj569T75mJ+nX7YSLzT4hLAACAf+BVyVkv\n",
              "3N1EiRFWjQ7ylauTRdsOZGvUJ+t1z4xELSUyf0dcAgAAFJJnJWc9f1djJUaE6IlgX1V0smjHoWw9\n",
              "/sl63T0jUb9sO6T8/PIdmcQlAADADapa0UkRPQsic4zVV5WcHfTboWyN/nSD7p6RoJ+2lt/IJC4B\n",
              "AABuUpWKTppwZ2MlRlj1dIifKjk7aOfhM3rysw26KypBS7aUv8gkLgEAAG5RZVcnPXtHIyVGWDU2\n",
              "xE9uzg7adeSMxny+QT2j4vXD5oPKKyeRSVwCAADYSGVXJ4Xd0UiJESEaF+ovNxcH7T5yVk9/sVF3\n",
              "To/Xd5sOlPnIJC4BAABszMPVUeN7NFRiRIjGd28odxcHpR49q3FfbtIdb8WV6cgkLgEAAIqIRwVH\n",
              "jevur8TnQxTWo6E8Kjgq7dg5jftyk3q8FafFG/crNy/f3jNtirgEAAAoYu4ujhob6q/ECKueu6Oh\n",
              "Krs6as+xcxq/YLN6vBWvb9aXncgkLgEAAIqJm4ujngrxV2JEiCbc2UhVXB219/g5Pfv1ZnWPjNPC\n",
              "MhCZxCUAAEAxq+TsoDFWPyVEhCi8Z0Fk7ss6r+e+3qzQyDh9tS5Tl0tpZBKXAAAAdlLJ2UFPBvsp\n",
              "MSJEz9/VWFUrOik967zCF25R6LQ4LVibUeoi06Zx6ePjo0aNGql169Zq3bq1FixYYMunBwAAKJMq\n",
              "OjtodJCvEiOs+tfdjeVVyUkZJ84r4putsk6N1ZfJGbqUWzoi02TY8Les+/j46Ntvv1Xr1q1v+LFh\n",
              "YWGKjIy01RQAAIBS6/ylXH22OkOz49N0/OwlSVLtyhU0xuqnfu3qyMmh5L74XHKXAQAAlFOuTg56\n",
              "rFsDJYSH6MV7mqiam7MOnLqgfy0uuJL56ep05eTm2XvmNdn8yqW7u7sMw1DHjh315ptvqlq1an85\n",
              "LicnRzk5OVfd99JLLykqKspWUwAAAMqMi5fz9PmaDL0Xl6ajZwoaqpaHi8aG+uvhjvXsvO5qNr1y\n",
              "GR8fry1btmjDhg3y8vLS0KFDr3ncxIkT5eHhcdUtOTnZllMAAADKDBdHi4YH3Kb4cKte6d1U1d2c\n",
              "dfD0RW05cNre0/7Cplcu/+jQoUNq2LChzpw585c/48olAADAzbt4OU8L1mYqtEl11aniau85V3Gw\n",
              "1ROdO3dOly9fVuXKlSVJX3zxhdq0aXPNY52dneXs7HzVfRaLxVZTAAAAyjQXR4uGdvGx94xrsllc\n",
              "HjlyRH379lVeXp4Mw1CDBg00f/58Wz09AAAASgGbxWWDBg20ceNGWz0dAAAASiF+FBEAAABshrgE\n",
              "AACAzRCXAAAAsBniEgAAADZDXAIAAMBmiEsAAADYDHEJAAAAmyEuAQAAYDPEJQAAAGzGZBiGYe8R\n",
              "ktSnTx/5+PgUy/fKy8tTcnKyOnbsyO80L6U4h6Ub56/04xyWfpzD0s8e57B+/foaN27c3x5TYuKy\n",
              "OGVnZ8vDw0OnT5+Wu7u7vefgJnAOSzfOX+nHOSz9OIelX0k9h7wsDgAAAJshLgEAAGAzxCUAAABs\n",
              "plzGpbOzs1555RU5OzvbewpuEuewdOP8lX6cw9KPc1j6ldRzWC4/0AMAAICiUS6vXAIAAKBoEJcA\n",
              "AACwGeISAAAANlOm4zIlJUVdunRRw4YN1aFDB23fvv2ax82dO1f+/v7y9fXVY489psuXLxfzUlxP\n",
              "Yc5hdHS0OnbsqKZNm6pZs2YKDw9Xfn6+Hdbizwr7z6AkGYahkJAQVa5cufgG4h8V9hxu3bpVwcHB\n",
              "atKkiZo0aaJFixYV81JcT2HOYX5+vsLCwtS0aVO1bNlSVqtVqampdliLPxs7dqx8fHxkMpm0adOm\n",
              "6x5XolrGKMOsVqsxb948wzAM4+uvvzbat2//l2P27Nlj1KxZ0zh06JCRn59v9O7d25g5c2YxL8X1\n",
              "FOYcbtiwwUhLSzMMwzAuXLhgdO3a9ffHwL4Kc/7+Z9q0acbIkSMNDw+P4hmHQinMOTx37pxx2223\n",
              "GQkJCYZhGEZubq5x9OjR4pyJv1GYc7h48WKjY8eOxqVLlwzDMIzXX3/dePDBB4tzJq4jLi7OyMzM\n",
              "NOrXr29s3LjxmseUtJYps3F55MgRw83Nzbh8+bJhGIaRn59veHt7GykpKVcdN3nyZOPxxx///esl\n",
              "S5YYXbt2LdatuLbCnsM/GzNmjPHKK68Uw0L8nRs5f9u2bTMCAwON1NRU4rIEKew5nDNnjjFgwAB7\n",
              "TMQ/KOw5/Pbbb41WrVoZ2dnZRn5+vjFhwgRj/Pjx9piM6/i7uCxpLVNmXxbPzMxUzZo15eDgIEky\n",
              "mUyqV6+eMjIyrjouIyND9evX//1rHx+fvxwD+yjsOfyjw4cPa+HCherVq1dxzcR1FPb8Xb58WY89\n",
              "9phmz54ti8Vij6m4jsKewx07dsjZ2Vm9evVS69atNWTIEB07dswek/EnhT2HvXv3VnBwsGrUqKGa\n",
              "NWtqxYoV+ve//22PybgJJa1lymxcovzJzs5W7969FR4ervbt29t7DgrptddeU58+fdSkSRN7T8FN\n",
              "ys3N1fLlyzV79mxt3LhRtWvX1hNPPGHvWbgB69at07Zt23TgwAEdPHhQoaGhGj16tL1noZQqs3FZ\n",
              "t25dHTp0SLm5uZIKPiyQkZGhevXqXXVcvXr1lJ6e/vvX+/bt+8sxsI/CnkNJOnPmjHr27Kn77rtP\n",
              "YWFhxT0V11DY8xcXF6e3335bPj4+CggIUHZ2tnx8fLjyVQLcyL9HrVarateuLZPJpEGDBmn16tX2\n",
              "mIw/Kew5nD9//u8fqDObzRo6dKhiYmLsMRk3oaS1TJmNy+rVq6tt27b69NNPJUnffPON6tSpIz8/\n",
              "v6uO69u3r77//nsdPnxYhmHovffe08MPP2yPyfiTwp7Ds2fPqmfPnurZs6defPFFe0zFNRT2/CUk\n",
              "JCg9PV379u1TYmKi3N3dtW/fPlWrVs0es/EHhT2H/fv319q1a5WdnS1J+umnn9SqVati34u/Kuw5\n",
              "bNCggaKjo3Xp0iVJ0o8//qjmzZsX+17cnBLXMnZ7t2cx2Llzp9GpUyfD39/faNeunbFlyxbDMAxj\n",
              "xIgRxnfffff7ce+//77RoEEDo0GDBsbw4cN//7Qc7K8w5/CNN94wHBwcjFatWv1+e+ONN+w5G1cU\n",
              "9p/B/9m7dy8f6ClhCnsO58+fbzRr1sxo0aKF0bNnTyMjI8Nek/EnhTmHFy9eNEaOHGk0btzYaNGi\n",
              "hdGjR4/ffwoH7GvUqFFG7dq1DYvFYlSvXt3w9fU1DKNktwy/WxwAAAA2U2ZfFgcAAEDxIy4BAABg\n",
              "M8QlAAAAbIa4BAAAgM0QlwAAALAZ4hIAAAA2Q1wCAADAZohLAAAA2AxxCQAAAJshLgEAAGAzxCUA\n",
              "AABs5v8B3tlX7/xjtugAAAAASUVORK5CYII=\n",
              "\">\n",
              "      </div>\n",
              "      <script type=\"text/javascript\">\n",
              "        (() => {\n",
              "          const chartElement = document.getElementById(\"chart-9a0d5f35-690e-4115-902a-159f23e1958c\");\n",
              "          async function getCodeForChartHandler(event) {\n",
              "            const chartCodeResponse =  await google.colab.kernel.invokeFunction(\n",
              "                'getCodeForChart', [\"chart-9a0d5f35-690e-4115-902a-159f23e1958c\"], {});\n",
              "            const responseJson = chartCodeResponse.data['application/json'];\n",
              "            await google.colab.notebook.addCell(responseJson.code, 'code');\n",
              "          }\n",
              "          chartElement.onclick = getCodeForChartHandler;\n",
              "        })();\n",
              "      </script>\n",
              "      <style>\n",
              "        .colab-quickchart-chart-with-code  {\n",
              "            display: block;\n",
              "            float: left;\n",
              "            border: 1px solid transparent;\n",
              "        }\n",
              "\n",
              "        .colab-quickchart-chart-with-code:hover {\n",
              "            cursor: pointer;\n",
              "            border: 1px solid #aaa;\n",
              "        }\n",
              "      </style>"
            ]
          },
          "metadata": {}
        },
        {
          "output_type": "display_data",
          "data": {
            "text/plain": [
              "from matplotlib import pyplot as plt\n",
              "_df_14['b'].plot(kind='line', figsize=(8, 4), title='b')\n",
              "plt.gca().spines[['top', 'right']].set_visible(False)"
            ],
            "text/html": [
              "      <div class=\"colab-quickchart-chart-with-code\" id=\"chart-249243e0-6865-4add-b2e5-ab0e32cdb45e\">\n",
              "        <img style=\"width: 180px;\" src=\"data:image/png;base64,iVBORw0KGgoAAAANSUhEUgAAApcAAAFuCAYAAADUGTPdAAAAOXRFWHRTb2Z0d2FyZQBNYXRwbG90\n",
              "bGliIHZlcnNpb24zLjcuMSwgaHR0cHM6Ly9tYXRwbG90bGliLm9yZy/bCgiHAAAACXBIWXMAAA9h\n",
              "AAAPYQGoP6dpAAA950lEQVR4nO3dd1gVdOP//9cZDEGG4kIREMGtuHOwzTSz3NrSMk0zy4wU8lfd\n",
              "3XV3Z+40K7Vh2bCl2dCGynbh3gNUBAduwYmM8/uD7r4fKwv0wGE8H9d1/uB4Dr2431f2vM/gGCwW\n",
              "i0UAAACAFRhtPQAAAAAVB3EJAAAAqyEuAQAAYDXEJQAAAKyGuAQAAIDVEJcAAACwGuISAAAAVkNc\n",
              "AgAAwGqISwAAAFgNcQkAVhQWFqYXX3zR1jMAwGaISwAAAFgNcQkAAACrIS4BwMouXLig/v37y8XF\n",
              "Rf7+/lq0aJGtJwFAqSEuAcDKPvjgAw0fPlznz5/XnDlzNHLkSK1Zs8bWswCgVBgsFovF1iMAoKII\n",
              "CwuTh4eHlixZ8vt1Q4YMUdWqVfXBBx/YcBkAlA4euQQAK2vQoMGfvs7IyLDRGgAoXcQlAFhZWlra\n",
              "n7728vKyzRgAKGXEJQBY2YoVK7R8+XLl5+fr559/1rfffqvhw4fbehYAlApecwkAVhQWFqYWLVro\n",
              "+PHjWrlypWrVqqUXX3yRuARQaRCXAAAAsBqeFgcAAIDVEJcAAACwGuISAAAAVkNcAgAAwGqISwAA\n",
              "AFgNcQkAAACrIS4BAABgNWUmLmfPnm3rCQAAALhNZSYujxw5YusJAAAAuE1lJi4BAABQ/hGXAAAA\n",
              "sBriEgAAAFZDXAIAAMBqiEsAAABYDXEJAAAAqyEuAQAAYDXEJQAAAKymWHF57do19e3bV40aNVJg\n",
              "YKC6d++u1NRUSdKpU6fUs2dPBQQEqEWLFkpISCiRwQAAACi7iv3I5ahRo7R//35t375dffr00ciR\n",
              "IyVJzz//vDp16qSUlBQtXLhQDz74oHJzc60+GAAAAGVXseLS0dFRvXr1ksFgkCR16tRJaWlpkqSv\n",
              "vvpKTzzxhCSpQ4cOqlu3ruLj46271kpy8wtsPQEAAKBCMt/OnWfPnq0+ffro7Nmzys3NVZ06dX7/\n",
              "M19fX6Wnp//l/XJycpSTk3PDdfn5+bczpViGfZCsGi4OGhfhr4DaLqX2zwUAAKjobjkuX3/9daWm\n",
              "pmr16tW6evVqse47efJkvfLKKzdc16lTp1udUiz7My9q3aGzkqQfdxxXr5aeGhcRoMZ1iEwAAIDb\n",
              "dUvvFp8+fbqWLl2qn376SU5OTvLw8JDZbFZmZubvt0lLS5O3t/df3n/SpEnKysq64dKxY8db+wmK\n",
              "qXEdF60YF6yezevIYpGW7zihHm8maOxnW7QvM7tUNgAAAFRUxY7LmTNnavHixVq5cqXc3d1/v37Q\n",
              "oEGaN2+eJGnjxo06duyYQkND//J7ODg4yNXV9YaLyWS6tZ/gFjSr66p5Q9vpp2eC1atl4VP5y3ee\n",
              "UM83EzXm083ae4LIBAAAuBUGi8ViKeqNjx49qvr168vPz08uLoVPIzs4OGjDhg06efKkhg4dqsOH\n",
              "D8ve3l5z585VeHh4kYdERkZq5syZxf8JrGB/5kXNiUnRip0n9L//NXo0r61x3QLUvK6bTTYBAACU\n",
              "R8WKy5Jky7j8nwMnL2rO6hQt/z+ReVezwshsUY/IBAAA+Cd8Qs//0ai2i+Y+2Fa/jg/RfYF1ZTBI\n",
              "v+45qd5vJWnkx5u061iWrScCAACUacTlXwio7aI5D7TRymdD1bd1XRkN0qq9hZE54qON2nH0gq0n\n",
              "AgAAlEnE5d/wr1VVb97fRisjQ9WvTT0ZDdLqfad039w1euyjjdqeccHWEwEAAMoU4rIIGtasqllD\n",
              "WmtVZKj6ty2MzJh9p9Tn7TV6dGGytqaft/VEAACAMoG4LAa/mlU1c3BrxTwXpoHtvGQyGhS3/7T6\n",
              "vbNWwz5M1uYjRCYAAKjciMtb4FvDWdMHBSrmuVAN+i0yEw6c1oB312roBxu0+cg5W08EAACwCeLy\n",
              "Nvh4OGvaoEDFPhemIe3ry2w0KDHljAa8u04Pv79BG9OITAAAULkQl1bg7eGkKQNbKXZCmB7oWBiZ\n",
              "SalnNGjeOj30/nolHyYyAQBA5UBcWlH96k6a3P9/kektO5NBa1LPavD8dXpgwXqtP3TW1hMBAABK\n",
              "FHFZAgojs6XiJobroTsKI3PdobO6f8F6DZm/TusOEpkAAKBiIi5LUD33Kvpvv5aKnxiuoZ18ZG8y\n",
              "asPhc3rgvfUaPH+d1qaeURn59E0AAACrIC5LQV33KvpP3xaKjwrTsM6FkZl8+JwefH+DBs9fp6QU\n",
              "IhMAAFQMxGUp8nSrolf7tFBCVLge7eIre7NRG9PO6+EPNmjgvHVKTDlNZAIAgHKNuLSBOm6O+vd9\n",
              "zZX4W2Q6mI3afOS8hn6QrAHvrlX8ASITAACUT8SlDdV2/X+R+VjXBnIwG7Ul/YIe+TBZ/d5Zq9j9\n",
              "p4hMAABQrhCXZUAtV0f9695mSowO18igBnK0M2pbxgUNX7hRfd9Zq9h9RCYAACgfiMsypJaLo17s\n",
              "3UyJURF6PLgwMrdnXNDwjzaqz9trtHrvSSITAACUacRlGVTTxUEv3NNMSdERGh3ipyp2Ju04mqUR\n",
              "H2/SfXPXaOUeIhMAAJRNxGUZVqOqgyb1aqqk6HA9EdpQTvYm7TyWpccXbVLvt5L06+5MIhMAAJQp\n",
              "xGU54FHVQc/f3URJ0REaE9ZQzvYm7T6erVGfbNY9c5L0865MFRQQmQAAwPaIy3KkurO9onsWRubY\n",
              "8MLI3HMiW098ulm95iTqp50niEwAAGBTxGU5VM3ZXhN7NNGa5yP0dIS/qjqYtS/zosZ8tkW95iRq\n",
              "BZEJAABshLgsx9yd7PXcXY2VFB2ucRH+cvktMp/8bIvunp2oH3ccJzIBAECpIi4rAHcne0Xe1VhJ\n",
              "0RF6pluAXBzN2n/yop76fKt6vJmg77cfVz6RCQAASgFxWYG4Odnp2e6NlBQdofF3BsjV0ayUU5c0\n",
              "bnFhZH637RiRCQAAShRxWQG5VbHT+DsbKen5CEV2byS3KnZKPXVJz3yxTXfNiteyrUQmAAAoGcRl\n",
              "BebqaKdx3QKUFB2uCXc1kruTnQ6evqzxX25T95nxWrrlqPLyC2w9EwAAVCDEZSXg4minpyIClBgV\n",
              "rok9GsvdyU6HzlxW5Ffb1X1WgpZsJjIBAIB1EJeViIujncaG+yspOkJRPRurmpOdDp+5rOe+3q47\n",
              "Z8br600ZRCYAALgtxGUlVNXBrCfDCiPz+bubqLqzvdLOXtHEb3YoYka8vtqYoVwiEwAA3ALishJz\n",
              "djDridCGSowK16S7m8jD2V7p564oaskORcyI05cb04lMAABQLMQl5Oxg1ujQhkqMDtcLvZqqRlV7\n",
              "ZZy7quglOxU+PU6Lk9N1PY/IBAAA/4y4xO+c7M16PMRPiVERevGepqpR1UFHz1/VpKWFkfnZhiNE\n",
              "JgAA+FvEJf6kir1JI4P9lBgVrpd6N1NNFwcdu3BVL3y7S2HTYvXp+iPKycu39UwAAFAGEZe4qSr2\n",
              "Jo0IaqDEqHC9fG8z1XJx0PGsa3px2S6FTYvTJ+vSiEwAAHAD4hL/yNHOpOFdGyghKlyv3NdcdVwd\n",
              "dSLrml76brdCp8bp47VpupZLZAIAAOISxeBoZ9IjXXwVNzFMr/ZpLk83R2VmX9PL3+9W6LRYfbTm\n",
              "MJEJAEAlR1yi2BztTBrWuTAy/9O3heq6Oepkdo7+/cMehUyN1YdJRCYAAJUVcYlb5mA2aWgnH8VO\n",
              "DNN/+7VQPfcqOnUxR6/+uEfBU2P1fuIhXb1OZAIAUJkQl7htDmaTHrrDR7ETwvR6v5aq515Fpy/m\n",
              "6LXle4lMAAAqGeISVmNvNurBO7wVOyFMb/RvKa9qVXTm0v8iM0YLEg7qyvU8W88EAAAliLiE1dmb\n",
              "jbq/Y2FkTh3QSvWrV9GZS9f1+op9Cp4Sq3nxB3U5h8gEAKAiIi5RYuxMRg3uUF8xz4Vp6sBW8vFw\n",
              "0tnL1/XGT/sUPDVW78YRmQAAVDTEJUqcncmowe3ra3VkqKYPCpSvh5POXb6uKT/vU9CUGL0dm6pL\n",
              "RCYAABUCcYlSYzYZNbCdl1ZFhmrm4EA1qOGs81dyNe2X/QqaEqO5MSm6eC3X1jMBAMBtIC5R6swm\n",
              "o/q39dLKZ0M0a0ig/Go468KVXE3/9YCCpsTqrdUpyiYyAQAol4hL2IzZZFS/Nl5aGRmq2fe3VsOa\n",
              "zsq6mqsZKw8o6I0YzV5FZAIAUN4UKy7HjRsnX19fGQwGbdu27ffrV6xYobZt26p169Zq0aKFPv74\n",
              "Y2vvRAVmMhrUp3U9/fpsqOY80Eb+taoq+1qeZq06oK5vxGjWygPKukpkAgBQHhgsFoulqDdOSEiQ\n",
              "n5+fgoKCtGzZMrVu3VoWi0UeHh6Ki4tTq1atlJaWpiZNmuj06dNycXEp8pDIyEjNnDnzln4IVCz5\n",
              "BRat2HlCc1anKOXUJUmSi6NZw7s20IiuDeTmZGfjhQAA4GbMxblxSEjIX15vMBh04cIFSVJ2drY8\n",
              "PDzk4OBw2+NQOZmMBt0bWFf3tPTUT7syNWd1ivafvKg5q1O0MOmwHu3qqxFBDeTuZG/rqQAA4A+K\n",
              "FZd/xWAw6Msvv1T//v3l7Oys8+fPa+nSpbK3v/l/+HNycpSTk3PDdfn5fDwgbmQ0GnRPK0/d3aKO\n",
              "ftmdqdmrU7Qv86LeiknVwjVperRLYWRWcyYyAQAoK277DT15eXl67bXXtHTpUh05ckSrV6/W0KFD\n",
              "debMmZveZ/LkyXJzc7vhkpycfLtTUEEZjQbd3dJTK8YFa97DbdXU01WXcvI0NzZVQVNiNPXnfTp3\n",
              "+bqtZwIAAFkhLrdt26bjx4///pR5hw4d5OXlpa1bt970PpMmTVJWVtYNl44dO97uFFRwRqNBPVt4\n",
              "avnTQZo/tJ2aebrq8vV8vRN3UEFTYvTGT/t09lLOP38jAABQYm47LuvXr68TJ05o7969kqTU1FQd\n",
              "PHhQjRs3vul9HBwc5OrqesPFZDLd7hRUEkajQT2a19HycUF6b1h7Na/rqivX8zUv/qCCp8Zq8k97\n",
              "iUwAAGykWK+5HD16tJYvX67MzEz16NFDLi4uSk1N1YIFCzR48GAZjUYVFBRo7ty58vb2LqnNgKTC\n",
              "1/t2b1ZbdzatpdV7T2n26hTtPJal+fGHtGjtEQ3t7KNRIX6qUZU3lwEAUFqK9auIShK/igi3y2Kx\n",
              "KHb/Kc1elaLtR7MkSY52Rj18h49GhfqploujjRcCAFDx8Qk9qDAMBoMimtTWsrFdtXB4BwXWd9e1\n",
              "3AK9n3RYIVNj9Z8f9+jUxWu2ngkAQIVGXKLCMRgMCm9cS8ue7KKPhndQG+/CyPwg6bCCp8TqlR92\n",
              "61Q2kQkAQEkgLlFhGQwGhTWupaVjumjRYx3VzqeacvIKtHBNmoKmxurf3+9WZhaRCQCANRGXqPAM\n",
              "BoNCGtXUN0901qcj7lB7n2q6nlegj9amKWRarF7+bpdOZF219UwAACqE2/6EHqC8MBgMCgqooa7+\n",
              "Hlp78Kxmr0pRcto5fbzuiBYnZ2hIh/oaE9ZQdd2r2HoqAADlFnGJSsdgMKirfw11aeihdYcKI3PD\n",
              "4XP6ZP0RfbkxQ4M7eGlMmL/qEZkAABQbcYlKy2AwqEvDGurSsIbWHTyr2asPaP2hc/p0fbq+3Jih\n",
              "Qe3r68mwhvKq5mTrqQAAlBu85hKQ1Lmhh74Y1VlfjuqkLg09lJtv0ecb0hU+PU6Tlu5Qxrkrtp4I\n",
              "AEC5QFwC/8cdfh76/PFO+mp0Z3X1L4zMxckZCp8ep+eXEJkAAPwT4hL4Cx0bVNdnIzvpmyc6Kzig\n",
              "hvIKLPpiY2FkRn2zXelniUwAAP4KcQn8jfa+1fXJiDu0ZEwXhTSqqbwCi77adFThM+I04evtSjtz\n",
              "2dYTAQAoU4hLoAja+VTTosc6aumTXRTaqKbyCyz6ZvNRdZsZr+e+2q7DRCYAAJKIS6BY2npX08eP\n",
              "ddS3T3ZReOPCyFyy5ai6zYhT5JfbdOj0JVtPBADApohL4Ba08a6mhcM76ruxXdWtSS0VWKSlW4/p\n",
              "zpnxGv/FVqWeIjIBAJUTcQnchsD67vrg0Q76/qmuurNpYWQu23Zc3WfF65kvtir11EVbTwQAoFQR\n",
              "l4AVtPJy1/uPdNCPTwepe7Paslik77YdV/dZCXp68ValnCQyAQCVA3EJWFGLem56b1h7LR8XpB7N\n",
              "CyPzh+3HddebCRr7+RbtzyQyAQAVG3EJlIDmdd00f2h7rRgXrJ7N68hikZbvOKEebyZo7GdbtC8z\n",
              "29YTAQAoEcQlUIKa1XXVvKHt9NMzwerVso4kafnOE+r5ZqLGfLpZe08QmQCAioW4BEpBU09XvfNQ\n",
              "O/0yPkT3tPKUwSD9tCtTd89O1OhPNmn38SxbTwQAwCqIS6AUNa7jorcfbKtfxoeo92+R+cvuk7pn\n",
              "TpJGLdqkXceITABA+UZcAjbQqLaL5j7YVr+OD9F9gXVlMEi/7jmp3m8laeTHRCYAoPwiLgEbCqjt\n",
              "ojkPtNHKZ0PVt3VdGQ3Sqr2FkTnio43acfSCrScCAFAsxCVQBvjXqqo372+jlZGh6temnowGafW+\n",
              "U7pv7ho99tFGbc+4YOuJAAAUCXEJlCENa1bVrCGttSoyVP3bFkZmzL5T6vP2Gj26MFlb08/beiIA\n",
              "AH+LuATKIL+aVTVzcGvFPBemge28ZDIaFLf/tPq9s1bDPkzW5iNEJgCgbCIugTLMt4azpg8KVMxz\n",
              "oRr0W2QmHDitAe+u1dAPNmjzkXO2nggAwA2IS6Ac8PFw1rRBgYp9LkxD2teX2WhQYsoZDXh3nR5+\n",
              "f4M2phGZAICygbgEyhFvDydNGdhKsRPC9EDHwshMSj2jQfPW6cH31mvDobO2nggAqOSIS6Acql/d\n",
              "SZP7/y8yvWVnMmjtwbMasmC9HliwXuuJTACAjRCXQDlWGJktFTshTA/dURiZ6w6d1f0L1mvI/HVa\n",
              "d5DIBACULuISqAC8qjnpv/1aKn5iuIZ28pG9yagNh8/pgffWa/D8dVqbekYWi8XWMwEAlQBxCVQg\n",
              "dd2r6D99Wyg+KkzDOhdGZvLhc3rw/Q0aPH+dklKITABAySIugQrI062KXu3TQglR4Xq0i6/szUZt\n",
              "TDuvhz/YoIHz1ikx5TSRCQAoEcQlUIHVcXPUv+9rrsTfItPBbNTmI+c19INkDXh3reIPEJkAAOsi\n",
              "LoFKoLbr/4vMx7o2kIPZqC3pF/TIh8nq985axe4/RWQCAKyCuAQqkVqujvrXvc2UGB2uEUEN5Ghn\n",
              "1LaMCxq+cKP6vrNWsfuITADA7SEugUqoloujXurdTIlREXo8uDAyt2dc0PCPNqrP22u0eu9JIhMA\n",
              "cEuIS6ASq+nioBfuaaak6AiNDvFTFTuTdhzN0oiPN+m+uWu0cg+RCQAoHuISgGpUddCkXk2VFB2u\n",
              "0aF+crI3aeexLD2+aJN6v5WkX3dnEpkAgCIhLgH8zqOqgybd3VRJ0REaE9ZQzvYm7T6erVGfbNY9\n",
              "c5L0865MFRQQmQCAmyMuAfxJdWd7RfdsoqToCI0NL4zMPSey9cSnm9VrTqJ+2nmCyAQA/CXiEsBN\n",
              "VXO218QehZH5VLi/qjqYtS/zosZ8tkW95iRqBZEJAPgD4hLAP6rmbK8JPRorKTpc4yL85fJbZD75\n",
              "2RbdPTtRP+44TmQCACQRlwCKwd3JXpF3NVZSdISe6RYgF0ez9p+8qKc+36oebybo++3HlU9kAkCl\n",
              "RlwCKDY3Jzs9272RkqIjNP7OALk6mpVy6pLGLS6MzO+2HSMyAaCSIi4B3DK3KnYaf2cjJT0focju\n",
              "jeRWxU6ppy7pmS+26a5Z8Vq2lcgEgMqmWHE5btw4+fr6ymAwaNu2bb9fn5OTo6eeekoBAQFq2bKl\n",
              "Hn74YWvvBFCGuTraaVy3ACVFh2vCXY3k7mSng6cva/yX29R9ZryWbjmqvPwCW88EAJSCYsXlwIED\n",
              "lZSUJB8fnxuuf/7552UwGHTgwAHt3LlT06dPt+pIAOWDi6OdnooIUGJUuCb2aCx3JzsdOnNZkV9t\n",
              "V/dZCVqymcgEgIrOYLmFj93w9fXVsmXL1Lp1a12+fFmenp46evSoXF1db3lIZGSkZs6cecv3B1D2\n",
              "XMrJ06J1aXov4ZDOX8mVJPl6OGlsuL/6takns4lX5gBARXPbf7MfPHhQ1atX1+uvv6727dsrODhY\n",
              "q1ev/tv75OTkKDs7+4ZLfn7+7U4BUMZUdTDryTB/JUVH6Pm7m6i6s73Szl7RxG92KGJGvL7amKFc\n",
              "HskEgArltuMyLy9PR44cUbNmzbRp0ybNmTNHQ4YM0cmTJ296n8mTJ8vNze2GS3Jy8u1OAVBGOTuY\n",
              "9URoQyVGhWvS3U3k4Wyv9HNXFLVkhyJmxOnLjelEJgBUELcdl97e3jIajXrooYckSW3atFGDBg20\n",
              "c+fOm95n0qRJysrKuuHSsWPH250CoIxzdjBrdGhDJUaH64VeTVWjqr0yzl1V9JKdCp8ep8XJ6bqe\n",
              "R2QCQHl223FZo0YNdevWTb/88osk6fDhwzp8+LCaNm160/s4ODjI1dX1hovJZLrdKQDKCSd7sx4P\n",
              "8VNiVIRevKepalR10NHzVzVpaWFkfrbhCJEJAOVUsd7QM3r0aC1fvlyZmZny8PCQi4uLUlNTdejQ\n",
              "IY0YMUJnzpyR0WjUv/71Lw0YMKBYQ3hDD1B5Xb2er8+T0zUv/qBOX8yRJNV1c9ST4f4a1N5LDmb+\n",
              "zycAlBe39G7xkkBcAriWm6/Fyel6N+6gTv0WmZ5ujnoyrKEGd6hPZAJAOcDvAQFQZjjamTS8awMl\n",
              "RIXrlfuaq46ro05kXdNL3+1W6NQ4fbw2Tddy+c0SAFCWEZcAyhxHO5Me6eKruIlherVPYWRmZl/T\n",
              "y9/vVui0WH205jCRCQBlFHEJoMxytDNpWGdfxUeF6T99W6ium6NOZufo3z/sUcjUWH2YRGQCQFlD\n",
              "XAIo8xzMJg3t5KPYiWH6b78WqudeRacu5ujVH/coeGqs3k88pKvXiUwAKAuISwDlhoPZpIfu8FHs\n",
              "hDC93q+l6rlX0emLOXpt+V4iEwDKCOISQLljbzbqwTu8FTshTG/0bymvalV05tL/IjNGCxIO6sr1\n",
              "PFvPBIBKibgEUG7Zm426v2NhZE4d0Er1q1fRmUvX9fqKfQqeEqt58Qd1OYfIBIDSRFwCKPfsTEYN\n",
              "7lBfMc+FaerAVvLxcNLZy9f1xk/7FDw1Vu/GEZkAUFqISwAVhp3JqMHt62t1ZKimDwqUj4eTzl2+\n",
              "rik/71PQlBi9HZuqS0QmAJQo4hJAhWM2GTWwnZdWR4ZqxqBANajhrPNXcjXtl/0KmhKjuTEpungt\n",
              "19YzAaBCIi4BVFhmk1ED2nlp5bMhmjUkUH41nHXhSq6m/3pAQVNi9dbqFGUTmQBgVcQlgArPbDKq\n",
              "XxsvrYwM1ez7W8uvprOyruZqxsoDCnojRrNXpSjrKpEJANZAXAKoNExGg/q0rqeVzxZGpn+tqsq+\n",
              "lqdZqw4oaEqMZq08QGQCwG0iLgFUOv+LzF/Gh+itB9oooFZVXbyWp9mrUxQ0JUYzVx5Q1hUiEwBu\n",
              "BXEJoNIyGQ26N7CufhkforcfbKtGtQsjc85vkTnj1/26cOW6rWcCQLlCXAKo9IxGg+5p5amfnwnR\n",
              "Ow+1VZM6LrqYk6e3YlIVNCVW037Zp/OXiUwAKAriEgB+YzQa1Kulp1aMC9a8h9uqqaerLuXk6e3Y\n",
              "gwqaEqOpP+/TOSITAP4WcQkAf2A0GtSzhaeWPx2k+UPbqZmnqy5fz9c7cYWR+cZP+3T2Uo6tZwJA\n",
              "mURcAsBNGI0G9WheR8vHBWnB0HZqXtdVV67na178QQVPjdXkFXt1hsgEgBsQlwDwDwwGg+5qXkc/\n",
              "Ph2k94e1V8t6brpyPV/zEw4peEqsXicyAeB3xCUAFJHBYNCdzWrr+6e66sNH26uVl5uu5uZrQcIh\n",
              "BU2J0Ws/7tGpi9dsPRMAbIq4BIBiMhgMimhSW9+N7aqFj3ZQYH13Xcst0PtJhxU8JVav/rBHp7KJ\n",
              "TACVE3EJALfIYDAovEktLXuyiz4a3kFtvN2Vk1egD9ccVvDUWL3yw24iE0ClQ1wCwG0yGAwKa1xL\n",
              "S8d00aLHOqrtb5G5cE2agqbG6t/f71ZmFpEJoHIgLgHASgwGg0Ia1dSSMV30yYiOau9TTdfzCvTR\n",
              "2jSFTIvVv77bpRNZV209EwBKlNnWAwCgojEYDAoOqKkg/xpae/CsZq9KUXLaOS1ad0RfJGdoSIf6\n",
              "GhPWUHXdq9h6KgBYHXEJACXEYDCoq38NdWnooXWHzurNVSlKPnxOn6w/oi83ZmhwBy+NCfNXPSIT\n",
              "QAVCXAJACTMYDOrSsIa6NKyhdQfPavbqA1p/6Jw+XZ+uLzdmaFD7+noyrKG8qjnZeioA3DZecwkA\n",
              "pahzQw99MaqzvhzVSV0aeig336LPN6QrfHqcJi3doYxzV2w9EQBuC3EJADZwh5+HPn+8k74a3Vld\n",
              "/Qsjc3FyhsKnx+n5JUQmgPKLuAQAG+rYoLo+G9lJ3zzRWcEBNZRXYNEXGwsjM+qb7Uo/S2QCKF+I\n",
              "SwAoA9r7VtcnI+7QkjFdFNKopvIKLPpq01GFz4jThK+3K+3MZVtPBIAiIS4BoAxp51NNix7rqKVP\n",
              "dlFoo5rKL7Dom81H1W1mvJ77arsOE5kAyjjiEgDKoLbe1fTxYx317ZNdFN64MDKXbDmqbjPiFPnl\n",
              "Nh06fcnWEwHgLxGXAFCGtfGupoXDO+q7sV3VrUktFVikpVuP6c6Z8Rr/xValniIyAZQtxCUAlAOB\n",
              "9d31waMd9P1TXXVn08LIXLbtuLrPitczX2xV6qmLtp4IAJKISwAoV1p5uev9Rzrox6eD1L1ZbVks\n",
              "0nfbjqv7rAQ9vXirUk4SmQBsi7gEgHKoRT03vTesvX58Okh3/RaZP2w/rrveTNDYz7dofyaRCcA2\n",
              "iEsAKMda1HPTgmHttWJcsHo2ryOLRVq+44R6vJmgsZ9t0b7MbFtPBFDJEJcAUAE0q+uqeUPb6adn\n",
              "gtWrZR1J0vKdJ9TzzUSN+XSz9p4gMgGUDuISACqQpp6ueuehdvp5fLDuaekpg0H6aVem7p6dqNGf\n",
              "bNLu41m2ngiggiMuAaACalLHVW8/1Fa/jA9R71aFkfnL7pO6Z06SRi3apF3HiEwAJYO4BIAKrFFt\n",
              "F819sK1+HR+i+wLrymCQft1zUr3fStLIjzdp51EiE4B1EZcAUAkE1HbRnAfaaOWzIerTuq6MBmnV\n",
              "3pO6d26SRny0UTuOXrD1RAAVBHEJAJWIfy0Xzb6/jVZGhqpfm3oyGqTV+07pvrlr9NhHG7U944Kt\n",
              "JwIo54hLAKiEGtasqllDWmtVZKj6ty2MzJh9p9Tn7TV6dGGytqaft/VEAOUUcQkAlZhfzaqaObi1\n",
              "Vj8XpgFtvWQyGhS3/7T6vbNWwz5M1uYjRCaA4ilWXI4bN06+vr4yGAzatm3bn/584cKFMhgMWrZs\n",
              "mZXmAQBKQ4MazpoxOFAxz4VqULvCyEw4cFoD3l2roR9s0OYj52w9EUA5Uay4HDhwoJKSkuTj4/On\n",
              "P0tLS9N7772nTp06WW0cAKB0+Xg4a9qgQMU+F6Yh7evLbDQoMeWMBry7Tg+/v0Eb04hMAH+vWHEZ\n",
              "EhIiLy+vP11fUFCgkSNH6q233pKDg4PVxgEAbMPbw0lTBrZS7IQw3d+hMDKTUs9o0Lx1evC99dpw\n",
              "6KytJwIoo8zW+CYzZ85U165d1a5duyLdPicnRzk5OTdcl5+fb40pAAArql/dSW8MaKWx4f56J+6g\n",
              "vtmcobUHz2rtwbPq7OehZ+4MUCc/D1vPBFCG3PYbenbt2qUlS5boxRdfLPJ9Jk+eLDc3txsuycnJ\n",
              "tzsFAFBC6ld30uT+LRU7IUwP3eEtO5NB6w6d1f0L1mvI/HVae/CMLBaLrWcCKANuOy4TExOVlpam\n",
              "gIAA+fr6av369Ro1apTefffdm95n0qRJysrKuuHSsWPH250CAChhXtWc9N9+LRU3MVwPd/KWvcmo\n",
              "DYfP6cH3NmjI/PVam0pkApWdwXILfwv4+vpq2bJlat269Z/+LCwsTOPHj1ffvn2L9T0jIyM1c+bM\n",
              "4k4BANjQiayrejfuoL5IztD1/AJJUgffanqmWyN19feQwWCw8UIApa1Yj1yOHj1aXl5eOnr0qHr0\n",
              "6CF/f/+S2gUAKAc83aro1T4tFB8Vpkc6+8jebNTGtPN6+IMNGjhvnRIOnOaRTKCSuaVHLksCj1wC\n",
              "QPl3Mvua3o07qMXJ6crJK3wks423u8bf2UghATV4JBOoBPiEHgCA1dR2ddS/72uuxKhwPda1gRzM\n",
              "Rm1Nv6BHPkxWv3fWKnb/KR7JBCo44hIAYHW1XB31r3ubKTE6XCOCGsjRzqhtGRc0fOFG9X1nrWL2\n",
              "nSQygQqKuAQAlJhaLo56qXczJUZF6PHgwsjcnnFBj320SX3eXqPVe4lMoKIhLgEAJa6mi4NeuKeZ\n",
              "kqIjNDrET1XsTNpxNEsjPt6k++au0co9RCZQURCXAIBSU6Oqgyb1aqqk6HCNDvWTk71JO49l6fFF\n",
              "m9T7rST9sjuTyATKOeISAFDqPKo6aNLdTZUUHaExYQ3lbG/S7uPZGv3JZvWak6Sfd2WqoIDIBMoj\n",
              "4hIAYDPVne0V3bOJkqIjNDa8MDL3nsjWE59uVq85ifpp5wkiEyhniEsAgM1Vc7bXxB6FkflUuL+q\n",
              "Opi1L/Oixny2Rb3mJGr5DiITKC+ISwBAmVHN2V4TejRWUnS4xkX4y+W3yBz7+Rb1nJ2gH3ccJzKB\n",
              "Mo64BACUOe5O9oq8q7GSoiP0TLcAuTiadeDkJT31+Vb1eDNB328/rnwiEyiTiEsAQJnl5mSnZ7s3\n",
              "UlJ0hMbfGSBXR7NSTl3SuMWFkfndtmNEJlDGEJcAgDLPrYqdxt/ZSEnPRyiyeyO5OpqVeuqSnvli\n",
              "m7rPiteyrUQmUFYQlwCAcsPV0U7jugUo6fkIPde9kdyq2OnQ6csa/+U2dZ8Zr6Vbjiovv8DWM4FK\n",
              "jbgEAJQ7ro52erpbgJKiwzWxR2O5O9np0JnLivxqu7rPStA3m4lMwFaISwBAueXiaKex4f5Kio5Q\n",
              "VM/GquZkp8NnLmvC19vVbWa8vt6UQWQCpYy4BACUe1UdzHoyrDAyo3s2UXVnex05e0UTv9mhiBnx\n",
              "+mpjhnKJTKBUEJcAgArD2cGsMWENlRgVrkl3N5GHs73Sz11R1JIdipgRpy+S04lMoIQRlwCACsfZ\n",
              "wazRoQ2VGB2uF3o1VY2q9so4d1XPL92psGlxWpycrut5RCZQEohLAECF5WRv1uMhfkqMitCL9zRV\n",
              "jaoOOnbhqiYt3anw6XH6bMMRIhOwMuISAFDhVbE3aWSwnxKjwvVS72aq6VIYmS98u0th02L1yfoj\n",
              "ysnLt/VMoEIgLgEAlUYVe5NGBDVQYlS4Xr63mWq5OOh41jW9tGyXwqbF6ZN1aUQmcJuISwBApeNo\n",
              "Z9Lwrg2UEBWuf9/bTLVdHXQi65pe+m63QqfG6eO1abqWS2QCt4K4BABUWo52Jj3atYHiJ4br1T7N\n",
              "VcfVUZnZ1/Ty97sVOi1WC9ccJjKBYiIuAQCVnqOdScM6+yo+Kkz/6dtCnm6OOpmdo1d+2KOQqbH6\n",
              "MInIBIqKuAQA4DcOZpOGdvJR3MQwvda3heq5V9Gpizl69cc9Cp4aq/cTD+nqdSIT+DvEJQAAf+Bg\n",
              "NunhTj6KnRCm1/u1VD33Kjp9MUevLd+r4Kmxei/hkK5cz7P1TKBMIi4BALgJe7NRD97hrdgJYXqj\n",
              "f0t5VauiM5dy9N8VexUyNVYLEg4SmcAfEJcAAPwDe7NR93csjMwpA1qqfvUqOnPpul5fsU/BU2I1\n",
              "L/6gLucQmYBEXAIAUGR2JqOGdPBWzHNhmjqwlXw8nHT28nW98dM+BU+N1TtxqbpEZKKSIy4BACgm\n",
              "O5NRg9vX1+rIUE0fFCgfDyedu3xdU3/er+ApMXo7lshE5UVcAgBwi8wmowa289LqyFDNGBSoBjWc\n",
              "df5Krqb9sl9BU2I0NyZFF6/l2nomUKqISwAAbpPZZNSAdl5a+WyIZg0JlF8NZ124kqvpvx5Q0JRY\n",
              "zVmdomwiE5UEcQkAgJWYTUb1a+OllZGhmn1/a/nVdFbW1VzNXHlAQW/EaPaqFGVdJTJRsRGXAABY\n",
              "mcloUJ/W9bTy2cLI9K9VVdnX8jRr1QEFTYnRrJUHiExUWMQlAAAl5H+R+cv4EL31QBsF1Kqqi9fy\n",
              "NHt1ioKmxGjmygPKukJkomIhLgEAKGEmo0H3BtbVL+ND9PaDbdWodmFkzvktMmf8ul8Xrly39UzA\n",
              "KohLAABKidFo0D2tPPXzMyF656G2alLHRRdz8vRWTKqCpsRq2i/7dP4ykYnyjbgEAKCUGY0G9Wrp\n",
              "qRXjgjXv4bZq6umqSzl5ejv2oIKmxGjqz/t0jshEOUVcAgBgI0ajQT1beGr500GaP7Sdmnm66vL1\n",
              "fL0TVxiZb/y0T2cv5dh6JlAsxCUAADZmNBrUo3kdLR8XpAVD26l5XVdduZ6vefEHFTw1VpNX7NUZ\n",
              "IhPlBHEJAEAZYTAYdFfzOvrx6SC9P6y9WtZz05Xr+ZqfcEjBU2L1OpGJcoC4BACgjDEYDLqzWW19\n",
              "/1RXffhoe7XyctPV3HwtSDikoCkxeu3HPTp18ZqtZwJ/ibgEAKCMMhgMimhSW9+N7aqFj3ZQYH13\n",
              "Xcst0PtJhxU8JVav/rBHp7KJTJQtxCUAAGWcwWBQeJNaWvZkF300vIPaeLsrJ69AH645rOCpsXrl\n",
              "h91EJsoM4hIAgHLCYDAorHEtLR3TRYse66i2v0XmwjVpCpoaq39/v1uZWUQmbIu4BACgnDEYDApp\n",
              "VFNLxnTRJyM6qr1PNV3PK9BHa9MUMi1W//pul05kXbX1TFRSZlsPAAAAt8ZgMCg4oKaC/Gto7cGz\n",
              "mr0qRclp57Ro3RF9kZyhIR3qa0xYQ9V1r2LrqahEivXI5bhx4+Tr6yuDwaBt27ZJkq5du6a+ffuq\n",
              "UaNGCgwMVPfu3ZWamloSWwEAwF8wGAzq6l9DX47upM8fv0MdG1TX9fwCfbL+iMKmxemFb3fq2AUe\n",
              "yUTpKFZcDhw4UElJSfLx8bnh+lGjRmn//v3avn27+vTpo5EjR1p1JAAA+GcGg0FdGtbQV6M7a/Hj\n",
              "ndTJrzAyP9uQrrBpsfr/vt2po+ev2HomKrhixWVISIi8vLxuuM7R0VG9evWSwWCQJHXq1ElpaWlW\n",
              "GwgAAIqvc0MPfTGqs74Y1Umd/TyUm2/R5xvSFT49TpOW7lDGOSITJcPqr7mcPXu2+vTp87e3ycnJ\n",
              "UU7OjZ8wkJ+fb+0pAABUep38PNRplIeSD5/T7NUHtCb1rBYnZ+jrTUc1oK2Xxob7y9vDydYzUYFY\n",
              "9d3ir7/+ulJTUzV58uS/vd3kyZPl5uZ2wyU5OdmaUwAAwP/RsUF1fTayk755orOCA2oor8CiLzdl\n",
              "KHxGnKK+2a70szySCeswWCwWS3Hv5Ovrq2XLlql169a/Xzd9+nR98cUXWrVqldzd3f/2/n/1yOVL\n",
              "L72k2bNnF3cKAAC4BZuPnNObq1KUmHJGkmQyGtSvTT09Fe4v3xrONl6H8swqT4vPnDlTixcvLlJY\n",
              "SpKDg4McHBxuuM5kMlljCgAAKIJ2PtX1yYg7tCX9vGavSlH8gdP6ZvNRfbv1mPq0rqunIwLUgMjE\n",
              "LSjWI5ejR4/W8uXLlZmZKQ8PD7m4uCguLk7169eXn5+fXFxcJBXG44YNG4o1JDIyUjNnzizeegAA\n",
              "YBVb089rzuoUxe4/LUkyGqS+revpqQh/+dWsauN1KE9u6WnxkkBcAgBge9syLmjO6hTF7DslqTAy\n",
              "7wusq6ciAuRfi8jEP+PjHwEAwO9a13fXh4920PdPddWdTWupwCIt23Zc3WfFa9zirUo9ddHWE1HG\n",
              "EZcAAOBPWnm56/1HOujHp4PUvVltWSzS99uPq/usBD29eKtSThKZ+GvEJQAAuKkW9dz03rD2+vHp\n",
              "IN31W2T+sP247nozQWM/36L9mUQmbkRcAgCAf9SinpsWDGuvFeOC1bN5HVks0vIdJ9TjzQQ9+dlm\n",
              "7cvMtvVElBHEJQAAKLJmdV01b2g7/fRMsHq1rCNJWrEzUz3fTNSYTzdr7wkis7IjLgEAQLE19XTV\n",
              "Ow+108/jg3VPS08ZDNJPuzJ19+xEjf5kk3Yfz7L1RNgIcQkAAG5ZkzquevuhtvplfIh6tyqMzF92\n",
              "n9Q9c5L0+KJN2nWMyKxsiEsAAHDbGtV20dwH2+rX8SG6L7CuDAZp5Z6T6v1WkkZ+vEk7jxKZlQVx\n",
              "CQAArCagtovmPNBGK58NUZ/WdWU0SKv2ntS9c5M04qON2nH0gq0nooQRlwAAwOr8a7lo9v1ttDIy\n",
              "VP3a1JPRIK3ed0r3zV2j4QuTtS3jgq0nooQQlwAAoMQ0rFlVs4a01qrIUPVvWxiZsftPq+/ba/To\n",
              "wmRtTT9v64mwMuISAACUOL+aVTVzcGutfi5MA9p6yWQ0KG7/afV7Z62GfZiszUeIzIqCuAQAAKWm\n",
              "QQ1nzRgcqNWRoRrUrjAyEw6c1oB312roBxu0Ke2crSfiNhGXAACg1PnWcNa0QYGKfS5MQ9rXl9lo\n",
              "UGLKGQ2ct04Pv79BG4nMcou4BAAANuPt4aQpA1spdkKY7u9QGJlJqWc0aN46Pfjeem04dNbWE1FM\n",
              "xCUAALC5+tWd9MaAwsh8oKO37EwGrT14VkMWrNf9C9Zp3UEis7wgLgEAQJlRv7qTJvdvqdgJYXro\n",
              "jsLIXH/onB54b72GzF+ntQfPyGKx2Hom/gZxCQAAyhyvak76b7+WipsYroc7ecveZNSGw+f04Hsb\n",
              "NGT+eq1NJTLLKuISAACUWfXcq+i1vi0VNzFMwzr7yN5kVHLaOT34/gYNnr9OSSlEZllDXAIAgDKv\n",
              "rnsVvdqnheKjwvRIZx/Zm43amHZeD3+wQQPnrVPCgdNEZhlBXAIAgHLD062KXunTQolR4Xq0i6/s\n",
              "zUZtPnJewz5MVv931yqeyLQ54hIAAJQ7tV0d9e/7mispKlyPdW0gB7NRW9Mv6JEPk9XvnbWK3X+K\n",
              "yLQR4hIAAJRbtVwd9a97mykxOlwjghrI0c6obRkXNHzhRvV9e41i9p0kMksZcQkAAMq9Wi6Oeql3\n",
              "MyVGRejx4MLI3H40S499tEl93l6j1XuJzNJCXAIAgAqjpouDXrinmZKiIzQ6xE9V7EzacTRLIz7e\n",
              "pPvmrtHKPURmSSMuAQBAhVOjqoMm9WqqpOhwjQ71k5O9STuPZenxRZvU+60k/bI7k8gsIcQlAACo\n",
              "sDyqOmjS3U2VFB2hMWEN5Wxv0u7j2Rr9yWb1mpOkn3dlqqCAyLQm4hIAAFR41Z3tFd2ziRKjIzQ2\n",
              "vDAy957I1hOfblavOYn6aecJItNKiEsAAFBpVHe218QeTZQUHaGnwv1V1cGsfZkXNeazLbp7dqKW\n",
              "7yAybxdxCQAAKp1qzvaa0KOxkqLDNS7CXy4OZu0/eVFjP9+inrMT9OOO40TmLSIuAQBApeXuZK/I\n",
              "uxorKTpCz3QLkIujWQdOXtJTn29VjzcT9P3248onMouFuAQAAJWem5Odnu3eSEnRERp/Z4BcHc1K\n",
              "OXVJ4xZv1V2z4vXdtmNEZhERlwAAAL9xq2Kn8Xc2UtLzEYrs3kiujmYdPH1Zz3yxTd1nxWvZViLz\n",
              "nxCXAAAAf+DqaKdx3QKU9HyEnuveSG5V7HTo9GWN/3Kbus+M19ItR5WXX2DrmWUScQkAAHATro52\n",
              "erpbgJKiwzWxR2O5O9np0JnLivxqu+6cGa9vNhOZf0RcAgAA/AMXRzuNDfdXUnSEono2VjUnO6Wd\n",
              "vaIJX29Xt5nx+npTBpH5G+ISAACgiKo6mPVkWGFkRvdsourO9jpy9oomfrNDETPi9dXGDOVW8sgk\n",
              "LgEAAIrJ2cGsMWENlRgVrkl3N5GHs73Sz11R1JIdipgRpy+S0yttZBKXAAAAt8jZwazRoQ2VGB2u\n",
              "F3o1VY2q9so4d1XPL92psGlxWpycrut5lSsyiUsAAIDb5GRv1uMhfkqMitCL9zRVjaoOOnbhqiYt\n",
              "3anw6XH6bMORShOZxCUAAICVVLE3aWSwnxKjwvVS72aq6VIYmS98u0th02L1yfojysnLt/XMEkVc\n",
              "AgAAWFkVe5NGBDVQYlS4Xr63mWq5OOh41jW9tGyXwqbF6ZN1aRU2MolLAACAEuJoZ9Lwrg2UEBWu\n",
              "f9/bTLVdHXQi65pe+m63QqfG6eO1abqWW7Eik7gEAAAoYY52Jj3atYHiJ4br1T7NVcfVUZnZ1/Ty\n",
              "97sVOi1WC9ccrjCRSVwCAACUEkc7k4Z19lV8VJj+07eFPN0cdTI7R6/8sEchU2P1YVL5j0ziEgAA\n",
              "oJQ5mE0a2slHcRPD9FrfFqrr5qhTF3P06o97FDw1Vu8nHtLV6+UzMolLAAAAG3Ewm/RwJx/FTQzX\n",
              "6/1aqp57FZ2+mKPXlu9V8NRYvZdwSFeu59l6ZrEUKy7HjRsnX19fGQwGbdu27ffrU1JS1KVLFzVq\n",
              "1EgdOnTQ7t27rb0TAACgwrI3G/XgHd6KnRCmN/q3lFe1KjpzKUf/XbFXIVNjtSDhYLmJzGLF5cCB\n",
              "A5WUlCQfH58brh89erRGjRqlAwcOKDo6Wo8++qg1NwIAAFQK9maj7u9YGJlTBrRU/epVdObSdb2+\n",
              "Yp+Cp8RqXvxBXc4p25FpsFgsluLeydfXV8uWLVPr1q116tQp+fv769y5czKbzbJYLPL09FRSUpL8\n",
              "/f2L/D0jIyM1c+bM4k4BAACosHLzC/Tt1mN6OzZVR85ekSRVd7bXyOAGGtbZV1UdzDZe+Ge3/ZrL\n",
              "jIwMeXp6ymwu/OEMBoO8vb2Vnp5+0/vk5OQoOzv7hkt+fvl80SoAAEBJsTMZNbh9fa2ODNX0QYHy\n",
              "8XDSucvXNfXn/QqeEqO3Y1NVUFDsxwlLlE3e0DN58mS5ubndcElOTrbFFAAAgDLPbDJqYDsvrY4M\n",
              "1YxBgWpQw1nnr+Rqw+FzMhoNtp53g9uOy/r16+vEiRPKyyt8/t9isSg9PV3e3t43vc+kSZOUlZV1\n",
              "w6Vjx463OwUAAKBCM5uMGtDOSyufDdGsIYGacFcjW0/6k9uOy1q1aqlt27b69NNPJUlLliyRl5fX\n",
              "377e0sHBQa6urjdcTCbT7U4BAACoFMwmo/q18VIrL3dbT/mTYsXl6NGj5eXlpaNHj6pHjx6/B+T8\n",
              "+fM1f/58NWrUSG+88YYWLlxYImMBAABQthXrLUbz58//y+sbN26sdevWWWUQAAAAyi8+oQcAAABW\n",
              "Q1wCAADAaohLAAAAWA1xCQAAAKshLgEAAGA1xCUAAACshrgEAACA1RCXAAAAsBriEgAAAFZjsFgs\n",
              "FluPkKT+/fvL19e3VP5Z+fn5Sk5OVseOHflM83KKMyzfOL/yjzMs/zjD8s8WZ+jj46Nnnnnmb29T\n",
              "ZuKyNGVnZ8vNzU1ZWVlydXW19RzcAs6wfOP8yj/OsPzjDMu/snqGPC0OAAAAqyEuAQAAYDXEJQAA\n",
              "AKymUsalg4ODXn75ZTk4ONh6Cm4RZ1i+cX7lH2dY/nGG5V9ZPcNK+YYeAAAAlIxK+cglAAAASgZx\n",
              "CQAAAKshLgEAAGA1FTouU1JS1KVLFzVq1EgdOnTQ7t27//J2H3zwgQICAtSwYUM9/vjjys3NLeWl\n",
              "uJminGFMTIw6duyoZs2aqXnz5oqKilJBQYEN1uKPivrvoCRZLBZFRETI3d299AbiHxX1DHfu3Kmw\n",
              "sDA1bdpUTZs21dKlS0t5KW6mKGdYUFCgyMhINWvWTK1atVJ4eLhSU1NtsBZ/NG7cOPn6+spgMGjb\n",
              "tm03vV2ZahlLBRYeHm5ZuHChxWKxWL7++mtL+/bt/3SbQ4cOWTw9PS0nTpywFBQUWO69917L3Llz\n",
              "S3kpbqYoZ7hlyxbLwYMHLRaLxXL16lVL165df78PbKso5/c/M2bMsIwcOdLi5uZWOuNQJEU5w8uX\n",
              "L1saNGhgSUxMtFgsFkteXp7l1KlTpTkTf6MoZ/jtt99aOnbsaLl+/brFYrFY/vOf/1gGDRpUmjNx\n",
              "E/Hx8ZaMjAyLj4+PZevWrX95m7LWMhU2Lk+ePGlxcXGx5ObmWiwWi6WgoMBSu3ZtS0pKyg23mzp1\n",
              "qmX06NG/f718+XJL165dS3Ur/lpRz/CPxo4da3n55ZdLYSH+TnHOb9euXZbg4GBLamoqcVmGFPUM\n",
              "33vvPcsDDzxgi4n4B0U9w2XLllkCAwMt2dnZloKCAsvEiRMtzz77rC0m4yb+Li7LWstU2KfFMzIy\n",
              "5OnpKbPZLEkyGAzy9vZWenr6DbdLT0+Xj4/P71/7+vr+6TawjaKe4f+VmZmpb775Rr179y6tmbiJ\n",
              "op5fbm6uHn/8cc2fP18mk8kWU3ETRT3DPXv2yMHBQb1791br1q01bNgwnT592haT8QdFPcN7771X\n",
              "YWFhqlOnjjw9PbV69Wq9+uqrtpiMW1DWWqbCxiUqn+zsbN17772KiopS+/btbT0HRfTKK6+of//+\n",
              "atq0qa2n4Bbl5eVp1apVmj9/vrZu3ap69eppzJgxtp6FYti0aZN27dqlY8eO6fjx4+rWrZueeOIJ\n",
              "W89COVVh47J+/fo6ceKE8vLyJBW+WSA9PV3e3t433M7b21tHjhz5/eu0tLQ/3Qa2UdQzlKSLFy+q\n",
              "Z8+e6tOnjyIjI0t7Kv5CUc8vPj5eb731lnx9fRUUFKTs7Gz5+vryyFcZUJy/R8PDw1WvXj0ZDAY9\n",
              "/PDDWr9+vS0m4w+KeoaLFi36/Q11RqNRjzzyiGJjY20xGbegrLVMhY3LWrVqqW3btvr0008lSUuW\n",
              "LJGXl5f8/f1vuN2AAQP0/fffKzMzUxaLRfPmzdP9999vi8n4g6Ke4aVLl9SzZ0/17NlTL774oi2m\n",
              "4i8U9fwSExN15MgRpaWlKSkpSa6urkpLS1PNmjVtMRv/R1HPcPDgwdq4caOys7MlSStWrFBgYGCp\n",
              "78WfFfUM/fz8FBMTo+vXr0uSfvzxR7Vo0aLU9+LWlLmWsdmrPUvBvn37LJ06dbIEBARY2rVrZ9mx\n",
              "Y4fFYrFYRowYYfnuu+9+v92CBQssfn5+Fj8/P8tjjz32+7vlYHtFOcPXXnvNYjabLYGBgb9fXnvt\n",
              "NVvOxm+K+u/g/xw+fJg39JQxRT3DRYsWWZo3b25p2bKlpWfPnpb09HRbTcYfFOUMr127Zhk5cqSl\n",
              "SZMmlpYtW1q6d+/++2/hgG2NGjXKUq9ePYvJZLLUqlXL0rBhQ4vFUrZbhs8WBwAAgNVU2KfFAQAA\n",
              "UPqISwAAAFgNcQkAAACrIS4BAABgNcQlAAAArIa4BAAAgNUQlwAAALAa4hIAAABWQ1wCAADAaohL\n",
              "AAAAWA1xCQAAAKv5/wFCQqLC2+NBbAAAAABJRU5ErkJggg==\n",
              "\">\n",
              "      </div>\n",
              "      <script type=\"text/javascript\">\n",
              "        (() => {\n",
              "          const chartElement = document.getElementById(\"chart-249243e0-6865-4add-b2e5-ab0e32cdb45e\");\n",
              "          async function getCodeForChartHandler(event) {\n",
              "            const chartCodeResponse =  await google.colab.kernel.invokeFunction(\n",
              "                'getCodeForChart', [\"chart-249243e0-6865-4add-b2e5-ab0e32cdb45e\"], {});\n",
              "            const responseJson = chartCodeResponse.data['application/json'];\n",
              "            await google.colab.notebook.addCell(responseJson.code, 'code');\n",
              "          }\n",
              "          chartElement.onclick = getCodeForChartHandler;\n",
              "        })();\n",
              "      </script>\n",
              "      <style>\n",
              "        .colab-quickchart-chart-with-code  {\n",
              "            display: block;\n",
              "            float: left;\n",
              "            border: 1px solid transparent;\n",
              "        }\n",
              "\n",
              "        .colab-quickchart-chart-with-code:hover {\n",
              "            cursor: pointer;\n",
              "            border: 1px solid #aaa;\n",
              "        }\n",
              "      </style>"
            ]
          },
          "metadata": {}
        },
        {
          "output_type": "display_data",
          "data": {
            "text/plain": [
              "from matplotlib import pyplot as plt\n",
              "_df_15['c'].plot(kind='line', figsize=(8, 4), title='c')\n",
              "plt.gca().spines[['top', 'right']].set_visible(False)"
            ],
            "text/html": [
              "      <div class=\"colab-quickchart-chart-with-code\" id=\"chart-974f4c03-979d-4951-8281-dbfd7b3d9314\">\n",
              "        <img style=\"width: 180px;\" src=\"data:image/png;base64,iVBORw0KGgoAAAANSUhEUgAAApcAAAFuCAYAAADUGTPdAAAAOXRFWHRTb2Z0d2FyZQBNYXRwbG90\n",
              "bGliIHZlcnNpb24zLjcuMSwgaHR0cHM6Ly9tYXRwbG90bGliLm9yZy/bCgiHAAAACXBIWXMAAA9h\n",
              "AAAPYQGoP6dpAABBPUlEQVR4nO3deVzUBeL/8ffMcCOH4q0oouAt3qGCMKillmmZlqVlZVpaapRQ\n",
              "+82tNldXU1Kzw47tstRK08zS5BRMxROvPFBRvEVUvECO+f2B629ttQBHhuP1fDzm8Vin+eB79vPQ\n",
              "Xn1mBgwWi8UiAAAAwAqMth4AAACAioO4BAAAgNUQlwAAALAa4hIAAABWQ1wCAADAaohLAAAAWA1x\n",
              "CQAAAKshLgEAAGA1xCUAAACshrgEAACA1RCXAAAAsBriEgAAAFZDXAKAlV25ckWvvfaa/P395ebm\n",
              "Jl9fX33xxRe2ngUApcLO1gMAoKJ55plntHfvXi1dulTNmjXT8ePHdeLECVvPAoBSYbBYLBZbjwCA\n",
              "iiIjI0M1atTQhg0b1LFjR1vPAYBSx8viAGBFBw8elCQ1bdrUxksAwDaISwCwIh8fH0nS3r17bTsE\n",
              "AGyEuAQAK6pRo4aGDBmiMWPGaM+ePZKk48ePa/PmzTZeBgClg7gEACv7+OOPFRISoj59+qhKlSrq\n",
              "1q2bdu7caetZAFAq+EAPAAAArIYrlwAAALAa4hIAAABWQ1wCAADAaohLAAAAWA1xCQAAAKshLgEA\n",
              "AGA1xCUAAACspszE5axZs2w9AQAAALepzMTloUOHbD0BAAAAt6nMxCUAAADKP+ISAAAAVkNcAgAA\n",
              "wGqISwAAAFgNcQkAAACrIS4BAABgNcQlAAAArIa4BAAAgNUUOy7vvvtutWnTRm3btlVwcLC2bNki\n",
              "Sdq3b5+6du0qf39/derUSTt37rT6WAAAAJRtxY7Lb7/9Vtu2bdPWrVsVHh6u4cOHS5JGjRqlkSNH\n",
              "au/evYqMjLx+PwAAACqPYselp6fn9f99/vx5GQwGnTp1Shs3btTQoUMlSQMHDlR6erpSU1OtNtSa\n",
              "cvMLbD0BAACgQrIryUGPP/644uLiJEk///yz0tPTVadOHdnZFX45g8GgBg0a6PDhw2rSpMn/HJ+T\n",
              "k6OcnJwb7svPzy/JlBJ5ZdF2ZVzM0biefmrfoGqp/b4AAAAVXYk+0PPll18qPT1dkyZNUmRkZLGP\n",
              "nzJlijw8PG64JScnl2RKsWVeuqpl244pYe9pPfj+bxr26XptOpRZKr83AABARWewWCyW2/kCzs7O\n",
              "SktLk5+fnzIzM2VnZyeLxaI6deooKSmpyFcuJ06cqFmzZt3OlCI7dOaS3otL1eLNR5VXUPj0g/2q\n",
              "a1wPP3X0qVYqGwAAACqiYl25PHfunI4dO3b910uWLJGXl5dq1qyp9u3ba968eZKkRYsWqX79+jcN\n",
              "S0lydHSUu7v7DTeTyXQbT6N4Gnq5atpDAYp7OVSPdPKWndGgxH0ZeujDtXrsk3VKPsiVTAAAgJIo\n",
              "1pXLQ4cOadCgQbpy5YqMRqNq1Kih6dOnq23bttqzZ4+GDx+uM2fOyN3dXZ999plat25d5CHh4eGK\n",
              "iooq0ZO4XemZl/V+/H59tzH9+pXMLr5eGtfTT4G+XjbZBAAAUB7d9svi1mLLuPyPI2f/f2Tm5hf+\n",
              "3xLoW03jevirS2MiEwAA4K/wE3r+S/2qLpr8QGvFTzBraGADOZiMWncgU0M+XqfBc9fqt/0ZKiMt\n",
              "DgAAUCYRlzdRz9NZkwa0VvyEUA0LbCgHk1HJBzP16Mfr9fDcdVqTSmQCAADcDHH5J+p6OuutAa2U\n",
              "EBGqJ7o0lIOdUclpmXrsk/Ua9OFaJe47TWQCAAD8F+KyCOp4OOvN/q2UGGHW8K4+crAzauOhsxr2\n",
              "abIGfvCbVu8lMgEAACTislhquTvpjftbKjHCrCe7+cjRzqjNh8/p8X8n68EPflP8nlNEJgAAqNSI\n",
              "yxKo5e6k1/sVRubTQY3kZG/UlsPnNPyzDRrw/m+K201kAgCAyom4vA013Z008b4WSowI0zPBhZGZ\n",
              "kn5OT36+QQPeW6PY3SeJTAAAUKkQl1ZQw81R/3dvYWSO7O4rZ3uTUo6c11Ofb1T/99YoeheRCQAA\n",
              "Kgfi0opquDnqb32bKzHSrFEhvnJxMGnbkfMa8eVG9ZuTpF93niAyAQBAhUZc3gHVqzjq1T7NlRQZ\n",
              "pudCG8vVwaQdR7M08qtNund2klYSmQAAoIIiLu+gaq4OiuzdTImRYRp9LTJ3Hc/SqK82qe/sJK3Y\n",
              "cVwFBUQmAACoOIjLUlDN1UERvZspKTJMz5ubqIqjnX4/nqVn521W39mJ+nk7kQkAACoG4rIUVXV1\n",
              "0Mv3NFVSpFljw5rIzdFOu09c0OivN6vPrEQt30ZkAgCA8o24tAFPFweF391USZFhGtvDT25Odtpz\n",
              "8oLGfLNZvWet1rKUY8onMgEAQDlEXNqQh4u9wnv5KykyTON7Fkbm3pMX9cL8Lbpn5mot3XqUyAQA\n",
              "AOUKcVkGeDjba3zPwsh8sae/3J3slHrqosYt2Kq730kgMgEAQLlBXJYhHs72GtfTT0mvhOmlXv7y\n",
              "cLbX/tOXNG7BVvV6J0E/bDmivPwCW88EAAC4JeKyDHJ3stcLPfyUFGnWhHuaytPFXgdOX9KLC1PU\n",
              "653VWrSJyAQAAGUTcVmGuTnZa4y5iZIiwzThnqaq6mKvgxmX9NJ3KeoZlaDviUwAAFDGEJflQBVH\n",
              "u+uRGdm7maq5OijtzGW9/F2KekQl6NuN6colMgEAQBlAXJYjro52ei60sRIjzHq1TzN5uTro0JnL\n",
              "ivh+m3rMSNDCDYeJTAAAYFPEZTnk6minUSGNlRhp1t/6NlP1Kg46nHlZkYu2yzw9XguSD+tqHpEJ\n",
              "AABKH3FZjrk42Glk98ZKjAjTa/c2V/Uqjjpy9opeWVwYmd+sJzIBAEDpIi4rAGcHk0YE+yoxwqyJ\n",
              "97VQDTdHHT13RX/7oTAy5607pJy8fFvPBAAAlQBxWYE4O5j0dFAjJUaY9ff7Wqjmtch8bckOmd+O\n",
              "11dEJgAAuMOIywrIyd6kp4IaaXWEWW/0a6Fa7o46dj5bE5fsUOjb8fpybZqyc4lMAABgfcRlBeZk\n",
              "b9Lwbo2UMMGsf/RvqdruTjp+Plt/X7pToW/H6/M1B4lMAABgVcRlJeBkb9LjXXyUEBGqt/q3VB0P\n",
              "J53IytYby3Yp5O04fUZkAgAAKyEuKxFHO5OGdfFR/IRQTRrQSnU9nHQyK0dvLtul4Glx+jSJyAQA\n",
              "ALenWHGZnZ2tAQMGyN/fXwEBAerVq5dSU1MlScnJyQoMDFS7du3UvHlzTZs27Y4Mxu1ztDNpaGBD\n",
              "xU8wa/IDrVXP01mnL+TorZ92KWhqnD5JPKArV4lMAABQfAaLxWIp6oOzs7MVGxurPn36yGAwaM6c\n",
              "Ofr+++8VHx+vtm3b6h//+Ifuv/9+ZWZmqlmzZoqPj1eLFi2K9LXDw8MVFRVV4ieCkruaV6BFm4/o\n",
              "vbhUHTl7RZJUvYqDRnVvrMcCG8jFwc7GCwEAQHlRrCuXTk5O6tu3rwwGgyQpMDBQaWlpkiSDwaBz\n",
              "585Jki5duiQHBwdVq1bNqmNxZzjYGTWkcwPFvRyqqQNby7uaszIuXtU/f/5dwVPjNDdhvy5fzbP1\n",
              "TAAAUA4U68rlHw0bNkzVqlXTrFmztHXrVvXv318Wi0WnT5/W3Llz9fjjj9/0uJycHOXk5Nxw38SJ\n",
              "EzVr1qySToEV5eYX6IctRzUnNlWHMy9Lkqq5OuiZYF893qWhXB25kgkAAG6uxHE5efJkLVu2TDEx\n",
              "MXJxcdEjjzyi+++/X48++qgOHDigkJAQrVy58qYvi7/xxht68803b7gvMDBQa9euLdmzwB2Rm1+g\n",
              "JVuOak5cqg6dKYzMqi72eqa7rx7v4qMqRCYAAPiDEsXl9OnTtWDBAkVHR8vT01MZGRmqV6/eDVcj\n",
              "Bw0apLvvvlvPPPPM/xzPlcvyJS+/QEu3HtOcuFQdzLgkSfJ0sb9+JdPNyd7GCwEAQFlR7G9FFBUV\n",
              "pfnz52vVqlXy9PSUJFWtWlWurq6KjY2VJGVkZGj9+vVq1arVTb+Go6Oj3N3db7iZTKaSPwvcUXYm\n",
              "owZ2qK9VL3bXOw8HyLe6q85dztXbK/coeFqc3o3ZpwvZubaeCQAAyoBiXbk8cuSIvL295evrKzc3\n",
              "N0mFobh+/XpFR0crMjJSeXl5ys3N1YgRIxQeHl7kIXxavPzIL7BoWcoxzY7dpwOnC69kejjb6+mg\n",
              "RhrezUfuXMkEAKDSuq0P9FgTcVn+5BdY9NO2Y3o3NlWppy5Kktyd7PRUUCM92a2RPJyJTAAAKht+\n",
              "Qg9KzGQ0qH/belo5vrveHdJOfjWrKCs7TzOj9yloaqzeWbVX5y/zcjkAAJUJcYnbZjIa1C+grlaO\n",
              "7645j7aTf60qupCdp1kxhZEZ9esenbt81dYzAQBAKSAuYTVGo0H3tamrFeO66/3H2qtZbTddyMnT\n",
              "7NhUBU2N0/SVRCYAABUdcQmrMxoN6tu6jn4eG6wPhxZG5sWcPM2JK4zMt1fu1tlLRCYAABURcYk7\n",
              "xmg0qHer/0RmB7Wo466LOXl6L26/gqbGauqK3cokMgEAqFCIS9xxhZFZW8vHBumjYR3Usq67Ll3N\n",
              "1wfxhZE55ZffdeZizl9/IQAAUOYRlyg1BoNBd7esrZ9eCNInj3dUq3ruunw1X3MTDihoapym/Py7\n",
              "MohMAADKNeISpc5gMKhni1pa9nyQPn2io9rU99CV3HzNXX1AwVPj9M/lu3T6ApEJAEB5RFzCZgwG\n",
              "g3o0r6WlY7rps+GdFODtqSu5+fo48aCCp8XqrZ926dSFbFvPBAAAxUBcwuYMBoPMzWpqyeiu+vzJ\n",
              "Tmrr7ans3AJ9mnRQwVPj9I9lu3Qqi8gEAKA8IC5RZhgMBoU2rakfRnfVF091VvsGnsrJK9C/1xxU\n",
              "8LQ4vfHjTp0kMgEAKNOIS5Q5BoNBIf41tOi5rvrq6c7q2LCqcvIK9PlvaQqeFqfXl+7QifNEJgAA\n",
              "ZZGdrQcAt2IwGBTsV0NBTarrt/1nNDN6rzakndUXaw9pfnK6HunsredCG6uOh7OtpwIAgGuIS5R5\n",
              "BoNB3ZpUV9fGXlq7/4xmxuxT8sFMfbn2kBYkp2twp/oaHdpEdT2JTAAAbI24RLlhMBjUtUl1dW1S\n",
              "vTAyo/dq/cFMzVt3WAs3pGtwR2+NNjdRPSITAACb4T2XKJe6NPbSwlFdtGBkoLr4eik336Kv1x9W\n",
              "6NtxenXxdqVnXrb1RAAAKiXiEuVaoK+X5o8M1Lejuqhbk8LInJ98WObp8Xpl0TYiEwCAUkZcokLo\n",
              "3Kiavh4RqO+e7aKgJtWVV2DRgg3pMk+PV+T323T4DJEJAEBpIC5RoXTyqaZ5I+7Soue6KNivMDIX\n",
              "bkyXeUa8JnyXokNnLtl6IgAAFRpxiQqpQ8Nq+urpu7Toua4K8a+h/AKLvtt0RGEzEvTStylKyyAy\n",
              "AQC4E4hLVGgdGlbVF0911g+juyq0aWFkLtp8RGEz4hX+7VYdJDIBALAq4hKVQrsGVfX5k521ZEw3\n",
              "hTWrqQKLtHjzUfWYEa8XF27V/tMXbT0RAIAKgbhEpdLW21P/Ht5JPz7fTT2bF0bmD1uOqldUgsYt\n",
              "2KLUU0QmAAC3g7hEpdSmvqc+eaKTlj0fpJ7Na6nAIi3deky93knQ2PlblHrqgq0nAgBQLhGXqNRa\n",
              "1/fQJ0901E8vBOnuFrVksUg/phxTr3dW6/lvNmvvSSITAIDiIC4BSa3qeeijxztq+dgg9W5ZWxaL\n",
              "9NO247pn5mqN+Xqz9pwgMgEAKAriEvgvLet66MNhHfTLuGD1aVUYmcu3F0bm6K83afeJLFtPBACg\n",
              "TCMugZtoXsddHwztoBXjg3Vv6zoyGKSft59Q75mJevarTdp1jMgEAOBmihWX2dnZGjBggPz9/RUQ\n",
              "EKBevXopNTVVkmSxWPTGG2/I399frVu3ltlsviODgdLUrLa73nusvVaO76772hRG5oqdJ9R3dqJG\n",
              "frlRO46et/VEAADKlGJfuRw5cqT27NmjlJQU9e/fXyNGjJAkzZ49W9u2bdOOHTu0fft2zZ8/3+pj\n",
              "AVvxr+WmOY+216/ju6tfQF0ZDNKvu07qvneT9AyRCQDAdQaLxWIp6cEbN27UQw89pLS0NNWvX1+x\n",
              "sbHy9/cv0dcKDw9XVFRUSacApSr11AW9G5uqZSnHVHDtT1DP5jU1roe/Wtf3sO04AABs6Lbeczlr\n",
              "1iz1799fWVlZOnnypJYuXaq77rpLd911lxYuXHjL43JycpSVlXXDLT8//3amAKWqSU03zXqknVaF\n",
              "h+iBdvVkNEjRv59SvzlJeurzDUpJP2friQAA2IRdSQ+cPHmyUlNTFRMTo+zsbOXl5enKlStav369\n",
              "0tLS1LVrVzVr1kwBAQH/c+yUKVP05ptv3nBfYGBgSacANtO4RhW983BbvRDWRHNiU7Vk61HF7j6l\n",
              "2N2nZG5aQ+N6+qutt6etZwIAUGpK9LL49OnTtWDBAkVHR8vT01OS5ObmppSUFPn6+kqSBg0apHvu\n",
              "uef6ezL/W05OjnJycm64b+LEiZo1a1YJngJQdhzMuHQ9MvOvvV4e4l9D43r6qX2DqjZeBwDAnVfs\n",
              "l8WjoqI0f/58rVq16npYStKQIUO0YsUKSVJmZqaSk5PVpk2bm34NR0dHubu733AzmUwlewZAGdKo\n",
              "uqtmDA5QTHiIBnWoL5PRoIS9p/Xg+79p2KfrtelQpq0nAgBwRxXryuWRI0fk7e0tX19fubm5SSoM\n",
              "xfXr1+vMmTN68skndeDAAUnS6NGjNXr06CIP4QM9qIgOnbmk9+JStWjz/7+SGexXXeN6+KmjTzUb\n",
              "rwMAwPpu69Pi1kRcoiJLz7ys9+JS9f2mI8q7FpndmnhpXA9/dW5EZAIAKg5+Qg9QCryruehfA9so\n",
              "7uVQDencQHZGg9akntHguWs15KN1WnfgjK0nAgBgFcQlUIq8q7loyoOtFT8hVI/e1UD2JoPWHjij\n",
              "Rz5ap0c+Wqu1+4lMAED5RlwCNlC/qosmP9Ba8RPMGhrYQA4mo9YdyNSQj9dp8Ny1+m1/hsrIO1YA\n",
              "ACgW4hKwoXqezpo0oPBK5rDAhnIwGZV8MFOPfrxeD89dpzWpRCYAoHwhLoEyoK6ns94a0EoJEaF6\n",
              "oktDOdgZlZyWqcc+Wa9BH65V4r7TRCYAoFwgLoEypI6Hs97s30qrJ5g1vKuPHOyM2njorIZ9mqyB\n",
              "H/ym1XuJTABA2UZcAmVQbQ8nvXF/SyVGmPVkNx852hm1+fA5Pf7vZD34wW+K33OKyAQAlEnEJVCG\n",
              "1XJ30uv9CiPz6aBGcrI3asvhcxr+2QYNeP83xe0mMgEAZQtxCZQDNd2dNPG+FlodYdYzwYWRmZJ+\n",
              "Tk9+vkED3luj2N0niUwAQJlAXALlSE03J/3fvS2UGBGmkd195WxvUsqR83rq843q/94aRe8iMgEA\n",
              "tkVcAuVQDTdH/a1vcyVGmjUqxFcuDiZtO3JeI77cqH5zkvTrzhNEJgDAJohLoByrXsVRr/ZprsQI\n",
              "s54LbSxXB5N2HM3SyK826d7ZSVpJZAIAShlxCVQAXlUcFdm7mRIjwzT6WmTuOp6lUV9tUt/ZSVqx\n",
              "47gKCohMAMCdR1wCFUg1VwdF9G6mpMgwPW9uoiqOdvr9eJaenbdZfWcn6uftRCYA4M4iLoEKqKqr\n",
              "g16+p6mSIs0aG9ZEbo522n3igkZ/vVl9ZiVq+TYiEwBwZxCXQAXm6eKg8LubKikyTGN7+MnNyU57\n",
              "Tl7QmG82q/es1VqWckz5RCYAwIqIS6AS8HCxV3gvfyVFhml8z8LI3Hvyol6Yv0X3zFytpVuPEpkA\n",
              "AKsgLoFKxMPZXuN7Fkbmiz395e5kp9RTFzVuwVbd/U4CkQkAuG3EJVAJeTjba1xPPyW9EqaXevnL\n",
              "w9le+09f0rgFW9XrnQT9sOWI8vILbD0TAFAOEZdAJebuZK8XevgpKdKsCfc0laeLvQ6cvqQXF6ao\n",
              "1zurtWgTkQkAKB7iEoDcnOw1xtxESZFhmnBPU1V1sdfBjEt66bsU9YxK0PdEJgCgiIhLANdVcbTT\n",
              "GHMTJUaGKbJ3M1VzdVDamct6+bsU9YhK0Lcb05VLZAIA/gRxCeB/VHG003OhjZUYYdarfZrJy9VB\n",
              "h85cVsT32xQ2I14LNxwmMgEAN0VcArglV0c7jQpprMRIs/7Wt5mqV3FQeuYVRS7aLvP0eC1IPqyr\n",
              "eUQmAOD/Iy4B/CUXBzuN7N5YiRFheu3e5qpexVFHzl7RK4sLI/Ob9UQmAKAQcQmgyJwdTBoR7KvE\n",
              "CLMm3tdCNdwcdfTcFf3th8LInLfukHLy8m09EwBgQ8QlgGJzdjDp6aBGSoww6+/3tVDNa5H52pId\n",
              "Mr8dr6+ITACotIhLACXmZG/SU0GNtDrCrDf6tVAtd0cdO5+tiUt2KPTteH25Nk3ZuUQmAFQmxYrL\n",
              "7OxsDRgwQP7+/goICFCvXr2Umpp6w2NiY2NlMpk0c+ZMa+4EUIY52Zs0vFsjJUww6x/9W6q2u5OO\n",
              "n8/W35fuVMjbcfp8zUEiEwAqiWJfuRw5cqT27NmjlJQU9e/fXyNGjLj+z86fP69XXnlFffv2tepI\n",
              "AOWDk71Jj3fxUUJEqN7q31J1PJx0MitHbyzbpZC34/QZkQkAFV6x4tLJyUl9+/aVwWCQJAUGBiot\n",
              "Le36P3/++ef12muvycvLy6ojAZQvjnYmDevio/gJoZo0oJXqXovMN5ftUvC0OH2aRGQCQEV1W++5\n",
              "nDVrlvr37y9J+v7772U0GnX//ff/5XE5OTnKysq64Zafz79ogIrG0c6koYENFT/BrMkPtFY9T2ed\n",
              "vpCjt37apaCpcfok8YCuXOXPPgBUJCWOy8mTJys1NVVTpkzRiRMnNGnSJM2aNatIx06ZMkUeHh43\n",
              "3JKTk0s6BUAZ52Bn1KN3NVDcy6Ga8mBr1a/qrIyLOZq0/HcFT4vVx6sP6PLVPFvPBABYgcFisViK\n",
              "e9D06dO1YMECRUdHy9PTU8uXL9dTTz0lZ2dnSVJGRoYcHBz03HPP6Z///Of/HJ+Tk6OcnJwb7ps4\n",
              "cWKR4xRA+ZabX6DFm49oTlyq0jOvSJK8XB00sruvhnVpKBcHOxsvBACUVLHjMioqSl9//bWio6NV\n",
              "tWrVmz5m+PDhatu2rcaPH1/krxseHq6oqKjiTAFQzuXmF+iHLUc1JzZVhzMvS5KquTromWBfPd6l\n",
              "oVwdiUwAKG+K9bL4kSNH9NJLL+ncuXMym81q27at7rrrrju1DUAFZ28yanBHb8W8FKK3H2qjhl4u\n",
              "yrx0VVNX7FbQ1Fi9H5+qizm8XA4A5UmJXha/E7hyCSAvv0BLtx7TnLhUHcy4JEnydLG/fiXTzcne\n",
              "xgsBAH+Fn9ADoMywMxk1sEN9rXqxu955OEC+1V117nKu3l65R0FT4/RuzD5dyM619UwAwJ8gLgGU\n",
              "OXYmox5oV1+rwkM08+G28q3hqvNXcjVj1V4FTY3T7Jh9yiIyAaBMIi4BlFkmo0ED2tXTqhdDNOuR\n",
              "tmpSs4rOX8lV1Kq9CvpXrGZG79X5K0QmAJQlxCWAMs9kNKh/23paOb673h3STn41qygrO08zo/cp\n",
              "aGqsolbt1fnLRCYAlAXEJYByw2Q0qF9AXa0c311zHm0n/1pVdCE7T7NjrkXmr3t07vJVW88EgEqN\n",
              "uARQ7hiNBt3Xpq5WjOuu9x9rr2a13XQhJ0+zY1MVNDVO01fu0dlLRCYA2AJxCaDcMhoN6tu6jn4e\n",
              "G6wPhxZG5sWcPM2JS1XQ1FhNW7FbmUQmAJQq4hJAuWc0GtS71X8is4Na1HHXpav5ej9+v4Knxmoq\n",
              "kQkApYa4BFBhFEZmbS0fG6SPhnVQy7qFkflB/H4FTY3VlF9+15mLObaeCQAVGnEJoMIxGAy6u2Vt\n",
              "/fRCkD5+vKNa1XPX5av5mptwQEFT4zT559+VQWQCwB1BXAKosAwGg3q1qKVlzwfp0yc6qk19D13J\n",
              "zddHqw8oeGqc/rl8l05fIDIBwJqISwAVnsFgUI/mtbR0TDd9NryTAq5F5seJBxU8LVZv/bRLpy5k\n",
              "23omAFQIxCWASsNgMMjcrKaWjOmmz57spLbensrOLdCnSQcVPDVOby7bqVNZRCYA3A7iEkClYzAY\n",
              "ZG5aUz+M7qovnuqs9g08lZNXoM/WpCl4Wpze+HGnThKZAFAixCWASstgMCjEv4YWPddVXz3dWR0a\n",
              "VlVOXoE+/60wMl9fukMnzhOZAFAcdrYeAAC2ZjAYFOxXQ0FNqmtN6hnNitmrDWln9cXaQ5qfnK6H\n",
              "O3nrudDGquvpbOupAFDmEZcAcI3BYFCQX3V1a+KltfvPaGbMPiUfzNRX6w5p4YZ0De5UX6NDmxCZ\n",
              "APAniEsA+AODwaCuTaqra5PqhZEZvVfrD2Zq3rrDWrghXYM6emt0aGPVr+pi66kAUObwnksA+BNd\n",
              "Gntp4aguWjAyUF18vZSbb9E36w/LPD1ery7ervTMy7aeCABlCnEJAEUQ6Oul+SMD9e2oLurWpDAy\n",
              "5ycXRuYri7YRmQBwDXEJAMXQuVE1fT0iUN8920VBTaorr8CiBRvSZZ4er4jvU3T4DJEJoHIjLgGg\n",
              "BDr5VNO8EXdp0XNdFOxXGJnfbjwi84x4TfguRYfOXLL1RACwCeISAG5Dh4bV9NXTd2nRc10V4l9D\n",
              "+QUWfbfpiMJmJOilb1OUlkFkAqhciEsAsIIODavqi6c664fRXRXatDAyF20+orAZ8QpfuFUHTl+0\n",
              "9UQAKBXEJQBYUbsGVfX5k521ZEw3hTWrqQKLtHjLUfWMStCLC7dqP5EJoIIjLgHgDmjr7al/D++k\n",
              "H5/vpp7NCyPzhy1H1SsqQeMWbFHqKSITQMVEXALAHdSmvqc+eaKTlj0fpJ7Na6nAIi3deky93knQ\n",
              "2PlblHrqgq0nAoBVEZcAUApa1/fQJ0901E8vBOnuFrVksUg/phxTr3dW6/lvNmvvSSITQMVAXAJA\n",
              "KWpVz0MfPd5Ry8cGqXfL2rJYpJ+2Hdc9M1drzNebtecEkQmgfCtWXGZnZ2vAgAHy9/dXQECAevXq\n",
              "pdTUVEnSk08+ef3+bt26acOGDXdkMABUBC3reujDYR30y7hg9WlVGJnLtxdG5uivN2n3iSxbTwSA\n",
              "Ein2lcuRI0dqz549SklJUf/+/TVixAhJ0gMPPKBdu3YpJSVFr776qgYNGmT1sQBQ0TSv464PhnbQ\n",
              "ivHBurd1HRkM0s/bT6j3zEQ9+9Um7TpGZAIoXwwWi8VS0oM3btyohx56SGlpaTfcn5GRoTp16ujK\n",
              "lSuys7Mr0tcKDw9XVFRUSacAQIWw9+QFzY7Zp+Xbj+s/fzvf3aKWxvbwU6t6HrYdBwBFULTyu4VZ\n",
              "s2apf//+N72/b9++twzLnJwc5eTk3HBffn7+7UwBgArBv5ab5jzaXuNOXtDs2FT9tO2Yft11Ur/u\n",
              "OqleLWppHJEJoIwr8ZXLyZMna9myZYqJiZGLi8v1++fNm6e33npLq1evVq1atW567BtvvKE333zz\n",
              "hvsCAwO1du3akkwBgAor9dQFvRubqmUpx1Rw7W/rns1ralwPf7WuT2QCKHtKFJfTp0/XggULFB0d\n",
              "LU9Pz+v3L1y4UK+99ppiYmLUoEGDWx5/syuXEydO1KxZs4o7BQAqhf2nL2pObKqWbj16PTLDmtXU\n",
              "uB5+CvD2tOk2APhvxY7LqKgoff3114qOjlbVqlWv3//tt9/q//7v/xQdHa2GDRsWewjvuQSAv3bg\n",
              "WmQu+a/INDetoXE9/dWWyARQBhQrLo8cOSJvb2/5+vrKzc1NkuTo6Kj169fL3t5etWvXlpeX1/XH\n",
              "x8TE3PDrP0NcAkDRHcy4dD0y869VZoh/DY3r6af2Dar+xdEAcOfc1qfFrYm4BIDiS8u4pDlxqfph\n",
              "y/+PzGC/6hrf008dGlaz8ToAlRE/oQcAyjGf6q6aPihAsS+FaHDH+jIZDUrcl6GBH6zVsE/Xa2Na\n",
              "pq0nAqhkiEsAqAAaerlq2kMBin85VI908pbdtch86MO1euyTdUo+SGQCKB3EJQBUIN7VXPSvgW0U\n",
              "93KohnQujMw1qWc0eO5aDflondYdOGPriQAqOOISACog72oumvJgG8VPCNWjdzWQvcmgtQfO6JGP\n",
              "1umRj9Zq7X4iE8CdQVwCQAVWv6qLJj/QWvETzBoaWBiZ6w5kasjH6zR47lr9lpqhMvK5TgAVBHEJ\n",
              "AJVAPU9nTRrQWgkTzBoW2FAOJqOSD2bq0U/Wa/DctVpDZAKwEuISACqRup7OemtAKyVEhOqJLg3l\n",
              "YGfUhrSzeuyT9Rr04Vol7jtNZAK4LcQlAFRCdTyc9Wb/Vlo9wazhXX3kYGfUxkNnNezTZA384Dcl\n",
              "7CUyAZQMcQkAlVhtDye9cX9LJUaY9WQ3HznaGbX58Dk98e9kPfD+b4rfc4rIBFAsxCUAQLXcnfR6\n",
              "v8LIfDqokZzsjdqafk7DP9ugAe//prjdRCaAoiEuAQDX1XR30sT7Wmh1hFkjrkVmSvo5Pfn5Bg14\n",
              "b41ifj9JZAL4U8QlAOB/1HRz0mv3tVBiRJhGdveVs71JKUfO6+kvNur+OWsUvYvIBHBzxCUA4JZq\n",
              "uDnqb32bKzHSrFEhvnJxMGn70fMa8eVG9ZuTpF93niAyAdyAuAQA/KXqVRz1ap/mSoww69mQxnJx\n",
              "MGnH0SyN/GqT7p2dpBU7TqiggMgEQFwCAIrBq4qjXunTTEmRYRod2liuDibtOp6lZ+dtUt/ZiVqx\n",
              "4ziRCVRyxCUAoNiquTooondhZD5vbqIqjnbafeKCnp23WX1nJ+rn7UQmUFkRlwCAEqvq6qCX72mq\n",
              "pEizXghrIrdrkTn6683qMytRP207RmQClQxxCQC4bZ4uDnrp7qZKigzT2B5+cnOy056TF/T8N1t0\n",
              "z8zVWpZyTPlEJlApEJcAAKvxcLFXeC9/JUWGaXzPwsjcd+qiXphfGJlLtx4lMoEKjrgEAFidh7O9\n",
              "xvcsjMwXe/rL3clOqacuatyCrbr7nQQt2UJkAhUVcQkAuGM8nO01rqefkl4J00u9/OXhbK/9py9p\n",
              "/MKt6hWVoB+2HFFefoGtZwKwIuISAHDHuTvZ64UefkqKNGvCPU3l6WKvAxmX9OLCFPV6Z7UWbSIy\n",
              "gYqCuAQAlBo3J3uNMTdRUmSYJtzTVFVd7HUw45Je+i5FPaMS9N3GdCITKOeISwBAqaviaKcx5iZK\n",
              "jAxTZO9mqubqoLQzlzXh+20Km5GgbzemK5fIBMol4hIAYDNVHO30XGhjJUaY9WqfZvJyddDhzMuK\n",
              "+H6bwmbEa+GGw0QmUM4QlwAAm3N1tNOokMZKjDTrb32bqXoVB6VnXlHkou0yT4/X/OTDuppHZALl\n",
              "AXEJACgzXBzsNLJ7YyVGhOm1e5urehVHHTl7Ra8uLozMb9YTmUBZR1wCAMocZweTRgT7KjHCrNfu\n",
              "ba4abo46eu6K/vZDYWTOW3dIOXn5tp4J4CaKFZfZ2dkaMGCA/P39FRAQoF69eik1NVWSdOrUKfXu\n",
              "3Vt+fn5q1aqVVq9efUcGAwAqj/+OzL/f10I1r0Xma0t2yPx2vL5am0ZkAmVMsa9cjhw5Unv27FFK\n",
              "Sor69++vESNGSJJeeeUVBQYGat++ffrss8/06KOPKjc31+qDAQCVj5O9SU8FNdLqCLPe6NdCtdwd\n",
              "dex8tiYu3amQafH6cm2asnOJTKAsKFZcOjk5qW/fvjIYDJKkwMBApaWlSZK+/fZbPfvss5KkTp06\n",
              "qW7dukpISLDuWgBApeZkb9Lwbo2UMMGsN+9vqdruTjqRla2/L92pkLfj9Pmag0QmYGO39Z7LWbNm\n",
              "qX///jpz5oxyc3NVu3bt6//Mx8dHhw8fvulxOTk5ysrKuuGWn89fBgCAonGyN+mJrj5KiAjVW/1b\n",
              "qo6Hk05m5eiNZbvUfVqc/p1EZAK2UuK4nDx5slJTUzVlypRiHztlyhR5eHjccEtOTi7pFABAJeVo\n",
              "Z9KwLj6KnxCqSQNaqa6Hk05dyNE/ftql4Glx+pTIBEpdieJy+vTpWrx4sX755Re5uLjIy8tLdnZ2\n",
              "OnHixPXHpKWlqUGDBjc9/tVXX9X58+dvuHXu3LlkzwAAUOk52pk0NLCh4iaE6p8PtFI9T2edvpCj\n",
              "t37apaCpcfok8YCuXCUygdJQ7LiMiorS/PnztWrVKnl6el6/f9CgQfrwww8lSRs2bNDRo0cVEhJy\n",
              "06/h6Ogod3f3G24mk6lkzwAAgGsc7Ux67K6Gins5VFMebK36VZ2VcTFHk5b/ruBpsfpo9X5dvppn\n",
              "65lAhWawWCyWoj74yJEj8vb2lq+vr9zc3CQVhuL69et18uRJDRs2TAcPHpSDg4PmzJkjs9lc5CHh\n",
              "4eGKiooq/jMAAOAWcvMLtHjzEb0bm6ojZ69IkrxcHTSyu6+GdWkoFwc7Gy8EKp5ixeWdRFwCAO6U\n",
              "3PwC/bD5qObEpepw5mVJUjVXBz0T7KvHuzSUqyORCVgLP6EHAFDh2ZuMGtzJWzEvhejth9qooZeL\n",
              "Mi9d1dQVuxU0NVbvxaXqYg4vlwPWQFwCACoNe5NRgzp6KyY8RDMGBcjHy0VnL+fq7ZV7rkfmhWx+\n",
              "AAhwO4hLAEClY2cyamCH+ooOD1HU4AD5VnfVueuRGad3Y/YRmUAJEZcAgErLzmTUg+3ra1V4iGY+\n",
              "3Fa+NVx1/kquZqzaq27/itWs6H3KIjKBYiEuAQCVnslo0IB29bTqxRDNeqStGtdwVVZ2nt6J3qug\n",
              "f8VqZvRenb9CZAJFQVwCAHCNyWhQ/7b19OuLIZo9pJ38alZRVnaeZkbvU9DUWEWt2qvzl4lM4M8Q\n",
              "lwAA/IHJaND9AXW1cnx3zXm0nfxrVdGF7DzNjrkWmb/u0bnLV209EyiTiEsAAG7BaDTovjZ1tWJc\n",
              "d73/WHs1reWmCzl5mh2bqqCpcZq+co/OXiIygf9GXAIA8BeMRoP6tq6jX8YF64PH2qtZbTddzMnT\n",
              "nLhUBU2N1bQVu5VJZAKSiEsAAIrMaDSoT+s6+nlssD4c2kEt6rjr0tV8vR+/X8FTYzWVyASISwAA\n",
              "istoNKh3q9paPjZIHw3roJZ1CyPzg/j9Cpoaqym//K4zF3NsPROwCeISAIASMhgMurtlbf30QpA+\n",
              "fryjWtVz1+Wr+ZqbcEBBU+M0+efflUFkopIhLgEAuE0Gg0G9WtTSsueD9OkTHdWmvoeu5Obro9UH\n",
              "FDw1Tv9cvkunLxCZqByISwAArMRgMKhH81paOqabPhveSQHXIvPjxIMKnhart37apVMXsm09E7ij\n",
              "iEsAAKzMYDDI3Kymlozpps+e7KS23p7Kzi3Qp0kHFTw1Tm8u26lTWUQmKibiEgCAO8RgMMjctKZ+\n",
              "GN1VXzzVWe0beConr0CfrUlT8LQ4vfHjTp0kMlHBEJcAANxhBoNBIf41tOi5rvrq6c7q0LCqcvIK\n",
              "9PlvhZH5+tIdOnGeyETFYGfrAQAAVBYGg0HBfjUU1KS61qSe0ayYvdqQdlZfrD2k+cnperiTt54L\n",
              "bay6ns62ngqUGHEJAEApMxgMCvKrrm5NvLR2/xnNjNmn5IOZ+mrdIS3ckK7BneprdGgTIhPlEnEJ\n",
              "AICNGAwGdW1SXV2bVC+MzOi9Wn8wU/PWHdbCDeka1NFbo0Mbq35VF1tPBYqM91wCAFAGdGnspYWj\n",
              "umjByEB18fVSbr5F36w/LPP0eL26eLvSMy/beiJQJMQlAABlSKCvl+aPDNTCkYHq2rgwMucnF0bm\n",
              "K4u2EZko84hLAADKoLt8vfTNM4H67tkuCmpSXXkFFi3YkC7z9HhFfJ+iw2eITJRNxCUAAGVYJ59q\n",
              "mjfiLi16rouC/Qoj89uNR2SeEa8J36Xo0JlLtp4I3IC4BACgHOjQsJq+evouLXquq7r711B+gUXf\n",
              "bTqisBkJeunbFKVlEJkoG4hLAADKkQ4Nq+rLpzrrh9FdFdq0MDIXbT6isBnxCl+4VQdOX7T1RFRy\n",
              "xCUAAOVQuwZV9fmTnbVkTDeFNaupAou0eMtR9YxK0IsLt2o/kQkbIS4BACjH2np76t/DO2npmG7q\n",
              "cS0yf9hyVL2iEjRuwRalniIyUbqKFZdjx46Vj4+PDAaDtm7dev3+n3/+We3bt1fbtm3VqlUrffHF\n",
              "F9beCQAA/kSAt6c+Hd5Jy54PUs/mtVRgkZZuPaZe7yTohflbtO/kBVtPRCVhsFgslqI+ePXq1fL1\n",
              "9VVQUJCWLFmitm3bymKxyMvLS/Hx8WrTpo3S0tLUrFkznT59Wm5ubkUeEh4erqioqBI9CQAAcKMd\n",
              "R89rdsw+/brrpCTJYJDubV1HY3v4yb9W0f/9DBRXsX78Y/fu3W96v8Fg0Llz5yRJWVlZ8vLykqOj\n",
              "422PAwAAJdOqnoc+eryjdh4rjMyVO0/qp23HtXz7cfVtVRiZTWsTmbC+2/7Z4gaDQQsXLtSDDz4o\n",
              "V1dXnT17VosXL5aDg8Mtj8nJyVFOTs4N9+Xn59/uFAAA8Act63po7rCO+v14lmbH7NMvO05o+fbC\n",
              "yOzTqrbG9vBT8zrutp6JCuS2P9CTl5enSZMmafHixTp06JBiYmI0bNgwZWRk3PKYKVOmyMPD44Zb\n",
              "cnLy7U4BAAC30LyOuz4Y2kErxgfr3tZ1JEm/7DihPrMS9exXm7TrWJaNF6KiuO243Lp1q44dO3b9\n",
              "JfNOnTqpfv362rJlyy2PefXVV3X+/Pkbbp07d77dKQAA4C80q+2u9x5rr5Xju+veNnVkMEgrdp5Q\n",
              "39mJGvnlRu04et7WE1HO3XZcent76/jx4/r9998lSampqdq/f7+aNm16y2McHR3l7u5+w81kMt3u\n",
              "FAAAUERNa7vpvUfb69fx3dUvoK4MBunXXSd137tJGvEFkYmSK9Z7LkeNGqXly5frxIkTuueee+Tm\n",
              "5qbU1FR99NFHGjx4sIxGowoKCjRnzhw1aNDgTm0GAABW4lfLTe8OaadxPZro3dhU/ZhyTNG/n1T0\n",
              "7yfVs3lNjevhr9b1PWw9E+VIsb4V0Z3EtyICAMD2Uk9d1JzYffox5ZgKrhVCWLOaGtfDTwHenjbd\n",
              "hvKBn9ADAACua1KzimY+0k7R4SF6sF09GQ1S7O5T6v/eGg3/LFlbDp+19USUccQlAAD4H741qijq\n",
              "4baKeSlUA9vXl8loUPye03rg/d/0xL+TtZnIxC0QlwAA4JYaVXfVjMEBigkP0UMdCiMzYe9pPfj+\n",
              "bxr26XptOpRp64koY4hLAADwl3yqu2r6oADFvhSiwR0LIzNxX4YGfrBWQz9Zrw1pRCYKEZcAAKDI\n",
              "Gnq5atpDAYp/OVSPdPKWndGgpNQMDfpwrR77ZJ2SDxKZlR1xCQAAis27mov+NbCN4l4O1ZDOhZG5\n",
              "JvWMBs9dqyEfrdO6A2dsPRE2QlwCAIAS867moikPtlH8hFA9elcD2ZsMWnvgjB75aJ0enrtWa/cT\n",
              "mZUNcQkAAG5b/aoumvxAa8VPMGtoYGFkrj+YqSEfr9PguWv1W2qGysi31sYdRlwCAACrqefprEkD\n",
              "WithglnDAhvKwWRU8sFMPfrJeg2eu1ZriMwKj7gEAABWV9fTWW8NaKWEiFA90aWhHOyM2pB2Vo99\n",
              "sl6DPlyrxH2nicwKirgEAAB3TB0PZ73Zv5VWTzBreFcfOdgZtfHQWQ37NFkDP/hNCXuJzIqGuAQA\n",
              "AHdcbQ8nvXF/SyVGmPVkNx852hm1+fA5PfHvZD3w/m+K33OKyKwgiEsAAFBqark76fV+hZH5dFAj\n",
              "OdkbtTX9nIZ/tkED3v9NcbuJzPKOuAQAAKWupruTJt7XQqsjzBpxLTJT0s/pyc83qP97axTz+0ki\n",
              "s5wiLgEAgM3UdHPSa/e1UGJEmEZ295WzvUnbjpzX019s1P1z1ih6F5FZ3hCXAADA5mq4OepvfZsr\n",
              "MdKsUSG+cnEwafvR8xrx5Ub1m5OkX3eeIDLLCeISAACUGdWrOOrVPs2VGGHWsyGN5eJg0o6jWRr5\n",
              "1SbdOztJK3acUEEBkVmWEZcAAKDM8ariqFf6NFNSZJhGhzaWq4NJu45n6dl5m9R3dqJW7DhOZJZR\n",
              "xCUAACizqrk6KKJ3YWQ+b26iKo522n3igp6dt1l9Zyfq5+1EZllDXAIAgDKvqquDXr6nqZIizXoh\n",
              "rIncrkXm6K83q8+sRP207RiRWUYQlwAAoNzwdHHQS3c3VVJkmMb28JObo532nLyg57/Zontmrtay\n",
              "lGPKJzJtirgEAADljoeLvcJ7+SspMkzjevjJzclO+05d1AvzCyNz6dajRKaNEJcAAKDc8nCx14vX\n",
              "IvPFnv5yd7JT6qmLGrdgq+5+J0FLthCZpY24BAAA5Z6Hs73G9fRT0itheqmXvzyc7bX/9CWNX7hV\n",
              "vaIS9MOWI8rLL7D1zEqBuAQAABWGu5O9Xujhp6RIs16+21+eLvY6kHFJLy5MUa93VmvRJiLzTiMu\n",
              "AQBAhePmZK/nw/yUFBmmCfc0VVUXex3MuKSXvktRz6gEfbcxnci8Q4hLAABQYVVxtNMYcxMlRoYp\n",
              "snczVXN1UNqZy5rw/TaFzUjQtxvTlUtkWhVxCQAAKrwqjnZ6LrSxEiPMeqVPM3m5Ouhw5mVFfL9N\n",
              "YTPitXDDYSLTSohLAABQabg62unZkMZKjDTrb32bqXoVB6VnXlHkou0yT4/X/OTDuppHZN6OYsXl\n",
              "2LFj5ePjI4PBoK1bt16/PycnR88//7z8/PzUunVrDR061No7AQAArMbFwU4juzdWYkSYXru3uapX\n",
              "cdSRs1f06uLCyPxmPZFZUsWKy4ceekhJSUlq2LDhDfe/8sorMhgM2rt3r7Zv367p06dbdSQAAMCd\n",
              "4Oxg0ohgXyVGmPXavc1Vw81RR89d0d9+KIzMeesOKScv39YzyxWDxWIp9ncW9fHx0ZIlS9S2bVtd\n",
              "unRJderU0ZEjR+Tu7l7iIeHh4YqKiirx8QAAALcrOzdf36w/rA8T9uvUhRxJUh0PJ40ObazBnbzl\n",
              "aGey8cKy77bfc7l//35Vq1ZNkydPVseOHRUcHKyYmJg/PSYnJ0dZWVk33PLz+a8CAABgW072Jj0V\n",
              "1EirI8x6o18L1XJ31PHz2Zq4dKdCpsXry7Vpys6lWf7MbcdlXl6eDh06pBYtWmjjxo2aPXu2Hn74\n",
              "YZ08efKWx0yZMkUeHh433JKTk293CgAAgFU42Zs0vFsjJUww6837W6q2u5NOZGXr70t3KuTtOH2+\n",
              "5iCReQu3HZcNGjSQ0WjUY489Jklq166dGjVqpO3bt9/ymFdffVXnz5+/4da5c+fbnQIAAGBVTvYm\n",
              "PdHVR/ETQvVW/5aq4+Gkk1k5emPZLnWfFqd/JxGZf3TbcVm9enX16NFDK1eulCQdPHhQBw8eVPPm\n",
              "zW95jKOjo9zd3W+4mUy8hwEAAJRNTvYmDetSGJmTBrRSXQ8nnbqQo3/8tEvB0+L0KZF5XbE+0DNq\n",
              "1CgtX75cJ06ckJeXl9zc3JSamqoDBw7o6aefVkZGhoxGo/7+979r4MCBxRrCB3oAAEB5kZOXr+83\n",
              "HdH7cft19NwVSVL1Ko56NsRXj93VUM4OlfeiWYk+LX4nEJcAAKC8uZpXoEWbj+i9uFQdOfufyHTQ\n",
              "yO6+GhrYUC4OdjZeWPr4CT0AAAAl5GBn1JDODRT3cqimDmyt+lWdlXHxqib/vFvBU+M0N2G/Ll/N\n",
              "s/XMUkVcAgAA3CZ7k1EPdyqMzGkD26hBNReduXRVU37ZraCpcfogfr8u5VSOyCQuAQAArMTeZNTg\n",
              "Tt6KeSlEbz/URg29XJR56aqmrtitoKmxei8uVRcreGQSlwAAAFZmbzJqUEdvxYSHaMagAPl4uejs\n",
              "5Vy9vXLP9ci8kJ1r65l3BHEJAABwh9iZjBrYob6iw0MUNThAvtVdde56ZMbp3Zh9yqpgkUlcAgAA\n",
              "3GF2JqMebF9fq8JDNPPhtvKt4arzV3I1Y9VeBf0rVrOiK05kEpcAAAClxGQ0aEC7elr1YohmPdJW\n",
              "jWu4Kis7T+9EF0bmzOi9On+lfEcmcQkAAFDKTEaD+retp19fDNHsIe3kV7OKsrLzNDN6n4Kmxipq\n",
              "1V6dv1w+I5O4BAAAsBGT0aD7A+pq5fjumvNoO/nXqqIL2XmaHXMtMn/do3OXr9p6ZrEQlwAAADZm\n",
              "NBp0X5u6WjGuu95/rL2a1nLThZw8zY5NVdDUOE1fuUdnL5WPyCQuAQAAygij0aC+revol3HB+uCx\n",
              "9mpW200Xc/I0Jy5VQVNjNW3FbmWW8cgkLgEAAMoYo9GgPq3r6OexwfpwaAe1qOOuS1fz9X78fgVP\n",
              "jdXUMhyZxCUAAEAZZTQa1LtVbS0fG6SPhnVQy7qFkflB/H4FTY3VlF9+15Wr+baeeQPiEgAAoIwz\n",
              "GAy6u2Vt/fRCkD5+vKNa1XPX5av5ivn9lBzsylbO2dl6AAAAAIrGYDCoV4ta6tm8pmJ3n5K9ySiT\n",
              "0WDrWTcgLgEAAMoZg8GgHs1r2XrGTZWt66gAAAAo14hLAAAAWA1xCQAAAKshLgEAAGA1xCUAAACs\n",
              "hrgEAACA1RCXAAAAsBriEgAAAFZDXAIAAMBqiEsAAABYDXEJAAAAqzFYLBaLrUdI0oMPPigfH59S\n",
              "+b3y8/OVnJyszp07y2QylcrvCeviHJZ/nMPyjfNX/nEOyz9bnMOGDRtq3Lhxf/qYMhOXpSkrK0se\n",
              "Hh46f/683N3dbT0HJcA5LP84h+Ub56/84xyWf2X1HPKyOAAAAKyGuAQAAIDVEJcAAACwmkoZl46O\n",
              "jnr99dfl6Oho6ykoIc5h+cc5LN84f+Uf57D8K6vnsFJ+oAcAAAB3RqW8cgkAAIA7g7gEAACA1RCX\n",
              "AAAAsJoKHZf79u1T165d5e/vr06dOmnnzp03fdynn34qPz8/NW7cWM8884xyc3NLeSlupSjnMDY2\n",
              "Vp07d1aLFi3UsmVLRUREqKCgwAZr8UdF/TMoSRaLRWFhYfL09Cy9gfhLRT2H27dvV2hoqJo3b67m\n",
              "zZtr8eLFpbwUt1KUc1hQUKDw8HC1aNFCbdq0kdlsVmpqqg3W4o/Gjh0rHx8fGQwGbd269ZaPK1Mt\n",
              "Y6nAzGaz5bPPPrNYLBbLd999Z+nYseP/PObAgQOWOnXqWI4fP24pKCiw9OvXzzJnzpxSXopbKco5\n",
              "3Lx5s2X//v0Wi8ViuXLliqVbt27Xj4FtFeX8/ceMGTMsI0aMsHh4eJTOOBRJUc7hpUuXLI0aNbIk\n",
              "JiZaLBaLJS8vz3Lq1KnSnIk/UZRz+MMPP1g6d+5suXr1qsVisVjeeusty6BBg0pzJm4hISHBkp6e\n",
              "bmnYsKFly5YtN31MWWuZChuXJ0+etLi5uVlyc3MtFovFUlBQYKlVq5Zl3759Nzxu2rRpllGjRl3/\n",
              "9fLlyy3dunUr1a24uaKewz8aM2aM5fXXXy+FhfgzxTl/O3bssAQHB1tSU1OJyzKkqOfw448/tgwZ\n",
              "MsQWE/EXinoOlyxZYgkICLBkZWVZCgoKLBMmTLC8+OKLtpiMW/izuCxrLVNhXxZPT09XnTp1ZGdn\n",
              "J0kyGAxq0KCBDh8+fMPjDh8+rIYNG17/tY+Pz/88BrZR1HP4306cOKHvv/9e9913X2nNxC0U9fzl\n",
              "5ubqmWee0dy5c2UymWwxFbdQ1HO4a9cuOTo66r777lPbtm31+OOP6/Tp07aYjD8o6jns16+fQkND\n",
              "Vbt2bdWpU0cxMTH6xz/+YYvJKIGy1jIVNi5R+WRlZalfv36KiIhQx44dbT0HRfTmm2/qwQcfVPPm\n",
              "zW09BSWUl5en6OhozZ07V1u2bFG9evX03HPP2XoWimHjxo3asWOHjh49qmPHjqlHjx569tlnbT0L\n",
              "5VSFjUtvb28dP35ceXl5kgo/LHD48GE1aNDghsc1aNBAhw4duv7rtLS0/3kMbKOo51CSLly4oN69\n",
              "e6t///4KDw8v7am4iaKev4SEBL377rvy8fFRUFCQsrKy5OPjw5WvMqA4f4+azWbVq1dPBoNBQ4cO\n",
              "1bp162wxGX9Q1HP45ZdfXv9AndFo1BNPPKG4uDhbTEYJlLWWqbBxWbNmTbVv317z5s2TJC1atEj1\n",
              "69dXkyZNbnjcwIED9eOPP+rEiROyWCz68MMP9cgjj9hiMv6gqOfw4sWL6t27t3r37q3XXnvNFlNx\n",
              "E0U9f4mJiTp06JDS0tKUlJQkd3d3paWlqUaNGraYjf9S1HM4ePBgbdiwQVlZWZKkn3/+WQEBAaW+\n",
              "F/+rqOfQ19dXsbGxunr1qiTpp59+UqtWrUp9L0qmzLWMzd7tWQp2795tCQwMtPj5+Vk6dOhg2bZt\n",
              "m8VisViefvppy9KlS68/7qOPPrL4+vpafH19LU899dT1T8vB9opyDidNmmSxs7OzBAQEXL9NmjTJ\n",
              "lrNxTVH/DP7HwYMH+UBPGVPUc/jll19aWrZsaWndurWld+/elsOHD9tqMv6gKOcwOzvbMmLECEuz\n",
              "Zs0srVu3tvTq1ev6d+GAbY0cOdJSr149i8lkstSsWdPSuHFji8VStluGny0OAAAAq6mwL4sDAACg\n",
              "9BGXAAAAsBriEgAAAFZDXAIAAMBqiEsAAABYDXEJAAAAqyEuAQAAYDXEJQAAAKyGuAQAAIDVEJcA\n",
              "AACwGuISAAAAVvP/ABpqjq31NTL2AAAAAElFTkSuQmCC\n",
              "\">\n",
              "      </div>\n",
              "      <script type=\"text/javascript\">\n",
              "        (() => {\n",
              "          const chartElement = document.getElementById(\"chart-974f4c03-979d-4951-8281-dbfd7b3d9314\");\n",
              "          async function getCodeForChartHandler(event) {\n",
              "            const chartCodeResponse =  await google.colab.kernel.invokeFunction(\n",
              "                'getCodeForChart', [\"chart-974f4c03-979d-4951-8281-dbfd7b3d9314\"], {});\n",
              "            const responseJson = chartCodeResponse.data['application/json'];\n",
              "            await google.colab.notebook.addCell(responseJson.code, 'code');\n",
              "          }\n",
              "          chartElement.onclick = getCodeForChartHandler;\n",
              "        })();\n",
              "      </script>\n",
              "      <style>\n",
              "        .colab-quickchart-chart-with-code  {\n",
              "            display: block;\n",
              "            float: left;\n",
              "            border: 1px solid transparent;\n",
              "        }\n",
              "\n",
              "        .colab-quickchart-chart-with-code:hover {\n",
              "            cursor: pointer;\n",
              "            border: 1px solid #aaa;\n",
              "        }\n",
              "      </style>"
            ]
          },
          "metadata": {}
        }
      ],
      "source": [
        "data = [{'a':10,\"b\":20},{'a':5,'b':10,'c':20}]\n",
        "pd.DataFrame(data)\n",
        "\n",
        "#change 19\n",
        "#added a new dataframe\n",
        "#added graphs but no idea if they are accurate or not?\n",
        "data = [{'a':10,\"b\":20, 'c':30,\"d\":40, 'e':50,\"f\":60},{'a':5,'b':10,'c':15, 'd':20,'e':25,'f':30, 'g':35}]\n",
        "pd.DataFrame(data)"
      ]
    },
    {
      "cell_type": "code",
      "execution_count": null,
      "metadata": {
        "id": "7lflySriyOl_",
        "outputId": "90e4af80-6ee4-435b-c24d-3f0aae9660b0"
      },
      "outputs": [
        {
          "data": {
            "text/html": [
              "<div>\n",
              "<style scoped>\n",
              "    .dataframe tbody tr th:only-of-type {\n",
              "        vertical-align: middle;\n",
              "    }\n",
              "\n",
              "    .dataframe tbody tr th {\n",
              "        vertical-align: top;\n",
              "    }\n",
              "\n",
              "    .dataframe thead th {\n",
              "        text-align: right;\n",
              "    }\n",
              "</style>\n",
              "<table border=\"1\" class=\"dataframe\">\n",
              "  <thead>\n",
              "    <tr style=\"text-align: right;\">\n",
              "      <th></th>\n",
              "      <th>a</th>\n",
              "      <th>b</th>\n",
              "      <th>c</th>\n",
              "    </tr>\n",
              "  </thead>\n",
              "  <tbody>\n",
              "    <tr>\n",
              "      <th>0</th>\n",
              "      <td>10</td>\n",
              "      <td>20</td>\n",
              "      <td>30</td>\n",
              "    </tr>\n",
              "    <tr>\n",
              "      <th>1</th>\n",
              "      <td>5</td>\n",
              "      <td>10</td>\n",
              "      <td>20</td>\n",
              "    </tr>\n",
              "  </tbody>\n",
              "</table>\n",
              "</div>"
            ],
            "text/plain": [
              "    a   b   c\n",
              "0  10  20  30\n",
              "1   5  10  20"
            ]
          },
          "execution_count": 22,
          "metadata": {},
          "output_type": "execute_result"
        }
      ],
      "source": [
        "data = [{'a':10,\"b\":20,\"c\":30},{'a':5,'b':10,'c':20}]\n",
        "pd.DataFrame(data)"
      ]
    },
    {
      "cell_type": "markdown",
      "metadata": {
        "id": "VrGbOC0eyOl_"
      },
      "source": [
        "## 11.4 Dataframe creation from a dict of tuples"
      ]
    },
    {
      "cell_type": "markdown",
      "metadata": {
        "id": "U2cukZnYyOl_"
      },
      "source": [
        " - You can automatically create a multi indexed by passing a tuple dictionary."
      ]
    },
    {
      "cell_type": "code",
      "execution_count": 32,
      "metadata": {
        "id": "WD98AEpOyOl_",
        "outputId": "0e72dd1e-4a07-4b3b-9c72-76c98331267b",
        "colab": {
          "base_uri": "https://localhost:8080/",
          "height": 143
        }
      },
      "outputs": [
        {
          "output_type": "execute_result",
          "data": {
            "text/plain": [
              "  Initial     Sex  Age\n",
              "0     Cat    Male    9\n",
              "1     Ate  Female    3\n",
              "2    Meat  Female   10"
            ],
            "text/html": [
              "\n",
              "  <div id=\"df-80567ffd-a95f-463c-bd1a-f08d75184470\" class=\"colab-df-container\">\n",
              "    <div>\n",
              "<style scoped>\n",
              "    .dataframe tbody tr th:only-of-type {\n",
              "        vertical-align: middle;\n",
              "    }\n",
              "\n",
              "    .dataframe tbody tr th {\n",
              "        vertical-align: top;\n",
              "    }\n",
              "\n",
              "    .dataframe thead th {\n",
              "        text-align: right;\n",
              "    }\n",
              "</style>\n",
              "<table border=\"1\" class=\"dataframe\">\n",
              "  <thead>\n",
              "    <tr style=\"text-align: right;\">\n",
              "      <th></th>\n",
              "      <th>Initial</th>\n",
              "      <th>Sex</th>\n",
              "      <th>Age</th>\n",
              "    </tr>\n",
              "  </thead>\n",
              "  <tbody>\n",
              "    <tr>\n",
              "      <th>0</th>\n",
              "      <td>Cat</td>\n",
              "      <td>Male</td>\n",
              "      <td>9</td>\n",
              "    </tr>\n",
              "    <tr>\n",
              "      <th>1</th>\n",
              "      <td>Ate</td>\n",
              "      <td>Female</td>\n",
              "      <td>3</td>\n",
              "    </tr>\n",
              "    <tr>\n",
              "      <th>2</th>\n",
              "      <td>Meat</td>\n",
              "      <td>Female</td>\n",
              "      <td>10</td>\n",
              "    </tr>\n",
              "  </tbody>\n",
              "</table>\n",
              "</div>\n",
              "    <div class=\"colab-df-buttons\">\n",
              "\n",
              "  <div class=\"colab-df-container\">\n",
              "    <button class=\"colab-df-convert\" onclick=\"convertToInteractive('df-80567ffd-a95f-463c-bd1a-f08d75184470')\"\n",
              "            title=\"Convert this dataframe to an interactive table.\"\n",
              "            style=\"display:none;\">\n",
              "\n",
              "  <svg xmlns=\"http://www.w3.org/2000/svg\" height=\"24px\" viewBox=\"0 -960 960 960\">\n",
              "    <path d=\"M120-120v-720h720v720H120Zm60-500h600v-160H180v160Zm220 220h160v-160H400v160Zm0 220h160v-160H400v160ZM180-400h160v-160H180v160Zm440 0h160v-160H620v160ZM180-180h160v-160H180v160Zm440 0h160v-160H620v160Z\"/>\n",
              "  </svg>\n",
              "    </button>\n",
              "\n",
              "  <style>\n",
              "    .colab-df-container {\n",
              "      display:flex;\n",
              "      gap: 12px;\n",
              "    }\n",
              "\n",
              "    .colab-df-convert {\n",
              "      background-color: #E8F0FE;\n",
              "      border: none;\n",
              "      border-radius: 50%;\n",
              "      cursor: pointer;\n",
              "      display: none;\n",
              "      fill: #1967D2;\n",
              "      height: 32px;\n",
              "      padding: 0 0 0 0;\n",
              "      width: 32px;\n",
              "    }\n",
              "\n",
              "    .colab-df-convert:hover {\n",
              "      background-color: #E2EBFA;\n",
              "      box-shadow: 0px 1px 2px rgba(60, 64, 67, 0.3), 0px 1px 3px 1px rgba(60, 64, 67, 0.15);\n",
              "      fill: #174EA6;\n",
              "    }\n",
              "\n",
              "    .colab-df-buttons div {\n",
              "      margin-bottom: 4px;\n",
              "    }\n",
              "\n",
              "    [theme=dark] .colab-df-convert {\n",
              "      background-color: #3B4455;\n",
              "      fill: #D2E3FC;\n",
              "    }\n",
              "\n",
              "    [theme=dark] .colab-df-convert:hover {\n",
              "      background-color: #434B5C;\n",
              "      box-shadow: 0px 1px 3px 1px rgba(0, 0, 0, 0.15);\n",
              "      filter: drop-shadow(0px 1px 2px rgba(0, 0, 0, 0.3));\n",
              "      fill: #FFFFFF;\n",
              "    }\n",
              "  </style>\n",
              "\n",
              "    <script>\n",
              "      const buttonEl =\n",
              "        document.querySelector('#df-80567ffd-a95f-463c-bd1a-f08d75184470 button.colab-df-convert');\n",
              "      buttonEl.style.display =\n",
              "        google.colab.kernel.accessAllowed ? 'block' : 'none';\n",
              "\n",
              "      async function convertToInteractive(key) {\n",
              "        const element = document.querySelector('#df-80567ffd-a95f-463c-bd1a-f08d75184470');\n",
              "        const dataTable =\n",
              "          await google.colab.kernel.invokeFunction('convertToInteractive',\n",
              "                                                    [key], {});\n",
              "        if (!dataTable) return;\n",
              "\n",
              "        const docLinkHtml = 'Like what you see? Visit the ' +\n",
              "          '<a target=\"_blank\" href=https://colab.research.google.com/notebooks/data_table.ipynb>data table notebook</a>'\n",
              "          + ' to learn more about interactive tables.';\n",
              "        element.innerHTML = '';\n",
              "        dataTable['output_type'] = 'display_data';\n",
              "        await google.colab.output.renderOutput(dataTable, element);\n",
              "        const docLink = document.createElement('div');\n",
              "        docLink.innerHTML = docLinkHtml;\n",
              "        element.appendChild(docLink);\n",
              "      }\n",
              "    </script>\n",
              "  </div>\n",
              "\n",
              "\n",
              "<div id=\"df-9be0fc91-9140-48d8-9dbe-0ca8497d4846\">\n",
              "  <button class=\"colab-df-quickchart\" onclick=\"quickchart('df-9be0fc91-9140-48d8-9dbe-0ca8497d4846')\"\n",
              "            title=\"Suggest charts\"\n",
              "            style=\"display:none;\">\n",
              "\n",
              "<svg xmlns=\"http://www.w3.org/2000/svg\" height=\"24px\"viewBox=\"0 0 24 24\"\n",
              "     width=\"24px\">\n",
              "    <g>\n",
              "        <path d=\"M19 3H5c-1.1 0-2 .9-2 2v14c0 1.1.9 2 2 2h14c1.1 0 2-.9 2-2V5c0-1.1-.9-2-2-2zM9 17H7v-7h2v7zm4 0h-2V7h2v10zm4 0h-2v-4h2v4z\"/>\n",
              "    </g>\n",
              "</svg>\n",
              "  </button>\n",
              "\n",
              "<style>\n",
              "  .colab-df-quickchart {\n",
              "      --bg-color: #E8F0FE;\n",
              "      --fill-color: #1967D2;\n",
              "      --hover-bg-color: #E2EBFA;\n",
              "      --hover-fill-color: #174EA6;\n",
              "      --disabled-fill-color: #AAA;\n",
              "      --disabled-bg-color: #DDD;\n",
              "  }\n",
              "\n",
              "  [theme=dark] .colab-df-quickchart {\n",
              "      --bg-color: #3B4455;\n",
              "      --fill-color: #D2E3FC;\n",
              "      --hover-bg-color: #434B5C;\n",
              "      --hover-fill-color: #FFFFFF;\n",
              "      --disabled-bg-color: #3B4455;\n",
              "      --disabled-fill-color: #666;\n",
              "  }\n",
              "\n",
              "  .colab-df-quickchart {\n",
              "    background-color: var(--bg-color);\n",
              "    border: none;\n",
              "    border-radius: 50%;\n",
              "    cursor: pointer;\n",
              "    display: none;\n",
              "    fill: var(--fill-color);\n",
              "    height: 32px;\n",
              "    padding: 0;\n",
              "    width: 32px;\n",
              "  }\n",
              "\n",
              "  .colab-df-quickchart:hover {\n",
              "    background-color: var(--hover-bg-color);\n",
              "    box-shadow: 0 1px 2px rgba(60, 64, 67, 0.3), 0 1px 3px 1px rgba(60, 64, 67, 0.15);\n",
              "    fill: var(--button-hover-fill-color);\n",
              "  }\n",
              "\n",
              "  .colab-df-quickchart-complete:disabled,\n",
              "  .colab-df-quickchart-complete:disabled:hover {\n",
              "    background-color: var(--disabled-bg-color);\n",
              "    fill: var(--disabled-fill-color);\n",
              "    box-shadow: none;\n",
              "  }\n",
              "\n",
              "  .colab-df-spinner {\n",
              "    border: 2px solid var(--fill-color);\n",
              "    border-color: transparent;\n",
              "    border-bottom-color: var(--fill-color);\n",
              "    animation:\n",
              "      spin 1s steps(1) infinite;\n",
              "  }\n",
              "\n",
              "  @keyframes spin {\n",
              "    0% {\n",
              "      border-color: transparent;\n",
              "      border-bottom-color: var(--fill-color);\n",
              "      border-left-color: var(--fill-color);\n",
              "    }\n",
              "    20% {\n",
              "      border-color: transparent;\n",
              "      border-left-color: var(--fill-color);\n",
              "      border-top-color: var(--fill-color);\n",
              "    }\n",
              "    30% {\n",
              "      border-color: transparent;\n",
              "      border-left-color: var(--fill-color);\n",
              "      border-top-color: var(--fill-color);\n",
              "      border-right-color: var(--fill-color);\n",
              "    }\n",
              "    40% {\n",
              "      border-color: transparent;\n",
              "      border-right-color: var(--fill-color);\n",
              "      border-top-color: var(--fill-color);\n",
              "    }\n",
              "    60% {\n",
              "      border-color: transparent;\n",
              "      border-right-color: var(--fill-color);\n",
              "    }\n",
              "    80% {\n",
              "      border-color: transparent;\n",
              "      border-right-color: var(--fill-color);\n",
              "      border-bottom-color: var(--fill-color);\n",
              "    }\n",
              "    90% {\n",
              "      border-color: transparent;\n",
              "      border-bottom-color: var(--fill-color);\n",
              "    }\n",
              "  }\n",
              "</style>\n",
              "\n",
              "  <script>\n",
              "    async function quickchart(key) {\n",
              "      const quickchartButtonEl =\n",
              "        document.querySelector('#' + key + ' button');\n",
              "      quickchartButtonEl.disabled = true;  // To prevent multiple clicks.\n",
              "      quickchartButtonEl.classList.add('colab-df-spinner');\n",
              "      try {\n",
              "        const charts = await google.colab.kernel.invokeFunction(\n",
              "            'suggestCharts', [key], {});\n",
              "      } catch (error) {\n",
              "        console.error('Error during call to suggestCharts:', error);\n",
              "      }\n",
              "      quickchartButtonEl.classList.remove('colab-df-spinner');\n",
              "      quickchartButtonEl.classList.add('colab-df-quickchart-complete');\n",
              "    }\n",
              "    (() => {\n",
              "      let quickchartButtonEl =\n",
              "        document.querySelector('#df-9be0fc91-9140-48d8-9dbe-0ca8497d4846 button');\n",
              "      quickchartButtonEl.style.display =\n",
              "        google.colab.kernel.accessAllowed ? 'block' : 'none';\n",
              "    })();\n",
              "  </script>\n",
              "</div>\n",
              "\n",
              "  <div id=\"id_346c3740-b66f-413f-a18a-f427f359c824\">\n",
              "    <style>\n",
              "      .colab-df-generate {\n",
              "        background-color: #E8F0FE;\n",
              "        border: none;\n",
              "        border-radius: 50%;\n",
              "        cursor: pointer;\n",
              "        display: none;\n",
              "        fill: #1967D2;\n",
              "        height: 32px;\n",
              "        padding: 0 0 0 0;\n",
              "        width: 32px;\n",
              "      }\n",
              "\n",
              "      .colab-df-generate:hover {\n",
              "        background-color: #E2EBFA;\n",
              "        box-shadow: 0px 1px 2px rgba(60, 64, 67, 0.3), 0px 1px 3px 1px rgba(60, 64, 67, 0.15);\n",
              "        fill: #174EA6;\n",
              "      }\n",
              "\n",
              "      [theme=dark] .colab-df-generate {\n",
              "        background-color: #3B4455;\n",
              "        fill: #D2E3FC;\n",
              "      }\n",
              "\n",
              "      [theme=dark] .colab-df-generate:hover {\n",
              "        background-color: #434B5C;\n",
              "        box-shadow: 0px 1px 3px 1px rgba(0, 0, 0, 0.15);\n",
              "        filter: drop-shadow(0px 1px 2px rgba(0, 0, 0, 0.3));\n",
              "        fill: #FFFFFF;\n",
              "      }\n",
              "    </style>\n",
              "    <button class=\"colab-df-generate\" onclick=\"generateWithVariable('ef')\"\n",
              "            title=\"Generate code using this dataframe.\"\n",
              "            style=\"display:none;\">\n",
              "\n",
              "  <svg xmlns=\"http://www.w3.org/2000/svg\" height=\"24px\"viewBox=\"0 0 24 24\"\n",
              "       width=\"24px\">\n",
              "    <path d=\"M7,19H8.4L18.45,9,17,7.55,7,17.6ZM5,21V16.75L18.45,3.32a2,2,0,0,1,2.83,0l1.4,1.43a1.91,1.91,0,0,1,.58,1.4,1.91,1.91,0,0,1-.58,1.4L9.25,21ZM18.45,9,17,7.55Zm-12,3A5.31,5.31,0,0,0,4.9,8.1,5.31,5.31,0,0,0,1,6.5,5.31,5.31,0,0,0,4.9,4.9,5.31,5.31,0,0,0,6.5,1,5.31,5.31,0,0,0,8.1,4.9,5.31,5.31,0,0,0,12,6.5,5.46,5.46,0,0,0,6.5,12Z\"/>\n",
              "  </svg>\n",
              "    </button>\n",
              "    <script>\n",
              "      (() => {\n",
              "      const buttonEl =\n",
              "        document.querySelector('#id_346c3740-b66f-413f-a18a-f427f359c824 button.colab-df-generate');\n",
              "      buttonEl.style.display =\n",
              "        google.colab.kernel.accessAllowed ? 'block' : 'none';\n",
              "\n",
              "      buttonEl.onclick = () => {\n",
              "        google.colab.notebook.generateWithVariable('ef');\n",
              "      }\n",
              "      })();\n",
              "    </script>\n",
              "  </div>\n",
              "\n",
              "    </div>\n",
              "  </div>\n"
            ],
            "application/vnd.google.colaboratory.intrinsic+json": {
              "type": "dataframe",
              "variable_name": "ef",
              "summary": "{\n  \"name\": \"ef\",\n  \"rows\": 3,\n  \"fields\": [\n    {\n      \"column\": \"Initial\",\n      \"properties\": {\n        \"dtype\": \"string\",\n        \"num_unique_values\": 3,\n        \"samples\": [\n          \"Cat\",\n          \"Ate\",\n          \"Meat\"\n        ],\n        \"semantic_type\": \"\",\n        \"description\": \"\"\n      }\n    },\n    {\n      \"column\": \"Sex\",\n      \"properties\": {\n        \"dtype\": \"string\",\n        \"num_unique_values\": 2,\n        \"samples\": [\n          \"Female\",\n          \"Male\"\n        ],\n        \"semantic_type\": \"\",\n        \"description\": \"\"\n      }\n    },\n    {\n      \"column\": \"Age\",\n      \"properties\": {\n        \"dtype\": \"number\",\n        \"std\": 3,\n        \"min\": 3,\n        \"max\": 10,\n        \"num_unique_values\": 3,\n        \"samples\": [\n          9,\n          3\n        ],\n        \"semantic_type\": \"\",\n        \"description\": \"\"\n      }\n    }\n  ]\n}"
            }
          },
          "metadata": {},
          "execution_count": 32
        }
      ],
      "source": [
        "\n",
        "df = pd.DataFrame({'Initial': ['C','A','M'], 'Sex': ['M', 'F', 'F'], 'Age': [49, 39, 19]})\n",
        "#df = df[['Initial', 'Sex', 'Age']]\n",
        "df\n",
        "\n",
        "#Change 20\n",
        "#Made changes here to tuples\n",
        "ef = pd.DataFrame({'Initial': ['Cat','Ate','Meat'], 'Sex': ['Male', 'Female', 'Female'], 'Age': [9, 3, 10]})\n",
        "ef"
      ]
    },
    {
      "cell_type": "code",
      "execution_count": null,
      "metadata": {
        "id": "Q2xIJhQeyOl_",
        "outputId": "9cb8fb17-3d1a-4b4e-e075-a07e8e657978"
      },
      "outputs": [
        {
          "data": {
            "text/html": [
              "<div>\n",
              "<style scoped>\n",
              "    .dataframe tbody tr th:only-of-type {\n",
              "        vertical-align: middle;\n",
              "    }\n",
              "\n",
              "    .dataframe tbody tr th {\n",
              "        vertical-align: top;\n",
              "    }\n",
              "\n",
              "    .dataframe thead th {\n",
              "        text-align: right;\n",
              "    }\n",
              "</style>\n",
              "<table border=\"1\" class=\"dataframe\">\n",
              "  <thead>\n",
              "    <tr style=\"text-align: right;\">\n",
              "      <th></th>\n",
              "      <th>0</th>\n",
              "      <th>1</th>\n",
              "      <th>2</th>\n",
              "      <th>3</th>\n",
              "    </tr>\n",
              "  </thead>\n",
              "  <tbody>\n",
              "    <tr>\n",
              "      <th>0</th>\n",
              "      <td>p1</td>\n",
              "      <td>t1</td>\n",
              "      <td>1</td>\n",
              "      <td>2</td>\n",
              "    </tr>\n",
              "    <tr>\n",
              "      <th>1</th>\n",
              "      <td>p1</td>\n",
              "      <td>t2</td>\n",
              "      <td>3</td>\n",
              "      <td>4</td>\n",
              "    </tr>\n",
              "    <tr>\n",
              "      <th>2</th>\n",
              "      <td>p2</td>\n",
              "      <td>t1</td>\n",
              "      <td>5</td>\n",
              "      <td>6</td>\n",
              "    </tr>\n",
              "    <tr>\n",
              "      <th>3</th>\n",
              "      <td>p2</td>\n",
              "      <td>t2</td>\n",
              "      <td>7</td>\n",
              "      <td>8</td>\n",
              "    </tr>\n",
              "    <tr>\n",
              "      <th>4</th>\n",
              "      <td>p2</td>\n",
              "      <td>t3</td>\n",
              "      <td>2</td>\n",
              "      <td>8</td>\n",
              "    </tr>\n",
              "  </tbody>\n",
              "</table>\n",
              "</div>"
            ],
            "text/plain": [
              "    0   1  2  3\n",
              "0  p1  t1  1  2\n",
              "1  p1  t2  3  4\n",
              "2  p2  t1  5  6\n",
              "3  p2  t2  7  8\n",
              "4  p2  t3  2  8"
            ]
          },
          "execution_count": 26,
          "metadata": {},
          "output_type": "execute_result"
        }
      ],
      "source": [
        "data = [('p1', 't1', 1, 2),('p1', 't2', 3, 4),('p2', 't1', 5, 6),('p2', 't2', 7, 8),('p2', 't3', 2, 8)]\n",
        "\n",
        "df = pd.DataFrame(data)\n",
        "df"
      ]
    },
    {
      "cell_type": "markdown",
      "metadata": {
        "id": "COgV8LakyOmA"
      },
      "source": [
        "## 11.5 Alternate constructors"
      ]
    },
    {
      "cell_type": "markdown",
      "metadata": {
        "id": "CkubtOVuyOmA"
      },
      "source": [
        "### Dataframe.from_dict"
      ]
    },
    {
      "cell_type": "markdown",
      "metadata": {
        "id": "AL5jdDp5yOmA"
      },
      "source": [
        " - Dataframe.from_dict takes a dict of dictsor a dict of array like sequences and returns a Dataframe.\n",
        " - It operates like the dataframe constructor except for the orient parameter which is coulmn by default,but which can be set to index in order to use the dict keys as row labels."
      ]
    },
    {
      "cell_type": "code",
      "execution_count": null,
      "metadata": {
        "id": "DVFbuvKTyOmA",
        "outputId": "101fb8df-de57-4e7f-cfee-6caadcd78a6a"
      },
      "outputs": [
        {
          "data": {
            "text/html": [
              "<div>\n",
              "<style scoped>\n",
              "    .dataframe tbody tr th:only-of-type {\n",
              "        vertical-align: middle;\n",
              "    }\n",
              "\n",
              "    .dataframe tbody tr th {\n",
              "        vertical-align: top;\n",
              "    }\n",
              "\n",
              "    .dataframe thead th {\n",
              "        text-align: right;\n",
              "    }\n",
              "</style>\n",
              "<table border=\"1\" class=\"dataframe\">\n",
              "  <thead>\n",
              "    <tr style=\"text-align: right;\">\n",
              "      <th></th>\n",
              "      <th>e</th>\n",
              "      <th>d</th>\n",
              "      <th>f</th>\n",
              "      <th>a</th>\n",
              "      <th>c</th>\n",
              "      <th>b</th>\n",
              "      <th>i</th>\n",
              "      <th>h</th>\n",
              "      <th>g</th>\n",
              "    </tr>\n",
              "  </thead>\n",
              "  <tbody>\n",
              "    <tr>\n",
              "      <th>X</th>\n",
              "      <td>0</td>\n",
              "      <td>0</td>\n",
              "      <td>0</td>\n",
              "      <td>1</td>\n",
              "      <td>3</td>\n",
              "      <td>2</td>\n",
              "      <td>0</td>\n",
              "      <td>0</td>\n",
              "      <td>0</td>\n",
              "    </tr>\n",
              "    <tr>\n",
              "      <th>Y</th>\n",
              "      <td>5</td>\n",
              "      <td>4</td>\n",
              "      <td>6</td>\n",
              "      <td>0</td>\n",
              "      <td>0</td>\n",
              "      <td>0</td>\n",
              "      <td>0</td>\n",
              "      <td>0</td>\n",
              "      <td>0</td>\n",
              "    </tr>\n",
              "    <tr>\n",
              "      <th>Z</th>\n",
              "      <td>0</td>\n",
              "      <td>0</td>\n",
              "      <td>0</td>\n",
              "      <td>0</td>\n",
              "      <td>0</td>\n",
              "      <td>0</td>\n",
              "      <td>9</td>\n",
              "      <td>8</td>\n",
              "      <td>7</td>\n",
              "    </tr>\n",
              "  </tbody>\n",
              "</table>\n",
              "</div>"
            ],
            "text/plain": [
              "   e  d  f  a  c  b  i  h  g\n",
              "X  0  0  0  1  3  2  0  0  0\n",
              "Y  5  4  6  0  0  0  0  0  0\n",
              "Z  0  0  0  0  0  0  9  8  7"
            ]
          },
          "execution_count": 27,
          "metadata": {},
          "output_type": "execute_result"
        }
      ],
      "source": [
        "data = {\"X\": {'a': 1, 'b': 2, 'c': 3}, \"Y\": {'d': 4, 'e': 5, 'f': 6}, \"Z\": {'g': 7, 'h': 8, 'i': 9}}\n",
        "\n",
        "df = pd.DataFrame.from_dict(data, orient=\"index\").fillna(0).astype(int)\n",
        "df"
      ]
    },
    {
      "cell_type": "markdown",
      "metadata": {
        "id": "29O-e8MAyOmA"
      },
      "source": [
        "### Dataframe.from_records"
      ]
    },
    {
      "cell_type": "markdown",
      "metadata": {
        "id": "kuaLvfMeyOmA"
      },
      "source": [
        "- Dataframe.from_records take a list of tuples or an ndarray with structured dtype.\n",
        "- Works analogously to the normal dataframe constructor,except that index may be aspecific field of the structured dtype to use as the index.for example:"
      ]
    },
    {
      "cell_type": "code",
      "execution_count": null,
      "metadata": {
        "id": "eKq1iZcbyOmA",
        "outputId": "cb9f3f0c-2495-4399-b17a-929c8a332346"
      },
      "outputs": [
        {
          "data": {
            "text/html": [
              "<div>\n",
              "<style scoped>\n",
              "    .dataframe tbody tr th:only-of-type {\n",
              "        vertical-align: middle;\n",
              "    }\n",
              "\n",
              "    .dataframe tbody tr th {\n",
              "        vertical-align: top;\n",
              "    }\n",
              "\n",
              "    .dataframe thead th {\n",
              "        text-align: right;\n",
              "    }\n",
              "</style>\n",
              "<table border=\"1\" class=\"dataframe\">\n",
              "  <thead>\n",
              "    <tr style=\"text-align: right;\">\n",
              "      <th></th>\n",
              "      <th>account</th>\n",
              "      <th>Jan</th>\n",
              "      <th>Feb</th>\n",
              "      <th>Mar</th>\n",
              "    </tr>\n",
              "  </thead>\n",
              "  <tbody>\n",
              "    <tr>\n",
              "      <th>0</th>\n",
              "      <td>Jones LLC</td>\n",
              "      <td>150</td>\n",
              "      <td>200</td>\n",
              "      <td>50</td>\n",
              "    </tr>\n",
              "    <tr>\n",
              "      <th>1</th>\n",
              "      <td>Alpha Co</td>\n",
              "      <td>200</td>\n",
              "      <td>210</td>\n",
              "      <td>90</td>\n",
              "    </tr>\n",
              "    <tr>\n",
              "      <th>2</th>\n",
              "      <td>Blue Inc</td>\n",
              "      <td>140</td>\n",
              "      <td>215</td>\n",
              "      <td>95</td>\n",
              "    </tr>\n",
              "  </tbody>\n",
              "</table>\n",
              "</div>"
            ],
            "text/plain": [
              "     account  Jan  Feb  Mar\n",
              "0  Jones LLC  150  200   50\n",
              "1   Alpha Co  200  210   90\n",
              "2   Blue Inc  140  215   95"
            ]
          },
          "execution_count": 28,
          "metadata": {},
          "output_type": "execute_result"
        }
      ],
      "source": [
        "sales = [('Jones LLC', 150, 200, 50),\n",
        "     ('Alpha Co', 200, 210, 90),\n",
        "     ('Blue Inc', 140, 215, 95)]\n",
        "labels = ['account', 'Jan', 'Feb', 'Mar']\n",
        "df = pd.DataFrame.from_records(sales, columns=labels)\n",
        "df"
      ]
    },
    {
      "cell_type": "markdown",
      "metadata": {
        "id": "lR1PNWYxyOmA"
      },
      "source": [
        "### Dataframe.from_items"
      ]
    },
    {
      "cell_type": "markdown",
      "metadata": {
        "id": "2ms4-7WsyOmB"
      },
      "source": [
        "- Convert (key, value) pairs to DataFrame. The keys will be the axis index (usually the columns, but depends on the specified orientation). The values should be arrays or Series."
      ]
    },
    {
      "cell_type": "code",
      "execution_count": null,
      "metadata": {
        "id": "jPhS9Q84yOmB",
        "outputId": "deb27cb6-8a6c-42d6-f263-b705582a1332"
      },
      "outputs": [
        {
          "ename": "SyntaxError",
          "evalue": "invalid syntax (<ipython-input-30-4c478132b779>, line 2)",
          "output_type": "error",
          "traceback": [
            "\u001b[1;36m  File \u001b[1;32m\"<ipython-input-30-4c478132b779>\"\u001b[1;36m, line \u001b[1;32m2\u001b[0m\n\u001b[1;33m    \u001b[0m\n\u001b[1;37m    ^\u001b[0m\n\u001b[1;31mSyntaxError\u001b[0m\u001b[1;31m:\u001b[0m invalid syntax\n"
          ]
        }
      ],
      "source": [
        "df=pd.DataFrame.from_items([('A',[1,2,3]),('B',[4,5,6])]\n"
      ]
    },
    {
      "cell_type": "code",
      "execution_count": null,
      "metadata": {
        "id": "5JxvAPgSyOmB",
        "outputId": "b7434abe-c28a-4a7b-d64c-aea6fbb86f1d"
      },
      "outputs": [
        {
          "name": "stderr",
          "output_type": "stream",
          "text": [
            "D:\\python\\lib\\site-packages\\ipykernel_launcher.py:1: FutureWarning: from_items is deprecated. Please use DataFrame.from_dict(dict(items), ...) instead. DataFrame.from_dict(OrderedDict(items)) may be used to preserve the key order.\n",
            "  \"\"\"Entry point for launching an IPython kernel.\n"
          ]
        },
        {
          "data": {
            "text/html": [
              "<div>\n",
              "<style scoped>\n",
              "    .dataframe tbody tr th:only-of-type {\n",
              "        vertical-align: middle;\n",
              "    }\n",
              "\n",
              "    .dataframe tbody tr th {\n",
              "        vertical-align: top;\n",
              "    }\n",
              "\n",
              "    .dataframe thead th {\n",
              "        text-align: right;\n",
              "    }\n",
              "</style>\n",
              "<table border=\"1\" class=\"dataframe\">\n",
              "  <thead>\n",
              "    <tr style=\"text-align: right;\">\n",
              "      <th></th>\n",
              "      <th>A</th>\n",
              "      <th>B</th>\n",
              "    </tr>\n",
              "  </thead>\n",
              "  <tbody>\n",
              "    <tr>\n",
              "      <th>0</th>\n",
              "      <td>1</td>\n",
              "      <td>4</td>\n",
              "    </tr>\n",
              "    <tr>\n",
              "      <th>1</th>\n",
              "      <td>2</td>\n",
              "      <td>5</td>\n",
              "    </tr>\n",
              "    <tr>\n",
              "      <th>2</th>\n",
              "      <td>3</td>\n",
              "      <td>6</td>\n",
              "    </tr>\n",
              "  </tbody>\n",
              "</table>\n",
              "</div>"
            ],
            "text/plain": [
              "   A  B\n",
              "0  1  4\n",
              "1  2  5\n",
              "2  3  6"
            ]
          },
          "execution_count": 33,
          "metadata": {},
          "output_type": "execute_result"
        }
      ],
      "source": [
        "df=pd.DataFrame.from_items([('A',[1,2,3]),('B',[4,5,6])])\n",
        "df"
      ]
    },
    {
      "cell_type": "markdown",
      "metadata": {
        "id": "4kGxkCE9yOmB"
      },
      "source": [
        "## 11.6 Column selection,addition,deletion"
      ]
    },
    {
      "cell_type": "markdown",
      "metadata": {
        "id": "X34ojPsWyOmB"
      },
      "source": [
        " - You can treat a DataFrame semantically like a dict of like-indexed Series objects. Getting, setting, and deleting columns works with the same syntax as the analogous dict operations:"
      ]
    },
    {
      "cell_type": "code",
      "execution_count": null,
      "metadata": {
        "id": "7nTCBksXyOmB",
        "outputId": "85db8b7f-0e37-49f9-c5e8-559fd44606c8"
      },
      "outputs": [
        {
          "data": {
            "text/html": [
              "<div>\n",
              "<style scoped>\n",
              "    .dataframe tbody tr th:only-of-type {\n",
              "        vertical-align: middle;\n",
              "    }\n",
              "\n",
              "    .dataframe tbody tr th {\n",
              "        vertical-align: top;\n",
              "    }\n",
              "\n",
              "    .dataframe thead th {\n",
              "        text-align: right;\n",
              "    }\n",
              "</style>\n",
              "<table border=\"1\" class=\"dataframe\">\n",
              "  <thead>\n",
              "    <tr style=\"text-align: right;\">\n",
              "      <th></th>\n",
              "      <th>a</th>\n",
              "      <th>a</th>\n",
              "    </tr>\n",
              "  </thead>\n",
              "  <tbody>\n",
              "    <tr>\n",
              "      <th>0</th>\n",
              "      <td>1</td>\n",
              "      <td>2</td>\n",
              "    </tr>\n",
              "    <tr>\n",
              "      <th>1</th>\n",
              "      <td>3</td>\n",
              "      <td>4</td>\n",
              "    </tr>\n",
              "    <tr>\n",
              "      <th>2</th>\n",
              "      <td>5</td>\n",
              "      <td>6</td>\n",
              "    </tr>\n",
              "  </tbody>\n",
              "</table>\n",
              "</div>"
            ],
            "text/plain": [
              "   a  a\n",
              "0  1  2\n",
              "1  3  4\n",
              "2  5  6"
            ]
          },
          "execution_count": 34,
          "metadata": {},
          "output_type": "execute_result"
        }
      ],
      "source": [
        "df = pd.DataFrame([[1,2],[3,4],[5,6]], columns=['a','a']) # you can adress column by index\n",
        "df"
      ]
    },
    {
      "cell_type": "code",
      "execution_count": null,
      "metadata": {
        "id": "tKXcdb4RyOmB",
        "outputId": "82983205-075c-4ae9-b038-68133f7ede7e"
      },
      "outputs": [
        {
          "data": {
            "text/html": [
              "<div>\n",
              "<style scoped>\n",
              "    .dataframe tbody tr th:only-of-type {\n",
              "        vertical-align: middle;\n",
              "    }\n",
              "\n",
              "    .dataframe tbody tr th {\n",
              "        vertical-align: top;\n",
              "    }\n",
              "\n",
              "    .dataframe thead th {\n",
              "        text-align: right;\n",
              "    }\n",
              "</style>\n",
              "<table border=\"1\" class=\"dataframe\">\n",
              "  <thead>\n",
              "    <tr style=\"text-align: right;\">\n",
              "      <th></th>\n",
              "      <th>a</th>\n",
              "      <th>b</th>\n",
              "    </tr>\n",
              "  </thead>\n",
              "  <tbody>\n",
              "    <tr>\n",
              "      <th>0</th>\n",
              "      <td>1</td>\n",
              "      <td>2</td>\n",
              "    </tr>\n",
              "    <tr>\n",
              "      <th>1</th>\n",
              "      <td>3</td>\n",
              "      <td>4</td>\n",
              "    </tr>\n",
              "    <tr>\n",
              "      <th>2</th>\n",
              "      <td>5</td>\n",
              "      <td>6</td>\n",
              "    </tr>\n",
              "  </tbody>\n",
              "</table>\n",
              "</div>"
            ],
            "text/plain": [
              "   a  b\n",
              "0  1  2\n",
              "1  3  4\n",
              "2  5  6"
            ]
          },
          "execution_count": 35,
          "metadata": {},
          "output_type": "execute_result"
        }
      ],
      "source": [
        "df = pd.DataFrame([[1,2],[3,4],[5,6]], columns=['a','a'])\n",
        "df.columns = ['a','b']  # rename column\n",
        "df"
      ]
    },
    {
      "cell_type": "code",
      "execution_count": null,
      "metadata": {
        "id": "ZblCG1PByOmB",
        "outputId": "28cc8d32-e093-44de-ba9d-57c8dfbf0364"
      },
      "outputs": [
        {
          "data": {
            "text/html": [
              "<div>\n",
              "<style scoped>\n",
              "    .dataframe tbody tr th:only-of-type {\n",
              "        vertical-align: middle;\n",
              "    }\n",
              "\n",
              "    .dataframe tbody tr th {\n",
              "        vertical-align: top;\n",
              "    }\n",
              "\n",
              "    .dataframe thead th {\n",
              "        text-align: right;\n",
              "    }\n",
              "</style>\n",
              "<table border=\"1\" class=\"dataframe\">\n",
              "  <thead>\n",
              "    <tr style=\"text-align: right;\">\n",
              "      <th></th>\n",
              "      <th>a</th>\n",
              "    </tr>\n",
              "  </thead>\n",
              "  <tbody>\n",
              "    <tr>\n",
              "      <th>0</th>\n",
              "      <td>1</td>\n",
              "    </tr>\n",
              "    <tr>\n",
              "      <th>1</th>\n",
              "      <td>3</td>\n",
              "    </tr>\n",
              "    <tr>\n",
              "      <th>2</th>\n",
              "      <td>5</td>\n",
              "    </tr>\n",
              "  </tbody>\n",
              "</table>\n",
              "</div>"
            ],
            "text/plain": [
              "   a\n",
              "0  1\n",
              "1  3\n",
              "2  5"
            ]
          },
          "execution_count": 36,
          "metadata": {},
          "output_type": "execute_result"
        }
      ],
      "source": [
        "df = pd.DataFrame([[1,2],[3,4],[5,6]], columns=['a','b'])\n",
        "del df['b']   # delete column\n",
        "df"
      ]
    },
    {
      "cell_type": "code",
      "execution_count": null,
      "metadata": {
        "id": "t3hOjtIqyOmC",
        "outputId": "fc9f834d-e2b9-4b61-ea98-0c9e74c91a12"
      },
      "outputs": [
        {
          "data": {
            "text/html": [
              "<div>\n",
              "<style scoped>\n",
              "    .dataframe tbody tr th:only-of-type {\n",
              "        vertical-align: middle;\n",
              "    }\n",
              "\n",
              "    .dataframe tbody tr th {\n",
              "        vertical-align: top;\n",
              "    }\n",
              "\n",
              "    .dataframe thead th {\n",
              "        text-align: right;\n",
              "    }\n",
              "</style>\n",
              "<table border=\"1\" class=\"dataframe\">\n",
              "  <thead>\n",
              "    <tr style=\"text-align: right;\">\n",
              "      <th></th>\n",
              "      <th>a</th>\n",
              "      <th>b</th>\n",
              "      <th>c</th>\n",
              "    </tr>\n",
              "  </thead>\n",
              "  <tbody>\n",
              "    <tr>\n",
              "      <th>0</th>\n",
              "      <td>1</td>\n",
              "      <td>2</td>\n",
              "      <td>2</td>\n",
              "    </tr>\n",
              "    <tr>\n",
              "      <th>1</th>\n",
              "      <td>3</td>\n",
              "      <td>4</td>\n",
              "      <td>2</td>\n",
              "    </tr>\n",
              "    <tr>\n",
              "      <th>2</th>\n",
              "      <td>5</td>\n",
              "      <td>6</td>\n",
              "      <td>2</td>\n",
              "    </tr>\n",
              "  </tbody>\n",
              "</table>\n",
              "</div>"
            ],
            "text/plain": [
              "   a  b  c\n",
              "0  1  2  2\n",
              "1  3  4  2\n",
              "2  5  6  2"
            ]
          },
          "execution_count": 37,
          "metadata": {},
          "output_type": "execute_result"
        }
      ],
      "source": [
        "df = pd.DataFrame([[1,2],[3,4],[5,6]], columns=['a','b'])\n",
        "df['c']='2'   #add new column c and fill with 2\n",
        "df"
      ]
    },
    {
      "cell_type": "markdown",
      "metadata": {
        "id": "pk21yXydyOmC"
      },
      "source": [
        "### 11.7 Indexing / seletion"
      ]
    },
    {
      "cell_type": "markdown",
      "metadata": {
        "id": "aaVddQqFyOmC"
      },
      "source": [
        "- Row selection, for example, returns a Series whose index is the columns of the DataFrame:\n",
        "- Pandas now supports three types of Multi-axes indexing; the three types are:\n",
        "    - .loc()  (label based)\n",
        "    - .iloc()  (integer based)\n",
        "    - .ix()    (both label and integer based)\n",
        "- loc takes two single/list/range operator separated by ','. The first one indicates the row and the second one indicates columns.\n",
        "- iloc(): Pandas provide various methods in order to get purely integer based indexing. Like python and numpy, these are 0-based indexing.\n",
        "- ix(): Besides pure label based and integer based, Pandas provides a hybrid method for selections and subsetting the object using the .ix() operator."
      ]
    },
    {
      "cell_type": "markdown",
      "metadata": {
        "id": "ypNBeFFDyOmC"
      },
      "source": [
        "#### .loc()"
      ]
    },
    {
      "cell_type": "code",
      "execution_count": null,
      "metadata": {
        "id": "qIGTGettyOmC",
        "outputId": "1bb3c785-2145-4dd4-ae1d-d7892be4932c"
      },
      "outputs": [
        {
          "name": "stdout",
          "output_type": "stream",
          "text": [
            "a   -0.079142\n",
            "b   -1.058681\n",
            "c   -0.288618\n",
            "d    1.305291\n",
            "e   -0.142134\n",
            "f   -1.700362\n",
            "g    1.181158\n",
            "h    1.580676\n",
            "Name: A, dtype: float64\n"
          ]
        }
      ],
      "source": [
        "df = pd.DataFrame(np.random.randn(8, 4),\n",
        "index = ['a','b','c','d','e','f','g','h'], columns = ['A', 'B', 'C', 'D'])\n",
        "\n",
        "#select all rows for a specific column\n",
        "print(df.loc[:,'A'])"
      ]
    },
    {
      "cell_type": "code",
      "execution_count": null,
      "metadata": {
        "id": "D7YYjRx2yOmD"
      },
      "outputs": [],
      "source": [
        "import pandas as pd\n",
        "import numpy as np"
      ]
    },
    {
      "cell_type": "code",
      "execution_count": null,
      "metadata": {
        "id": "7fjCxkX8yOmD"
      },
      "outputs": [],
      "source": [
        "df = pd.DataFrame(np.random.randn(8, 4),\n",
        "index = ['a','b','c','d','e','f','g','h'], columns = ['A', 'B', 'C', 'D'])\n",
        "\n",
        "# Select all rows for multiple columns, say list[]\n",
        "print(df.loc[:,['A','C']])"
      ]
    },
    {
      "cell_type": "code",
      "execution_count": null,
      "metadata": {
        "id": "UvYUW23dyOmD",
        "outputId": "fbc4d381-5b2e-4c0b-9593-7c7ed2f74eb5"
      },
      "outputs": [
        {
          "name": "stdout",
          "output_type": "stream",
          "text": [
            "          A         B         C         D\n",
            "a  0.037907  1.015942 -0.267717  1.894588\n",
            "b  0.935796 -0.160951 -0.323399 -1.175658\n",
            "c -0.169679  1.233065 -2.498030 -0.035843\n",
            "d -0.347513 -1.111108  0.259755 -0.382133\n",
            "e  0.355051 -0.882159 -0.289581 -0.357559\n",
            "f -2.254955 -2.390495  0.307529  1.269759\n",
            "g  0.220503 -0.769530 -0.207382  0.005101\n",
            "h -1.264961  0.385471 -1.854020  0.627250\n"
          ]
        }
      ],
      "source": [
        "df = pd.DataFrame(np.random.randn(8, 4),\n",
        "index = ['a','b','c','d','e','f','g','h'], columns = ['A', 'B', 'C', 'D'])\n",
        "\n",
        "# Select range of rows for all columns\n",
        "print(df.loc['a':'h'])"
      ]
    },
    {
      "cell_type": "markdown",
      "metadata": {
        "id": "BiEEkZpNyOmE"
      },
      "source": [
        "#### .iloc()"
      ]
    },
    {
      "cell_type": "code",
      "execution_count": null,
      "metadata": {
        "id": "1cPhYOKcyOmE",
        "outputId": "48d77d91-101d-457d-cf8c-d4e110bfd954"
      },
      "outputs": [
        {
          "name": "stdout",
          "output_type": "stream",
          "text": [
            "          A         B         C         D\n",
            "0  0.885934  0.448261  0.584728  0.074509\n",
            "1  0.670950  1.247670 -1.150118  0.769580\n",
            "2  0.220727 -0.372701  0.232594  0.188892\n",
            "3 -0.141555  0.356357  0.119643  0.125009\n"
          ]
        }
      ],
      "source": [
        "df = pd.DataFrame(np.random.randn(8, 4), columns = ['A', 'B', 'C', 'D'])\n",
        "\n",
        "# select all rows for a specific column\n",
        "print(df.iloc[:4])"
      ]
    },
    {
      "cell_type": "code",
      "execution_count": null,
      "metadata": {
        "id": "sZ_dtzidyOmE",
        "outputId": "f4c54946-2012-44b5-913f-dc542e211f36"
      },
      "outputs": [
        {
          "name": "stdout",
          "output_type": "stream",
          "text": [
            "          C         D\n",
            "1 -0.600980  2.148089\n",
            "2  0.622637  0.357187\n",
            "3 -0.038853 -0.265465\n",
            "4  0.049228 -0.269615\n"
          ]
        }
      ],
      "source": [
        "df = pd.DataFrame(np.random.randn(8, 4), columns = ['A', 'B', 'C', 'D'])\n",
        "\n",
        "# Integer slicing\n",
        "\n",
        "print(df.iloc[1:5, 2:4])"
      ]
    },
    {
      "cell_type": "markdown",
      "metadata": {
        "id": "O_UkGrVgyOmF"
      },
      "source": [
        "#### .ix()"
      ]
    },
    {
      "cell_type": "code",
      "execution_count": null,
      "metadata": {
        "id": "F5EjLeeKyOmF",
        "outputId": "44dc3214-de76-41e6-b9ae-c6c5536ec8c8"
      },
      "outputs": [
        {
          "name": "stdout",
          "output_type": "stream",
          "text": [
            "          A         B         C         D\n",
            "0 -1.518915 -0.496256 -1.905349  0.325399\n",
            "1 -1.321410 -0.853576  1.436926 -1.057146\n",
            "2  0.092644  1.201601 -0.994798 -2.017163\n",
            "3 -0.045991 -2.069596  0.011527  0.426753\n",
            "4 -1.180576 -0.290050  0.678418 -1.086825\n"
          ]
        },
        {
          "name": "stderr",
          "output_type": "stream",
          "text": [
            "D:\\python\\lib\\site-packages\\ipykernel_launcher.py:4: DeprecationWarning: \n",
            ".ix is deprecated. Please use\n",
            ".loc for label based indexing or\n",
            ".iloc for positional indexing\n",
            "\n",
            "See the documentation here:\n",
            "http://pandas.pydata.org/pandas-docs/stable/indexing.html#ix-indexer-is-deprecated\n",
            "  after removing the cwd from sys.path.\n"
          ]
        }
      ],
      "source": [
        "df = pd.DataFrame(np.random.randn(8, 4), columns = ['A', 'B', 'C', 'D'])\n",
        "\n",
        "# Integer slicing\n",
        "print(df.ix[:4])"
      ]
    },
    {
      "cell_type": "code",
      "execution_count": null,
      "metadata": {
        "id": "ZoczAWFWyOmF",
        "outputId": "18a37a9b-d6d4-47a6-fd3e-77b1616688ae"
      },
      "outputs": [
        {
          "name": "stdout",
          "output_type": "stream",
          "text": [
            "0   -0.470479\n",
            "1    0.185088\n",
            "2   -1.624392\n",
            "3   -0.549156\n",
            "4    0.494236\n",
            "5    0.147245\n",
            "6   -1.273751\n",
            "7   -0.981244\n",
            "Name: A, dtype: float64\n"
          ]
        },
        {
          "name": "stderr",
          "output_type": "stream",
          "text": [
            "D:\\python\\lib\\site-packages\\ipykernel_launcher.py:3: DeprecationWarning: \n",
            ".ix is deprecated. Please use\n",
            ".loc for label based indexing or\n",
            ".iloc for positional indexing\n",
            "\n",
            "See the documentation here:\n",
            "http://pandas.pydata.org/pandas-docs/stable/indexing.html#ix-indexer-is-deprecated\n",
            "  This is separate from the ipykernel package so we can avoid doing imports until\n"
          ]
        }
      ],
      "source": [
        "df = pd.DataFrame(np.random.randn(8, 4), columns = ['A', 'B', 'C', 'D'])\n",
        "# Index slicing\n",
        "print(df.ix[:,'A'])"
      ]
    },
    {
      "cell_type": "markdown",
      "metadata": {
        "id": "oC4sXKiYyOmG"
      },
      "source": [
        "## 11.8 Data alignment and arithmetic"
      ]
    },
    {
      "cell_type": "markdown",
      "metadata": {
        "id": "1TCrIVTDyOmG"
      },
      "source": [
        " - Data alignment between DataFrame objects automatically align on both the columns and the index (row labels).\n",
        " - Again, the resulting object will have the union of the column and row labels."
      ]
    },
    {
      "cell_type": "code",
      "execution_count": null,
      "metadata": {
        "id": "8IAj1A0HyOmG",
        "outputId": "ee944479-7b42-4ace-95ef-c0dce4385d25"
      },
      "outputs": [
        {
          "data": {
            "text/html": [
              "<div>\n",
              "<style scoped>\n",
              "    .dataframe tbody tr th:only-of-type {\n",
              "        vertical-align: middle;\n",
              "    }\n",
              "\n",
              "    .dataframe tbody tr th {\n",
              "        vertical-align: top;\n",
              "    }\n",
              "\n",
              "    .dataframe thead th {\n",
              "        text-align: right;\n",
              "    }\n",
              "</style>\n",
              "<table border=\"1\" class=\"dataframe\">\n",
              "  <thead>\n",
              "    <tr style=\"text-align: right;\">\n",
              "      <th></th>\n",
              "      <th>A</th>\n",
              "      <th>B</th>\n",
              "      <th>C</th>\n",
              "      <th>D</th>\n",
              "    </tr>\n",
              "  </thead>\n",
              "  <tbody>\n",
              "    <tr>\n",
              "      <th>0</th>\n",
              "      <td>-0.117700</td>\n",
              "      <td>0.788149</td>\n",
              "      <td>0.776948</td>\n",
              "      <td>-1.159620</td>\n",
              "    </tr>\n",
              "    <tr>\n",
              "      <th>1</th>\n",
              "      <td>0.604453</td>\n",
              "      <td>-0.487806</td>\n",
              "      <td>1.356927</td>\n",
              "      <td>0.008448</td>\n",
              "    </tr>\n",
              "    <tr>\n",
              "      <th>2</th>\n",
              "      <td>-0.886517</td>\n",
              "      <td>0.044949</td>\n",
              "      <td>0.023818</td>\n",
              "      <td>2.174181</td>\n",
              "    </tr>\n",
              "    <tr>\n",
              "      <th>3</th>\n",
              "      <td>0.567215</td>\n",
              "      <td>0.902368</td>\n",
              "      <td>0.135462</td>\n",
              "      <td>-0.051920</td>\n",
              "    </tr>\n",
              "    <tr>\n",
              "      <th>4</th>\n",
              "      <td>-0.574904</td>\n",
              "      <td>0.555554</td>\n",
              "      <td>-0.094674</td>\n",
              "      <td>-0.124867</td>\n",
              "    </tr>\n",
              "    <tr>\n",
              "      <th>5</th>\n",
              "      <td>-0.087198</td>\n",
              "      <td>-0.785484</td>\n",
              "      <td>0.527486</td>\n",
              "      <td>0.293056</td>\n",
              "    </tr>\n",
              "    <tr>\n",
              "      <th>6</th>\n",
              "      <td>-0.112861</td>\n",
              "      <td>1.120604</td>\n",
              "      <td>-0.933670</td>\n",
              "      <td>-0.232908</td>\n",
              "    </tr>\n",
              "    <tr>\n",
              "      <th>7</th>\n",
              "      <td>0.336940</td>\n",
              "      <td>0.108904</td>\n",
              "      <td>-0.295332</td>\n",
              "      <td>-2.991587</td>\n",
              "    </tr>\n",
              "    <tr>\n",
              "      <th>8</th>\n",
              "      <td>-2.031898</td>\n",
              "      <td>1.290700</td>\n",
              "      <td>1.013805</td>\n",
              "      <td>0.334444</td>\n",
              "    </tr>\n",
              "    <tr>\n",
              "      <th>9</th>\n",
              "      <td>-0.021450</td>\n",
              "      <td>-2.232018</td>\n",
              "      <td>-1.355943</td>\n",
              "      <td>-0.144558</td>\n",
              "    </tr>\n",
              "  </tbody>\n",
              "</table>\n",
              "</div>"
            ],
            "text/plain": [
              "          A         B         C         D\n",
              "0 -0.117700  0.788149  0.776948 -1.159620\n",
              "1  0.604453 -0.487806  1.356927  0.008448\n",
              "2 -0.886517  0.044949  0.023818  2.174181\n",
              "3  0.567215  0.902368  0.135462 -0.051920\n",
              "4 -0.574904  0.555554 -0.094674 -0.124867\n",
              "5 -0.087198 -0.785484  0.527486  0.293056\n",
              "6 -0.112861  1.120604 -0.933670 -0.232908\n",
              "7  0.336940  0.108904 -0.295332 -2.991587\n",
              "8 -2.031898  1.290700  1.013805  0.334444\n",
              "9 -0.021450 -2.232018 -1.355943 -0.144558"
            ]
          },
          "execution_count": 44,
          "metadata": {},
          "output_type": "execute_result"
        }
      ],
      "source": [
        "df1 = pd.DataFrame(np.random.randn(10, 4), columns=['A', 'B', 'C', 'D'])\n",
        "df1"
      ]
    },
    {
      "cell_type": "code",
      "execution_count": null,
      "metadata": {
        "id": "vJd4RFzFyOmG",
        "outputId": "3d69a50d-9128-45b1-9359-a9f9501f6874"
      },
      "outputs": [
        {
          "data": {
            "text/html": [
              "<div>\n",
              "<style scoped>\n",
              "    .dataframe tbody tr th:only-of-type {\n",
              "        vertical-align: middle;\n",
              "    }\n",
              "\n",
              "    .dataframe tbody tr th {\n",
              "        vertical-align: top;\n",
              "    }\n",
              "\n",
              "    .dataframe thead th {\n",
              "        text-align: right;\n",
              "    }\n",
              "</style>\n",
              "<table border=\"1\" class=\"dataframe\">\n",
              "  <thead>\n",
              "    <tr style=\"text-align: right;\">\n",
              "      <th></th>\n",
              "      <th>A</th>\n",
              "      <th>B</th>\n",
              "      <th>C</th>\n",
              "    </tr>\n",
              "  </thead>\n",
              "  <tbody>\n",
              "    <tr>\n",
              "      <th>0</th>\n",
              "      <td>-1.676725</td>\n",
              "      <td>-1.169031</td>\n",
              "      <td>-0.619940</td>\n",
              "    </tr>\n",
              "    <tr>\n",
              "      <th>1</th>\n",
              "      <td>-0.710089</td>\n",
              "      <td>1.834536</td>\n",
              "      <td>-1.118924</td>\n",
              "    </tr>\n",
              "    <tr>\n",
              "      <th>2</th>\n",
              "      <td>-1.306510</td>\n",
              "      <td>-1.427194</td>\n",
              "      <td>1.891368</td>\n",
              "    </tr>\n",
              "    <tr>\n",
              "      <th>3</th>\n",
              "      <td>0.707823</td>\n",
              "      <td>1.638324</td>\n",
              "      <td>-1.007516</td>\n",
              "    </tr>\n",
              "    <tr>\n",
              "      <th>4</th>\n",
              "      <td>0.552295</td>\n",
              "      <td>-2.373425</td>\n",
              "      <td>-1.137115</td>\n",
              "    </tr>\n",
              "    <tr>\n",
              "      <th>5</th>\n",
              "      <td>0.080897</td>\n",
              "      <td>-0.467685</td>\n",
              "      <td>0.484710</td>\n",
              "    </tr>\n",
              "    <tr>\n",
              "      <th>6</th>\n",
              "      <td>-0.478739</td>\n",
              "      <td>-0.519066</td>\n",
              "      <td>0.058221</td>\n",
              "    </tr>\n",
              "  </tbody>\n",
              "</table>\n",
              "</div>"
            ],
            "text/plain": [
              "          A         B         C\n",
              "0 -1.676725 -1.169031 -0.619940\n",
              "1 -0.710089  1.834536 -1.118924\n",
              "2 -1.306510 -1.427194  1.891368\n",
              "3  0.707823  1.638324 -1.007516\n",
              "4  0.552295 -2.373425 -1.137115\n",
              "5  0.080897 -0.467685  0.484710\n",
              "6 -0.478739 -0.519066  0.058221"
            ]
          },
          "execution_count": 45,
          "metadata": {},
          "output_type": "execute_result"
        }
      ],
      "source": [
        "\n",
        "df2 = pd.DataFrame(np.random.randn(7, 3), columns=['A', 'B', 'C'])\n",
        "df2"
      ]
    },
    {
      "cell_type": "code",
      "execution_count": null,
      "metadata": {
        "id": "H4AR1qdbyOmG",
        "outputId": "720caa1d-0491-45ff-9cd9-bddaa930b29c"
      },
      "outputs": [
        {
          "data": {
            "text/html": [
              "<div>\n",
              "<style scoped>\n",
              "    .dataframe tbody tr th:only-of-type {\n",
              "        vertical-align: middle;\n",
              "    }\n",
              "\n",
              "    .dataframe tbody tr th {\n",
              "        vertical-align: top;\n",
              "    }\n",
              "\n",
              "    .dataframe thead th {\n",
              "        text-align: right;\n",
              "    }\n",
              "</style>\n",
              "<table border=\"1\" class=\"dataframe\">\n",
              "  <thead>\n",
              "    <tr style=\"text-align: right;\">\n",
              "      <th></th>\n",
              "      <th>A</th>\n",
              "      <th>B</th>\n",
              "      <th>C</th>\n",
              "      <th>D</th>\n",
              "    </tr>\n",
              "  </thead>\n",
              "  <tbody>\n",
              "    <tr>\n",
              "      <th>0</th>\n",
              "      <td>-1.794426</td>\n",
              "      <td>-0.380882</td>\n",
              "      <td>0.157008</td>\n",
              "      <td>NaN</td>\n",
              "    </tr>\n",
              "    <tr>\n",
              "      <th>1</th>\n",
              "      <td>-0.105636</td>\n",
              "      <td>1.346731</td>\n",
              "      <td>0.238002</td>\n",
              "      <td>NaN</td>\n",
              "    </tr>\n",
              "    <tr>\n",
              "      <th>2</th>\n",
              "      <td>-2.193027</td>\n",
              "      <td>-1.382245</td>\n",
              "      <td>1.915186</td>\n",
              "      <td>NaN</td>\n",
              "    </tr>\n",
              "    <tr>\n",
              "      <th>3</th>\n",
              "      <td>1.275037</td>\n",
              "      <td>2.540692</td>\n",
              "      <td>-0.872054</td>\n",
              "      <td>NaN</td>\n",
              "    </tr>\n",
              "    <tr>\n",
              "      <th>4</th>\n",
              "      <td>-0.022608</td>\n",
              "      <td>-1.817870</td>\n",
              "      <td>-1.231789</td>\n",
              "      <td>NaN</td>\n",
              "    </tr>\n",
              "    <tr>\n",
              "      <th>5</th>\n",
              "      <td>-0.006301</td>\n",
              "      <td>-1.253170</td>\n",
              "      <td>1.012196</td>\n",
              "      <td>NaN</td>\n",
              "    </tr>\n",
              "    <tr>\n",
              "      <th>6</th>\n",
              "      <td>-0.591600</td>\n",
              "      <td>0.601538</td>\n",
              "      <td>-0.875449</td>\n",
              "      <td>NaN</td>\n",
              "    </tr>\n",
              "    <tr>\n",
              "      <th>7</th>\n",
              "      <td>NaN</td>\n",
              "      <td>NaN</td>\n",
              "      <td>NaN</td>\n",
              "      <td>NaN</td>\n",
              "    </tr>\n",
              "    <tr>\n",
              "      <th>8</th>\n",
              "      <td>NaN</td>\n",
              "      <td>NaN</td>\n",
              "      <td>NaN</td>\n",
              "      <td>NaN</td>\n",
              "    </tr>\n",
              "    <tr>\n",
              "      <th>9</th>\n",
              "      <td>NaN</td>\n",
              "      <td>NaN</td>\n",
              "      <td>NaN</td>\n",
              "      <td>NaN</td>\n",
              "    </tr>\n",
              "  </tbody>\n",
              "</table>\n",
              "</div>"
            ],
            "text/plain": [
              "          A         B         C   D\n",
              "0 -1.794426 -0.380882  0.157008 NaN\n",
              "1 -0.105636  1.346731  0.238002 NaN\n",
              "2 -2.193027 -1.382245  1.915186 NaN\n",
              "3  1.275037  2.540692 -0.872054 NaN\n",
              "4 -0.022608 -1.817870 -1.231789 NaN\n",
              "5 -0.006301 -1.253170  1.012196 NaN\n",
              "6 -0.591600  0.601538 -0.875449 NaN\n",
              "7       NaN       NaN       NaN NaN\n",
              "8       NaN       NaN       NaN NaN\n",
              "9       NaN       NaN       NaN NaN"
            ]
          },
          "execution_count": 46,
          "metadata": {},
          "output_type": "execute_result"
        }
      ],
      "source": [
        "df1+df2"
      ]
    },
    {
      "cell_type": "markdown",
      "metadata": {
        "id": "z84yEseoyOmH"
      },
      "source": [
        "- When doing an operation between DataFrame and Series, the default behavior is to align the Series index on the DataFrame columns, thus broadcasting row-wise. For example:"
      ]
    },
    {
      "cell_type": "code",
      "execution_count": null,
      "metadata": {
        "id": "YVUldOLDyOmH",
        "outputId": "007cfd70-ca72-4677-860c-df9423cc87fb"
      },
      "outputs": [
        {
          "data": {
            "text/html": [
              "<div>\n",
              "<style scoped>\n",
              "    .dataframe tbody tr th:only-of-type {\n",
              "        vertical-align: middle;\n",
              "    }\n",
              "\n",
              "    .dataframe tbody tr th {\n",
              "        vertical-align: top;\n",
              "    }\n",
              "\n",
              "    .dataframe thead th {\n",
              "        text-align: right;\n",
              "    }\n",
              "</style>\n",
              "<table border=\"1\" class=\"dataframe\">\n",
              "  <thead>\n",
              "    <tr style=\"text-align: right;\">\n",
              "      <th></th>\n",
              "      <th>A</th>\n",
              "      <th>B</th>\n",
              "      <th>C</th>\n",
              "      <th>D</th>\n",
              "    </tr>\n",
              "  </thead>\n",
              "  <tbody>\n",
              "    <tr>\n",
              "      <th>0</th>\n",
              "      <td>0.000000</td>\n",
              "      <td>0.000000</td>\n",
              "      <td>0.000000</td>\n",
              "      <td>0.000000</td>\n",
              "    </tr>\n",
              "    <tr>\n",
              "      <th>1</th>\n",
              "      <td>0.722153</td>\n",
              "      <td>-1.275955</td>\n",
              "      <td>0.579979</td>\n",
              "      <td>1.168068</td>\n",
              "    </tr>\n",
              "    <tr>\n",
              "      <th>2</th>\n",
              "      <td>-0.768817</td>\n",
              "      <td>-0.743200</td>\n",
              "      <td>-0.753129</td>\n",
              "      <td>3.333801</td>\n",
              "    </tr>\n",
              "    <tr>\n",
              "      <th>3</th>\n",
              "      <td>0.684915</td>\n",
              "      <td>0.114219</td>\n",
              "      <td>-0.641486</td>\n",
              "      <td>1.107699</td>\n",
              "    </tr>\n",
              "    <tr>\n",
              "      <th>4</th>\n",
              "      <td>-0.457204</td>\n",
              "      <td>-0.232595</td>\n",
              "      <td>-0.871622</td>\n",
              "      <td>1.034753</td>\n",
              "    </tr>\n",
              "    <tr>\n",
              "      <th>5</th>\n",
              "      <td>0.030502</td>\n",
              "      <td>-1.573633</td>\n",
              "      <td>-0.249461</td>\n",
              "      <td>1.452675</td>\n",
              "    </tr>\n",
              "    <tr>\n",
              "      <th>6</th>\n",
              "      <td>0.004839</td>\n",
              "      <td>0.332455</td>\n",
              "      <td>-1.710617</td>\n",
              "      <td>0.926712</td>\n",
              "    </tr>\n",
              "    <tr>\n",
              "      <th>7</th>\n",
              "      <td>0.454640</td>\n",
              "      <td>-0.679244</td>\n",
              "      <td>-1.072280</td>\n",
              "      <td>-1.831968</td>\n",
              "    </tr>\n",
              "    <tr>\n",
              "      <th>8</th>\n",
              "      <td>-1.914198</td>\n",
              "      <td>0.502551</td>\n",
              "      <td>0.236857</td>\n",
              "      <td>1.494064</td>\n",
              "    </tr>\n",
              "    <tr>\n",
              "      <th>9</th>\n",
              "      <td>0.096250</td>\n",
              "      <td>-3.020167</td>\n",
              "      <td>-2.132890</td>\n",
              "      <td>1.015062</td>\n",
              "    </tr>\n",
              "  </tbody>\n",
              "</table>\n",
              "</div>"
            ],
            "text/plain": [
              "          A         B         C         D\n",
              "0  0.000000  0.000000  0.000000  0.000000\n",
              "1  0.722153 -1.275955  0.579979  1.168068\n",
              "2 -0.768817 -0.743200 -0.753129  3.333801\n",
              "3  0.684915  0.114219 -0.641486  1.107699\n",
              "4 -0.457204 -0.232595 -0.871622  1.034753\n",
              "5  0.030502 -1.573633 -0.249461  1.452675\n",
              "6  0.004839  0.332455 -1.710617  0.926712\n",
              "7  0.454640 -0.679244 -1.072280 -1.831968\n",
              "8 -1.914198  0.502551  0.236857  1.494064\n",
              "9  0.096250 -3.020167 -2.132890  1.015062"
            ]
          },
          "execution_count": 47,
          "metadata": {},
          "output_type": "execute_result"
        }
      ],
      "source": [
        "df1 - df1.iloc[0]"
      ]
    },
    {
      "cell_type": "markdown",
      "metadata": {
        "id": "DZDx8VO6yOmH"
      },
      "source": [
        " - In the special case of working with time series data, and the DataFrame index also contains dates, the broadcasting will be column-wise:"
      ]
    },
    {
      "cell_type": "code",
      "execution_count": null,
      "metadata": {
        "id": "nOgQMCdyyOmH",
        "outputId": "2bb7b5f6-b38a-4296-c00f-2b06396a9e0d"
      },
      "outputs": [
        {
          "data": {
            "text/html": [
              "<div>\n",
              "<style scoped>\n",
              "    .dataframe tbody tr th:only-of-type {\n",
              "        vertical-align: middle;\n",
              "    }\n",
              "\n",
              "    .dataframe tbody tr th {\n",
              "        vertical-align: top;\n",
              "    }\n",
              "\n",
              "    .dataframe thead th {\n",
              "        text-align: right;\n",
              "    }\n",
              "</style>\n",
              "<table border=\"1\" class=\"dataframe\">\n",
              "  <thead>\n",
              "    <tr style=\"text-align: right;\">\n",
              "      <th></th>\n",
              "      <th>A</th>\n",
              "      <th>B</th>\n",
              "      <th>C</th>\n",
              "    </tr>\n",
              "  </thead>\n",
              "  <tbody>\n",
              "    <tr>\n",
              "      <th>2000-01-01</th>\n",
              "      <td>0.146072</td>\n",
              "      <td>0.966939</td>\n",
              "      <td>-0.483866</td>\n",
              "    </tr>\n",
              "    <tr>\n",
              "      <th>2000-01-02</th>\n",
              "      <td>-0.301393</td>\n",
              "      <td>-0.235599</td>\n",
              "      <td>-0.291576</td>\n",
              "    </tr>\n",
              "    <tr>\n",
              "      <th>2000-01-03</th>\n",
              "      <td>0.763213</td>\n",
              "      <td>0.086616</td>\n",
              "      <td>0.607997</td>\n",
              "    </tr>\n",
              "    <tr>\n",
              "      <th>2000-01-04</th>\n",
              "      <td>-0.164010</td>\n",
              "      <td>-0.422640</td>\n",
              "      <td>-0.338078</td>\n",
              "    </tr>\n",
              "    <tr>\n",
              "      <th>2000-01-05</th>\n",
              "      <td>1.414892</td>\n",
              "      <td>-1.146976</td>\n",
              "      <td>0.355322</td>\n",
              "    </tr>\n",
              "    <tr>\n",
              "      <th>2000-01-06</th>\n",
              "      <td>0.448006</td>\n",
              "      <td>0.826819</td>\n",
              "      <td>-0.320917</td>\n",
              "    </tr>\n",
              "    <tr>\n",
              "      <th>2000-01-07</th>\n",
              "      <td>-1.299619</td>\n",
              "      <td>-1.786811</td>\n",
              "      <td>-2.381874</td>\n",
              "    </tr>\n",
              "    <tr>\n",
              "      <th>2000-01-08</th>\n",
              "      <td>0.172000</td>\n",
              "      <td>0.008814</td>\n",
              "      <td>0.241587</td>\n",
              "    </tr>\n",
              "  </tbody>\n",
              "</table>\n",
              "</div>"
            ],
            "text/plain": [
              "                   A         B         C\n",
              "2000-01-01  0.146072  0.966939 -0.483866\n",
              "2000-01-02 -0.301393 -0.235599 -0.291576\n",
              "2000-01-03  0.763213  0.086616  0.607997\n",
              "2000-01-04 -0.164010 -0.422640 -0.338078\n",
              "2000-01-05  1.414892 -1.146976  0.355322\n",
              "2000-01-06  0.448006  0.826819 -0.320917\n",
              "2000-01-07 -1.299619 -1.786811 -2.381874\n",
              "2000-01-08  0.172000  0.008814  0.241587"
            ]
          },
          "execution_count": 48,
          "metadata": {},
          "output_type": "execute_result"
        }
      ],
      "source": [
        "index = pd.date_range('1/1/2000', periods=8)\n",
        "df = pd.DataFrame(np.random.randn(8, 3), index=index, columns=list('ABC'))\n",
        "df"
      ]
    },
    {
      "cell_type": "code",
      "execution_count": null,
      "metadata": {
        "id": "kZCFFOz-yOmI",
        "outputId": "b8ccd2d1-c220-490e-d234-3edc96fd38d0"
      },
      "outputs": [
        {
          "data": {
            "text/html": [
              "<div>\n",
              "<style scoped>\n",
              "    .dataframe tbody tr th:only-of-type {\n",
              "        vertical-align: middle;\n",
              "    }\n",
              "\n",
              "    .dataframe tbody tr th {\n",
              "        vertical-align: top;\n",
              "    }\n",
              "\n",
              "    .dataframe thead th {\n",
              "        text-align: right;\n",
              "    }\n",
              "</style>\n",
              "<table border=\"1\" class=\"dataframe\">\n",
              "  <thead>\n",
              "    <tr style=\"text-align: right;\">\n",
              "      <th></th>\n",
              "      <th>A</th>\n",
              "      <th>B</th>\n",
              "      <th>C</th>\n",
              "      <th>D</th>\n",
              "    </tr>\n",
              "  </thead>\n",
              "  <tbody>\n",
              "    <tr>\n",
              "      <th>0</th>\n",
              "      <td>0.822999</td>\n",
              "      <td>9.881489</td>\n",
              "      <td>9.769477</td>\n",
              "      <td>-9.596196</td>\n",
              "    </tr>\n",
              "    <tr>\n",
              "      <th>1</th>\n",
              "      <td>8.044527</td>\n",
              "      <td>-2.878058</td>\n",
              "      <td>15.569265</td>\n",
              "      <td>2.084481</td>\n",
              "    </tr>\n",
              "    <tr>\n",
              "      <th>2</th>\n",
              "      <td>-6.865170</td>\n",
              "      <td>2.449487</td>\n",
              "      <td>2.238184</td>\n",
              "      <td>23.741809</td>\n",
              "    </tr>\n",
              "    <tr>\n",
              "      <th>3</th>\n",
              "      <td>7.672145</td>\n",
              "      <td>11.023680</td>\n",
              "      <td>3.354615</td>\n",
              "      <td>1.480795</td>\n",
              "    </tr>\n",
              "    <tr>\n",
              "      <th>4</th>\n",
              "      <td>-3.749036</td>\n",
              "      <td>7.555543</td>\n",
              "      <td>1.053260</td>\n",
              "      <td>0.751332</td>\n",
              "    </tr>\n",
              "    <tr>\n",
              "      <th>5</th>\n",
              "      <td>1.128016</td>\n",
              "      <td>-5.854845</td>\n",
              "      <td>7.274863</td>\n",
              "      <td>4.930555</td>\n",
              "    </tr>\n",
              "    <tr>\n",
              "      <th>6</th>\n",
              "      <td>0.871390</td>\n",
              "      <td>13.206037</td>\n",
              "      <td>-7.336697</td>\n",
              "      <td>-0.329076</td>\n",
              "    </tr>\n",
              "    <tr>\n",
              "      <th>7</th>\n",
              "      <td>5.369398</td>\n",
              "      <td>3.089045</td>\n",
              "      <td>-0.953321</td>\n",
              "      <td>-27.915874</td>\n",
              "    </tr>\n",
              "    <tr>\n",
              "      <th>8</th>\n",
              "      <td>-18.318978</td>\n",
              "      <td>14.906997</td>\n",
              "      <td>12.138047</td>\n",
              "      <td>5.344443</td>\n",
              "    </tr>\n",
              "    <tr>\n",
              "      <th>9</th>\n",
              "      <td>1.785502</td>\n",
              "      <td>-20.320177</td>\n",
              "      <td>-11.559426</td>\n",
              "      <td>0.554421</td>\n",
              "    </tr>\n",
              "  </tbody>\n",
              "</table>\n",
              "</div>"
            ],
            "text/plain": [
              "           A          B          C          D\n",
              "0   0.822999   9.881489   9.769477  -9.596196\n",
              "1   8.044527  -2.878058  15.569265   2.084481\n",
              "2  -6.865170   2.449487   2.238184  23.741809\n",
              "3   7.672145  11.023680   3.354615   1.480795\n",
              "4  -3.749036   7.555543   1.053260   0.751332\n",
              "5   1.128016  -5.854845   7.274863   4.930555\n",
              "6   0.871390  13.206037  -7.336697  -0.329076\n",
              "7   5.369398   3.089045  -0.953321 -27.915874\n",
              "8 -18.318978  14.906997  12.138047   5.344443\n",
              "9   1.785502 -20.320177 -11.559426   0.554421"
            ]
          },
          "execution_count": 49,
          "metadata": {},
          "output_type": "execute_result"
        }
      ],
      "source": [
        "df1* 10 + 2"
      ]
    },
    {
      "cell_type": "code",
      "execution_count": null,
      "metadata": {
        "id": "C7pwByw1yOmI"
      },
      "outputs": [],
      "source": [
        "1/df1"
      ]
    },
    {
      "cell_type": "code",
      "execution_count": null,
      "metadata": {
        "id": "E2kKs3AWyOmI"
      },
      "outputs": [],
      "source": [
        "df1**5"
      ]
    },
    {
      "cell_type": "markdown",
      "metadata": {
        "id": "rEuTHoK_yOmI"
      },
      "source": [
        "- Boolean operators work as well:"
      ]
    },
    {
      "cell_type": "code",
      "execution_count": null,
      "metadata": {
        "id": "en_O5wR7yOmJ",
        "outputId": "723e02fb-a76d-4eed-d02f-2a774b56d562"
      },
      "outputs": [
        {
          "data": {
            "text/html": [
              "<div>\n",
              "<style scoped>\n",
              "    .dataframe tbody tr th:only-of-type {\n",
              "        vertical-align: middle;\n",
              "    }\n",
              "\n",
              "    .dataframe tbody tr th {\n",
              "        vertical-align: top;\n",
              "    }\n",
              "\n",
              "    .dataframe thead th {\n",
              "        text-align: right;\n",
              "    }\n",
              "</style>\n",
              "<table border=\"1\" class=\"dataframe\">\n",
              "  <thead>\n",
              "    <tr style=\"text-align: right;\">\n",
              "      <th></th>\n",
              "      <th>a</th>\n",
              "      <th>b</th>\n",
              "    </tr>\n",
              "  </thead>\n",
              "  <tbody>\n",
              "    <tr>\n",
              "      <th>0</th>\n",
              "      <td>True</td>\n",
              "      <td>False</td>\n",
              "    </tr>\n",
              "    <tr>\n",
              "      <th>1</th>\n",
              "      <td>False</td>\n",
              "      <td>True</td>\n",
              "    </tr>\n",
              "    <tr>\n",
              "      <th>2</th>\n",
              "      <td>True</td>\n",
              "      <td>True</td>\n",
              "    </tr>\n",
              "  </tbody>\n",
              "</table>\n",
              "</div>"
            ],
            "text/plain": [
              "       a      b\n",
              "0   True  False\n",
              "1  False   True\n",
              "2   True   True"
            ]
          },
          "execution_count": 50,
          "metadata": {},
          "output_type": "execute_result"
        }
      ],
      "source": [
        "df1 = pd.DataFrame({'a' : [1, 0, 1], 'b' : [0, 1, 1] }, dtype=bool)\n",
        "df1"
      ]
    },
    {
      "cell_type": "code",
      "execution_count": null,
      "metadata": {
        "id": "IMPs8bQwyOmJ",
        "outputId": "73c59382-d61d-4769-e41f-7ee34dcf368d"
      },
      "outputs": [
        {
          "data": {
            "text/html": [
              "<div>\n",
              "<style scoped>\n",
              "    .dataframe tbody tr th:only-of-type {\n",
              "        vertical-align: middle;\n",
              "    }\n",
              "\n",
              "    .dataframe tbody tr th {\n",
              "        vertical-align: top;\n",
              "    }\n",
              "\n",
              "    .dataframe thead th {\n",
              "        text-align: right;\n",
              "    }\n",
              "</style>\n",
              "<table border=\"1\" class=\"dataframe\">\n",
              "  <thead>\n",
              "    <tr style=\"text-align: right;\">\n",
              "      <th></th>\n",
              "      <th>a</th>\n",
              "      <th>b</th>\n",
              "    </tr>\n",
              "  </thead>\n",
              "  <tbody>\n",
              "    <tr>\n",
              "      <th>0</th>\n",
              "      <td>False</td>\n",
              "      <td>True</td>\n",
              "    </tr>\n",
              "    <tr>\n",
              "      <th>1</th>\n",
              "      <td>True</td>\n",
              "      <td>True</td>\n",
              "    </tr>\n",
              "    <tr>\n",
              "      <th>2</th>\n",
              "      <td>True</td>\n",
              "      <td>False</td>\n",
              "    </tr>\n",
              "  </tbody>\n",
              "</table>\n",
              "</div>"
            ],
            "text/plain": [
              "       a      b\n",
              "0  False   True\n",
              "1   True   True\n",
              "2   True  False"
            ]
          },
          "execution_count": 51,
          "metadata": {},
          "output_type": "execute_result"
        }
      ],
      "source": [
        "df2 = pd.DataFrame({'a' : [0, 1, 1], 'b' : [1, 1, 0] }, dtype=bool)\n",
        "df2"
      ]
    },
    {
      "cell_type": "code",
      "execution_count": null,
      "metadata": {
        "id": "kx6CeG7LyOmJ",
        "outputId": "54b09edd-7bff-40ac-bdb0-67b28bce3472"
      },
      "outputs": [
        {
          "data": {
            "text/html": [
              "<div>\n",
              "<style scoped>\n",
              "    .dataframe tbody tr th:only-of-type {\n",
              "        vertical-align: middle;\n",
              "    }\n",
              "\n",
              "    .dataframe tbody tr th {\n",
              "        vertical-align: top;\n",
              "    }\n",
              "\n",
              "    .dataframe thead th {\n",
              "        text-align: right;\n",
              "    }\n",
              "</style>\n",
              "<table border=\"1\" class=\"dataframe\">\n",
              "  <thead>\n",
              "    <tr style=\"text-align: right;\">\n",
              "      <th></th>\n",
              "      <th>a</th>\n",
              "      <th>b</th>\n",
              "    </tr>\n",
              "  </thead>\n",
              "  <tbody>\n",
              "    <tr>\n",
              "      <th>0</th>\n",
              "      <td>False</td>\n",
              "      <td>False</td>\n",
              "    </tr>\n",
              "    <tr>\n",
              "      <th>1</th>\n",
              "      <td>False</td>\n",
              "      <td>True</td>\n",
              "    </tr>\n",
              "    <tr>\n",
              "      <th>2</th>\n",
              "      <td>True</td>\n",
              "      <td>False</td>\n",
              "    </tr>\n",
              "  </tbody>\n",
              "</table>\n",
              "</div>"
            ],
            "text/plain": [
              "       a      b\n",
              "0  False  False\n",
              "1  False   True\n",
              "2   True  False"
            ]
          },
          "execution_count": 52,
          "metadata": {},
          "output_type": "execute_result"
        }
      ],
      "source": [
        "df1&df2"
      ]
    },
    {
      "cell_type": "code",
      "execution_count": null,
      "metadata": {
        "id": "H4U31oCSyOmJ",
        "outputId": "c9578c09-0141-47f6-dd8d-1e1213eac388"
      },
      "outputs": [
        {
          "data": {
            "text/html": [
              "<div>\n",
              "<style scoped>\n",
              "    .dataframe tbody tr th:only-of-type {\n",
              "        vertical-align: middle;\n",
              "    }\n",
              "\n",
              "    .dataframe tbody tr th {\n",
              "        vertical-align: top;\n",
              "    }\n",
              "\n",
              "    .dataframe thead th {\n",
              "        text-align: right;\n",
              "    }\n",
              "</style>\n",
              "<table border=\"1\" class=\"dataframe\">\n",
              "  <thead>\n",
              "    <tr style=\"text-align: right;\">\n",
              "      <th></th>\n",
              "      <th>a</th>\n",
              "      <th>b</th>\n",
              "    </tr>\n",
              "  </thead>\n",
              "  <tbody>\n",
              "    <tr>\n",
              "      <th>0</th>\n",
              "      <td>True</td>\n",
              "      <td>True</td>\n",
              "    </tr>\n",
              "    <tr>\n",
              "      <th>1</th>\n",
              "      <td>True</td>\n",
              "      <td>True</td>\n",
              "    </tr>\n",
              "    <tr>\n",
              "      <th>2</th>\n",
              "      <td>True</td>\n",
              "      <td>True</td>\n",
              "    </tr>\n",
              "  </tbody>\n",
              "</table>\n",
              "</div>"
            ],
            "text/plain": [
              "      a     b\n",
              "0  True  True\n",
              "1  True  True\n",
              "2  True  True"
            ]
          },
          "execution_count": 53,
          "metadata": {},
          "output_type": "execute_result"
        }
      ],
      "source": [
        "df1 | df2"
      ]
    },
    {
      "cell_type": "code",
      "execution_count": null,
      "metadata": {
        "id": "8pEhZA-byOmJ",
        "outputId": "39080d09-2543-4248-b564-9ca714a848ee"
      },
      "outputs": [
        {
          "data": {
            "text/html": [
              "<div>\n",
              "<style scoped>\n",
              "    .dataframe tbody tr th:only-of-type {\n",
              "        vertical-align: middle;\n",
              "    }\n",
              "\n",
              "    .dataframe tbody tr th {\n",
              "        vertical-align: top;\n",
              "    }\n",
              "\n",
              "    .dataframe thead th {\n",
              "        text-align: right;\n",
              "    }\n",
              "</style>\n",
              "<table border=\"1\" class=\"dataframe\">\n",
              "  <thead>\n",
              "    <tr style=\"text-align: right;\">\n",
              "      <th></th>\n",
              "      <th>a</th>\n",
              "      <th>b</th>\n",
              "    </tr>\n",
              "  </thead>\n",
              "  <tbody>\n",
              "    <tr>\n",
              "      <th>0</th>\n",
              "      <td>True</td>\n",
              "      <td>True</td>\n",
              "    </tr>\n",
              "    <tr>\n",
              "      <th>1</th>\n",
              "      <td>True</td>\n",
              "      <td>False</td>\n",
              "    </tr>\n",
              "    <tr>\n",
              "      <th>2</th>\n",
              "      <td>False</td>\n",
              "      <td>True</td>\n",
              "    </tr>\n",
              "  </tbody>\n",
              "</table>\n",
              "</div>"
            ],
            "text/plain": [
              "       a      b\n",
              "0   True   True\n",
              "1   True  False\n",
              "2  False   True"
            ]
          },
          "execution_count": 54,
          "metadata": {},
          "output_type": "execute_result"
        }
      ],
      "source": [
        "df1^df2"
      ]
    },
    {
      "cell_type": "code",
      "execution_count": null,
      "metadata": {
        "id": "Bx-strBXyOmK",
        "outputId": "d2ddf5f8-7091-4abf-8c19-202977559cf7"
      },
      "outputs": [
        {
          "data": {
            "text/html": [
              "<div>\n",
              "<style scoped>\n",
              "    .dataframe tbody tr th:only-of-type {\n",
              "        vertical-align: middle;\n",
              "    }\n",
              "\n",
              "    .dataframe tbody tr th {\n",
              "        vertical-align: top;\n",
              "    }\n",
              "\n",
              "    .dataframe thead th {\n",
              "        text-align: right;\n",
              "    }\n",
              "</style>\n",
              "<table border=\"1\" class=\"dataframe\">\n",
              "  <thead>\n",
              "    <tr style=\"text-align: right;\">\n",
              "      <th></th>\n",
              "      <th>a</th>\n",
              "      <th>b</th>\n",
              "    </tr>\n",
              "  </thead>\n",
              "  <tbody>\n",
              "    <tr>\n",
              "      <th>0</th>\n",
              "      <td>False</td>\n",
              "      <td>True</td>\n",
              "    </tr>\n",
              "    <tr>\n",
              "      <th>1</th>\n",
              "      <td>True</td>\n",
              "      <td>False</td>\n",
              "    </tr>\n",
              "    <tr>\n",
              "      <th>2</th>\n",
              "      <td>False</td>\n",
              "      <td>False</td>\n",
              "    </tr>\n",
              "  </tbody>\n",
              "</table>\n",
              "</div>"
            ],
            "text/plain": [
              "       a      b\n",
              "0  False   True\n",
              "1   True  False\n",
              "2  False  False"
            ]
          },
          "execution_count": 55,
          "metadata": {},
          "output_type": "execute_result"
        }
      ],
      "source": [
        "-df1"
      ]
    },
    {
      "cell_type": "markdown",
      "metadata": {
        "id": "btLO3wScyOmK"
      },
      "source": [
        "## 11.9 transposing"
      ]
    },
    {
      "cell_type": "markdown",
      "metadata": {
        "id": "z_d58lm0yOmK"
      },
      "source": [
        "- To transpose, access the T attribute (also the transpose function), similar to an ndarray:"
      ]
    },
    {
      "cell_type": "code",
      "execution_count": null,
      "metadata": {
        "id": "JvDT_HYNyOmK"
      },
      "outputs": [],
      "source": [
        "# only show the first 4 rows\n",
        "df[:4].T"
      ]
    }
  ],
  "metadata": {
    "kernelspec": {
      "display_name": "Python 3",
      "language": "python",
      "name": "python3"
    },
    "language_info": {
      "codemirror_mode": {
        "name": "ipython",
        "version": 3
      },
      "file_extension": ".py",
      "mimetype": "text/x-python",
      "name": "python",
      "nbconvert_exporter": "python",
      "pygments_lexer": "ipython3",
      "version": "3.8.3"
    },
    "colab": {
      "provenance": [],
      "include_colab_link": true
    }
  },
  "nbformat": 4,
  "nbformat_minor": 0
}